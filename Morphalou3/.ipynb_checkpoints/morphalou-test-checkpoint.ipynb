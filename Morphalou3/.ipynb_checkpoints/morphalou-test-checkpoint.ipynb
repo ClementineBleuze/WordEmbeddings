{
 "cells": [
  {
   "cell_type": "code",
   "execution_count": 2,
   "id": "bb9f16a2",
   "metadata": {},
   "outputs": [],
   "source": [
    "FILE_PATHS = [\"data/adjective_Morphalou3_LMF.xml\",\n",
    "              \"data/adverb_Morphalou3_LMF.xml\",\n",
    "             \"data/commonNoun_Morphalou3_LMF.xml\",\n",
    "             \"data/grammaticalWords_Morphalou3_LMF.xml\",\n",
    "             \"data/interjection_Morphalou3_LMF.xml\",\n",
    "             \"data/noCategory_Morphalou3_LMF.xml\",\n",
    "             \"data/verb_Morphalou3_LMF.xml\"]\n",
    "\n",
    "SOUPS = []"
   ]
  },
  {
   "cell_type": "code",
   "execution_count": null,
   "id": "0127fe86",
   "metadata": {},
   "outputs": [
    {
     "name": "stdout",
     "output_type": "stream",
     "text": [
      "data/adjective_Morphalou3_LMF.xml: parsed.\n",
      "data/adverb_Morphalou3_LMF.xml: parsed.\n"
     ]
    }
   ],
   "source": [
    "from bs4 import BeautifulSoup\n",
    "\n",
    "for file_path in FILE_PATHS:\n",
    "    with open(file_path, \"rb\") as f:\n",
    "        file = f.read()\n",
    "        soup = BeautifulSoup(file, \"xml\")\n",
    "        SOUPS.append(soup)\n",
    "        print(f\"{file_path}: parsed.\")\n",
    "\n",
    "print(SOUPS)"
   ]
  },
  {
   "cell_type": "code",
   "execution_count": 116,
   "id": "f910f4d4",
   "metadata": {},
   "outputs": [],
   "source": [
    "import re\n",
    "def find_forms(soup_list, form):\n",
    "    entries = []\n",
    "    pattern = f\"^(.*-)?{form}(_.*)?$\"\n",
    "    \n",
    "    # We will look for the form in all the Morphalou3 categories\n",
    "    for soup_obj in soup_list:\n",
    "        entries.extend(soup_obj.find_all(id = re.compile(pattern)))\n",
    "        \n",
    "    return entries\n",
    "\n",
    "def give_grammatical_info(entries):\n",
    "    \n",
    "    d = {}\n",
    "    \n",
    "    for entry in entries:\n",
    "        children = entry.formSet.children\n",
    "        \n",
    "        # Lemma\n",
    "        next(children)\n",
    "        lemmatizedForm = next(children)\n",
    "        \n",
    "        # Inflected forms\n",
    "        generator_not_empty = True\n",
    "        inflected_forms_dict = {}\n",
    "\n",
    "        while(generator_not_empty):\n",
    "            \n",
    "            next(children)\n",
    "            \n",
    "            try:\n",
    "                inflected_form = next(children)\n",
    "                attributes = inflected_form.children\n",
    "                \n",
    "                attributes_dict = {}\n",
    "                for attribute in attributes:\n",
    "                    if attribute.name:\n",
    "                        if attribute.name != \"originatingEntry\" and attribute.name != \"orthography\":\n",
    "                            attributes_dict[attribute.name] = attribute.text\n",
    "                            \n",
    "                inflected_forms_dict[inflected_form.orthography.text] = attributes_dict\n",
    "                \n",
    "            except Exception:\n",
    "                generator_not_empty = False\n",
    "                \n",
    "        # Final dictionnary\n",
    "        d[entry['id']] = {\"lemma\": {\"orthography\": lemmatizedForm.orthography.text,\n",
    "                            \"grammaticalCategory\": lemmatizedForm.grammaticalCategory.text}\n",
    "                    , \"inflected_forms\": inflected_forms_dict }\n",
    "\n",
    "        \n",
    "    return d"
   ]
  },
  {
   "cell_type": "code",
   "execution_count": null,
   "id": "84d4368e",
   "metadata": {},
   "outputs": [],
   "source": []
  }
 ],
 "metadata": {
  "kernelspec": {
   "display_name": "Python 3 (ipykernel)",
   "language": "python",
   "name": "python3"
  },
  "language_info": {
   "codemirror_mode": {
    "name": "ipython",
    "version": 3
   },
   "file_extension": ".py",
   "mimetype": "text/x-python",
   "name": "python",
   "nbconvert_exporter": "python",
   "pygments_lexer": "ipython3",
   "version": "3.9.2"
  }
 },
 "nbformat": 4,
 "nbformat_minor": 5
}
