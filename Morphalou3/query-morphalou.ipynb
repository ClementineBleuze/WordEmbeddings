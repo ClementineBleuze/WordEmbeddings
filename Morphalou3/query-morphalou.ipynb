{
 "cells": [
  {
   "attachments": {},
   "cell_type": "markdown",
   "metadata": {},
   "source": [
    "# Query Morphalou on a given form  \n",
    "In this Notebook : demonstration of how queries on Morphalou data can be conducted. Code can be found in file [morphalouq.py](morphalouq.py)."
   ]
  },
  {
   "cell_type": "code",
   "execution_count": 1,
   "metadata": {},
   "outputs": [],
   "source": [
    "from morphalouq import queryf"
   ]
  },
  {
   "cell_type": "code",
   "execution_count": 3,
   "metadata": {},
   "outputs": [
    {
     "name": "stdout",
     "output_type": "stream",
     "text": [
      "-'mais' is the inflected plural form of common Noun 'mai'.\n",
      "-'mais' is an adverb.\n",
      "-'mais' is an interjection.\n",
      "-'mais' is a grammatical word with following attributes:\n",
      "    -grammatical category: conjunction\n",
      "    -grammatical subcategory: coordination\n"
     ]
    }
   ],
   "source": [
    "queryf(\"mais\")"
   ]
  },
  {
   "cell_type": "code",
   "execution_count": 4,
   "metadata": {},
   "outputs": [
    {
     "name": "stdout",
     "output_type": "stream",
     "text": [
      "-''lit'' is a common Noun with following attributes:\n",
      "    -gender: masculine\n",
      "    -singular form: lit\n",
      "    -plural form: lits\n",
      "-'lit' is an inflected form of verb 'lire' with attributes ('singular', 'indicative', 'present', 'thirdPerson', '').\n"
     ]
    }
   ],
   "source": [
    "queryf(\"lit\")"
   ]
  },
  {
   "cell_type": "code",
   "execution_count": 5,
   "metadata": {},
   "outputs": [
    {
     "name": "stdout",
     "output_type": "stream",
     "text": [
      "-'gentilles' is the inflected plural form of common Noun 'gentille'.\n",
      "-'gentilles' is an inflected form of adjective 'gentil' with attributes ('plural', 'feminine').\n"
     ]
    }
   ],
   "source": [
    "queryf(\"gentilles\")"
   ]
  }
 ],
 "metadata": {
  "kernelspec": {
   "display_name": "Python 3",
   "language": "python",
   "name": "python3"
  },
  "language_info": {
   "codemirror_mode": {
    "name": "ipython",
    "version": 3
   },
   "file_extension": ".py",
   "mimetype": "text/x-python",
   "name": "python",
   "nbconvert_exporter": "python",
   "pygments_lexer": "ipython3",
   "version": "3.10.10"
  },
  "orig_nbformat": 4,
  "vscode": {
   "interpreter": {
    "hash": "3de7a084b318d7b8bf96005cb5db4da14a27f60df0465391ef48a4c336f03bfe"
   }
  }
 },
 "nbformat": 4,
 "nbformat_minor": 2
}
