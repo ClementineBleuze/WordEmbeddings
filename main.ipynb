{
 "cells": [
  {
   "cell_type": "markdown",
   "metadata": {},
   "source": [
    "# Supervised Project : Word Embeddings  \n",
    "The current Notebook aims at providing an overview of the advancement of the project: previous work done, current work and next planned steps."
   ]
  },
  {
   "cell_type": "markdown",
   "metadata": {},
   "source": [
    "## Work done  \n",
    "\n",
    "- **extraction from Morphalou3 data**: the original .zip archive can be found [here](Morphalou3/data/Morphalou3_formatLMF.zip) as well as .csv documents of extracted [nouns](Morphalou3/all_nouns.csv) and [verbs](Morphalou3/all_verbs.csv).  \n",
    "- **allow queries on Morphalou3 forms**:  see [Notebook](Morphalou3/query-morphalou.ipynb).\n",
    "- **get FlauBERT embeddings for a given form**:  \n",
    "- **first experiments in vector comparison**:  \n",
    "\n",
    "- **UPDATE on the set of Frequent Words** used for vector comparison experiments: the files to be used are now [top_frequent_pure_NOUN_FlauBERT.csv](FlauBERT/Most-Frequent-Words/top_frequent_pure_NOUN_FlauBERT.csv) and [top_frequent_pure_VERB_FlauBERT.csv](FlauBERT/Most-Frequent-Words/top_frequent_pure_VERB_FlauBERT.csv). \n",
    "> They contain VERB and NOUN forms that have FlauBERT embeddings, and are not ambiguous wrt POS."
   ]
  },
  {
   "cell_type": "markdown",
   "metadata": {},
   "source": [
    "## Current work  \n",
    "--> **STEP 1**: see if ONE dimension of WE can encode ONE grammatical feature. For one isoldated feature, we try to isolate dimensions that seem to encode it. This is made by computing average values of WE among classes (e.g)\n",
    "- [Kate] feature = POS [notebook](https://github.com/ClementineBleuze/WordEmbeddings/blob/main/FlauBERT/pos_correlation_experiment_v1.ipynb)\n",
    "\n",
    "> Dimensions [159, 480, 462] are likely to encode to PoS information about Verbs and Nouns (possibly adjectives). Other potential candidates: '29', '192', '198', '282', '310', '341', '401'. Some of information that could be identified in this dimensions:\n",
    ">- Dimension 192, 310, 341 appears to have some information about verb tenses\n",
    ">- Dimension 250 is likely to encode Verbs vs Adjective PoS information\n",
    ">- Dimension 198 could potentially encode lexical/semantical information since words with the same root have close values\n",
    ">- Dimension 310 can potentially encode plurality of nouns\n",
    "\n",
    "> Dimensions [89, 158] are likely to include the information about verbs and adjectives.\n",
    "\n",
    "> Dimension [155] can be used to distinguish adjectives and nouns.\n",
    "\n",
    "> Dimensions [470, 130] are likely to include the information about adverbs and adjectives.\n",
    "\n",
    "> Dimension [480] doesn't seem to differentiate adjectives and nouns and can be used to distinguish adjectives and verbs as well as nouns and verbs.\n",
    "\n",
    "> Dimension [362] can be used to distinguish nouns and adverbs.\n",
    "\n",
    "- [Chun] feature = number in NOUNS  \n",
    ">  Dimensions [310, 54, 288, 278, 172] seem very likely that encode informations about Singular and Plural Nouns, see here the [notebook](FlauBERT/retriving_nomber_noun_information.ipynb) for explanation  \n",
    "\n",
    "- [Clémentine] feature = gender in NOUNS  \n",
    "> See [Notebook](FlauBERT/retrieving-gender-information.ipynb). Top 10 Candidate dimensions for encoding Gender in NOUNS are:  \n",
    "> [371, 100, 403, 195, 202, 117, 306, 293, 168, 245]\n"
   ]
  },
  {
   "cell_type": "markdown",
   "metadata": {},
   "source": [
    "## Future work  \n",
    "- The study of number and gender could be extended to ADJECTIVES, allowing us to test if the dimensions isolated for NOUNS are the same as for ADJECTIVES. This could reinforce / refute our hypothesis that these dimensions encode number and gender."
   ]
  }
 ],
 "metadata": {
  "kernelspec": {
   "display_name": "Python 3",
   "language": "python",
   "name": "python3"
  },
  "language_info": {
   "codemirror_mode": {
    "name": "ipython",
    "version": 3
   },
   "file_extension": ".py",
   "mimetype": "text/x-python",
   "name": "python",
   "nbconvert_exporter": "python",
   "pygments_lexer": "ipython3",
   "version": "3.8.5"
  },
  "vscode": {
   "interpreter": {
    "hash": "3de7a084b318d7b8bf96005cb5db4da14a27f60df0465391ef48a4c336f03bfe"
   }
  }
 },
 "nbformat": 4,
 "nbformat_minor": 2
}
