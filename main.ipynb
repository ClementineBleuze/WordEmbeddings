{
 "cells": [
  {
   "attachments": {},
   "cell_type": "markdown",
   "metadata": {},
   "source": [
    "# Supervised Project : Word Embeddings  \n",
    "The current Notebook aims at providing an overview of the advancement of the project: previous work done, current work and next planned steps."
   ]
  },
  {
   "attachments": {},
   "cell_type": "markdown",
   "metadata": {},
   "source": [
    "## Work done  \n",
    "\n",
    "- **extraction from Morphalou3 data**: the original .zip archive can be found [here](Morphalou3/data/Morphalou3_formatLMF.zip) as well as .csv documents of extracted [nouns](Morphalou3/all_nouns.csv) and [verbs](Morphalou3/all_verbs.csv).  \n",
    "- **allow queries on Morphalou3 forms**:  \n",
    "- **get FlauBERT embeddings for a given form**:  \n",
    "- **first experiments in vector comparison**:  \n",
    "\n",
    "- **UPDATE on the set of Frequent Words** used for vector comparison experiments: the files to be used are now [top_frequent_pure_NOUN_FlauBERT.csv](FlauBERT/Most-Frequent-Words/top_frequent_pure_NOUN_FlauBERT.csv) and [top_frequent_pure_VERB_FlauBERT.csv](FlauBERT/Most-Frequent-Words/top_frequent_pure_VERB_FlauBERT.csv). \n",
    "> They contain VERB and NOUN forms that have FlauBERT embeddings, and are not ambiguous wrt POS."
   ]
  },
  {
   "attachments": {},
   "cell_type": "markdown",
   "metadata": {},
   "source": [
    "## Current work  \n",
    "--> **STEP 1**: see if ONE dimension of WE can encode ONE grammatical feature. For one isoldated feature, we try to isolate dimensions that seem to encode it. This is made by computing average values of WE among classes (e.g)\n",
    "- [Kate] feature = POS  \n",
    "- [Chun] feature = number in NOUNS  \n",
    ">  Dimensions [310, 54, 288, 278, 172] seem very likely that encode informations about Singular and Plural Nouns, see here the [notebook](FlauBERT/retriving_nomber_noun_information.ipynb) for explanation  \n",
    "\n",
    "- [Clémentine] feature = gender in NOUNS  \n",
    "> See [Notebook](FlauBERT/retrieving-gender-information.ipynb). Top 10 Candidate dimensions for encoding Gender in NOUNS are:  \n",
    "> 477, 403, 100, 472, 507, 195, 117, 318, 150, 80\n"
   ]
  },
  {
   "attachments": {},
   "cell_type": "markdown",
   "metadata": {},
   "source": [
    "## Future work  \n",
    "- The study of number and gender could be extended to ADJECTIVES, allowing us to test if the dimensions isolated for NOUNS are the same as for ADJECTIVES. This could reinforce / refute our hypothesis that these dimensions encode number and gender."
   ]
  }
 ],
 "metadata": {
  "kernelspec": {
   "display_name": "Python 3",
   "language": "python",
   "name": "python3"
  },
  "language_info": {
   "name": "python",
   "version": "3.10.10"
  },
  "orig_nbformat": 4,
  "vscode": {
   "interpreter": {
    "hash": "3de7a084b318d7b8bf96005cb5db4da14a27f60df0465391ef48a4c336f03bfe"
   }
  }
 },
 "nbformat": 4,
 "nbformat_minor": 2
}
