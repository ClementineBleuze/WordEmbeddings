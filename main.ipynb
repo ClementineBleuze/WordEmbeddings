{
 "cells": [
  {
   "attachments": {},
   "cell_type": "markdown",
   "metadata": {},
   "source": [
    "# Supervised Project : Word Embeddings  \n",
    "The current Notebook aims at providing an overview of the advancement of the project: previous work done, current work and next planned steps."
   ]
  },
  {
   "attachments": {},
   "cell_type": "markdown",
   "metadata": {},
   "source": [
    "## Work done  \n",
    "\n",
    "- **extraction from Morphalou3 data**: the original .zip archive can be found [here](Morphalou3/data/Morphalou3_formatLMF.zip) as well as .csv documents of extracted [nouns](Morphalou3/all_nouns.csv) and [verbs](Morphalou3/all_verbs.csv).  \n",
    "- **allow queries on Morphalou3 forms**:  \n",
    "- **get FlauBERT embeddings for a given form**:"
   ]
  },
  {
   "attachments": {},
   "cell_type": "markdown",
   "metadata": {},
   "source": [
    "## Current work  \n",
    "--> **STEP 1**: see if ONE dimension of WE can encode ONE grammatical feature. For one isoldated feature, we try to isolate dimensions that seem to encode it. This is made by computing average values of WE among classes (e.g)\n",
    "- [Kate] feature = POS  \n",
    "- [Chun] feature = number in NOUNS  \n",
    "- [Clémentine] feature = gender in NOUNS  \n",
    "> See [Notebook](FlauBERT/retrieving-gender-information.ipynb). Top 10 Candidate dimensions for encoding Gender in NOUNS are:  \n",
    "> [477, 507, 100, 403, 371, 195, 117, 175, 316, 472]"
   ]
  },
  {
   "attachments": {},
   "cell_type": "markdown",
   "metadata": {},
   "source": [
    "## Future work"
   ]
  }
 ],
 "metadata": {
  "kernelspec": {
   "display_name": "Python 3",
   "language": "python",
   "name": "python3"
  },
  "language_info": {
   "name": "python",
   "version": "3.10.10"
  },
  "orig_nbformat": 4,
  "vscode": {
   "interpreter": {
    "hash": "3de7a084b318d7b8bf96005cb5db4da14a27f60df0465391ef48a4c336f03bfe"
   }
  }
 },
 "nbformat": 4,
 "nbformat_minor": 2
}
