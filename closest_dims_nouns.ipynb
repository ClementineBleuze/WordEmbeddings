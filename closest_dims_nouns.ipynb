{
 "cells": [
  {
   "cell_type": "code",
   "execution_count": 118,
   "metadata": {},
   "outputs": [],
   "source": [
    "import torch\n",
    "from transformers import FlaubertModel, FlaubertTokenizer\n",
    "\n",
    "import numpy as np\n",
    "import pandas as pd \n",
    "\n",
    "# Choose among ['flaubert/flaubert_small_cased', 'flaubert/flaubert_base_uncased', \n",
    "#               'flaubert/flaubert_base_cased', 'flaubert/flaubert_large_cased']\n",
    "modelname = 'flaubert/flaubert_small_cased' "
   ]
  },
  {
   "cell_type": "code",
   "execution_count": 5,
   "metadata": {},
   "outputs": [
    {
     "data": {
      "application/vnd.jupyter.widget-view+json": {
       "model_id": "671c2745ff51446aac2c0491b949b81a",
       "version_major": 2,
       "version_minor": 0
      },
      "text/plain": [
       "Downloading config.json:   0%|          | 0.00/1.46k [00:00<?, ?B/s]"
      ]
     },
     "metadata": {},
     "output_type": "display_data"
    },
    {
     "data": {
      "application/vnd.jupyter.widget-view+json": {
       "model_id": "ad97f6c4c1294427b49d0e5e3264f11f",
       "version_major": 2,
       "version_minor": 0
      },
      "text/plain": [
       "Downloading pytorch_model.bin:   0%|          | 0.00/208M [00:00<?, ?B/s]"
      ]
     },
     "metadata": {},
     "output_type": "display_data"
    },
    {
     "name": "stderr",
     "output_type": "stream",
     "text": [
      "Some weights of the model checkpoint at flaubert/flaubert_small_cased were not used when initializing FlaubertModel: ['pred_layer.proj.weight', 'pred_layer.proj.bias']\n",
      "- This IS expected if you are initializing FlaubertModel from the checkpoint of a model trained on another task or with another architecture (e.g. initializing a BertForSequenceClassification model from a BertForPreTraining model).\n",
      "- This IS NOT expected if you are initializing FlaubertModel from the checkpoint of a model that you expect to be exactly identical (initializing a BertForSequenceClassification model from a BertForSequenceClassification model).\n"
     ]
    },
    {
     "data": {
      "application/vnd.jupyter.widget-view+json": {
       "model_id": "553c97bd7d8b4935934b0e0bd5c3de98",
       "version_major": 2,
       "version_minor": 0
      },
      "text/plain": [
       "Downloading vocab.json:   0%|          | 0.00/1.49M [00:00<?, ?B/s]"
      ]
     },
     "metadata": {},
     "output_type": "display_data"
    },
    {
     "data": {
      "application/vnd.jupyter.widget-view+json": {
       "model_id": "9ef3f77920e944b99248e471e28383e4",
       "version_major": 2,
       "version_minor": 0
      },
      "text/plain": [
       "Downloading merges.txt:   0%|          | 0.00/875k [00:00<?, ?B/s]"
      ]
     },
     "metadata": {},
     "output_type": "display_data"
    },
    {
     "data": {
      "application/vnd.jupyter.widget-view+json": {
       "model_id": "771e1f7ed3494ed0a666b113670d97e2",
       "version_major": 2,
       "version_minor": 0
      },
      "text/plain": [
       "Downloading tokenizer_config.json:   0%|          | 0.00/28.0 [00:00<?, ?B/s]"
      ]
     },
     "metadata": {},
     "output_type": "display_data"
    }
   ],
   "source": [
    "# Load pretrained model and tokenizer\n",
    "flaubert, log = FlaubertModel.from_pretrained(modelname, output_loading_info=True)\n",
    "flaubert_tokenizer = FlaubertTokenizer.from_pretrained(modelname, do_lowercase=False)"
   ]
  },
  {
   "cell_type": "markdown",
   "metadata": {},
   "source": [
    "## Function to retrieve WE"
   ]
  },
  {
   "cell_type": "code",
   "execution_count": 107,
   "metadata": {},
   "outputs": [],
   "source": [
    "def get_we(model, tokenizer, word):\n",
    "    # The tokenizer creates a vector of the following format [0, <word_id>, 1] where 0 is the code for [CLS] \n",
    "    # and 1 is the code for the string end. That's why we're only taking the second element of array for getting its \n",
    "    # embedding.\n",
    "    word_id = flaubert_tokenizer.encode(word)[1]\n",
    "    \n",
    "    # We create a Tensor since the model works with this format\n",
    "    token_ids = torch.tensor([[word_id]])\n",
    "    \n",
    "    # Get the last layer of the model with the final embedding. `last_layer` is a Tensor\n",
    "    last_layer = flaubert(token_ids)[0]\n",
    "    \n",
    "    # Convert the Tensor to a numpy array. Since Tensor is 3-Dimensional, we need to flatten the result as well\n",
    "    we = last_layer.detach().numpy().flatten()\n",
    "    \n",
    "    return we"
   ]
  },
  {
   "cell_type": "markdown",
   "metadata": {},
   "source": [
    "## Compare WE of word pairs"
   ]
  },
  {
   "cell_type": "markdown",
   "metadata": {},
   "source": [
    "We will create 2 pairs of embedding for singular and plural nouns: one pair is using inflection with `-s`, another pair uses the inflection pair `au`->`aux`"
   ]
  },
  {
   "cell_type": "code",
   "execution_count": 145,
   "metadata": {},
   "outputs": [],
   "source": [
    "pomme_we = get_we(flaubert, flaubert_tokenizer, 'pomme')\n",
    "pommes_we = get_we(flaubert, flaubert_tokenizer, 'pommes')\n",
    "\n",
    "oiseau_we = get_we(flaubert, flaubert_tokenizer, 'oiseau')\n",
    "oiseaux_we = get_we(flaubert, flaubert_tokenizer, 'oiseaux')"
   ]
  },
  {
   "cell_type": "markdown",
   "metadata": {},
   "source": [
    "We will now store the WE in a Pandas DataFrame."
   ]
  },
  {
   "cell_type": "code",
   "execution_count": 146,
   "metadata": {},
   "outputs": [
    {
     "data": {
      "text/html": [
       "<div>\n",
       "<style scoped>\n",
       "    .dataframe tbody tr th:only-of-type {\n",
       "        vertical-align: middle;\n",
       "    }\n",
       "\n",
       "    .dataframe tbody tr th {\n",
       "        vertical-align: top;\n",
       "    }\n",
       "\n",
       "    .dataframe thead th {\n",
       "        text-align: right;\n",
       "    }\n",
       "</style>\n",
       "<table border=\"1\" class=\"dataframe\">\n",
       "  <thead>\n",
       "    <tr style=\"text-align: right;\">\n",
       "      <th></th>\n",
       "      <th>dim</th>\n",
       "      <th>pomme</th>\n",
       "      <th>pommes</th>\n",
       "      <th>oiseau</th>\n",
       "      <th>oiseaux</th>\n",
       "    </tr>\n",
       "  </thead>\n",
       "  <tbody>\n",
       "    <tr>\n",
       "      <th>0</th>\n",
       "      <td>0</td>\n",
       "      <td>-0.789583</td>\n",
       "      <td>2.870298</td>\n",
       "      <td>8.625494</td>\n",
       "      <td>4.051764</td>\n",
       "    </tr>\n",
       "    <tr>\n",
       "      <th>1</th>\n",
       "      <td>1</td>\n",
       "      <td>0.173690</td>\n",
       "      <td>2.873069</td>\n",
       "      <td>2.405889</td>\n",
       "      <td>-0.354589</td>\n",
       "    </tr>\n",
       "    <tr>\n",
       "      <th>2</th>\n",
       "      <td>2</td>\n",
       "      <td>2.101598</td>\n",
       "      <td>-0.319898</td>\n",
       "      <td>-1.324769</td>\n",
       "      <td>-2.143469</td>\n",
       "    </tr>\n",
       "    <tr>\n",
       "      <th>3</th>\n",
       "      <td>3</td>\n",
       "      <td>1.687404</td>\n",
       "      <td>3.300869</td>\n",
       "      <td>0.028446</td>\n",
       "      <td>-1.254749</td>\n",
       "    </tr>\n",
       "    <tr>\n",
       "      <th>4</th>\n",
       "      <td>4</td>\n",
       "      <td>1.308981</td>\n",
       "      <td>2.539638</td>\n",
       "      <td>3.579112</td>\n",
       "      <td>5.393857</td>\n",
       "    </tr>\n",
       "    <tr>\n",
       "      <th>...</th>\n",
       "      <td>...</td>\n",
       "      <td>...</td>\n",
       "      <td>...</td>\n",
       "      <td>...</td>\n",
       "      <td>...</td>\n",
       "    </tr>\n",
       "    <tr>\n",
       "      <th>507</th>\n",
       "      <td>507</td>\n",
       "      <td>-3.022486</td>\n",
       "      <td>-4.887702</td>\n",
       "      <td>-0.263529</td>\n",
       "      <td>2.995455</td>\n",
       "    </tr>\n",
       "    <tr>\n",
       "      <th>508</th>\n",
       "      <td>508</td>\n",
       "      <td>-2.054853</td>\n",
       "      <td>-1.295427</td>\n",
       "      <td>-2.647445</td>\n",
       "      <td>-3.688531</td>\n",
       "    </tr>\n",
       "    <tr>\n",
       "      <th>509</th>\n",
       "      <td>509</td>\n",
       "      <td>-7.838132</td>\n",
       "      <td>-5.978479</td>\n",
       "      <td>-0.322017</td>\n",
       "      <td>-3.423790</td>\n",
       "    </tr>\n",
       "    <tr>\n",
       "      <th>510</th>\n",
       "      <td>510</td>\n",
       "      <td>2.746323</td>\n",
       "      <td>1.209072</td>\n",
       "      <td>4.533642</td>\n",
       "      <td>5.523484</td>\n",
       "    </tr>\n",
       "    <tr>\n",
       "      <th>511</th>\n",
       "      <td>511</td>\n",
       "      <td>-3.985972</td>\n",
       "      <td>-3.915594</td>\n",
       "      <td>-5.810140</td>\n",
       "      <td>-4.653327</td>\n",
       "    </tr>\n",
       "  </tbody>\n",
       "</table>\n",
       "<p>512 rows × 5 columns</p>\n",
       "</div>"
      ],
      "text/plain": [
       "     dim     pomme    pommes    oiseau   oiseaux\n",
       "0      0 -0.789583  2.870298  8.625494  4.051764\n",
       "1      1  0.173690  2.873069  2.405889 -0.354589\n",
       "2      2  2.101598 -0.319898 -1.324769 -2.143469\n",
       "3      3  1.687404  3.300869  0.028446 -1.254749\n",
       "4      4  1.308981  2.539638  3.579112  5.393857\n",
       "..   ...       ...       ...       ...       ...\n",
       "507  507 -3.022486 -4.887702 -0.263529  2.995455\n",
       "508  508 -2.054853 -1.295427 -2.647445 -3.688531\n",
       "509  509 -7.838132 -5.978479 -0.322017 -3.423790\n",
       "510  510  2.746323  1.209072  4.533642  5.523484\n",
       "511  511 -3.985972 -3.915594 -5.810140 -4.653327\n",
       "\n",
       "[512 rows x 5 columns]"
      ]
     },
     "execution_count": 146,
     "metadata": {},
     "output_type": "execute_result"
    }
   ],
   "source": [
    "df = pd.DataFrame(columns=['dim', 'pomme', 'pommes', 'oiseau', 'oiseaux'])\n",
    "df.dim = range(512)\n",
    "df.pomme = pomme_we\n",
    "df.pommes = pommes_we\n",
    "df.oiseau = oiseau_we\n",
    "df.oiseaux = oiseaux_we\n",
    "df"
   ]
  },
  {
   "cell_type": "markdown",
   "metadata": {},
   "source": [
    "We will now create a new column calculating difference of each dimension for both pairs."
   ]
  },
  {
   "cell_type": "code",
   "execution_count": 147,
   "metadata": {},
   "outputs": [],
   "source": [
    "df['p_diff'] = abs(df.pomme - df.pommes)\n",
    "df['o_diff'] = abs(df.oiseau - df.oiseaux)"
   ]
  },
  {
   "cell_type": "code",
   "execution_count": 148,
   "metadata": {},
   "outputs": [
    {
     "data": {
      "text/html": [
       "<div>\n",
       "<style scoped>\n",
       "    .dataframe tbody tr th:only-of-type {\n",
       "        vertical-align: middle;\n",
       "    }\n",
       "\n",
       "    .dataframe tbody tr th {\n",
       "        vertical-align: top;\n",
       "    }\n",
       "\n",
       "    .dataframe thead th {\n",
       "        text-align: right;\n",
       "    }\n",
       "</style>\n",
       "<table border=\"1\" class=\"dataframe\">\n",
       "  <thead>\n",
       "    <tr style=\"text-align: right;\">\n",
       "      <th></th>\n",
       "      <th>dim</th>\n",
       "      <th>pomme</th>\n",
       "      <th>pommes</th>\n",
       "      <th>oiseau</th>\n",
       "      <th>oiseaux</th>\n",
       "      <th>p_diff</th>\n",
       "      <th>o_diff</th>\n",
       "    </tr>\n",
       "  </thead>\n",
       "  <tbody>\n",
       "    <tr>\n",
       "      <th>0</th>\n",
       "      <td>0</td>\n",
       "      <td>-0.789583</td>\n",
       "      <td>2.870298</td>\n",
       "      <td>8.625494</td>\n",
       "      <td>4.051764</td>\n",
       "      <td>3.659881</td>\n",
       "      <td>4.573730</td>\n",
       "    </tr>\n",
       "    <tr>\n",
       "      <th>1</th>\n",
       "      <td>1</td>\n",
       "      <td>0.173690</td>\n",
       "      <td>2.873069</td>\n",
       "      <td>2.405889</td>\n",
       "      <td>-0.354589</td>\n",
       "      <td>2.699379</td>\n",
       "      <td>2.760478</td>\n",
       "    </tr>\n",
       "    <tr>\n",
       "      <th>2</th>\n",
       "      <td>2</td>\n",
       "      <td>2.101598</td>\n",
       "      <td>-0.319898</td>\n",
       "      <td>-1.324769</td>\n",
       "      <td>-2.143469</td>\n",
       "      <td>2.421496</td>\n",
       "      <td>0.818700</td>\n",
       "    </tr>\n",
       "    <tr>\n",
       "      <th>3</th>\n",
       "      <td>3</td>\n",
       "      <td>1.687404</td>\n",
       "      <td>3.300869</td>\n",
       "      <td>0.028446</td>\n",
       "      <td>-1.254749</td>\n",
       "      <td>1.613466</td>\n",
       "      <td>1.283195</td>\n",
       "    </tr>\n",
       "    <tr>\n",
       "      <th>4</th>\n",
       "      <td>4</td>\n",
       "      <td>1.308981</td>\n",
       "      <td>2.539638</td>\n",
       "      <td>3.579112</td>\n",
       "      <td>5.393857</td>\n",
       "      <td>1.230657</td>\n",
       "      <td>1.814745</td>\n",
       "    </tr>\n",
       "    <tr>\n",
       "      <th>...</th>\n",
       "      <td>...</td>\n",
       "      <td>...</td>\n",
       "      <td>...</td>\n",
       "      <td>...</td>\n",
       "      <td>...</td>\n",
       "      <td>...</td>\n",
       "      <td>...</td>\n",
       "    </tr>\n",
       "    <tr>\n",
       "      <th>507</th>\n",
       "      <td>507</td>\n",
       "      <td>-3.022486</td>\n",
       "      <td>-4.887702</td>\n",
       "      <td>-0.263529</td>\n",
       "      <td>2.995455</td>\n",
       "      <td>1.865216</td>\n",
       "      <td>3.258984</td>\n",
       "    </tr>\n",
       "    <tr>\n",
       "      <th>508</th>\n",
       "      <td>508</td>\n",
       "      <td>-2.054853</td>\n",
       "      <td>-1.295427</td>\n",
       "      <td>-2.647445</td>\n",
       "      <td>-3.688531</td>\n",
       "      <td>0.759426</td>\n",
       "      <td>1.041085</td>\n",
       "    </tr>\n",
       "    <tr>\n",
       "      <th>509</th>\n",
       "      <td>509</td>\n",
       "      <td>-7.838132</td>\n",
       "      <td>-5.978479</td>\n",
       "      <td>-0.322017</td>\n",
       "      <td>-3.423790</td>\n",
       "      <td>1.859653</td>\n",
       "      <td>3.101774</td>\n",
       "    </tr>\n",
       "    <tr>\n",
       "      <th>510</th>\n",
       "      <td>510</td>\n",
       "      <td>2.746323</td>\n",
       "      <td>1.209072</td>\n",
       "      <td>4.533642</td>\n",
       "      <td>5.523484</td>\n",
       "      <td>1.537251</td>\n",
       "      <td>0.989842</td>\n",
       "    </tr>\n",
       "    <tr>\n",
       "      <th>511</th>\n",
       "      <td>511</td>\n",
       "      <td>-3.985972</td>\n",
       "      <td>-3.915594</td>\n",
       "      <td>-5.810140</td>\n",
       "      <td>-4.653327</td>\n",
       "      <td>0.070379</td>\n",
       "      <td>1.156814</td>\n",
       "    </tr>\n",
       "  </tbody>\n",
       "</table>\n",
       "<p>512 rows × 7 columns</p>\n",
       "</div>"
      ],
      "text/plain": [
       "     dim     pomme    pommes    oiseau   oiseaux    p_diff    o_diff\n",
       "0      0 -0.789583  2.870298  8.625494  4.051764  3.659881  4.573730\n",
       "1      1  0.173690  2.873069  2.405889 -0.354589  2.699379  2.760478\n",
       "2      2  2.101598 -0.319898 -1.324769 -2.143469  2.421496  0.818700\n",
       "3      3  1.687404  3.300869  0.028446 -1.254749  1.613466  1.283195\n",
       "4      4  1.308981  2.539638  3.579112  5.393857  1.230657  1.814745\n",
       "..   ...       ...       ...       ...       ...       ...       ...\n",
       "507  507 -3.022486 -4.887702 -0.263529  2.995455  1.865216  3.258984\n",
       "508  508 -2.054853 -1.295427 -2.647445 -3.688531  0.759426  1.041085\n",
       "509  509 -7.838132 -5.978479 -0.322017 -3.423790  1.859653  3.101774\n",
       "510  510  2.746323  1.209072  4.533642  5.523484  1.537251  0.989842\n",
       "511  511 -3.985972 -3.915594 -5.810140 -4.653327  0.070379  1.156814\n",
       "\n",
       "[512 rows x 7 columns]"
      ]
     },
     "execution_count": 148,
     "metadata": {},
     "output_type": "execute_result"
    }
   ],
   "source": [
    "df"
   ]
  },
  {
   "cell_type": "markdown",
   "metadata": {},
   "source": [
    "## Dimensions with closest and furthest values between pairs"
   ]
  },
  {
   "cell_type": "markdown",
   "metadata": {},
   "source": [
    "We will now sort the dataframe first by `p_diff` and then by `o_diff` to find the closest and furthest dimensions for both pairs. We will analyze top 5% closest dimensions and bottom 5% closest dimensions for both pairs."
   ]
  },
  {
   "cell_type": "code",
   "execution_count": 176,
   "metadata": {},
   "outputs": [
    {
     "data": {
      "text/html": [
       "<div>\n",
       "<style scoped>\n",
       "    .dataframe tbody tr th:only-of-type {\n",
       "        vertical-align: middle;\n",
       "    }\n",
       "\n",
       "    .dataframe tbody tr th {\n",
       "        vertical-align: top;\n",
       "    }\n",
       "\n",
       "    .dataframe thead th {\n",
       "        text-align: right;\n",
       "    }\n",
       "</style>\n",
       "<table border=\"1\" class=\"dataframe\">\n",
       "  <thead>\n",
       "    <tr style=\"text-align: right;\">\n",
       "      <th></th>\n",
       "      <th>dim</th>\n",
       "      <th>pomme</th>\n",
       "      <th>pommes</th>\n",
       "      <th>oiseau</th>\n",
       "      <th>oiseaux</th>\n",
       "      <th>p_diff</th>\n",
       "      <th>o_diff</th>\n",
       "    </tr>\n",
       "  </thead>\n",
       "  <tbody>\n",
       "    <tr>\n",
       "      <th>481</th>\n",
       "      <td>481</td>\n",
       "      <td>-1.149791</td>\n",
       "      <td>-1.139267</td>\n",
       "      <td>-1.872658</td>\n",
       "      <td>-4.241241</td>\n",
       "      <td>0.010524</td>\n",
       "      <td>2.368583</td>\n",
       "    </tr>\n",
       "    <tr>\n",
       "      <th>188</th>\n",
       "      <td>188</td>\n",
       "      <td>2.357234</td>\n",
       "      <td>2.368219</td>\n",
       "      <td>2.926783</td>\n",
       "      <td>3.745159</td>\n",
       "      <td>0.010984</td>\n",
       "      <td>0.818375</td>\n",
       "    </tr>\n",
       "    <tr>\n",
       "      <th>202</th>\n",
       "      <td>202</td>\n",
       "      <td>4.795053</td>\n",
       "      <td>4.782814</td>\n",
       "      <td>1.274314</td>\n",
       "      <td>2.393198</td>\n",
       "      <td>0.012240</td>\n",
       "      <td>1.118885</td>\n",
       "    </tr>\n",
       "    <tr>\n",
       "      <th>171</th>\n",
       "      <td>171</td>\n",
       "      <td>3.845696</td>\n",
       "      <td>3.828545</td>\n",
       "      <td>6.157597</td>\n",
       "      <td>3.620735</td>\n",
       "      <td>0.017151</td>\n",
       "      <td>2.536861</td>\n",
       "    </tr>\n",
       "    <tr>\n",
       "      <th>176</th>\n",
       "      <td>176</td>\n",
       "      <td>4.805288</td>\n",
       "      <td>4.822771</td>\n",
       "      <td>4.384145</td>\n",
       "      <td>0.634487</td>\n",
       "      <td>0.017483</td>\n",
       "      <td>3.749658</td>\n",
       "    </tr>\n",
       "    <tr>\n",
       "      <th>...</th>\n",
       "      <td>...</td>\n",
       "      <td>...</td>\n",
       "      <td>...</td>\n",
       "      <td>...</td>\n",
       "      <td>...</td>\n",
       "      <td>...</td>\n",
       "      <td>...</td>\n",
       "    </tr>\n",
       "    <tr>\n",
       "      <th>319</th>\n",
       "      <td>319</td>\n",
       "      <td>6.953439</td>\n",
       "      <td>0.874482</td>\n",
       "      <td>4.557711</td>\n",
       "      <td>3.035436</td>\n",
       "      <td>6.078958</td>\n",
       "      <td>1.522274</td>\n",
       "    </tr>\n",
       "    <tr>\n",
       "      <th>263</th>\n",
       "      <td>263</td>\n",
       "      <td>-2.911643</td>\n",
       "      <td>-9.205585</td>\n",
       "      <td>-5.997969</td>\n",
       "      <td>-1.286199</td>\n",
       "      <td>6.293943</td>\n",
       "      <td>4.711770</td>\n",
       "    </tr>\n",
       "    <tr>\n",
       "      <th>467</th>\n",
       "      <td>467</td>\n",
       "      <td>-4.666477</td>\n",
       "      <td>1.949474</td>\n",
       "      <td>5.987657</td>\n",
       "      <td>5.078243</td>\n",
       "      <td>6.615952</td>\n",
       "      <td>0.909414</td>\n",
       "    </tr>\n",
       "    <tr>\n",
       "      <th>333</th>\n",
       "      <td>333</td>\n",
       "      <td>0.123309</td>\n",
       "      <td>-6.584016</td>\n",
       "      <td>0.215944</td>\n",
       "      <td>-0.595359</td>\n",
       "      <td>6.707325</td>\n",
       "      <td>0.811303</td>\n",
       "    </tr>\n",
       "    <tr>\n",
       "      <th>371</th>\n",
       "      <td>371</td>\n",
       "      <td>33.324131</td>\n",
       "      <td>17.669811</td>\n",
       "      <td>2.008527</td>\n",
       "      <td>21.022852</td>\n",
       "      <td>15.654320</td>\n",
       "      <td>19.014324</td>\n",
       "    </tr>\n",
       "  </tbody>\n",
       "</table>\n",
       "<p>512 rows × 7 columns</p>\n",
       "</div>"
      ],
      "text/plain": [
       "     dim      pomme     pommes    oiseau    oiseaux     p_diff     o_diff\n",
       "481  481  -1.149791  -1.139267 -1.872658  -4.241241   0.010524   2.368583\n",
       "188  188   2.357234   2.368219  2.926783   3.745159   0.010984   0.818375\n",
       "202  202   4.795053   4.782814  1.274314   2.393198   0.012240   1.118885\n",
       "171  171   3.845696   3.828545  6.157597   3.620735   0.017151   2.536861\n",
       "176  176   4.805288   4.822771  4.384145   0.634487   0.017483   3.749658\n",
       "..   ...        ...        ...       ...        ...        ...        ...\n",
       "319  319   6.953439   0.874482  4.557711   3.035436   6.078958   1.522274\n",
       "263  263  -2.911643  -9.205585 -5.997969  -1.286199   6.293943   4.711770\n",
       "467  467  -4.666477   1.949474  5.987657   5.078243   6.615952   0.909414\n",
       "333  333   0.123309  -6.584016  0.215944  -0.595359   6.707325   0.811303\n",
       "371  371  33.324131  17.669811  2.008527  21.022852  15.654320  19.014324\n",
       "\n",
       "[512 rows x 7 columns]"
      ]
     },
     "execution_count": 176,
     "metadata": {},
     "output_type": "execute_result"
    }
   ],
   "source": [
    "df.sort_values('p_diff')"
   ]
  },
  {
   "cell_type": "code",
   "execution_count": 177,
   "metadata": {},
   "outputs": [
    {
     "data": {
      "text/html": [
       "<div>\n",
       "<style scoped>\n",
       "    .dataframe tbody tr th:only-of-type {\n",
       "        vertical-align: middle;\n",
       "    }\n",
       "\n",
       "    .dataframe tbody tr th {\n",
       "        vertical-align: top;\n",
       "    }\n",
       "\n",
       "    .dataframe thead th {\n",
       "        text-align: right;\n",
       "    }\n",
       "</style>\n",
       "<table border=\"1\" class=\"dataframe\">\n",
       "  <thead>\n",
       "    <tr style=\"text-align: right;\">\n",
       "      <th></th>\n",
       "      <th>dim</th>\n",
       "      <th>pomme</th>\n",
       "      <th>pommes</th>\n",
       "      <th>oiseau</th>\n",
       "      <th>oiseaux</th>\n",
       "      <th>p_diff</th>\n",
       "      <th>o_diff</th>\n",
       "    </tr>\n",
       "  </thead>\n",
       "  <tbody>\n",
       "    <tr>\n",
       "      <th>481</th>\n",
       "      <td>481</td>\n",
       "      <td>-1.149791</td>\n",
       "      <td>-1.139267</td>\n",
       "      <td>-1.872658</td>\n",
       "      <td>-4.241241</td>\n",
       "      <td>0.010524</td>\n",
       "      <td>2.368583</td>\n",
       "    </tr>\n",
       "    <tr>\n",
       "      <th>188</th>\n",
       "      <td>188</td>\n",
       "      <td>2.357234</td>\n",
       "      <td>2.368219</td>\n",
       "      <td>2.926783</td>\n",
       "      <td>3.745159</td>\n",
       "      <td>0.010984</td>\n",
       "      <td>0.818375</td>\n",
       "    </tr>\n",
       "    <tr>\n",
       "      <th>202</th>\n",
       "      <td>202</td>\n",
       "      <td>4.795053</td>\n",
       "      <td>4.782814</td>\n",
       "      <td>1.274314</td>\n",
       "      <td>2.393198</td>\n",
       "      <td>0.012240</td>\n",
       "      <td>1.118885</td>\n",
       "    </tr>\n",
       "    <tr>\n",
       "      <th>171</th>\n",
       "      <td>171</td>\n",
       "      <td>3.845696</td>\n",
       "      <td>3.828545</td>\n",
       "      <td>6.157597</td>\n",
       "      <td>3.620735</td>\n",
       "      <td>0.017151</td>\n",
       "      <td>2.536861</td>\n",
       "    </tr>\n",
       "    <tr>\n",
       "      <th>176</th>\n",
       "      <td>176</td>\n",
       "      <td>4.805288</td>\n",
       "      <td>4.822771</td>\n",
       "      <td>4.384145</td>\n",
       "      <td>0.634487</td>\n",
       "      <td>0.017483</td>\n",
       "      <td>3.749658</td>\n",
       "    </tr>\n",
       "    <tr>\n",
       "      <th>137</th>\n",
       "      <td>137</td>\n",
       "      <td>2.840835</td>\n",
       "      <td>2.868752</td>\n",
       "      <td>3.049018</td>\n",
       "      <td>4.329151</td>\n",
       "      <td>0.027917</td>\n",
       "      <td>1.280133</td>\n",
       "    </tr>\n",
       "    <tr>\n",
       "      <th>443</th>\n",
       "      <td>443</td>\n",
       "      <td>-4.009586</td>\n",
       "      <td>-4.043835</td>\n",
       "      <td>-2.234268</td>\n",
       "      <td>0.200704</td>\n",
       "      <td>0.034248</td>\n",
       "      <td>2.434972</td>\n",
       "    </tr>\n",
       "    <tr>\n",
       "      <th>56</th>\n",
       "      <td>56</td>\n",
       "      <td>-0.397858</td>\n",
       "      <td>-0.354643</td>\n",
       "      <td>-0.771506</td>\n",
       "      <td>0.880700</td>\n",
       "      <td>0.043215</td>\n",
       "      <td>1.652206</td>\n",
       "    </tr>\n",
       "    <tr>\n",
       "      <th>412</th>\n",
       "      <td>412</td>\n",
       "      <td>4.602641</td>\n",
       "      <td>4.556083</td>\n",
       "      <td>0.262771</td>\n",
       "      <td>1.080966</td>\n",
       "      <td>0.046558</td>\n",
       "      <td>0.818195</td>\n",
       "    </tr>\n",
       "    <tr>\n",
       "      <th>149</th>\n",
       "      <td>149</td>\n",
       "      <td>3.450408</td>\n",
       "      <td>3.498649</td>\n",
       "      <td>2.508493</td>\n",
       "      <td>5.909790</td>\n",
       "      <td>0.048241</td>\n",
       "      <td>3.401297</td>\n",
       "    </tr>\n",
       "    <tr>\n",
       "      <th>227</th>\n",
       "      <td>227</td>\n",
       "      <td>-1.021168</td>\n",
       "      <td>-1.075285</td>\n",
       "      <td>-4.417844</td>\n",
       "      <td>-1.281664</td>\n",
       "      <td>0.054117</td>\n",
       "      <td>3.136179</td>\n",
       "    </tr>\n",
       "    <tr>\n",
       "      <th>191</th>\n",
       "      <td>191</td>\n",
       "      <td>7.098848</td>\n",
       "      <td>7.042358</td>\n",
       "      <td>3.533837</td>\n",
       "      <td>5.848463</td>\n",
       "      <td>0.056490</td>\n",
       "      <td>2.314626</td>\n",
       "    </tr>\n",
       "    <tr>\n",
       "      <th>511</th>\n",
       "      <td>511</td>\n",
       "      <td>-3.985972</td>\n",
       "      <td>-3.915594</td>\n",
       "      <td>-5.810140</td>\n",
       "      <td>-4.653327</td>\n",
       "      <td>0.070379</td>\n",
       "      <td>1.156814</td>\n",
       "    </tr>\n",
       "    <tr>\n",
       "      <th>461</th>\n",
       "      <td>461</td>\n",
       "      <td>1.650930</td>\n",
       "      <td>1.567803</td>\n",
       "      <td>-1.313119</td>\n",
       "      <td>-0.778576</td>\n",
       "      <td>0.083127</td>\n",
       "      <td>0.534543</td>\n",
       "    </tr>\n",
       "    <tr>\n",
       "      <th>434</th>\n",
       "      <td>434</td>\n",
       "      <td>0.375555</td>\n",
       "      <td>0.460456</td>\n",
       "      <td>-0.755266</td>\n",
       "      <td>-1.504447</td>\n",
       "      <td>0.084902</td>\n",
       "      <td>0.749181</td>\n",
       "    </tr>\n",
       "    <tr>\n",
       "      <th>295</th>\n",
       "      <td>295</td>\n",
       "      <td>2.832084</td>\n",
       "      <td>2.917158</td>\n",
       "      <td>-2.450104</td>\n",
       "      <td>-4.152976</td>\n",
       "      <td>0.085073</td>\n",
       "      <td>1.702872</td>\n",
       "    </tr>\n",
       "    <tr>\n",
       "      <th>147</th>\n",
       "      <td>147</td>\n",
       "      <td>3.765944</td>\n",
       "      <td>3.679782</td>\n",
       "      <td>3.241765</td>\n",
       "      <td>0.231567</td>\n",
       "      <td>0.086162</td>\n",
       "      <td>3.010197</td>\n",
       "    </tr>\n",
       "    <tr>\n",
       "      <th>91</th>\n",
       "      <td>91</td>\n",
       "      <td>0.822793</td>\n",
       "      <td>0.909356</td>\n",
       "      <td>3.317858</td>\n",
       "      <td>3.419177</td>\n",
       "      <td>0.086563</td>\n",
       "      <td>0.101319</td>\n",
       "    </tr>\n",
       "    <tr>\n",
       "      <th>266</th>\n",
       "      <td>266</td>\n",
       "      <td>3.241831</td>\n",
       "      <td>3.339386</td>\n",
       "      <td>3.483833</td>\n",
       "      <td>5.455810</td>\n",
       "      <td>0.097555</td>\n",
       "      <td>1.971977</td>\n",
       "    </tr>\n",
       "    <tr>\n",
       "      <th>111</th>\n",
       "      <td>111</td>\n",
       "      <td>-3.169886</td>\n",
       "      <td>-3.267534</td>\n",
       "      <td>-1.625419</td>\n",
       "      <td>-1.754441</td>\n",
       "      <td>0.097647</td>\n",
       "      <td>0.129022</td>\n",
       "    </tr>\n",
       "    <tr>\n",
       "      <th>46</th>\n",
       "      <td>46</td>\n",
       "      <td>-1.897772</td>\n",
       "      <td>-1.800051</td>\n",
       "      <td>-4.706501</td>\n",
       "      <td>-3.245968</td>\n",
       "      <td>0.097721</td>\n",
       "      <td>1.460533</td>\n",
       "    </tr>\n",
       "    <tr>\n",
       "      <th>142</th>\n",
       "      <td>142</td>\n",
       "      <td>-3.945933</td>\n",
       "      <td>-3.838824</td>\n",
       "      <td>6.618823</td>\n",
       "      <td>2.566052</td>\n",
       "      <td>0.107109</td>\n",
       "      <td>4.052771</td>\n",
       "    </tr>\n",
       "    <tr>\n",
       "      <th>452</th>\n",
       "      <td>452</td>\n",
       "      <td>3.298001</td>\n",
       "      <td>3.406876</td>\n",
       "      <td>1.280335</td>\n",
       "      <td>6.280097</td>\n",
       "      <td>0.108875</td>\n",
       "      <td>4.999763</td>\n",
       "    </tr>\n",
       "    <tr>\n",
       "      <th>436</th>\n",
       "      <td>436</td>\n",
       "      <td>1.462110</td>\n",
       "      <td>1.350676</td>\n",
       "      <td>-3.324587</td>\n",
       "      <td>-2.124482</td>\n",
       "      <td>0.111434</td>\n",
       "      <td>1.200105</td>\n",
       "    </tr>\n",
       "    <tr>\n",
       "      <th>104</th>\n",
       "      <td>104</td>\n",
       "      <td>7.425928</td>\n",
       "      <td>7.542333</td>\n",
       "      <td>0.233907</td>\n",
       "      <td>0.762758</td>\n",
       "      <td>0.116405</td>\n",
       "      <td>0.528851</td>\n",
       "    </tr>\n",
       "    <tr>\n",
       "      <th>212</th>\n",
       "      <td>212</td>\n",
       "      <td>-6.082469</td>\n",
       "      <td>-6.201087</td>\n",
       "      <td>-5.051598</td>\n",
       "      <td>-8.029559</td>\n",
       "      <td>0.118618</td>\n",
       "      <td>2.977961</td>\n",
       "    </tr>\n",
       "  </tbody>\n",
       "</table>\n",
       "</div>"
      ],
      "text/plain": [
       "     dim     pomme    pommes    oiseau   oiseaux    p_diff    o_diff\n",
       "481  481 -1.149791 -1.139267 -1.872658 -4.241241  0.010524  2.368583\n",
       "188  188  2.357234  2.368219  2.926783  3.745159  0.010984  0.818375\n",
       "202  202  4.795053  4.782814  1.274314  2.393198  0.012240  1.118885\n",
       "171  171  3.845696  3.828545  6.157597  3.620735  0.017151  2.536861\n",
       "176  176  4.805288  4.822771  4.384145  0.634487  0.017483  3.749658\n",
       "137  137  2.840835  2.868752  3.049018  4.329151  0.027917  1.280133\n",
       "443  443 -4.009586 -4.043835 -2.234268  0.200704  0.034248  2.434972\n",
       "56    56 -0.397858 -0.354643 -0.771506  0.880700  0.043215  1.652206\n",
       "412  412  4.602641  4.556083  0.262771  1.080966  0.046558  0.818195\n",
       "149  149  3.450408  3.498649  2.508493  5.909790  0.048241  3.401297\n",
       "227  227 -1.021168 -1.075285 -4.417844 -1.281664  0.054117  3.136179\n",
       "191  191  7.098848  7.042358  3.533837  5.848463  0.056490  2.314626\n",
       "511  511 -3.985972 -3.915594 -5.810140 -4.653327  0.070379  1.156814\n",
       "461  461  1.650930  1.567803 -1.313119 -0.778576  0.083127  0.534543\n",
       "434  434  0.375555  0.460456 -0.755266 -1.504447  0.084902  0.749181\n",
       "295  295  2.832084  2.917158 -2.450104 -4.152976  0.085073  1.702872\n",
       "147  147  3.765944  3.679782  3.241765  0.231567  0.086162  3.010197\n",
       "91    91  0.822793  0.909356  3.317858  3.419177  0.086563  0.101319\n",
       "266  266  3.241831  3.339386  3.483833  5.455810  0.097555  1.971977\n",
       "111  111 -3.169886 -3.267534 -1.625419 -1.754441  0.097647  0.129022\n",
       "46    46 -1.897772 -1.800051 -4.706501 -3.245968  0.097721  1.460533\n",
       "142  142 -3.945933 -3.838824  6.618823  2.566052  0.107109  4.052771\n",
       "452  452  3.298001  3.406876  1.280335  6.280097  0.108875  4.999763\n",
       "436  436  1.462110  1.350676 -3.324587 -2.124482  0.111434  1.200105\n",
       "104  104  7.425928  7.542333  0.233907  0.762758  0.116405  0.528851\n",
       "212  212 -6.082469 -6.201087 -5.051598 -8.029559  0.118618  2.977961"
      ]
     },
     "execution_count": 177,
     "metadata": {},
     "output_type": "execute_result"
    }
   ],
   "source": [
    "df.sort_values('p_diff').head(26)"
   ]
  },
  {
   "cell_type": "code",
   "execution_count": 178,
   "metadata": {},
   "outputs": [],
   "source": [
    "closest_dim_p = df.sort_values('p_diff').dim[:26]\n",
    "furthest_dim_p = df.sort_values('p_diff').dim[-26:]"
   ]
  },
  {
   "cell_type": "code",
   "execution_count": 179,
   "metadata": {},
   "outputs": [],
   "source": [
    "closest_dim_o = df.sort_values('o_diff').dim[:26]\n",
    "furthest_dim_o = df.sort_values('o_diff').dim[-26:]"
   ]
  },
  {
   "cell_type": "markdown",
   "metadata": {},
   "source": [
    "Now we can check if there is any intersection between the closest dimensions of `pomme` and `oiseau`."
   ]
  },
  {
   "cell_type": "code",
   "execution_count": 180,
   "metadata": {},
   "outputs": [
    {
     "data": {
      "text/plain": [
       "{91, 111}"
      ]
     },
     "execution_count": 180,
     "metadata": {},
     "output_type": "execute_result"
    }
   ],
   "source": [
    "set(closest_dim_o).intersection(set(closest_dim_p))"
   ]
  },
  {
   "cell_type": "code",
   "execution_count": 181,
   "metadata": {},
   "outputs": [
    {
     "data": {
      "text/plain": [
       "{272, 371}"
      ]
     },
     "execution_count": 181,
     "metadata": {},
     "output_type": "execute_result"
    }
   ],
   "source": [
    "set(furthest_dim_o).intersection(set(furthest_dim_p))"
   ]
  },
  {
   "cell_type": "markdown",
   "metadata": {},
   "source": [
    "We have only two intersection for closest dimensions: dimension `91` and `111`. We can make a hypothesis that one of them can represent `Noun` or `Gender`.\n",
    "\n",
    "As for the furthest values, we have `272` and `371` . We can make a hypothesis that one of these dimensions is responsible for the multiplicity or this is due to the words ending on a different character."
   ]
  },
  {
   "cell_type": "markdown",
   "metadata": {},
   "source": [
    "## Dimensions with the closest and furthest values for pair of singular nouns"
   ]
  },
  {
   "cell_type": "markdown",
   "metadata": {},
   "source": [
    "Now we can compare the diffence of values of 2 singular nouns - `pomme` and `oiseau`.\n",
    "\n",
    "If `91` or `111` represent `Noun`, we should expect that embeddings of `pomme` and `oiseau` have the values of these dimensions close.\n",
    "\n",
    "If `91` or `111` represent `Gender`, we should expect to see these dimensions in the list of the furthests.\n",
    "\n",
    "If `272` or `371` represent multiplicity, we should expect to see this dimension in the closest list, since both nouns are singular.\n",
    "\n",
    "If `272` or `371` represent the last character of the word representation, we can expect them to be in the list of the furthest dimensions since `pomme` ends with `e` and `oiseau` with `u`."
   ]
  },
  {
   "cell_type": "code",
   "execution_count": 188,
   "metadata": {},
   "outputs": [],
   "source": [
    "closest_dim_sing = abs(df.pomme - df.oiseau).sort_values()[:26].index\n",
    "furthest_dim_sing = abs(df.pomme - df.oiseau).sort_values()[-26:].index"
   ]
  },
  {
   "cell_type": "code",
   "execution_count": 192,
   "metadata": {},
   "outputs": [
    {
     "data": {
      "text/plain": [
       "set()"
      ]
     },
     "execution_count": 192,
     "metadata": {},
     "output_type": "execute_result"
    }
   ],
   "source": [
    "set(closest_dim_sing).intersection({91, 111, 272, 371})"
   ]
  },
  {
   "cell_type": "code",
   "execution_count": 193,
   "metadata": {},
   "outputs": [
    {
     "data": {
      "text/plain": [
       "{371}"
      ]
     },
     "execution_count": 193,
     "metadata": {},
     "output_type": "execute_result"
    }
   ],
   "source": [
    "set(furthest_dim_sing).intersection({91, 111, 272, 371})"
   ]
  },
  {
   "cell_type": "markdown",
   "metadata": {},
   "source": [
    "We have dimension `371` in the furthest list, potentially signalling that this dimension represents the word end and doesn't carry grammatical information."
   ]
  },
  {
   "cell_type": "markdown",
   "metadata": {},
   "source": [
    "We can as well look at how close the values are in all of these dimensions:"
   ]
  },
  {
   "cell_type": "code",
   "execution_count": 234,
   "metadata": {},
   "outputs": [],
   "source": [
    "dim_df = pd.DataFrame(columns=['d91', 'd111', 'd272', 'd371'])"
   ]
  },
  {
   "cell_type": "code",
   "execution_count": 235,
   "metadata": {},
   "outputs": [
    {
     "data": {
      "text/html": [
       "<div>\n",
       "<style scoped>\n",
       "    .dataframe tbody tr th:only-of-type {\n",
       "        vertical-align: middle;\n",
       "    }\n",
       "\n",
       "    .dataframe tbody tr th {\n",
       "        vertical-align: top;\n",
       "    }\n",
       "\n",
       "    .dataframe thead th {\n",
       "        text-align: right;\n",
       "    }\n",
       "</style>\n",
       "<table border=\"1\" class=\"dataframe\">\n",
       "  <thead>\n",
       "    <tr style=\"text-align: right;\">\n",
       "      <th></th>\n",
       "      <th>d91</th>\n",
       "      <th>d111</th>\n",
       "      <th>d272</th>\n",
       "      <th>d371</th>\n",
       "    </tr>\n",
       "  </thead>\n",
       "  <tbody>\n",
       "    <tr>\n",
       "      <th>0</th>\n",
       "      <td>2.495064</td>\n",
       "      <td>1.544467</td>\n",
       "      <td>2.325571</td>\n",
       "      <td>31.315603</td>\n",
       "    </tr>\n",
       "  </tbody>\n",
       "</table>\n",
       "</div>"
      ],
      "text/plain": [
       "        d91      d111      d272       d371\n",
       "0  2.495064  1.544467  2.325571  31.315603"
      ]
     },
     "execution_count": 235,
     "metadata": {},
     "output_type": "execute_result"
    }
   ],
   "source": [
    "dim_df['d91'] = [abs(df.pomme - df.oiseau).at[91]]\n",
    "dim_df['d111'] = [abs(df.pomme - df.oiseau).at[111]]\n",
    "dim_df['d272'] = [abs(df.pomme - df.oiseau).at[272]]\n",
    "dim_df['d371'] = [abs(df.pomme - df.oiseau).at[371]]\n",
    "dim_df"
   ]
  },
  {
   "cell_type": "markdown",
   "metadata": {},
   "source": [
    "We can see that values of `d371` are the furthest by far the difference between other dimension is pretty equal."
   ]
  },
  {
   "cell_type": "markdown",
   "metadata": {},
   "source": [
    "## Dimensions with the closest and furthest values for pair of singular nouns"
   ]
  },
  {
   "cell_type": "markdown",
   "metadata": {},
   "source": [
    "Now we can compare the diffence of values of 2 plural nouns - `pommes` and `oiseaux`.\n",
    "\n",
    "If `91` or `111` represent `Noun`, we should expect that embeddings of `pommes` and `oiseaux` have the values of these dimensions close.\n",
    "\n",
    "If `91` or `111` represent `Gender`, we should expect to see these dimensions in the list of the furthests.\n",
    "\n",
    "If `272` or `371` represent multiplicity, we should expect to see this dimension in the closest list, since both nouns are plural.\n",
    "\n",
    "If `272` or `371` represent the last character of the word representation, we can expect them to be in the list of the furthest dimensions since `pommes` ends with `s` and `oiseaux` with `x`."
   ]
  },
  {
   "cell_type": "code",
   "execution_count": 194,
   "metadata": {},
   "outputs": [],
   "source": [
    "closest_dim_sing = abs(df.pommes - df.oiseaux).sort_values()[:26].index\n",
    "furthest_dim_sing = abs(df.pommes - df.oiseaux).sort_values()[-26:].index"
   ]
  },
  {
   "cell_type": "code",
   "execution_count": 195,
   "metadata": {},
   "outputs": [
    {
     "data": {
      "text/plain": [
       "set()"
      ]
     },
     "execution_count": 195,
     "metadata": {},
     "output_type": "execute_result"
    }
   ],
   "source": [
    "set(closest_dim_sing).intersection({91, 111, 272, 371})"
   ]
  },
  {
   "cell_type": "code",
   "execution_count": 196,
   "metadata": {},
   "outputs": [
    {
     "data": {
      "text/plain": [
       "{272}"
      ]
     },
     "execution_count": 196,
     "metadata": {},
     "output_type": "execute_result"
    }
   ],
   "source": [
    "set(furthest_dim_sing).intersection({91, 111, 272, 371})"
   ]
  },
  {
   "cell_type": "markdown",
   "metadata": {},
   "source": [
    "Now we have only one intersection with `272` having the furthest values for both nouns. It potentially can be as well related to word endings.\n",
    "\n",
    "However, we can see that "
   ]
  },
  {
   "cell_type": "code",
   "execution_count": 203,
   "metadata": {},
   "outputs": [
    {
     "data": {
      "text/plain": [
       "9.246571"
      ]
     },
     "execution_count": 203,
     "metadata": {},
     "output_type": "execute_result"
    }
   ],
   "source": [
    "abs(df.pommes - df.oiseaux).sort_values().at[272], abs(df.pommes - df.oiseaux).sort_values().at[371]"
   ]
  },
  {
   "cell_type": "code",
   "execution_count": 236,
   "metadata": {},
   "outputs": [
    {
     "data": {
      "text/html": [
       "<div>\n",
       "<style scoped>\n",
       "    .dataframe tbody tr th:only-of-type {\n",
       "        vertical-align: middle;\n",
       "    }\n",
       "\n",
       "    .dataframe tbody tr th {\n",
       "        vertical-align: top;\n",
       "    }\n",
       "\n",
       "    .dataframe thead th {\n",
       "        text-align: right;\n",
       "    }\n",
       "</style>\n",
       "<table border=\"1\" class=\"dataframe\">\n",
       "  <thead>\n",
       "    <tr style=\"text-align: right;\">\n",
       "      <th></th>\n",
       "      <th>d91</th>\n",
       "      <th>d111</th>\n",
       "      <th>d272</th>\n",
       "      <th>d371</th>\n",
       "    </tr>\n",
       "  </thead>\n",
       "  <tbody>\n",
       "    <tr>\n",
       "      <th>0</th>\n",
       "      <td>2.50982</td>\n",
       "      <td>1.513092</td>\n",
       "      <td>9.246571</td>\n",
       "      <td>3.353041</td>\n",
       "    </tr>\n",
       "  </tbody>\n",
       "</table>\n",
       "</div>"
      ],
      "text/plain": [
       "       d91      d111      d272      d371\n",
       "0  2.50982  1.513092  9.246571  3.353041"
      ]
     },
     "execution_count": 236,
     "metadata": {},
     "output_type": "execute_result"
    }
   ],
   "source": [
    "dim_df2 = pd.DataFrame(columns=['d91', 'd111', 'd272', 'd371'])\n",
    "dim_df2['d91'] = [abs(df.pommes - df.oiseaux).at[91]]\n",
    "dim_df2['d111'] = [abs(df.pommes - df.oiseaux).at[111]]\n",
    "dim_df2['d272'] = [abs(df.pommes - df.oiseaux).at[272]]\n",
    "dim_df2['d371'] = [abs(df.pommes - df.oiseaux).at[371]]\n",
    "dim_df2"
   ]
  },
  {
   "cell_type": "markdown",
   "metadata": {},
   "source": [
    "The values of `d272` are the farthest but nowhere as far as the values of `d371` in the experiment above."
   ]
  },
  {
   "cell_type": "markdown",
   "metadata": {},
   "source": [
    "## Experiment with same gender and same inflection type"
   ]
  },
  {
   "cell_type": "markdown",
   "metadata": {},
   "source": [
    "Now we can check if we have any different results if we use nouns of the same gender and the same inflection scheme:\n",
    "`-s`. We can work with `pomme/s` and `femme/s`."
   ]
  },
  {
   "cell_type": "code",
   "execution_count": 237,
   "metadata": {},
   "outputs": [],
   "source": [
    "femme_we = get_we(flaubert, flaubert_tokenizer, 'femme')\n",
    "femmes_we = get_we(flaubert, flaubert_tokenizer, 'femmes')"
   ]
  },
  {
   "cell_type": "markdown",
   "metadata": {},
   "source": [
    "We can add the new pair to the dataframe:"
   ]
  },
  {
   "cell_type": "code",
   "execution_count": 238,
   "metadata": {},
   "outputs": [
    {
     "data": {
      "text/html": [
       "<div>\n",
       "<style scoped>\n",
       "    .dataframe tbody tr th:only-of-type {\n",
       "        vertical-align: middle;\n",
       "    }\n",
       "\n",
       "    .dataframe tbody tr th {\n",
       "        vertical-align: top;\n",
       "    }\n",
       "\n",
       "    .dataframe thead th {\n",
       "        text-align: right;\n",
       "    }\n",
       "</style>\n",
       "<table border=\"1\" class=\"dataframe\">\n",
       "  <thead>\n",
       "    <tr style=\"text-align: right;\">\n",
       "      <th></th>\n",
       "      <th>dim</th>\n",
       "      <th>pomme</th>\n",
       "      <th>pommes</th>\n",
       "      <th>oiseau</th>\n",
       "      <th>oiseaux</th>\n",
       "      <th>p_diff</th>\n",
       "      <th>o_diff</th>\n",
       "      <th>femme</th>\n",
       "      <th>femmes</th>\n",
       "    </tr>\n",
       "  </thead>\n",
       "  <tbody>\n",
       "    <tr>\n",
       "      <th>0</th>\n",
       "      <td>0</td>\n",
       "      <td>-0.789583</td>\n",
       "      <td>2.870298</td>\n",
       "      <td>8.625494</td>\n",
       "      <td>4.051764</td>\n",
       "      <td>3.659881</td>\n",
       "      <td>4.573730</td>\n",
       "      <td>1.250606</td>\n",
       "      <td>1.972973</td>\n",
       "    </tr>\n",
       "    <tr>\n",
       "      <th>1</th>\n",
       "      <td>1</td>\n",
       "      <td>0.173690</td>\n",
       "      <td>2.873069</td>\n",
       "      <td>2.405889</td>\n",
       "      <td>-0.354589</td>\n",
       "      <td>2.699379</td>\n",
       "      <td>2.760478</td>\n",
       "      <td>-0.609186</td>\n",
       "      <td>-0.691200</td>\n",
       "    </tr>\n",
       "    <tr>\n",
       "      <th>2</th>\n",
       "      <td>2</td>\n",
       "      <td>2.101598</td>\n",
       "      <td>-0.319898</td>\n",
       "      <td>-1.324769</td>\n",
       "      <td>-2.143469</td>\n",
       "      <td>2.421496</td>\n",
       "      <td>0.818700</td>\n",
       "      <td>2.759072</td>\n",
       "      <td>4.054496</td>\n",
       "    </tr>\n",
       "    <tr>\n",
       "      <th>3</th>\n",
       "      <td>3</td>\n",
       "      <td>1.687404</td>\n",
       "      <td>3.300869</td>\n",
       "      <td>0.028446</td>\n",
       "      <td>-1.254749</td>\n",
       "      <td>1.613466</td>\n",
       "      <td>1.283195</td>\n",
       "      <td>-2.650006</td>\n",
       "      <td>-1.391883</td>\n",
       "    </tr>\n",
       "    <tr>\n",
       "      <th>4</th>\n",
       "      <td>4</td>\n",
       "      <td>1.308981</td>\n",
       "      <td>2.539638</td>\n",
       "      <td>3.579112</td>\n",
       "      <td>5.393857</td>\n",
       "      <td>1.230657</td>\n",
       "      <td>1.814745</td>\n",
       "      <td>2.289926</td>\n",
       "      <td>3.119220</td>\n",
       "    </tr>\n",
       "    <tr>\n",
       "      <th>...</th>\n",
       "      <td>...</td>\n",
       "      <td>...</td>\n",
       "      <td>...</td>\n",
       "      <td>...</td>\n",
       "      <td>...</td>\n",
       "      <td>...</td>\n",
       "      <td>...</td>\n",
       "      <td>...</td>\n",
       "      <td>...</td>\n",
       "    </tr>\n",
       "    <tr>\n",
       "      <th>507</th>\n",
       "      <td>507</td>\n",
       "      <td>-3.022486</td>\n",
       "      <td>-4.887702</td>\n",
       "      <td>-0.263529</td>\n",
       "      <td>2.995455</td>\n",
       "      <td>1.865216</td>\n",
       "      <td>3.258984</td>\n",
       "      <td>-7.861737</td>\n",
       "      <td>-4.760276</td>\n",
       "    </tr>\n",
       "    <tr>\n",
       "      <th>508</th>\n",
       "      <td>508</td>\n",
       "      <td>-2.054853</td>\n",
       "      <td>-1.295427</td>\n",
       "      <td>-2.647445</td>\n",
       "      <td>-3.688531</td>\n",
       "      <td>0.759426</td>\n",
       "      <td>1.041085</td>\n",
       "      <td>-4.726769</td>\n",
       "      <td>-4.160974</td>\n",
       "    </tr>\n",
       "    <tr>\n",
       "      <th>509</th>\n",
       "      <td>509</td>\n",
       "      <td>-7.838132</td>\n",
       "      <td>-5.978479</td>\n",
       "      <td>-0.322017</td>\n",
       "      <td>-3.423790</td>\n",
       "      <td>1.859653</td>\n",
       "      <td>3.101774</td>\n",
       "      <td>-0.187649</td>\n",
       "      <td>0.520152</td>\n",
       "    </tr>\n",
       "    <tr>\n",
       "      <th>510</th>\n",
       "      <td>510</td>\n",
       "      <td>2.746323</td>\n",
       "      <td>1.209072</td>\n",
       "      <td>4.533642</td>\n",
       "      <td>5.523484</td>\n",
       "      <td>1.537251</td>\n",
       "      <td>0.989842</td>\n",
       "      <td>-0.666923</td>\n",
       "      <td>-3.463926</td>\n",
       "    </tr>\n",
       "    <tr>\n",
       "      <th>511</th>\n",
       "      <td>511</td>\n",
       "      <td>-3.985972</td>\n",
       "      <td>-3.915594</td>\n",
       "      <td>-5.810140</td>\n",
       "      <td>-4.653327</td>\n",
       "      <td>0.070379</td>\n",
       "      <td>1.156814</td>\n",
       "      <td>0.569433</td>\n",
       "      <td>2.447694</td>\n",
       "    </tr>\n",
       "  </tbody>\n",
       "</table>\n",
       "<p>512 rows × 9 columns</p>\n",
       "</div>"
      ],
      "text/plain": [
       "     dim     pomme    pommes    oiseau   oiseaux    p_diff    o_diff  \\\n",
       "0      0 -0.789583  2.870298  8.625494  4.051764  3.659881  4.573730   \n",
       "1      1  0.173690  2.873069  2.405889 -0.354589  2.699379  2.760478   \n",
       "2      2  2.101598 -0.319898 -1.324769 -2.143469  2.421496  0.818700   \n",
       "3      3  1.687404  3.300869  0.028446 -1.254749  1.613466  1.283195   \n",
       "4      4  1.308981  2.539638  3.579112  5.393857  1.230657  1.814745   \n",
       "..   ...       ...       ...       ...       ...       ...       ...   \n",
       "507  507 -3.022486 -4.887702 -0.263529  2.995455  1.865216  3.258984   \n",
       "508  508 -2.054853 -1.295427 -2.647445 -3.688531  0.759426  1.041085   \n",
       "509  509 -7.838132 -5.978479 -0.322017 -3.423790  1.859653  3.101774   \n",
       "510  510  2.746323  1.209072  4.533642  5.523484  1.537251  0.989842   \n",
       "511  511 -3.985972 -3.915594 -5.810140 -4.653327  0.070379  1.156814   \n",
       "\n",
       "        femme    femmes  \n",
       "0    1.250606  1.972973  \n",
       "1   -0.609186 -0.691200  \n",
       "2    2.759072  4.054496  \n",
       "3   -2.650006 -1.391883  \n",
       "4    2.289926  3.119220  \n",
       "..        ...       ...  \n",
       "507 -7.861737 -4.760276  \n",
       "508 -4.726769 -4.160974  \n",
       "509 -0.187649  0.520152  \n",
       "510 -0.666923 -3.463926  \n",
       "511  0.569433  2.447694  \n",
       "\n",
       "[512 rows x 9 columns]"
      ]
     },
     "execution_count": 238,
     "metadata": {},
     "output_type": "execute_result"
    }
   ],
   "source": [
    "df['femme'] = femme_we\n",
    "df['femmes'] = femmes_we\n",
    "df"
   ]
  },
  {
   "cell_type": "markdown",
   "metadata": {},
   "source": [
    "Now same as above we add a column for differences between values of dimensions of `femme` and `femmes`."
   ]
  },
  {
   "cell_type": "code",
   "execution_count": 239,
   "metadata": {},
   "outputs": [],
   "source": [
    "df['f_diff'] = abs(df.femme - df.femmes)"
   ]
  },
  {
   "cell_type": "code",
   "execution_count": 240,
   "metadata": {},
   "outputs": [],
   "source": [
    "closest_dim_f = df.sort_values('f_diff').dim[:26]\n",
    "furthest_dim_f = df.sort_values('f_diff').dim[-26:]"
   ]
  },
  {
   "cell_type": "markdown",
   "metadata": {},
   "source": [
    "Now we can compare closest dimensions of `femme` and `femmes` and those of `pomme` and `pommes`."
   ]
  },
  {
   "cell_type": "code",
   "execution_count": 241,
   "metadata": {},
   "outputs": [
    {
     "data": {
      "text/plain": [
       "set()"
      ]
     },
     "execution_count": 241,
     "metadata": {},
     "output_type": "execute_result"
    }
   ],
   "source": [
    "set(closest_dim_f).intersection(set(closest_dim_p))"
   ]
  },
  {
   "cell_type": "code",
   "execution_count": 246,
   "metadata": {},
   "outputs": [
    {
     "data": {
      "text/plain": [
       "set()"
      ]
     },
     "execution_count": 246,
     "metadata": {},
     "output_type": "execute_result"
    }
   ],
   "source": [
    "set(furthest_dim_f).intersection(set(furthest_dim_p))"
   ]
  },
  {
   "cell_type": "markdown",
   "metadata": {},
   "source": [
    "There is no overlap in closest and furthest dimensions  `¯\\_(ツ)_/¯`"
   ]
  },
  {
   "cell_type": "code",
   "execution_count": 247,
   "metadata": {},
   "outputs": [
    {
     "data": {
      "text/plain": [
       "{148, 350}"
      ]
     },
     "execution_count": 247,
     "metadata": {},
     "output_type": "execute_result"
    }
   ],
   "source": [
    "set(closest_dim_f).intersection(set(closest_dim_o))"
   ]
  },
  {
   "cell_type": "code",
   "execution_count": 248,
   "metadata": {},
   "outputs": [
    {
     "data": {
      "text/plain": [
       "{209, 328}"
      ]
     },
     "execution_count": 248,
     "metadata": {},
     "output_type": "execute_result"
    }
   ],
   "source": [
    "set(furthest_dim_f).intersection(set(furthest_dim_o))"
   ]
  },
  {
   "cell_type": "markdown",
   "metadata": {},
   "source": [
    "If we compare `femme/s` with `oiseau/x` the overlap in closest and furthest dimensions is different from the ones in the experiment above `¯\\_(ツ)_/¯`"
   ]
  }
 ],
 "metadata": {
  "kernelspec": {
   "display_name": "Python 3",
   "language": "python",
   "name": "python3"
  },
  "language_info": {
   "codemirror_mode": {
    "name": "ipython",
    "version": 3
   },
   "file_extension": ".py",
   "mimetype": "text/x-python",
   "name": "python",
   "nbconvert_exporter": "python",
   "pygments_lexer": "ipython3",
   "version": "3.8.5"
  }
 },
 "nbformat": 4,
 "nbformat_minor": 4
}
