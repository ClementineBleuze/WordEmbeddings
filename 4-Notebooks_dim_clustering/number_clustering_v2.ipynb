{
 "cells": [
  {
   "cell_type": "markdown",
   "metadata": {},
   "source": [
    "# KMeans to test multiple dimensions at a time (number)"
   ]
  },
  {
   "cell_type": "markdown",
   "metadata": {},
   "source": [
    "## 0. Data Loading : dataset of NOUN + ADJ"
   ]
  },
  {
   "cell_type": "code",
   "execution_count": 31,
   "metadata": {},
   "outputs": [],
   "source": [
    "import pandas as pd\n",
    "\n",
    "# WE loading\n",
    "all_n_we = pd.read_csv('../Data/FlauBERT_WE/all_nouns_we.csv', index_col=0).drop(columns=[\"gender\"])\n",
    "all_a_we = pd.read_csv('../Data/FlauBERT_WE/all_adjectives_we.csv', index_col=0).drop(columns = [\"gender\"])"
   ]
  },
  {
   "cell_type": "code",
   "execution_count": 32,
   "metadata": {},
   "outputs": [],
   "source": [
    "from sklearn.cluster import KMeans\n",
    "from sklearn.metrics import adjusted_rand_score"
   ]
  },
  {
   "cell_type": "markdown",
   "metadata": {},
   "source": [
    "## Nouns only"
   ]
  },
  {
   "cell_type": "code",
   "execution_count": 33,
   "metadata": {},
   "outputs": [],
   "source": [
    "all_n_we['number'] = all_n_we.number.apply(lambda x: 1 if x == \"singular\" else 0)\n",
    "normalized_noun = (all_n_we - all_n_we.min())/(all_n_we.max() - all_n_we.min()) "
   ]
  },
  {
   "cell_type": "code",
   "execution_count": 34,
   "metadata": {},
   "outputs": [],
   "source": [
    "dim_list_1= [str(i) for i in range(512)] # all dimensions\n",
    "df_clustering_1 = pd.DataFrame(columns = [\"ARI\"])\n",
    "ari = []\n",
    "\n",
    "for dim in dim_list_1:\n",
    "\n",
    "    # Clustering using Kmeans\n",
    "    km = KMeans(n_clusters=2, random_state=42, n_init=10)\n",
    "    km.fit(normalized_noun[dim].values.reshape(-1, 1))\n",
    "\n",
    "    # Compute the Adjusted Rand Index: the closer to 1, the better\n",
    "    ari.append(adjusted_rand_score(normalized_noun[\"number\"], km.labels_))\n",
    "\n",
    "df_clustering_1[\"ARI\"] = ari\n",
    "df_clustering_1.index = dim_list_1"
   ]
  },
  {
   "cell_type": "code",
   "execution_count": 35,
   "metadata": {},
   "outputs": [
    {
     "data": {
      "text/html": [
       "<div>\n",
       "<style scoped>\n",
       "    .dataframe tbody tr th:only-of-type {\n",
       "        vertical-align: middle;\n",
       "    }\n",
       "\n",
       "    .dataframe tbody tr th {\n",
       "        vertical-align: top;\n",
       "    }\n",
       "\n",
       "    .dataframe thead th {\n",
       "        text-align: right;\n",
       "    }\n",
       "</style>\n",
       "<table border=\"1\" class=\"dataframe\">\n",
       "  <thead>\n",
       "    <tr style=\"text-align: right;\">\n",
       "      <th></th>\n",
       "      <th>ARI</th>\n",
       "    </tr>\n",
       "  </thead>\n",
       "  <tbody>\n",
       "    <tr>\n",
       "      <th>310</th>\n",
       "      <td>0.113546</td>\n",
       "    </tr>\n",
       "    <tr>\n",
       "      <th>54</th>\n",
       "      <td>0.071276</td>\n",
       "    </tr>\n",
       "    <tr>\n",
       "      <th>285</th>\n",
       "      <td>0.056902</td>\n",
       "    </tr>\n",
       "    <tr>\n",
       "      <th>288</th>\n",
       "      <td>0.052711</td>\n",
       "    </tr>\n",
       "    <tr>\n",
       "      <th>278</th>\n",
       "      <td>0.051007</td>\n",
       "    </tr>\n",
       "    <tr>\n",
       "      <th>81</th>\n",
       "      <td>0.049033</td>\n",
       "    </tr>\n",
       "    <tr>\n",
       "      <th>243</th>\n",
       "      <td>0.042733</td>\n",
       "    </tr>\n",
       "    <tr>\n",
       "      <th>359</th>\n",
       "      <td>0.042109</td>\n",
       "    </tr>\n",
       "    <tr>\n",
       "      <th>172</th>\n",
       "      <td>0.038981</td>\n",
       "    </tr>\n",
       "    <tr>\n",
       "      <th>182</th>\n",
       "      <td>0.036312</td>\n",
       "    </tr>\n",
       "  </tbody>\n",
       "</table>\n",
       "</div>"
      ],
      "text/plain": [
       "          ARI\n",
       "310  0.113546\n",
       "54   0.071276\n",
       "285  0.056902\n",
       "288  0.052711\n",
       "278  0.051007\n",
       "81   0.049033\n",
       "243  0.042733\n",
       "359  0.042109\n",
       "172  0.038981\n",
       "182  0.036312"
      ]
     },
     "execution_count": 35,
     "metadata": {},
     "output_type": "execute_result"
    }
   ],
   "source": [
    "top10_1 = df_clustering_1.sort_values(by = \"ARI\", ascending = False)\n",
    "dim_top10_1 = list(top10_1.head(10).index)\n",
    "top10_1.head(10)"
   ]
  },
  {
   "cell_type": "code",
   "execution_count": 36,
   "metadata": {},
   "outputs": [],
   "source": [
    "w1 = list(pd.read_csv('../Data/Dimensions/GN/noun.csv', index_col=0).iloc[:, 0].values)\n",
    "\n",
    "w1.extend(top10_1.head(10).index)\n",
    "\n",
    "pd.DataFrame(w1).to_csv('../Data/Dimensions/GN/noun.csv')"
   ]
  },
  {
   "cell_type": "markdown",
   "metadata": {},
   "source": [
    "## Adjs"
   ]
  },
  {
   "cell_type": "code",
   "execution_count": 37,
   "metadata": {},
   "outputs": [],
   "source": [
    "all_a_we['number'] = all_a_we.number.apply(lambda x: 1 if x == \"singular\" else 0)\n",
    "normalized_adj = (all_a_we - all_a_we.min())/(all_a_we.max() - all_a_we.min()) "
   ]
  },
  {
   "cell_type": "code",
   "execution_count": 38,
   "metadata": {},
   "outputs": [],
   "source": [
    "dim_list_1= [str(i) for i in range(512)] # all dimensions\n",
    "df_clustering_1 = pd.DataFrame(columns = [\"ARI\"])\n",
    "ari = []\n",
    "\n",
    "for dim in dim_list_1:\n",
    "\n",
    "    # Clustering using Kmeans\n",
    "    km = KMeans(n_clusters=2, random_state=42, n_init=10)\n",
    "    km.fit(normalized_adj[dim].values.reshape(-1, 1))\n",
    "\n",
    "    # Compute the Adjusted Rand Index: the closer to 1, the better\n",
    "    ari.append(adjusted_rand_score(normalized_adj[\"number\"], km.labels_))\n",
    "\n",
    "df_clustering_1[\"ARI\"] = ari\n",
    "df_clustering_1.index = dim_list_1"
   ]
  },
  {
   "cell_type": "code",
   "execution_count": 39,
   "metadata": {},
   "outputs": [
    {
     "data": {
      "text/html": [
       "<div>\n",
       "<style scoped>\n",
       "    .dataframe tbody tr th:only-of-type {\n",
       "        vertical-align: middle;\n",
       "    }\n",
       "\n",
       "    .dataframe tbody tr th {\n",
       "        vertical-align: top;\n",
       "    }\n",
       "\n",
       "    .dataframe thead th {\n",
       "        text-align: right;\n",
       "    }\n",
       "</style>\n",
       "<table border=\"1\" class=\"dataframe\">\n",
       "  <thead>\n",
       "    <tr style=\"text-align: right;\">\n",
       "      <th></th>\n",
       "      <th>ARI</th>\n",
       "    </tr>\n",
       "  </thead>\n",
       "  <tbody>\n",
       "    <tr>\n",
       "      <th>310</th>\n",
       "      <td>0.112598</td>\n",
       "    </tr>\n",
       "    <tr>\n",
       "      <th>54</th>\n",
       "      <td>0.074463</td>\n",
       "    </tr>\n",
       "    <tr>\n",
       "      <th>285</th>\n",
       "      <td>0.061454</td>\n",
       "    </tr>\n",
       "    <tr>\n",
       "      <th>278</th>\n",
       "      <td>0.056826</td>\n",
       "    </tr>\n",
       "    <tr>\n",
       "      <th>81</th>\n",
       "      <td>0.055338</td>\n",
       "    </tr>\n",
       "    <tr>\n",
       "      <th>288</th>\n",
       "      <td>0.051972</td>\n",
       "    </tr>\n",
       "    <tr>\n",
       "      <th>25</th>\n",
       "      <td>0.048156</td>\n",
       "    </tr>\n",
       "    <tr>\n",
       "      <th>455</th>\n",
       "      <td>0.045349</td>\n",
       "    </tr>\n",
       "    <tr>\n",
       "      <th>56</th>\n",
       "      <td>0.044883</td>\n",
       "    </tr>\n",
       "    <tr>\n",
       "      <th>495</th>\n",
       "      <td>0.044811</td>\n",
       "    </tr>\n",
       "  </tbody>\n",
       "</table>\n",
       "</div>"
      ],
      "text/plain": [
       "          ARI\n",
       "310  0.112598\n",
       "54   0.074463\n",
       "285  0.061454\n",
       "278  0.056826\n",
       "81   0.055338\n",
       "288  0.051972\n",
       "25   0.048156\n",
       "455  0.045349\n",
       "56   0.044883\n",
       "495  0.044811"
      ]
     },
     "execution_count": 39,
     "metadata": {},
     "output_type": "execute_result"
    }
   ],
   "source": [
    "top10_1 = df_clustering_1.sort_values(by = \"ARI\", ascending = False)\n",
    "dim_top10_1 = list(top10_1.head(10).index)\n",
    "top10_1.head(10)"
   ]
  },
  {
   "cell_type": "code",
   "execution_count": 40,
   "metadata": {},
   "outputs": [],
   "source": [
    "w1 = list(pd.read_csv('../Data/Dimensions/GN/adj.csv', index_col=0).iloc[:, 0].values)\n",
    "\n",
    "w1.extend(top10_1.head(10).index)\n",
    "\n",
    "pd.DataFrame(w1).to_csv('../Data/Dimensions/GN/adj.csv')"
   ]
  },
  {
   "cell_type": "markdown",
   "metadata": {},
   "source": [
    "## Both"
   ]
  },
  {
   "cell_type": "code",
   "execution_count": 41,
   "metadata": {},
   "outputs": [],
   "source": [
    "normalized_both = pd.concat([normalized_adj, normalized_noun])"
   ]
  },
  {
   "cell_type": "code",
   "execution_count": 42,
   "metadata": {},
   "outputs": [],
   "source": [
    "dim_list_1= [str(i) for i in range(512)] # all dimensions\n",
    "df_clustering_1 = pd.DataFrame(columns = [\"ARI\"])\n",
    "ari = []\n",
    "\n",
    "for dim in dim_list_1:\n",
    "\n",
    "    # Clustering using Kmeans\n",
    "    km = KMeans(n_clusters=2, random_state=42, n_init=10)\n",
    "    km.fit(normalized_both[dim].values.reshape(-1, 1))\n",
    "\n",
    "    # Compute the Adjusted Rand Index: the closer to 1, the better\n",
    "    ari.append(adjusted_rand_score(normalized_both[\"number\"], km.labels_))\n",
    "\n",
    "df_clustering_1[\"ARI\"] = ari\n",
    "df_clustering_1.index = dim_list_1"
   ]
  },
  {
   "cell_type": "code",
   "execution_count": 43,
   "metadata": {},
   "outputs": [
    {
     "data": {
      "text/html": [
       "<div>\n",
       "<style scoped>\n",
       "    .dataframe tbody tr th:only-of-type {\n",
       "        vertical-align: middle;\n",
       "    }\n",
       "\n",
       "    .dataframe tbody tr th {\n",
       "        vertical-align: top;\n",
       "    }\n",
       "\n",
       "    .dataframe thead th {\n",
       "        text-align: right;\n",
       "    }\n",
       "</style>\n",
       "<table border=\"1\" class=\"dataframe\">\n",
       "  <thead>\n",
       "    <tr style=\"text-align: right;\">\n",
       "      <th></th>\n",
       "      <th>ARI</th>\n",
       "    </tr>\n",
       "  </thead>\n",
       "  <tbody>\n",
       "    <tr>\n",
       "      <th>310</th>\n",
       "      <td>0.117566</td>\n",
       "    </tr>\n",
       "    <tr>\n",
       "      <th>54</th>\n",
       "      <td>0.068252</td>\n",
       "    </tr>\n",
       "    <tr>\n",
       "      <th>285</th>\n",
       "      <td>0.055097</td>\n",
       "    </tr>\n",
       "    <tr>\n",
       "      <th>278</th>\n",
       "      <td>0.048557</td>\n",
       "    </tr>\n",
       "    <tr>\n",
       "      <th>81</th>\n",
       "      <td>0.046628</td>\n",
       "    </tr>\n",
       "    <tr>\n",
       "      <th>288</th>\n",
       "      <td>0.043262</td>\n",
       "    </tr>\n",
       "    <tr>\n",
       "      <th>25</th>\n",
       "      <td>0.041690</td>\n",
       "    </tr>\n",
       "    <tr>\n",
       "      <th>495</th>\n",
       "      <td>0.041609</td>\n",
       "    </tr>\n",
       "    <tr>\n",
       "      <th>172</th>\n",
       "      <td>0.037295</td>\n",
       "    </tr>\n",
       "    <tr>\n",
       "      <th>359</th>\n",
       "      <td>0.034606</td>\n",
       "    </tr>\n",
       "  </tbody>\n",
       "</table>\n",
       "</div>"
      ],
      "text/plain": [
       "          ARI\n",
       "310  0.117566\n",
       "54   0.068252\n",
       "285  0.055097\n",
       "278  0.048557\n",
       "81   0.046628\n",
       "288  0.043262\n",
       "25   0.041690\n",
       "495  0.041609\n",
       "172  0.037295\n",
       "359  0.034606"
      ]
     },
     "execution_count": 43,
     "metadata": {},
     "output_type": "execute_result"
    }
   ],
   "source": [
    "top10_1 = df_clustering_1.sort_values(by = \"ARI\", ascending = False)\n",
    "dim_top10_1 = list(top10_1.head(10).index)\n",
    "top10_1.head(10)"
   ]
  },
  {
   "cell_type": "code",
   "execution_count": 44,
   "metadata": {},
   "outputs": [],
   "source": [
    "w1 = list(pd.read_csv('../Data/Dimensions/GN/both.csv', index_col=0).iloc[:, 0].values)\n",
    "\n",
    "w1.extend(top10_1.head(10).index)\n",
    "\n",
    "pd.DataFrame(w1).to_csv('../Data/Dimensions/GN/both.csv')"
   ]
  },
  {
   "cell_type": "code",
   "execution_count": null,
   "metadata": {},
   "outputs": [],
   "source": []
  }
 ],
 "metadata": {
  "kernelspec": {
   "display_name": "Python 3 (ipykernel)",
   "language": "python",
   "name": "python3"
  },
  "language_info": {
   "codemirror_mode": {
    "name": "ipython",
    "version": 3
   },
   "file_extension": ".py",
   "mimetype": "text/x-python",
   "name": "python",
   "nbconvert_exporter": "python",
   "pygments_lexer": "ipython3",
   "version": "3.10.9"
  },
  "vscode": {
   "interpreter": {
    "hash": "3de7a084b318d7b8bf96005cb5db4da14a27f60df0465391ef48a4c336f03bfe"
   }
  }
 },
 "nbformat": 4,
 "nbformat_minor": 2
}
