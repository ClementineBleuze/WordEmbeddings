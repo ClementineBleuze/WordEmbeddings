{
 "cells": [
  {
   "cell_type": "markdown",
   "metadata": {},
   "source": [
    "# KMeans to test multiple dimensions at a time (gender)"
   ]
  },
  {
   "cell_type": "markdown",
   "metadata": {},
   "source": [
    "## 0. Data Loading : dataset of NOUN + ADJ"
   ]
  },
  {
   "cell_type": "code",
   "execution_count": 1,
   "metadata": {},
   "outputs": [],
   "source": [
    "import pandas as pd\n",
    "\n",
    "# WE loading\n",
    "all_n_we = pd.read_csv('../Data/FlauBERT_WE/all_nouns_we.csv', index_col=0).drop(columns=[\"number\"])\n",
    "all_a_we = pd.read_csv('../Data/FlauBERT_WE/all_adjectives_we.csv', index_col=0).drop(columns = [\"number\"])"
   ]
  },
  {
   "cell_type": "code",
   "execution_count": 2,
   "metadata": {},
   "outputs": [],
   "source": [
    "from sklearn.cluster import KMeans\n",
    "from sklearn.metrics import adjusted_rand_score"
   ]
  },
  {
   "cell_type": "markdown",
   "metadata": {},
   "source": [
    "## Nouns only "
   ]
  },
  {
   "cell_type": "code",
   "execution_count": 3,
   "metadata": {},
   "outputs": [],
   "source": [
    "all_n_we['gender'] = all_n_we.gender.apply(lambda x: 1 if x == \"masculine\" else 0)\n",
    "normalized_noun = (all_n_we - all_n_we.min())/(all_n_we.max() - all_n_we.min()) "
   ]
  },
  {
   "cell_type": "code",
   "execution_count": 35,
   "metadata": {},
   "outputs": [],
   "source": [
    "dim_list_1= [str(i) for i in range(512)] # all dimensions\n",
    "df_clustering_1 = pd.DataFrame(columns = [\"ARI\"])\n",
    "ari = []\n",
    "\n",
    "for dim in dim_list_1:\n",
    "\n",
    "    # Clustering using Kmeans\n",
    "    km = KMeans(n_clusters=2, random_state=42, n_init=10)\n",
    "    km.fit(normalized_noun[dim].values.reshape(-1, 1))\n",
    "\n",
    "    # Compute the Adjusted Rand Index: the closer to 1, the better\n",
    "    ari.append(adjusted_rand_score(normalized_noun[\"gender\"], km.labels_))\n",
    "\n",
    "df_clustering_1[\"ARI\"] = ari\n",
    "df_clustering_1.index = dim_list_1"
   ]
  },
  {
   "cell_type": "code",
   "execution_count": 36,
   "metadata": {},
   "outputs": [
    {
     "data": {
      "text/html": [
       "<div>\n",
       "<style scoped>\n",
       "    .dataframe tbody tr th:only-of-type {\n",
       "        vertical-align: middle;\n",
       "    }\n",
       "\n",
       "    .dataframe tbody tr th {\n",
       "        vertical-align: top;\n",
       "    }\n",
       "\n",
       "    .dataframe thead th {\n",
       "        text-align: right;\n",
       "    }\n",
       "</style>\n",
       "<table border=\"1\" class=\"dataframe\">\n",
       "  <thead>\n",
       "    <tr style=\"text-align: right;\">\n",
       "      <th></th>\n",
       "      <th>ARI</th>\n",
       "    </tr>\n",
       "  </thead>\n",
       "  <tbody>\n",
       "    <tr>\n",
       "      <th>100</th>\n",
       "      <td>0.028524</td>\n",
       "    </tr>\n",
       "    <tr>\n",
       "      <th>195</th>\n",
       "      <td>0.023761</td>\n",
       "    </tr>\n",
       "    <tr>\n",
       "      <th>316</th>\n",
       "      <td>0.021304</td>\n",
       "    </tr>\n",
       "    <tr>\n",
       "      <th>245</th>\n",
       "      <td>0.020889</td>\n",
       "    </tr>\n",
       "    <tr>\n",
       "      <th>507</th>\n",
       "      <td>0.019404</td>\n",
       "    </tr>\n",
       "    <tr>\n",
       "      <th>192</th>\n",
       "      <td>0.017843</td>\n",
       "    </tr>\n",
       "    <tr>\n",
       "      <th>403</th>\n",
       "      <td>0.017202</td>\n",
       "    </tr>\n",
       "    <tr>\n",
       "      <th>121</th>\n",
       "      <td>0.016885</td>\n",
       "    </tr>\n",
       "    <tr>\n",
       "      <th>377</th>\n",
       "      <td>0.015596</td>\n",
       "    </tr>\n",
       "    <tr>\n",
       "      <th>202</th>\n",
       "      <td>0.015122</td>\n",
       "    </tr>\n",
       "  </tbody>\n",
       "</table>\n",
       "</div>"
      ],
      "text/plain": [
       "          ARI\n",
       "100  0.028524\n",
       "195  0.023761\n",
       "316  0.021304\n",
       "245  0.020889\n",
       "507  0.019404\n",
       "192  0.017843\n",
       "403  0.017202\n",
       "121  0.016885\n",
       "377  0.015596\n",
       "202  0.015122"
      ]
     },
     "execution_count": 36,
     "metadata": {},
     "output_type": "execute_result"
    }
   ],
   "source": [
    "top10_1 = df_clustering_1.sort_values(by = \"ARI\", ascending = False)\n",
    "dim_top10_1 = list(top10_1.head(10).index)\n",
    "top10_1.head(10)"
   ]
  },
  {
   "cell_type": "code",
   "execution_count": 37,
   "metadata": {},
   "outputs": [],
   "source": [
    "w1 = list(pd.read_csv('../Data/Dimensions/GG/noun.csv', index_col=0).iloc[:, 0].values)\n",
    "\n",
    "w1.extend(top10_1.head(10).index)\n",
    "\n",
    "pd.DataFrame(w1).to_csv('../Data/Dimensions/GG/noun.csv')"
   ]
  },
  {
   "cell_type": "code",
   "execution_count": 9,
   "metadata": {},
   "outputs": [
    {
     "name": "stdout",
     "output_type": "stream",
     "text": [
      "Total number of combinations:  130816\n",
      "Progress:  0.0 %\n",
      "Progress:  9.999541340508806 %\n",
      "Progress:  19.99908268101761 %\n",
      "Progress:  29.99862402152642 %\n",
      "Progress:  39.99816536203522 %\n",
      "Progress:  49.99770670254403 %\n",
      "Progress:  59.99724804305284 %\n",
      "Progress:  69.99678938356165 %\n",
      "Progress:  79.99633072407045 %\n",
      "Progress:  89.99587206457925 %\n",
      "Progress:  99.99541340508806 %\n"
     ]
    }
   ],
   "source": [
    "dim_list_2 = [[str(i), str(j)] for i in range(512) for j in range(512) if i<j] # all dimensions\n",
    "print(\"Total number of combinations: \", len(dim_list_2))\n",
    "df_clustering_2 = pd.DataFrame(columns = [\"ARI\"])\n",
    "ari = []\n",
    "\n",
    "for i, dim in enumerate(dim_list_2):\n",
    "\n",
    "    # Clustering using Kmeans\n",
    "    km = KMeans(n_clusters=2, random_state=42, n_init=10)\n",
    "    km.fit(normalized_noun[dim])\n",
    "\n",
    "    # Compute the Adjusted Rand Index: the closer to 1, the better\n",
    "    ari.append(adjusted_rand_score(normalized_noun[\"gender\"], km.labels_))\n",
    "\n",
    "    if i % (len(dim_list_2)//10) == 0:\n",
    "        print(\"Progress: \", i/len(dim_list_2)*100, \"%\")\n",
    "\n",
    "df_clustering_2[\"ARI\"] = ari\n",
    "df_clustering_2.index = [str(tuple_) for tuple_ in dim_list_2]"
   ]
  },
  {
   "cell_type": "code",
   "execution_count": 10,
   "metadata": {},
   "outputs": [
    {
     "data": {
      "text/html": [
       "<div>\n",
       "<style scoped>\n",
       "    .dataframe tbody tr th:only-of-type {\n",
       "        vertical-align: middle;\n",
       "    }\n",
       "\n",
       "    .dataframe tbody tr th {\n",
       "        vertical-align: top;\n",
       "    }\n",
       "\n",
       "    .dataframe thead th {\n",
       "        text-align: right;\n",
       "    }\n",
       "</style>\n",
       "<table border=\"1\" class=\"dataframe\">\n",
       "  <thead>\n",
       "    <tr style=\"text-align: right;\">\n",
       "      <th></th>\n",
       "      <th>ARI</th>\n",
       "    </tr>\n",
       "  </thead>\n",
       "  <tbody>\n",
       "    <tr>\n",
       "      <th>['100', '245']</th>\n",
       "      <td>0.046012</td>\n",
       "    </tr>\n",
       "    <tr>\n",
       "      <th>['195', '316']</th>\n",
       "      <td>0.039982</td>\n",
       "    </tr>\n",
       "    <tr>\n",
       "      <th>['100', '316']</th>\n",
       "      <td>0.039428</td>\n",
       "    </tr>\n",
       "    <tr>\n",
       "      <th>['195', '507']</th>\n",
       "      <td>0.038977</td>\n",
       "    </tr>\n",
       "    <tr>\n",
       "      <th>['100', '195']</th>\n",
       "      <td>0.037987</td>\n",
       "    </tr>\n",
       "    <tr>\n",
       "      <th>['245', '316']</th>\n",
       "      <td>0.036835</td>\n",
       "    </tr>\n",
       "    <tr>\n",
       "      <th>['192', '195']</th>\n",
       "      <td>0.036505</td>\n",
       "    </tr>\n",
       "    <tr>\n",
       "      <th>['100', '121']</th>\n",
       "      <td>0.036504</td>\n",
       "    </tr>\n",
       "    <tr>\n",
       "      <th>['100', '377']</th>\n",
       "      <td>0.036421</td>\n",
       "    </tr>\n",
       "    <tr>\n",
       "      <th>['121', '316']</th>\n",
       "      <td>0.036322</td>\n",
       "    </tr>\n",
       "  </tbody>\n",
       "</table>\n",
       "</div>"
      ],
      "text/plain": [
       "                     ARI\n",
       "['100', '245']  0.046012\n",
       "['195', '316']  0.039982\n",
       "['100', '316']  0.039428\n",
       "['195', '507']  0.038977\n",
       "['100', '195']  0.037987\n",
       "['245', '316']  0.036835\n",
       "['192', '195']  0.036505\n",
       "['100', '121']  0.036504\n",
       "['100', '377']  0.036421\n",
       "['121', '316']  0.036322"
      ]
     },
     "execution_count": 10,
     "metadata": {},
     "output_type": "execute_result"
    }
   ],
   "source": [
    "top10_2 = df_clustering_2.sort_values(by = \"ARI\", ascending = False)\n",
    "top10_2.head(10)"
   ]
  },
  {
   "cell_type": "markdown",
   "metadata": {},
   "source": [
    "## Adjs only"
   ]
  },
  {
   "cell_type": "code",
   "execution_count": 11,
   "metadata": {},
   "outputs": [],
   "source": [
    "all_a_we['gender'] = all_a_we.gender.apply(lambda x: 1 if x == \"masculine\" else 0)\n",
    "normalized_adj = (all_a_we - all_a_we.min())/(all_a_we.max() - all_a_we.min()) "
   ]
  },
  {
   "cell_type": "code",
   "execution_count": 39,
   "metadata": {},
   "outputs": [],
   "source": [
    "dim_list_1= [str(i) for i in range(512)] # all dimensions\n",
    "df_clustering_1 = pd.DataFrame(columns = [\"ARI\"])\n",
    "ari = []\n",
    "\n",
    "for dim in dim_list_1:\n",
    "\n",
    "    # Clustering using Kmeans\n",
    "    km = KMeans(n_clusters=2, random_state=42, n_init=10)\n",
    "    km.fit(normalized_adj[dim].values.reshape(-1, 1))\n",
    "\n",
    "    # Compute the Adjusted Rand Index: the closer to 1, the better\n",
    "    ari.append(adjusted_rand_score(normalized_adj[\"gender\"], km.labels_))\n",
    "\n",
    "df_clustering_1[\"ARI\"] = ari\n",
    "df_clustering_1.index = dim_list_1"
   ]
  },
  {
   "cell_type": "code",
   "execution_count": 40,
   "metadata": {},
   "outputs": [
    {
     "data": {
      "text/html": [
       "<div>\n",
       "<style scoped>\n",
       "    .dataframe tbody tr th:only-of-type {\n",
       "        vertical-align: middle;\n",
       "    }\n",
       "\n",
       "    .dataframe tbody tr th {\n",
       "        vertical-align: top;\n",
       "    }\n",
       "\n",
       "    .dataframe thead th {\n",
       "        text-align: right;\n",
       "    }\n",
       "</style>\n",
       "<table border=\"1\" class=\"dataframe\">\n",
       "  <thead>\n",
       "    <tr style=\"text-align: right;\">\n",
       "      <th></th>\n",
       "      <th>ARI</th>\n",
       "    </tr>\n",
       "  </thead>\n",
       "  <tbody>\n",
       "    <tr>\n",
       "      <th>466</th>\n",
       "      <td>0.077949</td>\n",
       "    </tr>\n",
       "    <tr>\n",
       "      <th>503</th>\n",
       "      <td>0.070347</td>\n",
       "    </tr>\n",
       "    <tr>\n",
       "      <th>250</th>\n",
       "      <td>0.065059</td>\n",
       "    </tr>\n",
       "    <tr>\n",
       "      <th>133</th>\n",
       "      <td>0.061140</td>\n",
       "    </tr>\n",
       "    <tr>\n",
       "      <th>439</th>\n",
       "      <td>0.058512</td>\n",
       "    </tr>\n",
       "    <tr>\n",
       "      <th>38</th>\n",
       "      <td>0.053623</td>\n",
       "    </tr>\n",
       "    <tr>\n",
       "      <th>39</th>\n",
       "      <td>0.049656</td>\n",
       "    </tr>\n",
       "    <tr>\n",
       "      <th>234</th>\n",
       "      <td>0.049046</td>\n",
       "    </tr>\n",
       "    <tr>\n",
       "      <th>432</th>\n",
       "      <td>0.046831</td>\n",
       "    </tr>\n",
       "    <tr>\n",
       "      <th>181</th>\n",
       "      <td>0.045418</td>\n",
       "    </tr>\n",
       "  </tbody>\n",
       "</table>\n",
       "</div>"
      ],
      "text/plain": [
       "          ARI\n",
       "466  0.077949\n",
       "503  0.070347\n",
       "250  0.065059\n",
       "133  0.061140\n",
       "439  0.058512\n",
       "38   0.053623\n",
       "39   0.049656\n",
       "234  0.049046\n",
       "432  0.046831\n",
       "181  0.045418"
      ]
     },
     "execution_count": 40,
     "metadata": {},
     "output_type": "execute_result"
    }
   ],
   "source": [
    "top10_1 = df_clustering_1.sort_values(by = \"ARI\", ascending = False)\n",
    "dim_top10_1 = list(top10_1.head(10).index)\n",
    "top10_1.head(10)"
   ]
  },
  {
   "cell_type": "code",
   "execution_count": 41,
   "metadata": {},
   "outputs": [],
   "source": [
    "w1 = list(pd.read_csv('../Data/Dimensions/GG/adj.csv', index_col=0).iloc[:, 0].values)\n",
    "\n",
    "w1.extend(top10_1.head(10).index)\n",
    "\n",
    "pd.DataFrame(w1).to_csv('../Data/Dimensions/GG/adj.csv')"
   ]
  },
  {
   "cell_type": "code",
   "execution_count": 12,
   "metadata": {},
   "outputs": [
    {
     "name": "stdout",
     "output_type": "stream",
     "text": [
      "Total number of combinations:  130816\n",
      "Progress:  0.0 %\n",
      "Progress:  9.999541340508806 %\n",
      "Progress:  19.99908268101761 %\n",
      "Progress:  29.99862402152642 %\n",
      "Progress:  39.99816536203522 %\n",
      "Progress:  49.99770670254403 %\n",
      "Progress:  59.99724804305284 %\n",
      "Progress:  69.99678938356165 %\n",
      "Progress:  79.99633072407045 %\n",
      "Progress:  89.99587206457925 %\n",
      "Progress:  99.99541340508806 %\n"
     ]
    }
   ],
   "source": [
    "dim_list_2 = [[str(i), str(j)] for i in range(512) for j in range(512) if i<j] # all dimensions\n",
    "print(\"Total number of combinations: \", len(dim_list_2))\n",
    "df_clustering_2 = pd.DataFrame(columns = [\"ARI\"])\n",
    "ari = []\n",
    "\n",
    "for i, dim in enumerate(dim_list_2):\n",
    "\n",
    "    # Clustering using Kmeans\n",
    "    km = KMeans(n_clusters=2, random_state=42, n_init=10)\n",
    "    km.fit(normalized_adj[dim])\n",
    "\n",
    "    # Compute the Adjusted Rand Index: the closer to 1, the better\n",
    "    ari.append(adjusted_rand_score(normalized_adj[\"gender\"], km.labels_))\n",
    "\n",
    "    if i % (len(dim_list_2)//10) == 0:\n",
    "        print(\"Progress: \", i/len(dim_list_2)*100, \"%\")\n",
    "\n",
    "df_clustering_2[\"ARI\"] = ari\n",
    "df_clustering_2.index = [str(tuple_) for tuple_ in dim_list_2]"
   ]
  },
  {
   "cell_type": "code",
   "execution_count": 13,
   "metadata": {},
   "outputs": [
    {
     "data": {
      "text/html": [
       "<div>\n",
       "<style scoped>\n",
       "    .dataframe tbody tr th:only-of-type {\n",
       "        vertical-align: middle;\n",
       "    }\n",
       "\n",
       "    .dataframe tbody tr th {\n",
       "        vertical-align: top;\n",
       "    }\n",
       "\n",
       "    .dataframe thead th {\n",
       "        text-align: right;\n",
       "    }\n",
       "</style>\n",
       "<table border=\"1\" class=\"dataframe\">\n",
       "  <thead>\n",
       "    <tr style=\"text-align: right;\">\n",
       "      <th></th>\n",
       "      <th>ARI</th>\n",
       "    </tr>\n",
       "  </thead>\n",
       "  <tbody>\n",
       "    <tr>\n",
       "      <th>['245', '466']</th>\n",
       "      <td>0.131638</td>\n",
       "    </tr>\n",
       "    <tr>\n",
       "      <th>['439', '466']</th>\n",
       "      <td>0.122705</td>\n",
       "    </tr>\n",
       "    <tr>\n",
       "      <th>['121', '466']</th>\n",
       "      <td>0.116324</td>\n",
       "    </tr>\n",
       "    <tr>\n",
       "      <th>['250', '439']</th>\n",
       "      <td>0.115220</td>\n",
       "    </tr>\n",
       "    <tr>\n",
       "      <th>['250', '466']</th>\n",
       "      <td>0.114970</td>\n",
       "    </tr>\n",
       "    <tr>\n",
       "      <th>['466', '503']</th>\n",
       "      <td>0.114443</td>\n",
       "    </tr>\n",
       "    <tr>\n",
       "      <th>['234', '466']</th>\n",
       "      <td>0.111678</td>\n",
       "    </tr>\n",
       "    <tr>\n",
       "      <th>['206', '466']</th>\n",
       "      <td>0.111366</td>\n",
       "    </tr>\n",
       "    <tr>\n",
       "      <th>['250', '503']</th>\n",
       "      <td>0.108908</td>\n",
       "    </tr>\n",
       "    <tr>\n",
       "      <th>['260', '466']</th>\n",
       "      <td>0.108636</td>\n",
       "    </tr>\n",
       "  </tbody>\n",
       "</table>\n",
       "</div>"
      ],
      "text/plain": [
       "                     ARI\n",
       "['245', '466']  0.131638\n",
       "['439', '466']  0.122705\n",
       "['121', '466']  0.116324\n",
       "['250', '439']  0.115220\n",
       "['250', '466']  0.114970\n",
       "['466', '503']  0.114443\n",
       "['234', '466']  0.111678\n",
       "['206', '466']  0.111366\n",
       "['250', '503']  0.108908\n",
       "['260', '466']  0.108636"
      ]
     },
     "execution_count": 13,
     "metadata": {},
     "output_type": "execute_result"
    }
   ],
   "source": [
    "top10_2 = df_clustering_2.sort_values(by = \"ARI\", ascending = False)\n",
    "top10_2.head(10)"
   ]
  },
  {
   "cell_type": "markdown",
   "metadata": {},
   "source": [
    "## Both"
   ]
  },
  {
   "cell_type": "code",
   "execution_count": 42,
   "metadata": {},
   "outputs": [],
   "source": [
    "normalized_both = pd.concat([normalized_adj, normalized_noun])"
   ]
  },
  {
   "cell_type": "code",
   "execution_count": 43,
   "metadata": {},
   "outputs": [],
   "source": [
    "dim_list_1= [str(i) for i in range(512)] # all dimensions\n",
    "df_clustering_1 = pd.DataFrame(columns = [\"ARI\"])\n",
    "ari = []\n",
    "\n",
    "for dim in dim_list_1:\n",
    "\n",
    "    # Clustering using Kmeans\n",
    "    km = KMeans(n_clusters=2, random_state=42, n_init=10)\n",
    "    km.fit(normalized_both[dim].values.reshape(-1, 1))\n",
    "\n",
    "    # Compute the Adjusted Rand Index: the closer to 1, the better\n",
    "    ari.append(adjusted_rand_score(normalized_both[\"gender\"], km.labels_))\n",
    "\n",
    "df_clustering_1[\"ARI\"] = ari\n",
    "df_clustering_1.index = dim_list_1"
   ]
  },
  {
   "cell_type": "code",
   "execution_count": 44,
   "metadata": {},
   "outputs": [
    {
     "data": {
      "text/html": [
       "<div>\n",
       "<style scoped>\n",
       "    .dataframe tbody tr th:only-of-type {\n",
       "        vertical-align: middle;\n",
       "    }\n",
       "\n",
       "    .dataframe tbody tr th {\n",
       "        vertical-align: top;\n",
       "    }\n",
       "\n",
       "    .dataframe thead th {\n",
       "        text-align: right;\n",
       "    }\n",
       "</style>\n",
       "<table border=\"1\" class=\"dataframe\">\n",
       "  <thead>\n",
       "    <tr style=\"text-align: right;\">\n",
       "      <th></th>\n",
       "      <th>ARI</th>\n",
       "    </tr>\n",
       "  </thead>\n",
       "  <tbody>\n",
       "    <tr>\n",
       "      <th>245</th>\n",
       "      <td>0.024772</td>\n",
       "    </tr>\n",
       "    <tr>\n",
       "      <th>192</th>\n",
       "      <td>0.024167</td>\n",
       "    </tr>\n",
       "    <tr>\n",
       "      <th>439</th>\n",
       "      <td>0.024044</td>\n",
       "    </tr>\n",
       "    <tr>\n",
       "      <th>121</th>\n",
       "      <td>0.023915</td>\n",
       "    </tr>\n",
       "    <tr>\n",
       "      <th>507</th>\n",
       "      <td>0.023774</td>\n",
       "    </tr>\n",
       "    <tr>\n",
       "      <th>250</th>\n",
       "      <td>0.021967</td>\n",
       "    </tr>\n",
       "    <tr>\n",
       "      <th>5</th>\n",
       "      <td>0.020017</td>\n",
       "    </tr>\n",
       "    <tr>\n",
       "      <th>466</th>\n",
       "      <td>0.018595</td>\n",
       "    </tr>\n",
       "    <tr>\n",
       "      <th>181</th>\n",
       "      <td>0.017908</td>\n",
       "    </tr>\n",
       "    <tr>\n",
       "      <th>503</th>\n",
       "      <td>0.017869</td>\n",
       "    </tr>\n",
       "  </tbody>\n",
       "</table>\n",
       "</div>"
      ],
      "text/plain": [
       "          ARI\n",
       "245  0.024772\n",
       "192  0.024167\n",
       "439  0.024044\n",
       "121  0.023915\n",
       "507  0.023774\n",
       "250  0.021967\n",
       "5    0.020017\n",
       "466  0.018595\n",
       "181  0.017908\n",
       "503  0.017869"
      ]
     },
     "execution_count": 44,
     "metadata": {},
     "output_type": "execute_result"
    }
   ],
   "source": [
    "top10_1 = df_clustering_1.sort_values(by = \"ARI\", ascending = False)\n",
    "dim_top10_1 = list(top10_1.head(10).index)\n",
    "top10_1.head(10)"
   ]
  },
  {
   "cell_type": "code",
   "execution_count": 45,
   "metadata": {},
   "outputs": [],
   "source": [
    "w1 = list(pd.read_csv('../Data/Dimensions/GG/both.csv', index_col=0).iloc[:, 0].values)\n",
    "\n",
    "w1.extend(top10_1.head(10).index)\n",
    "\n",
    "pd.DataFrame(w1).to_csv('../Data/Dimensions/GG/both.csv')"
   ]
  },
  {
   "cell_type": "code",
   "execution_count": null,
   "metadata": {},
   "outputs": [],
   "source": []
  }
 ],
 "metadata": {
  "kernelspec": {
   "display_name": "Python 3 (ipykernel)",
   "language": "python",
   "name": "python3"
  },
  "language_info": {
   "codemirror_mode": {
    "name": "ipython",
    "version": 3
   },
   "file_extension": ".py",
   "mimetype": "text/x-python",
   "name": "python",
   "nbconvert_exporter": "python",
   "pygments_lexer": "ipython3",
   "version": "3.10.10"
  },
  "vscode": {
   "interpreter": {
    "hash": "3de7a084b318d7b8bf96005cb5db4da14a27f60df0465391ef48a4c336f03bfe"
   }
  }
 },
 "nbformat": 4,
 "nbformat_minor": 2
}
