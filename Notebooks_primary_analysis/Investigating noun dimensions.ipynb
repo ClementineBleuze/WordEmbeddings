{
 "cells": [
  {
   "cell_type": "code",
   "execution_count": 1,
   "metadata": {},
   "outputs": [],
   "source": [
    "import pandas as pd\n",
    "import numpy as np\n",
    "\n",
    "import sys\n",
    "sys.path.append('../FlauBERT')\n",
    "from we import *"
   ]
  },
  {
   "cell_type": "markdown",
   "metadata": {},
   "source": [
    "# Investigating dimensions for nouns only"
   ]
  },
  {
   "cell_type": "markdown",
   "metadata": {},
   "source": [
    "Seemingly, for most words dimensions `44`, `52`, `250`, `274` and `371` have very close values. We can attempt to interpret these dimensions by looking at the words with highest and lowest values of these dimensions.\n",
    "\n",
    "We will start by looking at nouns only and later will look all words having its own embedding in FlauBERT."
   ]
  },
  {
   "cell_type": "code",
   "execution_count": 13,
   "metadata": {},
   "outputs": [],
   "source": [
    "df = pd.read_csv('all_nouns_we.csv', index_col=0)"
   ]
  },
  {
   "cell_type": "markdown",
   "metadata": {},
   "source": [
    "First we can check if there is correlation between values of these dimensions for nouns."
   ]
  },
  {
   "cell_type": "code",
   "execution_count": 14,
   "metadata": {},
   "outputs": [
    {
     "data": {
      "text/html": [
       "<div>\n",
       "<style scoped>\n",
       "    .dataframe tbody tr th:only-of-type {\n",
       "        vertical-align: middle;\n",
       "    }\n",
       "\n",
       "    .dataframe tbody tr th {\n",
       "        vertical-align: top;\n",
       "    }\n",
       "\n",
       "    .dataframe thead th {\n",
       "        text-align: right;\n",
       "    }\n",
       "</style>\n",
       "<table border=\"1\" class=\"dataframe\">\n",
       "  <thead>\n",
       "    <tr style=\"text-align: right;\">\n",
       "      <th></th>\n",
       "      <th>44</th>\n",
       "      <th>52</th>\n",
       "      <th>250</th>\n",
       "      <th>371</th>\n",
       "      <th>274</th>\n",
       "    </tr>\n",
       "  </thead>\n",
       "  <tbody>\n",
       "    <tr>\n",
       "      <th>44</th>\n",
       "      <td>1.000000</td>\n",
       "      <td>-0.051077</td>\n",
       "      <td>0.152442</td>\n",
       "      <td>0.192627</td>\n",
       "      <td>0.196897</td>\n",
       "    </tr>\n",
       "    <tr>\n",
       "      <th>52</th>\n",
       "      <td>-0.051077</td>\n",
       "      <td>1.000000</td>\n",
       "      <td>-0.287996</td>\n",
       "      <td>-0.680829</td>\n",
       "      <td>0.160011</td>\n",
       "    </tr>\n",
       "    <tr>\n",
       "      <th>250</th>\n",
       "      <td>0.152442</td>\n",
       "      <td>-0.287996</td>\n",
       "      <td>1.000000</td>\n",
       "      <td>0.473090</td>\n",
       "      <td>-0.013827</td>\n",
       "    </tr>\n",
       "    <tr>\n",
       "      <th>371</th>\n",
       "      <td>0.192627</td>\n",
       "      <td>-0.680829</td>\n",
       "      <td>0.473090</td>\n",
       "      <td>1.000000</td>\n",
       "      <td>-0.079866</td>\n",
       "    </tr>\n",
       "    <tr>\n",
       "      <th>274</th>\n",
       "      <td>0.196897</td>\n",
       "      <td>0.160011</td>\n",
       "      <td>-0.013827</td>\n",
       "      <td>-0.079866</td>\n",
       "      <td>1.000000</td>\n",
       "    </tr>\n",
       "  </tbody>\n",
       "</table>\n",
       "</div>"
      ],
      "text/plain": [
       "           44        52       250       371       274\n",
       "44   1.000000 -0.051077  0.152442  0.192627  0.196897\n",
       "52  -0.051077  1.000000 -0.287996 -0.680829  0.160011\n",
       "250  0.152442 -0.287996  1.000000  0.473090 -0.013827\n",
       "371  0.192627 -0.680829  0.473090  1.000000 -0.079866\n",
       "274  0.196897  0.160011 -0.013827 -0.079866  1.000000"
      ]
     },
     "execution_count": 14,
     "metadata": {},
     "output_type": "execute_result"
    }
   ],
   "source": [
    "df.loc[:, ['44', '52', '250', '371', '274']].corr()"
   ]
  },
  {
   "cell_type": "markdown",
   "metadata": {},
   "source": [
    "There is a relatively strong negative correlation between values of `371` and `52`, however, no strong correlation between other dimensions. "
   ]
  },
  {
   "cell_type": "markdown",
   "metadata": {},
   "source": [
    "### Dimensions 371 and 52"
   ]
  },
  {
   "cell_type": "markdown",
   "metadata": {},
   "source": [
    "Frequency ?"
   ]
  },
  {
   "cell_type": "code",
   "execution_count": 15,
   "metadata": {},
   "outputs": [
    {
     "data": {
      "text/plain": [
       "requin          -41.993412\n",
       "lubrifiants     -37.803580\n",
       "albédo          -36.701378\n",
       "périhélie       -36.631683\n",
       "voïvodie        -36.317690\n",
       "patronyme       -34.603256\n",
       "dépliant        -31.386288\n",
       "inactifs        -30.762203\n",
       "inactifs        -30.762203\n",
       "colza           -30.582678\n",
       "culot           -29.387802\n",
       "string          -29.108583\n",
       "coke            -28.788470\n",
       "moutarde        -25.668873\n",
       "semelles        -25.316526\n",
       "chlore          -24.721478\n",
       "démaquillants   -23.937544\n",
       "raccourcis      -23.916006\n",
       "coque           -23.236792\n",
       "cotation        -22.932732\n",
       "Name: 371, dtype: float64"
      ]
     },
     "execution_count": 15,
     "metadata": {},
     "output_type": "execute_result"
    }
   ],
   "source": [
    "df['371'].sort_values()[:20]"
   ]
  },
  {
   "cell_type": "code",
   "execution_count": 16,
   "metadata": {},
   "outputs": [
    {
     "data": {
      "text/plain": [
       "abolition       67.598400\n",
       "problème        67.818870\n",
       "centres         67.980286\n",
       "disparition     68.005910\n",
       "conscience      68.077190\n",
       "présence        68.096214\n",
       "invite          68.319580\n",
       "argument        68.392370\n",
       "journal         68.395090\n",
       "conscients      68.400370\n",
       "introduction    68.537910\n",
       "évidence        68.962710\n",
       "sujet           69.424490\n",
       "péninsule       69.867226\n",
       "rappel          70.778370\n",
       "convaincu       72.434586\n",
       "conscient       72.498350\n",
       "fédéral         73.610275\n",
       "convaincus      75.340240\n",
       "convaincue      76.199870\n",
       "Name: 371, dtype: float64"
      ]
     },
     "execution_count": 16,
     "metadata": {},
     "output_type": "execute_result"
    }
   ],
   "source": [
    "df['371'].sort_values()[-20:]"
   ]
  },
  {
   "cell_type": "code",
   "execution_count": 17,
   "metadata": {},
   "outputs": [
    {
     "data": {
      "text/plain": [
       "offrant        -22.513628\n",
       "tien           -21.421759\n",
       "sénat          -21.356598\n",
       "convaincue     -21.349820\n",
       "faite          -20.924587\n",
       "parvenue       -20.778069\n",
       "compagnies     -20.777270\n",
       "firmes         -20.619090\n",
       "procure        -20.342148\n",
       "sortes         -20.324757\n",
       "sujet          -20.305103\n",
       "déterminante   -20.249949\n",
       "sujette        -20.248373\n",
       "unanimité      -20.036497\n",
       "experts        -20.005917\n",
       "ordonnance     -19.879800\n",
       "commission     -19.871172\n",
       "moment         -19.829870\n",
       "peintures      -19.795300\n",
       "hormones       -19.649700\n",
       "Name: 52, dtype: float64"
      ]
     },
     "execution_count": 17,
     "metadata": {},
     "output_type": "execute_result"
    }
   ],
   "source": [
    "df['52'].sort_values()[:20]"
   ]
  },
  {
   "cell_type": "code",
   "execution_count": 18,
   "metadata": {},
   "outputs": [
    {
     "data": {
      "text/plain": [
       "albédo          2.139650\n",
       "alkyle          2.179416\n",
       "connecteur      2.243647\n",
       "diélectrique    2.441255\n",
       "bits            2.458617\n",
       "arithmétique    2.487785\n",
       "pluralité       2.489902\n",
       "rotatif         2.647652\n",
       "majuscule       2.724214\n",
       "rotative        2.737949\n",
       "bande           2.988630\n",
       "angulaire       3.120141\n",
       "binaire         3.371762\n",
       "inactifs        3.582097\n",
       "inactifs        3.582097\n",
       "noeud           3.670850\n",
       "brin            4.703166\n",
       "voïvodie        4.729732\n",
       "commençant      4.780240\n",
       "requin          8.473904\n",
       "Name: 52, dtype: float64"
      ]
     },
     "execution_count": 18,
     "metadata": {},
     "output_type": "execute_result"
    }
   ],
   "source": [
    "df['52'].sort_values()[-20:]"
   ]
  },
  {
   "cell_type": "markdown",
   "metadata": {},
   "source": [
    "### Dimension 44"
   ]
  },
  {
   "cell_type": "markdown",
   "metadata": {},
   "source": [
    "Metaphoric / concrete ??? From poetrie corpus ???"
   ]
  },
  {
   "cell_type": "code",
   "execution_count": 20,
   "metadata": {},
   "outputs": [
    {
     "data": {
      "text/plain": [
       "exclusif         -4.951845\n",
       "antécédents      -4.741450\n",
       "carcasse         -4.105033\n",
       "étudiant         -4.057593\n",
       "agrégé           -3.350668\n",
       "expérience       -3.330819\n",
       "barré            -3.254852\n",
       "LE               -3.240073\n",
       "allégation       -3.131016\n",
       "certifications   -3.065510\n",
       "certifiée        -3.000994\n",
       "diplôme          -2.956950\n",
       "dépliant         -2.946557\n",
       "démaquillants    -2.915430\n",
       "descriptif       -2.696025\n",
       "GI               -2.691590\n",
       "admissibilité    -2.663185\n",
       "attestation      -2.573955\n",
       "assimilé         -2.497933\n",
       "incapacité       -2.431718\n",
       "Name: 44, dtype: float64"
      ]
     },
     "execution_count": 20,
     "metadata": {},
     "output_type": "execute_result"
    }
   ],
   "source": [
    "df['44'].sort_values()[:20]"
   ]
  },
  {
   "cell_type": "code",
   "execution_count": 21,
   "metadata": {},
   "outputs": [
    {
     "data": {
      "text/plain": [
       "bouge            15.230185\n",
       "dupe             15.292263\n",
       "infini           15.331705\n",
       "gaieté           15.451132\n",
       "infinie          15.542399\n",
       "sourd            15.549902\n",
       "lueur            15.561398\n",
       "volupté          15.689058\n",
       "éclaire          15.747795\n",
       "valse            15.882359\n",
       "baisser          15.946331\n",
       "découragement    16.014618\n",
       "tumulte          16.077300\n",
       "rêverie          16.140003\n",
       "aurore           16.271265\n",
       "frisson          16.412410\n",
       "croît            16.449757\n",
       "mélancolique     16.476517\n",
       "crépuscule       17.584171\n",
       "murmure          19.124670\n",
       "Name: 44, dtype: float64"
      ]
     },
     "execution_count": 21,
     "metadata": {},
     "output_type": "execute_result"
    }
   ],
   "source": [
    "df['44'].sort_values()[-20:]"
   ]
  },
  {
   "cell_type": "markdown",
   "metadata": {},
   "source": [
    "### Dimension 250"
   ]
  },
  {
   "cell_type": "markdown",
   "metadata": {},
   "source": [
    "Emotionality ???"
   ]
  },
  {
   "cell_type": "code",
   "execution_count": 22,
   "metadata": {},
   "outputs": [
    {
     "data": {
      "text/plain": [
       "voïvodie          -5.262936\n",
       "courier           -4.440228\n",
       "Ardenne           -3.596090\n",
       "démaquillants     -3.396295\n",
       "immédiats         -3.352159\n",
       "légumineuses      -3.310239\n",
       "ordonnées         -2.999246\n",
       "ide               -2.897363\n",
       "fare              -2.890009\n",
       "présente          -2.166714\n",
       "décimales         -1.684687\n",
       "assistée          -1.667980\n",
       "encre             -1.374353\n",
       "déchetteries      -1.324929\n",
       "baroque           -1.289687\n",
       "cuite             -1.190844\n",
       "colza             -1.182644\n",
       "Guinée-Bissau     -1.087525\n",
       "correspondantes   -1.021857\n",
       "urbaine           -0.898378\n",
       "Name: 250, dtype: float64"
      ]
     },
     "execution_count": 22,
     "metadata": {},
     "output_type": "execute_result"
    }
   ],
   "source": [
    "df['250'].sort_values()[:20]"
   ]
  },
  {
   "cell_type": "code",
   "execution_count": 23,
   "metadata": {},
   "outputs": [
    {
     "data": {
      "text/plain": [
       "boycott         17.739307\n",
       "kiosque         17.789465\n",
       "médiateurs      17.810286\n",
       "foutre          17.882948\n",
       "milieux         17.975224\n",
       "blogueurs       17.979450\n",
       "milieu          18.046324\n",
       "chroniqueurs    18.049513\n",
       "comptoirs       18.068602\n",
       "merde           18.107859\n",
       "groupes         18.110634\n",
       "entrevues       18.130247\n",
       "verset          18.134584\n",
       "caresses        18.510240\n",
       "versets         18.669355\n",
       "pleurs          18.896109\n",
       "couloirs        18.935700\n",
       "tribunes        19.030787\n",
       "cris            19.132801\n",
       "forums          19.292927\n",
       "Name: 250, dtype: float64"
      ]
     },
     "execution_count": 23,
     "metadata": {},
     "output_type": "execute_result"
    }
   ],
   "source": [
    "df['250'].sort_values()[-20:]"
   ]
  },
  {
   "cell_type": "markdown",
   "metadata": {},
   "source": [
    "### Dimension 274"
   ]
  },
  {
   "cell_type": "markdown",
   "metadata": {},
   "source": [
    "Adjectives ?? Action ??"
   ]
  },
  {
   "cell_type": "code",
   "execution_count": 24,
   "metadata": {},
   "outputs": [
    {
     "data": {
      "text/plain": [
       "études            -17.738865\n",
       "fournitures       -16.983670\n",
       "hospitalisation   -16.702620\n",
       "indice            -16.586700\n",
       "industrie         -16.502823\n",
       "ordures           -16.464489\n",
       "rougeurs          -16.461477\n",
       "industries        -16.459965\n",
       "agrégé            -16.457375\n",
       "maîtrise          -16.316904\n",
       "indices           -16.290545\n",
       "manufacturière    -16.155700\n",
       "adolescence       -16.093548\n",
       "ménage            -16.082375\n",
       "symptômes         -16.076794\n",
       "hôpitaux          -16.008050\n",
       "sidérurgie        -16.006302\n",
       "industriels       -15.948189\n",
       "asthme            -15.816932\n",
       "ajoutée           -15.800670\n",
       "Name: 274, dtype: float64"
      ]
     },
     "execution_count": 24,
     "metadata": {},
     "output_type": "execute_result"
    }
   ],
   "source": [
    "df['274'].sort_values()[:20]"
   ]
  },
  {
   "cell_type": "code",
   "execution_count": 25,
   "metadata": {},
   "outputs": [
    {
     "data": {
      "text/plain": [
       "miniature    -0.609071\n",
       "track        -0.357376\n",
       "équivoque    -0.171296\n",
       "turque       -0.166395\n",
       "voyant       -0.127509\n",
       "descendant    0.016816\n",
       "coréenne      0.077234\n",
       "égard         0.151339\n",
       "shot          0.200745\n",
       "libellé       0.239222\n",
       "contenté      0.301546\n",
       "ove           0.460443\n",
       "démenti       0.494513\n",
       "entendant     0.515015\n",
       "ber           0.586699\n",
       "disant        0.709280\n",
       "battant       0.783623\n",
       "affirmant     0.966878\n",
       "bée           1.040980\n",
       "demi          1.626955\n",
       "Name: 274, dtype: float64"
      ]
     },
     "execution_count": 25,
     "metadata": {},
     "output_type": "execute_result"
    }
   ],
   "source": [
    "df['274'].sort_values()[-20:]"
   ]
  },
  {
   "cell_type": "code",
   "execution_count": 26,
   "metadata": {},
   "outputs": [],
   "source": [
    "test_nouns = ['voïvodie', 'requin', 'lubrifiants', 'albédo', 'périhélie', 'patronyme',\n",
    "              'offrant', 'tien', 'sénat', 'convaincue', 'faite', 'parvenue',\n",
    "             'exclusif', 'antécédents', 'carcasse', 'étudiant', 'agrégé', 'expérience', \n",
    "             'murmure', 'crépuscule', 'mélancolique', 'croît', 'frisson', 'aurore',\n",
    "             'forums', 'cris', 'tribunes', 'couloirs', 'pleurs', 'versets',\n",
    "             'études', 'fournitures', 'hospitalisation', 'indice', 'industrie', 'ordures',\n",
    "             'demi', 'bée', 'affirmant', 'battant', 'disant', 'entendant']"
   ]
  },
  {
   "cell_type": "code",
   "execution_count": 29,
   "metadata": {
    "scrolled": false
   },
   "outputs": [
    {
     "data": {
      "image/png": "[encoded data removed]",
      "text/plain": [
       "<Figure size 1440x720 with 2 Axes>"
      ]
     },
     "metadata": {
      "needs_background": "light"
     },
     "output_type": "display_data"
    },
    {
     "data": {
      "image/png": "[encoded data removed]",
      "text/plain": [
       "<Figure size 1440x720 with 2 Axes>"
      ]
     },
     "metadata": {
      "needs_background": "light"
     },
     "output_type": "display_data"
    },
    {
     "data": {
      "image/png": "[encoded data removed]",
      "text/plain": [
       "<Figure size 1440x720 with 2 Axes>"
      ]
     },
     "metadata": {
      "needs_background": "light"
     },
     "output_type": "display_data"
    },
    {
     "data": {
      "image/png": "[encoded data removed]",
      "text/plain": [
       "<Figure size 1440x720 with 2 Axes>"
      ]
     },
     "metadata": {
      "needs_background": "light"
     },
     "output_type": "display_data"
    },
    {
     "data": {
      "image/png": "[encoded data removed]",
      "text/plain": [
       "<Figure size 1440x720 with 2 Axes>"
      ]
     },
     "metadata": {
      "needs_background": "light"
     },
     "output_type": "display_data"
    },
    {
     "data": {
      "image/png": "[encoded data removed]",
      "text/plain": [
       "<Figure size 1440x720 with 2 Axes>"
      ]
     },
     "metadata": {
      "needs_background": "light"
     },
     "output_type": "display_data"
    }
   ],
   "source": [
    "plot_we_heatmap(df.loc[test_nouns, :'511'], size=(20,10))"
   ]
  },
  {
   "cell_type": "markdown",
   "metadata": {},
   "source": [
    "Some other dimensions stand out as having close values: `138`, `169`, `195`, `198`, `494`.\n",
    "\n",
    "First we can check if there is correlation between values of these columns with the originally investigated columns and among themselves."
   ]
  },
  {
   "cell_type": "code",
   "execution_count": 30,
   "metadata": {},
   "outputs": [
    {
     "data": {
      "text/html": [
       "<div>\n",
       "<style scoped>\n",
       "    .dataframe tbody tr th:only-of-type {\n",
       "        vertical-align: middle;\n",
       "    }\n",
       "\n",
       "    .dataframe tbody tr th {\n",
       "        vertical-align: top;\n",
       "    }\n",
       "\n",
       "    .dataframe thead th {\n",
       "        text-align: right;\n",
       "    }\n",
       "</style>\n",
       "<table border=\"1\" class=\"dataframe\">\n",
       "  <thead>\n",
       "    <tr style=\"text-align: right;\">\n",
       "      <th></th>\n",
       "      <th>44</th>\n",
       "      <th>52</th>\n",
       "      <th>250</th>\n",
       "      <th>274</th>\n",
       "      <th>371</th>\n",
       "      <th>138</th>\n",
       "      <th>169</th>\n",
       "      <th>195</th>\n",
       "      <th>198</th>\n",
       "      <th>494</th>\n",
       "    </tr>\n",
       "  </thead>\n",
       "  <tbody>\n",
       "    <tr>\n",
       "      <th>44</th>\n",
       "      <td>1.000000</td>\n",
       "      <td>-0.051077</td>\n",
       "      <td>0.152442</td>\n",
       "      <td>0.196897</td>\n",
       "      <td>0.192627</td>\n",
       "      <td>0.063250</td>\n",
       "      <td>-0.055420</td>\n",
       "      <td>-0.024788</td>\n",
       "      <td>-0.069307</td>\n",
       "      <td>-0.175065</td>\n",
       "    </tr>\n",
       "    <tr>\n",
       "      <th>52</th>\n",
       "      <td>-0.051077</td>\n",
       "      <td>1.000000</td>\n",
       "      <td>-0.287996</td>\n",
       "      <td>0.160011</td>\n",
       "      <td>-0.680829</td>\n",
       "      <td>-0.016848</td>\n",
       "      <td>-0.054735</td>\n",
       "      <td>-0.231665</td>\n",
       "      <td>-0.006684</td>\n",
       "      <td>-0.034634</td>\n",
       "    </tr>\n",
       "    <tr>\n",
       "      <th>250</th>\n",
       "      <td>0.152442</td>\n",
       "      <td>-0.287996</td>\n",
       "      <td>1.000000</td>\n",
       "      <td>-0.013827</td>\n",
       "      <td>0.473090</td>\n",
       "      <td>0.102699</td>\n",
       "      <td>-0.067934</td>\n",
       "      <td>0.200647</td>\n",
       "      <td>-0.050103</td>\n",
       "      <td>-0.003274</td>\n",
       "    </tr>\n",
       "    <tr>\n",
       "      <th>274</th>\n",
       "      <td>0.196897</td>\n",
       "      <td>0.160011</td>\n",
       "      <td>-0.013827</td>\n",
       "      <td>1.000000</td>\n",
       "      <td>-0.079866</td>\n",
       "      <td>-0.170017</td>\n",
       "      <td>-0.044246</td>\n",
       "      <td>-0.261724</td>\n",
       "      <td>-0.114134</td>\n",
       "      <td>-0.149159</td>\n",
       "    </tr>\n",
       "    <tr>\n",
       "      <th>371</th>\n",
       "      <td>0.192627</td>\n",
       "      <td>-0.680829</td>\n",
       "      <td>0.473090</td>\n",
       "      <td>-0.079866</td>\n",
       "      <td>1.000000</td>\n",
       "      <td>0.115262</td>\n",
       "      <td>0.004771</td>\n",
       "      <td>0.330894</td>\n",
       "      <td>-0.006136</td>\n",
       "      <td>0.010486</td>\n",
       "    </tr>\n",
       "    <tr>\n",
       "      <th>138</th>\n",
       "      <td>0.063250</td>\n",
       "      <td>-0.016848</td>\n",
       "      <td>0.102699</td>\n",
       "      <td>-0.170017</td>\n",
       "      <td>0.115262</td>\n",
       "      <td>1.000000</td>\n",
       "      <td>-0.206552</td>\n",
       "      <td>0.110167</td>\n",
       "      <td>-0.189538</td>\n",
       "      <td>-0.030418</td>\n",
       "    </tr>\n",
       "    <tr>\n",
       "      <th>169</th>\n",
       "      <td>-0.055420</td>\n",
       "      <td>-0.054735</td>\n",
       "      <td>-0.067934</td>\n",
       "      <td>-0.044246</td>\n",
       "      <td>0.004771</td>\n",
       "      <td>-0.206552</td>\n",
       "      <td>1.000000</td>\n",
       "      <td>0.069660</td>\n",
       "      <td>0.002841</td>\n",
       "      <td>0.299051</td>\n",
       "    </tr>\n",
       "    <tr>\n",
       "      <th>195</th>\n",
       "      <td>-0.024788</td>\n",
       "      <td>-0.231665</td>\n",
       "      <td>0.200647</td>\n",
       "      <td>-0.261724</td>\n",
       "      <td>0.330894</td>\n",
       "      <td>0.110167</td>\n",
       "      <td>0.069660</td>\n",
       "      <td>1.000000</td>\n",
       "      <td>-0.082717</td>\n",
       "      <td>0.132269</td>\n",
       "    </tr>\n",
       "    <tr>\n",
       "      <th>198</th>\n",
       "      <td>-0.069307</td>\n",
       "      <td>-0.006684</td>\n",
       "      <td>-0.050103</td>\n",
       "      <td>-0.114134</td>\n",
       "      <td>-0.006136</td>\n",
       "      <td>-0.189538</td>\n",
       "      <td>0.002841</td>\n",
       "      <td>-0.082717</td>\n",
       "      <td>1.000000</td>\n",
       "      <td>0.106599</td>\n",
       "    </tr>\n",
       "    <tr>\n",
       "      <th>494</th>\n",
       "      <td>-0.175065</td>\n",
       "      <td>-0.034634</td>\n",
       "      <td>-0.003274</td>\n",
       "      <td>-0.149159</td>\n",
       "      <td>0.010486</td>\n",
       "      <td>-0.030418</td>\n",
       "      <td>0.299051</td>\n",
       "      <td>0.132269</td>\n",
       "      <td>0.106599</td>\n",
       "      <td>1.000000</td>\n",
       "    </tr>\n",
       "  </tbody>\n",
       "</table>\n",
       "</div>"
      ],
      "text/plain": [
       "           44        52       250       274       371       138       169  \\\n",
       "44   1.000000 -0.051077  0.152442  0.196897  0.192627  0.063250 -0.055420   \n",
       "52  -0.051077  1.000000 -0.287996  0.160011 -0.680829 -0.016848 -0.054735   \n",
       "250  0.152442 -0.287996  1.000000 -0.013827  0.473090  0.102699 -0.067934   \n",
       "274  0.196897  0.160011 -0.013827  1.000000 -0.079866 -0.170017 -0.044246   \n",
       "371  0.192627 -0.680829  0.473090 -0.079866  1.000000  0.115262  0.004771   \n",
       "138  0.063250 -0.016848  0.102699 -0.170017  0.115262  1.000000 -0.206552   \n",
       "169 -0.055420 -0.054735 -0.067934 -0.044246  0.004771 -0.206552  1.000000   \n",
       "195 -0.024788 -0.231665  0.200647 -0.261724  0.330894  0.110167  0.069660   \n",
       "198 -0.069307 -0.006684 -0.050103 -0.114134 -0.006136 -0.189538  0.002841   \n",
       "494 -0.175065 -0.034634 -0.003274 -0.149159  0.010486 -0.030418  0.299051   \n",
       "\n",
       "          195       198       494  \n",
       "44  -0.024788 -0.069307 -0.175065  \n",
       "52  -0.231665 -0.006684 -0.034634  \n",
       "250  0.200647 -0.050103 -0.003274  \n",
       "274 -0.261724 -0.114134 -0.149159  \n",
       "371  0.330894 -0.006136  0.010486  \n",
       "138  0.110167 -0.189538 -0.030418  \n",
       "169  0.069660  0.002841  0.299051  \n",
       "195  1.000000 -0.082717  0.132269  \n",
       "198 -0.082717  1.000000  0.106599  \n",
       "494  0.132269  0.106599  1.000000  "
      ]
     },
     "execution_count": 30,
     "metadata": {},
     "output_type": "execute_result"
    }
   ],
   "source": [
    "df.loc[:, ['44', '52', '250', '274', '371', '138', '169', '195', '198', '494']].corr()"
   ]
  },
  {
   "cell_type": "markdown",
   "metadata": {},
   "source": [
    "The new columns don't seem to be strongly correlated neither with each other nor with previously inspected columns."
   ]
  },
  {
   "cell_type": "markdown",
   "metadata": {},
   "source": [
    "### Dimension 138"
   ]
  },
  {
   "cell_type": "markdown",
   "metadata": {},
   "source": [
    "???"
   ]
  },
  {
   "cell_type": "code",
   "execution_count": 31,
   "metadata": {},
   "outputs": [
    {
     "data": {
      "text/plain": [
       "fécule          -20.874903\n",
       "consortium      -18.464634\n",
       "baril           -18.312807\n",
       "lé              -18.220348\n",
       "ders            -18.148006\n",
       "déchetteries    -18.121187\n",
       "Canadienne      -17.671106\n",
       "sud-coréen      -17.491735\n",
       "coupage         -17.348139\n",
       "mairesse        -17.301422\n",
       "hier            -17.165080\n",
       "dénommé         -17.157541\n",
       "péquiste        -17.150530\n",
       "manufacturier   -17.112728\n",
       "chef-lieu       -16.835054\n",
       "quarter         -16.723671\n",
       "oléoduc         -16.674223\n",
       "cosse           -16.666384\n",
       "votant          -16.586786\n",
       "exclusive       -16.564339\n",
       "Name: 138, dtype: float64"
      ]
     },
     "execution_count": 31,
     "metadata": {},
     "output_type": "execute_result"
    }
   ],
   "source": [
    "df['138'].sort_values()[:20]"
   ]
  },
  {
   "cell_type": "code",
   "execution_count": 32,
   "metadata": {},
   "outputs": [
    {
     "data": {
      "text/plain": [
       "malveillants      3.207491\n",
       "réflexion         3.219458\n",
       "investigations    3.224639\n",
       "urine             3.270246\n",
       "éthique           3.363050\n",
       "littérature       3.464766\n",
       "alarme            3.478500\n",
       "explosif          3.590175\n",
       "attitudes         3.772093\n",
       "espions           3.912673\n",
       "espions           3.912673\n",
       "comportements     3.933312\n",
       "pièges            3.953470\n",
       "espionnage        4.172225\n",
       "alarmes           4.202771\n",
       "romans            4.214644\n",
       "traque            4.294501\n",
       "roman             4.463779\n",
       "surveillés        4.610317\n",
       "ope               4.956480\n",
       "Name: 138, dtype: float64"
      ]
     },
     "execution_count": 32,
     "metadata": {},
     "output_type": "execute_result"
    }
   ],
   "source": [
    "df['138'].sort_values()[-20:]"
   ]
  },
  {
   "cell_type": "markdown",
   "metadata": {},
   "source": [
    "### Dimension 169"
   ]
  },
  {
   "cell_type": "markdown",
   "metadata": {},
   "source": [
    "Animate / inanimate ?"
   ]
  },
  {
   "cell_type": "code",
   "execution_count": 33,
   "metadata": {},
   "outputs": [
    {
     "data": {
      "text/plain": [
       "requin        -8.675311\n",
       "mangas        -6.361826\n",
       "singes        -6.274575\n",
       "requins       -6.147210\n",
       "astrologie    -6.129381\n",
       "girls         -5.915669\n",
       "breton        -5.850633\n",
       "lapin         -5.820517\n",
       "éléphants     -5.811126\n",
       "news          -5.783874\n",
       "room          -5.658071\n",
       "préhistoire   -5.654918\n",
       "trouvailles   -5.577514\n",
       "tortues       -5.499365\n",
       "huîtres       -5.496901\n",
       "bang          -5.464348\n",
       "plongée       -5.445692\n",
       "tigres        -5.431100\n",
       "dinosaures    -5.311369\n",
       "bots          -5.301836\n",
       "Name: 169, dtype: float64"
      ]
     },
     "execution_count": 33,
     "metadata": {},
     "output_type": "execute_result"
    }
   ],
   "source": [
    "df['169'].sort_values()[:20]"
   ]
  },
  {
   "cell_type": "code",
   "execution_count": 34,
   "metadata": {},
   "outputs": [
    {
     "data": {
      "text/plain": [
       "valence         14.000855\n",
       "panneau         14.023698\n",
       "façade          14.074779\n",
       "violet          14.094075\n",
       "novateur        14.108541\n",
       "diélectrique    14.148383\n",
       "recto           14.161667\n",
       "indésirables    14.193737\n",
       "avenue          14.200529\n",
       "inhibiteur      14.276688\n",
       "isolant         14.283841\n",
       "balcon          14.383738\n",
       "verso           14.418445\n",
       "provinciale     14.472334\n",
       "revêtement      14.719297\n",
       "adhésif         14.826441\n",
       "secondaires     15.449760\n",
       "sortante        15.648257\n",
       "collante        15.702437\n",
       "vitrage         15.810663\n",
       "Name: 169, dtype: float64"
      ]
     },
     "execution_count": 34,
     "metadata": {},
     "output_type": "execute_result"
    }
   ],
   "source": [
    "df['169'].sort_values()[-20:]"
   ]
  },
  {
   "cell_type": "markdown",
   "metadata": {},
   "source": [
    "### Dimension 195"
   ]
  },
  {
   "cell_type": "markdown",
   "metadata": {},
   "source": [
    "Noun-ness ?"
   ]
  },
  {
   "cell_type": "code",
   "execution_count": 35,
   "metadata": {},
   "outputs": [
    {
     "data": {
      "text/plain": [
       "encadrés          -5.228781\n",
       "acon              -3.989484\n",
       "indicatives       -3.725303\n",
       "alu               -3.619598\n",
       "coquins           -3.600021\n",
       "élégants          -2.911431\n",
       "encadré           -2.822133\n",
       "laiton            -2.774660\n",
       "cuite             -2.733148\n",
       "formant           -2.330834\n",
       "pointus           -2.318965\n",
       "bottines          -2.260321\n",
       "collants          -2.246618\n",
       "Ille-et-Vilaine   -2.240746\n",
       "bouchage          -2.226043\n",
       "orne              -2.197372\n",
       "semelles          -2.164366\n",
       "assemblés         -2.163521\n",
       "baptisés          -2.153441\n",
       "majuscule         -2.121133\n",
       "Name: 195, dtype: float64"
      ]
     },
     "execution_count": 35,
     "metadata": {},
     "output_type": "execute_result"
    }
   ],
   "source": [
    "df['195'].sort_values()[:20]"
   ]
  },
  {
   "cell_type": "code",
   "execution_count": 36,
   "metadata": {},
   "outputs": [
    {
     "data": {
      "text/plain": [
       "technologie      12.528759\n",
       "améliorations    12.537859\n",
       "disparus         12.593219\n",
       "ravagé           12.618436\n",
       "raffinerie       12.720221\n",
       "détérioration    12.772497\n",
       "plaies           12.793609\n",
       "care             12.831109\n",
       "violations       12.832329\n",
       "régénération     12.874695\n",
       "distribution     12.899644\n",
       "industries       13.209517\n",
       "industrie        13.213030\n",
       "technologies     13.377860\n",
       "minière          13.388015\n",
       "prolifération    13.622068\n",
       "disparitions     13.887217\n",
       "maladies         13.938377\n",
       "explosions       14.506449\n",
       "destruction      14.852371\n",
       "Name: 195, dtype: float64"
      ]
     },
     "execution_count": 36,
     "metadata": {},
     "output_type": "execute_result"
    }
   ],
   "source": [
    "df['195'].sort_values()[-20:]"
   ]
  },
  {
   "cell_type": "markdown",
   "metadata": {},
   "source": [
    "### Dimension 198"
   ]
  },
  {
   "cell_type": "markdown",
   "metadata": {},
   "source": [
    "From spy roman corpus ????"
   ]
  },
  {
   "cell_type": "code",
   "execution_count": 37,
   "metadata": {},
   "outputs": [
    {
     "data": {
      "text/plain": [
       "rentrés         -8.237861\n",
       "ghetto          -7.635160\n",
       "exécutions      -7.258675\n",
       "jugé            -7.201200\n",
       "inculpés        -7.199855\n",
       "sélectionnées   -7.146214\n",
       "LE              -6.982045\n",
       "Bruges          -6.927661\n",
       "respire         -6.774653\n",
       "verdict         -6.729581\n",
       "sonne           -6.536115\n",
       "préféré         -6.463934\n",
       "rentré          -6.380818\n",
       "hospitalisé     -6.379416\n",
       "échappe         -6.308562\n",
       "expulsés        -6.304405\n",
       "perquisitions   -6.191663\n",
       "retourne        -6.175912\n",
       "convalescence   -6.157446\n",
       "expulsions      -5.971640\n",
       "Name: 198, dtype: float64"
      ]
     },
     "execution_count": 37,
     "metadata": {},
     "output_type": "execute_result"
    }
   ],
   "source": [
    "df['198'].sort_values()[:20]"
   ]
  },
  {
   "cell_type": "code",
   "execution_count": 38,
   "metadata": {
    "scrolled": false
   },
   "outputs": [
    {
     "data": {
      "text/plain": [
       "tierce           14.436578\n",
       "message          14.441530\n",
       "assureur         14.513689\n",
       "offerte          14.534499\n",
       "nœud             14.561520\n",
       "feuillet         14.632804\n",
       "attribut         14.683536\n",
       "canadien         14.833866\n",
       "noeud            14.904092\n",
       "bulletin         14.974715\n",
       "lien             15.069812\n",
       "bannière         15.559852\n",
       "indicatif        16.068380\n",
       "courriel         16.084162\n",
       "assurance-vie    16.274190\n",
       "balise           16.286980\n",
       "formulaire       16.392221\n",
       "assurance        16.710394\n",
       "fiducie          17.278770\n",
       "coupon           20.391800\n",
       "Name: 198, dtype: float64"
      ]
     },
     "execution_count": 38,
     "metadata": {},
     "output_type": "execute_result"
    }
   ],
   "source": [
    "df['198'].sort_values()[-20:]"
   ]
  },
  {
   "cell_type": "markdown",
   "metadata": {},
   "source": [
    "### Dimension 494"
   ]
  },
  {
   "cell_type": "markdown",
   "metadata": {},
   "source": [
    "Material ?"
   ]
  },
  {
   "cell_type": "code",
   "execution_count": 39,
   "metadata": {},
   "outputs": [
    {
     "data": {
      "text/plain": [
       "stationnaire   -7.582129\n",
       "calculateur    -6.516765\n",
       "sondes         -5.914610\n",
       "commandant     -5.664547\n",
       "délicat        -5.548094\n",
       "escadre        -5.133431\n",
       "espion         -5.115141\n",
       "aventuriers    -4.859152\n",
       "aventuriers    -4.859152\n",
       "Mlle           -4.766655\n",
       "presseurs      -4.744105\n",
       "liquides       -4.597949\n",
       "supermarché    -4.565749\n",
       "escorte        -4.427967\n",
       "métrique       -4.397832\n",
       "ravisseurs     -4.318072\n",
       "astronome      -4.286158\n",
       "prisonnière    -4.212622\n",
       "captifs        -4.155962\n",
       "météo          -4.108560\n",
       "Name: 494, dtype: float64"
      ]
     },
     "execution_count": 39,
     "metadata": {},
     "output_type": "execute_result"
    }
   ],
   "source": [
    "df['494'].sort_values()[:20]"
   ]
  },
  {
   "cell_type": "code",
   "execution_count": 40,
   "metadata": {},
   "outputs": [
    {
     "data": {
      "text/plain": [
       "neuves         13.221966\n",
       "charpente      13.347754\n",
       "brique         13.408047\n",
       "amiante        13.408708\n",
       "sidérurgie     13.444908\n",
       "set            13.464475\n",
       "secteurs       13.479326\n",
       "rénovations    13.499499\n",
       "secteur        13.541712\n",
       "plaqué         13.683962\n",
       "pierre         13.750221\n",
       "tuiles         13.762032\n",
       "copeaux        13.839322\n",
       "liège          13.921982\n",
       "chrome         13.965519\n",
       "forestière     13.967660\n",
       "collé          14.459451\n",
       "haché          15.041341\n",
       "collés         15.137065\n",
       "ajoutée        16.144213\n",
       "Name: 494, dtype: float64"
      ]
     },
     "execution_count": 40,
     "metadata": {},
     "output_type": "execute_result"
    }
   ],
   "source": [
    "df['494'].sort_values()[-20:]"
   ]
  },
  {
   "cell_type": "markdown",
   "metadata": {},
   "source": [
    "# Compare with all WE"
   ]
  },
  {
   "cell_type": "markdown",
   "metadata": {},
   "source": [
    "We have a DataFrame with all unique WE generated by FlauBERT and we can compare the values of the dimensions above using all possible WE."
   ]
  },
  {
   "cell_type": "code",
   "execution_count": 41,
   "metadata": {},
   "outputs": [
    {
     "data": {
      "text/html": [
       "<div>\n",
       "<style scoped>\n",
       "    .dataframe tbody tr th:only-of-type {\n",
       "        vertical-align: middle;\n",
       "    }\n",
       "\n",
       "    .dataframe tbody tr th {\n",
       "        vertical-align: top;\n",
       "    }\n",
       "\n",
       "    .dataframe thead th {\n",
       "        text-align: right;\n",
       "    }\n",
       "</style>\n",
       "<table border=\"1\" class=\"dataframe\">\n",
       "  <thead>\n",
       "    <tr style=\"text-align: right;\">\n",
       "      <th></th>\n",
       "      <th>0</th>\n",
       "      <th>1</th>\n",
       "      <th>2</th>\n",
       "      <th>3</th>\n",
       "      <th>4</th>\n",
       "      <th>5</th>\n",
       "      <th>6</th>\n",
       "      <th>7</th>\n",
       "      <th>8</th>\n",
       "      <th>9</th>\n",
       "      <th>...</th>\n",
       "      <th>502</th>\n",
       "      <th>503</th>\n",
       "      <th>504</th>\n",
       "      <th>505</th>\n",
       "      <th>506</th>\n",
       "      <th>507</th>\n",
       "      <th>508</th>\n",
       "      <th>509</th>\n",
       "      <th>510</th>\n",
       "      <th>511</th>\n",
       "    </tr>\n",
       "  </thead>\n",
       "  <tbody>\n",
       "    <tr>\n",
       "      <th>&lt;s&gt;</th>\n",
       "      <td>1.192765</td>\n",
       "      <td>0.462717</td>\n",
       "      <td>1.442344</td>\n",
       "      <td>4.470361</td>\n",
       "      <td>-0.015474</td>\n",
       "      <td>-1.506531</td>\n",
       "      <td>-6.285107</td>\n",
       "      <td>-4.124225</td>\n",
       "      <td>-0.289943</td>\n",
       "      <td>-5.091383</td>\n",
       "      <td>...</td>\n",
       "      <td>-1.796349</td>\n",
       "      <td>0.003091</td>\n",
       "      <td>2.127897</td>\n",
       "      <td>3.400028</td>\n",
       "      <td>-2.313859</td>\n",
       "      <td>-2.218198</td>\n",
       "      <td>-3.508300</td>\n",
       "      <td>2.814897</td>\n",
       "      <td>-0.266222</td>\n",
       "      <td>-0.688481</td>\n",
       "    </tr>\n",
       "    <tr>\n",
       "      <th>&lt;/s&gt;</th>\n",
       "      <td>-2.385138</td>\n",
       "      <td>-2.462088</td>\n",
       "      <td>-0.280428</td>\n",
       "      <td>-1.108158</td>\n",
       "      <td>0.710942</td>\n",
       "      <td>-0.426709</td>\n",
       "      <td>-1.448204</td>\n",
       "      <td>0.998251</td>\n",
       "      <td>2.961549</td>\n",
       "      <td>1.256190</td>\n",
       "      <td>...</td>\n",
       "      <td>-2.535251</td>\n",
       "      <td>1.087192</td>\n",
       "      <td>-2.273188</td>\n",
       "      <td>-2.679511</td>\n",
       "      <td>1.742457</td>\n",
       "      <td>-2.682362</td>\n",
       "      <td>-3.270450</td>\n",
       "      <td>-6.482056</td>\n",
       "      <td>1.521726</td>\n",
       "      <td>-1.958615</td>\n",
       "    </tr>\n",
       "    <tr>\n",
       "      <th>&lt;pad&gt;</th>\n",
       "      <td>0.000000</td>\n",
       "      <td>-0.000000</td>\n",
       "      <td>0.000000</td>\n",
       "      <td>0.000000</td>\n",
       "      <td>-0.000000</td>\n",
       "      <td>0.000000</td>\n",
       "      <td>-0.000000</td>\n",
       "      <td>-0.000000</td>\n",
       "      <td>-0.000000</td>\n",
       "      <td>0.000000</td>\n",
       "      <td>...</td>\n",
       "      <td>0.000000</td>\n",
       "      <td>0.000000</td>\n",
       "      <td>-0.000000</td>\n",
       "      <td>0.000000</td>\n",
       "      <td>-0.000000</td>\n",
       "      <td>-0.000000</td>\n",
       "      <td>0.000000</td>\n",
       "      <td>-0.000000</td>\n",
       "      <td>-0.000000</td>\n",
       "      <td>0.000000</td>\n",
       "    </tr>\n",
       "    <tr>\n",
       "      <th>&lt;unk&gt;</th>\n",
       "      <td>0.704497</td>\n",
       "      <td>-0.152631</td>\n",
       "      <td>2.258177</td>\n",
       "      <td>5.277479</td>\n",
       "      <td>-3.708415</td>\n",
       "      <td>-2.903235</td>\n",
       "      <td>-0.466659</td>\n",
       "      <td>-0.347260</td>\n",
       "      <td>-1.081360</td>\n",
       "      <td>-1.124833</td>\n",
       "      <td>...</td>\n",
       "      <td>-2.012312</td>\n",
       "      <td>1.778663</td>\n",
       "      <td>0.460039</td>\n",
       "      <td>0.115804</td>\n",
       "      <td>0.044037</td>\n",
       "      <td>-1.366239</td>\n",
       "      <td>-1.536378</td>\n",
       "      <td>-1.272330</td>\n",
       "      <td>0.835307</td>\n",
       "      <td>-2.808828</td>\n",
       "    </tr>\n",
       "    <tr>\n",
       "      <th>&lt;special0&gt;</th>\n",
       "      <td>-1.070583</td>\n",
       "      <td>0.564497</td>\n",
       "      <td>-1.794908</td>\n",
       "      <td>5.955525</td>\n",
       "      <td>-2.882875</td>\n",
       "      <td>-1.789578</td>\n",
       "      <td>-0.184745</td>\n",
       "      <td>-3.047757</td>\n",
       "      <td>-0.157011</td>\n",
       "      <td>-2.715286</td>\n",
       "      <td>...</td>\n",
       "      <td>0.734258</td>\n",
       "      <td>-0.522630</td>\n",
       "      <td>1.931814</td>\n",
       "      <td>-1.113368</td>\n",
       "      <td>0.515164</td>\n",
       "      <td>-3.451725</td>\n",
       "      <td>-4.553195</td>\n",
       "      <td>1.461612</td>\n",
       "      <td>-1.714038</td>\n",
       "      <td>0.236857</td>\n",
       "    </tr>\n",
       "    <tr>\n",
       "      <th>...</th>\n",
       "      <td>...</td>\n",
       "      <td>...</td>\n",
       "      <td>...</td>\n",
       "      <td>...</td>\n",
       "      <td>...</td>\n",
       "      <td>...</td>\n",
       "      <td>...</td>\n",
       "      <td>...</td>\n",
       "      <td>...</td>\n",
       "      <td>...</td>\n",
       "      <td>...</td>\n",
       "      <td>...</td>\n",
       "      <td>...</td>\n",
       "      <td>...</td>\n",
       "      <td>...</td>\n",
       "      <td>...</td>\n",
       "      <td>...</td>\n",
       "      <td>...</td>\n",
       "      <td>...</td>\n",
       "      <td>...</td>\n",
       "      <td>...</td>\n",
       "    </tr>\n",
       "    <tr>\n",
       "      <th>𠦳</th>\n",
       "      <td>1.378692</td>\n",
       "      <td>0.501607</td>\n",
       "      <td>-1.856624</td>\n",
       "      <td>5.128460</td>\n",
       "      <td>-2.997269</td>\n",
       "      <td>-3.098662</td>\n",
       "      <td>-2.095568</td>\n",
       "      <td>-0.500759</td>\n",
       "      <td>0.177354</td>\n",
       "      <td>-3.666399</td>\n",
       "      <td>...</td>\n",
       "      <td>0.742176</td>\n",
       "      <td>-1.205575</td>\n",
       "      <td>0.908909</td>\n",
       "      <td>-0.438256</td>\n",
       "      <td>1.091409</td>\n",
       "      <td>-0.954496</td>\n",
       "      <td>-3.384997</td>\n",
       "      <td>-1.292710</td>\n",
       "      <td>-1.866280</td>\n",
       "      <td>0.136021</td>\n",
       "    </tr>\n",
       "    <tr>\n",
       "      <th>𠮟</th>\n",
       "      <td>0.872825</td>\n",
       "      <td>2.095471</td>\n",
       "      <td>-2.527290</td>\n",
       "      <td>6.523451</td>\n",
       "      <td>-4.921536</td>\n",
       "      <td>-2.922156</td>\n",
       "      <td>-0.227006</td>\n",
       "      <td>-1.062572</td>\n",
       "      <td>3.712820</td>\n",
       "      <td>-2.167018</td>\n",
       "      <td>...</td>\n",
       "      <td>-0.657449</td>\n",
       "      <td>1.016798</td>\n",
       "      <td>0.812941</td>\n",
       "      <td>-0.868338</td>\n",
       "      <td>1.615252</td>\n",
       "      <td>-1.006298</td>\n",
       "      <td>-7.388421</td>\n",
       "      <td>0.991630</td>\n",
       "      <td>1.128184</td>\n",
       "      <td>-0.753381</td>\n",
       "    </tr>\n",
       "    <tr>\n",
       "      <th>𡨸</th>\n",
       "      <td>1.028697</td>\n",
       "      <td>-0.634944</td>\n",
       "      <td>-2.986230</td>\n",
       "      <td>5.269331</td>\n",
       "      <td>-3.614710</td>\n",
       "      <td>-0.239770</td>\n",
       "      <td>-1.500879</td>\n",
       "      <td>-1.250177</td>\n",
       "      <td>0.900654</td>\n",
       "      <td>-3.237365</td>\n",
       "      <td>...</td>\n",
       "      <td>1.362205</td>\n",
       "      <td>0.448360</td>\n",
       "      <td>0.484624</td>\n",
       "      <td>0.944483</td>\n",
       "      <td>2.834326</td>\n",
       "      <td>-3.615894</td>\n",
       "      <td>-4.135229</td>\n",
       "      <td>2.660527</td>\n",
       "      <td>1.570604</td>\n",
       "      <td>-0.535619</td>\n",
       "    </tr>\n",
       "    <tr>\n",
       "      <th>𤾓</th>\n",
       "      <td>4.746138</td>\n",
       "      <td>1.069527</td>\n",
       "      <td>1.325297</td>\n",
       "      <td>8.780453</td>\n",
       "      <td>-2.719412</td>\n",
       "      <td>-2.943407</td>\n",
       "      <td>0.055358</td>\n",
       "      <td>-1.590558</td>\n",
       "      <td>2.945796</td>\n",
       "      <td>0.146930</td>\n",
       "      <td>...</td>\n",
       "      <td>-4.784090</td>\n",
       "      <td>1.717049</td>\n",
       "      <td>2.834744</td>\n",
       "      <td>-0.933472</td>\n",
       "      <td>-1.153734</td>\n",
       "      <td>-3.207285</td>\n",
       "      <td>-6.347921</td>\n",
       "      <td>3.274828</td>\n",
       "      <td>4.321491</td>\n",
       "      <td>3.646125</td>\n",
       "    </tr>\n",
       "    <tr>\n",
       "      <th>𨒒</th>\n",
       "      <td>1.283296</td>\n",
       "      <td>0.946452</td>\n",
       "      <td>-1.985717</td>\n",
       "      <td>9.486465</td>\n",
       "      <td>-6.122926</td>\n",
       "      <td>-3.188161</td>\n",
       "      <td>-0.606978</td>\n",
       "      <td>1.652909</td>\n",
       "      <td>2.046358</td>\n",
       "      <td>0.691111</td>\n",
       "      <td>...</td>\n",
       "      <td>-1.563636</td>\n",
       "      <td>1.901436</td>\n",
       "      <td>0.414829</td>\n",
       "      <td>0.903478</td>\n",
       "      <td>-0.540303</td>\n",
       "      <td>-2.943168</td>\n",
       "      <td>-7.661583</td>\n",
       "      <td>3.269215</td>\n",
       "      <td>0.840676</td>\n",
       "      <td>-1.578602</td>\n",
       "    </tr>\n",
       "  </tbody>\n",
       "</table>\n",
       "<p>58882 rows × 512 columns</p>\n",
       "</div>"
      ],
      "text/plain": [
       "                   0         1         2         3         4         5  \\\n",
       "<s>         1.192765  0.462717  1.442344  4.470361 -0.015474 -1.506531   \n",
       "</s>       -2.385138 -2.462088 -0.280428 -1.108158  0.710942 -0.426709   \n",
       "<pad>       0.000000 -0.000000  0.000000  0.000000 -0.000000  0.000000   \n",
       "<unk>       0.704497 -0.152631  2.258177  5.277479 -3.708415 -2.903235   \n",
       "<special0> -1.070583  0.564497 -1.794908  5.955525 -2.882875 -1.789578   \n",
       "...              ...       ...       ...       ...       ...       ...   \n",
       "𠦳           1.378692  0.501607 -1.856624  5.128460 -2.997269 -3.098662   \n",
       "𠮟           0.872825  2.095471 -2.527290  6.523451 -4.921536 -2.922156   \n",
       "𡨸           1.028697 -0.634944 -2.986230  5.269331 -3.614710 -0.239770   \n",
       "𤾓           4.746138  1.069527  1.325297  8.780453 -2.719412 -2.943407   \n",
       "𨒒           1.283296  0.946452 -1.985717  9.486465 -6.122926 -3.188161   \n",
       "\n",
       "                   6         7         8         9  ...       502       503  \\\n",
       "<s>        -6.285107 -4.124225 -0.289943 -5.091383  ... -1.796349  0.003091   \n",
       "</s>       -1.448204  0.998251  2.961549  1.256190  ... -2.535251  1.087192   \n",
       "<pad>      -0.000000 -0.000000 -0.000000  0.000000  ...  0.000000  0.000000   \n",
       "<unk>      -0.466659 -0.347260 -1.081360 -1.124833  ... -2.012312  1.778663   \n",
       "<special0> -0.184745 -3.047757 -0.157011 -2.715286  ...  0.734258 -0.522630   \n",
       "...              ...       ...       ...       ...  ...       ...       ...   \n",
       "𠦳          -2.095568 -0.500759  0.177354 -3.666399  ...  0.742176 -1.205575   \n",
       "𠮟          -0.227006 -1.062572  3.712820 -2.167018  ... -0.657449  1.016798   \n",
       "𡨸          -1.500879 -1.250177  0.900654 -3.237365  ...  1.362205  0.448360   \n",
       "𤾓           0.055358 -1.590558  2.945796  0.146930  ... -4.784090  1.717049   \n",
       "𨒒          -0.606978  1.652909  2.046358  0.691111  ... -1.563636  1.901436   \n",
       "\n",
       "                 504       505       506       507       508       509  \\\n",
       "<s>         2.127897  3.400028 -2.313859 -2.218198 -3.508300  2.814897   \n",
       "</s>       -2.273188 -2.679511  1.742457 -2.682362 -3.270450 -6.482056   \n",
       "<pad>      -0.000000  0.000000 -0.000000 -0.000000  0.000000 -0.000000   \n",
       "<unk>       0.460039  0.115804  0.044037 -1.366239 -1.536378 -1.272330   \n",
       "<special0>  1.931814 -1.113368  0.515164 -3.451725 -4.553195  1.461612   \n",
       "...              ...       ...       ...       ...       ...       ...   \n",
       "𠦳           0.908909 -0.438256  1.091409 -0.954496 -3.384997 -1.292710   \n",
       "𠮟           0.812941 -0.868338  1.615252 -1.006298 -7.388421  0.991630   \n",
       "𡨸           0.484624  0.944483  2.834326 -3.615894 -4.135229  2.660527   \n",
       "𤾓           2.834744 -0.933472 -1.153734 -3.207285 -6.347921  3.274828   \n",
       "𨒒           0.414829  0.903478 -0.540303 -2.943168 -7.661583  3.269215   \n",
       "\n",
       "                 510       511  \n",
       "<s>        -0.266222 -0.688481  \n",
       "</s>        1.521726 -1.958615  \n",
       "<pad>      -0.000000  0.000000  \n",
       "<unk>       0.835307 -2.808828  \n",
       "<special0> -1.714038  0.236857  \n",
       "...              ...       ...  \n",
       "𠦳          -1.866280  0.136021  \n",
       "𠮟           1.128184 -0.753381  \n",
       "𡨸           1.570604 -0.535619  \n",
       "𤾓           4.321491  3.646125  \n",
       "𨒒           0.840676 -1.578602  \n",
       "\n",
       "[58882 rows x 512 columns]"
      ]
     },
     "execution_count": 41,
     "metadata": {},
     "output_type": "execute_result"
    }
   ],
   "source": [
    "words_df = pd.read_csv('flaubert_all_embeddings.csv', index_col=0)\n",
    "words_df"
   ]
  },
  {
   "cell_type": "markdown",
   "metadata": {},
   "source": [
    "### Dimension 44"
   ]
  },
  {
   "cell_type": "code",
   "execution_count": 42,
   "metadata": {},
   "outputs": [
    {
     "data": {
      "text/plain": [
       "PRODUIT         -10.700012\n",
       "PROPOS          -10.068047\n",
       "SUB              -9.381089\n",
       "PRODUITS         -9.183535\n",
       "ISES             -9.075297\n",
       "LLES             -9.010883\n",
       "ATEUR            -8.332327\n",
       "Y-               -8.055802\n",
       "Professionnel    -7.885073\n",
       "PROFESSIONNEL    -7.862544\n",
       "ISE              -7.786003\n",
       "ORIGINE          -7.717844\n",
       "О                -7.687293\n",
       "ONS              -7.676301\n",
       "TANT             -7.636196\n",
       "AGENCE           -7.573499\n",
       "ˇ                -7.547656\n",
       "UTILISATEUR      -7.518273\n",
       "ENTE             -7.431772\n",
       "CO-              -7.340467\n",
       "IS               -7.254609\n",
       "DEMANDE          -7.250249\n",
       "OUV              -7.040846\n",
       "BILITE           -7.015958\n",
       "ÉS               -7.006541\n",
       "Licence          -7.003141\n",
       "ADMINIS          -6.986437\n",
       "PRÉSENTATION     -6.927206\n",
       "INFORMATIONS     -6.905683\n",
       "MBA              -6.694982\n",
       "Name: 44, dtype: float64"
      ]
     },
     "execution_count": 42,
     "metadata": {},
     "output_type": "execute_result"
    }
   ],
   "source": [
    "words_df['44'].sort_values()[:30]"
   ]
  },
  {
   "cell_type": "code",
   "execution_count": 43,
   "metadata": {},
   "outputs": [
    {
     "data": {
      "text/plain": [
       "reculer       16.573166\n",
       "friss         16.588430\n",
       "songer        16.642094\n",
       "remu          16.666820\n",
       "télesco       16.713993\n",
       "ébran         16.747360\n",
       "rougir        16.840590\n",
       "ameu          17.003220\n",
       "sonner        17.005480\n",
       "surgir        17.007647\n",
       "là-haut       17.055979\n",
       "palpi         17.298910\n",
       "agite         17.320490\n",
       "grond         17.450550\n",
       "éveiller      17.474771\n",
       "côté          17.500656\n",
       "veux-tu       17.508884\n",
       "murmur        17.535837\n",
       "crépuscule    17.584171\n",
       "pleurer       17.619886\n",
       "diminuant     17.675928\n",
       "résonne       17.806147\n",
       "chucho        17.827234\n",
       "exciter       17.848585\n",
       "gravit        17.941818\n",
       "osait         17.968027\n",
       "écoutait      18.325047\n",
       "agiter        18.878511\n",
       "frémir        19.104109\n",
       "murmure       19.124670\n",
       "Name: 44, dtype: float64"
      ]
     },
     "execution_count": 43,
     "metadata": {},
     "output_type": "execute_result"
    }
   ],
   "source": [
    "words_df['44'].sort_values()[-30:]"
   ]
  },
  {
   "cell_type": "markdown",
   "metadata": {},
   "source": [
    "### Dimensions 52 and 371"
   ]
  },
  {
   "cell_type": "code",
   "execution_count": 44,
   "metadata": {},
   "outputs": [
    {
     "data": {
      "text/plain": [
       "offrent       -23.703080\n",
       "confrontés    -22.800050\n",
       "constatent    -22.531290\n",
       "offrant       -22.513628\n",
       "pouvons       -22.247480\n",
       "confrontées   -22.069756\n",
       "confrontée    -21.973295\n",
       "occasi        -21.961239\n",
       "cet           -21.872965\n",
       "satisfaire    -21.857035\n",
       "tien          -21.421759\n",
       "sénat         -21.356598\n",
       "convaincue    -21.349820\n",
       "accordent     -21.338318\n",
       "apporte       -21.169310\n",
       "touchant      -21.112759\n",
       "répercu       -21.020111\n",
       "concentre     -21.013784\n",
       "voudrais      -20.996916\n",
       "semblent      -20.930466\n",
       "faite         -20.924587\n",
       "fournissons   -20.870094\n",
       "apporter      -20.861301\n",
       "assurer       -20.841833\n",
       "apportent     -20.840542\n",
       "parvenue      -20.778069\n",
       "compagnies    -20.777270\n",
       "énum          -20.724442\n",
       "concentrer    -20.681608\n",
       "observe       -20.622593\n",
       "Name: 52, dtype: float64"
      ]
     },
     "execution_count": 44,
     "metadata": {},
     "output_type": "execute_result"
    }
   ],
   "source": [
    "words_df['52'].sort_values()[:30]"
   ]
  },
  {
   "cell_type": "code",
   "execution_count": 45,
   "metadata": {},
   "outputs": [
    {
     "data": {
      "text/plain": [
       "-6             6.867753\n",
       "Venus          6.879361\n",
       "By             6.900997\n",
       "Aperçu         6.915778\n",
       "iDGAR          6.929677\n",
       "mystéri        6.985829\n",
       "Démarrer       7.003954\n",
       "DY             7.072113\n",
       "Léa            7.107493\n",
       "JEU            7.140551\n",
       "5,00           7.187702\n",
       "santéun        7.236695\n",
       "OK             7.293726\n",
       "N2             7.299377\n",
       "Ouvrir         7.375781\n",
       "Switch         7.392839\n",
       "WW             7.477736\n",
       "Geoffrey       7.486902\n",
       "山              7.556279\n",
       "CK             7.571124\n",
       "↔              7.615958\n",
       "Classement     7.617776\n",
       "Я              7.653035\n",
       "RON            7.714362\n",
       "2,00           7.753460\n",
       "requin         8.473904\n",
       "People         9.144770\n",
       "Laeti         10.125427\n",
       "Trier         11.270307\n",
       "MAC           11.590681\n",
       "Name: 52, dtype: float64"
      ]
     },
     "execution_count": 45,
     "metadata": {},
     "output_type": "execute_result"
    }
   ],
   "source": [
    "words_df['52'].sort_values()[-30:]"
   ]
  },
  {
   "cell_type": "code",
   "execution_count": 46,
   "metadata": {},
   "outputs": [
    {
     "data": {
      "text/plain": [
       "州               -47.637836\n",
       "mystéri         -46.852364\n",
       "་               -45.643578\n",
       "О               -44.793700\n",
       "Vent            -43.846798\n",
       "tez-pas         -42.625465\n",
       "requin          -41.993412\n",
       "c1              -41.301780\n",
       "ল               -40.778057\n",
       "MAC             -39.642390\n",
       "ਰ               -39.411037\n",
       "ト               -39.195347\n",
       "Huiles          -38.952812\n",
       "Laeti           -38.585365\n",
       "ὐ               -37.860928\n",
       "lubrifiants     -37.803580\n",
       "NPAPI           -37.423008\n",
       "chimi           -37.083286\n",
       "typographique   -36.993310\n",
       "stats           -36.929190\n",
       "-et-            -36.702110\n",
       "albédo          -36.701378\n",
       "périhélie       -36.631683\n",
       "voïvodie        -36.317690\n",
       "ᴬ               -36.306915\n",
       "ᠠ               -36.292614\n",
       "officieuses     -35.709137\n",
       "と               -35.250477\n",
       "ያ               -35.189990\n",
       "Drama           -35.168625\n",
       "Name: 371, dtype: float64"
      ]
     },
     "execution_count": 46,
     "metadata": {},
     "output_type": "execute_result"
    }
   ],
   "source": [
    "words_df['371'].sort_values()[:30]"
   ]
  },
  {
   "cell_type": "code",
   "execution_count": 47,
   "metadata": {},
   "outputs": [
    {
     "data": {
      "text/plain": [
       "démontrant      67.448780\n",
       "confirmation    67.463005\n",
       "fédération      67.479970\n",
       "stade           67.532860\n",
       "abolition       67.598400\n",
       "problème        67.818870\n",
       "centres         67.980286\n",
       "disparition     68.005910\n",
       "confronté       68.057960\n",
       "conscience      68.077190\n",
       "présence        68.096214\n",
       "invite          68.319580\n",
       "conscients      68.400370\n",
       "introduction    68.537910\n",
       "confrontés      68.578800\n",
       "introduire      68.785260\n",
       "évidence        68.962710\n",
       "implanter       69.107900\n",
       "péninsule       69.867226\n",
       "offrir          70.354280\n",
       "rendue          70.516220\n",
       "congrès         70.913826\n",
       "maintenir       71.195220\n",
       "confrontée      71.546455\n",
       "remettre        71.814674\n",
       "convaincu       72.434586\n",
       "conscient       72.498350\n",
       "fédéral         73.610275\n",
       "convaincus      75.340240\n",
       "convaincue      76.199870\n",
       "Name: 371, dtype: float64"
      ]
     },
     "execution_count": 47,
     "metadata": {},
     "output_type": "execute_result"
    }
   ],
   "source": [
    "words_df['371'].sort_values()[-30:]"
   ]
  },
  {
   "cell_type": "markdown",
   "metadata": {},
   "source": [
    "### Dimension 250"
   ]
  },
  {
   "cell_type": "markdown",
   "metadata": {},
   "source": [
    "Verb-ness ?"
   ]
  },
  {
   "cell_type": "code",
   "execution_count": 48,
   "metadata": {},
   "outputs": [
    {
     "data": {
      "text/plain": [
       "Caractéris     -9.510697\n",
       "ja             -8.962689\n",
       "50.            -7.302678\n",
       "Mastercard     -6.921659\n",
       "voisins        -6.909819\n",
       "Rugby          -6.852598\n",
       "bébé           -6.818317\n",
       "Tri            -6.803387\n",
       "H.             -6.435151\n",
       "c1             -6.366591\n",
       "frais          -6.284203\n",
       "intérieurs     -6.283090\n",
       "Fell           -6.099390\n",
       "Equipements    -6.078622\n",
       "tez-pas        -6.049263\n",
       "Mozart         -6.026020\n",
       "Z.             -6.002835\n",
       "Barro          -5.617013\n",
       "Pa             -5.321365\n",
       "voïvodie       -5.262936\n",
       "Cdiscount      -5.218352\n",
       "Encycl         -5.216330\n",
       "calend         -5.063813\n",
       "éché           -5.041575\n",
       "Drama          -5.000540\n",
       "acnéiques      -4.989286\n",
       "AMD            -4.926954\n",
       "Mozilla        -4.814699\n",
       "postalPièces   -4.689556\n",
       "biennal        -4.675738\n",
       "Name: 250, dtype: float64"
      ]
     },
     "execution_count": 48,
     "metadata": {},
     "output_type": "execute_result"
    }
   ],
   "source": [
    "words_df['250'].sort_values()[:30]"
   ]
  },
  {
   "cell_type": "code",
   "execution_count": 49,
   "metadata": {},
   "outputs": [
    {
     "data": {
      "text/plain": [
       "suscitant    18.296673\n",
       "regarde      18.331104\n",
       "pleurer      18.427630\n",
       "chucho       18.436850\n",
       "caresses     18.510240\n",
       "siff         18.555925\n",
       "pleure       18.569202\n",
       "pourrir      18.586264\n",
       "versets      18.669355\n",
       "crient       18.802711\n",
       "boivent      18.828983\n",
       "pleurs       18.896109\n",
       "gém          18.914350\n",
       "couloirs     18.935700\n",
       "écoutent     18.944430\n",
       "tribunes     19.030787\n",
       "insulter     19.062440\n",
       "dorment      19.171999\n",
       "bouffer      19.247145\n",
       "forums       19.292927\n",
       "regardent    19.506428\n",
       "lisent       19.672281\n",
       "relayer      19.673270\n",
       "nausé        19.722906\n",
       "hurle        19.834923\n",
       "serrer       19.862930\n",
       "dégueu       20.161776\n",
       "cracher      20.257727\n",
       "gueu         20.310627\n",
       "hurler       21.025606\n",
       "Name: 250, dtype: float64"
      ]
     },
     "execution_count": 49,
     "metadata": {},
     "output_type": "execute_result"
    }
   ],
   "source": [
    "words_df['250'].sort_values()[-30:]"
   ]
  },
  {
   "cell_type": "markdown",
   "metadata": {},
   "source": [
    "### Dimension 274"
   ]
  },
  {
   "cell_type": "markdown",
   "metadata": {},
   "source": [
    "Imported vocab ???  Uncountable nouns ???"
   ]
  },
  {
   "cell_type": "code",
   "execution_count": 50,
   "metadata": {},
   "outputs": [
    {
     "data": {
      "text/plain": [
       "accalau           -20.200336\n",
       "manufactu         -19.027672\n",
       "ERIE              -18.097021\n",
       "études            -17.738865\n",
       "allur             -17.640900\n",
       "Fourni            -17.637272\n",
       "conjonctur        -17.288841\n",
       "puéri             -17.191357\n",
       "fournitures       -16.983670\n",
       "INDUSTRI          -16.961805\n",
       "trimestri         -16.958225\n",
       "EURO              -16.866066\n",
       "CHER              -16.862823\n",
       "académiques       -16.800266\n",
       "dénomb            -16.760326\n",
       "académique        -16.720959\n",
       "hospitalisation   -16.702620\n",
       "maind'            -16.680712\n",
       "ENSEIGNEMENT      -16.636364\n",
       "énor              -16.626303\n",
       "oyers             -16.611313\n",
       "indice            -16.586700\n",
       "horti             -16.545033\n",
       "ME                -16.520992\n",
       "inté              -16.517565\n",
       "industrie         -16.502823\n",
       "structu           -16.500921\n",
       "suici             -16.484512\n",
       "ordures           -16.464489\n",
       "rougeurs          -16.461477\n",
       "Name: 274, dtype: float64"
      ]
     },
     "execution_count": 50,
     "metadata": {},
     "output_type": "execute_result"
    }
   ],
   "source": [
    "words_df['274'].sort_values()[:30]"
   ]
  },
  {
   "cell_type": "code",
   "execution_count": 51,
   "metadata": {},
   "outputs": [
    {
     "data": {
      "text/plain": [
       "Délais        0.671625\n",
       "disant        0.709280\n",
       "∗             0.771172\n",
       "battant       0.783623\n",
       "andum         0.920809\n",
       "little        0.931047\n",
       "affirmant     0.966878\n",
       "Lotus         0.982541\n",
       "bée           1.040980\n",
       "Live          1.042965\n",
       "éennes        1.171631\n",
       "précisant     1.203329\n",
       "sentant       1.252570\n",
       "Down          1.264396\n",
       "jugeant       1.312349\n",
       "TANT          1.431096\n",
       "4.0           1.512228\n",
       "color         1.563886\n",
       "ouï           1.610458\n",
       "qualifiant    1.617154\n",
       "estimant      1.628785\n",
       "Snap          1.632008\n",
       "Motion        1.849089\n",
       "bird          1.894159\n",
       "People        1.902779\n",
       "répétant      1.930468\n",
       "ther          1.968349\n",
       "çant          2.163687\n",
       "3.0           2.325602\n",
       "Switch        2.766142\n",
       "Name: 274, dtype: float64"
      ]
     },
     "execution_count": 51,
     "metadata": {},
     "output_type": "execute_result"
    }
   ],
   "source": [
    "words_df['274'].sort_values()[-30:]"
   ]
  },
  {
   "cell_type": "markdown",
   "metadata": {},
   "source": [
    "### Dimension 138"
   ]
  },
  {
   "cell_type": "markdown",
   "metadata": {},
   "source": [
    "Proper Nouns????????"
   ]
  },
  {
   "cell_type": "code",
   "execution_count": 52,
   "metadata": {},
   "outputs": [
    {
     "data": {
      "text/plain": [
       "rec          -22.111510\n",
       "Norman       -21.699173\n",
       "Hyundai      -21.590906\n",
       "VIN          -21.362290\n",
       "Nashville    -21.137976\n",
       "fécule       -20.874903\n",
       "Abiti        -20.819872\n",
       "c1           -20.744446\n",
       "Mitsubishi   -20.733100\n",
       "ndé          -20.718134\n",
       "Kentu        -20.666298\n",
       "Doug         -20.496439\n",
       "ÉTA          -20.471680\n",
       "Hyund        -20.361803\n",
       "Beur         -20.301134\n",
       "Chuck        -20.290518\n",
       "trième       -20.261110\n",
       "HOLL         -20.229832\n",
       "avant-hier   -20.040154\n",
       "Hain         -19.911230\n",
       "Dunker       -19.908773\n",
       "tétr         -19.835323\n",
       "Proc         -19.781046\n",
       "MRC          -19.734995\n",
       "minster      -19.701378\n",
       "TÉLÉ         -19.700872\n",
       "rale         -19.699734\n",
       "Poitou-      -19.694803\n",
       "Randy        -19.626783\n",
       "Rogers       -19.620045\n",
       "Name: 138, dtype: float64"
      ]
     },
     "execution_count": 52,
     "metadata": {},
     "output_type": "execute_result"
    }
   ],
   "source": [
    "words_df['138'].sort_values()[:30]"
   ]
  },
  {
   "cell_type": "code",
   "execution_count": 54,
   "metadata": {},
   "outputs": [
    {
     "data": {
      "text/plain": [
       "pornographique     3.367949\n",
       "médiév             3.368135\n",
       "pédagogiques       3.439037\n",
       "inutilement        3.464634\n",
       "littérature        3.464766\n",
       "alarme             3.478500\n",
       "éclairent          3.492325\n",
       "maçonnique         3.573716\n",
       "explosif           3.590175\n",
       "alerie             3.610433\n",
       "sordide            3.702722\n",
       "SOS                3.711777\n",
       "attitudes          3.772093\n",
       "pornographiques    3.835659\n",
       "espions            3.912673\n",
       "comportements      3.933312\n",
       "pièges             3.953470\n",
       "préventives        4.036762\n",
       "dessinée           4.045133\n",
       "satirique          4.122594\n",
       "espionnage         4.172225\n",
       "alarmes            4.202771\n",
       "romans             4.214644\n",
       "cyber              4.269430\n",
       "traque             4.294501\n",
       "antisémite         4.534973\n",
       "surveillés         4.610317\n",
       "dessinées          4.661177\n",
       "cyber-             4.816702\n",
       "ope                4.956480\n",
       "Name: 138, dtype: float64"
      ]
     },
     "execution_count": 54,
     "metadata": {},
     "output_type": "execute_result"
    }
   ],
   "source": [
    "words_df['138'].sort_values()[-30:]"
   ]
  },
  {
   "cell_type": "markdown",
   "metadata": {},
   "source": [
    "### Dimension 169"
   ]
  },
  {
   "cell_type": "code",
   "execution_count": 55,
   "metadata": {},
   "outputs": [
    {
     "data": {
      "text/plain": [
       "Blog       -13.017935\n",
       "baby       -12.946259\n",
       "blog       -11.638469\n",
       "jeux       -10.899027\n",
       "Norman     -10.314089\n",
       "Big         -9.920802\n",
       "uche        -9.819308\n",
       "crocodi     -9.777619\n",
       "cook        -9.773788\n",
       "gam         -9.687681\n",
       "dinos       -9.611792\n",
       "marin       -9.585180\n",
       "hob         -9.513778\n",
       "Œu          -9.335444\n",
       "ya          -9.249542\n",
       "Maï         -9.109380\n",
       "ody         -8.922164\n",
       "BFM         -8.834800\n",
       "Androi      -8.827656\n",
       "Wiki        -8.731068\n",
       "français    -8.712474\n",
       "requin      -8.675311\n",
       "scrap       -8.591000\n",
       "Che         -8.524037\n",
       "X-M         -8.504306\n",
       "ry          -8.469839\n",
       "ms          -8.450571\n",
       "Live        -8.340006\n",
       "Catég       -8.334327\n",
       "Bill        -8.314641\n",
       "Name: 169, dtype: float64"
      ]
     },
     "execution_count": 55,
     "metadata": {},
     "output_type": "execute_result"
    }
   ],
   "source": [
    "words_df['169'].sort_values()[:30]"
   ]
  },
  {
   "cell_type": "code",
   "execution_count": 57,
   "metadata": {},
   "outputs": [
    {
     "data": {
      "text/plain": [
       "1869           14.337543\n",
       "tionniste      14.373547\n",
       "balcon         14.383738\n",
       "verso          14.418445\n",
       "1871           14.449597\n",
       "provinciale    14.472334\n",
       "quiste         14.516958\n",
       "tatif          14.548856\n",
       "planade        14.560342\n",
       "Manitoba       14.612272\n",
       "gnant          14.633387\n",
       "exerce         14.655565\n",
       "cateur         14.694501\n",
       "revêtement     14.719297\n",
       "jaune          14.772228\n",
       "choisissant    14.793787\n",
       "adhésif        14.826441\n",
       "confèrent      14.887376\n",
       "exerçant       14.909622\n",
       "PVC            14.924337\n",
       "fen            15.030751\n",
       "unitaire       15.379007\n",
       "secondaires    15.449760\n",
       "tionnant       15.604011\n",
       "sortante       15.648257\n",
       "1877           15.665231\n",
       "collante       15.702437\n",
       "vitrage        15.810663\n",
       "auche          15.889762\n",
       "rant           16.071960\n",
       "Name: 169, dtype: float64"
      ]
     },
     "execution_count": 57,
     "metadata": {},
     "output_type": "execute_result"
    }
   ],
   "source": [
    "words_df['169'].sort_values()[-30:]"
   ]
  },
  {
   "cell_type": "markdown",
   "metadata": {},
   "source": [
    "### Dimension 195"
   ]
  },
  {
   "cell_type": "code",
   "execution_count": 58,
   "metadata": {},
   "outputs": [
    {
     "data": {
      "text/plain": [
       "adorent      -5.441894\n",
       "chaud        -5.345822\n",
       "sépa         -5.287341\n",
       "g.           -5.260684\n",
       "encadrés     -5.228781\n",
       "rd           -5.158019\n",
       "ages         -4.830858\n",
       "Les          -4.728189\n",
       "jours        -4.697884\n",
       "encad        -4.690925\n",
       "allen        -4.652235\n",
       "écar         -4.639658\n",
       "lle          -4.619181\n",
       "intérieurs   -4.511880\n",
       "PagesJau     -4.501387\n",
       "XL           -4.491107\n",
       "ves          -4.480626\n",
       "prix         -4.401250\n",
       "ZE           -4.351376\n",
       "espere       -4.300106\n",
       "surmonté     -4.207940\n",
       "surmontée    -4.170929\n",
       "Mais         -4.169377\n",
       "Color        -4.115876\n",
       "conc         -4.106785\n",
       "ise          -4.047597\n",
       "c.           -4.047028\n",
       "cran         -4.016566\n",
       "acon         -3.989484\n",
       "C.C.         -3.986000\n",
       "Name: 195, dtype: float64"
      ]
     },
     "execution_count": 58,
     "metadata": {},
     "output_type": "execute_result"
    }
   ],
   "source": [
    "words_df['195'].sort_values()[:30]"
   ]
  },
  {
   "cell_type": "code",
   "execution_count": 59,
   "metadata": {},
   "outputs": [
    {
     "data": {
      "text/plain": [
       "security          12.595197\n",
       "ravagé            12.618436\n",
       "portation         12.632587\n",
       "illicite          12.650309\n",
       "Department        12.696938\n",
       "aries             12.719276\n",
       "raffinerie        12.720221\n",
       "détérioration     12.772497\n",
       "météorologique    12.781341\n",
       "plaies            12.793609\n",
       "care              12.831109\n",
       "violations        12.832329\n",
       "régénération      12.874695\n",
       "distribution      12.899644\n",
       "cinémato          12.906276\n",
       "avancés           12.909586\n",
       "réprimer          12.996063\n",
       "importer          13.008850\n",
       "industries        13.209517\n",
       "industrie         13.213030\n",
       "technologies      13.377860\n",
       "minière           13.388015\n",
       "causés            13.429080\n",
       "prolifération     13.622068\n",
       "entraver          13.656837\n",
       "disparitions      13.887217\n",
       "maladies          13.938377\n",
       "aviaire           13.958561\n",
       "explosions        14.506449\n",
       "destruction       14.852371\n",
       "Name: 195, dtype: float64"
      ]
     },
     "execution_count": 59,
     "metadata": {},
     "output_type": "execute_result"
    }
   ],
   "source": [
    "words_df['195'].sort_values()[-30:]"
   ]
  },
  {
   "cell_type": "markdown",
   "metadata": {},
   "source": [
    "### Dimension 198"
   ]
  },
  {
   "cell_type": "code",
   "execution_count": 60,
   "metadata": {},
   "outputs": [
    {
     "data": {
      "text/plain": [
       "Nuremberg     -10.178575\n",
       "Gay           -10.086688\n",
       "nettoie        -9.842405\n",
       "anski          -9.214645\n",
       "Laeti          -9.202077\n",
       "fuient         -9.124799\n",
       "garantiLors    -9.048909\n",
       "POS            -8.955474\n",
       "Becker         -8.946235\n",
       "Fritz          -8.863050\n",
       "Der            -8.845862\n",
       "Zoover         -8.732054\n",
       "Ausch          -8.648170\n",
       "Herman         -8.578116\n",
       "Homs           -8.532762\n",
       "Dort           -8.503224\n",
       "TERE           -8.479648\n",
       "Damas          -8.438274\n",
       "Barro          -8.400876\n",
       "these          -8.398124\n",
       "gba            -8.364464\n",
       "dirigea        -8.332657\n",
       "Mourinho       -8.328071\n",
       "Noah           -8.302682\n",
       "PENDANT        -8.282769\n",
       "rentrés        -8.237861\n",
       "Groen          -8.228800\n",
       "Auschwitz      -8.228461\n",
       "ander          -8.208111\n",
       "jugeant        -8.159453\n",
       "Name: 198, dtype: float64"
      ]
     },
     "execution_count": 60,
     "metadata": {},
     "output_type": "execute_result"
    }
   ],
   "source": [
    "words_df['198'].sort_values()[:30]"
   ]
  },
  {
   "cell_type": "code",
   "execution_count": 61,
   "metadata": {},
   "outputs": [
    {
     "data": {
      "text/plain": [
       "hari             14.615985\n",
       "feuillet         14.632804\n",
       "attribut         14.683536\n",
       "emire            14.785764\n",
       "avut             14.803570\n",
       "REER             14.823948\n",
       "canadien         14.833866\n",
       "PQ               14.876457\n",
       "noeud            14.904092\n",
       "bulletin         14.974715\n",
       "46               14.992370\n",
       "lien             15.069812\n",
       "capital-         15.233719\n",
       "mail             15.234241\n",
       "hali             15.304702\n",
       "caca             15.334385\n",
       "bannière         15.559852\n",
       "58               15.586877\n",
       "inc              15.711946\n",
       "indicatif        16.068380\n",
       "courriel         16.084162\n",
       "assurance-vie    16.274190\n",
       "balise           16.286980\n",
       "formulaire       16.392221\n",
       "CV               16.531572\n",
       "CFP              16.536339\n",
       "assurance        16.710394\n",
       "fiducie          17.278770\n",
       "AA               18.773806\n",
       "coupon           20.391800\n",
       "Name: 198, dtype: float64"
      ]
     },
     "execution_count": 61,
     "metadata": {},
     "output_type": "execute_result"
    }
   ],
   "source": [
    "words_df['198'].sort_values()[-30:]"
   ]
  },
  {
   "cell_type": "markdown",
   "metadata": {},
   "source": [
    "### Dimension 494"
   ]
  },
  {
   "cell_type": "code",
   "execution_count": 62,
   "metadata": {},
   "outputs": [
    {
     "data": {
      "text/plain": [
       "idon           -7.894555\n",
       "stationnaire   -7.582129\n",
       "Neptune        -7.026299\n",
       "AF             -6.839356\n",
       "⇒              -6.735850\n",
       "calculateur    -6.516765\n",
       "iso            -6.512494\n",
       "Météo          -6.381785\n",
       "actiques       -6.222856\n",
       "GC             -5.994883\n",
       "axi            -5.927120\n",
       "sondes         -5.914610\n",
       "Saturne        -5.862953\n",
       "Prévisions     -5.711142\n",
       "--Le           -5.703108\n",
       "commandant     -5.664547\n",
       "PORT           -5.601762\n",
       "embarquer      -5.595786\n",
       "L              -5.548289\n",
       "Plage          -5.532320\n",
       "Mercure        -5.414354\n",
       "ome            -5.398498\n",
       "Djibouti       -5.395783\n",
       "uste           -5.340752\n",
       "Are            -5.327001\n",
       "Oy             -5.268644\n",
       "manquez        -5.262774\n",
       "Navi           -5.262096\n",
       "∴              -5.258263\n",
       "actique        -5.257069\n",
       "Name: 494, dtype: float64"
      ]
     },
     "execution_count": 62,
     "metadata": {},
     "output_type": "execute_result"
    }
   ],
   "source": [
    "words_df['494'].sort_values()[:30]"
   ]
  },
  {
   "cell_type": "code",
   "execution_count": 63,
   "metadata": {},
   "outputs": [
    {
     "data": {
      "text/plain": [
       "secteur       13.541712\n",
       "Matériaux     13.553360\n",
       "Menu          13.558009\n",
       "Ouvr          13.575054\n",
       "plaqué        13.683962\n",
       "composi       13.694964\n",
       "pierre        13.750221\n",
       "tuiles        13.762032\n",
       "struc         13.776991\n",
       "hachée        13.783144\n",
       "finement      13.791679\n",
       "copeaux       13.839322\n",
       "découpé       13.859744\n",
       "p'            13.899765\n",
       "liège         13.921982\n",
       "rain          13.948922\n",
       "chrome        13.965519\n",
       "forestière    13.967660\n",
       "sectoriel     14.013183\n",
       "Grammy        14.047411\n",
       "Mauricie      14.194414\n",
       "Peu           14.354816\n",
       "collé         14.459451\n",
       "découpés      14.631951\n",
       "mark          14.772810\n",
       "uits          14.864865\n",
       "haché         15.041341\n",
       "collés        15.137065\n",
       "séché         15.254217\n",
       "ajoutée       16.144213\n",
       "Name: 494, dtype: float64"
      ]
     },
     "execution_count": 63,
     "metadata": {},
     "output_type": "execute_result"
    }
   ],
   "source": [
    "words_df['494'].sort_values()[-30:]"
   ]
  },
  {
   "cell_type": "code",
   "execution_count": null,
   "metadata": {},
   "outputs": [],
   "source": []
  }
 ],
 "metadata": {
  "kernelspec": {
   "display_name": "Python 3",
   "language": "python",
   "name": "python3"
  },
  "language_info": {
   "codemirror_mode": {
    "name": "ipython",
    "version": 3
   },
   "file_extension": ".py",
   "mimetype": "text/x-python",
   "name": "python",
   "nbconvert_exporter": "python",
   "pygments_lexer": "ipython3",
   "version": "3.8.5"
  },
  "vscode": {
   "interpreter": {
    "hash": "3de7a084b318d7b8bf96005cb5db4da14a27f60df0465391ef48a4c336f03bfe"
   }
  }
 },
 "nbformat": 4,
 "nbformat_minor": 4
}
