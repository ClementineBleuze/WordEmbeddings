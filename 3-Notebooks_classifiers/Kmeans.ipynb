{
 "cells": [
  {
   "attachments": {},
   "cell_type": "markdown",
   "metadata": {},
   "source": [
    "## Kmeans experiments"
   ]
  },
  {
   "cell_type": "code",
   "execution_count": 1,
   "metadata": {},
   "outputs": [],
   "source": [
    "import pandas as pd\n",
    "from sklearn.metrics import confusion_matrix\n",
    "import seaborn as sns\n",
    "import matplotlib.pyplot as plt\n",
    "from seaborn import heatmap\n",
    "import numpy as np"
   ]
  },
  {
   "cell_type": "code",
   "execution_count": 3,
   "metadata": {},
   "outputs": [],
   "source": [
    "df_nouns_nb = pd.read_csv('../Data/FlauBERT_WE/all_nouns_we.csv').drop(columns=[\"gender\"])\n",
    "df_adj_nb = pd.read_csv('../Data/FlauBERT_WE/all_adjectives_we.csv').drop(columns=[\"gender\"])\n",
    "df_both_nb = pd.concat([df_nouns_nb, df_adj_nb], ignore_index=True)\n",
    "\n",
    "# assign 0 for singular and 1 for plural\n",
    "df_nouns_nb.loc[df_nouns_nb['number']==\"singular\",'num']=0\n",
    "df_nouns_nb.loc[df_nouns_nb['number']==\"plural\",'num']=1\n",
    "\n",
    "df_adj_nb.loc[df_adj_nb['number']==\"singular\",'num']=0\n",
    "df_adj_nb.loc[df_adj_nb['number']==\"plural\",'num']=1\n",
    "\n",
    "\n",
    "df_both_nb.loc[df_both_nb['number']==\"singular\",'num']=0\n",
    "df_both_nb.loc[df_both_nb['number']==\"plural\",'num']=1\n",
    "\n",
    "\n",
    "# target : number\n",
    "Y_nb_N = df_nouns_nb[\"num\"]\n",
    "Y_nb_A = df_adj_nb[\"num\"]\n",
    "Y_nb_both = df_both_nb[\"num\"]\n",
    "\n",
    "# features : word embeddings dimensions\n",
    "X_nb_N = df_nouns_nb.drop(columns=[\"Word\", \"number\", \"num\"])\n",
    "X_nb_A = df_adj_nb.drop(columns=[\"Word\", \"number\", \"num\"])\n",
    "X_nb_both = df_both_nb.drop(columns = [\"Word\",\"number\", \"num\"] )\n",
    "\n",
    "# normalize data to be between 0 and 1\n",
    "X_nb_N = (X_nb_N - X_nb_N.min()) / (X_nb_N.max() - X_nb_N.min())\n",
    "X_nb_A = (X_nb_A - X_nb_A.min()) / (X_nb_A.max() - X_nb_A.min())\n",
    "X_nb_both = (X_nb_both - X_nb_both.min()) / (X_nb_both.max() - X_nb_both.min())\n",
    "\n",
    "# split data into train and test sets\n",
    "##X_nb_N_train, X_nb_N_test, Y_nb_N_train, Y_nb_N_test = train_test_split(X_nb_N, Y_nb_N, test_size=0.2, random_state=42)\n",
    "##X_nb_A_train, X_nb_A_test, Y_nb_A_train, Y_nb_A_test = train_test_split(X_nb_A, Y_nb_A, test_size=0.2, random_state=42)\n",
    "#X_nb_both_train, X_nb_both_test, Y_nb_both_train, Y_nb_both_test = train_test_split(X_nb_both, Y_nb_both, test_size=0.2, random_state=42)\n",
    "\n",
    "X_nb_features = [X_nb_N, X_nb_A, X_nb_both]\n",
    "Y_nb_features = [Y_nb_N, Y_nb_A, Y_nb_both]"
   ]
  },
  {
   "cell_type": "code",
   "execution_count": 4,
   "metadata": {},
   "outputs": [
    {
     "name": "stderr",
     "output_type": "stream",
     "text": [
      "/Users/chunyang/opt/anaconda3/lib/python3.9/site-packages/sklearn/cluster/_kmeans.py:870: FutureWarning: The default value of `n_init` will change from 10 to 'auto' in 1.4. Set the value of `n_init` explicitly to suppress the warning\n",
      "  warnings.warn(\n",
      "/Users/chunyang/opt/anaconda3/lib/python3.9/site-packages/sklearn/cluster/_kmeans.py:870: FutureWarning: The default value of `n_init` will change from 10 to 'auto' in 1.4. Set the value of `n_init` explicitly to suppress the warning\n",
      "  warnings.warn(\n",
      "/Users/chunyang/opt/anaconda3/lib/python3.9/site-packages/sklearn/cluster/_kmeans.py:870: FutureWarning: The default value of `n_init` will change from 10 to 'auto' in 1.4. Set the value of `n_init` explicitly to suppress the warning\n",
      "  warnings.warn(\n"
     ]
    }
   ],
   "source": [
    "from sklearn.cluster import KMeans\n",
    "\n",
    "from sklearn.inspection import permutation_importance\n",
    "\n",
    "Km_results = []\n",
    "\n",
    "for i in range(3):\n",
    "    \n",
    "    X, Y = X_nb_features[i], Y_nb_features[i]\n",
    "\n",
    "    # define a K means model\n",
    "    km = KMeans(n_clusters=2,random_state=0)\n",
    "\n",
    "    # fit the data set\n",
    "    km.fit(X)\n",
    "\n",
    "    # predict the result set\n",
    "    Y_pred = km.labels_\n",
    "\n",
    "    Y_test=Y \n",
    "\n",
    "    \n",
    "\n",
    "    # Build a confusion matrix\n",
    "    Km_results.append ({\"cm\": confusion_matrix(Y_test, Y_pred)})\n",
    "\n",
    "    # Compute precision, recall, F1 score and accuracy\n",
    "    Km_results[i][\"precision\"] = Km_results[i][\"cm\"][0,0] / (Km_results[i][\"cm\"][0,0] + Km_results[i][\"cm\"][1,0])\n",
    "    Km_results[i][\"recall\"] = Km_results[i][\"cm\"][0,0] / (Km_results[i][\"cm\"][0,0] + Km_results[i][\"cm\"][0,1])\n",
    "    Km_results[i][\"f1\"] = 2 * Km_results[i][\"precision\"] * Km_results[i][\"recall\"] / (Km_results[i][\"precision\"] + Km_results[i][\"recall\"])\n",
    "    Km_results[i][\"accuracy\"] = (Km_results[i][\"cm\"][0,0] + Km_results[i][\"cm\"][1,1]) / np.sum(Km_results[i][\"cm\"])\n",
    "   \n",
    "    # Store the importance of each feature\n",
    "    #Km_results[i][\"importances\"] = km.coef_[0]"
   ]
  },
  {
   "cell_type": "code",
   "execution_count": 5,
   "metadata": {},
   "outputs": [
    {
     "name": "stdout",
     "output_type": "stream",
     "text": [
      "Experiment 1:\n",
      "\n",
      "Precision: 0.6485292261078147\n",
      "Recall: 0.5973255813953489\n",
      "F1 score: 0.6218751891531991\n",
      "Accuracy: 0.528100921589364\n"
     ]
    },
    {
     "data": {
      "image/png": "[encoded data removed]",
      "text/plain": [
       "<Figure size 360x360 with 2 Axes>"
      ]
     },
     "metadata": {
      "needs_background": "light"
     },
     "output_type": "display_data"
    },
    {
     "name": "stdout",
     "output_type": "stream",
     "text": [
      "Experiment 2:\n",
      "\n",
      "Precision: 0.6086036671368125\n",
      "Recall: 0.43432310015098136\n",
      "F1 score: 0.5069016152716594\n",
      "Accuracy: 0.469845279444269\n"
     ]
    },
    {
     "data": {
      "image/png": "[encoded data removed]",
      "text/plain": [
       "<Figure size 360x360 with 2 Axes>"
      ]
     },
     "metadata": {
      "needs_background": "light"
     },
     "output_type": "display_data"
    },
    {
     "name": "stdout",
     "output_type": "stream",
     "text": [
      "Experiment 3:\n",
      "\n",
      "Precision: 0.6397177059138824\n",
      "Recall: 0.5695085096230317\n",
      "F1 score: 0.6025748906092225\n",
      "Accuracy: 0.5173717555691805\n"
     ]
    },
    {
     "data": {
      "image/png": "[encoded data removed]",
      "text/plain": [
       "<Figure size 360x360 with 2 Axes>"
      ]
     },
     "metadata": {
      "needs_background": "light"
     },
     "output_type": "display_data"
    }
   ],
   "source": [
    "for i in range(3):\n",
    "\n",
    "    print(f\"Experiment {i+1}:\\n\")\n",
    "    \n",
    "    # Plot top 10 most important features\n",
    "    #indices = np.argsort(abs(Km_results[i][\"importances\"]))[::-1]\n",
    "    #for ind in [int(ind) for ind in indices[:10]]:\n",
    "        #print(f\"-{ind}: {Km_results[i]['importances'][ind]}\")\n",
    "\n",
    "    # plot all the features coefficients\n",
    "    #plt.figure(figsize=(10,5))\n",
    "    #plt.bar(range(len(Km_results[i][\"importances\"])), Km_results[i][\"importances\"])\n",
    "\n",
    "    # Plot precision, recall, F1 score and accuracy\n",
    "    print(f\"Precision: {Km_results[i]['precision']}\")\n",
    "    print(f\"Recall: {Km_results[i]['recall']}\")\n",
    "    print(f\"F1 score: {Km_results[i]['f1']}\")\n",
    "    print(f\"Accuracy: {Km_results[i]['accuracy']}\")\n",
    "\n",
    "   \n",
    "\n",
    "    \n",
    "    \n",
    "    \n",
    "    # Plot confusion matrix\n",
    "    plt.figure(figsize=(5,5))\n",
    "    sns.heatmap(Km_results[i][\"cm\"], annot=True, fmt=\"d\")\n",
    "    plt.show()"
   ]
  }
 ],
 "metadata": {
  "kernelspec": {
   "display_name": "base",
   "language": "python",
   "name": "python3"
  },
  "language_info": {
   "codemirror_mode": {
    "name": "ipython",
    "version": 3
   },
   "file_extension": ".py",
   "mimetype": "text/x-python",
   "name": "python",
   "nbconvert_exporter": "python",
   "pygments_lexer": "ipython3",
   "version": "3.9.7"
  },
  "orig_nbformat": 4
 },
 "nbformat": 4,
 "nbformat_minor": 2
}
