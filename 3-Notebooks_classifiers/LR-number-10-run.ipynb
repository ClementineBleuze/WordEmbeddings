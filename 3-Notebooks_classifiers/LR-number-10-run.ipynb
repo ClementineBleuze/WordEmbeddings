{
 "cells": [
  {
   "cell_type": "code",
   "execution_count": 6,
   "metadata": {},
   "outputs": [],
   "source": [
    "from sklearn.linear_model import LogisticRegression \n",
    "import pandas as pd\n",
    "import numpy as np\n",
    "from sklearn.model_selection import train_test_split\n",
    "import seaborn as sns\n",
    "from matplotlib import pyplot as plt"
   ]
  },
  {
   "cell_type": "markdown",
   "metadata": {},
   "source": [
    "## Data preparation"
   ]
  },
  {
   "cell_type": "markdown",
   "metadata": {},
   "source": [
    "### Load data: NOUN, ADJ, and both"
   ]
  },
  {
   "cell_type": "code",
   "execution_count": 2,
   "metadata": {},
   "outputs": [],
   "source": [
    "df_nouns_we = pd.read_csv('../Data/FlauBERT_WE/all_nouns_we.csv').drop(columns=[\"gender\"])\n",
    "df_adj_we = pd.read_csv('../Data/FlauBERT_WE/all_adjectives_we.csv').drop(columns = \"gender\")\n",
    "df_both_we = pd.concat([df_nouns_we, df_adj_we], ignore_index=True)\n",
    "# target : number\n",
    "Y_nb_N = df_nouns_we[\"number\"].apply(lambda x: 1 if x == \"singular\" else 0)\n",
    "Y_nb_A = df_adj_we[\"number\"].apply(lambda x: 1 if x == \"singular\" else 0)\n",
    "Y_nb_both = df_both_we[\"number\"].apply(lambda x: 1 if x == \"singular\" else 0)\n",
    "# features : word embeddings dimensions\n",
    "X_nb_N = df_nouns_we.drop(columns=[\"Word\", \"number\"])\n",
    "X_nb_A = df_adj_we.drop(columns=[\"Word\", \"number\"])\n",
    "X_nb_both = df_both_we.drop(columns = [\"Word\", \"number\"] )\n",
    "\n",
    "# normalize data to be between 0 and 1\n",
    "X_nb_N = (X_nb_N - X_nb_N.min()) / (X_nb_N.max() - X_nb_N.min())\n",
    "X_nb_A = (X_nb_A - X_nb_A.min()) / (X_nb_A.max() - X_nb_A.min())\n",
    "X_nb_both = (X_nb_both - X_nb_both.min()) / (X_nb_both.max() - X_nb_both.min())\n",
    "\n",
    "\n",
    "# split data into train and test sets\n",
    "X_nb_N_train, X_nb_N_test, Y_nb_N_train, Y_nb_N_test = train_test_split(X_nb_N, Y_nb_N, test_size=0.2, random_state=42)\n",
    "X_nb_A_train, X_nb_A_test, Y_nb_A_train, Y_nb_A_test = train_test_split(X_nb_A, Y_nb_A, test_size=0.2, random_state=42)\n",
    "X_nb_both_train, X_nb_both_test, Y_nb_both_train, Y_nb_both_test = train_test_split(X_nb_both, Y_nb_both, test_size=0.2, random_state=42)"
   ]
  },
  {
   "cell_type": "code",
   "execution_count": 3,
   "metadata": {},
   "outputs": [],
   "source": [
    "train_feature = [X_nb_N_train, X_nb_A_train, X_nb_both_train]\n",
    "test_feature = [X_nb_N_test, X_nb_A_test, X_nb_both_test]\n",
    "train_target = [Y_nb_N_train, Y_nb_A_train, Y_nb_both_train]\n",
    "test_target = [Y_nb_N_test, Y_nb_A_test, Y_nb_both_test]\n",
    "\n",
    "names = ['Number: Noun', 'Number: Adjs', 'Number: Both']"
   ]
  },
  {
   "cell_type": "markdown",
   "metadata": {},
   "source": [
    "## Train the models"
   ]
  },
  {
   "cell_type": "code",
   "execution_count": 4,
   "metadata": {},
   "outputs": [],
   "source": [
    "weights = [[], [], []]"
   ]
  },
  {
   "cell_type": "code",
   "execution_count": 8,
   "metadata": {},
   "outputs": [
    {
     "name": "stdout",
     "output_type": "stream",
     "text": [
      " Training model:  Number: Noun, run 0\n",
      " Training model:  Number: Adjs, run 0\n",
      " Training model:  Number: Both, run 0\n",
      " Training model:  Number: Noun, run 1\n",
      " Training model:  Number: Adjs, run 1\n",
      " Training model:  Number: Both, run 1\n",
      " Training model:  Number: Noun, run 2\n",
      " Training model:  Number: Adjs, run 2\n",
      " Training model:  Number: Both, run 2\n",
      " Training model:  Number: Noun, run 3\n",
      " Training model:  Number: Adjs, run 3\n",
      " Training model:  Number: Both, run 3\n",
      " Training model:  Number: Noun, run 4\n",
      " Training model:  Number: Adjs, run 4\n",
      " Training model:  Number: Both, run 4\n",
      " Training model:  Number: Noun, run 5\n",
      " Training model:  Number: Adjs, run 5\n",
      " Training model:  Number: Both, run 5\n",
      " Training model:  Number: Noun, run 6\n",
      " Training model:  Number: Adjs, run 6\n",
      " Training model:  Number: Both, run 6\n",
      " Training model:  Number: Noun, run 7\n",
      " Training model:  Number: Adjs, run 7\n",
      " Training model:  Number: Both, run 7\n",
      " Training model:  Number: Noun, run 8\n",
      " Training model:  Number: Adjs, run 8\n",
      " Training model:  Number: Both, run 8\n",
      " Training model:  Number: Noun, run 9\n",
      " Training model:  Number: Adjs, run 9\n",
      " Training model:  Number: Both, run 9\n"
     ]
    }
   ],
   "source": [
    "for y in range(10):\n",
    "    for i in range(3):\n",
    "        print(f\" Training model:  {names[i]}, run {y}\")\n",
    "        \n",
    "        clf = LogisticRegression(random_state=y, max_iter=1000)\n",
    "        clf.fit(train_feature[i], train_target[i])\n",
    "        \n",
    "        weights[i].append(clf.coef_[0])"
   ]
  },
  {
   "cell_type": "code",
   "execution_count": 9,
   "metadata": {},
   "outputs": [],
   "source": [
    "weights = np.abs(weights)"
   ]
  },
  {
   "cell_type": "markdown",
   "metadata": {},
   "source": [
    "## Number: Nouns"
   ]
  },
  {
   "cell_type": "code",
   "execution_count": 10,
   "metadata": {},
   "outputs": [],
   "source": [
    "noun_weights = pd.DataFrame(columns=list(range(512)))"
   ]
  },
  {
   "cell_type": "code",
   "execution_count": 11,
   "metadata": {},
   "outputs": [],
   "source": [
    "noun_weights['run'] = list(range(10))\n",
    "for r in range(10):\n",
    "    dims_sorted = [x[0] for x in sorted(enumerate(weights[0][r]), key=lambda x: abs(x[1]), reverse=True)]\n",
    "    for i in range(len(dims_sorted)):\n",
    "        noun_weights.iloc[r, dims_sorted[i]] = i"
   ]
  },
  {
   "cell_type": "code",
   "execution_count": 12,
   "metadata": {},
   "outputs": [
    {
     "data": {
      "text/html": [
       "<div>\n",
       "<style scoped>\n",
       "    .dataframe tbody tr th:only-of-type {\n",
       "        vertical-align: middle;\n",
       "    }\n",
       "\n",
       "    .dataframe tbody tr th {\n",
       "        vertical-align: top;\n",
       "    }\n",
       "\n",
       "    .dataframe thead th {\n",
       "        text-align: right;\n",
       "    }\n",
       "</style>\n",
       "<table border=\"1\" class=\"dataframe\">\n",
       "  <thead>\n",
       "    <tr style=\"text-align: right;\">\n",
       "      <th></th>\n",
       "      <th>0</th>\n",
       "      <th>1</th>\n",
       "      <th>2</th>\n",
       "      <th>3</th>\n",
       "      <th>4</th>\n",
       "      <th>5</th>\n",
       "      <th>6</th>\n",
       "      <th>7</th>\n",
       "      <th>8</th>\n",
       "      <th>9</th>\n",
       "      <th>...</th>\n",
       "      <th>503</th>\n",
       "      <th>504</th>\n",
       "      <th>505</th>\n",
       "      <th>506</th>\n",
       "      <th>507</th>\n",
       "      <th>508</th>\n",
       "      <th>509</th>\n",
       "      <th>510</th>\n",
       "      <th>511</th>\n",
       "      <th>run</th>\n",
       "    </tr>\n",
       "  </thead>\n",
       "  <tbody>\n",
       "    <tr>\n",
       "      <th>0</th>\n",
       "      <td>483</td>\n",
       "      <td>61</td>\n",
       "      <td>429</td>\n",
       "      <td>140</td>\n",
       "      <td>266</td>\n",
       "      <td>342</td>\n",
       "      <td>194</td>\n",
       "      <td>47</td>\n",
       "      <td>175</td>\n",
       "      <td>88</td>\n",
       "      <td>...</td>\n",
       "      <td>447</td>\n",
       "      <td>369</td>\n",
       "      <td>276</td>\n",
       "      <td>150</td>\n",
       "      <td>124</td>\n",
       "      <td>442</td>\n",
       "      <td>500</td>\n",
       "      <td>283</td>\n",
       "      <td>142</td>\n",
       "      <td>0</td>\n",
       "    </tr>\n",
       "    <tr>\n",
       "      <th>1</th>\n",
       "      <td>483</td>\n",
       "      <td>61</td>\n",
       "      <td>429</td>\n",
       "      <td>140</td>\n",
       "      <td>266</td>\n",
       "      <td>342</td>\n",
       "      <td>194</td>\n",
       "      <td>47</td>\n",
       "      <td>175</td>\n",
       "      <td>88</td>\n",
       "      <td>...</td>\n",
       "      <td>447</td>\n",
       "      <td>369</td>\n",
       "      <td>276</td>\n",
       "      <td>150</td>\n",
       "      <td>124</td>\n",
       "      <td>442</td>\n",
       "      <td>500</td>\n",
       "      <td>283</td>\n",
       "      <td>142</td>\n",
       "      <td>1</td>\n",
       "    </tr>\n",
       "    <tr>\n",
       "      <th>2</th>\n",
       "      <td>483</td>\n",
       "      <td>61</td>\n",
       "      <td>429</td>\n",
       "      <td>140</td>\n",
       "      <td>266</td>\n",
       "      <td>342</td>\n",
       "      <td>194</td>\n",
       "      <td>47</td>\n",
       "      <td>175</td>\n",
       "      <td>88</td>\n",
       "      <td>...</td>\n",
       "      <td>447</td>\n",
       "      <td>369</td>\n",
       "      <td>276</td>\n",
       "      <td>150</td>\n",
       "      <td>124</td>\n",
       "      <td>442</td>\n",
       "      <td>500</td>\n",
       "      <td>283</td>\n",
       "      <td>142</td>\n",
       "      <td>2</td>\n",
       "    </tr>\n",
       "    <tr>\n",
       "      <th>3</th>\n",
       "      <td>483</td>\n",
       "      <td>61</td>\n",
       "      <td>429</td>\n",
       "      <td>140</td>\n",
       "      <td>266</td>\n",
       "      <td>342</td>\n",
       "      <td>194</td>\n",
       "      <td>47</td>\n",
       "      <td>175</td>\n",
       "      <td>88</td>\n",
       "      <td>...</td>\n",
       "      <td>447</td>\n",
       "      <td>369</td>\n",
       "      <td>276</td>\n",
       "      <td>150</td>\n",
       "      <td>124</td>\n",
       "      <td>442</td>\n",
       "      <td>500</td>\n",
       "      <td>283</td>\n",
       "      <td>142</td>\n",
       "      <td>3</td>\n",
       "    </tr>\n",
       "    <tr>\n",
       "      <th>4</th>\n",
       "      <td>483</td>\n",
       "      <td>61</td>\n",
       "      <td>429</td>\n",
       "      <td>140</td>\n",
       "      <td>266</td>\n",
       "      <td>342</td>\n",
       "      <td>194</td>\n",
       "      <td>47</td>\n",
       "      <td>175</td>\n",
       "      <td>88</td>\n",
       "      <td>...</td>\n",
       "      <td>447</td>\n",
       "      <td>369</td>\n",
       "      <td>276</td>\n",
       "      <td>150</td>\n",
       "      <td>124</td>\n",
       "      <td>442</td>\n",
       "      <td>500</td>\n",
       "      <td>283</td>\n",
       "      <td>142</td>\n",
       "      <td>4</td>\n",
       "    </tr>\n",
       "    <tr>\n",
       "      <th>5</th>\n",
       "      <td>483</td>\n",
       "      <td>61</td>\n",
       "      <td>429</td>\n",
       "      <td>140</td>\n",
       "      <td>266</td>\n",
       "      <td>342</td>\n",
       "      <td>194</td>\n",
       "      <td>47</td>\n",
       "      <td>175</td>\n",
       "      <td>88</td>\n",
       "      <td>...</td>\n",
       "      <td>447</td>\n",
       "      <td>369</td>\n",
       "      <td>276</td>\n",
       "      <td>150</td>\n",
       "      <td>124</td>\n",
       "      <td>442</td>\n",
       "      <td>500</td>\n",
       "      <td>283</td>\n",
       "      <td>142</td>\n",
       "      <td>5</td>\n",
       "    </tr>\n",
       "    <tr>\n",
       "      <th>6</th>\n",
       "      <td>483</td>\n",
       "      <td>61</td>\n",
       "      <td>429</td>\n",
       "      <td>140</td>\n",
       "      <td>266</td>\n",
       "      <td>342</td>\n",
       "      <td>194</td>\n",
       "      <td>47</td>\n",
       "      <td>175</td>\n",
       "      <td>88</td>\n",
       "      <td>...</td>\n",
       "      <td>447</td>\n",
       "      <td>369</td>\n",
       "      <td>276</td>\n",
       "      <td>150</td>\n",
       "      <td>124</td>\n",
       "      <td>442</td>\n",
       "      <td>500</td>\n",
       "      <td>283</td>\n",
       "      <td>142</td>\n",
       "      <td>6</td>\n",
       "    </tr>\n",
       "    <tr>\n",
       "      <th>7</th>\n",
       "      <td>483</td>\n",
       "      <td>61</td>\n",
       "      <td>429</td>\n",
       "      <td>140</td>\n",
       "      <td>266</td>\n",
       "      <td>342</td>\n",
       "      <td>194</td>\n",
       "      <td>47</td>\n",
       "      <td>175</td>\n",
       "      <td>88</td>\n",
       "      <td>...</td>\n",
       "      <td>447</td>\n",
       "      <td>369</td>\n",
       "      <td>276</td>\n",
       "      <td>150</td>\n",
       "      <td>124</td>\n",
       "      <td>442</td>\n",
       "      <td>500</td>\n",
       "      <td>283</td>\n",
       "      <td>142</td>\n",
       "      <td>7</td>\n",
       "    </tr>\n",
       "    <tr>\n",
       "      <th>8</th>\n",
       "      <td>483</td>\n",
       "      <td>61</td>\n",
       "      <td>429</td>\n",
       "      <td>140</td>\n",
       "      <td>266</td>\n",
       "      <td>342</td>\n",
       "      <td>194</td>\n",
       "      <td>47</td>\n",
       "      <td>175</td>\n",
       "      <td>88</td>\n",
       "      <td>...</td>\n",
       "      <td>447</td>\n",
       "      <td>369</td>\n",
       "      <td>276</td>\n",
       "      <td>150</td>\n",
       "      <td>124</td>\n",
       "      <td>442</td>\n",
       "      <td>500</td>\n",
       "      <td>283</td>\n",
       "      <td>142</td>\n",
       "      <td>8</td>\n",
       "    </tr>\n",
       "    <tr>\n",
       "      <th>9</th>\n",
       "      <td>483</td>\n",
       "      <td>61</td>\n",
       "      <td>429</td>\n",
       "      <td>140</td>\n",
       "      <td>266</td>\n",
       "      <td>342</td>\n",
       "      <td>194</td>\n",
       "      <td>47</td>\n",
       "      <td>175</td>\n",
       "      <td>88</td>\n",
       "      <td>...</td>\n",
       "      <td>447</td>\n",
       "      <td>369</td>\n",
       "      <td>276</td>\n",
       "      <td>150</td>\n",
       "      <td>124</td>\n",
       "      <td>442</td>\n",
       "      <td>500</td>\n",
       "      <td>283</td>\n",
       "      <td>142</td>\n",
       "      <td>9</td>\n",
       "    </tr>\n",
       "  </tbody>\n",
       "</table>\n",
       "<p>10 rows × 513 columns</p>\n",
       "</div>"
      ],
      "text/plain": [
       "     0   1    2    3    4    5    6   7    8   9  ...  503  504  505  506  \\\n",
       "0  483  61  429  140  266  342  194  47  175  88  ...  447  369  276  150   \n",
       "1  483  61  429  140  266  342  194  47  175  88  ...  447  369  276  150   \n",
       "2  483  61  429  140  266  342  194  47  175  88  ...  447  369  276  150   \n",
       "3  483  61  429  140  266  342  194  47  175  88  ...  447  369  276  150   \n",
       "4  483  61  429  140  266  342  194  47  175  88  ...  447  369  276  150   \n",
       "5  483  61  429  140  266  342  194  47  175  88  ...  447  369  276  150   \n",
       "6  483  61  429  140  266  342  194  47  175  88  ...  447  369  276  150   \n",
       "7  483  61  429  140  266  342  194  47  175  88  ...  447  369  276  150   \n",
       "8  483  61  429  140  266  342  194  47  175  88  ...  447  369  276  150   \n",
       "9  483  61  429  140  266  342  194  47  175  88  ...  447  369  276  150   \n",
       "\n",
       "   507  508  509  510  511 run  \n",
       "0  124  442  500  283  142   0  \n",
       "1  124  442  500  283  142   1  \n",
       "2  124  442  500  283  142   2  \n",
       "3  124  442  500  283  142   3  \n",
       "4  124  442  500  283  142   4  \n",
       "5  124  442  500  283  142   5  \n",
       "6  124  442  500  283  142   6  \n",
       "7  124  442  500  283  142   7  \n",
       "8  124  442  500  283  142   8  \n",
       "9  124  442  500  283  142   9  \n",
       "\n",
       "[10 rows x 513 columns]"
      ]
     },
     "execution_count": 12,
     "metadata": {},
     "output_type": "execute_result"
    }
   ],
   "source": [
    "noun_weights"
   ]
  },
  {
   "cell_type": "code",
   "execution_count": 13,
   "metadata": {},
   "outputs": [
    {
     "data": {
      "text/plain": [
       "310    0.0\n",
       "54     1.0\n",
       "208    2.0\n",
       "384    3.0\n",
       "359    4.0\n",
       "158    5.0\n",
       "81     6.0\n",
       "285    7.0\n",
       "182    8.0\n",
       "172    9.0\n",
       "dtype: float64"
      ]
     },
     "execution_count": 13,
     "metadata": {},
     "output_type": "execute_result"
    }
   ],
   "source": [
    "noun_weights.iloc[:, :512].mean().sort_values()[:10]"
   ]
  },
  {
   "cell_type": "markdown",
   "metadata": {},
   "source": [
    "## Number: Adjs"
   ]
  },
  {
   "cell_type": "code",
   "execution_count": 14,
   "metadata": {},
   "outputs": [],
   "source": [
    "adj_weights = pd.DataFrame(columns=list(range(512)))"
   ]
  },
  {
   "cell_type": "code",
   "execution_count": 15,
   "metadata": {},
   "outputs": [],
   "source": [
    "adj_weights['run'] = list(range(10))\n",
    "for r in range(10):\n",
    "    dims_sorted = [x[0] for x in sorted(enumerate(weights[1][r]), key=lambda x: abs(x[1]), reverse=True)]\n",
    "    for i in range(len(dims_sorted)):\n",
    "        adj_weights.iloc[r, dims_sorted[i]] = i"
   ]
  },
  {
   "cell_type": "code",
   "execution_count": 16,
   "metadata": {},
   "outputs": [
    {
     "data": {
      "text/plain": [
       "310    0.0\n",
       "54     1.0\n",
       "384    2.0\n",
       "359    3.0\n",
       "285    4.0\n",
       "81     5.0\n",
       "200    6.0\n",
       "360    7.0\n",
       "455    8.0\n",
       "192    9.0\n",
       "dtype: float64"
      ]
     },
     "execution_count": 16,
     "metadata": {},
     "output_type": "execute_result"
    }
   ],
   "source": [
    "adj_weights.iloc[:, :512].mean().sort_values()[:10]"
   ]
  },
  {
   "cell_type": "markdown",
   "metadata": {},
   "source": [
    "## Number: both"
   ]
  },
  {
   "cell_type": "code",
   "execution_count": 17,
   "metadata": {},
   "outputs": [],
   "source": [
    "both_weights = pd.DataFrame(columns=list(range(512)))"
   ]
  },
  {
   "cell_type": "code",
   "execution_count": 18,
   "metadata": {},
   "outputs": [],
   "source": [
    "both_weights['run'] = list(range(10))\n",
    "for r in range(10):\n",
    "    dims_sorted = [x[0] for x in sorted(enumerate(weights[2][r]), key=lambda x: abs(x[1]), reverse=True)]\n",
    "    for i in range(len(dims_sorted)):\n",
    "        both_weights.iloc[r, dims_sorted[i]] = i"
   ]
  },
  {
   "cell_type": "code",
   "execution_count": 19,
   "metadata": {},
   "outputs": [
    {
     "data": {
      "text/plain": [
       "310    0.0\n",
       "54     1.0\n",
       "384    2.0\n",
       "208    3.0\n",
       "359    4.0\n",
       "81     5.0\n",
       "360    6.0\n",
       "182    7.0\n",
       "158    8.0\n",
       "285    9.0\n",
       "dtype: float64"
      ]
     },
     "execution_count": 19,
     "metadata": {},
     "output_type": "execute_result"
    }
   ],
   "source": [
    "both_weights.iloc[:, :512].mean().sort_values()[:10]"
   ]
  },
  {
   "cell_type": "code",
   "execution_count": null,
   "metadata": {},
   "outputs": [],
   "source": []
  }
 ],
 "metadata": {
  "kernelspec": {
   "display_name": "Python 3 (ipykernel)",
   "language": "python",
   "name": "python3"
  },
  "language_info": {
   "codemirror_mode": {
    "name": "ipython",
    "version": 3
   },
   "file_extension": ".py",
   "mimetype": "text/x-python",
   "name": "python",
   "nbconvert_exporter": "python",
   "pygments_lexer": "ipython3",
   "version": "3.10.9"
  },
  "vscode": {
   "interpreter": {
    "hash": "3de7a084b318d7b8bf96005cb5db4da14a27f60df0465391ef48a4c336f03bfe"
   }
  }
 },
 "nbformat": 4,
 "nbformat_minor": 2
}
