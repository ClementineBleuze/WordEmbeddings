{
 "cells": [
  {
   "cell_type": "code",
   "execution_count": 2,
   "id": "a07a2a16",
   "metadata": {},
   "outputs": [],
   "source": [
    "from sklearn.cluster import KMeans\n",
    "from sklearn.metrics import adjusted_rand_score\n",
    "import pandas as pd"
   ]
  },
  {
   "cell_type": "code",
   "execution_count": 3,
   "id": "30930815",
   "metadata": {},
   "outputs": [],
   "source": [
    "import numpy as np"
   ]
  },
  {
   "cell_type": "markdown",
   "id": "7db15317",
   "metadata": {},
   "source": [
    "# Gender"
   ]
  },
  {
   "cell_type": "code",
   "execution_count": 4,
   "id": "2d7e919c",
   "metadata": {},
   "outputs": [],
   "source": [
    "all_n_we = pd.read_csv('../Data/FlauBERT_WE/all_nouns_we.csv', index_col=0).drop(columns=[\"number\"])\n",
    "all_a_we = pd.read_csv('../Data/FlauBERT_WE/all_adjectives_we.csv', index_col=0).drop(columns = [\"number\"])"
   ]
  },
  {
   "cell_type": "markdown",
   "id": "986eea67",
   "metadata": {},
   "source": [
    "### 1.1 Noun"
   ]
  },
  {
   "cell_type": "code",
   "execution_count": 5,
   "id": "bcb693cc",
   "metadata": {},
   "outputs": [],
   "source": [
    "all_n_we['gender'] = all_n_we.gender.apply(lambda x: 1 if x == \"masculine\" else 0)\n",
    "normalized_noun = (all_n_we - all_n_we.min())/(all_n_we.max() - all_n_we.min()) "
   ]
  },
  {
   "cell_type": "code",
   "execution_count": 5,
   "id": "99bf497a",
   "metadata": {},
   "outputs": [],
   "source": [
    "gg_n_dims = pd.read_csv('../Data/Dimensions/GG/noun.csv', index_col=0)"
   ]
  },
  {
   "cell_type": "code",
   "execution_count": 6,
   "id": "8d0b6546",
   "metadata": {},
   "outputs": [],
   "source": [
    "dims, index = np.unique(gg_n_dims.iloc[10:, 0], return_counts=True)"
   ]
  },
  {
   "cell_type": "code",
   "execution_count": 7,
   "id": "ec18d70c",
   "metadata": {},
   "outputs": [],
   "source": [
    "top_dims = [x[0] for x in filter(lambda x: x[1] >=4, zip(dims, index))]"
   ]
  },
  {
   "cell_type": "code",
   "execution_count": null,
   "id": "175ecd04",
   "metadata": {},
   "outputs": [],
   "source": [
    "import itertools\n",
    "\n",
    "results = []\n",
    "\n",
    "for el in range(len(top_dims) + 1):\n",
    "    for subset in itertools.combinations(top_dims, el):\n",
    "        if len(subset) > 1:\n",
    "            km = KMeans(n_clusters=2, random_state=42, n_init=10)\n",
    "            km.fit(normalized_noun.iloc[:, list(subset)].values)\n",
    "            \n",
    "            results.append(\n",
    "                {'Dimensions': subset, 'ARI': adjusted_rand_score(normalized_noun.gender, km.labels_)}\n",
    "            )\n",
    "                   \n"
   ]
  },
  {
   "cell_type": "code",
   "execution_count": 9,
   "id": "fee56765",
   "metadata": {},
   "outputs": [
    {
     "data": {
      "text/html": [
       "<div>\n",
       "<style scoped>\n",
       "    .dataframe tbody tr th:only-of-type {\n",
       "        vertical-align: middle;\n",
       "    }\n",
       "\n",
       "    .dataframe tbody tr th {\n",
       "        vertical-align: top;\n",
       "    }\n",
       "\n",
       "    .dataframe thead th {\n",
       "        text-align: right;\n",
       "    }\n",
       "</style>\n",
       "<table border=\"1\" class=\"dataframe\">\n",
       "  <thead>\n",
       "    <tr style=\"text-align: right;\">\n",
       "      <th></th>\n",
       "      <th>Dimensions</th>\n",
       "      <th>ARI</th>\n",
       "    </tr>\n",
       "  </thead>\n",
       "  <tbody>\n",
       "    <tr>\n",
       "      <th>1009</th>\n",
       "      <td>(100, 117, 192, 195, 245, 316, 377, 403, 507)</td>\n",
       "      <td>0.105820</td>\n",
       "    </tr>\n",
       "    <tr>\n",
       "      <th>1012</th>\n",
       "      <td>(100, 117, 121, 192, 195, 245, 316, 377, 403, ...</td>\n",
       "      <td>0.103278</td>\n",
       "    </tr>\n",
       "    <tr>\n",
       "      <th>1010</th>\n",
       "      <td>(100, 121, 192, 195, 245, 316, 377, 403, 507)</td>\n",
       "      <td>0.101640</td>\n",
       "    </tr>\n",
       "    <tr>\n",
       "      <th>980</th>\n",
       "      <td>(100, 117, 192, 195, 245, 316, 403, 507)</td>\n",
       "      <td>0.100001</td>\n",
       "    </tr>\n",
       "    <tr>\n",
       "      <th>1008</th>\n",
       "      <td>(100, 117, 121, 195, 245, 316, 377, 403, 507)</td>\n",
       "      <td>0.099718</td>\n",
       "    </tr>\n",
       "    <tr>\n",
       "      <th>1006</th>\n",
       "      <td>(100, 117, 121, 192, 195, 316, 377, 403, 507)</td>\n",
       "      <td>0.099537</td>\n",
       "    </tr>\n",
       "    <tr>\n",
       "      <th>983</th>\n",
       "      <td>(100, 117, 192, 245, 316, 377, 403, 507)</td>\n",
       "      <td>0.099328</td>\n",
       "    </tr>\n",
       "    <tr>\n",
       "      <th>1004</th>\n",
       "      <td>(100, 117, 121, 192, 195, 245, 316, 403, 507)</td>\n",
       "      <td>0.099141</td>\n",
       "    </tr>\n",
       "    <tr>\n",
       "      <th>1003</th>\n",
       "      <td>(100, 117, 121, 192, 195, 245, 316, 377, 507)</td>\n",
       "      <td>0.098857</td>\n",
       "    </tr>\n",
       "    <tr>\n",
       "      <th>978</th>\n",
       "      <td>(100, 117, 192, 195, 245, 316, 377, 403)</td>\n",
       "      <td>0.098104</td>\n",
       "    </tr>\n",
       "  </tbody>\n",
       "</table>\n",
       "</div>"
      ],
      "text/plain": [
       "                                             Dimensions       ARI\n",
       "1009      (100, 117, 192, 195, 245, 316, 377, 403, 507)  0.105820\n",
       "1012  (100, 117, 121, 192, 195, 245, 316, 377, 403, ...  0.103278\n",
       "1010      (100, 121, 192, 195, 245, 316, 377, 403, 507)  0.101640\n",
       "980            (100, 117, 192, 195, 245, 316, 403, 507)  0.100001\n",
       "1008      (100, 117, 121, 195, 245, 316, 377, 403, 507)  0.099718\n",
       "1006      (100, 117, 121, 192, 195, 316, 377, 403, 507)  0.099537\n",
       "983            (100, 117, 192, 245, 316, 377, 403, 507)  0.099328\n",
       "1004      (100, 117, 121, 192, 195, 245, 316, 403, 507)  0.099141\n",
       "1003      (100, 117, 121, 192, 195, 245, 316, 377, 507)  0.098857\n",
       "978            (100, 117, 192, 195, 245, 316, 377, 403)  0.098104"
      ]
     },
     "execution_count": 9,
     "metadata": {},
     "output_type": "execute_result"
    }
   ],
   "source": [
    "pd.DataFrame(results).sort_values(by='ARI', ascending=False)[:10]"
   ]
  },
  {
   "cell_type": "code",
   "execution_count": 8,
   "id": "98a33348",
   "metadata": {},
   "outputs": [
    {
     "name": "stdout",
     "output_type": "stream",
     "text": [
      "0.006637931210181948\n"
     ]
    }
   ],
   "source": [
    "km = KMeans(n_clusters=2, random_state=42, n_init=10)\n",
    "km.fit(normalized_noun[[str(i) for i in range(512)]])\n",
    "print(adjusted_rand_score(normalized_noun[\"gender\"], km.labels_))"
   ]
  },
  {
   "cell_type": "markdown",
   "id": "5d168d76",
   "metadata": {},
   "source": [
    "### 1.2 Adjective"
   ]
  },
  {
   "cell_type": "code",
   "execution_count": 9,
   "id": "96286e1b",
   "metadata": {},
   "outputs": [],
   "source": [
    "all_a_we['gender'] = all_a_we.gender.apply(lambda x: 1 if x == \"masculine\" else 0)\n",
    "normalized_adj = (all_a_we - all_a_we.min())/(all_a_we.max() - all_a_we.min()) "
   ]
  },
  {
   "cell_type": "code",
   "execution_count": 11,
   "id": "2d134168",
   "metadata": {},
   "outputs": [],
   "source": [
    "gg_a_dims = pd.read_csv('../Data/Dimensions/GG/adj.csv', index_col=0)"
   ]
  },
  {
   "cell_type": "code",
   "execution_count": 12,
   "id": "0441f682",
   "metadata": {},
   "outputs": [],
   "source": [
    "dims, index = np.unique(gg_a_dims.iloc[:, 0], return_counts=True)"
   ]
  },
  {
   "cell_type": "code",
   "execution_count": 13,
   "id": "23dbcfa1",
   "metadata": {},
   "outputs": [],
   "source": [
    "top_dims = [x[0] for x in filter(lambda x: x[1] >=3, zip(dims, index))]"
   ]
  },
  {
   "cell_type": "code",
   "execution_count": 14,
   "id": "573f9f57",
   "metadata": {},
   "outputs": [],
   "source": [
    "results = []\n",
    "\n",
    "for el in range(len(top_dims) + 1):\n",
    "    for subset in itertools.combinations(top_dims, el):\n",
    "        if len(subset) > 1:\n",
    "            km = KMeans(n_clusters=2, random_state=42, n_init=10)\n",
    "            km.fit(normalized_adj.iloc[:, list(subset)].values)\n",
    "            \n",
    "            results.append(\n",
    "                {'Dimensions': subset, 'ARI': adjusted_rand_score(normalized_adj.gender, km.labels_)}\n",
    "            )\n",
    "                   "
   ]
  },
  {
   "cell_type": "code",
   "execution_count": 15,
   "id": "98604948",
   "metadata": {},
   "outputs": [
    {
     "data": {
      "text/html": [
       "<div>\n",
       "<style scoped>\n",
       "    .dataframe tbody tr th:only-of-type {\n",
       "        vertical-align: middle;\n",
       "    }\n",
       "\n",
       "    .dataframe tbody tr th {\n",
       "        vertical-align: top;\n",
       "    }\n",
       "\n",
       "    .dataframe thead th {\n",
       "        text-align: right;\n",
       "    }\n",
       "</style>\n",
       "<table border=\"1\" class=\"dataframe\">\n",
       "  <thead>\n",
       "    <tr style=\"text-align: right;\">\n",
       "      <th></th>\n",
       "      <th>Dimensions</th>\n",
       "      <th>ARI</th>\n",
       "    </tr>\n",
       "  </thead>\n",
       "  <tbody>\n",
       "    <tr>\n",
       "      <th>2035</th>\n",
       "      <td>(88, 121, 133, 181, 234, 245, 250, 432, 439, 4...</td>\n",
       "      <td>0.383582</td>\n",
       "    </tr>\n",
       "    <tr>\n",
       "      <th>2032</th>\n",
       "      <td>(88, 121, 181, 234, 245, 250, 432, 439, 466, 503)</td>\n",
       "      <td>0.383383</td>\n",
       "    </tr>\n",
       "    <tr>\n",
       "      <th>2031</th>\n",
       "      <td>(88, 121, 133, 234, 245, 250, 432, 439, 466, 503)</td>\n",
       "      <td>0.377208</td>\n",
       "    </tr>\n",
       "    <tr>\n",
       "      <th>2028</th>\n",
       "      <td>(88, 121, 133, 181, 234, 245, 432, 439, 466, 503)</td>\n",
       "      <td>0.369856</td>\n",
       "    </tr>\n",
       "    <tr>\n",
       "      <th>2026</th>\n",
       "      <td>(88, 121, 133, 181, 234, 245, 250, 432, 466, 503)</td>\n",
       "      <td>0.369132</td>\n",
       "    </tr>\n",
       "    <tr>\n",
       "      <th>2007</th>\n",
       "      <td>(88, 133, 181, 234, 245, 250, 432, 466, 503)</td>\n",
       "      <td>0.366057</td>\n",
       "    </tr>\n",
       "    <tr>\n",
       "      <th>2027</th>\n",
       "      <td>(88, 121, 133, 181, 234, 245, 250, 439, 466, 503)</td>\n",
       "      <td>0.362342</td>\n",
       "    </tr>\n",
       "    <tr>\n",
       "      <th>2033</th>\n",
       "      <td>(88, 133, 181, 234, 245, 250, 432, 439, 466, 503)</td>\n",
       "      <td>0.359317</td>\n",
       "    </tr>\n",
       "    <tr>\n",
       "      <th>2029</th>\n",
       "      <td>(88, 121, 133, 181, 234, 250, 432, 439, 466, 503)</td>\n",
       "      <td>0.357743</td>\n",
       "    </tr>\n",
       "    <tr>\n",
       "      <th>2034</th>\n",
       "      <td>(121, 133, 181, 234, 245, 250, 432, 439, 466, ...</td>\n",
       "      <td>0.357289</td>\n",
       "    </tr>\n",
       "  </tbody>\n",
       "</table>\n",
       "</div>"
      ],
      "text/plain": [
       "                                             Dimensions       ARI\n",
       "2035  (88, 121, 133, 181, 234, 245, 250, 432, 439, 4...  0.383582\n",
       "2032  (88, 121, 181, 234, 245, 250, 432, 439, 466, 503)  0.383383\n",
       "2031  (88, 121, 133, 234, 245, 250, 432, 439, 466, 503)  0.377208\n",
       "2028  (88, 121, 133, 181, 234, 245, 432, 439, 466, 503)  0.369856\n",
       "2026  (88, 121, 133, 181, 234, 245, 250, 432, 466, 503)  0.369132\n",
       "2007       (88, 133, 181, 234, 245, 250, 432, 466, 503)  0.366057\n",
       "2027  (88, 121, 133, 181, 234, 245, 250, 439, 466, 503)  0.362342\n",
       "2033  (88, 133, 181, 234, 245, 250, 432, 439, 466, 503)  0.359317\n",
       "2029  (88, 121, 133, 181, 234, 250, 432, 439, 466, 503)  0.357743\n",
       "2034  (121, 133, 181, 234, 245, 250, 432, 439, 466, ...  0.357289"
      ]
     },
     "execution_count": 15,
     "metadata": {},
     "output_type": "execute_result"
    }
   ],
   "source": [
    "pd.DataFrame(results).sort_values(by='ARI', ascending=False)[:10]"
   ]
  },
  {
   "cell_type": "code",
   "execution_count": 10,
   "id": "8fc4fbd3",
   "metadata": {},
   "outputs": [
    {
     "name": "stdout",
     "output_type": "stream",
     "text": [
      "-0.0007625257008206993\n"
     ]
    }
   ],
   "source": [
    "km = KMeans(n_clusters=2, random_state=42, n_init=10)\n",
    "km.fit(normalized_adj[[str(i) for i in range(512)]])\n",
    "print(adjusted_rand_score(normalized_adj[\"gender\"], km.labels_))"
   ]
  },
  {
   "cell_type": "markdown",
   "id": "275944f3",
   "metadata": {},
   "source": [
    "### 1.3 Both"
   ]
  },
  {
   "cell_type": "code",
   "execution_count": 11,
   "id": "52861810",
   "metadata": {},
   "outputs": [],
   "source": [
    "normalized_both = pd.concat([normalized_adj, normalized_noun])"
   ]
  },
  {
   "cell_type": "code",
   "execution_count": 17,
   "id": "c1ee324d",
   "metadata": {},
   "outputs": [],
   "source": [
    "gg_both_dims = pd.read_csv('../Data/Dimensions/GG/both.csv', index_col=0)"
   ]
  },
  {
   "cell_type": "code",
   "execution_count": 18,
   "id": "afbf04a6",
   "metadata": {},
   "outputs": [],
   "source": [
    "dims, index = np.unique(gg_both_dims.iloc[:, 0], return_counts=True)"
   ]
  },
  {
   "cell_type": "code",
   "execution_count": 19,
   "id": "093d3a75",
   "metadata": {},
   "outputs": [],
   "source": [
    "top_dims = [x[0] for x in filter(lambda x: x[1] >=3, zip(dims, index))]"
   ]
  },
  {
   "cell_type": "code",
   "execution_count": 20,
   "id": "3d15bbf4",
   "metadata": {},
   "outputs": [],
   "source": [
    "results = []\n",
    "\n",
    "for el in range(len(top_dims) + 1):\n",
    "    for subset in itertools.combinations(top_dims, el):\n",
    "        if len(subset) > 1:\n",
    "            km = KMeans(n_clusters=2, random_state=42, n_init=10)\n",
    "            km.fit(normalized_both.iloc[:, list(subset)].values)\n",
    "            \n",
    "            results.append(\n",
    "                {'Dimensions': subset, 'ARI': adjusted_rand_score(normalized_both.gender, km.labels_)}\n",
    "            )\n",
    "                   "
   ]
  },
  {
   "cell_type": "code",
   "execution_count": 21,
   "id": "3363762e",
   "metadata": {},
   "outputs": [
    {
     "data": {
      "text/html": [
       "<div>\n",
       "<style scoped>\n",
       "    .dataframe tbody tr th:only-of-type {\n",
       "        vertical-align: middle;\n",
       "    }\n",
       "\n",
       "    .dataframe tbody tr th {\n",
       "        vertical-align: top;\n",
       "    }\n",
       "\n",
       "    .dataframe thead th {\n",
       "        text-align: right;\n",
       "    }\n",
       "</style>\n",
       "<table border=\"1\" class=\"dataframe\">\n",
       "  <thead>\n",
       "    <tr style=\"text-align: right;\">\n",
       "      <th></th>\n",
       "      <th>Dimensions</th>\n",
       "      <th>ARI</th>\n",
       "    </tr>\n",
       "  </thead>\n",
       "  <tbody>\n",
       "    <tr>\n",
       "      <th>482</th>\n",
       "      <td>(5, 192, 245, 250, 377, 439, 507)</td>\n",
       "      <td>0.105149</td>\n",
       "    </tr>\n",
       "    <tr>\n",
       "      <th>468</th>\n",
       "      <td>(5, 121, 192, 245, 250, 439, 507)</td>\n",
       "      <td>0.104191</td>\n",
       "    </tr>\n",
       "    <tr>\n",
       "      <th>495</th>\n",
       "      <td>(5, 121, 192, 195, 245, 377, 439, 507)</td>\n",
       "      <td>0.101126</td>\n",
       "    </tr>\n",
       "    <tr>\n",
       "      <th>476</th>\n",
       "      <td>(5, 121, 245, 250, 377, 439, 507)</td>\n",
       "      <td>0.100043</td>\n",
       "    </tr>\n",
       "    <tr>\n",
       "      <th>497</th>\n",
       "      <td>(5, 121, 192, 245, 250, 377, 439, 507)</td>\n",
       "      <td>0.098750</td>\n",
       "    </tr>\n",
       "    <tr>\n",
       "      <th>404</th>\n",
       "      <td>(5, 121, 245, 250, 439, 507)</td>\n",
       "      <td>0.097469</td>\n",
       "    </tr>\n",
       "    <tr>\n",
       "      <th>474</th>\n",
       "      <td>(5, 121, 195, 245, 377, 439, 507)</td>\n",
       "      <td>0.093823</td>\n",
       "    </tr>\n",
       "    <tr>\n",
       "      <th>420</th>\n",
       "      <td>(5, 192, 245, 377, 439, 507)</td>\n",
       "      <td>0.092206</td>\n",
       "    </tr>\n",
       "    <tr>\n",
       "      <th>460</th>\n",
       "      <td>(5, 121, 192, 195, 245, 377, 507)</td>\n",
       "      <td>0.091722</td>\n",
       "    </tr>\n",
       "    <tr>\n",
       "      <th>490</th>\n",
       "      <td>(121, 195, 245, 250, 377, 439, 507)</td>\n",
       "      <td>0.091506</td>\n",
       "    </tr>\n",
       "  </tbody>\n",
       "</table>\n",
       "</div>"
      ],
      "text/plain": [
       "                                 Dimensions       ARI\n",
       "482       (5, 192, 245, 250, 377, 439, 507)  0.105149\n",
       "468       (5, 121, 192, 245, 250, 439, 507)  0.104191\n",
       "495  (5, 121, 192, 195, 245, 377, 439, 507)  0.101126\n",
       "476       (5, 121, 245, 250, 377, 439, 507)  0.100043\n",
       "497  (5, 121, 192, 245, 250, 377, 439, 507)  0.098750\n",
       "404            (5, 121, 245, 250, 439, 507)  0.097469\n",
       "474       (5, 121, 195, 245, 377, 439, 507)  0.093823\n",
       "420            (5, 192, 245, 377, 439, 507)  0.092206\n",
       "460       (5, 121, 192, 195, 245, 377, 507)  0.091722\n",
       "490     (121, 195, 245, 250, 377, 439, 507)  0.091506"
      ]
     },
     "execution_count": 21,
     "metadata": {},
     "output_type": "execute_result"
    }
   ],
   "source": [
    "pd.DataFrame(results).sort_values(by='ARI', ascending=False)[:10]"
   ]
  },
  {
   "cell_type": "code",
   "execution_count": 12,
   "id": "a36d51c6",
   "metadata": {},
   "outputs": [
    {
     "name": "stdout",
     "output_type": "stream",
     "text": [
      "0.0027097395914094493\n"
     ]
    }
   ],
   "source": [
    "km = KMeans(n_clusters=2, random_state=42, n_init=10)\n",
    "km.fit(normalized_both[[str(i) for i in range(512)]])\n",
    "print(adjusted_rand_score(normalized_both[\"gender\"], km.labels_))"
   ]
  },
  {
   "cell_type": "markdown",
   "id": "f8484045",
   "metadata": {},
   "source": [
    "# Number"
   ]
  },
  {
   "cell_type": "code",
   "execution_count": 13,
   "id": "739c3b17",
   "metadata": {},
   "outputs": [],
   "source": [
    "all_n_we = pd.read_csv('../Data/FlauBERT_WE/all_nouns_we.csv', index_col=0).drop(columns=[\"gender\"])\n",
    "all_a_we = pd.read_csv('../Data/FlauBERT_WE/all_adjectives_we.csv', index_col=0).drop(columns = [\"gender\"])"
   ]
  },
  {
   "cell_type": "markdown",
   "id": "d1219d53",
   "metadata": {},
   "source": [
    "### 2.1 Noun"
   ]
  },
  {
   "cell_type": "code",
   "execution_count": 14,
   "id": "9e91e697",
   "metadata": {},
   "outputs": [],
   "source": [
    "all_n_we['number'] = all_n_we.number.apply(lambda x: 1 if x == \"plural\" else 0)\n",
    "normalized_noun = (all_n_we - all_n_we.min())/(all_n_we.max() - all_n_we.min()) "
   ]
  },
  {
   "cell_type": "code",
   "execution_count": 24,
   "id": "f041649d",
   "metadata": {},
   "outputs": [],
   "source": [
    "gn_n_dims = pd.read_csv('../Data/Dimensions/GN/noun.csv', index_col=0)"
   ]
  },
  {
   "cell_type": "code",
   "execution_count": 25,
   "id": "4fde16a9",
   "metadata": {},
   "outputs": [],
   "source": [
    "dims, index = np.unique(gn_n_dims.iloc[:, 0], return_counts=True)"
   ]
  },
  {
   "cell_type": "code",
   "execution_count": 26,
   "id": "f6494326",
   "metadata": {},
   "outputs": [],
   "source": [
    "top_dims = [x[0] for x in filter(lambda x: x[1] >=3, zip(dims, index))]"
   ]
  },
  {
   "cell_type": "code",
   "execution_count": 27,
   "id": "b175da16",
   "metadata": {},
   "outputs": [],
   "source": [
    "results = []\n",
    "\n",
    "for el in range(len(top_dims) + 1):\n",
    "    for subset in itertools.combinations(top_dims, el):\n",
    "        if len(subset) > 1:\n",
    "            km = KMeans(n_clusters=2, random_state=42, n_init=10)\n",
    "            km.fit(normalized_noun.iloc[:, list(subset)].values)\n",
    "            \n",
    "            results.append(\n",
    "                {'Dimensions': subset, 'ARI': adjusted_rand_score(normalized_noun.number, km.labels_)}\n",
    "            )\n",
    "                   "
   ]
  },
  {
   "cell_type": "code",
   "execution_count": 28,
   "id": "fc3b1bf3",
   "metadata": {},
   "outputs": [
    {
     "data": {
      "text/html": [
       "<div>\n",
       "<style scoped>\n",
       "    .dataframe tbody tr th:only-of-type {\n",
       "        vertical-align: middle;\n",
       "    }\n",
       "\n",
       "    .dataframe tbody tr th {\n",
       "        vertical-align: top;\n",
       "    }\n",
       "\n",
       "    .dataframe thead th {\n",
       "        text-align: right;\n",
       "    }\n",
       "</style>\n",
       "<table border=\"1\" class=\"dataframe\">\n",
       "  <thead>\n",
       "    <tr style=\"text-align: right;\">\n",
       "      <th></th>\n",
       "      <th>Dimensions</th>\n",
       "      <th>ARI</th>\n",
       "    </tr>\n",
       "  </thead>\n",
       "  <tbody>\n",
       "    <tr>\n",
       "      <th>1852</th>\n",
       "      <td>(54, 81, 172, 250, 285, 310, 359, 384)</td>\n",
       "      <td>0.384787</td>\n",
       "    </tr>\n",
       "    <tr>\n",
       "      <th>2031</th>\n",
       "      <td>(54, 81, 172, 250, 278, 285, 288, 310, 359, 384)</td>\n",
       "      <td>0.362285</td>\n",
       "    </tr>\n",
       "    <tr>\n",
       "      <th>1948</th>\n",
       "      <td>(81, 172, 250, 278, 285, 310, 359, 384)</td>\n",
       "      <td>0.360178</td>\n",
       "    </tr>\n",
       "    <tr>\n",
       "      <th>1992</th>\n",
       "      <td>(54, 81, 172, 250, 278, 285, 288, 359, 384)</td>\n",
       "      <td>0.356430</td>\n",
       "    </tr>\n",
       "    <tr>\n",
       "      <th>1722</th>\n",
       "      <td>(81, 172, 250, 278, 285, 310, 359)</td>\n",
       "      <td>0.350085</td>\n",
       "    </tr>\n",
       "    <tr>\n",
       "      <th>1592</th>\n",
       "      <td>(54, 81, 250, 285, 310, 359, 384)</td>\n",
       "      <td>0.348472</td>\n",
       "    </tr>\n",
       "    <tr>\n",
       "      <th>2004</th>\n",
       "      <td>(54, 81, 250, 278, 285, 288, 310, 359, 384)</td>\n",
       "      <td>0.346126</td>\n",
       "    </tr>\n",
       "    <tr>\n",
       "      <th>1995</th>\n",
       "      <td>(54, 81, 172, 250, 285, 288, 310, 359, 384)</td>\n",
       "      <td>0.343760</td>\n",
       "    </tr>\n",
       "    <tr>\n",
       "      <th>2021</th>\n",
       "      <td>(81, 172, 250, 278, 285, 288, 310, 359, 384)</td>\n",
       "      <td>0.341210</td>\n",
       "    </tr>\n",
       "    <tr>\n",
       "      <th>1528</th>\n",
       "      <td>(54, 81, 172, 250, 310, 359, 384)</td>\n",
       "      <td>0.339356</td>\n",
       "    </tr>\n",
       "  </tbody>\n",
       "</table>\n",
       "</div>"
      ],
      "text/plain": [
       "                                            Dimensions       ARI\n",
       "1852            (54, 81, 172, 250, 285, 310, 359, 384)  0.384787\n",
       "2031  (54, 81, 172, 250, 278, 285, 288, 310, 359, 384)  0.362285\n",
       "1948           (81, 172, 250, 278, 285, 310, 359, 384)  0.360178\n",
       "1992       (54, 81, 172, 250, 278, 285, 288, 359, 384)  0.356430\n",
       "1722                (81, 172, 250, 278, 285, 310, 359)  0.350085\n",
       "1592                 (54, 81, 250, 285, 310, 359, 384)  0.348472\n",
       "2004       (54, 81, 250, 278, 285, 288, 310, 359, 384)  0.346126\n",
       "1995       (54, 81, 172, 250, 285, 288, 310, 359, 384)  0.343760\n",
       "2021      (81, 172, 250, 278, 285, 288, 310, 359, 384)  0.341210\n",
       "1528                 (54, 81, 172, 250, 310, 359, 384)  0.339356"
      ]
     },
     "execution_count": 28,
     "metadata": {},
     "output_type": "execute_result"
    }
   ],
   "source": [
    "pd.DataFrame(results).sort_values(by='ARI', ascending=False)[:10]"
   ]
  },
  {
   "cell_type": "code",
   "execution_count": 15,
   "id": "abc45418",
   "metadata": {},
   "outputs": [
    {
     "name": "stdout",
     "output_type": "stream",
     "text": [
      "-0.00029180220646910106\n"
     ]
    }
   ],
   "source": [
    "km = KMeans(n_clusters=2, random_state=42, n_init=10)\n",
    "km.fit(normalized_noun[[str(i) for i in range(512)]])\n",
    "print(adjusted_rand_score(normalized_noun[\"number\"], km.labels_))"
   ]
  },
  {
   "cell_type": "markdown",
   "id": "b6b7c713",
   "metadata": {},
   "source": [
    "### 2.2 Adj"
   ]
  },
  {
   "cell_type": "code",
   "execution_count": 16,
   "id": "730e8ca0",
   "metadata": {},
   "outputs": [],
   "source": [
    "all_a_we['number'] = all_a_we.number.apply(lambda x: 1 if x == \"plural\" else 0)\n",
    "normalized_adj = (all_a_we - all_a_we.min())/(all_a_we.max() - all_a_we.min()) "
   ]
  },
  {
   "cell_type": "code",
   "execution_count": 31,
   "id": "de2eeff4",
   "metadata": {},
   "outputs": [],
   "source": [
    "gn_a_dims = pd.read_csv('../Data/Dimensions/GN/adj.csv', index_col=0)"
   ]
  },
  {
   "cell_type": "code",
   "execution_count": 32,
   "id": "345a4e22",
   "metadata": {},
   "outputs": [],
   "source": [
    "dims, index = np.unique(gn_a_dims.iloc[:, 0], return_counts=True)"
   ]
  },
  {
   "cell_type": "code",
   "execution_count": 33,
   "id": "02c706a9",
   "metadata": {},
   "outputs": [],
   "source": [
    "top_dims = [x[0] for x in filter(lambda x: x[1] >=3, zip(dims, index))]"
   ]
  },
  {
   "cell_type": "code",
   "execution_count": 34,
   "id": "39ad4dfd",
   "metadata": {},
   "outputs": [],
   "source": [
    "results = []\n",
    "\n",
    "for el in range(len(top_dims) + 1):\n",
    "    for subset in itertools.combinations(top_dims, el):\n",
    "        if len(subset) > 1:\n",
    "            km = KMeans(n_clusters=2, random_state=42, n_init=10)\n",
    "            km.fit(normalized_adj.iloc[:, list(subset)].values)\n",
    "            \n",
    "            results.append(\n",
    "                {'Dimensions': subset, 'ARI': adjusted_rand_score(normalized_adj.number, km.labels_)}\n",
    "            )\n",
    "                   "
   ]
  },
  {
   "cell_type": "code",
   "execution_count": 35,
   "id": "d4c525d7",
   "metadata": {},
   "outputs": [
    {
     "data": {
      "text/html": [
       "<div>\n",
       "<style scoped>\n",
       "    .dataframe tbody tr th:only-of-type {\n",
       "        vertical-align: middle;\n",
       "    }\n",
       "\n",
       "    .dataframe tbody tr th {\n",
       "        vertical-align: top;\n",
       "    }\n",
       "\n",
       "    .dataframe thead th {\n",
       "        text-align: right;\n",
       "    }\n",
       "</style>\n",
       "<table border=\"1\" class=\"dataframe\">\n",
       "  <thead>\n",
       "    <tr style=\"text-align: right;\">\n",
       "      <th></th>\n",
       "      <th>Dimensions</th>\n",
       "      <th>ARI</th>\n",
       "    </tr>\n",
       "  </thead>\n",
       "  <tbody>\n",
       "    <tr>\n",
       "      <th>2002</th>\n",
       "      <td>(25, 54, 81, 84, 274, 285, 310, 384, 455)</td>\n",
       "      <td>0.401257</td>\n",
       "    </tr>\n",
       "    <tr>\n",
       "      <th>2001</th>\n",
       "      <td>(25, 54, 81, 84, 192, 285, 310, 384, 455)</td>\n",
       "      <td>0.384589</td>\n",
       "    </tr>\n",
       "    <tr>\n",
       "      <th>1983</th>\n",
       "      <td>(25, 54, 56, 81, 84, 285, 310, 384, 455)</td>\n",
       "      <td>0.380817</td>\n",
       "    </tr>\n",
       "    <tr>\n",
       "      <th>1367</th>\n",
       "      <td>(54, 81, 274, 310, 384, 455)</td>\n",
       "      <td>0.379764</td>\n",
       "    </tr>\n",
       "    <tr>\n",
       "      <th>2032</th>\n",
       "      <td>(25, 54, 81, 84, 192, 274, 285, 310, 384, 455)</td>\n",
       "      <td>0.379674</td>\n",
       "    </tr>\n",
       "    <tr>\n",
       "      <th>2029</th>\n",
       "      <td>(25, 54, 56, 81, 84, 274, 285, 310, 384, 455)</td>\n",
       "      <td>0.378222</td>\n",
       "    </tr>\n",
       "    <tr>\n",
       "      <th>2019</th>\n",
       "      <td>(54, 56, 81, 84, 274, 285, 310, 384, 455)</td>\n",
       "      <td>0.371236</td>\n",
       "    </tr>\n",
       "    <tr>\n",
       "      <th>2028</th>\n",
       "      <td>(25, 54, 56, 81, 84, 192, 285, 310, 384, 455)</td>\n",
       "      <td>0.370854</td>\n",
       "    </tr>\n",
       "    <tr>\n",
       "      <th>1874</th>\n",
       "      <td>(25, 54, 81, 84, 285, 310, 384, 455)</td>\n",
       "      <td>0.369973</td>\n",
       "    </tr>\n",
       "    <tr>\n",
       "      <th>1885</th>\n",
       "      <td>(25, 54, 84, 192, 285, 310, 384, 455)</td>\n",
       "      <td>0.369515</td>\n",
       "    </tr>\n",
       "  </tbody>\n",
       "</table>\n",
       "</div>"
      ],
      "text/plain": [
       "                                          Dimensions       ARI\n",
       "2002       (25, 54, 81, 84, 274, 285, 310, 384, 455)  0.401257\n",
       "2001       (25, 54, 81, 84, 192, 285, 310, 384, 455)  0.384589\n",
       "1983        (25, 54, 56, 81, 84, 285, 310, 384, 455)  0.380817\n",
       "1367                    (54, 81, 274, 310, 384, 455)  0.379764\n",
       "2032  (25, 54, 81, 84, 192, 274, 285, 310, 384, 455)  0.379674\n",
       "2029   (25, 54, 56, 81, 84, 274, 285, 310, 384, 455)  0.378222\n",
       "2019       (54, 56, 81, 84, 274, 285, 310, 384, 455)  0.371236\n",
       "2028   (25, 54, 56, 81, 84, 192, 285, 310, 384, 455)  0.370854\n",
       "1874            (25, 54, 81, 84, 285, 310, 384, 455)  0.369973\n",
       "1885           (25, 54, 84, 192, 285, 310, 384, 455)  0.369515"
      ]
     },
     "execution_count": 35,
     "metadata": {},
     "output_type": "execute_result"
    }
   ],
   "source": [
    "pd.DataFrame(results).sort_values(by='ARI', ascending=False)[:10]"
   ]
  },
  {
   "cell_type": "code",
   "execution_count": 17,
   "id": "d124a08c",
   "metadata": {},
   "outputs": [
    {
     "name": "stdout",
     "output_type": "stream",
     "text": [
      "0.0026840175415539847\n"
     ]
    }
   ],
   "source": [
    "km = KMeans(n_clusters=2, random_state=42, n_init=10)\n",
    "km.fit(normalized_adj[[str(i) for i in range(512)]])\n",
    "print(adjusted_rand_score(normalized_adj[\"number\"], km.labels_))"
   ]
  },
  {
   "cell_type": "markdown",
   "id": "054bf50e",
   "metadata": {},
   "source": [
    "### Both"
   ]
  },
  {
   "cell_type": "code",
   "execution_count": 18,
   "id": "897598f3",
   "metadata": {},
   "outputs": [],
   "source": [
    "normalized_both = pd.concat([normalized_adj, normalized_noun])"
   ]
  },
  {
   "cell_type": "code",
   "execution_count": 81,
   "id": "4dc507f6",
   "metadata": {},
   "outputs": [],
   "source": [
    "gn_both_dims = pd.read_csv('../Data/Dimensions/GN/both.csv', index_col=0)"
   ]
  },
  {
   "cell_type": "code",
   "execution_count": 82,
   "id": "d1291ec8",
   "metadata": {},
   "outputs": [],
   "source": [
    "dims, index = np.unique(gn_both_dims.iloc[:, 0], return_counts=True)"
   ]
  },
  {
   "cell_type": "code",
   "execution_count": 83,
   "id": "305c70f9",
   "metadata": {},
   "outputs": [],
   "source": [
    "top_dims = [x[0] for x in filter(lambda x: x[1] >=3, zip(dims, index))]"
   ]
  },
  {
   "cell_type": "code",
   "execution_count": 84,
   "id": "f9d9f1dc",
   "metadata": {},
   "outputs": [],
   "source": [
    "results = []\n",
    "\n",
    "for el in range(len(top_dims) + 1):\n",
    "    for subset in itertools.combinations(top_dims, el):\n",
    "        if len(subset) > 1:\n",
    "            km = KMeans(n_clusters=2, random_state=42, n_init=10)\n",
    "            km.fit(normalized_both.iloc[:, list(subset)].values)\n",
    "            \n",
    "            results.append(\n",
    "                {'Dimensions': subset, 'ARI': adjusted_rand_score(normalized_both.number, km.labels_)}\n",
    "            )\n",
    "                   "
   ]
  },
  {
   "cell_type": "code",
   "execution_count": 85,
   "id": "80ff582f",
   "metadata": {},
   "outputs": [
    {
     "data": {
      "text/html": [
       "<div>\n",
       "<style scoped>\n",
       "    .dataframe tbody tr th:only-of-type {\n",
       "        vertical-align: middle;\n",
       "    }\n",
       "\n",
       "    .dataframe tbody tr th {\n",
       "        vertical-align: top;\n",
       "    }\n",
       "\n",
       "    .dataframe thead th {\n",
       "        text-align: right;\n",
       "    }\n",
       "</style>\n",
       "<table border=\"1\" class=\"dataframe\">\n",
       "  <thead>\n",
       "    <tr style=\"text-align: right;\">\n",
       "      <th></th>\n",
       "      <th>Dimensions</th>\n",
       "      <th>ARI</th>\n",
       "    </tr>\n",
       "  </thead>\n",
       "  <tbody>\n",
       "    <tr>\n",
       "      <th>2028</th>\n",
       "      <td>(25, 54, 81, 172, 278, 285, 310, 359, 384, 495)</td>\n",
       "      <td>0.348870</td>\n",
       "    </tr>\n",
       "    <tr>\n",
       "      <th>1988</th>\n",
       "      <td>(25, 54, 81, 172, 285, 310, 359, 384, 495)</td>\n",
       "      <td>0.343821</td>\n",
       "    </tr>\n",
       "    <tr>\n",
       "      <th>1977</th>\n",
       "      <td>(25, 54, 81, 172, 278, 285, 310, 384, 495)</td>\n",
       "      <td>0.334831</td>\n",
       "    </tr>\n",
       "    <tr>\n",
       "      <th>1976</th>\n",
       "      <td>(25, 54, 81, 172, 278, 285, 310, 359, 495)</td>\n",
       "      <td>0.334644</td>\n",
       "    </tr>\n",
       "    <tr>\n",
       "      <th>1832</th>\n",
       "      <td>(25, 54, 81, 172, 285, 310, 384, 495)</td>\n",
       "      <td>0.330281</td>\n",
       "    </tr>\n",
       "    <tr>\n",
       "      <th>2018</th>\n",
       "      <td>(54, 81, 172, 278, 285, 310, 359, 384, 495)</td>\n",
       "      <td>0.329896</td>\n",
       "    </tr>\n",
       "    <tr>\n",
       "      <th>1975</th>\n",
       "      <td>(25, 54, 81, 172, 278, 285, 310, 359, 384)</td>\n",
       "      <td>0.328441</td>\n",
       "    </tr>\n",
       "    <tr>\n",
       "      <th>1830</th>\n",
       "      <td>(25, 54, 81, 172, 285, 310, 359, 384)</td>\n",
       "      <td>0.328357</td>\n",
       "    </tr>\n",
       "    <tr>\n",
       "      <th>2035</th>\n",
       "      <td>(25, 54, 81, 172, 278, 285, 288, 310, 359, 384...</td>\n",
       "      <td>0.326129</td>\n",
       "    </tr>\n",
       "    <tr>\n",
       "      <th>1831</th>\n",
       "      <td>(25, 54, 81, 172, 285, 310, 359, 495)</td>\n",
       "      <td>0.322737</td>\n",
       "    </tr>\n",
       "  </tbody>\n",
       "</table>\n",
       "</div>"
      ],
      "text/plain": [
       "                                             Dimensions       ARI\n",
       "2028    (25, 54, 81, 172, 278, 285, 310, 359, 384, 495)  0.348870\n",
       "1988         (25, 54, 81, 172, 285, 310, 359, 384, 495)  0.343821\n",
       "1977         (25, 54, 81, 172, 278, 285, 310, 384, 495)  0.334831\n",
       "1976         (25, 54, 81, 172, 278, 285, 310, 359, 495)  0.334644\n",
       "1832              (25, 54, 81, 172, 285, 310, 384, 495)  0.330281\n",
       "2018        (54, 81, 172, 278, 285, 310, 359, 384, 495)  0.329896\n",
       "1975         (25, 54, 81, 172, 278, 285, 310, 359, 384)  0.328441\n",
       "1830              (25, 54, 81, 172, 285, 310, 359, 384)  0.328357\n",
       "2035  (25, 54, 81, 172, 278, 285, 288, 310, 359, 384...  0.326129\n",
       "1831              (25, 54, 81, 172, 285, 310, 359, 495)  0.322737"
      ]
     },
     "execution_count": 85,
     "metadata": {},
     "output_type": "execute_result"
    }
   ],
   "source": [
    "pd.DataFrame(results).sort_values(by='ARI', ascending=False)[:10]"
   ]
  },
  {
   "cell_type": "code",
   "execution_count": 19,
   "id": "2260c094",
   "metadata": {},
   "outputs": [
    {
     "name": "stdout",
     "output_type": "stream",
     "text": [
      "-0.00028365391100050943\n"
     ]
    }
   ],
   "source": [
    "km = KMeans(n_clusters=2, random_state=42, n_init=10)\n",
    "km.fit(normalized_both[[str(i) for i in range(512)]])\n",
    "print(adjusted_rand_score(normalized_both[\"number\"], km.labels_))"
   ]
  },
  {
   "cell_type": "markdown",
   "id": "b45bc434",
   "metadata": {},
   "source": [
    "# PoS"
   ]
  },
  {
   "cell_type": "code",
   "execution_count": 20,
   "id": "ef16da3f",
   "metadata": {},
   "outputs": [],
   "source": [
    "all_n_we = pd.read_csv('../Data/FlauBERT_WE/all_nouns_we.csv', index_col=0).drop(columns=[\"number\", \"gender\"])\n",
    "all_a_we = pd.read_csv('../Data/FlauBERT_WE/all_adjectives_we.csv', index_col=0).drop(columns = [\"number\", \"gender\"])\n",
    "all_v_we = pd.read_csv('../Data/FlauBERT_WE/all_verb_we.csv', index_col=0)\n",
    "\n",
    "\n",
    "# label 1: NOUN, 0: not NOUN\n",
    "all_n_we[\"noun\"] = 1\n",
    "all_av_we = pd.concat([all_a_we, all_v_we])\n",
    "all_av_we[\"noun\"] = 0\n",
    "\n",
    "# Normalization and concatenation\n",
    "df = pd.concat([all_av_we, all_n_we])\n",
    "norm_df = (df - df.min()) / (df.max() - df.min())\n",
    "\n",
    "# Removing words having multiple POS\n",
    "word, count = np.unique(norm_df.index, return_counts=True)\n",
    "unique_words = [x[0] for x in list(filter(lambda x: x[1] == 1, zip(word, count)))]\n",
    "un_nouns =  norm_df[norm_df.index.isin(unique_words)]"
   ]
  },
  {
   "cell_type": "markdown",
   "id": "d2833e76",
   "metadata": {},
   "source": [
    "### 3.1 Noun"
   ]
  },
  {
   "cell_type": "code",
   "execution_count": 55,
   "id": "e87e9f54",
   "metadata": {},
   "outputs": [],
   "source": [
    "pos_n = pd.read_csv('../Data/Dimensions/PoS/noun.csv', index_col=0)"
   ]
  },
  {
   "cell_type": "code",
   "execution_count": 56,
   "id": "6f878485",
   "metadata": {},
   "outputs": [],
   "source": [
    "dims, index = np.unique(pos_n.iloc[:, 0], return_counts=True)"
   ]
  },
  {
   "cell_type": "code",
   "execution_count": 57,
   "id": "17e82f45",
   "metadata": {},
   "outputs": [],
   "source": [
    "top_dims = [x[0] for x in filter(lambda x: x[1] >=3, zip(dims, index))]"
   ]
  },
  {
   "cell_type": "code",
   "execution_count": 62,
   "id": "2bf8f47e",
   "metadata": {},
   "outputs": [],
   "source": [
    "results = []\n",
    "\n",
    "for el in range(len(top_dims) + 1):\n",
    "    for subset in itertools.combinations(top_dims, el):\n",
    "        if len(subset) > 1:\n",
    "            km = KMeans(n_clusters=2, random_state=42, n_init=10)\n",
    "            km.fit(un_nouns.iloc[:, list(subset)].values)\n",
    "            \n",
    "            results.append(\n",
    "                {'Dimensions': subset, 'ARI': adjusted_rand_score(un_nouns.noun, km.labels_)}\n",
    "            )\n",
    "                   "
   ]
  },
  {
   "cell_type": "code",
   "execution_count": 63,
   "id": "e8c58da8",
   "metadata": {},
   "outputs": [
    {
     "data": {
      "text/html": [
       "<div>\n",
       "<style scoped>\n",
       "    .dataframe tbody tr th:only-of-type {\n",
       "        vertical-align: middle;\n",
       "    }\n",
       "\n",
       "    .dataframe tbody tr th {\n",
       "        vertical-align: top;\n",
       "    }\n",
       "\n",
       "    .dataframe thead th {\n",
       "        text-align: right;\n",
       "    }\n",
       "</style>\n",
       "<table border=\"1\" class=\"dataframe\">\n",
       "  <thead>\n",
       "    <tr style=\"text-align: right;\">\n",
       "      <th></th>\n",
       "      <th>Dimensions</th>\n",
       "      <th>ARI</th>\n",
       "    </tr>\n",
       "  </thead>\n",
       "  <tbody>\n",
       "    <tr>\n",
       "      <th>115</th>\n",
       "      <td>(128, 159, 341, 401, 458, 480)</td>\n",
       "      <td>0.425822</td>\n",
       "    </tr>\n",
       "    <tr>\n",
       "      <th>109</th>\n",
       "      <td>(159, 341, 401, 458, 480)</td>\n",
       "      <td>0.409981</td>\n",
       "    </tr>\n",
       "    <tr>\n",
       "      <th>119</th>\n",
       "      <td>(128, 159, 341, 346, 401, 458, 480)</td>\n",
       "      <td>0.406572</td>\n",
       "    </tr>\n",
       "    <tr>\n",
       "      <th>100</th>\n",
       "      <td>(128, 159, 401, 458, 480)</td>\n",
       "      <td>0.404923</td>\n",
       "    </tr>\n",
       "    <tr>\n",
       "      <th>116</th>\n",
       "      <td>(128, 159, 346, 401, 458, 480)</td>\n",
       "      <td>0.397122</td>\n",
       "    </tr>\n",
       "    <tr>\n",
       "      <th>112</th>\n",
       "      <td>(128, 159, 341, 346, 401, 458)</td>\n",
       "      <td>0.395904</td>\n",
       "    </tr>\n",
       "    <tr>\n",
       "      <th>118</th>\n",
       "      <td>(159, 341, 346, 401, 458, 480)</td>\n",
       "      <td>0.391457</td>\n",
       "    </tr>\n",
       "    <tr>\n",
       "      <th>85</th>\n",
       "      <td>(159, 401, 458, 480)</td>\n",
       "      <td>0.384585</td>\n",
       "    </tr>\n",
       "    <tr>\n",
       "      <th>94</th>\n",
       "      <td>(128, 159, 341, 401, 458)</td>\n",
       "      <td>0.382366</td>\n",
       "    </tr>\n",
       "    <tr>\n",
       "      <th>110</th>\n",
       "      <td>(159, 346, 401, 458, 480)</td>\n",
       "      <td>0.379384</td>\n",
       "    </tr>\n",
       "  </tbody>\n",
       "</table>\n",
       "</div>"
      ],
      "text/plain": [
       "                              Dimensions       ARI\n",
       "115       (128, 159, 341, 401, 458, 480)  0.425822\n",
       "109            (159, 341, 401, 458, 480)  0.409981\n",
       "119  (128, 159, 341, 346, 401, 458, 480)  0.406572\n",
       "100            (128, 159, 401, 458, 480)  0.404923\n",
       "116       (128, 159, 346, 401, 458, 480)  0.397122\n",
       "112       (128, 159, 341, 346, 401, 458)  0.395904\n",
       "118       (159, 341, 346, 401, 458, 480)  0.391457\n",
       "85                  (159, 401, 458, 480)  0.384585\n",
       "94             (128, 159, 341, 401, 458)  0.382366\n",
       "110            (159, 346, 401, 458, 480)  0.379384"
      ]
     },
     "execution_count": 63,
     "metadata": {},
     "output_type": "execute_result"
    }
   ],
   "source": [
    "pd.DataFrame(results).sort_values(by='ARI', ascending=False)[:10]"
   ]
  },
  {
   "cell_type": "code",
   "execution_count": 21,
   "id": "3bad1445",
   "metadata": {},
   "outputs": [
    {
     "name": "stdout",
     "output_type": "stream",
     "text": [
      "0.4111876502146539\n"
     ]
    }
   ],
   "source": [
    "km = KMeans(n_clusters=2, random_state=42, n_init=10)\n",
    "km.fit(un_nouns[[str(i) for i in range(512)]])\n",
    "print(adjusted_rand_score(un_nouns[\"noun\"], km.labels_))"
   ]
  },
  {
   "cell_type": "markdown",
   "id": "552bb592",
   "metadata": {},
   "source": [
    "### 3.2 Verb"
   ]
  },
  {
   "cell_type": "code",
   "execution_count": 65,
   "id": "1d2fd471",
   "metadata": {},
   "outputs": [],
   "source": [
    "pos_v = pd.read_csv('../Data/Dimensions/PoS/verb.csv', index_col=0)"
   ]
  },
  {
   "cell_type": "code",
   "execution_count": 22,
   "id": "75f10f50",
   "metadata": {},
   "outputs": [],
   "source": [
    "# label 1: VERB, 0: not VERB\n",
    "all_v_we[\"verb\"] = 1\n",
    "all_na_we = pd.concat([all_n_we, all_a_we])\n",
    "all_na_we[\"verb\"] = 0\n",
    "\n",
    "# Normalization and concatenation\n",
    "df = pd.concat([all_na_we, all_v_we]).drop(columns = [\"noun\"])\n",
    "norm_df = (df - df.min()) / (df.max() - df.min())\n",
    "\n",
    "# Removing words having multiple POS\n",
    "word, count = np.unique(norm_df.index, return_counts=True)\n",
    "unique_words = [x[0] for x in list(filter(lambda x: x[1] == 1, zip(word, count)))]\n",
    "un_verb =  norm_df[norm_df.index.isin(unique_words)]"
   ]
  },
  {
   "cell_type": "code",
   "execution_count": 67,
   "id": "08ee0eac",
   "metadata": {},
   "outputs": [],
   "source": [
    "dims, index = np.unique(pos_v.iloc[:, 0], return_counts=True)"
   ]
  },
  {
   "cell_type": "code",
   "execution_count": 68,
   "id": "f6a6f6c1",
   "metadata": {},
   "outputs": [],
   "source": [
    "top_dims = [x[0] for x in filter(lambda x: x[1] >=3, zip(dims, index))]"
   ]
  },
  {
   "cell_type": "code",
   "execution_count": 69,
   "id": "45d82add",
   "metadata": {},
   "outputs": [],
   "source": [
    "results = []\n",
    "\n",
    "for el in range(len(top_dims) + 1):\n",
    "    for subset in itertools.combinations(top_dims, el):\n",
    "        if len(subset) > 1:\n",
    "            km = KMeans(n_clusters=2, random_state=42, n_init=10)\n",
    "            km.fit(un_verb.iloc[:, list(subset)].values)\n",
    "            \n",
    "            results.append(\n",
    "                {'Dimensions': subset, 'ARI': adjusted_rand_score(un_verb.verb, km.labels_)}\n",
    "            )\n",
    "                   "
   ]
  },
  {
   "cell_type": "code",
   "execution_count": 70,
   "id": "d2fdd8d1",
   "metadata": {},
   "outputs": [
    {
     "data": {
      "text/html": [
       "<div>\n",
       "<style scoped>\n",
       "    .dataframe tbody tr th:only-of-type {\n",
       "        vertical-align: middle;\n",
       "    }\n",
       "\n",
       "    .dataframe tbody tr th {\n",
       "        vertical-align: top;\n",
       "    }\n",
       "\n",
       "    .dataframe thead th {\n",
       "        text-align: right;\n",
       "    }\n",
       "</style>\n",
       "<table border=\"1\" class=\"dataframe\">\n",
       "  <thead>\n",
       "    <tr style=\"text-align: right;\">\n",
       "      <th></th>\n",
       "      <th>Dimensions</th>\n",
       "      <th>ARI</th>\n",
       "    </tr>\n",
       "  </thead>\n",
       "  <tbody>\n",
       "    <tr>\n",
       "      <th>1012</th>\n",
       "      <td>(89, 159, 192, 282, 310, 341, 401, 458, 480, 504)</td>\n",
       "      <td>0.593161</td>\n",
       "    </tr>\n",
       "    <tr>\n",
       "      <th>1007</th>\n",
       "      <td>(89, 159, 192, 282, 341, 401, 458, 480, 504)</td>\n",
       "      <td>0.585072</td>\n",
       "    </tr>\n",
       "    <tr>\n",
       "      <th>1003</th>\n",
       "      <td>(89, 159, 192, 282, 310, 341, 401, 458, 504)</td>\n",
       "      <td>0.584642</td>\n",
       "    </tr>\n",
       "    <tr>\n",
       "      <th>1010</th>\n",
       "      <td>(89, 192, 282, 310, 341, 401, 458, 480, 504)</td>\n",
       "      <td>0.581776</td>\n",
       "    </tr>\n",
       "    <tr>\n",
       "      <th>1005</th>\n",
       "      <td>(89, 159, 192, 282, 310, 341, 458, 480, 504)</td>\n",
       "      <td>0.580965</td>\n",
       "    </tr>\n",
       "    <tr>\n",
       "      <th>990</th>\n",
       "      <td>(89, 192, 282, 341, 401, 458, 480, 504)</td>\n",
       "      <td>0.580141</td>\n",
       "    </tr>\n",
       "    <tr>\n",
       "      <th>988</th>\n",
       "      <td>(89, 192, 282, 310, 341, 458, 480, 504)</td>\n",
       "      <td>0.574751</td>\n",
       "    </tr>\n",
       "    <tr>\n",
       "      <th>1009</th>\n",
       "      <td>(89, 159, 282, 310, 341, 401, 458, 480, 504)</td>\n",
       "      <td>0.574575</td>\n",
       "    </tr>\n",
       "    <tr>\n",
       "      <th>961</th>\n",
       "      <td>(89, 159, 192, 282, 310, 341, 458, 504)</td>\n",
       "      <td>0.574236</td>\n",
       "    </tr>\n",
       "    <tr>\n",
       "      <th>968</th>\n",
       "      <td>(89, 159, 192, 282, 341, 401, 458, 504)</td>\n",
       "      <td>0.571869</td>\n",
       "    </tr>\n",
       "  </tbody>\n",
       "</table>\n",
       "</div>"
      ],
      "text/plain": [
       "                                             Dimensions       ARI\n",
       "1012  (89, 159, 192, 282, 310, 341, 401, 458, 480, 504)  0.593161\n",
       "1007       (89, 159, 192, 282, 341, 401, 458, 480, 504)  0.585072\n",
       "1003       (89, 159, 192, 282, 310, 341, 401, 458, 504)  0.584642\n",
       "1010       (89, 192, 282, 310, 341, 401, 458, 480, 504)  0.581776\n",
       "1005       (89, 159, 192, 282, 310, 341, 458, 480, 504)  0.580965\n",
       "990             (89, 192, 282, 341, 401, 458, 480, 504)  0.580141\n",
       "988             (89, 192, 282, 310, 341, 458, 480, 504)  0.574751\n",
       "1009       (89, 159, 282, 310, 341, 401, 458, 480, 504)  0.574575\n",
       "961             (89, 159, 192, 282, 310, 341, 458, 504)  0.574236\n",
       "968             (89, 159, 192, 282, 341, 401, 458, 504)  0.571869"
      ]
     },
     "execution_count": 70,
     "metadata": {},
     "output_type": "execute_result"
    }
   ],
   "source": [
    "pd.DataFrame(results).sort_values(by='ARI', ascending=False)[:10]"
   ]
  },
  {
   "cell_type": "code",
   "execution_count": 23,
   "id": "6046697c",
   "metadata": {},
   "outputs": [
    {
     "name": "stdout",
     "output_type": "stream",
     "text": [
      "0.4832314334217509\n"
     ]
    }
   ],
   "source": [
    "km = KMeans(n_clusters=2, random_state=42, n_init=10)\n",
    "km.fit(un_verb[[str(i) for i in range(512)]])\n",
    "print(adjusted_rand_score(un_verb[\"verb\"], km.labels_))"
   ]
  },
  {
   "cell_type": "markdown",
   "id": "d81c0301",
   "metadata": {},
   "source": [
    "### 3.3 Adj"
   ]
  },
  {
   "cell_type": "code",
   "execution_count": 24,
   "id": "1a7c4e57",
   "metadata": {},
   "outputs": [],
   "source": [
    "# label 1: ADJ, 0: not ADJ\n",
    "all_a_we[\"adj\"] = 1\n",
    "all_nv_we = pd.concat([all_n_we, all_v_we])\n",
    "all_nv_we[\"adj\"] = 0\n",
    "\n",
    "# Normalization and concatenation\n",
    "df = pd.concat([all_nv_we, all_a_we]).drop(columns = [\"verb\"])\n",
    "norm_df = (df - df.min()) / (df.max() - df.min())\n",
    "\n",
    "# Removing words having multiple POS\n",
    "word, count = np.unique(norm_df.index, return_counts=True)\n",
    "unique_words = [x[0] for x in list(filter(lambda x: x[1] == 1, zip(word, count)))]\n",
    "un_adj =  norm_df[norm_df.index.isin(unique_words)]"
   ]
  },
  {
   "cell_type": "code",
   "execution_count": 72,
   "id": "0f44bd09",
   "metadata": {},
   "outputs": [],
   "source": [
    "pos_a = pd.read_csv('../Data/Dimensions/PoS/adj.csv', index_col=0)"
   ]
  },
  {
   "cell_type": "code",
   "execution_count": 73,
   "id": "9ad06352",
   "metadata": {},
   "outputs": [],
   "source": [
    "dims, index = np.unique(pos_a.iloc[:, 0], return_counts=True)"
   ]
  },
  {
   "cell_type": "code",
   "execution_count": 74,
   "id": "f6b3d2ff",
   "metadata": {},
   "outputs": [],
   "source": [
    "top_dims = [x[0] for x in filter(lambda x: x[1] >=3, zip(dims, index))]"
   ]
  },
  {
   "cell_type": "code",
   "execution_count": 75,
   "id": "4b3df06c",
   "metadata": {},
   "outputs": [],
   "source": [
    "results = []\n",
    "\n",
    "for el in range(len(top_dims) + 1):\n",
    "    for subset in itertools.combinations(top_dims, el):\n",
    "        if len(subset) > 1:\n",
    "            km = KMeans(n_clusters=2, random_state=42, n_init=10)\n",
    "            km.fit(un_adj.iloc[:, list(subset)].values)\n",
    "            \n",
    "            results.append(\n",
    "                {'Dimensions': subset, 'ARI': adjusted_rand_score(un_adj.adj, km.labels_)}\n",
    "            )\n",
    "                   "
   ]
  },
  {
   "cell_type": "code",
   "execution_count": 76,
   "id": "900eb39d",
   "metadata": {
    "scrolled": true
   },
   "outputs": [
    {
     "data": {
      "text/html": [
       "<div>\n",
       "<style scoped>\n",
       "    .dataframe tbody tr th:only-of-type {\n",
       "        vertical-align: middle;\n",
       "    }\n",
       "\n",
       "    .dataframe tbody tr th {\n",
       "        vertical-align: top;\n",
       "    }\n",
       "\n",
       "    .dataframe thead th {\n",
       "        text-align: right;\n",
       "    }\n",
       "</style>\n",
       "<table border=\"1\" class=\"dataframe\">\n",
       "  <thead>\n",
       "    <tr style=\"text-align: right;\">\n",
       "      <th></th>\n",
       "      <th>Dimensions</th>\n",
       "      <th>ARI</th>\n",
       "    </tr>\n",
       "  </thead>\n",
       "  <tbody>\n",
       "    <tr>\n",
       "      <th>7</th>\n",
       "      <td>(158, 220, 464)</td>\n",
       "      <td>0.045668</td>\n",
       "    </tr>\n",
       "    <tr>\n",
       "      <th>0</th>\n",
       "      <td>(158, 220)</td>\n",
       "      <td>0.034791</td>\n",
       "    </tr>\n",
       "    <tr>\n",
       "      <th>2</th>\n",
       "      <td>(158, 464)</td>\n",
       "      <td>0.031803</td>\n",
       "    </tr>\n",
       "    <tr>\n",
       "      <th>4</th>\n",
       "      <td>(220, 464)</td>\n",
       "      <td>0.018842</td>\n",
       "    </tr>\n",
       "    <tr>\n",
       "      <th>9</th>\n",
       "      <td>(220, 310, 464)</td>\n",
       "      <td>0.015401</td>\n",
       "    </tr>\n",
       "    <tr>\n",
       "      <th>3</th>\n",
       "      <td>(220, 310)</td>\n",
       "      <td>0.015228</td>\n",
       "    </tr>\n",
       "    <tr>\n",
       "      <th>6</th>\n",
       "      <td>(158, 220, 310)</td>\n",
       "      <td>0.014161</td>\n",
       "    </tr>\n",
       "    <tr>\n",
       "      <th>10</th>\n",
       "      <td>(158, 220, 310, 464)</td>\n",
       "      <td>0.013177</td>\n",
       "    </tr>\n",
       "    <tr>\n",
       "      <th>5</th>\n",
       "      <td>(310, 464)</td>\n",
       "      <td>0.005958</td>\n",
       "    </tr>\n",
       "    <tr>\n",
       "      <th>1</th>\n",
       "      <td>(158, 310)</td>\n",
       "      <td>0.005214</td>\n",
       "    </tr>\n",
       "  </tbody>\n",
       "</table>\n",
       "</div>"
      ],
      "text/plain": [
       "              Dimensions       ARI\n",
       "7        (158, 220, 464)  0.045668\n",
       "0             (158, 220)  0.034791\n",
       "2             (158, 464)  0.031803\n",
       "4             (220, 464)  0.018842\n",
       "9        (220, 310, 464)  0.015401\n",
       "3             (220, 310)  0.015228\n",
       "6        (158, 220, 310)  0.014161\n",
       "10  (158, 220, 310, 464)  0.013177\n",
       "5             (310, 464)  0.005958\n",
       "1             (158, 310)  0.005214"
      ]
     },
     "execution_count": 76,
     "metadata": {},
     "output_type": "execute_result"
    }
   ],
   "source": [
    "pd.DataFrame(results).sort_values(by='ARI', ascending=False)[:10]"
   ]
  },
  {
   "cell_type": "code",
   "execution_count": 25,
   "id": "04876fc0",
   "metadata": {},
   "outputs": [
    {
     "name": "stdout",
     "output_type": "stream",
     "text": [
      "-0.008039470851211553\n"
     ]
    }
   ],
   "source": [
    "km = KMeans(n_clusters=2, random_state=42, n_init=10)\n",
    "km.fit(un_adj[[str(i) for i in range(512)]])\n",
    "print(adjusted_rand_score(un_adj[\"adj\"], km.labels_))"
   ]
  }
 ],
 "metadata": {
  "kernelspec": {
   "display_name": "Python 3",
   "language": "python",
   "name": "python3"
  },
  "language_info": {
   "codemirror_mode": {
    "name": "ipython",
    "version": 3
   },
   "file_extension": ".py",
   "mimetype": "text/x-python",
   "name": "python",
   "nbconvert_exporter": "python",
   "pygments_lexer": "ipython3",
   "version": "3.10.10"
  },
  "vscode": {
   "interpreter": {
    "hash": "3de7a084b318d7b8bf96005cb5db4da14a27f60df0465391ef48a4c336f03bfe"
   }
  }
 },
 "nbformat": 4,
 "nbformat_minor": 5
}
