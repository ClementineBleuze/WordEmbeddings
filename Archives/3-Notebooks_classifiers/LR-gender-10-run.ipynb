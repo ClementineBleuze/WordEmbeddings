{
 "cells": [
  {
   "cell_type": "code",
   "execution_count": 4,
   "metadata": {},
   "outputs": [],
   "source": [
    "from sklearn.linear_model import LogisticRegression \n",
    "import pandas as pd\n",
    "import numpy as np\n",
    "from sklearn.model_selection import train_test_split\n",
    "import seaborn as sns\n",
    "from matplotlib import pyplot as plt"
   ]
  },
  {
   "cell_type": "markdown",
   "metadata": {},
   "source": [
    "## Data preparation"
   ]
  },
  {
   "cell_type": "markdown",
   "metadata": {},
   "source": [
    "### Load data: NOUN, ADJ, and both"
   ]
  },
  {
   "cell_type": "code",
   "execution_count": 5,
   "metadata": {},
   "outputs": [],
   "source": [
    "df_nouns_we = pd.read_csv('../Data/FlauBERT_WE/all_nouns_we.csv').drop(columns=[\"number\"])\n",
    "df_adj_we = pd.read_csv('../Data/FlauBERT_WE/all_adjectives_we.csv').drop(columns = \"number\")\n",
    "df_both_we = pd.concat([df_nouns_we, df_adj_we], ignore_index=True)\n",
    "\n",
    "# target : gender\n",
    "Y_gd_N = df_nouns_we[\"gender\"].apply(lambda x: 1 if x == \"masculine\" else 0)\n",
    "Y_gd_A = df_adj_we[\"gender\"].apply(lambda x: 1 if x == \"masculine\" else 0)\n",
    "Y_gd_both = df_both_we[\"gender\"].apply(lambda x: 1 if x == \"masculine\" else 0)\n",
    "\n",
    "# features : word embeddings dimensions\n",
    "X_gd_N = df_nouns_we.drop(columns=[\"Word\", \"gender\"])\n",
    "X_gd_A = df_adj_we.drop(columns=[\"Word\", \"gender\"])\n",
    "X_gd_both = df_both_we.drop(columns = [\"Word\", \"gender\"] )\n",
    "\n",
    "# normalize data to be between 0 and 1\n",
    "X_gd_N = (X_gd_N - X_gd_N.min()) / (X_gd_N.max() - X_gd_N.min())\n",
    "X_gd_A = (X_gd_A - X_gd_A.min()) / (X_gd_A.max() - X_gd_A.min())\n",
    "X_gd_both = (X_gd_both - X_gd_both.min()) / (X_gd_both.max() - X_gd_both.min())\n",
    "\n",
    "# split data into train and test sets\n",
    "X_gd_N_train, X_gd_N_test, Y_gd_N_train, Y_gd_N_test = train_test_split(X_gd_N, Y_gd_N, test_size=0.2, random_state=42)\n",
    "X_gd_A_train, X_gd_A_test, Y_gd_A_train, Y_gd_A_test = train_test_split(X_gd_A, Y_gd_A, test_size=0.2, random_state=42)\n",
    "X_gd_both_train, X_gd_both_test, Y_gd_both_train, Y_gd_both_test = train_test_split(X_gd_both, Y_gd_both, test_size=0.2, random_state=42)"
   ]
  },
  {
   "cell_type": "code",
   "execution_count": 6,
   "metadata": {},
   "outputs": [],
   "source": [
    "train_features = [X_gd_N_train, X_gd_A_train, X_gd_both_train]\n",
    "test_features = [X_gd_N_test, X_gd_A_test, X_gd_both_test]\n",
    "train_targets = [Y_gd_N_train, Y_gd_A_train, Y_gd_both_train]\n",
    "test_targets = [Y_gd_N_test, Y_gd_A_test, Y_gd_both_test]"
   ]
  },
  {
   "cell_type": "code",
   "execution_count": 7,
   "metadata": {},
   "outputs": [],
   "source": [
    "names = ['Gender: Noun', 'Gender: Adj', 'Gender: Noun + Adj']"
   ]
  },
  {
   "cell_type": "markdown",
   "metadata": {},
   "source": [
    "## Train the models"
   ]
  },
  {
   "cell_type": "code",
   "execution_count": 8,
   "metadata": {},
   "outputs": [],
   "source": [
    "weights = [[], [], []]"
   ]
  },
  {
   "cell_type": "code",
   "execution_count": 9,
   "metadata": {},
   "outputs": [
    {
     "name": "stdout",
     "output_type": "stream",
     "text": [
      " Training model:  Gender: Noun, run 0\n",
      " Training model:  Gender: Adj, run 0\n",
      " Training model:  Gender: Noun + Adj, run 0\n",
      " Training model:  Gender: Noun, run 1\n",
      " Training model:  Gender: Adj, run 1\n",
      " Training model:  Gender: Noun + Adj, run 1\n",
      " Training model:  Gender: Noun, run 2\n",
      " Training model:  Gender: Adj, run 2\n",
      " Training model:  Gender: Noun + Adj, run 2\n",
      " Training model:  Gender: Noun, run 3\n",
      " Training model:  Gender: Adj, run 3\n",
      " Training model:  Gender: Noun + Adj, run 3\n",
      " Training model:  Gender: Noun, run 4\n",
      " Training model:  Gender: Adj, run 4\n",
      " Training model:  Gender: Noun + Adj, run 4\n",
      " Training model:  Gender: Noun, run 5\n",
      " Training model:  Gender: Adj, run 5\n",
      " Training model:  Gender: Noun + Adj, run 5\n",
      " Training model:  Gender: Noun, run 6\n",
      " Training model:  Gender: Adj, run 6\n",
      " Training model:  Gender: Noun + Adj, run 6\n",
      " Training model:  Gender: Noun, run 7\n",
      " Training model:  Gender: Adj, run 7\n",
      " Training model:  Gender: Noun + Adj, run 7\n",
      " Training model:  Gender: Noun, run 8\n",
      " Training model:  Gender: Adj, run 8\n",
      " Training model:  Gender: Noun + Adj, run 8\n",
      " Training model:  Gender: Noun, run 9\n",
      " Training model:  Gender: Adj, run 9\n",
      " Training model:  Gender: Noun + Adj, run 9\n"
     ]
    }
   ],
   "source": [
    "# train the models \n",
    "\n",
    "for y in range(10):\n",
    "    for i in range(3):\n",
    "        print(f\" Training model:  {names[i]}, run {y}\")\n",
    "        \n",
    "        clf = LogisticRegression(random_state=y, max_iter=1000)\n",
    "        clf.fit(train_features[i], train_targets[i])\n",
    "        \n",
    "        weights[i].append(clf.coef_[0])"
   ]
  },
  {
   "cell_type": "code",
   "execution_count": 10,
   "metadata": {},
   "outputs": [],
   "source": [
    "weights = np.abs(weights)"
   ]
  },
  {
   "cell_type": "markdown",
   "metadata": {},
   "source": [
    "## Gender: Noun weights"
   ]
  },
  {
   "cell_type": "code",
   "execution_count": 11,
   "metadata": {},
   "outputs": [],
   "source": [
    "noun_weights = pd.DataFrame(columns=list(range(512)))"
   ]
  },
  {
   "cell_type": "code",
   "execution_count": 12,
   "metadata": {},
   "outputs": [],
   "source": [
    "noun_weights['run'] = list(range(10))\n",
    "for r in range(10):\n",
    "    dims_sorted = [x[0] for x in sorted(enumerate(weights[0][r]), key=lambda x: abs(x[1]), reverse=True)]\n",
    "    for i in range(len(dims_sorted)):\n",
    "        noun_weights.iloc[r, dims_sorted[i]] = i"
   ]
  },
  {
   "cell_type": "code",
   "execution_count": 13,
   "metadata": {},
   "outputs": [
    {
     "data": {
      "text/html": [
       "<div>\n",
       "<style scoped>\n",
       "    .dataframe tbody tr th:only-of-type {\n",
       "        vertical-align: middle;\n",
       "    }\n",
       "\n",
       "    .dataframe tbody tr th {\n",
       "        vertical-align: top;\n",
       "    }\n",
       "\n",
       "    .dataframe thead th {\n",
       "        text-align: right;\n",
       "    }\n",
       "</style>\n",
       "<table border=\"1\" class=\"dataframe\">\n",
       "  <thead>\n",
       "    <tr style=\"text-align: right;\">\n",
       "      <th></th>\n",
       "      <th>0</th>\n",
       "      <th>1</th>\n",
       "      <th>2</th>\n",
       "      <th>3</th>\n",
       "      <th>4</th>\n",
       "      <th>5</th>\n",
       "      <th>6</th>\n",
       "      <th>7</th>\n",
       "      <th>8</th>\n",
       "      <th>9</th>\n",
       "      <th>...</th>\n",
       "      <th>503</th>\n",
       "      <th>504</th>\n",
       "      <th>505</th>\n",
       "      <th>506</th>\n",
       "      <th>507</th>\n",
       "      <th>508</th>\n",
       "      <th>509</th>\n",
       "      <th>510</th>\n",
       "      <th>511</th>\n",
       "      <th>run</th>\n",
       "    </tr>\n",
       "  </thead>\n",
       "  <tbody>\n",
       "    <tr>\n",
       "      <th>0</th>\n",
       "      <td>229</td>\n",
       "      <td>425</td>\n",
       "      <td>449</td>\n",
       "      <td>426</td>\n",
       "      <td>51</td>\n",
       "      <td>104</td>\n",
       "      <td>506</td>\n",
       "      <td>10</td>\n",
       "      <td>47</td>\n",
       "      <td>465</td>\n",
       "      <td>...</td>\n",
       "      <td>127</td>\n",
       "      <td>292</td>\n",
       "      <td>97</td>\n",
       "      <td>293</td>\n",
       "      <td>45</td>\n",
       "      <td>254</td>\n",
       "      <td>200</td>\n",
       "      <td>197</td>\n",
       "      <td>309</td>\n",
       "      <td>0</td>\n",
       "    </tr>\n",
       "    <tr>\n",
       "      <th>1</th>\n",
       "      <td>229</td>\n",
       "      <td>425</td>\n",
       "      <td>449</td>\n",
       "      <td>426</td>\n",
       "      <td>51</td>\n",
       "      <td>104</td>\n",
       "      <td>506</td>\n",
       "      <td>10</td>\n",
       "      <td>47</td>\n",
       "      <td>465</td>\n",
       "      <td>...</td>\n",
       "      <td>127</td>\n",
       "      <td>292</td>\n",
       "      <td>97</td>\n",
       "      <td>293</td>\n",
       "      <td>45</td>\n",
       "      <td>254</td>\n",
       "      <td>200</td>\n",
       "      <td>197</td>\n",
       "      <td>309</td>\n",
       "      <td>1</td>\n",
       "    </tr>\n",
       "    <tr>\n",
       "      <th>2</th>\n",
       "      <td>229</td>\n",
       "      <td>425</td>\n",
       "      <td>449</td>\n",
       "      <td>426</td>\n",
       "      <td>51</td>\n",
       "      <td>104</td>\n",
       "      <td>506</td>\n",
       "      <td>10</td>\n",
       "      <td>47</td>\n",
       "      <td>465</td>\n",
       "      <td>...</td>\n",
       "      <td>127</td>\n",
       "      <td>292</td>\n",
       "      <td>97</td>\n",
       "      <td>293</td>\n",
       "      <td>45</td>\n",
       "      <td>254</td>\n",
       "      <td>200</td>\n",
       "      <td>197</td>\n",
       "      <td>309</td>\n",
       "      <td>2</td>\n",
       "    </tr>\n",
       "    <tr>\n",
       "      <th>3</th>\n",
       "      <td>229</td>\n",
       "      <td>425</td>\n",
       "      <td>449</td>\n",
       "      <td>426</td>\n",
       "      <td>51</td>\n",
       "      <td>104</td>\n",
       "      <td>506</td>\n",
       "      <td>10</td>\n",
       "      <td>47</td>\n",
       "      <td>465</td>\n",
       "      <td>...</td>\n",
       "      <td>127</td>\n",
       "      <td>292</td>\n",
       "      <td>97</td>\n",
       "      <td>293</td>\n",
       "      <td>45</td>\n",
       "      <td>254</td>\n",
       "      <td>200</td>\n",
       "      <td>197</td>\n",
       "      <td>309</td>\n",
       "      <td>3</td>\n",
       "    </tr>\n",
       "    <tr>\n",
       "      <th>4</th>\n",
       "      <td>229</td>\n",
       "      <td>425</td>\n",
       "      <td>449</td>\n",
       "      <td>426</td>\n",
       "      <td>51</td>\n",
       "      <td>104</td>\n",
       "      <td>506</td>\n",
       "      <td>10</td>\n",
       "      <td>47</td>\n",
       "      <td>465</td>\n",
       "      <td>...</td>\n",
       "      <td>127</td>\n",
       "      <td>292</td>\n",
       "      <td>97</td>\n",
       "      <td>293</td>\n",
       "      <td>45</td>\n",
       "      <td>254</td>\n",
       "      <td>200</td>\n",
       "      <td>197</td>\n",
       "      <td>309</td>\n",
       "      <td>4</td>\n",
       "    </tr>\n",
       "    <tr>\n",
       "      <th>5</th>\n",
       "      <td>229</td>\n",
       "      <td>425</td>\n",
       "      <td>449</td>\n",
       "      <td>426</td>\n",
       "      <td>51</td>\n",
       "      <td>104</td>\n",
       "      <td>506</td>\n",
       "      <td>10</td>\n",
       "      <td>47</td>\n",
       "      <td>465</td>\n",
       "      <td>...</td>\n",
       "      <td>127</td>\n",
       "      <td>292</td>\n",
       "      <td>97</td>\n",
       "      <td>293</td>\n",
       "      <td>45</td>\n",
       "      <td>254</td>\n",
       "      <td>200</td>\n",
       "      <td>197</td>\n",
       "      <td>309</td>\n",
       "      <td>5</td>\n",
       "    </tr>\n",
       "    <tr>\n",
       "      <th>6</th>\n",
       "      <td>229</td>\n",
       "      <td>425</td>\n",
       "      <td>449</td>\n",
       "      <td>426</td>\n",
       "      <td>51</td>\n",
       "      <td>104</td>\n",
       "      <td>506</td>\n",
       "      <td>10</td>\n",
       "      <td>47</td>\n",
       "      <td>465</td>\n",
       "      <td>...</td>\n",
       "      <td>127</td>\n",
       "      <td>292</td>\n",
       "      <td>97</td>\n",
       "      <td>293</td>\n",
       "      <td>45</td>\n",
       "      <td>254</td>\n",
       "      <td>200</td>\n",
       "      <td>197</td>\n",
       "      <td>309</td>\n",
       "      <td>6</td>\n",
       "    </tr>\n",
       "    <tr>\n",
       "      <th>7</th>\n",
       "      <td>229</td>\n",
       "      <td>425</td>\n",
       "      <td>449</td>\n",
       "      <td>426</td>\n",
       "      <td>51</td>\n",
       "      <td>104</td>\n",
       "      <td>506</td>\n",
       "      <td>10</td>\n",
       "      <td>47</td>\n",
       "      <td>465</td>\n",
       "      <td>...</td>\n",
       "      <td>127</td>\n",
       "      <td>292</td>\n",
       "      <td>97</td>\n",
       "      <td>293</td>\n",
       "      <td>45</td>\n",
       "      <td>254</td>\n",
       "      <td>200</td>\n",
       "      <td>197</td>\n",
       "      <td>309</td>\n",
       "      <td>7</td>\n",
       "    </tr>\n",
       "    <tr>\n",
       "      <th>8</th>\n",
       "      <td>229</td>\n",
       "      <td>425</td>\n",
       "      <td>449</td>\n",
       "      <td>426</td>\n",
       "      <td>51</td>\n",
       "      <td>104</td>\n",
       "      <td>506</td>\n",
       "      <td>10</td>\n",
       "      <td>47</td>\n",
       "      <td>465</td>\n",
       "      <td>...</td>\n",
       "      <td>127</td>\n",
       "      <td>292</td>\n",
       "      <td>97</td>\n",
       "      <td>293</td>\n",
       "      <td>45</td>\n",
       "      <td>254</td>\n",
       "      <td>200</td>\n",
       "      <td>197</td>\n",
       "      <td>309</td>\n",
       "      <td>8</td>\n",
       "    </tr>\n",
       "    <tr>\n",
       "      <th>9</th>\n",
       "      <td>229</td>\n",
       "      <td>425</td>\n",
       "      <td>449</td>\n",
       "      <td>426</td>\n",
       "      <td>51</td>\n",
       "      <td>104</td>\n",
       "      <td>506</td>\n",
       "      <td>10</td>\n",
       "      <td>47</td>\n",
       "      <td>465</td>\n",
       "      <td>...</td>\n",
       "      <td>127</td>\n",
       "      <td>292</td>\n",
       "      <td>97</td>\n",
       "      <td>293</td>\n",
       "      <td>45</td>\n",
       "      <td>254</td>\n",
       "      <td>200</td>\n",
       "      <td>197</td>\n",
       "      <td>309</td>\n",
       "      <td>9</td>\n",
       "    </tr>\n",
       "  </tbody>\n",
       "</table>\n",
       "<p>10 rows × 513 columns</p>\n",
       "</div>"
      ],
      "text/plain": [
       "     0    1    2    3   4    5    6   7   8    9  ...  503  504 505  506 507  \\\n",
       "0  229  425  449  426  51  104  506  10  47  465  ...  127  292  97  293  45   \n",
       "1  229  425  449  426  51  104  506  10  47  465  ...  127  292  97  293  45   \n",
       "2  229  425  449  426  51  104  506  10  47  465  ...  127  292  97  293  45   \n",
       "3  229  425  449  426  51  104  506  10  47  465  ...  127  292  97  293  45   \n",
       "4  229  425  449  426  51  104  506  10  47  465  ...  127  292  97  293  45   \n",
       "5  229  425  449  426  51  104  506  10  47  465  ...  127  292  97  293  45   \n",
       "6  229  425  449  426  51  104  506  10  47  465  ...  127  292  97  293  45   \n",
       "7  229  425  449  426  51  104  506  10  47  465  ...  127  292  97  293  45   \n",
       "8  229  425  449  426  51  104  506  10  47  465  ...  127  292  97  293  45   \n",
       "9  229  425  449  426  51  104  506  10  47  465  ...  127  292  97  293  45   \n",
       "\n",
       "   508  509  510  511 run  \n",
       "0  254  200  197  309   0  \n",
       "1  254  200  197  309   1  \n",
       "2  254  200  197  309   2  \n",
       "3  254  200  197  309   3  \n",
       "4  254  200  197  309   4  \n",
       "5  254  200  197  309   5  \n",
       "6  254  200  197  309   6  \n",
       "7  254  200  197  309   7  \n",
       "8  254  200  197  309   8  \n",
       "9  254  200  197  309   9  \n",
       "\n",
       "[10 rows x 513 columns]"
      ]
     },
     "execution_count": 13,
     "metadata": {},
     "output_type": "execute_result"
    }
   ],
   "source": [
    "noun_weights"
   ]
  },
  {
   "cell_type": "code",
   "execution_count": 14,
   "metadata": {},
   "outputs": [
    {
     "data": {
      "text/plain": [
       "100    0.0\n",
       "250    1.0\n",
       "195    2.0\n",
       "265    3.0\n",
       "162    4.0\n",
       "269    5.0\n",
       "377    6.0\n",
       "390    7.0\n",
       "468    8.0\n",
       "434    9.0\n",
       "dtype: float64"
      ]
     },
     "execution_count": 14,
     "metadata": {},
     "output_type": "execute_result"
    }
   ],
   "source": [
    "noun_weights.iloc[:, :512].mean().sort_values()[:10]"
   ]
  },
  {
   "cell_type": "markdown",
   "metadata": {},
   "source": [
    "## Gender: Adj weights"
   ]
  },
  {
   "cell_type": "code",
   "execution_count": 15,
   "metadata": {},
   "outputs": [],
   "source": [
    "adj_weights = pd.DataFrame(columns=list(range(512)))"
   ]
  },
  {
   "cell_type": "code",
   "execution_count": 16,
   "metadata": {},
   "outputs": [],
   "source": [
    "adj_weights['run'] = list(range(10))\n",
    "for r in range(10):\n",
    "    dims_sorted = [x[0] for x in sorted(enumerate(weights[1][r]), key=lambda x: abs(x[1]), reverse=True)]\n",
    "    for i in range(len(dims_sorted)):\n",
    "        adj_weights.iloc[r, dims_sorted[i]] = i"
   ]
  },
  {
   "cell_type": "code",
   "execution_count": 17,
   "metadata": {},
   "outputs": [
    {
     "data": {
      "text/plain": [
       "250    0.0\n",
       "121    1.0\n",
       "162    2.0\n",
       "390    3.0\n",
       "88     4.0\n",
       "89     5.0\n",
       "432    6.0\n",
       "177    7.0\n",
       "175    8.0\n",
       "245    9.0\n",
       "dtype: float64"
      ]
     },
     "execution_count": 17,
     "metadata": {},
     "output_type": "execute_result"
    }
   ],
   "source": [
    "adj_weights.iloc[:, :512].mean().sort_values()[:10]"
   ]
  },
  {
   "cell_type": "markdown",
   "metadata": {},
   "source": [
    "## Gender: both weights"
   ]
  },
  {
   "cell_type": "code",
   "execution_count": 18,
   "metadata": {},
   "outputs": [],
   "source": [
    "both_weights = pd.DataFrame(columns=list(range(512)))"
   ]
  },
  {
   "cell_type": "code",
   "execution_count": 19,
   "metadata": {},
   "outputs": [],
   "source": [
    "both_weights['run'] = list(range(10))\n",
    "for r in range(10):\n",
    "    dims_sorted = [x[0] for x in sorted(enumerate(weights[2][r]), key=lambda x: abs(x[1]), reverse=True)]\n",
    "    for i in range(len(dims_sorted)):\n",
    "        both_weights.iloc[r, dims_sorted[i]] = i"
   ]
  },
  {
   "cell_type": "code",
   "execution_count": 20,
   "metadata": {},
   "outputs": [
    {
     "data": {
      "text/plain": [
       "250    0.0\n",
       "162    1.0\n",
       "100    2.0\n",
       "195    3.0\n",
       "269    4.0\n",
       "390    5.0\n",
       "214    6.0\n",
       "265    7.0\n",
       "377    8.0\n",
       "468    9.0\n",
       "dtype: float64"
      ]
     },
     "execution_count": 20,
     "metadata": {},
     "output_type": "execute_result"
    }
   ],
   "source": [
    "both_weights.iloc[:, :512].mean().sort_values()[:10]"
   ]
  }
 ],
 "metadata": {
  "kernelspec": {
   "display_name": "Python 3 (ipykernel)",
   "language": "python",
   "name": "python3"
  },
  "language_info": {
   "codemirror_mode": {
    "name": "ipython",
    "version": 3
   },
   "file_extension": ".py",
   "mimetype": "text/x-python",
   "name": "python",
   "nbconvert_exporter": "python",
   "pygments_lexer": "ipython3",
   "version": "3.10.9"
  },
  "vscode": {
   "interpreter": {
    "hash": "3de7a084b318d7b8bf96005cb5db4da14a27f60df0465391ef48a4c336f03bfe"
   }
  }
 },
 "nbformat": 4,
 "nbformat_minor": 2
}
