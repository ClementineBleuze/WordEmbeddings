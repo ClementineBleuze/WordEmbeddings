{
 "cells": [
  {
   "cell_type": "markdown",
   "metadata": {},
   "source": [
    "# Retrieving Gender Information in Nouns & Adjectives using Minimum Intra-class STD + Maximum extra-class average diff\n",
    "In this Notebook : attempts to isolate Word Embeddings dimension coding for **gender information** (masculine/feminine) in a sample of Word Embeddings for **NOUNS**, **ADJECTIVES** and **both**.  "
   ]
  },
  {
   "cell_type": "markdown",
   "metadata": {},
   "source": [
    "## 0. Data Loading"
   ]
  },
  {
   "cell_type": "code",
   "execution_count": 1,
   "metadata": {},
   "outputs": [],
   "source": [
    "import pandas as pd\n",
    "\n",
    "# WE loading\n",
    "nouns = pd.read_csv('../Data/FlauBERT_WE/all_nouns_we.csv', index_col=0).drop(columns=[\"number\", \"gender\"])\n",
    "nouns['adj'] = 0\n",
    "adjs = pd.read_csv('../Data/FlauBERT_WE/all_adjectives_we.csv', index_col=0).drop(columns = [\"number\", \"gender\"])\n",
    "adjs['adj'] = 1\n",
    "verbs = pd.read_csv('../Data/FlauBERT_WE/all_verb_we.csv', index_col=0)\n",
    "verbs['adj'] = 0\n",
    "all_we = pd.concat([nouns, adjs, verbs])\n",
    "\n",
    "# Normalization\n",
    "normalized_data = (all_we - all_we.min())/(all_we.max() - all_we.min())"
   ]
  },
  {
   "cell_type": "markdown",
   "metadata": {},
   "source": [
    "## 1. Lowest intra-class standard deviation"
   ]
  },
  {
   "cell_type": "markdown",
   "metadata": {},
   "source": [
    "Separate the data into two classes: noun and not noun."
   ]
  },
  {
   "cell_type": "code",
   "execution_count": 2,
   "metadata": {},
   "outputs": [],
   "source": [
    "adj_norm = normalized_data[normalized_data[\"adj\"] == 1]\n",
    "not_adj_norm = normalized_data[normalized_data[\"adj\"] == 0]"
   ]
  },
  {
   "cell_type": "markdown",
   "metadata": {},
   "source": [
    "Lowest std for class **adjective**:"
   ]
  },
  {
   "cell_type": "code",
   "execution_count": 3,
   "metadata": {},
   "outputs": [
    {
     "data": {
      "text/plain": [
       "157    0.096814\n",
       "69     0.100743\n",
       "277    0.100852\n",
       "441    0.100972\n",
       "422    0.102595\n",
       "314    0.102598\n",
       "26     0.103030\n",
       "209    0.103123\n",
       "287    0.103896\n",
       "25     0.104124\n",
       "dtype: float64"
      ]
     },
     "execution_count": 3,
     "metadata": {},
     "output_type": "execute_result"
    }
   ],
   "source": [
    "adj_norm.loc[:,:'511'].std().sort_values()[:10]"
   ]
  },
  {
   "cell_type": "markdown",
   "metadata": {},
   "source": [
    "Lowest std for class **not_adjective**:"
   ]
  },
  {
   "cell_type": "code",
   "execution_count": 4,
   "metadata": {},
   "outputs": [
    {
     "data": {
      "text/plain": [
       "157    0.099693\n",
       "441    0.100581\n",
       "287    0.101189\n",
       "69     0.101614\n",
       "277    0.101949\n",
       "408    0.102070\n",
       "422    0.102541\n",
       "314    0.102918\n",
       "209    0.103055\n",
       "25     0.103689\n",
       "dtype: float64"
      ]
     },
     "execution_count": 4,
     "metadata": {},
     "output_type": "execute_result"
    }
   ],
   "source": [
    "not_adj_norm.loc[:,:'511'].std().sort_values()[:10]"
   ]
  },
  {
   "cell_type": "markdown",
   "metadata": {},
   "source": [
    "## 2. Dimensions with greatest difference between avg_noun and avg_not_noun"
   ]
  },
  {
   "cell_type": "markdown",
   "metadata": {},
   "source": [
    "This seems encouraging, as few dimensions present the highest differences for each of the considered datasets. We also see higher differences in adjectives."
   ]
  },
  {
   "cell_type": "code",
   "execution_count": 5,
   "metadata": {},
   "outputs": [
    {
     "data": {
      "text/plain": [
       "276    0.054912\n",
       "2      0.053821\n",
       "478    0.049883\n",
       "158    0.047296\n",
       "370    0.045533\n",
       "24     0.043677\n",
       "220    0.043577\n",
       "409    0.043102\n",
       "464    0.040996\n",
       "139    0.039065\n",
       "dtype: float64"
      ]
     },
     "execution_count": 5,
     "metadata": {},
     "output_type": "execute_result"
    }
   ],
   "source": [
    "# top 10 dimensions with the highest difference\n",
    "abs(adj_norm.loc[:, :'511'].mean() - not_adj_norm.loc[:, :'511'].mean()).sort_values(ascending=False)[:10]"
   ]
  },
  {
   "cell_type": "code",
   "execution_count": 6,
   "metadata": {},
   "outputs": [],
   "source": [
    "w1 = list(pd.read_csv('../Data/Dimensions/PoS/adj.csv', index_col=0).iloc[:, 0].values)\n",
    "\n",
    "w1.extend(abs(adj_norm.loc[:, :'511'].mean() - not_adj_norm.loc[:, :'511'].mean()).sort_values(ascending=False)[:10].index)\n",
    "\n",
    "pd.DataFrame(w1).to_csv('../Data/Dimensions/PoS/adj.csv')"
   ]
  },
  {
   "cell_type": "code",
   "execution_count": null,
   "metadata": {},
   "outputs": [],
   "source": []
  }
 ],
 "metadata": {
  "kernelspec": {
   "display_name": "Python 3 (ipykernel)",
   "language": "python",
   "name": "python3"
  },
  "language_info": {
   "codemirror_mode": {
    "name": "ipython",
    "version": 3
   },
   "file_extension": ".py",
   "mimetype": "text/x-python",
   "name": "python",
   "nbconvert_exporter": "python",
   "pygments_lexer": "ipython3",
   "version": "3.10.9"
  },
  "vscode": {
   "interpreter": {
    "hash": "3de7a084b318d7b8bf96005cb5db4da14a27f60df0465391ef48a4c336f03bfe"
   }
  }
 },
 "nbformat": 4,
 "nbformat_minor": 2
}
