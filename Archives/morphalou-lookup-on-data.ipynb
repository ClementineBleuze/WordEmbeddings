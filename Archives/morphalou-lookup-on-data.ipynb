{
 "cells": [
  {
   "cell_type": "markdown",
   "id": "d02ba2fd",
   "metadata": {},
   "source": [
    "# Retrieving grammatical information from Morphalou 3  "
   ]
  },
  {
   "cell_type": "markdown",
   "id": "db9a8330",
   "metadata": {},
   "source": [
    "[To be further updated]:\n",
    "* check (wrt the XML files) that no forms or interesting grammatical attributes are forgotten by *give_grammatical_info*  \n",
    "* provide the code as a separate script ?  \n",
    "* a basic query can take ~2min : see if this can be reduced\n",
    "* write lookup(string, feature): for the moment, lookup(string)"
   ]
  },
  {
   "cell_type": "markdown",
   "id": "d0bddd21",
   "metadata": {},
   "source": [
    "## 1. Data Loading & XML Parsing"
   ]
  },
  {
   "cell_type": "markdown",
   "id": "0e2575bf",
   "metadata": {},
   "source": [
    "Following cell allows for the loading and parsing of Morphalou3 data. It can be quite long (~10 min)."
   ]
  },
  {
   "cell_type": "code",
   "execution_count": 1,
   "id": "bb9f16a2",
   "metadata": {},
   "outputs": [],
   "source": [
    "from bs4 import BeautifulSoup\n",
    "import re\n",
    "\n",
    "# Paths to Morphalou3 data files\n",
    "FILE_PATHS = [\"data/adjective_Morphalou3_LMF.xml\",\n",
    "              \"data/adverb_Morphalou3_LMF.xml\",\n",
    "             \"data/commonNoun_Morphalou3_LMF.xml\",\n",
    "             \"data/grammaticalWords_Morphalou3_LMF.xml\",\n",
    "             \"data/interjection_Morphalou3_LMF.xml\",\n",
    "             \"data/noCategory_Morphalou3_LMF.xml\",\n",
    "             \"data/verb_Morphalou3_LMF.xml\"]\n",
    "\n",
    "SOUPS = []\n",
    "\n",
    "# Parsing of the whole dataset\n",
    "for file_path in FILE_PATHS:\n",
    "    with open(file_path, \"rb\") as f:\n",
    "        file = f.read()\n",
    "        soup = BeautifulSoup(file, \"xml\")\n",
    "        SOUPS.append(soup)\n",
    "        print(f\"{file_path}: parsed.\")"
   ]
  },
  {
   "cell_type": "code",
   "execution_count": null,
   "id": "f910f4d4",
   "metadata": {},
   "outputs": [],
   "source": [
    "\n",
    "def find_forms(form:str)->list:\n",
    "    \"\"\"A function that takes as input a list of BeautifulSoup objects and a written form, and returns the list\n",
    "    of all <lexicalEntry> nodes from soup_list whose ID match this particular form \"\"\"\n",
    "    entries = []\n",
    "    pattern = f\"{form}(_.*)?$\"\n",
    "    \n",
    "    # We will look for the form in all the Morphalou3 categories\n",
    "    for soup_obj in SOUPS:\n",
    "        entries.extend(soup_obj.find_all(id = re.compile(pattern)))\n",
    "        \n",
    "    return entries\n",
    "\n",
    "def convert_to_dict(entries:list)->dict:\n",
    "    \"\"\"A function converting a list of <lexicalEntry> nodes into a readable dictionnary with useful grammatical information.\n",
    "    The resulting dictionnary is indexed by lexical entry ids\"\"\"\n",
    "    \n",
    "    d = {}\n",
    "    \n",
    "    for entry in entries:\n",
    "        children = entry.formSet.children\n",
    "        \n",
    "        # Lemma\n",
    "        next(children)\n",
    "        lemmatizedForm = next(children)\n",
    "        lemma_attributes = lemmatizedForm.children\n",
    "        lemma_attributes_dict = {}\n",
    "        lemma_generator_not_empty = True\n",
    "\n",
    "        while (lemma_generator_not_empty):\n",
    "\n",
    "            try:\n",
    "                attribute = next(lemma_attributes)\n",
    "                if attribute.name:\n",
    "                    if attribute.name != \"originatingEntry\":\n",
    "                        lemma_attributes_dict[attribute.name] = attribute.text\n",
    "            except Exception:\n",
    "                lemma_generator_not_empty = False\n",
    "\n",
    "        \n",
    "        # Inflected forms\n",
    "        inf_generator_not_empty = True\n",
    "        inflected_forms_dict = {}\n",
    "\n",
    "        while(inf_generator_not_empty):\n",
    "            \n",
    "            next(children)\n",
    "            \n",
    "            try:\n",
    "                inflected_form = next(children)\n",
    "                inflected_attributes = inflected_form.children\n",
    "                \n",
    "                inflected_attributes_dict = {}\n",
    "                for attribute in inflected_attributes:\n",
    "                    if attribute.name:\n",
    "                        if attribute.name != \"originatingEntry\" and attribute.name != \"orthography\":\n",
    "                            inflected_attributes_dict[attribute.name] = attribute.text\n",
    "                            \n",
    "                inflected_forms_dict[inflected_form.orthography.text] = inflected_attributes_dict\n",
    "                \n",
    "            except Exception:\n",
    "                inf_generator_not_empty = False\n",
    "                \n",
    "        # Final dictionnary\n",
    "        d[entry['id']] = {\"lemma\": lemma_attributes_dict, \"inflected_forms\": inflected_forms_dict }\n",
    "\n",
    "        \n",
    "    return d\n",
    "\n",
    "def give_grammatical_info(feature=\"all\", form:str):\n",
    "    if feature == \"all\":\n",
    "        return convert_to_dict(find_forms( form))\n",
    "    else:\n",
    "        pass # to do"
   ]
  },
  {
   "cell_type": "markdown",
   "id": "7ee0bad1",
   "metadata": {},
   "source": [
    "## 2. Querying Morphalou3 with a given form"
   ]
  },
  {
   "cell_type": "markdown",
   "id": "3f40a905",
   "metadata": {},
   "source": [
    "The function *give_grammatical_info* allows the user to see all lexical entries present in Morphalou3 that match a given written form. For each of them, following information can be accessed:  \n",
    "* the **lemma** of the entry and its relevant features (orthography, grammaticalCategory, grammaticalGender, etc.)  \n",
    "* its associated **inflected-forms** and their relevant features (grammaticalNumber, grammatical)"
   ]
  },
  {
   "cell_type": "code",
   "execution_count": 14,
   "id": "ed15da09",
   "metadata": {},
   "outputs": [
    {
     "data": {
      "text/plain": [
       "{'parent_1': {'lemma': {'orthography': 'parent',\n",
       "   'grammaticalCategory': 'commonNoun',\n",
       "   'grammaticalGender': 'masculine'},\n",
       "  'inflected_forms': {'parent': {'grammaticalNumber': 'singular'},\n",
       "   'parents': {'grammaticalNumber': 'plural'}}},\n",
       " 'arrière-grand-parent_1': {'lemma': {'orthography': 'arrière-grand-parent',\n",
       "   'grammaticalCategory': 'commonNoun',\n",
       "   'grammaticalGender': 'masculine'},\n",
       "  'inflected_forms': {'arrière-grand-parent': {'grammaticalNumber': 'singular'}}}}"
      ]
     },
     "execution_count": 14,
     "metadata": {},
     "output_type": "execute_result"
    }
   ],
   "source": [
    "# Example 1\n",
    "give_grammatical_info(\"parent\")"
   ]
  },
  {
   "cell_type": "code",
   "execution_count": 15,
   "id": "ef4f4174",
   "metadata": {},
   "outputs": [
    {
     "data": {
      "text/plain": [
       "{'a-humain_1': {'lemma': {'orthography': 'a-humain',\n",
       "   'grammaticalCategory': 'adjective'},\n",
       "  'inflected_forms': {'a-humain': {'grammaticalNumber': 'singular',\n",
       "    'grammaticalGender': 'masculine'}}},\n",
       " 'anti-humain_1': {'lemma': {'orthography': 'anti-humain',\n",
       "   'grammaticalCategory': 'commonNoun',\n",
       "   'grammaticalGender': 'masculine'},\n",
       "  'inflected_forms': {'anti-humain': {'grammaticalNumber': 'singular'}}},\n",
       " 'anté-humain_1': {'lemma': {'orthography': 'anté-humain',\n",
       "   'grammaticalCategory': 'commonNoun'},\n",
       "  'inflected_forms': {'anté-humain': {'grammaticalNumber': 'singular'}}},\n",
       " 'humain_1': {'lemma': {'orthography': 'humain',\n",
       "   'grammaticalCategory': 'commonNoun',\n",
       "   'grammaticalGender': 'masculine'},\n",
       "  'inflected_forms': {'humain': {'grammaticalNumber': 'plural'},\n",
       "   'humains': {'grammaticalNumber': 'plural'}}},\n",
       " 'infra-humain_1': {'lemma': {'orthography': 'infra-humain',\n",
       "   'grammaticalCategory': 'adjective'},\n",
       "  'inflected_forms': {'infra-humain': {'grammaticalNumber': 'singular',\n",
       "    'grammaticalGender': 'masculine'}}},\n",
       " 'mi-humain_1': {'lemma': {'orthography': 'mi-humain',\n",
       "   'grammaticalCategory': 'adjective'},\n",
       "  'inflected_forms': {'mi-humain': {'grammaticalNumber': 'singular',\n",
       "    'grammaticalGender': 'masculine'}}},\n",
       " 'supra-humain_1': {'lemma': {'orthography': 'supra-humain',\n",
       "   'grammaticalCategory': 'adjective'},\n",
       "  'inflected_forms': {'supra-humaine': {'grammaticalNumber': 'singular',\n",
       "    'grammaticalGender': 'feminine'},\n",
       "   'supra-humain': {'grammaticalNumber': 'singular',\n",
       "    'grammaticalGender': 'masculine'},\n",
       "   'supra-humaines': {'grammaticalNumber': 'plural',\n",
       "    'grammaticalGender': 'feminine'},\n",
       "   'supra-humains': {'grammaticalNumber': 'plural',\n",
       "    'grammaticalGender': 'masculine'}}}}"
      ]
     },
     "execution_count": 15,
     "metadata": {},
     "output_type": "execute_result"
    }
   ],
   "source": [
    "# Example 2 : a form that can be a Noun or an Adjective\n",
    "give_grammatical_info(\"humain\")"
   ]
  },
  {
   "cell_type": "code",
   "execution_count": 16,
   "id": "c83dd873",
   "metadata": {},
   "outputs": [
    {
     "data": {
      "text/plain": [
       "{}"
      ]
     },
     "execution_count": 16,
     "metadata": {},
     "output_type": "execute_result"
    }
   ],
   "source": [
    "# Example 3 : A non-existing word\n",
    "give_grammatical_info(\"xiuzc\")"
   ]
  }
 ],
 "metadata": {
  "kernelspec": {
   "display_name": "Python 3 (ipykernel)",
   "language": "python",
   "name": "python3"
  },
  "language_info": {
   "codemirror_mode": {
    "name": "ipython",
    "version": 3
   },
   "file_extension": ".py",
   "mimetype": "text/x-python",
   "name": "python",
   "nbconvert_exporter": "python",
   "pygments_lexer": "ipython3",
   "version": "3.10.10"
  },
  "vscode": {
   "interpreter": {
    "hash": "3de7a084b318d7b8bf96005cb5db4da14a27f60df0465391ef48a4c336f03bfe"
   }
  }
 },
 "nbformat": 4,
 "nbformat_minor": 5
}
