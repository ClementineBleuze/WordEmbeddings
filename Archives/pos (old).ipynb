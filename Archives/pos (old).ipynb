{
 "cells": [
  {
   "cell_type": "markdown",
   "metadata": {},
   "source": [
    "# Frequent nouns WE"
   ]
  },
  {
   "cell_type": "markdown",
   "metadata": {},
   "source": [
    "This notebook uses frequency sorting by the frequency of word forms."
   ]
  },
  {
   "cell_type": "code",
   "execution_count": 1,
   "metadata": {},
   "outputs": [],
   "source": [
    "import pandas as pd\n",
    "import numpy as np"
   ]
  },
  {
   "cell_type": "markdown",
   "metadata": {},
   "source": [
    "We extracted a list of most frequently used nouns and we can merge them with the WE of FlauBERT."
   ]
  },
  {
   "cell_type": "code",
   "execution_count": 2,
   "metadata": {},
   "outputs": [],
   "source": [
    "top_freq_n = pd.read_csv('Most Frequent Words/freq_NOUN.csv', index_col='Word')[:1000]"
   ]
  },
  {
   "cell_type": "code",
   "execution_count": 3,
   "metadata": {},
   "outputs": [
    {
     "data": {
      "text/html": [
       "<div>\n",
       "<style scoped>\n",
       "    .dataframe tbody tr th:only-of-type {\n",
       "        vertical-align: middle;\n",
       "    }\n",
       "\n",
       "    .dataframe tbody tr th {\n",
       "        vertical-align: top;\n",
       "    }\n",
       "\n",
       "    .dataframe thead th {\n",
       "        text-align: right;\n",
       "    }\n",
       "</style>\n",
       "<table border=\"1\" class=\"dataframe\">\n",
       "  <thead>\n",
       "    <tr style=\"text-align: right;\">\n",
       "      <th></th>\n",
       "      <th>lemme</th>\n",
       "      <th>cgram</th>\n",
       "      <th>freq</th>\n",
       "    </tr>\n",
       "    <tr>\n",
       "      <th>Word</th>\n",
       "      <th></th>\n",
       "      <th></th>\n",
       "      <th></th>\n",
       "    </tr>\n",
       "  </thead>\n",
       "  <tbody>\n",
       "    <tr>\n",
       "      <th>chose</th>\n",
       "      <td>chose</td>\n",
       "      <td>NOM</td>\n",
       "      <td>1321.79</td>\n",
       "    </tr>\n",
       "    <tr>\n",
       "      <th>temps</th>\n",
       "      <td>temps</td>\n",
       "      <td>NOM</td>\n",
       "      <td>1031.05</td>\n",
       "    </tr>\n",
       "    <tr>\n",
       "      <th>vie</th>\n",
       "      <td>vie</td>\n",
       "      <td>NOM</td>\n",
       "      <td>986.59</td>\n",
       "    </tr>\n",
       "    <tr>\n",
       "      <th>fois</th>\n",
       "      <td>fois</td>\n",
       "      <td>NOM</td>\n",
       "      <td>899.25</td>\n",
       "    </tr>\n",
       "    <tr>\n",
       "      <th>peu</th>\n",
       "      <td>peu</td>\n",
       "      <td>NOM</td>\n",
       "      <td>894.78</td>\n",
       "    </tr>\n",
       "    <tr>\n",
       "      <th>...</th>\n",
       "      <td>...</td>\n",
       "      <td>...</td>\n",
       "      <td>...</td>\n",
       "    </tr>\n",
       "    <tr>\n",
       "      <th>fleur</th>\n",
       "      <td>fleur</td>\n",
       "      <td>NOM</td>\n",
       "      <td>25.20</td>\n",
       "    </tr>\n",
       "    <tr>\n",
       "      <th>tâche</th>\n",
       "      <td>tâche</td>\n",
       "      <td>NOM</td>\n",
       "      <td>25.20</td>\n",
       "    </tr>\n",
       "    <tr>\n",
       "      <th>page</th>\n",
       "      <td>page</td>\n",
       "      <td>NOM</td>\n",
       "      <td>25.16</td>\n",
       "    </tr>\n",
       "    <tr>\n",
       "      <th>matériel</th>\n",
       "      <td>matériel</td>\n",
       "      <td>NOM</td>\n",
       "      <td>25.15</td>\n",
       "    </tr>\n",
       "    <tr>\n",
       "      <th>résultat</th>\n",
       "      <td>résultat</td>\n",
       "      <td>NOM</td>\n",
       "      <td>25.15</td>\n",
       "    </tr>\n",
       "  </tbody>\n",
       "</table>\n",
       "<p>1000 rows × 3 columns</p>\n",
       "</div>"
      ],
      "text/plain": [
       "             lemme cgram     freq\n",
       "Word                             \n",
       "chose        chose   NOM  1321.79\n",
       "temps        temps   NOM  1031.05\n",
       "vie            vie   NOM   986.59\n",
       "fois          fois   NOM   899.25\n",
       "peu            peu   NOM   894.78\n",
       "...            ...   ...      ...\n",
       "fleur        fleur   NOM    25.20\n",
       "tâche        tâche   NOM    25.20\n",
       "page          page   NOM    25.16\n",
       "matériel  matériel   NOM    25.15\n",
       "résultat  résultat   NOM    25.15\n",
       "\n",
       "[1000 rows x 3 columns]"
      ]
     },
     "execution_count": 3,
     "metadata": {},
     "output_type": "execute_result"
    }
   ],
   "source": [
    "top_freq_n"
   ]
  },
  {
   "cell_type": "code",
   "execution_count": 4,
   "metadata": {},
   "outputs": [],
   "source": [
    "all_n_we = pd.read_csv('all_nouns_we.csv', index_col=0)"
   ]
  },
  {
   "cell_type": "markdown",
   "metadata": {},
   "source": [
    "Out of 1000 most popular nouns, 899 have their own embedding. We can merge them into one DataFrame."
   ]
  },
  {
   "cell_type": "code",
   "execution_count": 5,
   "metadata": {},
   "outputs": [
    {
     "data": {
      "text/html": [
       "<div>\n",
       "<style scoped>\n",
       "    .dataframe tbody tr th:only-of-type {\n",
       "        vertical-align: middle;\n",
       "    }\n",
       "\n",
       "    .dataframe tbody tr th {\n",
       "        vertical-align: top;\n",
       "    }\n",
       "\n",
       "    .dataframe thead th {\n",
       "        text-align: right;\n",
       "    }\n",
       "</style>\n",
       "<table border=\"1\" class=\"dataframe\">\n",
       "  <thead>\n",
       "    <tr style=\"text-align: right;\">\n",
       "      <th></th>\n",
       "      <th>0</th>\n",
       "      <th>1</th>\n",
       "      <th>2</th>\n",
       "      <th>3</th>\n",
       "      <th>4</th>\n",
       "      <th>5</th>\n",
       "      <th>6</th>\n",
       "      <th>7</th>\n",
       "      <th>8</th>\n",
       "      <th>9</th>\n",
       "      <th>...</th>\n",
       "      <th>507</th>\n",
       "      <th>508</th>\n",
       "      <th>509</th>\n",
       "      <th>510</th>\n",
       "      <th>511</th>\n",
       "      <th>gn</th>\n",
       "      <th>gender</th>\n",
       "      <th>lemme</th>\n",
       "      <th>cgram</th>\n",
       "      <th>freq</th>\n",
       "    </tr>\n",
       "  </thead>\n",
       "  <tbody>\n",
       "    <tr>\n",
       "      <th>accident</th>\n",
       "      <td>4.179721</td>\n",
       "      <td>2.913542</td>\n",
       "      <td>1.124980</td>\n",
       "      <td>2.269820</td>\n",
       "      <td>0.573966</td>\n",
       "      <td>-3.254911</td>\n",
       "      <td>-2.611606</td>\n",
       "      <td>-1.138910</td>\n",
       "      <td>5.944216</td>\n",
       "      <td>-1.380369</td>\n",
       "      <td>...</td>\n",
       "      <td>-4.042934</td>\n",
       "      <td>-4.985970</td>\n",
       "      <td>-4.890944</td>\n",
       "      <td>5.891779</td>\n",
       "      <td>-3.223269</td>\n",
       "      <td>singular</td>\n",
       "      <td>masculine</td>\n",
       "      <td>accident</td>\n",
       "      <td>NOM</td>\n",
       "      <td>100.11</td>\n",
       "    </tr>\n",
       "    <tr>\n",
       "      <th>accord</th>\n",
       "      <td>-0.732188</td>\n",
       "      <td>-2.024965</td>\n",
       "      <td>1.674970</td>\n",
       "      <td>-4.194049</td>\n",
       "      <td>-2.528312</td>\n",
       "      <td>-2.400746</td>\n",
       "      <td>-4.672920</td>\n",
       "      <td>0.374903</td>\n",
       "      <td>6.015941</td>\n",
       "      <td>-0.066068</td>\n",
       "      <td>...</td>\n",
       "      <td>-1.511964</td>\n",
       "      <td>-3.012614</td>\n",
       "      <td>-2.688764</td>\n",
       "      <td>-5.424189</td>\n",
       "      <td>-6.660925</td>\n",
       "      <td>singular</td>\n",
       "      <td>masculine</td>\n",
       "      <td>accord</td>\n",
       "      <td>NOM</td>\n",
       "      <td>761.77</td>\n",
       "    </tr>\n",
       "    <tr>\n",
       "      <th>acte</th>\n",
       "      <td>5.714411</td>\n",
       "      <td>-3.455246</td>\n",
       "      <td>1.156246</td>\n",
       "      <td>0.894613</td>\n",
       "      <td>-2.072708</td>\n",
       "      <td>1.619847</td>\n",
       "      <td>-2.930497</td>\n",
       "      <td>-1.164060</td>\n",
       "      <td>1.456195</td>\n",
       "      <td>-3.298590</td>\n",
       "      <td>...</td>\n",
       "      <td>-3.608866</td>\n",
       "      <td>-1.903922</td>\n",
       "      <td>-1.031769</td>\n",
       "      <td>1.625798</td>\n",
       "      <td>-3.859723</td>\n",
       "      <td>singular</td>\n",
       "      <td>masculine</td>\n",
       "      <td>acte</td>\n",
       "      <td>NOM</td>\n",
       "      <td>39.19</td>\n",
       "    </tr>\n",
       "    <tr>\n",
       "      <th>acteur</th>\n",
       "      <td>0.352020</td>\n",
       "      <td>-1.348012</td>\n",
       "      <td>1.954639</td>\n",
       "      <td>3.082513</td>\n",
       "      <td>1.412622</td>\n",
       "      <td>-1.367935</td>\n",
       "      <td>-0.166175</td>\n",
       "      <td>4.955209</td>\n",
       "      <td>-0.182568</td>\n",
       "      <td>0.906105</td>\n",
       "      <td>...</td>\n",
       "      <td>-3.709120</td>\n",
       "      <td>-2.108225</td>\n",
       "      <td>-4.099033</td>\n",
       "      <td>2.540972</td>\n",
       "      <td>-4.782788</td>\n",
       "      <td>singular</td>\n",
       "      <td>masculine</td>\n",
       "      <td>acteur</td>\n",
       "      <td>NOM</td>\n",
       "      <td>30.51</td>\n",
       "    </tr>\n",
       "    <tr>\n",
       "      <th>action</th>\n",
       "      <td>1.376720</td>\n",
       "      <td>-3.602622</td>\n",
       "      <td>0.270682</td>\n",
       "      <td>-7.004842</td>\n",
       "      <td>1.199668</td>\n",
       "      <td>-0.341319</td>\n",
       "      <td>3.974475</td>\n",
       "      <td>-0.292309</td>\n",
       "      <td>2.597899</td>\n",
       "      <td>1.607074</td>\n",
       "      <td>...</td>\n",
       "      <td>-3.168099</td>\n",
       "      <td>-2.357484</td>\n",
       "      <td>-0.797240</td>\n",
       "      <td>3.015040</td>\n",
       "      <td>0.167511</td>\n",
       "      <td>singular</td>\n",
       "      <td>feminine</td>\n",
       "      <td>action</td>\n",
       "      <td>NOM</td>\n",
       "      <td>49.97</td>\n",
       "    </tr>\n",
       "    <tr>\n",
       "      <th>...</th>\n",
       "      <td>...</td>\n",
       "      <td>...</td>\n",
       "      <td>...</td>\n",
       "      <td>...</td>\n",
       "      <td>...</td>\n",
       "      <td>...</td>\n",
       "      <td>...</td>\n",
       "      <td>...</td>\n",
       "      <td>...</td>\n",
       "      <td>...</td>\n",
       "      <td>...</td>\n",
       "      <td>...</td>\n",
       "      <td>...</td>\n",
       "      <td>...</td>\n",
       "      <td>...</td>\n",
       "      <td>...</td>\n",
       "      <td>...</td>\n",
       "      <td>...</td>\n",
       "      <td>...</td>\n",
       "      <td>...</td>\n",
       "      <td>...</td>\n",
       "    </tr>\n",
       "    <tr>\n",
       "      <th>étranger</th>\n",
       "      <td>1.755132</td>\n",
       "      <td>-5.339793</td>\n",
       "      <td>4.949425</td>\n",
       "      <td>-0.750269</td>\n",
       "      <td>-1.188016</td>\n",
       "      <td>-3.270611</td>\n",
       "      <td>-1.557013</td>\n",
       "      <td>0.745830</td>\n",
       "      <td>0.990242</td>\n",
       "      <td>-4.882980</td>\n",
       "      <td>...</td>\n",
       "      <td>-5.411729</td>\n",
       "      <td>-4.134318</td>\n",
       "      <td>-4.179949</td>\n",
       "      <td>2.748512</td>\n",
       "      <td>-2.673116</td>\n",
       "      <td>singular</td>\n",
       "      <td>masculine</td>\n",
       "      <td>étranger</td>\n",
       "      <td>NOM</td>\n",
       "      <td>35.72</td>\n",
       "    </tr>\n",
       "    <tr>\n",
       "      <th>études</th>\n",
       "      <td>3.155492</td>\n",
       "      <td>-0.104454</td>\n",
       "      <td>6.523874</td>\n",
       "      <td>-1.430581</td>\n",
       "      <td>-6.250263</td>\n",
       "      <td>-8.157872</td>\n",
       "      <td>-2.711711</td>\n",
       "      <td>-0.706295</td>\n",
       "      <td>-1.090734</td>\n",
       "      <td>-4.388298</td>\n",
       "      <td>...</td>\n",
       "      <td>-0.157389</td>\n",
       "      <td>-3.474527</td>\n",
       "      <td>-5.923344</td>\n",
       "      <td>5.456683</td>\n",
       "      <td>-5.749627</td>\n",
       "      <td>plural</td>\n",
       "      <td>feminine</td>\n",
       "      <td>étude</td>\n",
       "      <td>NOM</td>\n",
       "      <td>32.87</td>\n",
       "    </tr>\n",
       "    <tr>\n",
       "      <th>été</th>\n",
       "      <td>3.416338</td>\n",
       "      <td>-0.773585</td>\n",
       "      <td>1.706465</td>\n",
       "      <td>-0.731093</td>\n",
       "      <td>-2.286620</td>\n",
       "      <td>-4.172235</td>\n",
       "      <td>0.249760</td>\n",
       "      <td>2.382637</td>\n",
       "      <td>-0.532811</td>\n",
       "      <td>-1.754951</td>\n",
       "      <td>...</td>\n",
       "      <td>-7.156822</td>\n",
       "      <td>-2.926212</td>\n",
       "      <td>-7.060628</td>\n",
       "      <td>4.555850</td>\n",
       "      <td>-4.830541</td>\n",
       "      <td>singular</td>\n",
       "      <td>masculine</td>\n",
       "      <td>été</td>\n",
       "      <td>NOM</td>\n",
       "      <td>61.80</td>\n",
       "    </tr>\n",
       "    <tr>\n",
       "      <th>être</th>\n",
       "      <td>0.166950</td>\n",
       "      <td>-1.121742</td>\n",
       "      <td>3.855680</td>\n",
       "      <td>0.846314</td>\n",
       "      <td>-3.065409</td>\n",
       "      <td>0.577782</td>\n",
       "      <td>1.696410</td>\n",
       "      <td>0.962429</td>\n",
       "      <td>1.131322</td>\n",
       "      <td>-5.577701</td>\n",
       "      <td>...</td>\n",
       "      <td>-4.168539</td>\n",
       "      <td>-1.392100</td>\n",
       "      <td>-5.050613</td>\n",
       "      <td>1.669239</td>\n",
       "      <td>-4.337866</td>\n",
       "      <td>singular</td>\n",
       "      <td>masculine</td>\n",
       "      <td>être</td>\n",
       "      <td>NOM</td>\n",
       "      <td>78.78</td>\n",
       "    </tr>\n",
       "    <tr>\n",
       "      <th>île</th>\n",
       "      <td>-0.489183</td>\n",
       "      <td>-3.752668</td>\n",
       "      <td>-2.676017</td>\n",
       "      <td>4.677486</td>\n",
       "      <td>1.093927</td>\n",
       "      <td>-5.670148</td>\n",
       "      <td>-0.456426</td>\n",
       "      <td>2.867334</td>\n",
       "      <td>2.531248</td>\n",
       "      <td>-2.738322</td>\n",
       "      <td>...</td>\n",
       "      <td>-4.173942</td>\n",
       "      <td>-3.766897</td>\n",
       "      <td>-7.543975</td>\n",
       "      <td>-2.131077</td>\n",
       "      <td>-4.665631</td>\n",
       "      <td>singular</td>\n",
       "      <td>feminine</td>\n",
       "      <td>île</td>\n",
       "      <td>NOM</td>\n",
       "      <td>50.20</td>\n",
       "    </tr>\n",
       "  </tbody>\n",
       "</table>\n",
       "<p>873 rows × 517 columns</p>\n",
       "</div>"
      ],
      "text/plain": [
       "                 0         1         2         3         4         5  \\\n",
       "accident  4.179721  2.913542  1.124980  2.269820  0.573966 -3.254911   \n",
       "accord   -0.732188 -2.024965  1.674970 -4.194049 -2.528312 -2.400746   \n",
       "acte      5.714411 -3.455246  1.156246  0.894613 -2.072708  1.619847   \n",
       "acteur    0.352020 -1.348012  1.954639  3.082513  1.412622 -1.367935   \n",
       "action    1.376720 -3.602622  0.270682 -7.004842  1.199668 -0.341319   \n",
       "...            ...       ...       ...       ...       ...       ...   \n",
       "étranger  1.755132 -5.339793  4.949425 -0.750269 -1.188016 -3.270611   \n",
       "études    3.155492 -0.104454  6.523874 -1.430581 -6.250263 -8.157872   \n",
       "été       3.416338 -0.773585  1.706465 -0.731093 -2.286620 -4.172235   \n",
       "être      0.166950 -1.121742  3.855680  0.846314 -3.065409  0.577782   \n",
       "île      -0.489183 -3.752668 -2.676017  4.677486  1.093927 -5.670148   \n",
       "\n",
       "                 6         7         8         9  ...       507       508  \\\n",
       "accident -2.611606 -1.138910  5.944216 -1.380369  ... -4.042934 -4.985970   \n",
       "accord   -4.672920  0.374903  6.015941 -0.066068  ... -1.511964 -3.012614   \n",
       "acte     -2.930497 -1.164060  1.456195 -3.298590  ... -3.608866 -1.903922   \n",
       "acteur   -0.166175  4.955209 -0.182568  0.906105  ... -3.709120 -2.108225   \n",
       "action    3.974475 -0.292309  2.597899  1.607074  ... -3.168099 -2.357484   \n",
       "...            ...       ...       ...       ...  ...       ...       ...   \n",
       "étranger -1.557013  0.745830  0.990242 -4.882980  ... -5.411729 -4.134318   \n",
       "études   -2.711711 -0.706295 -1.090734 -4.388298  ... -0.157389 -3.474527   \n",
       "été       0.249760  2.382637 -0.532811 -1.754951  ... -7.156822 -2.926212   \n",
       "être      1.696410  0.962429  1.131322 -5.577701  ... -4.168539 -1.392100   \n",
       "île      -0.456426  2.867334  2.531248 -2.738322  ... -4.173942 -3.766897   \n",
       "\n",
       "               509       510       511        gn     gender     lemme  cgram  \\\n",
       "accident -4.890944  5.891779 -3.223269  singular  masculine  accident    NOM   \n",
       "accord   -2.688764 -5.424189 -6.660925  singular  masculine    accord    NOM   \n",
       "acte     -1.031769  1.625798 -3.859723  singular  masculine      acte    NOM   \n",
       "acteur   -4.099033  2.540972 -4.782788  singular  masculine    acteur    NOM   \n",
       "action   -0.797240  3.015040  0.167511  singular   feminine    action    NOM   \n",
       "...            ...       ...       ...       ...        ...       ...    ...   \n",
       "étranger -4.179949  2.748512 -2.673116  singular  masculine  étranger    NOM   \n",
       "études   -5.923344  5.456683 -5.749627    plural   feminine     étude    NOM   \n",
       "été      -7.060628  4.555850 -4.830541  singular  masculine       été    NOM   \n",
       "être     -5.050613  1.669239 -4.337866  singular  masculine      être    NOM   \n",
       "île      -7.543975 -2.131077 -4.665631  singular   feminine       île    NOM   \n",
       "\n",
       "            freq  \n",
       "accident  100.11  \n",
       "accord    761.77  \n",
       "acte       39.19  \n",
       "acteur     30.51  \n",
       "action     49.97  \n",
       "...          ...  \n",
       "étranger   35.72  \n",
       "études     32.87  \n",
       "été        61.80  \n",
       "être       78.78  \n",
       "île        50.20  \n",
       "\n",
       "[873 rows x 517 columns]"
      ]
     },
     "execution_count": 5,
     "metadata": {},
     "output_type": "execute_result"
    }
   ],
   "source": [
    "freq_n_we = all_n_we.merge(top_freq_n, left_index=True, right_index=True)\n",
    "freq_n_we"
   ]
  },
  {
   "cell_type": "markdown",
   "metadata": {},
   "source": [
    "We can also create a dataframe with WE of all available nouns and their frequencies, having approximately 11K nouns WE available:"
   ]
  },
  {
   "cell_type": "code",
   "execution_count": 6,
   "metadata": {},
   "outputs": [
    {
     "data": {
      "text/html": [
       "<div>\n",
       "<style scoped>\n",
       "    .dataframe tbody tr th:only-of-type {\n",
       "        vertical-align: middle;\n",
       "    }\n",
       "\n",
       "    .dataframe tbody tr th {\n",
       "        vertical-align: top;\n",
       "    }\n",
       "\n",
       "    .dataframe thead th {\n",
       "        text-align: right;\n",
       "    }\n",
       "</style>\n",
       "<table border=\"1\" class=\"dataframe\">\n",
       "  <thead>\n",
       "    <tr style=\"text-align: right;\">\n",
       "      <th></th>\n",
       "      <th>0</th>\n",
       "      <th>1</th>\n",
       "      <th>2</th>\n",
       "      <th>3</th>\n",
       "      <th>4</th>\n",
       "      <th>5</th>\n",
       "      <th>6</th>\n",
       "      <th>7</th>\n",
       "      <th>8</th>\n",
       "      <th>9</th>\n",
       "      <th>...</th>\n",
       "      <th>507</th>\n",
       "      <th>508</th>\n",
       "      <th>509</th>\n",
       "      <th>510</th>\n",
       "      <th>511</th>\n",
       "      <th>gn</th>\n",
       "      <th>gender</th>\n",
       "      <th>lemme</th>\n",
       "      <th>cgram</th>\n",
       "      <th>freq</th>\n",
       "    </tr>\n",
       "  </thead>\n",
       "  <tbody>\n",
       "    <tr>\n",
       "      <th>chose</th>\n",
       "      <td>0.657807</td>\n",
       "      <td>1.650356</td>\n",
       "      <td>2.463752</td>\n",
       "      <td>-4.890357</td>\n",
       "      <td>-0.208469</td>\n",
       "      <td>-5.273172</td>\n",
       "      <td>-2.022167</td>\n",
       "      <td>3.938069</td>\n",
       "      <td>-1.886973</td>\n",
       "      <td>0.658918</td>\n",
       "      <td>...</td>\n",
       "      <td>-3.652611</td>\n",
       "      <td>0.059850</td>\n",
       "      <td>-4.353068</td>\n",
       "      <td>-1.477708</td>\n",
       "      <td>-6.344492</td>\n",
       "      <td>singular</td>\n",
       "      <td>feminine</td>\n",
       "      <td>chose</td>\n",
       "      <td>NOM</td>\n",
       "      <td>1321.79</td>\n",
       "    </tr>\n",
       "    <tr>\n",
       "      <th>vie</th>\n",
       "      <td>0.728105</td>\n",
       "      <td>-3.619239</td>\n",
       "      <td>6.010180</td>\n",
       "      <td>-3.412671</td>\n",
       "      <td>4.317724</td>\n",
       "      <td>-2.456576</td>\n",
       "      <td>-3.586677</td>\n",
       "      <td>1.279530</td>\n",
       "      <td>0.782081</td>\n",
       "      <td>-1.396616</td>\n",
       "      <td>...</td>\n",
       "      <td>-5.433400</td>\n",
       "      <td>-2.438175</td>\n",
       "      <td>-2.297100</td>\n",
       "      <td>-0.613292</td>\n",
       "      <td>1.389376</td>\n",
       "      <td>singular</td>\n",
       "      <td>feminine</td>\n",
       "      <td>vie</td>\n",
       "      <td>NOM</td>\n",
       "      <td>986.59</td>\n",
       "    </tr>\n",
       "    <tr>\n",
       "      <th>fois</th>\n",
       "      <td>0.930591</td>\n",
       "      <td>0.391257</td>\n",
       "      <td>-0.526626</td>\n",
       "      <td>1.497111</td>\n",
       "      <td>-1.076748</td>\n",
       "      <td>2.202879</td>\n",
       "      <td>-1.588476</td>\n",
       "      <td>-0.458471</td>\n",
       "      <td>-1.804767</td>\n",
       "      <td>-0.920485</td>\n",
       "      <td>...</td>\n",
       "      <td>-4.145829</td>\n",
       "      <td>-2.843595</td>\n",
       "      <td>-0.272411</td>\n",
       "      <td>6.411278</td>\n",
       "      <td>3.698102</td>\n",
       "      <td>plural</td>\n",
       "      <td>feminine</td>\n",
       "      <td>fois</td>\n",
       "      <td>NOM</td>\n",
       "      <td>899.25</td>\n",
       "    </tr>\n",
       "    <tr>\n",
       "      <th>père</th>\n",
       "      <td>-1.093649</td>\n",
       "      <td>-2.799815</td>\n",
       "      <td>-2.701471</td>\n",
       "      <td>0.991694</td>\n",
       "      <td>-0.667527</td>\n",
       "      <td>-5.704983</td>\n",
       "      <td>-1.606111</td>\n",
       "      <td>-3.485601</td>\n",
       "      <td>-2.109801</td>\n",
       "      <td>-1.120821</td>\n",
       "      <td>...</td>\n",
       "      <td>-6.548421</td>\n",
       "      <td>-2.552399</td>\n",
       "      <td>-2.937020</td>\n",
       "      <td>-3.374631</td>\n",
       "      <td>-5.006559</td>\n",
       "      <td>singular</td>\n",
       "      <td>masculine</td>\n",
       "      <td>père</td>\n",
       "      <td>NOM</td>\n",
       "      <td>879.31</td>\n",
       "    </tr>\n",
       "    <tr>\n",
       "      <th>dieu</th>\n",
       "      <td>0.198962</td>\n",
       "      <td>-0.553110</td>\n",
       "      <td>-2.546090</td>\n",
       "      <td>-1.606250</td>\n",
       "      <td>1.540941</td>\n",
       "      <td>-1.225879</td>\n",
       "      <td>1.944866</td>\n",
       "      <td>-0.366766</td>\n",
       "      <td>1.950244</td>\n",
       "      <td>2.274500</td>\n",
       "      <td>...</td>\n",
       "      <td>-1.731649</td>\n",
       "      <td>-2.373324</td>\n",
       "      <td>-6.390708</td>\n",
       "      <td>0.005803</td>\n",
       "      <td>-5.595995</td>\n",
       "      <td>singular</td>\n",
       "      <td>masculine</td>\n",
       "      <td>dieu</td>\n",
       "      <td>NOM</td>\n",
       "      <td>852.91</td>\n",
       "    </tr>\n",
       "    <tr>\n",
       "      <th>...</th>\n",
       "      <td>...</td>\n",
       "      <td>...</td>\n",
       "      <td>...</td>\n",
       "      <td>...</td>\n",
       "      <td>...</td>\n",
       "      <td>...</td>\n",
       "      <td>...</td>\n",
       "      <td>...</td>\n",
       "      <td>...</td>\n",
       "      <td>...</td>\n",
       "      <td>...</td>\n",
       "      <td>...</td>\n",
       "      <td>...</td>\n",
       "      <td>...</td>\n",
       "      <td>...</td>\n",
       "      <td>...</td>\n",
       "      <td>...</td>\n",
       "      <td>...</td>\n",
       "      <td>...</td>\n",
       "      <td>...</td>\n",
       "      <td>...</td>\n",
       "    </tr>\n",
       "    <tr>\n",
       "      <th>défavorisées</th>\n",
       "      <td>1.599458</td>\n",
       "      <td>-3.923379</td>\n",
       "      <td>3.842575</td>\n",
       "      <td>-1.052597</td>\n",
       "      <td>0.633553</td>\n",
       "      <td>-8.441103</td>\n",
       "      <td>1.014194</td>\n",
       "      <td>0.848815</td>\n",
       "      <td>-2.449038</td>\n",
       "      <td>-0.484702</td>\n",
       "      <td>...</td>\n",
       "      <td>-0.629580</td>\n",
       "      <td>-5.877977</td>\n",
       "      <td>-3.009192</td>\n",
       "      <td>-3.048039</td>\n",
       "      <td>0.089558</td>\n",
       "      <td>plural</td>\n",
       "      <td>feminine</td>\n",
       "      <td>défavorisé</td>\n",
       "      <td>NOM</td>\n",
       "      <td>0.00</td>\n",
       "    </tr>\n",
       "    <tr>\n",
       "      <th>lance</th>\n",
       "      <td>-0.239040</td>\n",
       "      <td>-1.693607</td>\n",
       "      <td>-2.678664</td>\n",
       "      <td>-5.860327</td>\n",
       "      <td>-1.227262</td>\n",
       "      <td>-1.246115</td>\n",
       "      <td>-5.117473</td>\n",
       "      <td>-3.049661</td>\n",
       "      <td>0.943785</td>\n",
       "      <td>0.524130</td>\n",
       "      <td>...</td>\n",
       "      <td>-3.786868</td>\n",
       "      <td>-5.013051</td>\n",
       "      <td>-6.991479</td>\n",
       "      <td>4.569996</td>\n",
       "      <td>-3.260848</td>\n",
       "      <td>singular</td>\n",
       "      <td>feminine</td>\n",
       "      <td>lanc</td>\n",
       "      <td>NOM</td>\n",
       "      <td>0.00</td>\n",
       "    </tr>\n",
       "    <tr>\n",
       "      <th>bâtis</th>\n",
       "      <td>9.313480</td>\n",
       "      <td>-4.772968</td>\n",
       "      <td>6.019509</td>\n",
       "      <td>-2.576473</td>\n",
       "      <td>2.456576</td>\n",
       "      <td>-1.731474</td>\n",
       "      <td>-6.341152</td>\n",
       "      <td>0.467244</td>\n",
       "      <td>-1.607576</td>\n",
       "      <td>2.052232</td>\n",
       "      <td>...</td>\n",
       "      <td>-0.862896</td>\n",
       "      <td>-4.340229</td>\n",
       "      <td>-0.018278</td>\n",
       "      <td>-2.536395</td>\n",
       "      <td>-5.089347</td>\n",
       "      <td>plural</td>\n",
       "      <td>masculine</td>\n",
       "      <td>bâti</td>\n",
       "      <td>NOM</td>\n",
       "      <td>0.00</td>\n",
       "    </tr>\n",
       "    <tr>\n",
       "      <th>lances</th>\n",
       "      <td>2.881022</td>\n",
       "      <td>-2.414575</td>\n",
       "      <td>-3.748237</td>\n",
       "      <td>-6.600061</td>\n",
       "      <td>1.730830</td>\n",
       "      <td>-2.279229</td>\n",
       "      <td>-0.611839</td>\n",
       "      <td>-3.858584</td>\n",
       "      <td>-0.699605</td>\n",
       "      <td>-0.986922</td>\n",
       "      <td>...</td>\n",
       "      <td>-2.180174</td>\n",
       "      <td>-5.366874</td>\n",
       "      <td>-3.419672</td>\n",
       "      <td>2.270778</td>\n",
       "      <td>-4.464878</td>\n",
       "      <td>plural</td>\n",
       "      <td>feminine</td>\n",
       "      <td>lanc</td>\n",
       "      <td>NOM</td>\n",
       "      <td>0.00</td>\n",
       "    </tr>\n",
       "    <tr>\n",
       "      <th>péréquation</th>\n",
       "      <td>0.588526</td>\n",
       "      <td>-2.750888</td>\n",
       "      <td>-2.495686</td>\n",
       "      <td>-2.007012</td>\n",
       "      <td>5.947705</td>\n",
       "      <td>-0.315571</td>\n",
       "      <td>-3.627481</td>\n",
       "      <td>-3.997367</td>\n",
       "      <td>2.160858</td>\n",
       "      <td>3.995887</td>\n",
       "      <td>...</td>\n",
       "      <td>-0.604333</td>\n",
       "      <td>-6.744330</td>\n",
       "      <td>-2.854143</td>\n",
       "      <td>-2.055862</td>\n",
       "      <td>-6.547398</td>\n",
       "      <td>singular</td>\n",
       "      <td>feminine</td>\n",
       "      <td>péréquation</td>\n",
       "      <td>NOM</td>\n",
       "      <td>0.00</td>\n",
       "    </tr>\n",
       "  </tbody>\n",
       "</table>\n",
       "<p>11395 rows × 517 columns</p>\n",
       "</div>"
      ],
      "text/plain": [
       "                     0         1         2         3         4         5  \\\n",
       "chose         0.657807  1.650356  2.463752 -4.890357 -0.208469 -5.273172   \n",
       "vie           0.728105 -3.619239  6.010180 -3.412671  4.317724 -2.456576   \n",
       "fois          0.930591  0.391257 -0.526626  1.497111 -1.076748  2.202879   \n",
       "père         -1.093649 -2.799815 -2.701471  0.991694 -0.667527 -5.704983   \n",
       "dieu          0.198962 -0.553110 -2.546090 -1.606250  1.540941 -1.225879   \n",
       "...                ...       ...       ...       ...       ...       ...   \n",
       "défavorisées  1.599458 -3.923379  3.842575 -1.052597  0.633553 -8.441103   \n",
       "lance        -0.239040 -1.693607 -2.678664 -5.860327 -1.227262 -1.246115   \n",
       "bâtis         9.313480 -4.772968  6.019509 -2.576473  2.456576 -1.731474   \n",
       "lances        2.881022 -2.414575 -3.748237 -6.600061  1.730830 -2.279229   \n",
       "péréquation   0.588526 -2.750888 -2.495686 -2.007012  5.947705 -0.315571   \n",
       "\n",
       "                     6         7         8         9  ...       507       508  \\\n",
       "chose        -2.022167  3.938069 -1.886973  0.658918  ... -3.652611  0.059850   \n",
       "vie          -3.586677  1.279530  0.782081 -1.396616  ... -5.433400 -2.438175   \n",
       "fois         -1.588476 -0.458471 -1.804767 -0.920485  ... -4.145829 -2.843595   \n",
       "père         -1.606111 -3.485601 -2.109801 -1.120821  ... -6.548421 -2.552399   \n",
       "dieu          1.944866 -0.366766  1.950244  2.274500  ... -1.731649 -2.373324   \n",
       "...                ...       ...       ...       ...  ...       ...       ...   \n",
       "défavorisées  1.014194  0.848815 -2.449038 -0.484702  ... -0.629580 -5.877977   \n",
       "lance        -5.117473 -3.049661  0.943785  0.524130  ... -3.786868 -5.013051   \n",
       "bâtis        -6.341152  0.467244 -1.607576  2.052232  ... -0.862896 -4.340229   \n",
       "lances       -0.611839 -3.858584 -0.699605 -0.986922  ... -2.180174 -5.366874   \n",
       "péréquation  -3.627481 -3.997367  2.160858  3.995887  ... -0.604333 -6.744330   \n",
       "\n",
       "                   509       510       511        gn     gender        lemme  \\\n",
       "chose        -4.353068 -1.477708 -6.344492  singular   feminine        chose   \n",
       "vie          -2.297100 -0.613292  1.389376  singular   feminine          vie   \n",
       "fois         -0.272411  6.411278  3.698102    plural   feminine         fois   \n",
       "père         -2.937020 -3.374631 -5.006559  singular  masculine         père   \n",
       "dieu         -6.390708  0.005803 -5.595995  singular  masculine         dieu   \n",
       "...                ...       ...       ...       ...        ...          ...   \n",
       "défavorisées -3.009192 -3.048039  0.089558    plural   feminine   défavorisé   \n",
       "lance        -6.991479  4.569996 -3.260848  singular   feminine         lanc   \n",
       "bâtis        -0.018278 -2.536395 -5.089347    plural  masculine         bâti   \n",
       "lances       -3.419672  2.270778 -4.464878    plural   feminine         lanc   \n",
       "péréquation  -2.854143 -2.055862 -6.547398  singular   feminine  péréquation   \n",
       "\n",
       "              cgram     freq  \n",
       "chose           NOM  1321.79  \n",
       "vie             NOM   986.59  \n",
       "fois            NOM   899.25  \n",
       "père            NOM   879.31  \n",
       "dieu            NOM   852.91  \n",
       "...             ...      ...  \n",
       "défavorisées    NOM     0.00  \n",
       "lance           NOM     0.00  \n",
       "bâtis           NOM     0.00  \n",
       "lances          NOM     0.00  \n",
       "péréquation     NOM     0.00  \n",
       "\n",
       "[11395 rows x 517 columns]"
      ]
     },
     "execution_count": 6,
     "metadata": {},
     "output_type": "execute_result"
    }
   ],
   "source": [
    "all_nouns_with_freq = pd.read_csv('Most Frequent Words/freq_NOUN.csv', index_col='Word')\n",
    "all_n_we_with_freq = all_n_we.merge(all_nouns_with_freq, left_index=True, right_index=True).sort_values(by='freq', ascending=False)\n",
    "all_n_we_with_freq"
   ]
  },
  {
   "cell_type": "markdown",
   "metadata": {},
   "source": [
    "# Frequency dimension"
   ]
  },
  {
   "cell_type": "markdown",
   "metadata": {},
   "source": [
    "There was an assumption that dimensions 371 and 52 can be correlated to frequency. We can look at the correlations of these dimensions with `freqlemlivres`:"
   ]
  },
  {
   "cell_type": "code",
   "execution_count": 7,
   "metadata": {},
   "outputs": [
    {
     "data": {
      "text/html": [
       "<div>\n",
       "<style scoped>\n",
       "    .dataframe tbody tr th:only-of-type {\n",
       "        vertical-align: middle;\n",
       "    }\n",
       "\n",
       "    .dataframe tbody tr th {\n",
       "        vertical-align: top;\n",
       "    }\n",
       "\n",
       "    .dataframe thead th {\n",
       "        text-align: right;\n",
       "    }\n",
       "</style>\n",
       "<table border=\"1\" class=\"dataframe\">\n",
       "  <thead>\n",
       "    <tr style=\"text-align: right;\">\n",
       "      <th></th>\n",
       "      <th>52</th>\n",
       "      <th>371</th>\n",
       "      <th>freq</th>\n",
       "    </tr>\n",
       "  </thead>\n",
       "  <tbody>\n",
       "    <tr>\n",
       "      <th>52</th>\n",
       "      <td>1.000000</td>\n",
       "      <td>-0.678549</td>\n",
       "      <td>-0.066334</td>\n",
       "    </tr>\n",
       "    <tr>\n",
       "      <th>371</th>\n",
       "      <td>-0.678549</td>\n",
       "      <td>1.000000</td>\n",
       "      <td>0.070446</td>\n",
       "    </tr>\n",
       "    <tr>\n",
       "      <th>freq</th>\n",
       "      <td>-0.066334</td>\n",
       "      <td>0.070446</td>\n",
       "      <td>1.000000</td>\n",
       "    </tr>\n",
       "  </tbody>\n",
       "</table>\n",
       "</div>"
      ],
      "text/plain": [
       "            52       371      freq\n",
       "52    1.000000 -0.678549 -0.066334\n",
       "371  -0.678549  1.000000  0.070446\n",
       "freq -0.066334  0.070446  1.000000"
      ]
     },
     "execution_count": 7,
     "metadata": {},
     "output_type": "execute_result"
    }
   ],
   "source": [
    "all_n_we_with_freq.loc[:, [ '52', '371', 'freq']].corr()"
   ]
  },
  {
   "cell_type": "markdown",
   "metadata": {},
   "source": [
    "The correlation between the dimension values and the frequency values is not strong. We can try to find a dimension with the strongest correlation with the values of the frequency column."
   ]
  },
  {
   "cell_type": "code",
   "execution_count": 8,
   "metadata": {},
   "outputs": [
    {
     "data": {
      "text/html": [
       "<div>\n",
       "<style scoped>\n",
       "    .dataframe tbody tr th:only-of-type {\n",
       "        vertical-align: middle;\n",
       "    }\n",
       "\n",
       "    .dataframe tbody tr th {\n",
       "        vertical-align: top;\n",
       "    }\n",
       "\n",
       "    .dataframe thead th {\n",
       "        text-align: right;\n",
       "    }\n",
       "</style>\n",
       "<table border=\"1\" class=\"dataframe\">\n",
       "  <thead>\n",
       "    <tr style=\"text-align: right;\">\n",
       "      <th></th>\n",
       "      <th>corr_with_freq</th>\n",
       "      <th>sign</th>\n",
       "      <th>abs</th>\n",
       "    </tr>\n",
       "  </thead>\n",
       "  <tbody>\n",
       "    <tr>\n",
       "      <th>0</th>\n",
       "      <td>-0.057659</td>\n",
       "      <td>-1.0</td>\n",
       "      <td>0.057659</td>\n",
       "    </tr>\n",
       "    <tr>\n",
       "      <th>1</th>\n",
       "      <td>0.032799</td>\n",
       "      <td>1.0</td>\n",
       "      <td>0.032799</td>\n",
       "    </tr>\n",
       "    <tr>\n",
       "      <th>2</th>\n",
       "      <td>-0.010318</td>\n",
       "      <td>-1.0</td>\n",
       "      <td>0.010318</td>\n",
       "    </tr>\n",
       "    <tr>\n",
       "      <th>3</th>\n",
       "      <td>-0.085961</td>\n",
       "      <td>-1.0</td>\n",
       "      <td>0.085961</td>\n",
       "    </tr>\n",
       "    <tr>\n",
       "      <th>4</th>\n",
       "      <td>-0.035817</td>\n",
       "      <td>-1.0</td>\n",
       "      <td>0.035817</td>\n",
       "    </tr>\n",
       "    <tr>\n",
       "      <th>...</th>\n",
       "      <td>...</td>\n",
       "      <td>...</td>\n",
       "      <td>...</td>\n",
       "    </tr>\n",
       "    <tr>\n",
       "      <th>507</th>\n",
       "      <td>-0.108719</td>\n",
       "      <td>-1.0</td>\n",
       "      <td>0.108719</td>\n",
       "    </tr>\n",
       "    <tr>\n",
       "      <th>508</th>\n",
       "      <td>0.024339</td>\n",
       "      <td>1.0</td>\n",
       "      <td>0.024339</td>\n",
       "    </tr>\n",
       "    <tr>\n",
       "      <th>509</th>\n",
       "      <td>-0.039353</td>\n",
       "      <td>-1.0</td>\n",
       "      <td>0.039353</td>\n",
       "    </tr>\n",
       "    <tr>\n",
       "      <th>510</th>\n",
       "      <td>0.013600</td>\n",
       "      <td>1.0</td>\n",
       "      <td>0.013600</td>\n",
       "    </tr>\n",
       "    <tr>\n",
       "      <th>511</th>\n",
       "      <td>-0.027900</td>\n",
       "      <td>-1.0</td>\n",
       "      <td>0.027900</td>\n",
       "    </tr>\n",
       "  </tbody>\n",
       "</table>\n",
       "<p>512 rows × 3 columns</p>\n",
       "</div>"
      ],
      "text/plain": [
       "     corr_with_freq  sign       abs\n",
       "0         -0.057659  -1.0  0.057659\n",
       "1          0.032799   1.0  0.032799\n",
       "2         -0.010318  -1.0  0.010318\n",
       "3         -0.085961  -1.0  0.085961\n",
       "4         -0.035817  -1.0  0.035817\n",
       "..              ...   ...       ...\n",
       "507       -0.108719  -1.0  0.108719\n",
       "508        0.024339   1.0  0.024339\n",
       "509       -0.039353  -1.0  0.039353\n",
       "510        0.013600   1.0  0.013600\n",
       "511       -0.027900  -1.0  0.027900\n",
       "\n",
       "[512 rows x 3 columns]"
      ]
     },
     "execution_count": 8,
     "metadata": {},
     "output_type": "execute_result"
    }
   ],
   "source": [
    "freq_corr_df = pd.DataFrame(columns=['corr_with_freq'])\n",
    "freq_list = []\n",
    "\n",
    "# Go through dimensions from 0 to 511\n",
    "for i in range(512):\n",
    "    # Find the correlation of the current column with \"freqlemlivres\" and add to the list\n",
    "    freq_list.append(all_n_we_with_freq.loc[:, [str(i), 'freq']].corr().iloc[0][-1])\n",
    "\n",
    "# Use the list values as \n",
    "freq_corr_df['corr_with_freq'] = freq_list\n",
    "freq_corr_df['sign'] = np.sign(freq_corr_df['corr_with_freq'])\n",
    "freq_corr_df['abs'] = abs(freq_corr_df['corr_with_freq'])\n",
    "freq_corr_df"
   ]
  },
  {
   "cell_type": "code",
   "execution_count": 9,
   "metadata": {},
   "outputs": [
    {
     "data": {
      "text/html": [
       "<div>\n",
       "<style scoped>\n",
       "    .dataframe tbody tr th:only-of-type {\n",
       "        vertical-align: middle;\n",
       "    }\n",
       "\n",
       "    .dataframe tbody tr th {\n",
       "        vertical-align: top;\n",
       "    }\n",
       "\n",
       "    .dataframe thead th {\n",
       "        text-align: right;\n",
       "    }\n",
       "</style>\n",
       "<table border=\"1\" class=\"dataframe\">\n",
       "  <thead>\n",
       "    <tr style=\"text-align: right;\">\n",
       "      <th></th>\n",
       "      <th>corr_with_freq</th>\n",
       "      <th>sign</th>\n",
       "      <th>abs</th>\n",
       "    </tr>\n",
       "  </thead>\n",
       "  <tbody>\n",
       "    <tr>\n",
       "      <th>19</th>\n",
       "      <td>-0.083655</td>\n",
       "      <td>-1.0</td>\n",
       "      <td>0.083655</td>\n",
       "    </tr>\n",
       "    <tr>\n",
       "      <th>137</th>\n",
       "      <td>0.084678</td>\n",
       "      <td>1.0</td>\n",
       "      <td>0.084678</td>\n",
       "    </tr>\n",
       "    <tr>\n",
       "      <th>324</th>\n",
       "      <td>-0.085517</td>\n",
       "      <td>-1.0</td>\n",
       "      <td>0.085517</td>\n",
       "    </tr>\n",
       "    <tr>\n",
       "      <th>143</th>\n",
       "      <td>-0.085761</td>\n",
       "      <td>-1.0</td>\n",
       "      <td>0.085761</td>\n",
       "    </tr>\n",
       "    <tr>\n",
       "      <th>3</th>\n",
       "      <td>-0.085961</td>\n",
       "      <td>-1.0</td>\n",
       "      <td>0.085961</td>\n",
       "    </tr>\n",
       "    <tr>\n",
       "      <th>338</th>\n",
       "      <td>-0.087752</td>\n",
       "      <td>-1.0</td>\n",
       "      <td>0.087752</td>\n",
       "    </tr>\n",
       "    <tr>\n",
       "      <th>227</th>\n",
       "      <td>-0.088017</td>\n",
       "      <td>-1.0</td>\n",
       "      <td>0.088017</td>\n",
       "    </tr>\n",
       "    <tr>\n",
       "      <th>487</th>\n",
       "      <td>-0.088570</td>\n",
       "      <td>-1.0</td>\n",
       "      <td>0.088570</td>\n",
       "    </tr>\n",
       "    <tr>\n",
       "      <th>286</th>\n",
       "      <td>-0.090134</td>\n",
       "      <td>-1.0</td>\n",
       "      <td>0.090134</td>\n",
       "    </tr>\n",
       "    <tr>\n",
       "      <th>436</th>\n",
       "      <td>-0.090317</td>\n",
       "      <td>-1.0</td>\n",
       "      <td>0.090317</td>\n",
       "    </tr>\n",
       "    <tr>\n",
       "      <th>117</th>\n",
       "      <td>-0.091421</td>\n",
       "      <td>-1.0</td>\n",
       "      <td>0.091421</td>\n",
       "    </tr>\n",
       "    <tr>\n",
       "      <th>486</th>\n",
       "      <td>-0.093502</td>\n",
       "      <td>-1.0</td>\n",
       "      <td>0.093502</td>\n",
       "    </tr>\n",
       "    <tr>\n",
       "      <th>305</th>\n",
       "      <td>-0.094202</td>\n",
       "      <td>-1.0</td>\n",
       "      <td>0.094202</td>\n",
       "    </tr>\n",
       "    <tr>\n",
       "      <th>50</th>\n",
       "      <td>-0.096379</td>\n",
       "      <td>-1.0</td>\n",
       "      <td>0.096379</td>\n",
       "    </tr>\n",
       "    <tr>\n",
       "      <th>407</th>\n",
       "      <td>-0.096405</td>\n",
       "      <td>-1.0</td>\n",
       "      <td>0.096405</td>\n",
       "    </tr>\n",
       "    <tr>\n",
       "      <th>314</th>\n",
       "      <td>0.101166</td>\n",
       "      <td>1.0</td>\n",
       "      <td>0.101166</td>\n",
       "    </tr>\n",
       "    <tr>\n",
       "      <th>119</th>\n",
       "      <td>-0.105550</td>\n",
       "      <td>-1.0</td>\n",
       "      <td>0.105550</td>\n",
       "    </tr>\n",
       "    <tr>\n",
       "      <th>507</th>\n",
       "      <td>-0.108719</td>\n",
       "      <td>-1.0</td>\n",
       "      <td>0.108719</td>\n",
       "    </tr>\n",
       "    <tr>\n",
       "      <th>366</th>\n",
       "      <td>-0.112734</td>\n",
       "      <td>-1.0</td>\n",
       "      <td>0.112734</td>\n",
       "    </tr>\n",
       "    <tr>\n",
       "      <th>146</th>\n",
       "      <td>-0.121700</td>\n",
       "      <td>-1.0</td>\n",
       "      <td>0.121700</td>\n",
       "    </tr>\n",
       "  </tbody>\n",
       "</table>\n",
       "</div>"
      ],
      "text/plain": [
       "     corr_with_freq  sign       abs\n",
       "19        -0.083655  -1.0  0.083655\n",
       "137        0.084678   1.0  0.084678\n",
       "324       -0.085517  -1.0  0.085517\n",
       "143       -0.085761  -1.0  0.085761\n",
       "3         -0.085961  -1.0  0.085961\n",
       "338       -0.087752  -1.0  0.087752\n",
       "227       -0.088017  -1.0  0.088017\n",
       "487       -0.088570  -1.0  0.088570\n",
       "286       -0.090134  -1.0  0.090134\n",
       "436       -0.090317  -1.0  0.090317\n",
       "117       -0.091421  -1.0  0.091421\n",
       "486       -0.093502  -1.0  0.093502\n",
       "305       -0.094202  -1.0  0.094202\n",
       "50        -0.096379  -1.0  0.096379\n",
       "407       -0.096405  -1.0  0.096405\n",
       "314        0.101166   1.0  0.101166\n",
       "119       -0.105550  -1.0  0.105550\n",
       "507       -0.108719  -1.0  0.108719\n",
       "366       -0.112734  -1.0  0.112734\n",
       "146       -0.121700  -1.0  0.121700"
      ]
     },
     "execution_count": 9,
     "metadata": {},
     "output_type": "execute_result"
    }
   ],
   "source": [
    "freq_corr_df.sort_values('abs').iloc[-20:]"
   ]
  },
  {
   "cell_type": "markdown",
   "metadata": {},
   "source": [
    "We can see that even the dimensions with highest correlation to the frequency column is very low.\n",
    "\n",
    "This experiment doesn't allow us to establish a strong correlation with frequency for any dimension."
   ]
  },
  {
   "cell_type": "markdown",
   "metadata": {},
   "source": [
    "# Dimensions with highest and lowest avg"
   ]
  },
  {
   "cell_type": "markdown",
   "metadata": {},
   "source": [
    "We can make an assumption that dimensions that have highest or lowest values can be representative of noun-ness.\n",
    "\n",
    "For the experiment with dimensions we will take the most frequent nouns which as well *can't be interpreted as verb* (as seen above, one of the most common nouns is `être` which will potentially has dimensions both representing nouns and verbs).\n",
    "\n",
    "For this we will first the list of nouns and verbs and find the nouns that are uniquely in the list of nouns."
   ]
  },
  {
   "cell_type": "code",
   "execution_count": 10,
   "metadata": {},
   "outputs": [
    {
     "data": {
      "text/html": [
       "<div>\n",
       "<style scoped>\n",
       "    .dataframe tbody tr th:only-of-type {\n",
       "        vertical-align: middle;\n",
       "    }\n",
       "\n",
       "    .dataframe tbody tr th {\n",
       "        vertical-align: top;\n",
       "    }\n",
       "\n",
       "    .dataframe thead th {\n",
       "        text-align: right;\n",
       "    }\n",
       "</style>\n",
       "<table border=\"1\" class=\"dataframe\">\n",
       "  <thead>\n",
       "    <tr style=\"text-align: right;\">\n",
       "      <th></th>\n",
       "      <th>lemme</th>\n",
       "      <th>cgram</th>\n",
       "      <th>freq</th>\n",
       "    </tr>\n",
       "    <tr>\n",
       "      <th>Word</th>\n",
       "      <th></th>\n",
       "      <th></th>\n",
       "      <th></th>\n",
       "    </tr>\n",
       "  </thead>\n",
       "  <tbody>\n",
       "    <tr>\n",
       "      <th>est</th>\n",
       "      <td>être</td>\n",
       "      <td>VER</td>\n",
       "      <td>19417.69</td>\n",
       "    </tr>\n",
       "    <tr>\n",
       "      <th>a</th>\n",
       "      <td>avoir</td>\n",
       "      <td>VER</td>\n",
       "      <td>5498.34</td>\n",
       "    </tr>\n",
       "    <tr>\n",
       "      <th>va</th>\n",
       "      <td>aller</td>\n",
       "      <td>VER</td>\n",
       "      <td>3382.55</td>\n",
       "    </tr>\n",
       "    <tr>\n",
       "      <th>fait</th>\n",
       "      <td>faire</td>\n",
       "      <td>VER</td>\n",
       "      <td>2751.99</td>\n",
       "    </tr>\n",
       "    <tr>\n",
       "      <th>faire</th>\n",
       "      <td>faire</td>\n",
       "      <td>VER</td>\n",
       "      <td>2735.96</td>\n",
       "    </tr>\n",
       "    <tr>\n",
       "      <th>...</th>\n",
       "      <td>...</td>\n",
       "      <td>...</td>\n",
       "      <td>...</td>\n",
       "    </tr>\n",
       "    <tr>\n",
       "      <th>évoquât</th>\n",
       "      <td>évoquer</td>\n",
       "      <td>VER</td>\n",
       "      <td>0.00</td>\n",
       "    </tr>\n",
       "    <tr>\n",
       "      <th>ôtai</th>\n",
       "      <td>ôter</td>\n",
       "      <td>VER</td>\n",
       "      <td>0.00</td>\n",
       "    </tr>\n",
       "    <tr>\n",
       "      <th>ôterions</th>\n",
       "      <td>ôter</td>\n",
       "      <td>VER</td>\n",
       "      <td>0.00</td>\n",
       "    </tr>\n",
       "    <tr>\n",
       "      <th>ôtât</th>\n",
       "      <td>ôter</td>\n",
       "      <td>VER</td>\n",
       "      <td>0.00</td>\n",
       "    </tr>\n",
       "    <tr>\n",
       "      <th>ôtèrent</th>\n",
       "      <td>ôter</td>\n",
       "      <td>VER</td>\n",
       "      <td>0.00</td>\n",
       "    </tr>\n",
       "  </tbody>\n",
       "</table>\n",
       "<p>64929 rows × 3 columns</p>\n",
       "</div>"
      ],
      "text/plain": [
       "            lemme cgram      freq\n",
       "Word                             \n",
       "est          être   VER  19417.69\n",
       "a           avoir   VER   5498.34\n",
       "va          aller   VER   3382.55\n",
       "fait        faire   VER   2751.99\n",
       "faire       faire   VER   2735.96\n",
       "...           ...   ...       ...\n",
       "évoquât   évoquer   VER      0.00\n",
       "ôtai         ôter   VER      0.00\n",
       "ôterions     ôter   VER      0.00\n",
       "ôtât         ôter   VER      0.00\n",
       "ôtèrent      ôter   VER      0.00\n",
       "\n",
       "[64929 rows x 3 columns]"
      ]
     },
     "execution_count": 10,
     "metadata": {},
     "output_type": "execute_result"
    }
   ],
   "source": [
    "top_freq_v = pd.read_csv('Most Frequent Words/freq_VERB.csv', index_col='Word')\n",
    "top_freq_v"
   ]
  },
  {
   "cell_type": "code",
   "execution_count": 11,
   "metadata": {},
   "outputs": [
    {
     "data": {
      "text/html": [
       "<div>\n",
       "<style scoped>\n",
       "    .dataframe tbody tr th:only-of-type {\n",
       "        vertical-align: middle;\n",
       "    }\n",
       "\n",
       "    .dataframe tbody tr th {\n",
       "        vertical-align: top;\n",
       "    }\n",
       "\n",
       "    .dataframe thead th {\n",
       "        text-align: right;\n",
       "    }\n",
       "</style>\n",
       "<table border=\"1\" class=\"dataframe\">\n",
       "  <thead>\n",
       "    <tr style=\"text-align: right;\">\n",
       "      <th></th>\n",
       "      <th>0</th>\n",
       "      <th>1</th>\n",
       "      <th>2</th>\n",
       "      <th>3</th>\n",
       "      <th>4</th>\n",
       "      <th>5</th>\n",
       "      <th>6</th>\n",
       "      <th>7</th>\n",
       "      <th>8</th>\n",
       "      <th>9</th>\n",
       "      <th>...</th>\n",
       "      <th>507</th>\n",
       "      <th>508</th>\n",
       "      <th>509</th>\n",
       "      <th>510</th>\n",
       "      <th>511</th>\n",
       "      <th>gn</th>\n",
       "      <th>gender</th>\n",
       "      <th>lemme</th>\n",
       "      <th>cgram</th>\n",
       "      <th>freq</th>\n",
       "    </tr>\n",
       "  </thead>\n",
       "  <tbody>\n",
       "    <tr>\n",
       "      <th>chose</th>\n",
       "      <td>0.657807</td>\n",
       "      <td>1.650356</td>\n",
       "      <td>2.463752</td>\n",
       "      <td>-4.890357</td>\n",
       "      <td>-0.208469</td>\n",
       "      <td>-5.273172</td>\n",
       "      <td>-2.022167</td>\n",
       "      <td>3.938069</td>\n",
       "      <td>-1.886973</td>\n",
       "      <td>0.658918</td>\n",
       "      <td>...</td>\n",
       "      <td>-3.652611</td>\n",
       "      <td>0.059850</td>\n",
       "      <td>-4.353068</td>\n",
       "      <td>-1.477708</td>\n",
       "      <td>-6.344492</td>\n",
       "      <td>singular</td>\n",
       "      <td>feminine</td>\n",
       "      <td>chose</td>\n",
       "      <td>NOM</td>\n",
       "      <td>1321.79</td>\n",
       "    </tr>\n",
       "    <tr>\n",
       "      <th>vie</th>\n",
       "      <td>0.728105</td>\n",
       "      <td>-3.619239</td>\n",
       "      <td>6.010180</td>\n",
       "      <td>-3.412671</td>\n",
       "      <td>4.317724</td>\n",
       "      <td>-2.456576</td>\n",
       "      <td>-3.586677</td>\n",
       "      <td>1.279530</td>\n",
       "      <td>0.782081</td>\n",
       "      <td>-1.396616</td>\n",
       "      <td>...</td>\n",
       "      <td>-5.433400</td>\n",
       "      <td>-2.438175</td>\n",
       "      <td>-2.297100</td>\n",
       "      <td>-0.613292</td>\n",
       "      <td>1.389376</td>\n",
       "      <td>singular</td>\n",
       "      <td>feminine</td>\n",
       "      <td>vie</td>\n",
       "      <td>NOM</td>\n",
       "      <td>986.59</td>\n",
       "    </tr>\n",
       "    <tr>\n",
       "      <th>fois</th>\n",
       "      <td>0.930591</td>\n",
       "      <td>0.391257</td>\n",
       "      <td>-0.526626</td>\n",
       "      <td>1.497111</td>\n",
       "      <td>-1.076748</td>\n",
       "      <td>2.202879</td>\n",
       "      <td>-1.588476</td>\n",
       "      <td>-0.458471</td>\n",
       "      <td>-1.804767</td>\n",
       "      <td>-0.920485</td>\n",
       "      <td>...</td>\n",
       "      <td>-4.145829</td>\n",
       "      <td>-2.843595</td>\n",
       "      <td>-0.272411</td>\n",
       "      <td>6.411278</td>\n",
       "      <td>3.698102</td>\n",
       "      <td>plural</td>\n",
       "      <td>feminine</td>\n",
       "      <td>fois</td>\n",
       "      <td>NOM</td>\n",
       "      <td>899.25</td>\n",
       "    </tr>\n",
       "    <tr>\n",
       "      <th>père</th>\n",
       "      <td>-1.093649</td>\n",
       "      <td>-2.799815</td>\n",
       "      <td>-2.701471</td>\n",
       "      <td>0.991694</td>\n",
       "      <td>-0.667527</td>\n",
       "      <td>-5.704983</td>\n",
       "      <td>-1.606111</td>\n",
       "      <td>-3.485601</td>\n",
       "      <td>-2.109801</td>\n",
       "      <td>-1.120821</td>\n",
       "      <td>...</td>\n",
       "      <td>-6.548421</td>\n",
       "      <td>-2.552399</td>\n",
       "      <td>-2.937020</td>\n",
       "      <td>-3.374631</td>\n",
       "      <td>-5.006559</td>\n",
       "      <td>singular</td>\n",
       "      <td>masculine</td>\n",
       "      <td>père</td>\n",
       "      <td>NOM</td>\n",
       "      <td>879.31</td>\n",
       "    </tr>\n",
       "    <tr>\n",
       "      <th>dieu</th>\n",
       "      <td>0.198962</td>\n",
       "      <td>-0.553110</td>\n",
       "      <td>-2.546090</td>\n",
       "      <td>-1.606250</td>\n",
       "      <td>1.540941</td>\n",
       "      <td>-1.225879</td>\n",
       "      <td>1.944866</td>\n",
       "      <td>-0.366766</td>\n",
       "      <td>1.950244</td>\n",
       "      <td>2.274500</td>\n",
       "      <td>...</td>\n",
       "      <td>-1.731649</td>\n",
       "      <td>-2.373324</td>\n",
       "      <td>-6.390708</td>\n",
       "      <td>0.005803</td>\n",
       "      <td>-5.595995</td>\n",
       "      <td>singular</td>\n",
       "      <td>masculine</td>\n",
       "      <td>dieu</td>\n",
       "      <td>NOM</td>\n",
       "      <td>852.91</td>\n",
       "    </tr>\n",
       "    <tr>\n",
       "      <th>...</th>\n",
       "      <td>...</td>\n",
       "      <td>...</td>\n",
       "      <td>...</td>\n",
       "      <td>...</td>\n",
       "      <td>...</td>\n",
       "      <td>...</td>\n",
       "      <td>...</td>\n",
       "      <td>...</td>\n",
       "      <td>...</td>\n",
       "      <td>...</td>\n",
       "      <td>...</td>\n",
       "      <td>...</td>\n",
       "      <td>...</td>\n",
       "      <td>...</td>\n",
       "      <td>...</td>\n",
       "      <td>...</td>\n",
       "      <td>...</td>\n",
       "      <td>...</td>\n",
       "      <td>...</td>\n",
       "      <td>...</td>\n",
       "      <td>...</td>\n",
       "    </tr>\n",
       "    <tr>\n",
       "      <th>automne</th>\n",
       "      <td>-0.029326</td>\n",
       "      <td>-0.036336</td>\n",
       "      <td>0.344609</td>\n",
       "      <td>-0.301527</td>\n",
       "      <td>0.684155</td>\n",
       "      <td>-6.712758</td>\n",
       "      <td>-3.392828</td>\n",
       "      <td>2.657732</td>\n",
       "      <td>1.260150</td>\n",
       "      <td>-1.908536</td>\n",
       "      <td>...</td>\n",
       "      <td>-5.934503</td>\n",
       "      <td>-5.079613</td>\n",
       "      <td>-7.423095</td>\n",
       "      <td>1.560418</td>\n",
       "      <td>-3.776791</td>\n",
       "      <td>singular</td>\n",
       "      <td>masculine</td>\n",
       "      <td>automne</td>\n",
       "      <td>NOM</td>\n",
       "      <td>16.88</td>\n",
       "    </tr>\n",
       "    <tr>\n",
       "      <th>épreuve</th>\n",
       "      <td>6.970472</td>\n",
       "      <td>-2.010744</td>\n",
       "      <td>-1.955998</td>\n",
       "      <td>2.723860</td>\n",
       "      <td>-0.557150</td>\n",
       "      <td>-3.321700</td>\n",
       "      <td>-6.661906</td>\n",
       "      <td>2.171666</td>\n",
       "      <td>6.520999</td>\n",
       "      <td>3.122446</td>\n",
       "      <td>...</td>\n",
       "      <td>-5.723488</td>\n",
       "      <td>-1.765704</td>\n",
       "      <td>-3.225074</td>\n",
       "      <td>9.298415</td>\n",
       "      <td>-7.502809</td>\n",
       "      <td>singular</td>\n",
       "      <td>feminine</td>\n",
       "      <td>épreuve</td>\n",
       "      <td>NOM</td>\n",
       "      <td>16.88</td>\n",
       "    </tr>\n",
       "    <tr>\n",
       "      <th>ouverture</th>\n",
       "      <td>1.632854</td>\n",
       "      <td>-5.630388</td>\n",
       "      <td>-0.904949</td>\n",
       "      <td>-9.000515</td>\n",
       "      <td>-2.489218</td>\n",
       "      <td>-6.606404</td>\n",
       "      <td>-1.868740</td>\n",
       "      <td>4.467050</td>\n",
       "      <td>4.600908</td>\n",
       "      <td>2.660018</td>\n",
       "      <td>...</td>\n",
       "      <td>-3.898089</td>\n",
       "      <td>-4.613536</td>\n",
       "      <td>-3.238379</td>\n",
       "      <td>2.250607</td>\n",
       "      <td>-7.138097</td>\n",
       "      <td>singular</td>\n",
       "      <td>feminine</td>\n",
       "      <td>ouverture</td>\n",
       "      <td>NOM</td>\n",
       "      <td>16.87</td>\n",
       "    </tr>\n",
       "    <tr>\n",
       "      <th>feuilles</th>\n",
       "      <td>5.454817</td>\n",
       "      <td>-1.130333</td>\n",
       "      <td>-3.514142</td>\n",
       "      <td>-0.405661</td>\n",
       "      <td>2.975579</td>\n",
       "      <td>-5.276052</td>\n",
       "      <td>-3.652234</td>\n",
       "      <td>-4.060199</td>\n",
       "      <td>-0.086248</td>\n",
       "      <td>-3.856465</td>\n",
       "      <td>...</td>\n",
       "      <td>-3.117899</td>\n",
       "      <td>1.166877</td>\n",
       "      <td>-1.940229</td>\n",
       "      <td>-1.056504</td>\n",
       "      <td>1.370045</td>\n",
       "      <td>plural</td>\n",
       "      <td>feminine</td>\n",
       "      <td>feuille</td>\n",
       "      <td>NOM</td>\n",
       "      <td>16.86</td>\n",
       "    </tr>\n",
       "    <tr>\n",
       "      <th>misère</th>\n",
       "      <td>1.538224</td>\n",
       "      <td>-4.087782</td>\n",
       "      <td>1.147068</td>\n",
       "      <td>-2.769955</td>\n",
       "      <td>3.991704</td>\n",
       "      <td>-2.318811</td>\n",
       "      <td>-1.974863</td>\n",
       "      <td>-1.872901</td>\n",
       "      <td>-2.495434</td>\n",
       "      <td>4.393554</td>\n",
       "      <td>...</td>\n",
       "      <td>-6.188046</td>\n",
       "      <td>-1.238929</td>\n",
       "      <td>-3.433473</td>\n",
       "      <td>-0.298559</td>\n",
       "      <td>-1.375856</td>\n",
       "      <td>singular</td>\n",
       "      <td>feminine</td>\n",
       "      <td>misère</td>\n",
       "      <td>NOM</td>\n",
       "      <td>16.85</td>\n",
       "    </tr>\n",
       "  </tbody>\n",
       "</table>\n",
       "<p>1000 rows × 517 columns</p>\n",
       "</div>"
      ],
      "text/plain": [
       "                  0         1         2         3         4         5  \\\n",
       "chose      0.657807  1.650356  2.463752 -4.890357 -0.208469 -5.273172   \n",
       "vie        0.728105 -3.619239  6.010180 -3.412671  4.317724 -2.456576   \n",
       "fois       0.930591  0.391257 -0.526626  1.497111 -1.076748  2.202879   \n",
       "père      -1.093649 -2.799815 -2.701471  0.991694 -0.667527 -5.704983   \n",
       "dieu       0.198962 -0.553110 -2.546090 -1.606250  1.540941 -1.225879   \n",
       "...             ...       ...       ...       ...       ...       ...   \n",
       "automne   -0.029326 -0.036336  0.344609 -0.301527  0.684155 -6.712758   \n",
       "épreuve    6.970472 -2.010744 -1.955998  2.723860 -0.557150 -3.321700   \n",
       "ouverture  1.632854 -5.630388 -0.904949 -9.000515 -2.489218 -6.606404   \n",
       "feuilles   5.454817 -1.130333 -3.514142 -0.405661  2.975579 -5.276052   \n",
       "misère     1.538224 -4.087782  1.147068 -2.769955  3.991704 -2.318811   \n",
       "\n",
       "                  6         7         8         9  ...       507       508  \\\n",
       "chose     -2.022167  3.938069 -1.886973  0.658918  ... -3.652611  0.059850   \n",
       "vie       -3.586677  1.279530  0.782081 -1.396616  ... -5.433400 -2.438175   \n",
       "fois      -1.588476 -0.458471 -1.804767 -0.920485  ... -4.145829 -2.843595   \n",
       "père      -1.606111 -3.485601 -2.109801 -1.120821  ... -6.548421 -2.552399   \n",
       "dieu       1.944866 -0.366766  1.950244  2.274500  ... -1.731649 -2.373324   \n",
       "...             ...       ...       ...       ...  ...       ...       ...   \n",
       "automne   -3.392828  2.657732  1.260150 -1.908536  ... -5.934503 -5.079613   \n",
       "épreuve   -6.661906  2.171666  6.520999  3.122446  ... -5.723488 -1.765704   \n",
       "ouverture -1.868740  4.467050  4.600908  2.660018  ... -3.898089 -4.613536   \n",
       "feuilles  -3.652234 -4.060199 -0.086248 -3.856465  ... -3.117899  1.166877   \n",
       "misère    -1.974863 -1.872901 -2.495434  4.393554  ... -6.188046 -1.238929   \n",
       "\n",
       "                509       510       511        gn     gender      lemme  \\\n",
       "chose     -4.353068 -1.477708 -6.344492  singular   feminine      chose   \n",
       "vie       -2.297100 -0.613292  1.389376  singular   feminine        vie   \n",
       "fois      -0.272411  6.411278  3.698102    plural   feminine       fois   \n",
       "père      -2.937020 -3.374631 -5.006559  singular  masculine       père   \n",
       "dieu      -6.390708  0.005803 -5.595995  singular  masculine       dieu   \n",
       "...             ...       ...       ...       ...        ...        ...   \n",
       "automne   -7.423095  1.560418 -3.776791  singular  masculine    automne   \n",
       "épreuve   -3.225074  9.298415 -7.502809  singular   feminine    épreuve   \n",
       "ouverture -3.238379  2.250607 -7.138097  singular   feminine  ouverture   \n",
       "feuilles  -1.940229 -1.056504  1.370045    plural   feminine    feuille   \n",
       "misère    -3.433473 -0.298559 -1.375856  singular   feminine     misère   \n",
       "\n",
       "           cgram     freq  \n",
       "chose        NOM  1321.79  \n",
       "vie          NOM   986.59  \n",
       "fois         NOM   899.25  \n",
       "père         NOM   879.31  \n",
       "dieu         NOM   852.91  \n",
       "...          ...      ...  \n",
       "automne      NOM    16.88  \n",
       "épreuve      NOM    16.88  \n",
       "ouverture    NOM    16.87  \n",
       "feuilles     NOM    16.86  \n",
       "misère       NOM    16.85  \n",
       "\n",
       "[1000 rows x 517 columns]"
      ]
     },
     "execution_count": 11,
     "metadata": {},
     "output_type": "execute_result"
    }
   ],
   "source": [
    "unique_freq_n_we = all_n_we_with_freq[~all_n_we_with_freq.index.isin(top_freq_v.index)][:1000]\n",
    "unique_freq_n_we"
   ]
  },
  {
   "cell_type": "markdown",
   "metadata": {},
   "source": [
    "We will also add PoS encoding for nouns as `1`:"
   ]
  },
  {
   "cell_type": "code",
   "execution_count": 12,
   "metadata": {},
   "outputs": [],
   "source": [
    "unique_freq_n_we['pos'] = 1"
   ]
  },
  {
   "cell_type": "markdown",
   "metadata": {},
   "source": [
    "## Dimensions with the highest average"
   ]
  },
  {
   "cell_type": "markdown",
   "metadata": {},
   "source": [
    "Now that we have a dataframe, containing words that serve as nouns only and are relatively frequent, we can analyse the dimensions. First, we can find top 5 dimensions with the highest values:"
   ]
  },
  {
   "cell_type": "code",
   "execution_count": 13,
   "metadata": {},
   "outputs": [
    {
     "data": {
      "text/plain": [
       "326     6.112567\n",
       "195     6.161914\n",
       "44      6.890585\n",
       "250     9.971999\n",
       "371    38.293505\n",
       "dtype: float64"
      ]
     },
     "execution_count": 13,
     "metadata": {},
     "output_type": "execute_result"
    }
   ],
   "source": [
    "unique_freq_n_we.loc[:, :'511'].mean().sort_values()[-5:]"
   ]
  },
  {
   "cell_type": "markdown",
   "metadata": {},
   "source": [
    "Some of the dimensions we have previously seen as having the highest values: `371`, `250`, `44`, `195`: [here](https://github.com/ClementineBleuze/WordEmbeddings/blob/main/Morphalou3/Investigating%20noun%20dimensions.ipynb).\n",
    "\n",
    "Dimension `326` was not previously investiagted, we can have a look at the top 20 nouns with highest values in the dimension `326` and botton 20 nouns with the lowest values in `326`:"
   ]
  },
  {
   "cell_type": "code",
   "execution_count": 14,
   "metadata": {},
   "outputs": [
    {
     "data": {
      "text/plain": [
       "cheveux      11.844670\n",
       "rang         11.855828\n",
       "vêtements    11.919466\n",
       "fer          11.950474\n",
       "manière      12.191846\n",
       "métier       12.193498\n",
       "photos       12.265883\n",
       "objet        12.278166\n",
       "fleurs       12.279531\n",
       "poil         12.297997\n",
       "collier      12.309678\n",
       "acteurs      12.334369\n",
       "nana         12.570558\n",
       "chemise      12.968505\n",
       "visage       13.011158\n",
       "position     13.245049\n",
       "pantalon     13.465014\n",
       "liaison      14.214938\n",
       "habits       14.582494\n",
       "fil          15.256657\n",
       "Name: 326, dtype: float64"
      ]
     },
     "execution_count": 14,
     "metadata": {},
     "output_type": "execute_result"
    }
   ],
   "source": [
    "unique_freq_n_we['326'].sort_values()[-20:]"
   ]
  },
  {
   "cell_type": "code",
   "execution_count": 15,
   "metadata": {},
   "outputs": [
    {
     "data": {
      "text/plain": [
       "whisky        -2.921939\n",
       "adieu         -1.946858\n",
       "version       -1.823464\n",
       "études        -1.676383\n",
       "intention     -1.597302\n",
       "morceau       -1.195826\n",
       "appel         -1.108422\n",
       "piano         -1.041820\n",
       "université    -0.892076\n",
       "quart         -0.810918\n",
       "for           -0.775186\n",
       "chant         -0.739744\n",
       "américains    -0.516593\n",
       "cri           -0.510924\n",
       "étudiants     -0.438738\n",
       "pire          -0.350398\n",
       "test          -0.325665\n",
       "notes         -0.248693\n",
       "origine       -0.022329\n",
       "prisonniers    0.031338\n",
       "Name: 326, dtype: float64"
      ]
     },
     "execution_count": 15,
     "metadata": {},
     "output_type": "execute_result"
    }
   ],
   "source": [
    "unique_freq_n_we['326'].sort_values()[:20]"
   ]
  },
  {
   "cell_type": "markdown",
   "metadata": {},
   "source": [
    "## Dimensions with the lowest average"
   ]
  },
  {
   "cell_type": "code",
   "execution_count": 16,
   "metadata": {},
   "outputs": [
    {
     "data": {
      "text/plain": [
       "52    -10.600959\n",
       "274    -8.559077\n",
       "181    -6.139393\n",
       "470    -6.002410\n",
       "138    -5.765709\n",
       "dtype: float64"
      ]
     },
     "execution_count": 16,
     "metadata": {},
     "output_type": "execute_result"
    }
   ],
   "source": [
    "unique_freq_n_we.loc[:, :'511'].mean().sort_values()[:5]"
   ]
  },
  {
   "cell_type": "markdown",
   "metadata": {},
   "source": [
    "Example of nouns for highest and lowest values of `52`, `274` and `138` can be found [here](https://github.com/ClementineBleuze/WordEmbeddings/blob/main/Morphalou3/Investigating%20noun%20dimensions.ipynb).\n",
    "\n",
    "Dimensions `181` and `470` were not looked at before and we can look at them righ now."
   ]
  },
  {
   "cell_type": "markdown",
   "metadata": {},
   "source": [
    "### Dimension 181"
   ]
  },
  {
   "cell_type": "code",
   "execution_count": 17,
   "metadata": {},
   "outputs": [
    {
     "data": {
      "text/plain": [
       "amitié     -1.267396\n",
       "bonne      -1.084154\n",
       "abri       -0.843479\n",
       "coin       -0.834102\n",
       "frigo      -0.768757\n",
       "parc       -0.710242\n",
       "dossiers   -0.695855\n",
       "placard    -0.568356\n",
       "feuilles   -0.506102\n",
       "parking    -0.497687\n",
       "crème      -0.418334\n",
       "version    -0.357029\n",
       "lac        -0.313054\n",
       "cirque     -0.215596\n",
       "bière      -0.097153\n",
       "patience   -0.076469\n",
       "fromage     0.341992\n",
       "tort        0.922191\n",
       "merci       1.377761\n",
       "lien        3.101926\n",
       "Name: 181, dtype: float64"
      ]
     },
     "execution_count": 17,
     "metadata": {},
     "output_type": "execute_result"
    }
   ],
   "source": [
    "unique_freq_n_we['181'].sort_values()[-20:]"
   ]
  },
  {
   "cell_type": "code",
   "execution_count": 18,
   "metadata": {},
   "outputs": [
    {
     "data": {
      "text/plain": [
       "poupée       -13.147191\n",
       "seins        -13.125753\n",
       "ordinateur   -12.985024\n",
       "pantalon     -12.581136\n",
       "visage       -12.477160\n",
       "avion        -12.297463\n",
       "garçons      -12.292806\n",
       "vêtements    -12.022993\n",
       "nuages       -11.975925\n",
       "appareil     -11.881238\n",
       "chaussures   -11.872410\n",
       "bébés        -11.852094\n",
       "habits       -11.795027\n",
       "lunettes     -11.535264\n",
       "bébé         -11.427254\n",
       "tête         -11.280148\n",
       "train        -11.264141\n",
       "rats         -11.242051\n",
       "veste        -11.236717\n",
       "empereur     -11.225712\n",
       "Name: 181, dtype: float64"
      ]
     },
     "execution_count": 18,
     "metadata": {},
     "output_type": "execute_result"
    }
   ],
   "source": [
    "unique_freq_n_we['181'].sort_values()[:20]"
   ]
  },
  {
   "cell_type": "markdown",
   "metadata": {},
   "source": [
    "We can notice that all values of dimension `181` are negative and we can hypothesise that positive values of this dimension can correspond to non-nouns."
   ]
  },
  {
   "cell_type": "markdown",
   "metadata": {},
   "source": [
    "### Dimenension 470"
   ]
  },
  {
   "cell_type": "code",
   "execution_count": 19,
   "metadata": {},
   "outputs": [
    {
     "data": {
      "text/plain": [
       "mandat         -0.629310\n",
       "soirs          -0.579423\n",
       "mademoiselle   -0.572184\n",
       "carrière       -0.328480\n",
       "ans            -0.243089\n",
       "tout           -0.222029\n",
       "quart          -0.060117\n",
       "noms           -0.030399\n",
       "dieux          -0.004031\n",
       "mai             0.021403\n",
       "membres         0.062413\n",
       "instant         0.187658\n",
       "million         0.396064\n",
       "milliers        0.830936\n",
       "existence       1.154799\n",
       "mille           1.584001\n",
       "millions        1.787577\n",
       "fois            1.805952\n",
       "centaines       1.821003\n",
       "nombre          1.858350\n",
       "Name: 470, dtype: float64"
      ]
     },
     "execution_count": 19,
     "metadata": {},
     "output_type": "execute_result"
    }
   ],
   "source": [
    "unique_freq_n_we['470'].sort_values()[-20:]"
   ]
  },
  {
   "cell_type": "code",
   "execution_count": 20,
   "metadata": {},
   "outputs": [
    {
     "data": {
      "text/plain": [
       "porc       -15.963580\n",
       "viande     -14.896247\n",
       "fromage    -14.714665\n",
       "oeufs      -13.415202\n",
       "poisson    -13.270139\n",
       "pain       -13.134651\n",
       "miel       -12.932362\n",
       "moteur     -12.834925\n",
       "épreuve    -12.641128\n",
       "poulet     -12.466574\n",
       "pizza      -12.443261\n",
       "blé        -12.349390\n",
       "vin        -12.328328\n",
       "plat       -12.235964\n",
       "pierre     -12.195222\n",
       "crème      -12.179840\n",
       "foie       -11.754989\n",
       "poule      -11.538135\n",
       "alcool     -11.523900\n",
       "chocolat   -11.410089\n",
       "Name: 470, dtype: float64"
      ]
     },
     "execution_count": 20,
     "metadata": {},
     "output_type": "execute_result"
    }
   ],
   "source": [
    "unique_freq_n_we['470'].sort_values()[:20]"
   ]
  },
  {
   "cell_type": "markdown",
   "metadata": {},
   "source": [
    "## Dimensions with the lowest std"
   ]
  },
  {
   "cell_type": "markdown",
   "metadata": {},
   "source": [
    "We can create a hypithesis that these dimensions with the lowest deviation, represent the noun-ness."
   ]
  },
  {
   "cell_type": "code",
   "execution_count": 21,
   "metadata": {},
   "outputs": [
    {
     "data": {
      "text/plain": [
       "408    1.860107\n",
       "508    1.865233\n",
       "229    1.909907\n",
       "158    1.977193\n",
       "497    1.993609\n",
       "dtype: float64"
      ]
     },
     "execution_count": 21,
     "metadata": {},
     "output_type": "execute_result"
    }
   ],
   "source": [
    "unique_freq_n_we.loc[:, :'511'].std().sort_values()[:5]"
   ]
  },
  {
   "cell_type": "markdown",
   "metadata": {},
   "source": [
    "None of these dimensions were previously analysed."
   ]
  },
  {
   "cell_type": "markdown",
   "metadata": {},
   "source": [
    "# Testing the correlation of noun-ness"
   ]
  },
  {
   "cell_type": "markdown",
   "metadata": {},
   "source": [
    "We now have 6 potential dimentions that hold the information about noun-ness: `181`, `508`, `408`, `229`, `497` and `158`.\n",
    "\n",
    "We can test these dimensions for noun-ness by selecting top 1000 most frequent verbs (that can't be interpreted by nouns). For both nouns and verbs, we can create a column encoding the PoS: 1 for nouns and 0 for verbs. We can then check the correlation of each of the 6 dimensions with the PoS values."
   ]
  },
  {
   "cell_type": "markdown",
   "metadata": {},
   "source": [
    "First, we will create a DataFrame with words that are uniquely verbs:"
   ]
  },
  {
   "cell_type": "code",
   "execution_count": 22,
   "metadata": {},
   "outputs": [
    {
     "data": {
      "text/html": [
       "<div>\n",
       "<style scoped>\n",
       "    .dataframe tbody tr th:only-of-type {\n",
       "        vertical-align: middle;\n",
       "    }\n",
       "\n",
       "    .dataframe tbody tr th {\n",
       "        vertical-align: top;\n",
       "    }\n",
       "\n",
       "    .dataframe thead th {\n",
       "        text-align: right;\n",
       "    }\n",
       "</style>\n",
       "<table border=\"1\" class=\"dataframe\">\n",
       "  <thead>\n",
       "    <tr style=\"text-align: right;\">\n",
       "      <th></th>\n",
       "      <th>0</th>\n",
       "      <th>1</th>\n",
       "      <th>2</th>\n",
       "      <th>3</th>\n",
       "      <th>4</th>\n",
       "      <th>5</th>\n",
       "      <th>6</th>\n",
       "      <th>7</th>\n",
       "      <th>8</th>\n",
       "      <th>9</th>\n",
       "      <th>...</th>\n",
       "      <th>505</th>\n",
       "      <th>506</th>\n",
       "      <th>507</th>\n",
       "      <th>508</th>\n",
       "      <th>509</th>\n",
       "      <th>510</th>\n",
       "      <th>511</th>\n",
       "      <th>lemme</th>\n",
       "      <th>cgram</th>\n",
       "      <th>freq</th>\n",
       "    </tr>\n",
       "  </thead>\n",
       "  <tbody>\n",
       "    <tr>\n",
       "      <th>faire</th>\n",
       "      <td>-1.953992</td>\n",
       "      <td>1.967468</td>\n",
       "      <td>-0.867251</td>\n",
       "      <td>-3.512503</td>\n",
       "      <td>0.711001</td>\n",
       "      <td>-1.465487</td>\n",
       "      <td>-3.816191</td>\n",
       "      <td>-0.969798</td>\n",
       "      <td>0.693006</td>\n",
       "      <td>-2.629247</td>\n",
       "      <td>...</td>\n",
       "      <td>-2.268780</td>\n",
       "      <td>2.166715</td>\n",
       "      <td>-4.476788</td>\n",
       "      <td>-4.511813</td>\n",
       "      <td>-8.868004</td>\n",
       "      <td>-0.186564</td>\n",
       "      <td>-3.174611</td>\n",
       "      <td>faire</td>\n",
       "      <td>VER</td>\n",
       "      <td>2735.96</td>\n",
       "    </tr>\n",
       "    <tr>\n",
       "      <th>sais</th>\n",
       "      <td>0.833028</td>\n",
       "      <td>0.262184</td>\n",
       "      <td>-4.303301</td>\n",
       "      <td>-1.228006</td>\n",
       "      <td>2.932428</td>\n",
       "      <td>-3.804066</td>\n",
       "      <td>-2.402668</td>\n",
       "      <td>-0.564615</td>\n",
       "      <td>-3.635561</td>\n",
       "      <td>-1.336695</td>\n",
       "      <td>...</td>\n",
       "      <td>-0.487414</td>\n",
       "      <td>-0.902436</td>\n",
       "      <td>-3.682986</td>\n",
       "      <td>-4.656565</td>\n",
       "      <td>-3.596141</td>\n",
       "      <td>-2.850661</td>\n",
       "      <td>-1.230298</td>\n",
       "      <td>savoir</td>\n",
       "      <td>VER</td>\n",
       "      <td>2492.92</td>\n",
       "    </tr>\n",
       "    <tr>\n",
       "      <th>veux</th>\n",
       "      <td>1.909130</td>\n",
       "      <td>1.314169</td>\n",
       "      <td>-2.582622</td>\n",
       "      <td>-7.257017</td>\n",
       "      <td>2.877503</td>\n",
       "      <td>-2.965186</td>\n",
       "      <td>-3.961409</td>\n",
       "      <td>-6.201593</td>\n",
       "      <td>-0.733923</td>\n",
       "      <td>0.565444</td>\n",
       "      <td>...</td>\n",
       "      <td>-5.809868</td>\n",
       "      <td>-1.167027</td>\n",
       "      <td>-4.419941</td>\n",
       "      <td>-3.083226</td>\n",
       "      <td>-4.695359</td>\n",
       "      <td>-4.843028</td>\n",
       "      <td>-2.858629</td>\n",
       "      <td>vouloir</td>\n",
       "      <td>VER</td>\n",
       "      <td>2486.93</td>\n",
       "    </tr>\n",
       "    <tr>\n",
       "      <th>ai</th>\n",
       "      <td>1.375040</td>\n",
       "      <td>0.351665</td>\n",
       "      <td>-3.261931</td>\n",
       "      <td>-0.827900</td>\n",
       "      <td>-0.663424</td>\n",
       "      <td>-7.868486</td>\n",
       "      <td>-1.336650</td>\n",
       "      <td>-4.201273</td>\n",
       "      <td>-7.791738</td>\n",
       "      <td>0.216940</td>\n",
       "      <td>...</td>\n",
       "      <td>-3.528767</td>\n",
       "      <td>2.179918</td>\n",
       "      <td>-8.119091</td>\n",
       "      <td>-3.079983</td>\n",
       "      <td>-1.413256</td>\n",
       "      <td>0.309939</td>\n",
       "      <td>-0.601137</td>\n",
       "      <td>avoir</td>\n",
       "      <td>VER</td>\n",
       "      <td>2475.78</td>\n",
       "    </tr>\n",
       "    <tr>\n",
       "      <th>était</th>\n",
       "      <td>-0.360612</td>\n",
       "      <td>3.057447</td>\n",
       "      <td>-1.896422</td>\n",
       "      <td>0.758237</td>\n",
       "      <td>-3.636281</td>\n",
       "      <td>-5.099815</td>\n",
       "      <td>-2.400843</td>\n",
       "      <td>1.776186</td>\n",
       "      <td>-3.402864</td>\n",
       "      <td>1.588920</td>\n",
       "      <td>...</td>\n",
       "      <td>-4.151774</td>\n",
       "      <td>-0.533358</td>\n",
       "      <td>-3.817090</td>\n",
       "      <td>-3.953760</td>\n",
       "      <td>-5.238096</td>\n",
       "      <td>-0.236460</td>\n",
       "      <td>-3.574182</td>\n",
       "      <td>être</td>\n",
       "      <td>VER</td>\n",
       "      <td>2356.65</td>\n",
       "    </tr>\n",
       "    <tr>\n",
       "      <th>...</th>\n",
       "      <td>...</td>\n",
       "      <td>...</td>\n",
       "      <td>...</td>\n",
       "      <td>...</td>\n",
       "      <td>...</td>\n",
       "      <td>...</td>\n",
       "      <td>...</td>\n",
       "      <td>...</td>\n",
       "      <td>...</td>\n",
       "      <td>...</td>\n",
       "      <td>...</td>\n",
       "      <td>...</td>\n",
       "      <td>...</td>\n",
       "      <td>...</td>\n",
       "      <td>...</td>\n",
       "      <td>...</td>\n",
       "      <td>...</td>\n",
       "      <td>...</td>\n",
       "      <td>...</td>\n",
       "      <td>...</td>\n",
       "      <td>...</td>\n",
       "    </tr>\n",
       "    <tr>\n",
       "      <th>vise</th>\n",
       "      <td>0.571494</td>\n",
       "      <td>-2.826918</td>\n",
       "      <td>1.862426</td>\n",
       "      <td>-3.573292</td>\n",
       "      <td>-1.220379</td>\n",
       "      <td>-3.292572</td>\n",
       "      <td>0.165798</td>\n",
       "      <td>0.843226</td>\n",
       "      <td>1.056491</td>\n",
       "      <td>-0.542817</td>\n",
       "      <td>...</td>\n",
       "      <td>-1.093498</td>\n",
       "      <td>-1.613618</td>\n",
       "      <td>-3.346600</td>\n",
       "      <td>-3.003185</td>\n",
       "      <td>-3.671720</td>\n",
       "      <td>-2.961078</td>\n",
       "      <td>-4.112127</td>\n",
       "      <td>viser</td>\n",
       "      <td>VER</td>\n",
       "      <td>13.96</td>\n",
       "    </tr>\n",
       "    <tr>\n",
       "      <th>diriger</th>\n",
       "      <td>-2.597307</td>\n",
       "      <td>1.046078</td>\n",
       "      <td>0.396200</td>\n",
       "      <td>1.359129</td>\n",
       "      <td>-2.464565</td>\n",
       "      <td>0.890573</td>\n",
       "      <td>1.203737</td>\n",
       "      <td>0.857030</td>\n",
       "      <td>1.990158</td>\n",
       "      <td>-3.986770</td>\n",
       "      <td>...</td>\n",
       "      <td>-2.992666</td>\n",
       "      <td>0.838197</td>\n",
       "      <td>-1.756418</td>\n",
       "      <td>-5.210673</td>\n",
       "      <td>-4.461704</td>\n",
       "      <td>0.555919</td>\n",
       "      <td>-5.029737</td>\n",
       "      <td>diriger</td>\n",
       "      <td>VER</td>\n",
       "      <td>13.94</td>\n",
       "    </tr>\n",
       "    <tr>\n",
       "      <th>organiser</th>\n",
       "      <td>-3.487982</td>\n",
       "      <td>-0.044396</td>\n",
       "      <td>0.855691</td>\n",
       "      <td>1.090287</td>\n",
       "      <td>0.575098</td>\n",
       "      <td>-2.096214</td>\n",
       "      <td>-2.194631</td>\n",
       "      <td>-1.565821</td>\n",
       "      <td>0.929013</td>\n",
       "      <td>-3.366896</td>\n",
       "      <td>...</td>\n",
       "      <td>-0.052813</td>\n",
       "      <td>3.942301</td>\n",
       "      <td>-0.770194</td>\n",
       "      <td>-3.442216</td>\n",
       "      <td>-3.223171</td>\n",
       "      <td>-0.091084</td>\n",
       "      <td>-4.142995</td>\n",
       "      <td>organiser</td>\n",
       "      <td>VER</td>\n",
       "      <td>13.93</td>\n",
       "    </tr>\n",
       "    <tr>\n",
       "      <th>pensons</th>\n",
       "      <td>0.423341</td>\n",
       "      <td>-0.972839</td>\n",
       "      <td>1.267903</td>\n",
       "      <td>-0.234426</td>\n",
       "      <td>2.370369</td>\n",
       "      <td>-0.144255</td>\n",
       "      <td>0.473892</td>\n",
       "      <td>2.735201</td>\n",
       "      <td>0.024333</td>\n",
       "      <td>-2.812480</td>\n",
       "      <td>...</td>\n",
       "      <td>-6.520752</td>\n",
       "      <td>1.106622</td>\n",
       "      <td>-4.984591</td>\n",
       "      <td>-5.698886</td>\n",
       "      <td>-10.963478</td>\n",
       "      <td>-0.293781</td>\n",
       "      <td>-1.509404</td>\n",
       "      <td>penser</td>\n",
       "      <td>VER</td>\n",
       "      <td>13.89</td>\n",
       "    </tr>\n",
       "    <tr>\n",
       "      <th>cessé</th>\n",
       "      <td>7.198177</td>\n",
       "      <td>-4.191141</td>\n",
       "      <td>2.555475</td>\n",
       "      <td>0.548359</td>\n",
       "      <td>6.838806</td>\n",
       "      <td>-2.593792</td>\n",
       "      <td>-0.695675</td>\n",
       "      <td>-3.480640</td>\n",
       "      <td>-4.015185</td>\n",
       "      <td>1.423287</td>\n",
       "      <td>...</td>\n",
       "      <td>1.275047</td>\n",
       "      <td>1.254268</td>\n",
       "      <td>-5.115427</td>\n",
       "      <td>-5.836030</td>\n",
       "      <td>-1.508158</td>\n",
       "      <td>-6.306890</td>\n",
       "      <td>-1.022457</td>\n",
       "      <td>cesser</td>\n",
       "      <td>VER</td>\n",
       "      <td>13.89</td>\n",
       "    </tr>\n",
       "  </tbody>\n",
       "</table>\n",
       "<p>1000 rows × 515 columns</p>\n",
       "</div>"
      ],
      "text/plain": [
       "                  0         1         2         3         4         5  \\\n",
       "faire     -1.953992  1.967468 -0.867251 -3.512503  0.711001 -1.465487   \n",
       "sais       0.833028  0.262184 -4.303301 -1.228006  2.932428 -3.804066   \n",
       "veux       1.909130  1.314169 -2.582622 -7.257017  2.877503 -2.965186   \n",
       "ai         1.375040  0.351665 -3.261931 -0.827900 -0.663424 -7.868486   \n",
       "était     -0.360612  3.057447 -1.896422  0.758237 -3.636281 -5.099815   \n",
       "...             ...       ...       ...       ...       ...       ...   \n",
       "vise       0.571494 -2.826918  1.862426 -3.573292 -1.220379 -3.292572   \n",
       "diriger   -2.597307  1.046078  0.396200  1.359129 -2.464565  0.890573   \n",
       "organiser -3.487982 -0.044396  0.855691  1.090287  0.575098 -2.096214   \n",
       "pensons    0.423341 -0.972839  1.267903 -0.234426  2.370369 -0.144255   \n",
       "cessé      7.198177 -4.191141  2.555475  0.548359  6.838806 -2.593792   \n",
       "\n",
       "                  6         7         8         9  ...       505       506  \\\n",
       "faire     -3.816191 -0.969798  0.693006 -2.629247  ... -2.268780  2.166715   \n",
       "sais      -2.402668 -0.564615 -3.635561 -1.336695  ... -0.487414 -0.902436   \n",
       "veux      -3.961409 -6.201593 -0.733923  0.565444  ... -5.809868 -1.167027   \n",
       "ai        -1.336650 -4.201273 -7.791738  0.216940  ... -3.528767  2.179918   \n",
       "était     -2.400843  1.776186 -3.402864  1.588920  ... -4.151774 -0.533358   \n",
       "...             ...       ...       ...       ...  ...       ...       ...   \n",
       "vise       0.165798  0.843226  1.056491 -0.542817  ... -1.093498 -1.613618   \n",
       "diriger    1.203737  0.857030  1.990158 -3.986770  ... -2.992666  0.838197   \n",
       "organiser -2.194631 -1.565821  0.929013 -3.366896  ... -0.052813  3.942301   \n",
       "pensons    0.473892  2.735201  0.024333 -2.812480  ... -6.520752  1.106622   \n",
       "cessé     -0.695675 -3.480640 -4.015185  1.423287  ...  1.275047  1.254268   \n",
       "\n",
       "                507       508        509       510       511      lemme  \\\n",
       "faire     -4.476788 -4.511813  -8.868004 -0.186564 -3.174611      faire   \n",
       "sais      -3.682986 -4.656565  -3.596141 -2.850661 -1.230298     savoir   \n",
       "veux      -4.419941 -3.083226  -4.695359 -4.843028 -2.858629    vouloir   \n",
       "ai        -8.119091 -3.079983  -1.413256  0.309939 -0.601137      avoir   \n",
       "était     -3.817090 -3.953760  -5.238096 -0.236460 -3.574182       être   \n",
       "...             ...       ...        ...       ...       ...        ...   \n",
       "vise      -3.346600 -3.003185  -3.671720 -2.961078 -4.112127      viser   \n",
       "diriger   -1.756418 -5.210673  -4.461704  0.555919 -5.029737    diriger   \n",
       "organiser -0.770194 -3.442216  -3.223171 -0.091084 -4.142995  organiser   \n",
       "pensons   -4.984591 -5.698886 -10.963478 -0.293781 -1.509404     penser   \n",
       "cessé     -5.115427 -5.836030  -1.508158 -6.306890 -1.022457     cesser   \n",
       "\n",
       "           cgram     freq  \n",
       "faire        VER  2735.96  \n",
       "sais         VER  2492.92  \n",
       "veux         VER  2486.93  \n",
       "ai           VER  2475.78  \n",
       "était        VER  2356.65  \n",
       "...          ...      ...  \n",
       "vise         VER    13.96  \n",
       "diriger      VER    13.94  \n",
       "organiser    VER    13.93  \n",
       "pensons      VER    13.89  \n",
       "cessé        VER    13.89  \n",
       "\n",
       "[1000 rows x 515 columns]"
      ]
     },
     "execution_count": 22,
     "metadata": {},
     "output_type": "execute_result"
    }
   ],
   "source": [
    "all_v_we = pd.read_csv('all_verb_we.csv', index_col=0)\n",
    "unique_freq_v_we = all_v_we.merge(top_freq_v[~top_freq_v.index.isin(all_nouns_with_freq.index)], left_index=True, right_index=True).sort_values(by='freq', ascending=False)[:1000]\n",
    "unique_freq_v_we"
   ]
  },
  {
   "cell_type": "code",
   "execution_count": 23,
   "metadata": {},
   "outputs": [],
   "source": [
    "unique_freq_v_we['pos'] = 0"
   ]
  },
  {
   "cell_type": "markdown",
   "metadata": {},
   "source": [
    "Now we can merge the DataFrame of words that are uniquely nouns and uniquely verbs and construct a new dimension of PoS encoding."
   ]
  },
  {
   "cell_type": "code",
   "execution_count": 24,
   "metadata": {},
   "outputs": [],
   "source": [
    "unique_n_and_v_we = pd.concat([unique_freq_n_we, unique_freq_v_we])"
   ]
  },
  {
   "cell_type": "code",
   "execution_count": 25,
   "metadata": {},
   "outputs": [
    {
     "data": {
      "text/html": [
       "<div>\n",
       "<style scoped>\n",
       "    .dataframe tbody tr th:only-of-type {\n",
       "        vertical-align: middle;\n",
       "    }\n",
       "\n",
       "    .dataframe tbody tr th {\n",
       "        vertical-align: top;\n",
       "    }\n",
       "\n",
       "    .dataframe thead th {\n",
       "        text-align: right;\n",
       "    }\n",
       "</style>\n",
       "<table border=\"1\" class=\"dataframe\">\n",
       "  <thead>\n",
       "    <tr style=\"text-align: right;\">\n",
       "      <th></th>\n",
       "      <th>0</th>\n",
       "      <th>1</th>\n",
       "      <th>2</th>\n",
       "      <th>3</th>\n",
       "      <th>4</th>\n",
       "      <th>5</th>\n",
       "      <th>6</th>\n",
       "      <th>7</th>\n",
       "      <th>8</th>\n",
       "      <th>9</th>\n",
       "      <th>...</th>\n",
       "      <th>508</th>\n",
       "      <th>509</th>\n",
       "      <th>510</th>\n",
       "      <th>511</th>\n",
       "      <th>gn</th>\n",
       "      <th>gender</th>\n",
       "      <th>lemme</th>\n",
       "      <th>cgram</th>\n",
       "      <th>freq</th>\n",
       "      <th>pos</th>\n",
       "    </tr>\n",
       "  </thead>\n",
       "  <tbody>\n",
       "    <tr>\n",
       "      <th>chose</th>\n",
       "      <td>0.657807</td>\n",
       "      <td>1.650356</td>\n",
       "      <td>2.463752</td>\n",
       "      <td>-4.890357</td>\n",
       "      <td>-0.208469</td>\n",
       "      <td>-5.273172</td>\n",
       "      <td>-2.022167</td>\n",
       "      <td>3.938069</td>\n",
       "      <td>-1.886973</td>\n",
       "      <td>0.658918</td>\n",
       "      <td>...</td>\n",
       "      <td>0.059850</td>\n",
       "      <td>-4.353068</td>\n",
       "      <td>-1.477708</td>\n",
       "      <td>-6.344492</td>\n",
       "      <td>singular</td>\n",
       "      <td>feminine</td>\n",
       "      <td>chose</td>\n",
       "      <td>NOM</td>\n",
       "      <td>1321.79</td>\n",
       "      <td>1</td>\n",
       "    </tr>\n",
       "    <tr>\n",
       "      <th>vie</th>\n",
       "      <td>0.728105</td>\n",
       "      <td>-3.619239</td>\n",
       "      <td>6.010180</td>\n",
       "      <td>-3.412671</td>\n",
       "      <td>4.317724</td>\n",
       "      <td>-2.456576</td>\n",
       "      <td>-3.586677</td>\n",
       "      <td>1.279530</td>\n",
       "      <td>0.782081</td>\n",
       "      <td>-1.396616</td>\n",
       "      <td>...</td>\n",
       "      <td>-2.438175</td>\n",
       "      <td>-2.297100</td>\n",
       "      <td>-0.613292</td>\n",
       "      <td>1.389376</td>\n",
       "      <td>singular</td>\n",
       "      <td>feminine</td>\n",
       "      <td>vie</td>\n",
       "      <td>NOM</td>\n",
       "      <td>986.59</td>\n",
       "      <td>1</td>\n",
       "    </tr>\n",
       "    <tr>\n",
       "      <th>fois</th>\n",
       "      <td>0.930591</td>\n",
       "      <td>0.391257</td>\n",
       "      <td>-0.526626</td>\n",
       "      <td>1.497111</td>\n",
       "      <td>-1.076748</td>\n",
       "      <td>2.202879</td>\n",
       "      <td>-1.588476</td>\n",
       "      <td>-0.458471</td>\n",
       "      <td>-1.804767</td>\n",
       "      <td>-0.920485</td>\n",
       "      <td>...</td>\n",
       "      <td>-2.843595</td>\n",
       "      <td>-0.272411</td>\n",
       "      <td>6.411278</td>\n",
       "      <td>3.698102</td>\n",
       "      <td>plural</td>\n",
       "      <td>feminine</td>\n",
       "      <td>fois</td>\n",
       "      <td>NOM</td>\n",
       "      <td>899.25</td>\n",
       "      <td>1</td>\n",
       "    </tr>\n",
       "    <tr>\n",
       "      <th>père</th>\n",
       "      <td>-1.093649</td>\n",
       "      <td>-2.799815</td>\n",
       "      <td>-2.701471</td>\n",
       "      <td>0.991694</td>\n",
       "      <td>-0.667527</td>\n",
       "      <td>-5.704983</td>\n",
       "      <td>-1.606111</td>\n",
       "      <td>-3.485601</td>\n",
       "      <td>-2.109801</td>\n",
       "      <td>-1.120821</td>\n",
       "      <td>...</td>\n",
       "      <td>-2.552399</td>\n",
       "      <td>-2.937020</td>\n",
       "      <td>-3.374631</td>\n",
       "      <td>-5.006559</td>\n",
       "      <td>singular</td>\n",
       "      <td>masculine</td>\n",
       "      <td>père</td>\n",
       "      <td>NOM</td>\n",
       "      <td>879.31</td>\n",
       "      <td>1</td>\n",
       "    </tr>\n",
       "    <tr>\n",
       "      <th>dieu</th>\n",
       "      <td>0.198962</td>\n",
       "      <td>-0.553110</td>\n",
       "      <td>-2.546090</td>\n",
       "      <td>-1.606250</td>\n",
       "      <td>1.540941</td>\n",
       "      <td>-1.225879</td>\n",
       "      <td>1.944866</td>\n",
       "      <td>-0.366766</td>\n",
       "      <td>1.950244</td>\n",
       "      <td>2.274500</td>\n",
       "      <td>...</td>\n",
       "      <td>-2.373324</td>\n",
       "      <td>-6.390708</td>\n",
       "      <td>0.005803</td>\n",
       "      <td>-5.595995</td>\n",
       "      <td>singular</td>\n",
       "      <td>masculine</td>\n",
       "      <td>dieu</td>\n",
       "      <td>NOM</td>\n",
       "      <td>852.91</td>\n",
       "      <td>1</td>\n",
       "    </tr>\n",
       "    <tr>\n",
       "      <th>...</th>\n",
       "      <td>...</td>\n",
       "      <td>...</td>\n",
       "      <td>...</td>\n",
       "      <td>...</td>\n",
       "      <td>...</td>\n",
       "      <td>...</td>\n",
       "      <td>...</td>\n",
       "      <td>...</td>\n",
       "      <td>...</td>\n",
       "      <td>...</td>\n",
       "      <td>...</td>\n",
       "      <td>...</td>\n",
       "      <td>...</td>\n",
       "      <td>...</td>\n",
       "      <td>...</td>\n",
       "      <td>...</td>\n",
       "      <td>...</td>\n",
       "      <td>...</td>\n",
       "      <td>...</td>\n",
       "      <td>...</td>\n",
       "      <td>...</td>\n",
       "    </tr>\n",
       "    <tr>\n",
       "      <th>vise</th>\n",
       "      <td>0.571494</td>\n",
       "      <td>-2.826918</td>\n",
       "      <td>1.862426</td>\n",
       "      <td>-3.573292</td>\n",
       "      <td>-1.220379</td>\n",
       "      <td>-3.292572</td>\n",
       "      <td>0.165798</td>\n",
       "      <td>0.843226</td>\n",
       "      <td>1.056491</td>\n",
       "      <td>-0.542817</td>\n",
       "      <td>...</td>\n",
       "      <td>-3.003185</td>\n",
       "      <td>-3.671720</td>\n",
       "      <td>-2.961078</td>\n",
       "      <td>-4.112127</td>\n",
       "      <td>NaN</td>\n",
       "      <td>NaN</td>\n",
       "      <td>viser</td>\n",
       "      <td>VER</td>\n",
       "      <td>13.96</td>\n",
       "      <td>0</td>\n",
       "    </tr>\n",
       "    <tr>\n",
       "      <th>diriger</th>\n",
       "      <td>-2.597307</td>\n",
       "      <td>1.046078</td>\n",
       "      <td>0.396200</td>\n",
       "      <td>1.359129</td>\n",
       "      <td>-2.464565</td>\n",
       "      <td>0.890573</td>\n",
       "      <td>1.203737</td>\n",
       "      <td>0.857030</td>\n",
       "      <td>1.990158</td>\n",
       "      <td>-3.986770</td>\n",
       "      <td>...</td>\n",
       "      <td>-5.210673</td>\n",
       "      <td>-4.461704</td>\n",
       "      <td>0.555919</td>\n",
       "      <td>-5.029737</td>\n",
       "      <td>NaN</td>\n",
       "      <td>NaN</td>\n",
       "      <td>diriger</td>\n",
       "      <td>VER</td>\n",
       "      <td>13.94</td>\n",
       "      <td>0</td>\n",
       "    </tr>\n",
       "    <tr>\n",
       "      <th>organiser</th>\n",
       "      <td>-3.487982</td>\n",
       "      <td>-0.044396</td>\n",
       "      <td>0.855691</td>\n",
       "      <td>1.090287</td>\n",
       "      <td>0.575098</td>\n",
       "      <td>-2.096214</td>\n",
       "      <td>-2.194631</td>\n",
       "      <td>-1.565821</td>\n",
       "      <td>0.929013</td>\n",
       "      <td>-3.366896</td>\n",
       "      <td>...</td>\n",
       "      <td>-3.442216</td>\n",
       "      <td>-3.223171</td>\n",
       "      <td>-0.091084</td>\n",
       "      <td>-4.142995</td>\n",
       "      <td>NaN</td>\n",
       "      <td>NaN</td>\n",
       "      <td>organiser</td>\n",
       "      <td>VER</td>\n",
       "      <td>13.93</td>\n",
       "      <td>0</td>\n",
       "    </tr>\n",
       "    <tr>\n",
       "      <th>pensons</th>\n",
       "      <td>0.423341</td>\n",
       "      <td>-0.972839</td>\n",
       "      <td>1.267903</td>\n",
       "      <td>-0.234426</td>\n",
       "      <td>2.370369</td>\n",
       "      <td>-0.144255</td>\n",
       "      <td>0.473892</td>\n",
       "      <td>2.735201</td>\n",
       "      <td>0.024333</td>\n",
       "      <td>-2.812480</td>\n",
       "      <td>...</td>\n",
       "      <td>-5.698886</td>\n",
       "      <td>-10.963478</td>\n",
       "      <td>-0.293781</td>\n",
       "      <td>-1.509404</td>\n",
       "      <td>NaN</td>\n",
       "      <td>NaN</td>\n",
       "      <td>penser</td>\n",
       "      <td>VER</td>\n",
       "      <td>13.89</td>\n",
       "      <td>0</td>\n",
       "    </tr>\n",
       "    <tr>\n",
       "      <th>cessé</th>\n",
       "      <td>7.198177</td>\n",
       "      <td>-4.191141</td>\n",
       "      <td>2.555475</td>\n",
       "      <td>0.548359</td>\n",
       "      <td>6.838806</td>\n",
       "      <td>-2.593792</td>\n",
       "      <td>-0.695675</td>\n",
       "      <td>-3.480640</td>\n",
       "      <td>-4.015185</td>\n",
       "      <td>1.423287</td>\n",
       "      <td>...</td>\n",
       "      <td>-5.836030</td>\n",
       "      <td>-1.508158</td>\n",
       "      <td>-6.306890</td>\n",
       "      <td>-1.022457</td>\n",
       "      <td>NaN</td>\n",
       "      <td>NaN</td>\n",
       "      <td>cesser</td>\n",
       "      <td>VER</td>\n",
       "      <td>13.89</td>\n",
       "      <td>0</td>\n",
       "    </tr>\n",
       "  </tbody>\n",
       "</table>\n",
       "<p>2000 rows × 518 columns</p>\n",
       "</div>"
      ],
      "text/plain": [
       "                  0         1         2         3         4         5  \\\n",
       "chose      0.657807  1.650356  2.463752 -4.890357 -0.208469 -5.273172   \n",
       "vie        0.728105 -3.619239  6.010180 -3.412671  4.317724 -2.456576   \n",
       "fois       0.930591  0.391257 -0.526626  1.497111 -1.076748  2.202879   \n",
       "père      -1.093649 -2.799815 -2.701471  0.991694 -0.667527 -5.704983   \n",
       "dieu       0.198962 -0.553110 -2.546090 -1.606250  1.540941 -1.225879   \n",
       "...             ...       ...       ...       ...       ...       ...   \n",
       "vise       0.571494 -2.826918  1.862426 -3.573292 -1.220379 -3.292572   \n",
       "diriger   -2.597307  1.046078  0.396200  1.359129 -2.464565  0.890573   \n",
       "organiser -3.487982 -0.044396  0.855691  1.090287  0.575098 -2.096214   \n",
       "pensons    0.423341 -0.972839  1.267903 -0.234426  2.370369 -0.144255   \n",
       "cessé      7.198177 -4.191141  2.555475  0.548359  6.838806 -2.593792   \n",
       "\n",
       "                  6         7         8         9  ...       508        509  \\\n",
       "chose     -2.022167  3.938069 -1.886973  0.658918  ...  0.059850  -4.353068   \n",
       "vie       -3.586677  1.279530  0.782081 -1.396616  ... -2.438175  -2.297100   \n",
       "fois      -1.588476 -0.458471 -1.804767 -0.920485  ... -2.843595  -0.272411   \n",
       "père      -1.606111 -3.485601 -2.109801 -1.120821  ... -2.552399  -2.937020   \n",
       "dieu       1.944866 -0.366766  1.950244  2.274500  ... -2.373324  -6.390708   \n",
       "...             ...       ...       ...       ...  ...       ...        ...   \n",
       "vise       0.165798  0.843226  1.056491 -0.542817  ... -3.003185  -3.671720   \n",
       "diriger    1.203737  0.857030  1.990158 -3.986770  ... -5.210673  -4.461704   \n",
       "organiser -2.194631 -1.565821  0.929013 -3.366896  ... -3.442216  -3.223171   \n",
       "pensons    0.473892  2.735201  0.024333 -2.812480  ... -5.698886 -10.963478   \n",
       "cessé     -0.695675 -3.480640 -4.015185  1.423287  ... -5.836030  -1.508158   \n",
       "\n",
       "                510       511        gn     gender      lemme  cgram     freq  \\\n",
       "chose     -1.477708 -6.344492  singular   feminine      chose    NOM  1321.79   \n",
       "vie       -0.613292  1.389376  singular   feminine        vie    NOM   986.59   \n",
       "fois       6.411278  3.698102    plural   feminine       fois    NOM   899.25   \n",
       "père      -3.374631 -5.006559  singular  masculine       père    NOM   879.31   \n",
       "dieu       0.005803 -5.595995  singular  masculine       dieu    NOM   852.91   \n",
       "...             ...       ...       ...        ...        ...    ...      ...   \n",
       "vise      -2.961078 -4.112127       NaN        NaN      viser    VER    13.96   \n",
       "diriger    0.555919 -5.029737       NaN        NaN    diriger    VER    13.94   \n",
       "organiser -0.091084 -4.142995       NaN        NaN  organiser    VER    13.93   \n",
       "pensons   -0.293781 -1.509404       NaN        NaN     penser    VER    13.89   \n",
       "cessé     -6.306890 -1.022457       NaN        NaN     cesser    VER    13.89   \n",
       "\n",
       "           pos  \n",
       "chose        1  \n",
       "vie          1  \n",
       "fois         1  \n",
       "père         1  \n",
       "dieu         1  \n",
       "...        ...  \n",
       "vise         0  \n",
       "diriger      0  \n",
       "organiser    0  \n",
       "pensons      0  \n",
       "cessé        0  \n",
       "\n",
       "[2000 rows x 518 columns]"
      ]
     },
     "execution_count": 25,
     "metadata": {},
     "output_type": "execute_result"
    }
   ],
   "source": [
    "unique_n_and_v_we"
   ]
  },
  {
   "cell_type": "code",
   "execution_count": 26,
   "metadata": {},
   "outputs": [
    {
     "data": {
      "text/html": [
       "<div>\n",
       "<style scoped>\n",
       "    .dataframe tbody tr th:only-of-type {\n",
       "        vertical-align: middle;\n",
       "    }\n",
       "\n",
       "    .dataframe tbody tr th {\n",
       "        vertical-align: top;\n",
       "    }\n",
       "\n",
       "    .dataframe thead th {\n",
       "        text-align: right;\n",
       "    }\n",
       "</style>\n",
       "<table border=\"1\" class=\"dataframe\">\n",
       "  <thead>\n",
       "    <tr style=\"text-align: right;\">\n",
       "      <th></th>\n",
       "      <th>181</th>\n",
       "      <th>508</th>\n",
       "      <th>408</th>\n",
       "      <th>229</th>\n",
       "      <th>497</th>\n",
       "      <th>158</th>\n",
       "      <th>pos</th>\n",
       "    </tr>\n",
       "  </thead>\n",
       "  <tbody>\n",
       "    <tr>\n",
       "      <th>181</th>\n",
       "      <td>1.000000</td>\n",
       "      <td>0.016654</td>\n",
       "      <td>-0.052839</td>\n",
       "      <td>-0.013247</td>\n",
       "      <td>0.074591</td>\n",
       "      <td>0.022839</td>\n",
       "      <td>-0.108830</td>\n",
       "    </tr>\n",
       "    <tr>\n",
       "      <th>508</th>\n",
       "      <td>0.016654</td>\n",
       "      <td>1.000000</td>\n",
       "      <td>0.054116</td>\n",
       "      <td>-0.035153</td>\n",
       "      <td>0.071824</td>\n",
       "      <td>0.202147</td>\n",
       "      <td>0.308473</td>\n",
       "    </tr>\n",
       "    <tr>\n",
       "      <th>408</th>\n",
       "      <td>-0.052839</td>\n",
       "      <td>0.054116</td>\n",
       "      <td>1.000000</td>\n",
       "      <td>0.068803</td>\n",
       "      <td>-0.007983</td>\n",
       "      <td>-0.047003</td>\n",
       "      <td>-0.013199</td>\n",
       "    </tr>\n",
       "    <tr>\n",
       "      <th>229</th>\n",
       "      <td>-0.013247</td>\n",
       "      <td>-0.035153</td>\n",
       "      <td>0.068803</td>\n",
       "      <td>1.000000</td>\n",
       "      <td>-0.007792</td>\n",
       "      <td>-0.172577</td>\n",
       "      <td>-0.193856</td>\n",
       "    </tr>\n",
       "    <tr>\n",
       "      <th>497</th>\n",
       "      <td>0.074591</td>\n",
       "      <td>0.071824</td>\n",
       "      <td>-0.007983</td>\n",
       "      <td>-0.007792</td>\n",
       "      <td>1.000000</td>\n",
       "      <td>0.069236</td>\n",
       "      <td>0.046234</td>\n",
       "    </tr>\n",
       "    <tr>\n",
       "      <th>158</th>\n",
       "      <td>0.022839</td>\n",
       "      <td>0.202147</td>\n",
       "      <td>-0.047003</td>\n",
       "      <td>-0.172577</td>\n",
       "      <td>0.069236</td>\n",
       "      <td>1.000000</td>\n",
       "      <td>0.323627</td>\n",
       "    </tr>\n",
       "    <tr>\n",
       "      <th>pos</th>\n",
       "      <td>-0.108830</td>\n",
       "      <td>0.308473</td>\n",
       "      <td>-0.013199</td>\n",
       "      <td>-0.193856</td>\n",
       "      <td>0.046234</td>\n",
       "      <td>0.323627</td>\n",
       "      <td>1.000000</td>\n",
       "    </tr>\n",
       "  </tbody>\n",
       "</table>\n",
       "</div>"
      ],
      "text/plain": [
       "          181       508       408       229       497       158       pos\n",
       "181  1.000000  0.016654 -0.052839 -0.013247  0.074591  0.022839 -0.108830\n",
       "508  0.016654  1.000000  0.054116 -0.035153  0.071824  0.202147  0.308473\n",
       "408 -0.052839  0.054116  1.000000  0.068803 -0.007983 -0.047003 -0.013199\n",
       "229 -0.013247 -0.035153  0.068803  1.000000 -0.007792 -0.172577 -0.193856\n",
       "497  0.074591  0.071824 -0.007983 -0.007792  1.000000  0.069236  0.046234\n",
       "158  0.022839  0.202147 -0.047003 -0.172577  0.069236  1.000000  0.323627\n",
       "pos -0.108830  0.308473 -0.013199 -0.193856  0.046234  0.323627  1.000000"
      ]
     },
     "execution_count": 26,
     "metadata": {},
     "output_type": "execute_result"
    }
   ],
   "source": [
    "unique_n_and_v_we.loc[:, [ '181', '508', '408', '229', '497', '158', 'pos']].corr()"
   ]
  },
  {
   "cell_type": "markdown",
   "metadata": {},
   "source": [
    "Dimension `508` seems to have the strongest correlation with PoS values, however, the correlation is not the very strong as well."
   ]
  },
  {
   "cell_type": "markdown",
   "metadata": {},
   "source": [
    "# Finding dimensions with highest correlation to PoS values"
   ]
  },
  {
   "cell_type": "markdown",
   "metadata": {},
   "source": [
    "Now for the top frequent nouns and verbs, we can go through all the dimensions and find the correlation of each  dimension with the PoS values: 0 for verbs and 1 for nouns."
   ]
  },
  {
   "cell_type": "code",
   "execution_count": 27,
   "metadata": {},
   "outputs": [
    {
     "data": {
      "text/html": [
       "<div>\n",
       "<style scoped>\n",
       "    .dataframe tbody tr th:only-of-type {\n",
       "        vertical-align: middle;\n",
       "    }\n",
       "\n",
       "    .dataframe tbody tr th {\n",
       "        vertical-align: top;\n",
       "    }\n",
       "\n",
       "    .dataframe thead th {\n",
       "        text-align: right;\n",
       "    }\n",
       "</style>\n",
       "<table border=\"1\" class=\"dataframe\">\n",
       "  <thead>\n",
       "    <tr style=\"text-align: right;\">\n",
       "      <th></th>\n",
       "      <th>corr_with_pos</th>\n",
       "      <th>sign</th>\n",
       "      <th>abs</th>\n",
       "    </tr>\n",
       "  </thead>\n",
       "  <tbody>\n",
       "    <tr>\n",
       "      <th>222</th>\n",
       "      <td>-0.408797</td>\n",
       "      <td>-1.0</td>\n",
       "      <td>0.408797</td>\n",
       "    </tr>\n",
       "    <tr>\n",
       "      <th>37</th>\n",
       "      <td>-0.411967</td>\n",
       "      <td>-1.0</td>\n",
       "      <td>0.411967</td>\n",
       "    </tr>\n",
       "    <tr>\n",
       "      <th>375</th>\n",
       "      <td>0.417988</td>\n",
       "      <td>1.0</td>\n",
       "      <td>0.417988</td>\n",
       "    </tr>\n",
       "    <tr>\n",
       "      <th>65</th>\n",
       "      <td>-0.425825</td>\n",
       "      <td>-1.0</td>\n",
       "      <td>0.425825</td>\n",
       "    </tr>\n",
       "    <tr>\n",
       "      <th>89</th>\n",
       "      <td>-0.426476</td>\n",
       "      <td>-1.0</td>\n",
       "      <td>0.426476</td>\n",
       "    </tr>\n",
       "    <tr>\n",
       "      <th>346</th>\n",
       "      <td>0.427125</td>\n",
       "      <td>1.0</td>\n",
       "      <td>0.427125</td>\n",
       "    </tr>\n",
       "    <tr>\n",
       "      <th>168</th>\n",
       "      <td>-0.428188</td>\n",
       "      <td>-1.0</td>\n",
       "      <td>0.428188</td>\n",
       "    </tr>\n",
       "    <tr>\n",
       "      <th>458</th>\n",
       "      <td>0.437890</td>\n",
       "      <td>1.0</td>\n",
       "      <td>0.437890</td>\n",
       "    </tr>\n",
       "    <tr>\n",
       "      <th>57</th>\n",
       "      <td>-0.439132</td>\n",
       "      <td>-1.0</td>\n",
       "      <td>0.439132</td>\n",
       "    </tr>\n",
       "    <tr>\n",
       "      <th>31</th>\n",
       "      <td>0.447914</td>\n",
       "      <td>1.0</td>\n",
       "      <td>0.447914</td>\n",
       "    </tr>\n",
       "    <tr>\n",
       "      <th>310</th>\n",
       "      <td>-0.476765</td>\n",
       "      <td>-1.0</td>\n",
       "      <td>0.476765</td>\n",
       "    </tr>\n",
       "    <tr>\n",
       "      <th>401</th>\n",
       "      <td>-0.482216</td>\n",
       "      <td>-1.0</td>\n",
       "      <td>0.482216</td>\n",
       "    </tr>\n",
       "    <tr>\n",
       "      <th>341</th>\n",
       "      <td>-0.490506</td>\n",
       "      <td>-1.0</td>\n",
       "      <td>0.490506</td>\n",
       "    </tr>\n",
       "    <tr>\n",
       "      <th>192</th>\n",
       "      <td>0.494389</td>\n",
       "      <td>1.0</td>\n",
       "      <td>0.494389</td>\n",
       "    </tr>\n",
       "    <tr>\n",
       "      <th>282</th>\n",
       "      <td>0.499051</td>\n",
       "      <td>1.0</td>\n",
       "      <td>0.499051</td>\n",
       "    </tr>\n",
       "    <tr>\n",
       "      <th>29</th>\n",
       "      <td>-0.502173</td>\n",
       "      <td>-1.0</td>\n",
       "      <td>0.502173</td>\n",
       "    </tr>\n",
       "    <tr>\n",
       "      <th>198</th>\n",
       "      <td>0.508086</td>\n",
       "      <td>1.0</td>\n",
       "      <td>0.508086</td>\n",
       "    </tr>\n",
       "    <tr>\n",
       "      <th>159</th>\n",
       "      <td>-0.543172</td>\n",
       "      <td>-1.0</td>\n",
       "      <td>0.543172</td>\n",
       "    </tr>\n",
       "    <tr>\n",
       "      <th>480</th>\n",
       "      <td>0.573627</td>\n",
       "      <td>1.0</td>\n",
       "      <td>0.573627</td>\n",
       "    </tr>\n",
       "    <tr>\n",
       "      <th>462</th>\n",
       "      <td>0.575263</td>\n",
       "      <td>1.0</td>\n",
       "      <td>0.575263</td>\n",
       "    </tr>\n",
       "  </tbody>\n",
       "</table>\n",
       "</div>"
      ],
      "text/plain": [
       "     corr_with_pos  sign       abs\n",
       "222      -0.408797  -1.0  0.408797\n",
       "37       -0.411967  -1.0  0.411967\n",
       "375       0.417988   1.0  0.417988\n",
       "65       -0.425825  -1.0  0.425825\n",
       "89       -0.426476  -1.0  0.426476\n",
       "346       0.427125   1.0  0.427125\n",
       "168      -0.428188  -1.0  0.428188\n",
       "458       0.437890   1.0  0.437890\n",
       "57       -0.439132  -1.0  0.439132\n",
       "31        0.447914   1.0  0.447914\n",
       "310      -0.476765  -1.0  0.476765\n",
       "401      -0.482216  -1.0  0.482216\n",
       "341      -0.490506  -1.0  0.490506\n",
       "192       0.494389   1.0  0.494389\n",
       "282       0.499051   1.0  0.499051\n",
       "29       -0.502173  -1.0  0.502173\n",
       "198       0.508086   1.0  0.508086\n",
       "159      -0.543172  -1.0  0.543172\n",
       "480       0.573627   1.0  0.573627\n",
       "462       0.575263   1.0  0.575263"
      ]
     },
     "execution_count": 27,
     "metadata": {},
     "output_type": "execute_result"
    }
   ],
   "source": [
    "pos_corr_freq_df = pd.DataFrame(columns=['corr_with_pos'])\n",
    "pos_list = []\n",
    "\n",
    "# Go through dimensions from 0 to 511\n",
    "for i in range(512):\n",
    "    # Find the correlation of the current column with \"freqlemlivres\" and add to the list\n",
    "    pos_list.append(unique_n_and_v_we.loc[:, [str(i), 'pos']].corr().iloc[0][-1])\n",
    "\n",
    "# Use the list values as \n",
    "pos_corr_freq_df['corr_with_pos'] = pos_list\n",
    "pos_corr_freq_df['sign'] = np.sign(pos_corr_freq_df['corr_with_pos'])\n",
    "pos_corr_freq_df['abs'] = abs(pos_corr_freq_df['corr_with_pos'])\n",
    "pos_corr_freq_df.sort_values('abs')[-20:]"
   ]
  },
  {
   "cell_type": "code",
   "execution_count": 28,
   "metadata": {},
   "outputs": [],
   "source": [
    "pos_corr_dim_freq = pos_corr_freq_df.sort_values('abs')[-10:].index"
   ]
  },
  {
   "cell_type": "markdown",
   "metadata": {},
   "source": [
    "Unlike in experiment before, we can see a new unseen dimension `462` emerging at the list of top correlated dimensions."
   ]
  },
  {
   "cell_type": "markdown",
   "metadata": {},
   "source": [
    "We can repeat the experiment on all unique nouns and verbs to see if this dimension is still highly correlated to PoS information:"
   ]
  },
  {
   "cell_type": "code",
   "execution_count": 29,
   "metadata": {},
   "outputs": [],
   "source": [
    "unique_verbs = top_freq_v[~top_freq_v.index.isin(all_nouns_with_freq.index)]\n",
    "unique_verbs_we = all_v_we.merge(unique_verbs, left_index=True, right_index=True)\n",
    "unique_verbs_we['pos'] = 0\n",
    "\n",
    "unique_nouns = all_nouns_with_freq[~all_nouns_with_freq.index.isin(top_freq_v.index)]\n",
    "unique_nouns_we = all_n_we.merge(unique_nouns, left_index=True, right_index=True)\n",
    "unique_nouns_we['pos'] = 1\n",
    "\n",
    "all_unique = pd.concat([unique_verbs_we, unique_nouns_we])"
   ]
  },
  {
   "cell_type": "code",
   "execution_count": 30,
   "metadata": {},
   "outputs": [
    {
     "data": {
      "text/html": [
       "<div>\n",
       "<style scoped>\n",
       "    .dataframe tbody tr th:only-of-type {\n",
       "        vertical-align: middle;\n",
       "    }\n",
       "\n",
       "    .dataframe tbody tr th {\n",
       "        vertical-align: top;\n",
       "    }\n",
       "\n",
       "    .dataframe thead th {\n",
       "        text-align: right;\n",
       "    }\n",
       "</style>\n",
       "<table border=\"1\" class=\"dataframe\">\n",
       "  <thead>\n",
       "    <tr style=\"text-align: right;\">\n",
       "      <th></th>\n",
       "      <th>corr_with_pos</th>\n",
       "      <th>sign</th>\n",
       "      <th>abs</th>\n",
       "    </tr>\n",
       "  </thead>\n",
       "  <tbody>\n",
       "    <tr>\n",
       "      <th>282</th>\n",
       "      <td>0.340653</td>\n",
       "      <td>1.0</td>\n",
       "      <td>0.340653</td>\n",
       "    </tr>\n",
       "    <tr>\n",
       "      <th>479</th>\n",
       "      <td>-0.353590</td>\n",
       "      <td>-1.0</td>\n",
       "      <td>0.353590</td>\n",
       "    </tr>\n",
       "    <tr>\n",
       "      <th>212</th>\n",
       "      <td>-0.353986</td>\n",
       "      <td>-1.0</td>\n",
       "      <td>0.353986</td>\n",
       "    </tr>\n",
       "    <tr>\n",
       "      <th>198</th>\n",
       "      <td>0.362031</td>\n",
       "      <td>1.0</td>\n",
       "      <td>0.362031</td>\n",
       "    </tr>\n",
       "    <tr>\n",
       "      <th>362</th>\n",
       "      <td>-0.372121</td>\n",
       "      <td>-1.0</td>\n",
       "      <td>0.372121</td>\n",
       "    </tr>\n",
       "    <tr>\n",
       "      <th>65</th>\n",
       "      <td>-0.377942</td>\n",
       "      <td>-1.0</td>\n",
       "      <td>0.377942</td>\n",
       "    </tr>\n",
       "    <tr>\n",
       "      <th>31</th>\n",
       "      <td>0.378955</td>\n",
       "      <td>1.0</td>\n",
       "      <td>0.378955</td>\n",
       "    </tr>\n",
       "    <tr>\n",
       "      <th>192</th>\n",
       "      <td>0.381596</td>\n",
       "      <td>1.0</td>\n",
       "      <td>0.381596</td>\n",
       "    </tr>\n",
       "    <tr>\n",
       "      <th>341</th>\n",
       "      <td>-0.383088</td>\n",
       "      <td>-1.0</td>\n",
       "      <td>0.383088</td>\n",
       "    </tr>\n",
       "    <tr>\n",
       "      <th>305</th>\n",
       "      <td>-0.389222</td>\n",
       "      <td>-1.0</td>\n",
       "      <td>0.389222</td>\n",
       "    </tr>\n",
       "    <tr>\n",
       "      <th>409</th>\n",
       "      <td>-0.411112</td>\n",
       "      <td>-1.0</td>\n",
       "      <td>0.411112</td>\n",
       "    </tr>\n",
       "    <tr>\n",
       "      <th>128</th>\n",
       "      <td>-0.411578</td>\n",
       "      <td>-1.0</td>\n",
       "      <td>0.411578</td>\n",
       "    </tr>\n",
       "    <tr>\n",
       "      <th>310</th>\n",
       "      <td>-0.413206</td>\n",
       "      <td>-1.0</td>\n",
       "      <td>0.413206</td>\n",
       "    </tr>\n",
       "    <tr>\n",
       "      <th>29</th>\n",
       "      <td>-0.415774</td>\n",
       "      <td>-1.0</td>\n",
       "      <td>0.415774</td>\n",
       "    </tr>\n",
       "    <tr>\n",
       "      <th>346</th>\n",
       "      <td>0.427051</td>\n",
       "      <td>1.0</td>\n",
       "      <td>0.427051</td>\n",
       "    </tr>\n",
       "    <tr>\n",
       "      <th>401</th>\n",
       "      <td>-0.427715</td>\n",
       "      <td>-1.0</td>\n",
       "      <td>0.427715</td>\n",
       "    </tr>\n",
       "    <tr>\n",
       "      <th>504</th>\n",
       "      <td>0.439824</td>\n",
       "      <td>1.0</td>\n",
       "      <td>0.439824</td>\n",
       "    </tr>\n",
       "    <tr>\n",
       "      <th>458</th>\n",
       "      <td>0.452948</td>\n",
       "      <td>1.0</td>\n",
       "      <td>0.452948</td>\n",
       "    </tr>\n",
       "    <tr>\n",
       "      <th>480</th>\n",
       "      <td>0.475768</td>\n",
       "      <td>1.0</td>\n",
       "      <td>0.475768</td>\n",
       "    </tr>\n",
       "    <tr>\n",
       "      <th>159</th>\n",
       "      <td>-0.516704</td>\n",
       "      <td>-1.0</td>\n",
       "      <td>0.516704</td>\n",
       "    </tr>\n",
       "  </tbody>\n",
       "</table>\n",
       "</div>"
      ],
      "text/plain": [
       "     corr_with_pos  sign       abs\n",
       "282       0.340653   1.0  0.340653\n",
       "479      -0.353590  -1.0  0.353590\n",
       "212      -0.353986  -1.0  0.353986\n",
       "198       0.362031   1.0  0.362031\n",
       "362      -0.372121  -1.0  0.372121\n",
       "65       -0.377942  -1.0  0.377942\n",
       "31        0.378955   1.0  0.378955\n",
       "192       0.381596   1.0  0.381596\n",
       "341      -0.383088  -1.0  0.383088\n",
       "305      -0.389222  -1.0  0.389222\n",
       "409      -0.411112  -1.0  0.411112\n",
       "128      -0.411578  -1.0  0.411578\n",
       "310      -0.413206  -1.0  0.413206\n",
       "29       -0.415774  -1.0  0.415774\n",
       "346       0.427051   1.0  0.427051\n",
       "401      -0.427715  -1.0  0.427715\n",
       "504       0.439824   1.0  0.439824\n",
       "458       0.452948   1.0  0.452948\n",
       "480       0.475768   1.0  0.475768\n",
       "159      -0.516704  -1.0  0.516704"
      ]
     },
     "execution_count": 30,
     "metadata": {},
     "output_type": "execute_result"
    }
   ],
   "source": [
    "pos_corr_all_df = pd.DataFrame(columns=['corr_with_pos'])\n",
    "\n",
    "pos_list = []\n",
    "\n",
    "# Go through dimensions from 0 to 511\n",
    "for i in range(512):\n",
    "    # Find the correlation of the current column with \"freqlemlivres\" and add to the list\n",
    "    pos_list.append(all_unique.loc[:, [str(i), 'pos']].corr().iloc[0][-1])\n",
    "\n",
    "# Use the list values as \n",
    "pos_corr_all_df['corr_with_pos'] = pos_list\n",
    "pos_corr_all_df['sign'] = np.sign(pos_corr_all_df['corr_with_pos'])\n",
    "pos_corr_all_df['abs'] = abs(pos_corr_all_df['corr_with_pos'])\n",
    "pos_corr_all_df.sort_values('abs')[-20:]"
   ]
  },
  {
   "cell_type": "code",
   "execution_count": 31,
   "metadata": {},
   "outputs": [],
   "source": [
    "pos_corr_dim_all = pos_corr_freq_df.sort_values('abs')[-10:].index"
   ]
  },
  {
   "cell_type": "markdown",
   "metadata": {},
   "source": [
    "Interestingly, if we're looking at all unique nouns and verbs without consideration for their frequency, dimensions `504` (previously not seen) and `401` become much more correlated with PoS, unlike most of other dimensions having a weaker correlation when less frequent verbs and nouns are included.\n",
    "\n",
    "Dimensions `462` (previously in top #1 of most correlated dimension, here not even in top #20) and `282` and `198` become less correlated with PoS information when less frequent words are added which can be a sign of these dimensions relying on some co-occurence information to be correlated with Pos information. \n",
    "\n",
    "Dimensions `159` and `480` remain one of the strongest correlated dimensions to PoS both for frequent and all words, which can be a sign that these dimensions encode some fundamental information about verbs/nouns which can be recognized by NN even for less frequent words."
   ]
  },
  {
   "cell_type": "markdown",
   "metadata": {},
   "source": [
    "# WE mean and WE std"
   ]
  },
  {
   "cell_type": "markdown",
   "metadata": {},
   "source": [
    "We can hypothesise that not only a dimension value can be correspondent to a PoS information but a mean value of all dimensions of a WE can be holding a connection to its PoS: since potentially multiple dimensions are correspondant to PoS. And similarly, the row's std could be related to the PoS as well.\n",
    "\n",
    "To test this we will first create `mean` and `std` columns:"
   ]
  },
  {
   "cell_type": "code",
   "execution_count": 32,
   "metadata": {},
   "outputs": [
    {
     "data": {
      "text/html": [
       "<div>\n",
       "<style scoped>\n",
       "    .dataframe tbody tr th:only-of-type {\n",
       "        vertical-align: middle;\n",
       "    }\n",
       "\n",
       "    .dataframe tbody tr th {\n",
       "        vertical-align: top;\n",
       "    }\n",
       "\n",
       "    .dataframe thead th {\n",
       "        text-align: right;\n",
       "    }\n",
       "</style>\n",
       "<table border=\"1\" class=\"dataframe\">\n",
       "  <thead>\n",
       "    <tr style=\"text-align: right;\">\n",
       "      <th></th>\n",
       "      <th>0</th>\n",
       "      <th>1</th>\n",
       "      <th>2</th>\n",
       "      <th>3</th>\n",
       "      <th>4</th>\n",
       "      <th>5</th>\n",
       "      <th>6</th>\n",
       "      <th>7</th>\n",
       "      <th>8</th>\n",
       "      <th>9</th>\n",
       "      <th>...</th>\n",
       "      <th>510</th>\n",
       "      <th>511</th>\n",
       "      <th>gn</th>\n",
       "      <th>gender</th>\n",
       "      <th>lemme</th>\n",
       "      <th>cgram</th>\n",
       "      <th>freq</th>\n",
       "      <th>pos</th>\n",
       "      <th>mean</th>\n",
       "      <th>std</th>\n",
       "    </tr>\n",
       "  </thead>\n",
       "  <tbody>\n",
       "    <tr>\n",
       "      <th>chose</th>\n",
       "      <td>0.657807</td>\n",
       "      <td>1.650356</td>\n",
       "      <td>2.463752</td>\n",
       "      <td>-4.890357</td>\n",
       "      <td>-0.208469</td>\n",
       "      <td>-5.273172</td>\n",
       "      <td>-2.022167</td>\n",
       "      <td>3.938069</td>\n",
       "      <td>-1.886973</td>\n",
       "      <td>0.658918</td>\n",
       "      <td>...</td>\n",
       "      <td>-1.477708</td>\n",
       "      <td>-6.344492</td>\n",
       "      <td>singular</td>\n",
       "      <td>feminine</td>\n",
       "      <td>chose</td>\n",
       "      <td>NOM</td>\n",
       "      <td>1321.79</td>\n",
       "      <td>1</td>\n",
       "      <td>-0.086412</td>\n",
       "      <td>3.691967</td>\n",
       "    </tr>\n",
       "    <tr>\n",
       "      <th>vie</th>\n",
       "      <td>0.728105</td>\n",
       "      <td>-3.619239</td>\n",
       "      <td>6.010180</td>\n",
       "      <td>-3.412671</td>\n",
       "      <td>4.317724</td>\n",
       "      <td>-2.456576</td>\n",
       "      <td>-3.586677</td>\n",
       "      <td>1.279530</td>\n",
       "      <td>0.782081</td>\n",
       "      <td>-1.396616</td>\n",
       "      <td>...</td>\n",
       "      <td>-0.613292</td>\n",
       "      <td>1.389376</td>\n",
       "      <td>singular</td>\n",
       "      <td>feminine</td>\n",
       "      <td>vie</td>\n",
       "      <td>NOM</td>\n",
       "      <td>986.59</td>\n",
       "      <td>1</td>\n",
       "      <td>-0.192779</td>\n",
       "      <td>3.670620</td>\n",
       "    </tr>\n",
       "    <tr>\n",
       "      <th>fois</th>\n",
       "      <td>0.930591</td>\n",
       "      <td>0.391257</td>\n",
       "      <td>-0.526626</td>\n",
       "      <td>1.497111</td>\n",
       "      <td>-1.076748</td>\n",
       "      <td>2.202879</td>\n",
       "      <td>-1.588476</td>\n",
       "      <td>-0.458471</td>\n",
       "      <td>-1.804767</td>\n",
       "      <td>-0.920485</td>\n",
       "      <td>...</td>\n",
       "      <td>6.411278</td>\n",
       "      <td>3.698102</td>\n",
       "      <td>plural</td>\n",
       "      <td>feminine</td>\n",
       "      <td>fois</td>\n",
       "      <td>NOM</td>\n",
       "      <td>899.25</td>\n",
       "      <td>1</td>\n",
       "      <td>-0.133329</td>\n",
       "      <td>3.709590</td>\n",
       "    </tr>\n",
       "    <tr>\n",
       "      <th>père</th>\n",
       "      <td>-1.093649</td>\n",
       "      <td>-2.799815</td>\n",
       "      <td>-2.701471</td>\n",
       "      <td>0.991694</td>\n",
       "      <td>-0.667527</td>\n",
       "      <td>-5.704983</td>\n",
       "      <td>-1.606111</td>\n",
       "      <td>-3.485601</td>\n",
       "      <td>-2.109801</td>\n",
       "      <td>-1.120821</td>\n",
       "      <td>...</td>\n",
       "      <td>-3.374631</td>\n",
       "      <td>-5.006559</td>\n",
       "      <td>singular</td>\n",
       "      <td>masculine</td>\n",
       "      <td>père</td>\n",
       "      <td>NOM</td>\n",
       "      <td>879.31</td>\n",
       "      <td>1</td>\n",
       "      <td>-0.213956</td>\n",
       "      <td>3.612786</td>\n",
       "    </tr>\n",
       "    <tr>\n",
       "      <th>dieu</th>\n",
       "      <td>0.198962</td>\n",
       "      <td>-0.553110</td>\n",
       "      <td>-2.546090</td>\n",
       "      <td>-1.606250</td>\n",
       "      <td>1.540941</td>\n",
       "      <td>-1.225879</td>\n",
       "      <td>1.944866</td>\n",
       "      <td>-0.366766</td>\n",
       "      <td>1.950244</td>\n",
       "      <td>2.274500</td>\n",
       "      <td>...</td>\n",
       "      <td>0.005803</td>\n",
       "      <td>-5.595995</td>\n",
       "      <td>singular</td>\n",
       "      <td>masculine</td>\n",
       "      <td>dieu</td>\n",
       "      <td>NOM</td>\n",
       "      <td>852.91</td>\n",
       "      <td>1</td>\n",
       "      <td>0.027297</td>\n",
       "      <td>3.614695</td>\n",
       "    </tr>\n",
       "    <tr>\n",
       "      <th>...</th>\n",
       "      <td>...</td>\n",
       "      <td>...</td>\n",
       "      <td>...</td>\n",
       "      <td>...</td>\n",
       "      <td>...</td>\n",
       "      <td>...</td>\n",
       "      <td>...</td>\n",
       "      <td>...</td>\n",
       "      <td>...</td>\n",
       "      <td>...</td>\n",
       "      <td>...</td>\n",
       "      <td>...</td>\n",
       "      <td>...</td>\n",
       "      <td>...</td>\n",
       "      <td>...</td>\n",
       "      <td>...</td>\n",
       "      <td>...</td>\n",
       "      <td>...</td>\n",
       "      <td>...</td>\n",
       "      <td>...</td>\n",
       "      <td>...</td>\n",
       "    </tr>\n",
       "    <tr>\n",
       "      <th>vise</th>\n",
       "      <td>0.571494</td>\n",
       "      <td>-2.826918</td>\n",
       "      <td>1.862426</td>\n",
       "      <td>-3.573292</td>\n",
       "      <td>-1.220379</td>\n",
       "      <td>-3.292572</td>\n",
       "      <td>0.165798</td>\n",
       "      <td>0.843226</td>\n",
       "      <td>1.056491</td>\n",
       "      <td>-0.542817</td>\n",
       "      <td>...</td>\n",
       "      <td>-2.961078</td>\n",
       "      <td>-4.112127</td>\n",
       "      <td>NaN</td>\n",
       "      <td>NaN</td>\n",
       "      <td>viser</td>\n",
       "      <td>VER</td>\n",
       "      <td>13.96</td>\n",
       "      <td>0</td>\n",
       "      <td>0.100711</td>\n",
       "      <td>3.921409</td>\n",
       "    </tr>\n",
       "    <tr>\n",
       "      <th>diriger</th>\n",
       "      <td>-2.597307</td>\n",
       "      <td>1.046078</td>\n",
       "      <td>0.396200</td>\n",
       "      <td>1.359129</td>\n",
       "      <td>-2.464565</td>\n",
       "      <td>0.890573</td>\n",
       "      <td>1.203737</td>\n",
       "      <td>0.857030</td>\n",
       "      <td>1.990158</td>\n",
       "      <td>-3.986770</td>\n",
       "      <td>...</td>\n",
       "      <td>0.555919</td>\n",
       "      <td>-5.029737</td>\n",
       "      <td>NaN</td>\n",
       "      <td>NaN</td>\n",
       "      <td>diriger</td>\n",
       "      <td>VER</td>\n",
       "      <td>13.94</td>\n",
       "      <td>0</td>\n",
       "      <td>-0.107744</td>\n",
       "      <td>3.538539</td>\n",
       "    </tr>\n",
       "    <tr>\n",
       "      <th>organiser</th>\n",
       "      <td>-3.487982</td>\n",
       "      <td>-0.044396</td>\n",
       "      <td>0.855691</td>\n",
       "      <td>1.090287</td>\n",
       "      <td>0.575098</td>\n",
       "      <td>-2.096214</td>\n",
       "      <td>-2.194631</td>\n",
       "      <td>-1.565821</td>\n",
       "      <td>0.929013</td>\n",
       "      <td>-3.366896</td>\n",
       "      <td>...</td>\n",
       "      <td>-0.091084</td>\n",
       "      <td>-4.142995</td>\n",
       "      <td>NaN</td>\n",
       "      <td>NaN</td>\n",
       "      <td>organiser</td>\n",
       "      <td>VER</td>\n",
       "      <td>13.93</td>\n",
       "      <td>0</td>\n",
       "      <td>0.232700</td>\n",
       "      <td>3.625111</td>\n",
       "    </tr>\n",
       "    <tr>\n",
       "      <th>pensons</th>\n",
       "      <td>0.423341</td>\n",
       "      <td>-0.972839</td>\n",
       "      <td>1.267903</td>\n",
       "      <td>-0.234426</td>\n",
       "      <td>2.370369</td>\n",
       "      <td>-0.144255</td>\n",
       "      <td>0.473892</td>\n",
       "      <td>2.735201</td>\n",
       "      <td>0.024333</td>\n",
       "      <td>-2.812480</td>\n",
       "      <td>...</td>\n",
       "      <td>-0.293781</td>\n",
       "      <td>-1.509404</td>\n",
       "      <td>NaN</td>\n",
       "      <td>NaN</td>\n",
       "      <td>penser</td>\n",
       "      <td>VER</td>\n",
       "      <td>13.89</td>\n",
       "      <td>0</td>\n",
       "      <td>-0.186275</td>\n",
       "      <td>3.496759</td>\n",
       "    </tr>\n",
       "    <tr>\n",
       "      <th>cessé</th>\n",
       "      <td>7.198177</td>\n",
       "      <td>-4.191141</td>\n",
       "      <td>2.555475</td>\n",
       "      <td>0.548359</td>\n",
       "      <td>6.838806</td>\n",
       "      <td>-2.593792</td>\n",
       "      <td>-0.695675</td>\n",
       "      <td>-3.480640</td>\n",
       "      <td>-4.015185</td>\n",
       "      <td>1.423287</td>\n",
       "      <td>...</td>\n",
       "      <td>-6.306890</td>\n",
       "      <td>-1.022457</td>\n",
       "      <td>NaN</td>\n",
       "      <td>NaN</td>\n",
       "      <td>cesser</td>\n",
       "      <td>VER</td>\n",
       "      <td>13.89</td>\n",
       "      <td>0</td>\n",
       "      <td>-0.156326</td>\n",
       "      <td>4.123716</td>\n",
       "    </tr>\n",
       "  </tbody>\n",
       "</table>\n",
       "<p>2000 rows × 520 columns</p>\n",
       "</div>"
      ],
      "text/plain": [
       "                  0         1         2         3         4         5  \\\n",
       "chose      0.657807  1.650356  2.463752 -4.890357 -0.208469 -5.273172   \n",
       "vie        0.728105 -3.619239  6.010180 -3.412671  4.317724 -2.456576   \n",
       "fois       0.930591  0.391257 -0.526626  1.497111 -1.076748  2.202879   \n",
       "père      -1.093649 -2.799815 -2.701471  0.991694 -0.667527 -5.704983   \n",
       "dieu       0.198962 -0.553110 -2.546090 -1.606250  1.540941 -1.225879   \n",
       "...             ...       ...       ...       ...       ...       ...   \n",
       "vise       0.571494 -2.826918  1.862426 -3.573292 -1.220379 -3.292572   \n",
       "diriger   -2.597307  1.046078  0.396200  1.359129 -2.464565  0.890573   \n",
       "organiser -3.487982 -0.044396  0.855691  1.090287  0.575098 -2.096214   \n",
       "pensons    0.423341 -0.972839  1.267903 -0.234426  2.370369 -0.144255   \n",
       "cessé      7.198177 -4.191141  2.555475  0.548359  6.838806 -2.593792   \n",
       "\n",
       "                  6         7         8         9  ...       510       511  \\\n",
       "chose     -2.022167  3.938069 -1.886973  0.658918  ... -1.477708 -6.344492   \n",
       "vie       -3.586677  1.279530  0.782081 -1.396616  ... -0.613292  1.389376   \n",
       "fois      -1.588476 -0.458471 -1.804767 -0.920485  ...  6.411278  3.698102   \n",
       "père      -1.606111 -3.485601 -2.109801 -1.120821  ... -3.374631 -5.006559   \n",
       "dieu       1.944866 -0.366766  1.950244  2.274500  ...  0.005803 -5.595995   \n",
       "...             ...       ...       ...       ...  ...       ...       ...   \n",
       "vise       0.165798  0.843226  1.056491 -0.542817  ... -2.961078 -4.112127   \n",
       "diriger    1.203737  0.857030  1.990158 -3.986770  ...  0.555919 -5.029737   \n",
       "organiser -2.194631 -1.565821  0.929013 -3.366896  ... -0.091084 -4.142995   \n",
       "pensons    0.473892  2.735201  0.024333 -2.812480  ... -0.293781 -1.509404   \n",
       "cessé     -0.695675 -3.480640 -4.015185  1.423287  ... -6.306890 -1.022457   \n",
       "\n",
       "                 gn     gender      lemme  cgram     freq  pos      mean  \\\n",
       "chose      singular   feminine      chose    NOM  1321.79    1 -0.086412   \n",
       "vie        singular   feminine        vie    NOM   986.59    1 -0.192779   \n",
       "fois         plural   feminine       fois    NOM   899.25    1 -0.133329   \n",
       "père       singular  masculine       père    NOM   879.31    1 -0.213956   \n",
       "dieu       singular  masculine       dieu    NOM   852.91    1  0.027297   \n",
       "...             ...        ...        ...    ...      ...  ...       ...   \n",
       "vise            NaN        NaN      viser    VER    13.96    0  0.100711   \n",
       "diriger         NaN        NaN    diriger    VER    13.94    0 -0.107744   \n",
       "organiser       NaN        NaN  organiser    VER    13.93    0  0.232700   \n",
       "pensons         NaN        NaN     penser    VER    13.89    0 -0.186275   \n",
       "cessé           NaN        NaN     cesser    VER    13.89    0 -0.156326   \n",
       "\n",
       "                std  \n",
       "chose      3.691967  \n",
       "vie        3.670620  \n",
       "fois       3.709590  \n",
       "père       3.612786  \n",
       "dieu       3.614695  \n",
       "...             ...  \n",
       "vise       3.921409  \n",
       "diriger    3.538539  \n",
       "organiser  3.625111  \n",
       "pensons    3.496759  \n",
       "cessé      4.123716  \n",
       "\n",
       "[2000 rows x 520 columns]"
      ]
     },
     "execution_count": 32,
     "metadata": {},
     "output_type": "execute_result"
    }
   ],
   "source": [
    "unique_n_and_v_we['mean'] = unique_n_and_v_we.loc[:, :'511'].mean(axis=1)\n",
    "unique_n_and_v_we['std'] = unique_n_and_v_we.loc[:, :'511'].std(axis=1)\n",
    "unique_n_and_v_we"
   ]
  },
  {
   "cell_type": "code",
   "execution_count": 33,
   "metadata": {},
   "outputs": [
    {
     "data": {
      "text/html": [
       "<div>\n",
       "<style scoped>\n",
       "    .dataframe tbody tr th:only-of-type {\n",
       "        vertical-align: middle;\n",
       "    }\n",
       "\n",
       "    .dataframe tbody tr th {\n",
       "        vertical-align: top;\n",
       "    }\n",
       "\n",
       "    .dataframe thead th {\n",
       "        text-align: right;\n",
       "    }\n",
       "</style>\n",
       "<table border=\"1\" class=\"dataframe\">\n",
       "  <thead>\n",
       "    <tr style=\"text-align: right;\">\n",
       "      <th></th>\n",
       "      <th>pos</th>\n",
       "      <th>mean</th>\n",
       "      <th>std</th>\n",
       "    </tr>\n",
       "  </thead>\n",
       "  <tbody>\n",
       "    <tr>\n",
       "      <th>pos</th>\n",
       "      <td>1.000000</td>\n",
       "      <td>-0.026970</td>\n",
       "      <td>0.269545</td>\n",
       "    </tr>\n",
       "    <tr>\n",
       "      <th>mean</th>\n",
       "      <td>-0.026970</td>\n",
       "      <td>1.000000</td>\n",
       "      <td>0.218912</td>\n",
       "    </tr>\n",
       "    <tr>\n",
       "      <th>std</th>\n",
       "      <td>0.269545</td>\n",
       "      <td>0.218912</td>\n",
       "      <td>1.000000</td>\n",
       "    </tr>\n",
       "  </tbody>\n",
       "</table>\n",
       "</div>"
      ],
      "text/plain": [
       "           pos      mean       std\n",
       "pos   1.000000 -0.026970  0.269545\n",
       "mean -0.026970  1.000000  0.218912\n",
       "std   0.269545  0.218912  1.000000"
      ]
     },
     "execution_count": 33,
     "metadata": {},
     "output_type": "execute_result"
    }
   ],
   "source": [
    "unique_n_and_v_we.loc[:, ['pos', 'mean', 'std']].corr()"
   ]
  },
  {
   "cell_type": "markdown",
   "metadata": {},
   "source": [
    "Even though the correlation is not as strong as have been seen above, there is slight correlation between PoS and standard deviation of values of a WE."
   ]
  },
  {
   "cell_type": "markdown",
   "metadata": {},
   "source": [
    "# Constructing an average vector for nouns and verbs"
   ]
  },
  {
   "cell_type": "markdown",
   "metadata": {},
   "source": [
    "We can construct an average WE for our set of unique frequent nouns and then one for unique frequent verbs.\n",
    "\n",
    "We can use this to find the closest and furthest dimensions between the 2 average vectors. For closest dimensions of an average noun and verb WE, we can assume that they don't encode PoS information and can be ignored. Contrary, the dimensions with furthest distance between dimensions can be considered for containing PoS information.\n",
    "\n",
    "Let's start by constructing the average WE vectors:"
   ]
  },
  {
   "cell_type": "code",
   "execution_count": 34,
   "metadata": {},
   "outputs": [
    {
     "data": {
      "text/plain": [
       "0      2.147730\n",
       "1     -1.642748\n",
       "2      0.458879\n",
       "3     -1.525075\n",
       "4      0.807112\n",
       "         ...   \n",
       "507   -3.889314\n",
       "508   -3.024137\n",
       "509   -3.678226\n",
       "510    1.704189\n",
       "511   -2.570454\n",
       "Length: 512, dtype: float64"
      ]
     },
     "execution_count": 34,
     "metadata": {},
     "output_type": "execute_result"
    }
   ],
   "source": [
    "avg_n = unique_n_and_v_we[unique_n_and_v_we['cgram'] == 'NOM'].loc[:, :'511'].mean()\n",
    "avg_n"
   ]
  },
  {
   "cell_type": "code",
   "execution_count": 35,
   "metadata": {},
   "outputs": [
    {
     "data": {
      "text/plain": [
       "0      1.473284\n",
       "1     -0.299126\n",
       "2     -0.131543\n",
       "3     -1.068302\n",
       "4      0.578899\n",
       "         ...   \n",
       "507   -3.626909\n",
       "508   -4.184445\n",
       "509   -5.102227\n",
       "510    0.270473\n",
       "511   -2.614982\n",
       "Length: 512, dtype: float64"
      ]
     },
     "execution_count": 35,
     "metadata": {},
     "output_type": "execute_result"
    }
   ],
   "source": [
    "avg_v = unique_n_and_v_we[unique_n_and_v_we['cgram'] == 'VER'].loc[:, :'511'].mean()\n",
    "avg_v"
   ]
  },
  {
   "cell_type": "markdown",
   "metadata": {},
   "source": [
    "Now we can find difference between the two:"
   ]
  },
  {
   "cell_type": "code",
   "execution_count": 36,
   "metadata": {},
   "outputs": [
    {
     "data": {
      "text/plain": [
       "367    0.003473\n",
       "350    0.004178\n",
       "385    0.005239\n",
       "422    0.010430\n",
       "47     0.015497\n",
       "391    0.024255\n",
       "474    0.032262\n",
       "54     0.032404\n",
       "498    0.032589\n",
       "440    0.038429\n",
       "dtype: float64"
      ]
     },
     "execution_count": 36,
     "metadata": {},
     "output_type": "execute_result"
    }
   ],
   "source": [
    "diff = abs(avg_n - avg_v)\n",
    "diff.sort_values()[:10]"
   ]
  },
  {
   "cell_type": "markdown",
   "metadata": {},
   "source": [
    "Dimension `367` appears to be the one with the lowest difference between nouns and verbs, meaning the information there is very unlikely to be PoS related and indeed we haven't see any of these dimensions in our previous analysis of dimensions for PoS information."
   ]
  },
  {
   "cell_type": "code",
   "execution_count": 37,
   "metadata": {},
   "outputs": [
    {
     "data": {
      "text/plain": [
       "159    2.857245\n",
       "29     2.883178\n",
       "462    2.883574\n",
       "192    2.955441\n",
       "282    2.975346\n",
       "341    3.067936\n",
       "310    3.179596\n",
       "480    3.550972\n",
       "198    3.554250\n",
       "371    3.829593\n",
       "dtype: float64"
      ]
     },
     "execution_count": 37,
     "metadata": {},
     "output_type": "execute_result"
    }
   ],
   "source": [
    "diff.sort_values()[-10:]"
   ]
  },
  {
   "cell_type": "markdown",
   "metadata": {},
   "source": [
    "We can see the results here beeing polluted by dimension `371` appearing as of one of the dimensions with the biggest difference in values between nouns and verbs. \n",
    "\n",
    "Other dimensions seemingly previously appeared in the high correlation analysis. "
   ]
  },
  {
   "cell_type": "markdown",
   "metadata": {},
   "source": [
    "Once again, all the dimensions have previously appeared during the correlation analysis and potentially this experiment can be used to predict correlation."
   ]
  },
  {
   "cell_type": "markdown",
   "metadata": {},
   "source": [
    "# Investigating the dimensions"
   ]
  },
  {
   "cell_type": "markdown",
   "metadata": {},
   "source": [
    "We can now have a look at the dimensions that appear most frequently appearing dimensions:"
   ]
  },
  {
   "cell_type": "code",
   "execution_count": 38,
   "metadata": {},
   "outputs": [],
   "source": [
    "high_corr_dims = set(pos_corr_dim_all).union(set(pos_corr_dim_freq))"
   ]
  },
  {
   "cell_type": "code",
   "execution_count": 39,
   "metadata": {},
   "outputs": [],
   "source": [
    "high_corr_dims = set(map(lambda x: str(x), high_corr_dims))"
   ]
  },
  {
   "cell_type": "markdown",
   "metadata": {},
   "source": [
    "We will analyze dimensions that previously appeared in either top 10 most correlated dimensions for most frequent words or all words and as well appeared in the dimensions with biggest diffences between values of average vector for nouns and verbs:"
   ]
  },
  {
   "cell_type": "code",
   "execution_count": 40,
   "metadata": {},
   "outputs": [
    {
     "data": {
      "text/plain": [
       "{'159', '192', '198', '282', '29', '310', '341', '401', '462', '480'}"
      ]
     },
     "execution_count": 40,
     "metadata": {},
     "output_type": "execute_result"
    }
   ],
   "source": [
    "high_corr_dims"
   ]
  },
  {
   "cell_type": "markdown",
   "metadata": {},
   "source": [
    "We can have a look at the nouns and verbs that have the highest and lowest values in this dimensions to validate whether or not these dimensions can be correspondant to PoS."
   ]
  },
  {
   "cell_type": "markdown",
   "metadata": {},
   "source": [
    "Before proceeding we can have a look at the correlation of the dimensions between themselves and with PoS information:"
   ]
  },
  {
   "cell_type": "code",
   "execution_count": 41,
   "metadata": {},
   "outputs": [
    {
     "data": {
      "text/html": [
       "<div>\n",
       "<style scoped>\n",
       "    .dataframe tbody tr th:only-of-type {\n",
       "        vertical-align: middle;\n",
       "    }\n",
       "\n",
       "    .dataframe tbody tr th {\n",
       "        vertical-align: top;\n",
       "    }\n",
       "\n",
       "    .dataframe thead th {\n",
       "        text-align: right;\n",
       "    }\n",
       "</style>\n",
       "<table border=\"1\" class=\"dataframe\">\n",
       "  <thead>\n",
       "    <tr style=\"text-align: right;\">\n",
       "      <th></th>\n",
       "      <th>29</th>\n",
       "      <th>159</th>\n",
       "      <th>192</th>\n",
       "      <th>198</th>\n",
       "      <th>282</th>\n",
       "      <th>310</th>\n",
       "      <th>341</th>\n",
       "      <th>401</th>\n",
       "      <th>462</th>\n",
       "      <th>480</th>\n",
       "      <th>pos</th>\n",
       "    </tr>\n",
       "  </thead>\n",
       "  <tbody>\n",
       "    <tr>\n",
       "      <th>29</th>\n",
       "      <td>1.000000</td>\n",
       "      <td>0.404166</td>\n",
       "      <td>-0.415413</td>\n",
       "      <td>-0.392600</td>\n",
       "      <td>-0.306374</td>\n",
       "      <td>0.389057</td>\n",
       "      <td>0.372838</td>\n",
       "      <td>0.282969</td>\n",
       "      <td>-0.296297</td>\n",
       "      <td>-0.421450</td>\n",
       "      <td>-0.502173</td>\n",
       "    </tr>\n",
       "    <tr>\n",
       "      <th>159</th>\n",
       "      <td>0.404166</td>\n",
       "      <td>1.000000</td>\n",
       "      <td>-0.468207</td>\n",
       "      <td>-0.263244</td>\n",
       "      <td>-0.305883</td>\n",
       "      <td>0.424673</td>\n",
       "      <td>0.267362</td>\n",
       "      <td>0.296398</td>\n",
       "      <td>-0.250185</td>\n",
       "      <td>-0.454845</td>\n",
       "      <td>-0.543172</td>\n",
       "    </tr>\n",
       "    <tr>\n",
       "      <th>192</th>\n",
       "      <td>-0.415413</td>\n",
       "      <td>-0.468207</td>\n",
       "      <td>1.000000</td>\n",
       "      <td>0.177357</td>\n",
       "      <td>0.169868</td>\n",
       "      <td>-0.338355</td>\n",
       "      <td>-0.199752</td>\n",
       "      <td>-0.222443</td>\n",
       "      <td>0.251214</td>\n",
       "      <td>0.384192</td>\n",
       "      <td>0.494389</td>\n",
       "    </tr>\n",
       "    <tr>\n",
       "      <th>198</th>\n",
       "      <td>-0.392600</td>\n",
       "      <td>-0.263244</td>\n",
       "      <td>0.177357</td>\n",
       "      <td>1.000000</td>\n",
       "      <td>0.522062</td>\n",
       "      <td>-0.259180</td>\n",
       "      <td>-0.326960</td>\n",
       "      <td>-0.449333</td>\n",
       "      <td>0.319750</td>\n",
       "      <td>0.327839</td>\n",
       "      <td>0.508086</td>\n",
       "    </tr>\n",
       "    <tr>\n",
       "      <th>282</th>\n",
       "      <td>-0.306374</td>\n",
       "      <td>-0.305883</td>\n",
       "      <td>0.169868</td>\n",
       "      <td>0.522062</td>\n",
       "      <td>1.000000</td>\n",
       "      <td>-0.307291</td>\n",
       "      <td>-0.285612</td>\n",
       "      <td>-0.446130</td>\n",
       "      <td>0.291206</td>\n",
       "      <td>0.324802</td>\n",
       "      <td>0.499051</td>\n",
       "    </tr>\n",
       "    <tr>\n",
       "      <th>310</th>\n",
       "      <td>0.389057</td>\n",
       "      <td>0.424673</td>\n",
       "      <td>-0.338355</td>\n",
       "      <td>-0.259180</td>\n",
       "      <td>-0.307291</td>\n",
       "      <td>1.000000</td>\n",
       "      <td>0.301786</td>\n",
       "      <td>0.443196</td>\n",
       "      <td>-0.403365</td>\n",
       "      <td>-0.493214</td>\n",
       "      <td>-0.476765</td>\n",
       "    </tr>\n",
       "    <tr>\n",
       "      <th>341</th>\n",
       "      <td>0.372838</td>\n",
       "      <td>0.267362</td>\n",
       "      <td>-0.199752</td>\n",
       "      <td>-0.326960</td>\n",
       "      <td>-0.285612</td>\n",
       "      <td>0.301786</td>\n",
       "      <td>1.000000</td>\n",
       "      <td>0.384549</td>\n",
       "      <td>-0.368916</td>\n",
       "      <td>-0.324868</td>\n",
       "      <td>-0.490506</td>\n",
       "    </tr>\n",
       "    <tr>\n",
       "      <th>401</th>\n",
       "      <td>0.282969</td>\n",
       "      <td>0.296398</td>\n",
       "      <td>-0.222443</td>\n",
       "      <td>-0.449333</td>\n",
       "      <td>-0.446130</td>\n",
       "      <td>0.443196</td>\n",
       "      <td>0.384549</td>\n",
       "      <td>1.000000</td>\n",
       "      <td>-0.387061</td>\n",
       "      <td>-0.258587</td>\n",
       "      <td>-0.482216</td>\n",
       "    </tr>\n",
       "    <tr>\n",
       "      <th>462</th>\n",
       "      <td>-0.296297</td>\n",
       "      <td>-0.250185</td>\n",
       "      <td>0.251214</td>\n",
       "      <td>0.319750</td>\n",
       "      <td>0.291206</td>\n",
       "      <td>-0.403365</td>\n",
       "      <td>-0.368916</td>\n",
       "      <td>-0.387061</td>\n",
       "      <td>1.000000</td>\n",
       "      <td>0.349837</td>\n",
       "      <td>0.575263</td>\n",
       "    </tr>\n",
       "    <tr>\n",
       "      <th>480</th>\n",
       "      <td>-0.421450</td>\n",
       "      <td>-0.454845</td>\n",
       "      <td>0.384192</td>\n",
       "      <td>0.327839</td>\n",
       "      <td>0.324802</td>\n",
       "      <td>-0.493214</td>\n",
       "      <td>-0.324868</td>\n",
       "      <td>-0.258587</td>\n",
       "      <td>0.349837</td>\n",
       "      <td>1.000000</td>\n",
       "      <td>0.573627</td>\n",
       "    </tr>\n",
       "    <tr>\n",
       "      <th>pos</th>\n",
       "      <td>-0.502173</td>\n",
       "      <td>-0.543172</td>\n",
       "      <td>0.494389</td>\n",
       "      <td>0.508086</td>\n",
       "      <td>0.499051</td>\n",
       "      <td>-0.476765</td>\n",
       "      <td>-0.490506</td>\n",
       "      <td>-0.482216</td>\n",
       "      <td>0.575263</td>\n",
       "      <td>0.573627</td>\n",
       "      <td>1.000000</td>\n",
       "    </tr>\n",
       "  </tbody>\n",
       "</table>\n",
       "</div>"
      ],
      "text/plain": [
       "           29       159       192       198       282       310       341  \\\n",
       "29   1.000000  0.404166 -0.415413 -0.392600 -0.306374  0.389057  0.372838   \n",
       "159  0.404166  1.000000 -0.468207 -0.263244 -0.305883  0.424673  0.267362   \n",
       "192 -0.415413 -0.468207  1.000000  0.177357  0.169868 -0.338355 -0.199752   \n",
       "198 -0.392600 -0.263244  0.177357  1.000000  0.522062 -0.259180 -0.326960   \n",
       "282 -0.306374 -0.305883  0.169868  0.522062  1.000000 -0.307291 -0.285612   \n",
       "310  0.389057  0.424673 -0.338355 -0.259180 -0.307291  1.000000  0.301786   \n",
       "341  0.372838  0.267362 -0.199752 -0.326960 -0.285612  0.301786  1.000000   \n",
       "401  0.282969  0.296398 -0.222443 -0.449333 -0.446130  0.443196  0.384549   \n",
       "462 -0.296297 -0.250185  0.251214  0.319750  0.291206 -0.403365 -0.368916   \n",
       "480 -0.421450 -0.454845  0.384192  0.327839  0.324802 -0.493214 -0.324868   \n",
       "pos -0.502173 -0.543172  0.494389  0.508086  0.499051 -0.476765 -0.490506   \n",
       "\n",
       "          401       462       480       pos  \n",
       "29   0.282969 -0.296297 -0.421450 -0.502173  \n",
       "159  0.296398 -0.250185 -0.454845 -0.543172  \n",
       "192 -0.222443  0.251214  0.384192  0.494389  \n",
       "198 -0.449333  0.319750  0.327839  0.508086  \n",
       "282 -0.446130  0.291206  0.324802  0.499051  \n",
       "310  0.443196 -0.403365 -0.493214 -0.476765  \n",
       "341  0.384549 -0.368916 -0.324868 -0.490506  \n",
       "401  1.000000 -0.387061 -0.258587 -0.482216  \n",
       "462 -0.387061  1.000000  0.349837  0.575263  \n",
       "480 -0.258587  0.349837  1.000000  0.573627  \n",
       "pos -0.482216  0.575263  0.573627  1.000000  "
      ]
     },
     "execution_count": 41,
     "metadata": {},
     "output_type": "execute_result"
    }
   ],
   "source": [
    "unique_n_and_v_we.loc[:, ['29', '159', '192', '198', '282', '310', '341', '401', '462', '480', 'pos']].corr()"
   ]
  },
  {
   "cell_type": "markdown",
   "metadata": {},
   "source": [
    "The previously un-inspected dimension seems to be correlated the most with the dimension `310`.\n",
    "\n",
    "Dimensions `198` and `282` have the strongest correlation between each other, followed by `159` and `192`. As was seen above, both `198` and `282` become less correlated to PoS information, and we can make a hypothesis that this dimension encodes certain information about co-occurences leading to lower correlation with PoS for words that appear in the corpus less frequently."
   ]
  },
  {
   "cell_type": "markdown",
   "metadata": {},
   "source": [
    "### Dimension 29"
   ]
  },
  {
   "cell_type": "markdown",
   "metadata": {},
   "source": [
    "We will start with dimension `29` and we can have a look at the distribution of values of the dimension for nouns:"
   ]
  },
  {
   "cell_type": "code",
   "execution_count": 42,
   "metadata": {},
   "outputs": [
    {
     "data": {
      "text/plain": [
       "count    1000.000000\n",
       "mean       -2.696012\n",
       "std         2.611189\n",
       "min       -10.220727\n",
       "25%        -4.485969\n",
       "50%        -2.698120\n",
       "75%        -0.923143\n",
       "max         5.955313\n",
       "Name: 29, dtype: float64"
      ]
     },
     "execution_count": 42,
     "metadata": {},
     "output_type": "execute_result"
    }
   ],
   "source": [
    "unique_freq_n_we.loc[:, '29'].describe()"
   ]
  },
  {
   "cell_type": "markdown",
   "metadata": {},
   "source": [
    "And for verbs:"
   ]
  },
  {
   "cell_type": "code",
   "execution_count": 43,
   "metadata": {},
   "outputs": [
    {
     "data": {
      "text/plain": [
       "count    1000.000000\n",
       "mean        0.187166\n",
       "std         2.349369\n",
       "min        -8.342939\n",
       "25%        -1.315569\n",
       "50%         0.278135\n",
       "75%         1.737546\n",
       "max         7.046504\n",
       "Name: 29, dtype: float64"
      ]
     },
     "execution_count": 43,
     "metadata": {},
     "output_type": "execute_result"
    }
   ],
   "source": [
    "unique_freq_v_we.loc[:, '29'].describe()"
   ]
  },
  {
   "cell_type": "markdown",
   "metadata": {},
   "source": [
    "Verbs have an average value close to 0 while nouns seem to have more negative values in the dimension. Verbs as well seem to have a lower deviation in this dimension. We can try plotting the distributions of the dimension values for verbs and nouns:"
   ]
  },
  {
   "cell_type": "code",
   "execution_count": 136,
   "metadata": {},
   "outputs": [],
   "source": [
    "import matplotlib.pyplot as plt"
   ]
  },
  {
   "cell_type": "code",
   "execution_count": 134,
   "metadata": {},
   "outputs": [
    {
     "data": {
      "text/plain": [
       "<AxesSubplot:xlabel='29', ylabel='Count'>"
      ]
     },
     "execution_count": 134,
     "metadata": {},
     "output_type": "execute_result"
    },
    {
     "data": {
      "image/png": "[encoded data removed]",
      "text/plain": [
       "<Figure size 432x288 with 1 Axes>"
      ]
     },
     "metadata": {
      "needs_background": "light"
     },
     "output_type": "display_data"
    }
   ],
   "source": [
    "import seaborn as sns\n",
    "\n",
    "sns.histplot(data=unique_n_and_v_we, x='29', hue='cgram')"
   ]
  },
  {
   "cell_type": "markdown",
   "metadata": {},
   "source": [
    "There seems to be a quite big overlap between the values for nouns and verbs."
   ]
  },
  {
   "cell_type": "markdown",
   "metadata": {},
   "source": [
    "Since in general verbs have higher values in this dimension, we can have a look at outlier verbs that have lowest values in the dimension:"
   ]
  },
  {
   "cell_type": "code",
   "execution_count": 46,
   "metadata": {},
   "outputs": [
    {
     "data": {
      "text/plain": [
       "ferons      -8.342939\n",
       "libéré      -7.302123\n",
       "espérons    -7.008895\n",
       "menacé      -6.989449\n",
       "retrouvé    -6.762147\n",
       "rêvé        -6.493288\n",
       "range       -6.416291\n",
       "enlevé      -6.247370\n",
       "habille     -6.232849\n",
       "marqué      -6.208606\n",
       "ailles      -6.144728\n",
       "annoncer    -6.063216\n",
       "disant      -5.712711\n",
       "ouverte     -5.188507\n",
       "ouvert      -5.058407\n",
       "inquiétez   -5.032975\n",
       "croyait     -5.006827\n",
       "laissons    -4.951976\n",
       "trouvée     -4.924291\n",
       "ordonne     -4.876775\n",
       "Name: 29, dtype: float64"
      ]
     },
     "execution_count": 46,
     "metadata": {},
     "output_type": "execute_result"
    }
   ],
   "source": [
    "unique_freq_v_we.loc[:, '29'].sort_values()[:20]"
   ]
  },
  {
   "cell_type": "markdown",
   "metadata": {},
   "source": [
    "We can see a high number of verb forms that could be used as nouns: `menacé`, `retrouvée`, `enlevé`, however, there is a mix of other forms."
   ]
  },
  {
   "cell_type": "markdown",
   "metadata": {},
   "source": [
    "We can also have a look at nouns that have higher values in the dimension:"
   ]
  },
  {
   "cell_type": "code",
   "execution_count": 47,
   "metadata": {},
   "outputs": [
    {
     "data": {
      "text/plain": [
       "escalier       3.124671\n",
       "honte          3.139924\n",
       "mission        3.233436\n",
       "gamin          3.287051\n",
       "chant          3.293511\n",
       "bateau         3.297194\n",
       "malheur        3.376624\n",
       "face           3.436967\n",
       "bonjour        3.449964\n",
       "gamins         3.468107\n",
       "seul           3.610012\n",
       "conneries      3.667524\n",
       "taxi           3.764730\n",
       "monseigneur    3.812551\n",
       "fauteuil       4.178693\n",
       "vélo           4.392204\n",
       "tension        4.566526\n",
       "demi-tour      4.742115\n",
       "putain         5.152559\n",
       "pression       5.955313\n",
       "Name: 29, dtype: float64"
      ]
     },
     "execution_count": 47,
     "metadata": {},
     "output_type": "execute_result"
    }
   ],
   "source": [
    "unique_freq_n_we.loc[:, '29'].sort_values()[-20:]"
   ]
  },
  {
   "cell_type": "markdown",
   "metadata": {},
   "source": [
    "We can see quite a lot of nouns that could be used as interjection: `putain`, `bonjour`, `monseigneur`, `madame`. As well as some nouns that can be another PoS: `moi`, `seul`. We can also notice that some of the nouns can be frequently used in adverb-like constructions like: `en face`, `à vélo`, `en taxi`... However, there is no common pattern for all these nouns."
   ]
  },
  {
   "cell_type": "markdown",
   "metadata": {},
   "source": [
    "We can also have a look at the verbs with high values and nouns with low values which are more typical:"
   ]
  },
  {
   "cell_type": "code",
   "execution_count": 48,
   "metadata": {},
   "outputs": [
    {
     "data": {
      "text/plain": [
       "monté          4.983005\n",
       "réussi         5.010753\n",
       "connaissez     5.122983\n",
       "pleut          5.177567\n",
       "arrives        5.277559\n",
       "nager          5.288133\n",
       "passent        5.317031\n",
       "attraper       5.384334\n",
       "monte          5.416920\n",
       "foutu          5.435593\n",
       "monter         5.476039\n",
       "asseoir        5.526114\n",
       "savent         5.603508\n",
       "traverser      5.784987\n",
       "regardez       5.796549\n",
       "descendre      6.127767\n",
       "crever         6.375151\n",
       "connaissent    6.777395\n",
       "plaindre       6.789680\n",
       "assis          7.046504\n",
       "Name: 29, dtype: float64"
      ]
     },
     "execution_count": 48,
     "metadata": {},
     "output_type": "execute_result"
    }
   ],
   "source": [
    "unique_freq_v_we.loc[:, '29'].sort_values()[-20:]"
   ]
  },
  {
   "cell_type": "code",
   "execution_count": 49,
   "metadata": {},
   "outputs": [
    {
     "data": {
      "text/plain": [
       "poisson       -10.220727\n",
       "crème         -10.040846\n",
       "star           -9.712486\n",
       "bible          -9.618677\n",
       "nuages         -9.569301\n",
       "sel            -9.369575\n",
       "homme          -9.315256\n",
       "fer            -8.908384\n",
       "intention      -8.891602\n",
       "seins          -8.887835\n",
       "porc           -8.651791\n",
       "chocolat       -8.534778\n",
       "ordre          -8.409978\n",
       "lait           -8.236251\n",
       "cigarettes     -8.144197\n",
       "miel           -8.113442\n",
       "santé          -8.104095\n",
       "information    -8.088715\n",
       "viande         -7.921938\n",
       "version        -7.893915\n",
       "Name: 29, dtype: float64"
      ]
     },
     "execution_count": 49,
     "metadata": {},
     "output_type": "execute_result"
    }
   ],
   "source": [
    "unique_freq_n_we.loc[:, '29'].sort_values()[:20]"
   ]
  },
  {
   "cell_type": "markdown",
   "metadata": {},
   "source": [
    "There seem to be no particular outliers among"
   ]
  },
  {
   "cell_type": "markdown",
   "metadata": {},
   "source": [
    "### Dimension 159"
   ]
  },
  {
   "cell_type": "markdown",
   "metadata": {},
   "source": [
    "Dimension `159` has the highest correlation with PoS and we can have a look if it appears to be correct. "
   ]
  },
  {
   "cell_type": "markdown",
   "metadata": {},
   "source": [
    "We can first have a look the distribution of values for the dimension:"
   ]
  },
  {
   "cell_type": "code",
   "execution_count": 135,
   "metadata": {},
   "outputs": [
    {
     "data": {
      "text/plain": [
       "<AxesSubplot:xlabel='159', ylabel='Count'>"
      ]
     },
     "execution_count": 135,
     "metadata": {},
     "output_type": "execute_result"
    },
    {
     "data": {
      "image/png": "[encoded data removed]",
      "text/plain": [
       "<Figure size 432x288 with 1 Axes>"
      ]
     },
     "metadata": {
      "needs_background": "light"
     },
     "output_type": "display_data"
    }
   ],
   "source": [
    "sns.histplot(data=unique_n_and_v_we, x='159', hue='cgram')"
   ]
  },
  {
   "cell_type": "markdown",
   "metadata": {},
   "source": [
    "The overlap still appears to be quite significant but there is a bigger proportion of nouns that can be non-mistakenly identified as such by the dimension."
   ]
  },
  {
   "cell_type": "markdown",
   "metadata": {},
   "source": [
    "We can have a look at the outliers:"
   ]
  },
  {
   "cell_type": "code",
   "execution_count": 55,
   "metadata": {},
   "outputs": [
    {
     "data": {
      "text/plain": [
       "retrouvé   -5.783679\n",
       "tenté      -5.742928\n",
       "cessé      -5.121214\n",
       "nourrir    -5.054930\n",
       "fais       -4.969552\n",
       "guérir     -4.967141\n",
       "cassé      -4.964467\n",
       "prévenir   -4.915838\n",
       "mangez     -4.861890\n",
       "seras      -4.758932\n",
       "sers       -4.749530\n",
       "meurs      -4.740520\n",
       "ravie      -4.683327\n",
       "bu         -4.557686\n",
       "profiter   -4.464869\n",
       "fumer      -4.464289\n",
       "mangé      -4.409074\n",
       "casser     -4.392937\n",
       "mange      -4.335073\n",
       "nager      -4.321104\n",
       "Name: 159, dtype: float64"
      ]
     },
     "execution_count": 55,
     "metadata": {},
     "output_type": "execute_result"
    }
   ],
   "source": [
    "unique_freq_v_we.loc[:, '159'].sort_values()[:20]"
   ]
  },
  {
   "cell_type": "markdown",
   "metadata": {},
   "source": [
    "We can potentially attribute these low values in verbs for several factors:\n",
    "- The verbs being transitive => `Tu le fais` and `je le mange` being interpretted as a noun\n",
    "- There are also a lot of nouns in participe passé form: `tenté`/`retrouvé`/`cessé`/`mangé`/`bu` which are used with auxialry verbs which can lead to some misinterpretation by NN"
   ]
  },
  {
   "cell_type": "code",
   "execution_count": 56,
   "metadata": {},
   "outputs": [
    {
     "data": {
      "text/plain": [
       "mille           2.489603\n",
       "seule           2.492659\n",
       "heure           2.500959\n",
       "heures          2.567712\n",
       "uniforme        2.687804\n",
       "unité           2.744563\n",
       "madame          2.829990\n",
       "mademoiselle    2.902764\n",
       "émission        2.939903\n",
       "côté            3.017199\n",
       "lundi           3.043074\n",
       "jeudi           3.112176\n",
       "infos           3.193232\n",
       "mercredi        3.251376\n",
       "mardi           3.356649\n",
       "semaine         3.526647\n",
       "instant         3.546476\n",
       "liste           3.578404\n",
       "rang            3.764726\n",
       "numéro          3.860630\n",
       "Name: 159, dtype: float64"
      ]
     },
     "execution_count": 56,
     "metadata": {},
     "output_type": "execute_result"
    }
   ],
   "source": [
    "unique_freq_n_we.loc[:, '159'].sort_values()[-20:]"
   ]
  },
  {
   "cell_type": "markdown",
   "metadata": {},
   "source": [
    "We can try to attribute the outlying high values of nouns to potential occurences of them without any article:\n",
    "- Par numero(s) / par carte / par semaine\n",
    "- à rang de / à côté de\n",
    "- Madame and mademoiselle being used to adress someone without any article\n",
    "- As well as ambiguous nouns `seule` or `uniforme` (can be adjective) \n",
    "\n",
    "However, there is no obvious grouping as to why these nouns are asigned higher values than average."
   ]
  },
  {
   "cell_type": "code",
   "execution_count": 57,
   "metadata": {},
   "outputs": [
    {
     "data": {
      "text/plain": [
       "tenait        3.476013\n",
       "joindre       3.534333\n",
       "intéresse     3.539785\n",
       "inquiétez     3.588386\n",
       "indique       3.611022\n",
       "regarde       3.656970\n",
       "représente    3.720346\n",
       "préparez      3.780652\n",
       "assis         3.869297\n",
       "appellent     3.872902\n",
       "regardais     3.951928\n",
       "occupe        3.985015\n",
       "regardent     4.249136\n",
       "regardé       4.460762\n",
       "appelez       4.726689\n",
       "raconté       4.828105\n",
       "appeler       4.865578\n",
       "attendez      5.290317\n",
       "regardait     5.537718\n",
       "travaillez    6.603064\n",
       "Name: 159, dtype: float64"
      ]
     },
     "execution_count": 57,
     "metadata": {},
     "output_type": "execute_result"
    }
   ],
   "source": [
    "unique_freq_v_we.loc[:, '159'].sort_values()[-20:]"
   ]
  },
  {
   "cell_type": "code",
   "execution_count": 58,
   "metadata": {},
   "outputs": [
    {
     "data": {
      "text/plain": [
       "miel        -11.522227\n",
       "porc        -10.465917\n",
       "parfum      -10.308782\n",
       "lait         -9.839472\n",
       "thé          -9.384512\n",
       "soif         -9.175977\n",
       "poulet       -9.174446\n",
       "vin          -9.138720\n",
       "princesse    -9.089209\n",
       "bonheur      -9.004986\n",
       "fruits       -8.943031\n",
       "whisky       -8.937464\n",
       "cochon       -8.786475\n",
       "vache        -8.744326\n",
       "chevaux      -8.696256\n",
       "sel          -8.655915\n",
       "bains        -8.579679\n",
       "chien        -8.524145\n",
       "pain         -8.521943\n",
       "chocolat     -8.472916\n",
       "Name: 159, dtype: float64"
      ]
     },
     "execution_count": 58,
     "metadata": {},
     "output_type": "execute_result"
    }
   ],
   "source": [
    "unique_freq_n_we.loc[:, '159'].sort_values()[:20]"
   ]
  },
  {
   "cell_type": "markdown",
   "metadata": {},
   "source": [
    "We can see transitive verbs again in the list of verbs with highest values (potentially the verbs that could be confused with nouns) as well as verbs in participe passé form.\n",
    "\n",
    "We can still test the hypothesis of the correlation of this dimension values to transitivity of verbs later."
   ]
  },
  {
   "cell_type": "markdown",
   "metadata": {},
   "source": [
    "However, the theory of outlier nouns being there due to them frequently used without articles doesn't seem to hold: a lot of nouns with minimal values are frequently used without articles as well:\n",
    "- au lait / au vin / au pain\n",
    "\n",
    "Hence, it is probablu unlikely that the values of this dimension correspond to the co-occurence of a word with articles."
   ]
  },
  {
   "cell_type": "markdown",
   "metadata": {},
   "source": [
    "Despite the dimension being the highest correlated with PoS information of verbs and nouns, it's however, hard to evaluate by what reason the nouns and verbs are grouped and hard to interpret the nouns and verbs with outlier values."
   ]
  },
  {
   "cell_type": "markdown",
   "metadata": {},
   "source": [
    "### Dimension 192"
   ]
  },
  {
   "cell_type": "markdown",
   "metadata": {},
   "source": [
    "The distribution of values for the dimension 192:"
   ]
  },
  {
   "cell_type": "code",
   "execution_count": 137,
   "metadata": {},
   "outputs": [
    {
     "data": {
      "text/plain": [
       "<AxesSubplot:xlabel='192', ylabel='Count'>"
      ]
     },
     "execution_count": 137,
     "metadata": {},
     "output_type": "execute_result"
    },
    {
     "data": {
      "image/png": "[encoded data removed]",
      "text/plain": [
       "<Figure size 432x288 with 1 Axes>"
      ]
     },
     "metadata": {
      "needs_background": "light"
     },
     "output_type": "display_data"
    }
   ],
   "source": [
    "sns.histplot(data=unique_n_and_v_we, x='192', hue='cgram')"
   ]
  },
  {
   "cell_type": "markdown",
   "metadata": {},
   "source": [
    "Once again, in this dimension the overlap is still quite significant."
   ]
  },
  {
   "cell_type": "markdown",
   "metadata": {},
   "source": [
    "In this dimension, the nouns seem to have higher values in this dimension. Let's have a look at the outliers:"
   ]
  },
  {
   "cell_type": "code",
   "execution_count": 62,
   "metadata": {},
   "outputs": [
    {
     "data": {
      "text/plain": [
       "enterré      6.276480\n",
       "cassé        6.334670\n",
       "retrouvé     6.437855\n",
       "perdue       6.518383\n",
       "mourir       6.619886\n",
       "survivre     6.635298\n",
       "réfléchis    6.709782\n",
       "fonce        6.748880\n",
       "es           6.785803\n",
       "abandonné    6.793352\n",
       "continue     7.003475\n",
       "rit          7.254833\n",
       "penses       7.323476\n",
       "tue          7.531543\n",
       "brisé        7.643866\n",
       "range        7.775387\n",
       "parte        8.094633\n",
       "né           8.197522\n",
       "survécu      8.486043\n",
       "née          8.956486\n",
       "Name: 192, dtype: float64"
      ]
     },
     "execution_count": 62,
     "metadata": {},
     "output_type": "execute_result"
    }
   ],
   "source": [
    "unique_freq_v_we.loc[:, '192'].sort_values()[-20:]"
   ]
  },
  {
   "cell_type": "markdown",
   "metadata": {},
   "source": [
    "We can see the similarity in the outliers of this dimension to above: a lot ot participe passé word forms."
   ]
  },
  {
   "cell_type": "code",
   "execution_count": 63,
   "metadata": {},
   "outputs": [
    {
     "data": {
      "text/plain": [
       "mesdames      -5.825426\n",
       "studio        -4.171311\n",
       "habitude      -3.287951\n",
       "minuit        -2.686276\n",
       "semaine       -1.953934\n",
       "occasion      -1.951697\n",
       "monsieur      -1.845847\n",
       "monseigneur   -1.830752\n",
       "madame        -1.807068\n",
       "dimanche      -1.713486\n",
       "aise          -1.706715\n",
       "frigo         -1.697270\n",
       "moment        -1.645507\n",
       "messieurs     -1.617931\n",
       "morceau       -1.599807\n",
       "exercice      -1.551914\n",
       "instant       -1.501455\n",
       "week-end      -1.496630\n",
       "appareil      -1.489028\n",
       "concert       -1.470835\n",
       "Name: 192, dtype: float64"
      ]
     },
     "execution_count": 63,
     "metadata": {},
     "output_type": "execute_result"
    }
   ],
   "source": [
    "unique_freq_n_we.loc[:, '192'].sort_values()[:20]"
   ]
  },
  {
   "cell_type": "markdown",
   "metadata": {},
   "source": [
    "Similarly, for nouns the outliers include the words that can be used to address someone:\n",
    "- `Mesdames`, `monsieur`, `monseigneur`, `madame`, `messieurs` \n",
    "\n",
    "However, the grouping for other nouns is less obvious."
   ]
  },
  {
   "cell_type": "markdown",
   "metadata": {},
   "source": [
    "And if we look highest vlaues for verbs and lowest for nouns:"
   ]
  },
  {
   "cell_type": "code",
   "execution_count": 64,
   "metadata": {},
   "outputs": [
    {
     "data": {
      "text/plain": [
       "bleu          8.923435\n",
       "suspect       8.936839\n",
       "argent        9.000732\n",
       "science       9.028357\n",
       "balles        9.106495\n",
       "cancer        9.135464\n",
       "meurtrier     9.238809\n",
       "intérêts      9.468428\n",
       "seins         9.470066\n",
       "droits        9.488717\n",
       "pierre        9.581899\n",
       "biens         9.778303\n",
       "effets        9.878656\n",
       "crédit       10.154316\n",
       "zéro         10.435883\n",
       "pierres      10.445419\n",
       "clés         10.561643\n",
       "maladie      10.930956\n",
       "théorie      11.251228\n",
       "blessures    11.593149\n",
       "Name: 192, dtype: float64"
      ]
     },
     "execution_count": 64,
     "metadata": {},
     "output_type": "execute_result"
    }
   ],
   "source": [
    "unique_freq_n_we.loc[:, '192'].sort_values()[-20:]"
   ]
  },
  {
   "cell_type": "code",
   "execution_count": 65,
   "metadata": {},
   "outputs": [
    {
     "data": {
      "text/plain": [
       "oubliez     -9.300445\n",
       "attendez    -7.654397\n",
       "écoutez     -7.321049\n",
       "essayez     -7.269154\n",
       "passez      -6.661512\n",
       "comptez     -6.615705\n",
       "imaginez    -6.565384\n",
       "arrêtez     -6.391367\n",
       "commencez   -6.371938\n",
       "soyez       -6.305080\n",
       "préparez    -6.239012\n",
       "entendez    -6.196218\n",
       "laissez     -6.022510\n",
       "perdez      -5.902468\n",
       "restez      -5.812983\n",
       "savez       -5.785270\n",
       "devez       -5.768063\n",
       "aidez       -5.667215\n",
       "regardez    -5.661911\n",
       "revenez     -5.661589\n",
       "Name: 192, dtype: float64"
      ]
     },
     "execution_count": 65,
     "metadata": {},
     "output_type": "execute_result"
    }
   ],
   "source": [
    "unique_freq_v_we.loc[:, '192'].sort_values()[:20]"
   ]
  },
  {
   "cell_type": "markdown",
   "metadata": {},
   "source": [
    "Interestingly, the typical verbs are all in 2nd person plural. This information together with the outlier nouns that are used for address: it could be a sign of a more formal context where these words are used."
   ]
  },
  {
   "cell_type": "markdown",
   "metadata": {},
   "source": [
    "### Dimension 198"
   ]
  },
  {
   "cell_type": "markdown",
   "metadata": {},
   "source": [
    "This is the second dimension which could potentially be corresponding to PoS information where mean of verb dimension values is close to 0. \n",
    "Also interestingly the noun outliers have a small spike around 15."
   ]
  },
  {
   "cell_type": "code",
   "execution_count": 139,
   "metadata": {},
   "outputs": [
    {
     "data": {
      "text/plain": [
       "<AxesSubplot:xlabel='198', ylabel='Count'>"
      ]
     },
     "execution_count": 139,
     "metadata": {},
     "output_type": "execute_result"
    },
    {
     "data": {
      "image/png": "[encoded data removed]",
      "text/plain": [
       "<Figure size 432x288 with 1 Axes>"
      ]
     },
     "metadata": {
      "needs_background": "light"
     },
     "output_type": "display_data"
    }
   ],
   "source": [
    "sns.histplot(data=unique_n_and_v_we, x='198', hue='cgram')"
   ]
  },
  {
   "cell_type": "markdown",
   "metadata": {},
   "source": [
    "Outliers:"
   ]
  },
  {
   "cell_type": "code",
   "execution_count": 69,
   "metadata": {},
   "outputs": [
    {
     "data": {
      "text/plain": [
       "couvre       6.960756\n",
       "utilisé      7.166574\n",
       "créé         7.170422\n",
       "acheter      7.437881\n",
       "pouvons      7.500731\n",
       "utiliser     7.721810\n",
       "joindre      8.011379\n",
       "portez       8.092013\n",
       "envoyer      8.094077\n",
       "pourriez     8.303205\n",
       "couvrir      8.323973\n",
       "aidera       8.539452\n",
       "rempli       8.742768\n",
       "demandez     8.759162\n",
       "offrir       8.804786\n",
       "remplir      8.861746\n",
       "aidé         8.971918\n",
       "envoyez      9.369053\n",
       "appelée     10.105935\n",
       "offert      14.067154\n",
       "Name: 198, dtype: float64"
      ]
     },
     "execution_count": 69,
     "metadata": {},
     "output_type": "execute_result"
    }
   ],
   "source": [
    "unique_freq_v_we.loc[:, '198'].sort_values()[-20:]"
   ]
  },
  {
   "cell_type": "code",
   "execution_count": 70,
   "metadata": {},
   "outputs": [
    {
     "data": {
      "text/plain": [
       "meilleur    -4.145070\n",
       "toilettes   -3.735212\n",
       "moi         -3.657421\n",
       "cadavres    -3.506686\n",
       "pire        -3.475411\n",
       "fuite       -3.458852\n",
       "suite       -3.291219\n",
       "son         -2.844270\n",
       "prison      -2.786444\n",
       "meurtrier   -2.778991\n",
       "couilles    -2.719298\n",
       "justice     -2.665809\n",
       "traître     -2.632951\n",
       "flics       -2.500388\n",
       "juifs       -2.372765\n",
       "boulot      -2.344165\n",
       "bains       -2.338661\n",
       "flic        -2.336440\n",
       "coup        -2.251112\n",
       "ville       -2.150387\n",
       "Name: 198, dtype: float64"
      ]
     },
     "execution_count": 70,
     "metadata": {},
     "output_type": "execute_result"
    }
   ],
   "source": [
    "unique_freq_n_we.loc[:, '198'].sort_values()[:20]"
   ]
  },
  {
   "cell_type": "markdown",
   "metadata": {},
   "source": [
    "Typical nouns and verbs:"
   ]
  },
  {
   "cell_type": "code",
   "execution_count": 71,
   "metadata": {},
   "outputs": [
    {
     "data": {
      "text/plain": [
       "réveille    -7.701423\n",
       "regrette    -7.050304\n",
       "respire     -6.774652\n",
       "arrives     -6.674252\n",
       "démarre     -6.608154\n",
       "sonne       -6.536116\n",
       "décide      -6.513648\n",
       "habille     -6.351778\n",
       "échappe     -6.308565\n",
       "raconte     -6.308418\n",
       "rentre      -6.109454\n",
       "abandonne   -6.035025\n",
       "déteste     -5.996676\n",
       "rend        -5.991282\n",
       "rester      -5.844096\n",
       "reprend     -5.817455\n",
       "attendent   -5.760402\n",
       "arrête      -5.670000\n",
       "quitte      -5.473987\n",
       "boit        -5.361661\n",
       "Name: 198, dtype: float64"
      ]
     },
     "execution_count": 71,
     "metadata": {},
     "output_type": "execute_result"
    }
   ],
   "source": [
    "unique_freq_v_we.loc[:, '198'].sort_values()[:20]"
   ]
  },
  {
   "cell_type": "code",
   "execution_count": 72,
   "metadata": {},
   "outputs": [
    {
     "data": {
      "text/plain": [
       "couverture    10.424542\n",
       "énergie       10.586262\n",
       "courrier      10.641223\n",
       "tableau       10.668655\n",
       "émission      10.760877\n",
       "espèce        11.058411\n",
       "serpent       11.068368\n",
       "messages      11.268724\n",
       "dollars       11.311361\n",
       "chaîne        11.407549\n",
       "boîte         11.694752\n",
       "océan         13.236157\n",
       "poisson       13.608801\n",
       "fil           13.807056\n",
       "chèque        13.815483\n",
       "anneau        13.850446\n",
       "collier       13.879416\n",
       "message       14.441530\n",
       "lien          15.069812\n",
       "assurance     16.710394\n",
       "Name: 198, dtype: float64"
      ]
     },
     "execution_count": 72,
     "metadata": {},
     "output_type": "execute_result"
    }
   ],
   "source": [
    "unique_freq_n_we.loc[:, '198'].sort_values()[-20:]"
   ]
  },
  {
   "cell_type": "markdown",
   "metadata": {},
   "source": [
    " We can notice that positive values for nouns and verbs share the same roots: we can see in verb outliers `couvre`, `couvrir` and then in typical nouns we see `couverture`. `Offrir`/`offert`, `envoyer`/`envoyez` also have close values in the dimension. This can potentially be a sign of the dimension encoding root/semantical information."
   ]
  },
  {
   "cell_type": "markdown",
   "metadata": {},
   "source": [
    "### Dimension 282"
   ]
  },
  {
   "cell_type": "code",
   "execution_count": 140,
   "metadata": {},
   "outputs": [
    {
     "data": {
      "text/plain": [
       "<AxesSubplot:xlabel='282', ylabel='Count'>"
      ]
     },
     "execution_count": 140,
     "metadata": {},
     "output_type": "execute_result"
    },
    {
     "data": {
      "image/png": "[encoded data removed]",
      "text/plain": [
       "<Figure size 432x288 with 1 Axes>"
      ]
     },
     "metadata": {
      "needs_background": "light"
     },
     "output_type": "display_data"
    }
   ],
   "source": [
    "sns.histplot(data=unique_n_and_v_we, x='282', hue='cgram')"
   ]
  },
  {
   "cell_type": "markdown",
   "metadata": {},
   "source": [
    "We can see from the graph that unlike in other inspected dimensions, the difference in values between nouns and verbs is not that significant, however, the separation in values is still visible."
   ]
  },
  {
   "cell_type": "markdown",
   "metadata": {},
   "source": [
    "Outliers for verbs:"
   ]
  },
  {
   "cell_type": "code",
   "execution_count": 76,
   "metadata": {},
   "outputs": [
    {
     "data": {
      "text/plain": [
       "oublié       3.104160\n",
       "reconnu      3.122642\n",
       "entrez       3.286890\n",
       "fera         3.325926\n",
       "donnera      3.342520\n",
       "devriez      3.406569\n",
       "serez        3.450490\n",
       "trouveras    3.586087\n",
       "libéré       3.599840\n",
       "découvrir    3.621131\n",
       "sortira      3.627952\n",
       "aurez        3.927646\n",
       "ouvrez       4.016616\n",
       "parlera      4.061299\n",
       "verrez       4.107634\n",
       "offert       4.146020\n",
       "arrêtera     4.550242\n",
       "cherchez     5.143567\n",
       "trouverez    5.282744\n",
       "importe      7.214352\n",
       "Name: 282, dtype: float64"
      ]
     },
     "execution_count": 76,
     "metadata": {},
     "output_type": "execute_result"
    }
   ],
   "source": [
    "unique_freq_v_we.loc[:, '282'].sort_values()[-20:]"
   ]
  },
  {
   "cell_type": "markdown",
   "metadata": {},
   "source": [
    "And what verbs have minimum values:"
   ]
  },
  {
   "cell_type": "code",
   "execution_count": 77,
   "metadata": {},
   "outputs": [
    {
     "data": {
      "text/plain": [
       "habille       -11.173955\n",
       "rappeler       -9.668534\n",
       "disant         -9.554899\n",
       "restons        -9.420892\n",
       "craint         -8.664282\n",
       "réfléchis      -8.462255\n",
       "tenté          -8.318723\n",
       "réveille       -8.186064\n",
       "brûle          -8.161850\n",
       "regrette       -8.118176\n",
       "mentir         -8.111416\n",
       "laissons       -8.040458\n",
       "répondu        -8.016850\n",
       "prenons        -7.959657\n",
       "voudrais       -7.838808\n",
       "travaillait    -7.751360\n",
       "restait        -7.709867\n",
       "rappelé        -7.481028\n",
       "croire         -7.477543\n",
       "touché         -7.444876\n",
       "Name: 282, dtype: float64"
      ]
     },
     "execution_count": 77,
     "metadata": {},
     "output_type": "execute_result"
    }
   ],
   "source": [
    "unique_freq_v_we.loc[:, '282'].sort_values()[:20]"
   ]
  },
  {
   "cell_type": "markdown",
   "metadata": {},
   "source": [
    "We can see that both typical and outlier verbs include participe passé forms, making it hard to distinguish them."
   ]
  },
  {
   "cell_type": "markdown",
   "metadata": {},
   "source": [
    "Outliers for nouns:"
   ]
  },
  {
   "cell_type": "code",
   "execution_count": 78,
   "metadata": {},
   "outputs": [
    {
     "data": {
      "text/plain": [
       "tort            -8.804429\n",
       "contraire       -8.274385\n",
       "suspect         -7.502771\n",
       "policier        -6.688596\n",
       "scandale        -6.295932\n",
       "raisons         -5.855957\n",
       "balles          -5.366182\n",
       "violence        -5.072323\n",
       "ministre        -5.051328\n",
       "actrice         -4.956078\n",
       "habits          -4.886673\n",
       "coupable        -4.701011\n",
       "avocat          -4.645596\n",
       "fuite           -4.581509\n",
       "ongles          -4.581127\n",
       "circonstances   -4.559286\n",
       "coups           -4.497613\n",
       "retard          -4.477796\n",
       "meurtrier       -4.457450\n",
       "victime         -4.423879\n",
       "Name: 282, dtype: float64"
      ]
     },
     "execution_count": 78,
     "metadata": {},
     "output_type": "execute_result"
    }
   ],
   "source": [
    "unique_freq_n_we.loc[:, '282'].sort_values()[:20]"
   ]
  },
  {
   "cell_type": "markdown",
   "metadata": {},
   "source": [
    "Nouns with maximum values for dimension 282:"
   ]
  },
  {
   "cell_type": "code",
   "execution_count": 79,
   "metadata": {},
   "outputs": [
    {
     "data": {
      "text/plain": [
       "avion         6.110955\n",
       "êtres         6.162476\n",
       "ordinateur    6.212290\n",
       "conférence    6.256219\n",
       "bière         6.301378\n",
       "ascenseur     6.307553\n",
       "liaison       6.333223\n",
       "île           6.397935\n",
       "centaines     6.420152\n",
       "long          6.621787\n",
       "morceau       6.651597\n",
       "cassette      6.670583\n",
       "noms          6.736673\n",
       "écran         6.902010\n",
       "ensemble      7.541571\n",
       "incroyable    7.973370\n",
       "bol           7.988358\n",
       "liste         8.194058\n",
       "milliers      8.527853\n",
       "océan         8.619900\n",
       "Name: 282, dtype: float64"
      ]
     },
     "execution_count": 79,
     "metadata": {},
     "output_type": "execute_result"
    }
   ],
   "source": [
    "unique_freq_n_we.loc[:, '282'].sort_values()[-20:]"
   ]
  },
  {
   "cell_type": "markdown",
   "metadata": {},
   "source": [
    "It appears that any grouping for nouns in this dimension is not evident as well."
   ]
  },
  {
   "cell_type": "markdown",
   "metadata": {},
   "source": [
    "### Dimension 310"
   ]
  },
  {
   "cell_type": "code",
   "execution_count": 141,
   "metadata": {},
   "outputs": [
    {
     "data": {
      "text/plain": [
       "<AxesSubplot:xlabel='310', ylabel='Count'>"
      ]
     },
     "execution_count": 141,
     "metadata": {},
     "output_type": "execute_result"
    },
    {
     "data": {
      "image/png": "[encoded data removed]",
      "text/plain": [
       "<Figure size 432x288 with 1 Axes>"
      ]
     },
     "metadata": {
      "needs_background": "light"
     },
     "output_type": "display_data"
    }
   ],
   "source": [
    "sns.histplot(data=unique_n_and_v_we, x='310', hue='cgram')"
   ]
  },
  {
   "cell_type": "markdown",
   "metadata": {},
   "source": [
    "We can notice that most of the values in this dimension for both verbs and nouns are positive."
   ]
  },
  {
   "cell_type": "markdown",
   "metadata": {},
   "source": [
    "Outlier for verbs:"
   ]
  },
  {
   "cell_type": "code",
   "execution_count": 81,
   "metadata": {},
   "outputs": [
    {
     "data": {
      "text/plain": [
       "attaquer       12.868385\n",
       "défendre       12.896739\n",
       "appeler        12.964840\n",
       "excuser        12.990805\n",
       "diriger        12.995615\n",
       "rappelle       13.064742\n",
       "combattre      13.290698\n",
       "expliqué       13.366587\n",
       "concentrer     13.886807\n",
       "respecter      14.271052\n",
       "résoudre       14.294363\n",
       "réunis         14.326883\n",
       "tenir          14.607756\n",
       "insiste        14.751368\n",
       "rappelé        14.782020\n",
       "présenter      14.927400\n",
       "assurer        15.029619\n",
       "mener          15.047261\n",
       "reconnaître    15.109888\n",
       "rappeler       15.593991\n",
       "Name: 310, dtype: float64"
      ]
     },
     "execution_count": 81,
     "metadata": {},
     "output_type": "execute_result"
    }
   ],
   "source": [
    "unique_freq_v_we.loc[:, '310'].sort_values()[-20:]"
   ]
  },
  {
   "cell_type": "markdown",
   "metadata": {},
   "source": [
    "We can see a significant number of infinitives in these maximum values for the verbs in dimension 310."
   ]
  },
  {
   "cell_type": "markdown",
   "metadata": {},
   "source": [
    "Now we can have a look at the lowest values in the dimension for nouns:"
   ]
  },
  {
   "cell_type": "code",
   "execution_count": 82,
   "metadata": {},
   "outputs": [
    {
     "data": {
      "text/plain": [
       "piqué       -2.088387\n",
       "rêvé        -1.538719\n",
       "monté       -0.993989\n",
       "serons      -0.932048\n",
       "fermé       -0.672738\n",
       "réfléchis   -0.025025\n",
       "finis        0.046858\n",
       "ailles       0.262939\n",
       "utilisé      0.423928\n",
       "seras        0.487344\n",
       "pourvu       0.574190\n",
       "allés        0.704278\n",
       "vus          0.723557\n",
       "mangez       0.894357\n",
       "pensé        0.962764\n",
       "irez         0.980034\n",
       "allume       0.995892\n",
       "aurais       1.008486\n",
       "commandé     1.009174\n",
       "auriez       1.026092\n",
       "Name: 310, dtype: float64"
      ]
     },
     "execution_count": 82,
     "metadata": {},
     "output_type": "execute_result"
    }
   ],
   "source": [
    "unique_freq_v_we.loc[:, '310'].sort_values()[:20]"
   ]
  },
  {
   "cell_type": "markdown",
   "metadata": {},
   "source": [
    "Here we can see a mix of forms, however, we don't seem to see any infinitive forms."
   ]
  },
  {
   "cell_type": "markdown",
   "metadata": {},
   "source": [
    "Nouns with the lowest value in the dimension:"
   ]
  },
  {
   "cell_type": "code",
   "execution_count": 83,
   "metadata": {},
   "outputs": [
    {
     "data": {
      "text/plain": [
       "lunettes    -5.083002\n",
       "demain      -4.969532\n",
       "juifs       -4.517591\n",
       "étrangers   -4.254983\n",
       "messages    -4.040105\n",
       "voeux       -3.803348\n",
       "objets      -3.401867\n",
       "meilleur    -3.372919\n",
       "noirs       -3.322743\n",
       "idées       -3.279242\n",
       "mensonges   -3.016910\n",
       "lapin       -2.982962\n",
       "oreilles    -2.786221\n",
       "filles      -2.717664\n",
       "cartes      -2.705096\n",
       "nuages      -2.682483\n",
       "collier     -2.669886\n",
       "têtes       -2.620975\n",
       "puce        -2.561149\n",
       "histoires   -2.560154\n",
       "Name: 310, dtype: float64"
      ]
     },
     "execution_count": 83,
     "metadata": {},
     "output_type": "execute_result"
    }
   ],
   "source": [
    "unique_freq_n_we.loc[:, '310'].sort_values()[:20]"
   ]
  },
  {
   "cell_type": "markdown",
   "metadata": {},
   "source": [
    "We can see a significant number of plural forms of nouns in the minimum values of the dimension for nouns."
   ]
  },
  {
   "cell_type": "code",
   "execution_count": 84,
   "metadata": {},
   "outputs": [
    {
     "data": {
      "text/plain": [
       "soutien         9.944751\n",
       "situation       9.967330\n",
       "contraire      10.116773\n",
       "ministère      10.354539\n",
       "époque         10.524783\n",
       "colonel        10.629621\n",
       "rôle           10.761567\n",
       "arrêt          10.780378\n",
       "mandat         10.880356\n",
       "patrie         10.936634\n",
       "général        11.045178\n",
       "faveur         11.212240\n",
       "comité         11.505790\n",
       "article        11.632575\n",
       "détail         11.645336\n",
       "direction      11.658642\n",
       "commission     11.704790\n",
       "ministre       12.018818\n",
       "nom            13.014243\n",
       "commissaire    14.191738\n",
       "Name: 310, dtype: float64"
      ]
     },
     "execution_count": 84,
     "metadata": {},
     "output_type": "execute_result"
    }
   ],
   "source": [
    "unique_freq_n_we.loc[:, '310'].sort_values()[-20:]"
   ]
  },
  {
   "cell_type": "markdown",
   "metadata": {},
   "source": [
    "In the highest values we don't seem to see the plural noun forms."
   ]
  },
  {
   "cell_type": "markdown",
   "metadata": {},
   "source": [
    "### Dimension 341"
   ]
  },
  {
   "cell_type": "code",
   "execution_count": 142,
   "metadata": {},
   "outputs": [
    {
     "data": {
      "text/plain": [
       "<AxesSubplot:xlabel='341', ylabel='Count'>"
      ]
     },
     "execution_count": 142,
     "metadata": {},
     "output_type": "execute_result"
    },
    {
     "data": {
      "image/png": "[encoded data removed]",
      "text/plain": [
       "<Figure size 432x288 with 1 Axes>"
      ]
     },
     "metadata": {
      "needs_background": "light"
     },
     "output_type": "display_data"
    }
   ],
   "source": [
    "sns.histplot(data=unique_n_and_v_we, x='341', hue='cgram')"
   ]
  },
  {
   "cell_type": "markdown",
   "metadata": {},
   "source": [
    "Verbs with minimum values:"
   ]
  },
  {
   "cell_type": "code",
   "execution_count": 86,
   "metadata": {},
   "outputs": [
    {
     "data": {
      "text/plain": [
       "fumer        -8.108139\n",
       "laissez      -7.393835\n",
       "éteindre     -7.033858\n",
       "range        -6.858156\n",
       "ouvrez       -6.326445\n",
       "fermé        -5.847817\n",
       "allume       -5.806985\n",
       "ouvert       -5.631483\n",
       "restons      -5.582978\n",
       "appartient   -5.486854\n",
       "laissée      -5.401712\n",
       "devez        -5.378696\n",
       "rêvé         -5.125795\n",
       "semblez      -5.103307\n",
       "suivez       -5.044478\n",
       "pouvez       -4.917494\n",
       "feriez       -4.853813\n",
       "aimez        -4.838287\n",
       "entrez       -4.831566\n",
       "cherchez     -4.793342\n",
       "Name: 341, dtype: float64"
      ]
     },
     "execution_count": 86,
     "metadata": {},
     "output_type": "execute_result"
    }
   ],
   "source": [
    "unique_freq_v_we.loc[:, '341'].sort_values()[:20]"
   ]
  },
  {
   "cell_type": "markdown",
   "metadata": {},
   "source": [
    "Verbs with maximum values:"
   ]
  },
  {
   "cell_type": "code",
   "execution_count": 87,
   "metadata": {},
   "outputs": [
    {
     "data": {
      "text/plain": [
       "seras         6.501437\n",
       "découvre      6.542109\n",
       "trouvera      6.552543\n",
       "apprendre     6.560469\n",
       "pourrons      6.660382\n",
       "parlera       6.748144\n",
       "imagine       6.749920\n",
       "viendront     6.978506\n",
       "monte         6.985057\n",
       "prépare       7.073811\n",
       "irons         7.096084\n",
       "vus           7.293647\n",
       "verras        7.387590\n",
       "met           7.693519\n",
       "appris        7.706589\n",
       "apprends      8.224072\n",
       "menacé        8.464701\n",
       "mettra        8.479979\n",
       "vas           8.741084\n",
       "apprend      10.655457\n",
       "Name: 341, dtype: float64"
      ]
     },
     "execution_count": 87,
     "metadata": {},
     "output_type": "execute_result"
    }
   ],
   "source": [
    "unique_freq_v_we.loc[:, '341'].sort_values()[-20:]"
   ]
  },
  {
   "cell_type": "markdown",
   "metadata": {},
   "source": [
    "We can see a high number of future forms in the maximum values of the dimension for verbs."
   ]
  },
  {
   "cell_type": "markdown",
   "metadata": {},
   "source": [
    "Now we can have a look at nouns. The maximum values for nouns:"
   ]
  },
  {
   "cell_type": "code",
   "execution_count": 88,
   "metadata": {},
   "outputs": [
    {
     "data": {
      "text/plain": [
       "dommage       3.474813\n",
       "bateau        3.516833\n",
       "patience      3.518557\n",
       "pardon        3.555298\n",
       "cirque        3.615766\n",
       "dossier       3.652473\n",
       "mamie         3.720312\n",
       "professeur    3.834080\n",
       "lien          3.988438\n",
       "demain        4.205653\n",
       "procureur     4.238091\n",
       "maire         4.563721\n",
       "cieux         4.684817\n",
       "retard        4.786778\n",
       "lycée         4.960897\n",
       "ministre      4.992846\n",
       "mission       5.063880\n",
       "spectacle     5.148606\n",
       "papa          6.343891\n",
       "maman         6.857438\n",
       "Name: 341, dtype: float64"
      ]
     },
     "execution_count": 88,
     "metadata": {},
     "output_type": "execute_result"
    }
   ],
   "source": [
    "unique_freq_n_we.loc[:, '341'].sort_values()[-20:]"
   ]
  },
  {
   "cell_type": "markdown",
   "metadata": {},
   "source": [
    "And minimum values:"
   ]
  },
  {
   "cell_type": "code",
   "execution_count": 89,
   "metadata": {},
   "outputs": [
    {
     "data": {
      "text/plain": [
       "rayon        -12.251479\n",
       "essence      -12.176056\n",
       "cigarette     -9.908346\n",
       "opinion       -9.853559\n",
       "chaussures    -9.463488\n",
       "cigarettes    -9.329203\n",
       "moteur        -9.156714\n",
       "quart         -9.042901\n",
       "manteau       -8.887268\n",
       "pantalon      -8.822412\n",
       "chemise       -8.801095\n",
       "robe          -8.428322\n",
       "feux          -8.315781\n",
       "arrière       -8.234684\n",
       "esprit        -8.226138\n",
       "homme         -8.153903\n",
       "queue         -8.125231\n",
       "milliers      -8.076147\n",
       "veste         -8.040111\n",
       "religion      -8.029559\n",
       "Name: 341, dtype: float64"
      ]
     },
     "execution_count": 89,
     "metadata": {},
     "output_type": "execute_result"
    }
   ],
   "source": [
    "unique_freq_n_we.loc[:, '341'].sort_values()[:20]"
   ]
  },
  {
   "cell_type": "markdown",
   "metadata": {},
   "source": [
    "There doesn't appear to be an obvious grouping for nouns in this dimension."
   ]
  },
  {
   "cell_type": "markdown",
   "metadata": {},
   "source": [
    "### Dimension 480"
   ]
  },
  {
   "cell_type": "code",
   "execution_count": 143,
   "metadata": {},
   "outputs": [
    {
     "data": {
      "text/plain": [
       "<AxesSubplot:xlabel='29', ylabel='Count'>"
      ]
     },
     "execution_count": 143,
     "metadata": {},
     "output_type": "execute_result"
    },
    {
     "data": {
      "image/png": "[encoded data removed]",
      "text/plain": [
       "<Figure size 432x288 with 1 Axes>"
      ]
     },
     "metadata": {
      "needs_background": "light"
     },
     "output_type": "display_data"
    }
   ],
   "source": [
    "sns.histplot(data=unique_n_and_v_we, x='29', hue='cgram')"
   ]
  },
  {
   "cell_type": "markdown",
   "metadata": {},
   "source": [
    "Let's have a look at nouns with the minimum values:"
   ]
  },
  {
   "cell_type": "code",
   "execution_count": 93,
   "metadata": {},
   "outputs": [
    {
     "data": {
      "text/plain": [
       "présent         -6.480861\n",
       "nom             -6.347413\n",
       "nouveau         -6.232853\n",
       "seule           -5.462959\n",
       "règlement       -5.272700\n",
       "seul            -5.179367\n",
       "bienvenue       -5.119082\n",
       "vent            -5.044795\n",
       "lieu            -5.034687\n",
       "chant           -4.906298\n",
       "royaume         -4.901502\n",
       "samedi          -4.898768\n",
       "dimanche        -4.872899\n",
       "permission      -4.793379\n",
       "poule           -4.731320\n",
       "suite           -4.664353\n",
       "circonstances   -4.456377\n",
       "cérémonie       -4.453503\n",
       "instant         -4.421569\n",
       "habits          -4.091128\n",
       "Name: 480, dtype: float64"
      ]
     },
     "execution_count": 93,
     "metadata": {},
     "output_type": "execute_result"
    }
   ],
   "source": [
    "unique_freq_n_we.loc[:, '480'].sort_values()[:20]"
   ]
  },
  {
   "cell_type": "markdown",
   "metadata": {},
   "source": [
    "And nouns with maximum values:"
   ]
  },
  {
   "cell_type": "code",
   "execution_count": 94,
   "metadata": {},
   "outputs": [
    {
     "data": {
      "text/plain": [
       "kilos         7.912552\n",
       "mensonges     8.123559\n",
       "clés          8.125545\n",
       "secrets       8.127202\n",
       "chat          8.237673\n",
       "bébé          8.239611\n",
       "clinique      8.297504\n",
       "veste         8.312120\n",
       "tests         8.462896\n",
       "bite          8.518302\n",
       "roman         8.520989\n",
       "études        8.583365\n",
       "science       8.585458\n",
       "écrivain      8.642861\n",
       "haine         9.057456\n",
       "détective     9.349487\n",
       "labo          9.494498\n",
       "peau          9.561861\n",
       "vengeance     9.672227\n",
       "foie         10.213790\n",
       "Name: 480, dtype: float64"
      ]
     },
     "execution_count": 94,
     "metadata": {},
     "output_type": "execute_result"
    }
   ],
   "source": [
    "unique_freq_n_we.loc[:, '480'].sort_values()[-20:]"
   ]
  },
  {
   "cell_type": "markdown",
   "metadata": {},
   "source": [
    "There don't appear to be a clear distinguishing factor for the nouns in the dimension."
   ]
  },
  {
   "cell_type": "markdown",
   "metadata": {},
   "source": [
    "Verbs with highest values in the dimension 480:"
   ]
  },
  {
   "cell_type": "code",
   "execution_count": 95,
   "metadata": {},
   "outputs": [
    {
     "data": {
      "text/plain": [
       "commandé    3.335189\n",
       "ailles      3.359642\n",
       "menti       3.410817\n",
       "prévenir    3.448469\n",
       "tirez       3.545007\n",
       "tue         3.583520\n",
       "coûte       3.618929\n",
       "nettoyer    3.715465\n",
       "perdez      3.726598\n",
       "piqué       3.769479\n",
       "couvre      3.774748\n",
       "détruit     3.948001\n",
       "jetez       4.102099\n",
       "arrêtez     4.166961\n",
       "fatiguée    4.186472\n",
       "fatigué     4.358460\n",
       "protège     4.363995\n",
       "utilisé     4.432634\n",
       "rempli      5.192020\n",
       "levez       5.370016\n",
       "Name: 480, dtype: float64"
      ]
     },
     "execution_count": 95,
     "metadata": {},
     "output_type": "execute_result"
    }
   ],
   "source": [
    "unique_freq_v_we.loc[:, '480'].sort_values()[-20:]"
   ]
  },
  {
   "cell_type": "markdown",
   "metadata": {},
   "source": [
    "And the lowest values:"
   ]
  },
  {
   "cell_type": "code",
   "execution_count": 96,
   "metadata": {},
   "outputs": [
    {
     "data": {
      "text/plain": [
       "réunis       -9.541465\n",
       "prier        -8.676607\n",
       "étions       -7.862647\n",
       "accueillir   -7.479785\n",
       "es           -7.257606\n",
       "inviter      -7.211152\n",
       "participer   -6.805292\n",
       "joindre      -6.670277\n",
       "refuser      -6.652164\n",
       "sentir       -6.245357\n",
       "étiez        -6.241361\n",
       "allés        -6.217839\n",
       "voyait       -6.111190\n",
       "exprimer     -6.086957\n",
       "amuser       -6.031622\n",
       "appartient   -6.000920\n",
       "partager     -5.988522\n",
       "vivait       -5.899214\n",
       "approcher    -5.745954\n",
       "entrer       -5.704749\n",
       "Name: 480, dtype: float64"
      ]
     },
     "execution_count": 96,
     "metadata": {},
     "output_type": "execute_result"
    }
   ],
   "source": [
    "unique_freq_v_we.loc[:, '480'].sort_values()[:20]"
   ]
  },
  {
   "cell_type": "markdown",
   "metadata": {},
   "source": [
    "There doesn't seem to be a clear classification of the verbs as well."
   ]
  },
  {
   "cell_type": "markdown",
   "metadata": {},
   "source": [
    "### Dimension 462"
   ]
  },
  {
   "cell_type": "code",
   "execution_count": 144,
   "metadata": {},
   "outputs": [
    {
     "data": {
      "text/plain": [
       "<AxesSubplot:xlabel='462', ylabel='Count'>"
      ]
     },
     "execution_count": 144,
     "metadata": {},
     "output_type": "execute_result"
    },
    {
     "data": {
      "image/png": "[encoded data removed]",
      "text/plain": [
       "<Figure size 432x288 with 1 Axes>"
      ]
     },
     "metadata": {
      "needs_background": "light"
     },
     "output_type": "display_data"
    }
   ],
   "source": [
    "sns.histplot(data=unique_n_and_v_we, x='462', hue='cgram')"
   ]
  },
  {
   "cell_type": "markdown",
   "metadata": {},
   "source": [
    "Verbs wuth maximum values in the dimension:"
   ]
  },
  {
   "cell_type": "code",
   "execution_count": 100,
   "metadata": {},
   "outputs": [
    {
     "data": {
      "text/plain": [
       "réveille    4.029375\n",
       "coupez      4.033271\n",
       "commandé    4.041405\n",
       "suit        4.270710\n",
       "eu          4.283330\n",
       "aie         4.380064\n",
       "arrangé     4.484571\n",
       "servent     4.539263\n",
       "née         4.624423\n",
       "réalisé     4.650867\n",
       "né          4.746367\n",
       "rêvé        4.866822\n",
       "reçoit      5.188426\n",
       "appelée     5.218189\n",
       "couvre      5.431526\n",
       "comprend    5.478610\n",
       "chargé      5.692601\n",
       "marie       5.797937\n",
       "concerne    6.385518\n",
       "piqué       6.429501\n",
       "Name: 462, dtype: float64"
      ]
     },
     "execution_count": 100,
     "metadata": {},
     "output_type": "execute_result"
    }
   ],
   "source": [
    "unique_freq_v_we.loc[:, '462'].sort_values()[-20:]"
   ]
  },
  {
   "cell_type": "markdown",
   "metadata": {},
   "source": [
    "Agaign we're seeing a lot of participe passé in the verbs that have values more similar to nouns."
   ]
  },
  {
   "cell_type": "markdown",
   "metadata": {},
   "source": [
    "Verbs with minimum values:"
   ]
  },
  {
   "cell_type": "code",
   "execution_count": 101,
   "metadata": {},
   "outputs": [
    {
     "data": {
      "text/plain": [
       "renoncer     -6.917808\n",
       "refuse       -5.451680\n",
       "veulent      -4.849559\n",
       "parie        -4.814689\n",
       "montrer      -4.742959\n",
       "prêter       -4.720151\n",
       "rappelé      -4.712235\n",
       "désirez      -4.642494\n",
       "accepter     -4.581428\n",
       "prête        -4.554100\n",
       "désire       -4.474217\n",
       "travaillez   -4.467636\n",
       "pouvons      -4.444123\n",
       "expliqué     -4.410753\n",
       "cherchent    -4.329335\n",
       "croient      -4.327053\n",
       "livrer       -4.296925\n",
       "fumer        -4.289995\n",
       "voulons      -4.258634\n",
       "survivre     -4.244107\n",
       "Name: 462, dtype: float64"
      ]
     },
     "execution_count": 101,
     "metadata": {},
     "output_type": "execute_result"
    }
   ],
   "source": [
    "unique_freq_v_we.loc[:, '462'].sort_values()[:20]"
   ]
  },
  {
   "cell_type": "markdown",
   "metadata": {},
   "source": [
    "Nouns with the maximum values in the dimension:"
   ]
  },
  {
   "cell_type": "code",
   "execution_count": 102,
   "metadata": {},
   "outputs": [
    {
     "data": {
      "text/plain": [
       "trouille      6.920522\n",
       "type          6.953408\n",
       "acte          7.027479\n",
       "lait          7.076558\n",
       "ingénieur     7.153214\n",
       "actes         7.165229\n",
       "garçons       7.254890\n",
       "lapin         7.284745\n",
       "boîte         7.395847\n",
       "anneau        7.508364\n",
       "chien         7.538063\n",
       "anges         7.690896\n",
       "oeufs         7.737548\n",
       "école         7.859353\n",
       "fleurs        7.974960\n",
       "ailes         8.496843\n",
       "moteur        8.843773\n",
       "agent         9.024332\n",
       "bleu          9.126848\n",
       "unité        10.209997\n",
       "Name: 462, dtype: float64"
      ]
     },
     "execution_count": 102,
     "metadata": {},
     "output_type": "execute_result"
    }
   ],
   "source": [
    "unique_freq_n_we.loc[:, '462'].sort_values()[-20:]"
   ]
  },
  {
   "cell_type": "code",
   "execution_count": 103,
   "metadata": {},
   "outputs": [
    {
     "data": {
      "text/plain": [
       "faim           -4.269458\n",
       "gouvernement   -4.003902\n",
       "milliers       -3.427987\n",
       "siècles        -3.362742\n",
       "prêt           -3.166293\n",
       "centaines      -3.134314\n",
       "souffrance     -3.088076\n",
       "misère         -2.869469\n",
       "réputation     -2.801886\n",
       "nourriture     -2.742906\n",
       "réalité        -2.711168\n",
       "dommage        -2.697803\n",
       "cigarette      -2.616531\n",
       "nouvelles      -2.496075\n",
       "permission     -2.383769\n",
       "santé          -2.374705\n",
       "douleur        -2.157844\n",
       "qualité        -2.070296\n",
       "troupes        -2.051054\n",
       "nouvelle       -2.044007\n",
       "Name: 462, dtype: float64"
      ]
     },
     "execution_count": 103,
     "metadata": {},
     "output_type": "execute_result"
    }
   ],
   "source": [
    "unique_freq_n_we.loc[:, '462'].sort_values()[:20]"
   ]
  },
  {
   "cell_type": "markdown",
   "metadata": {},
   "source": [
    "There doesn't seem to be an easy classification for nouns in this dimension."
   ]
  },
  {
   "cell_type": "markdown",
   "metadata": {},
   "source": [
    "# Results"
   ]
  },
  {
   "cell_type": "markdown",
   "metadata": {},
   "source": [
    "For the observed dimensions we can see that there is still an overlap in values between nouns and verbs but an average \n",
    "seems to be clearly separated.\n",
    "\n",
    "We can now perform a test by adding more PoS: adjectives, adverbs and seeing whether or not any of the dimensions remain strongly correlated to the PoS information."
   ]
  },
  {
   "cell_type": "markdown",
   "metadata": {},
   "source": [
    "# Adding adjectives and adverbs"
   ]
  },
  {
   "cell_type": "code",
   "execution_count": 104,
   "metadata": {},
   "outputs": [],
   "source": [
    "top_freq_adj = pd.read_csv('Most Frequent Words/freq_ADJ.csv', index_col=0)[:1000]"
   ]
  },
  {
   "cell_type": "code",
   "execution_count": 105,
   "metadata": {},
   "outputs": [
    {
     "data": {
      "text/html": [
       "<div>\n",
       "<style scoped>\n",
       "    .dataframe tbody tr th:only-of-type {\n",
       "        vertical-align: middle;\n",
       "    }\n",
       "\n",
       "    .dataframe tbody tr th {\n",
       "        vertical-align: top;\n",
       "    }\n",
       "\n",
       "    .dataframe thead th {\n",
       "        text-align: right;\n",
       "    }\n",
       "</style>\n",
       "<table border=\"1\" class=\"dataframe\">\n",
       "  <thead>\n",
       "    <tr style=\"text-align: right;\">\n",
       "      <th></th>\n",
       "      <th>lemme</th>\n",
       "      <th>cgram</th>\n",
       "      <th>freq</th>\n",
       "    </tr>\n",
       "    <tr>\n",
       "      <th>Word</th>\n",
       "      <th></th>\n",
       "      <th></th>\n",
       "      <th></th>\n",
       "    </tr>\n",
       "  </thead>\n",
       "  <tbody>\n",
       "    <tr>\n",
       "      <th>mon</th>\n",
       "      <td>mon</td>\n",
       "      <td>ADJ</td>\n",
       "      <td>3848.99</td>\n",
       "    </tr>\n",
       "    <tr>\n",
       "      <th>ce</th>\n",
       "      <td>ce</td>\n",
       "      <td>ADJ</td>\n",
       "      <td>2739.25</td>\n",
       "    </tr>\n",
       "    <tr>\n",
       "      <th>ma</th>\n",
       "      <td>ma</td>\n",
       "      <td>ADJ</td>\n",
       "      <td>2346.90</td>\n",
       "    </tr>\n",
       "    <tr>\n",
       "      <th>cette</th>\n",
       "      <td>cette</td>\n",
       "      <td>ADJ</td>\n",
       "      <td>1902.27</td>\n",
       "    </tr>\n",
       "    <tr>\n",
       "      <th>votre</th>\n",
       "      <td>votre</td>\n",
       "      <td>ADJ</td>\n",
       "      <td>1894.09</td>\n",
       "    </tr>\n",
       "    <tr>\n",
       "      <th>...</th>\n",
       "      <td>...</td>\n",
       "      <td>...</td>\n",
       "      <td>...</td>\n",
       "    </tr>\n",
       "    <tr>\n",
       "      <th>marin</th>\n",
       "      <td>marin</td>\n",
       "      <td>ADJ</td>\n",
       "      <td>5.40</td>\n",
       "    </tr>\n",
       "    <tr>\n",
       "      <th>perdus</th>\n",
       "      <td>perdu</td>\n",
       "      <td>ADJ</td>\n",
       "      <td>5.39</td>\n",
       "    </tr>\n",
       "    <tr>\n",
       "      <th>étudiant</th>\n",
       "      <td>étudiant</td>\n",
       "      <td>ADJ</td>\n",
       "      <td>5.39</td>\n",
       "    </tr>\n",
       "    <tr>\n",
       "      <th>esclave</th>\n",
       "      <td>esclave</td>\n",
       "      <td>ADJ</td>\n",
       "      <td>5.38</td>\n",
       "    </tr>\n",
       "    <tr>\n",
       "      <th>présents</th>\n",
       "      <td>présent</td>\n",
       "      <td>ADJ</td>\n",
       "      <td>5.38</td>\n",
       "    </tr>\n",
       "  </tbody>\n",
       "</table>\n",
       "<p>1000 rows × 3 columns</p>\n",
       "</div>"
      ],
      "text/plain": [
       "             lemme cgram     freq\n",
       "Word                             \n",
       "mon            mon   ADJ  3848.99\n",
       "ce              ce   ADJ  2739.25\n",
       "ma              ma   ADJ  2346.90\n",
       "cette        cette   ADJ  1902.27\n",
       "votre        votre   ADJ  1894.09\n",
       "...            ...   ...      ...\n",
       "marin        marin   ADJ     5.40\n",
       "perdus       perdu   ADJ     5.39\n",
       "étudiant  étudiant   ADJ     5.39\n",
       "esclave    esclave   ADJ     5.38\n",
       "présents   présent   ADJ     5.38\n",
       "\n",
       "[1000 rows x 3 columns]"
      ]
     },
     "execution_count": 105,
     "metadata": {},
     "output_type": "execute_result"
    }
   ],
   "source": [
    "top_freq_adj['cgram'] = 'ADJ'\n",
    "top_freq_adj"
   ]
  },
  {
   "cell_type": "code",
   "execution_count": 106,
   "metadata": {},
   "outputs": [
    {
     "name": "stderr",
     "output_type": "stream",
     "text": [
      "/Users/egoliakova/opt/anaconda3/lib/python3.8/site-packages/requests/__init__.py:89: RequestsDependencyWarning: urllib3 (1.26.14) or chardet (3.0.4) doesn't match a supported version!\n",
      "  warnings.warn(\"urllib3 ({}) or chardet ({}) doesn't match a supported \"\n",
      "Some weights of the model checkpoint at flaubert/flaubert_small_cased were not used when initializing FlaubertModel: ['pred_layer.proj.weight', 'pred_layer.proj.bias']\n",
      "- This IS expected if you are initializing FlaubertModel from the checkpoint of a model trained on another task or with another architecture (e.g. initializing a BertForSequenceClassification model from a BertForPreTraining model).\n",
      "- This IS NOT expected if you are initializing FlaubertModel from the checkpoint of a model that you expect to be exactly identical (initializing a BertForSequenceClassification model from a BertForSequenceClassification model).\n"
     ]
    }
   ],
   "source": [
    "from we import *\n",
    "\n",
    "model, tokenizer, log = initiate_model()"
   ]
  },
  {
   "cell_type": "code",
   "execution_count": 107,
   "metadata": {},
   "outputs": [],
   "source": [
    "adj_we = create_words_df(model, tokenizer, top_freq_adj[~top_freq_adj.index.isin(top_freq_n.index)].index)"
   ]
  },
  {
   "cell_type": "code",
   "execution_count": 108,
   "metadata": {},
   "outputs": [],
   "source": [
    "unique_freq_adj_we = adj_we.merge(top_freq_adj, left_index=True, right_index=True)\n",
    "unique_freq_adj_we.columns = list(map(lambda x: str(x), unique_freq_adj_we.columns))"
   ]
  },
  {
   "cell_type": "markdown",
   "metadata": {},
   "source": [
    "We can add encoding of 'ADJ' as PoS as `pos = 2`:"
   ]
  },
  {
   "cell_type": "code",
   "execution_count": 109,
   "metadata": {},
   "outputs": [
    {
     "data": {
      "text/html": [
       "<div>\n",
       "<style scoped>\n",
       "    .dataframe tbody tr th:only-of-type {\n",
       "        vertical-align: middle;\n",
       "    }\n",
       "\n",
       "    .dataframe tbody tr th {\n",
       "        vertical-align: top;\n",
       "    }\n",
       "\n",
       "    .dataframe thead th {\n",
       "        text-align: right;\n",
       "    }\n",
       "</style>\n",
       "<table border=\"1\" class=\"dataframe\">\n",
       "  <thead>\n",
       "    <tr style=\"text-align: right;\">\n",
       "      <th></th>\n",
       "      <th>0</th>\n",
       "      <th>1</th>\n",
       "      <th>2</th>\n",
       "      <th>3</th>\n",
       "      <th>4</th>\n",
       "      <th>5</th>\n",
       "      <th>6</th>\n",
       "      <th>7</th>\n",
       "      <th>8</th>\n",
       "      <th>9</th>\n",
       "      <th>...</th>\n",
       "      <th>506</th>\n",
       "      <th>507</th>\n",
       "      <th>508</th>\n",
       "      <th>509</th>\n",
       "      <th>510</th>\n",
       "      <th>511</th>\n",
       "      <th>lemme</th>\n",
       "      <th>cgram</th>\n",
       "      <th>freq</th>\n",
       "      <th>pos</th>\n",
       "    </tr>\n",
       "  </thead>\n",
       "  <tbody>\n",
       "    <tr>\n",
       "      <th>absent</th>\n",
       "      <td>-0.133797</td>\n",
       "      <td>-7.267576</td>\n",
       "      <td>0.483826</td>\n",
       "      <td>-1.668857</td>\n",
       "      <td>7.979072</td>\n",
       "      <td>-4.277437</td>\n",
       "      <td>-1.145080</td>\n",
       "      <td>-0.571951</td>\n",
       "      <td>4.049406</td>\n",
       "      <td>-3.149042</td>\n",
       "      <td>...</td>\n",
       "      <td>-0.561165</td>\n",
       "      <td>-5.142469</td>\n",
       "      <td>-6.883100</td>\n",
       "      <td>-4.334402</td>\n",
       "      <td>2.554219</td>\n",
       "      <td>-0.866412</td>\n",
       "      <td>absent</td>\n",
       "      <td>ADJ</td>\n",
       "      <td>9.46</td>\n",
       "      <td>2</td>\n",
       "    </tr>\n",
       "    <tr>\n",
       "      <th>absolu</th>\n",
       "      <td>4.933391</td>\n",
       "      <td>-1.820655</td>\n",
       "      <td>1.532478</td>\n",
       "      <td>-1.979795</td>\n",
       "      <td>1.728292</td>\n",
       "      <td>0.517361</td>\n",
       "      <td>-2.229984</td>\n",
       "      <td>4.105628</td>\n",
       "      <td>-2.711453</td>\n",
       "      <td>1.507046</td>\n",
       "      <td>...</td>\n",
       "      <td>-0.999988</td>\n",
       "      <td>-3.802394</td>\n",
       "      <td>-0.709234</td>\n",
       "      <td>-3.994629</td>\n",
       "      <td>1.213610</td>\n",
       "      <td>-1.900828</td>\n",
       "      <td>absolu</td>\n",
       "      <td>ADJ</td>\n",
       "      <td>8.55</td>\n",
       "      <td>2</td>\n",
       "    </tr>\n",
       "    <tr>\n",
       "      <th>absolue</th>\n",
       "      <td>4.234381</td>\n",
       "      <td>-0.431358</td>\n",
       "      <td>-0.230961</td>\n",
       "      <td>-0.056044</td>\n",
       "      <td>0.191299</td>\n",
       "      <td>0.593049</td>\n",
       "      <td>-3.839259</td>\n",
       "      <td>2.989963</td>\n",
       "      <td>-1.278115</td>\n",
       "      <td>-0.350125</td>\n",
       "      <td>...</td>\n",
       "      <td>-0.003822</td>\n",
       "      <td>-2.327732</td>\n",
       "      <td>-1.106974</td>\n",
       "      <td>-3.103743</td>\n",
       "      <td>-0.077974</td>\n",
       "      <td>-2.705171</td>\n",
       "      <td>absolu</td>\n",
       "      <td>ADJ</td>\n",
       "      <td>8.44</td>\n",
       "      <td>2</td>\n",
       "    </tr>\n",
       "    <tr>\n",
       "      <th>absurde</th>\n",
       "      <td>3.756803</td>\n",
       "      <td>1.015494</td>\n",
       "      <td>0.616596</td>\n",
       "      <td>-1.308431</td>\n",
       "      <td>3.019945</td>\n",
       "      <td>4.145076</td>\n",
       "      <td>-0.925479</td>\n",
       "      <td>-0.032260</td>\n",
       "      <td>0.841586</td>\n",
       "      <td>5.597266</td>\n",
       "      <td>...</td>\n",
       "      <td>-0.109983</td>\n",
       "      <td>-0.612023</td>\n",
       "      <td>-4.347472</td>\n",
       "      <td>-1.936714</td>\n",
       "      <td>5.816693</td>\n",
       "      <td>4.032070</td>\n",
       "      <td>absurde</td>\n",
       "      <td>ADJ</td>\n",
       "      <td>21.56</td>\n",
       "      <td>2</td>\n",
       "    </tr>\n",
       "    <tr>\n",
       "      <th>accro</th>\n",
       "      <td>2.483311</td>\n",
       "      <td>2.564316</td>\n",
       "      <td>2.450794</td>\n",
       "      <td>0.317622</td>\n",
       "      <td>0.960546</td>\n",
       "      <td>-5.047524</td>\n",
       "      <td>-2.912201</td>\n",
       "      <td>-2.265557</td>\n",
       "      <td>-0.271045</td>\n",
       "      <td>4.769103</td>\n",
       "      <td>...</td>\n",
       "      <td>-5.210542</td>\n",
       "      <td>-4.113883</td>\n",
       "      <td>-3.342281</td>\n",
       "      <td>0.034384</td>\n",
       "      <td>3.217093</td>\n",
       "      <td>0.243652</td>\n",
       "      <td>accro</td>\n",
       "      <td>ADJ</td>\n",
       "      <td>6.22</td>\n",
       "      <td>2</td>\n",
       "    </tr>\n",
       "    <tr>\n",
       "      <th>...</th>\n",
       "      <td>...</td>\n",
       "      <td>...</td>\n",
       "      <td>...</td>\n",
       "      <td>...</td>\n",
       "      <td>...</td>\n",
       "      <td>...</td>\n",
       "      <td>...</td>\n",
       "      <td>...</td>\n",
       "      <td>...</td>\n",
       "      <td>...</td>\n",
       "      <td>...</td>\n",
       "      <td>...</td>\n",
       "      <td>...</td>\n",
       "      <td>...</td>\n",
       "      <td>...</td>\n",
       "      <td>...</td>\n",
       "      <td>...</td>\n",
       "      <td>...</td>\n",
       "      <td>...</td>\n",
       "      <td>...</td>\n",
       "      <td>...</td>\n",
       "    </tr>\n",
       "    <tr>\n",
       "      <th>étranges</th>\n",
       "      <td>0.135948</td>\n",
       "      <td>-2.724816</td>\n",
       "      <td>2.355129</td>\n",
       "      <td>4.514741</td>\n",
       "      <td>2.288908</td>\n",
       "      <td>-3.565652</td>\n",
       "      <td>-3.753523</td>\n",
       "      <td>1.620154</td>\n",
       "      <td>-2.034898</td>\n",
       "      <td>4.304150</td>\n",
       "      <td>...</td>\n",
       "      <td>0.261487</td>\n",
       "      <td>2.025450</td>\n",
       "      <td>-3.169602</td>\n",
       "      <td>-3.013140</td>\n",
       "      <td>4.914901</td>\n",
       "      <td>4.011208</td>\n",
       "      <td>étrange</td>\n",
       "      <td>ADJ</td>\n",
       "      <td>14.61</td>\n",
       "      <td>2</td>\n",
       "    </tr>\n",
       "    <tr>\n",
       "      <th>étrangère</th>\n",
       "      <td>-0.528358</td>\n",
       "      <td>-5.020804</td>\n",
       "      <td>7.048703</td>\n",
       "      <td>-4.285672</td>\n",
       "      <td>-0.846370</td>\n",
       "      <td>-5.188326</td>\n",
       "      <td>-1.694803</td>\n",
       "      <td>1.685176</td>\n",
       "      <td>0.840575</td>\n",
       "      <td>-0.250530</td>\n",
       "      <td>...</td>\n",
       "      <td>-1.258980</td>\n",
       "      <td>-7.150950</td>\n",
       "      <td>-3.155275</td>\n",
       "      <td>-5.170597</td>\n",
       "      <td>1.406956</td>\n",
       "      <td>-3.189593</td>\n",
       "      <td>étranger</td>\n",
       "      <td>ADJ</td>\n",
       "      <td>7.25</td>\n",
       "      <td>2</td>\n",
       "    </tr>\n",
       "    <tr>\n",
       "      <th>étroit</th>\n",
       "      <td>5.570940</td>\n",
       "      <td>-0.225175</td>\n",
       "      <td>7.052871</td>\n",
       "      <td>0.215390</td>\n",
       "      <td>-0.176270</td>\n",
       "      <td>-0.370587</td>\n",
       "      <td>-3.874887</td>\n",
       "      <td>-2.445458</td>\n",
       "      <td>4.617943</td>\n",
       "      <td>1.282627</td>\n",
       "      <td>...</td>\n",
       "      <td>1.103106</td>\n",
       "      <td>-0.384914</td>\n",
       "      <td>-2.918136</td>\n",
       "      <td>1.870697</td>\n",
       "      <td>2.147427</td>\n",
       "      <td>-0.903518</td>\n",
       "      <td>étroit</td>\n",
       "      <td>ADJ</td>\n",
       "      <td>5.94</td>\n",
       "      <td>2</td>\n",
       "    </tr>\n",
       "    <tr>\n",
       "      <th>étudiant</th>\n",
       "      <td>4.405126</td>\n",
       "      <td>-5.698966</td>\n",
       "      <td>6.166831</td>\n",
       "      <td>-2.713313</td>\n",
       "      <td>-7.252870</td>\n",
       "      <td>-5.252601</td>\n",
       "      <td>0.710367</td>\n",
       "      <td>4.577788</td>\n",
       "      <td>-1.209978</td>\n",
       "      <td>-1.291935</td>\n",
       "      <td>...</td>\n",
       "      <td>3.479017</td>\n",
       "      <td>-1.852687</td>\n",
       "      <td>-1.904442</td>\n",
       "      <td>-0.141250</td>\n",
       "      <td>0.100240</td>\n",
       "      <td>-3.073529</td>\n",
       "      <td>étudiant</td>\n",
       "      <td>ADJ</td>\n",
       "      <td>5.39</td>\n",
       "      <td>2</td>\n",
       "    </tr>\n",
       "    <tr>\n",
       "      <th>évident</th>\n",
       "      <td>2.340510</td>\n",
       "      <td>-0.332801</td>\n",
       "      <td>2.248723</td>\n",
       "      <td>0.235987</td>\n",
       "      <td>-0.756931</td>\n",
       "      <td>-2.655907</td>\n",
       "      <td>-4.716413</td>\n",
       "      <td>1.222106</td>\n",
       "      <td>-0.423593</td>\n",
       "      <td>0.004631</td>\n",
       "      <td>...</td>\n",
       "      <td>2.875386</td>\n",
       "      <td>-1.700507</td>\n",
       "      <td>-2.543783</td>\n",
       "      <td>-8.283433</td>\n",
       "      <td>2.971671</td>\n",
       "      <td>-6.232332</td>\n",
       "      <td>évident</td>\n",
       "      <td>ADJ</td>\n",
       "      <td>28.75</td>\n",
       "      <td>2</td>\n",
       "    </tr>\n",
       "  </tbody>\n",
       "</table>\n",
       "<p>872 rows × 516 columns</p>\n",
       "</div>"
      ],
      "text/plain": [
       "                  0         1         2         3         4         5  \\\n",
       "absent    -0.133797 -7.267576  0.483826 -1.668857  7.979072 -4.277437   \n",
       "absolu     4.933391 -1.820655  1.532478 -1.979795  1.728292  0.517361   \n",
       "absolue    4.234381 -0.431358 -0.230961 -0.056044  0.191299  0.593049   \n",
       "absurde    3.756803  1.015494  0.616596 -1.308431  3.019945  4.145076   \n",
       "accro      2.483311  2.564316  2.450794  0.317622  0.960546 -5.047524   \n",
       "...             ...       ...       ...       ...       ...       ...   \n",
       "étranges   0.135948 -2.724816  2.355129  4.514741  2.288908 -3.565652   \n",
       "étrangère -0.528358 -5.020804  7.048703 -4.285672 -0.846370 -5.188326   \n",
       "étroit     5.570940 -0.225175  7.052871  0.215390 -0.176270 -0.370587   \n",
       "étudiant   4.405126 -5.698966  6.166831 -2.713313 -7.252870 -5.252601   \n",
       "évident    2.340510 -0.332801  2.248723  0.235987 -0.756931 -2.655907   \n",
       "\n",
       "                  6         7         8         9  ...       506       507  \\\n",
       "absent    -1.145080 -0.571951  4.049406 -3.149042  ... -0.561165 -5.142469   \n",
       "absolu    -2.229984  4.105628 -2.711453  1.507046  ... -0.999988 -3.802394   \n",
       "absolue   -3.839259  2.989963 -1.278115 -0.350125  ... -0.003822 -2.327732   \n",
       "absurde   -0.925479 -0.032260  0.841586  5.597266  ... -0.109983 -0.612023   \n",
       "accro     -2.912201 -2.265557 -0.271045  4.769103  ... -5.210542 -4.113883   \n",
       "...             ...       ...       ...       ...  ...       ...       ...   \n",
       "étranges  -3.753523  1.620154 -2.034898  4.304150  ...  0.261487  2.025450   \n",
       "étrangère -1.694803  1.685176  0.840575 -0.250530  ... -1.258980 -7.150950   \n",
       "étroit    -3.874887 -2.445458  4.617943  1.282627  ...  1.103106 -0.384914   \n",
       "étudiant   0.710367  4.577788 -1.209978 -1.291935  ...  3.479017 -1.852687   \n",
       "évident   -4.716413  1.222106 -0.423593  0.004631  ...  2.875386 -1.700507   \n",
       "\n",
       "                508       509       510       511     lemme  cgram   freq  pos  \n",
       "absent    -6.883100 -4.334402  2.554219 -0.866412    absent    ADJ   9.46    2  \n",
       "absolu    -0.709234 -3.994629  1.213610 -1.900828    absolu    ADJ   8.55    2  \n",
       "absolue   -1.106974 -3.103743 -0.077974 -2.705171    absolu    ADJ   8.44    2  \n",
       "absurde   -4.347472 -1.936714  5.816693  4.032070   absurde    ADJ  21.56    2  \n",
       "accro     -3.342281  0.034384  3.217093  0.243652     accro    ADJ   6.22    2  \n",
       "...             ...       ...       ...       ...       ...    ...    ...  ...  \n",
       "étranges  -3.169602 -3.013140  4.914901  4.011208   étrange    ADJ  14.61    2  \n",
       "étrangère -3.155275 -5.170597  1.406956 -3.189593  étranger    ADJ   7.25    2  \n",
       "étroit    -2.918136  1.870697  2.147427 -0.903518    étroit    ADJ   5.94    2  \n",
       "étudiant  -1.904442 -0.141250  0.100240 -3.073529  étudiant    ADJ   5.39    2  \n",
       "évident   -2.543783 -8.283433  2.971671 -6.232332   évident    ADJ  28.75    2  \n",
       "\n",
       "[872 rows x 516 columns]"
      ]
     },
     "execution_count": 109,
     "metadata": {},
     "output_type": "execute_result"
    }
   ],
   "source": [
    "unique_freq_adj_we['pos'] = 2\n",
    "unique_freq_adj_we"
   ]
  },
  {
   "cell_type": "markdown",
   "metadata": {},
   "source": [
    "Now adding adverbs:"
   ]
  },
  {
   "cell_type": "code",
   "execution_count": 110,
   "metadata": {},
   "outputs": [],
   "source": [
    "top_freq_adv = pd.read_csv('Most Frequent Words/freq_ADV.csv', index_col=0)[:1000]"
   ]
  },
  {
   "cell_type": "code",
   "execution_count": 111,
   "metadata": {},
   "outputs": [
    {
     "data": {
      "text/html": [
       "<div>\n",
       "<style scoped>\n",
       "    .dataframe tbody tr th:only-of-type {\n",
       "        vertical-align: middle;\n",
       "    }\n",
       "\n",
       "    .dataframe tbody tr th {\n",
       "        vertical-align: top;\n",
       "    }\n",
       "\n",
       "    .dataframe thead th {\n",
       "        text-align: right;\n",
       "    }\n",
       "</style>\n",
       "<table border=\"1\" class=\"dataframe\">\n",
       "  <thead>\n",
       "    <tr style=\"text-align: right;\">\n",
       "      <th></th>\n",
       "      <th>0</th>\n",
       "      <th>1</th>\n",
       "      <th>2</th>\n",
       "      <th>3</th>\n",
       "      <th>4</th>\n",
       "      <th>5</th>\n",
       "      <th>6</th>\n",
       "      <th>7</th>\n",
       "      <th>8</th>\n",
       "      <th>9</th>\n",
       "      <th>...</th>\n",
       "      <th>502</th>\n",
       "      <th>503</th>\n",
       "      <th>504</th>\n",
       "      <th>505</th>\n",
       "      <th>506</th>\n",
       "      <th>507</th>\n",
       "      <th>508</th>\n",
       "      <th>509</th>\n",
       "      <th>510</th>\n",
       "      <th>511</th>\n",
       "    </tr>\n",
       "  </thead>\n",
       "  <tbody>\n",
       "    <tr>\n",
       "      <th>ne</th>\n",
       "      <td>-2.281668</td>\n",
       "      <td>-1.370962</td>\n",
       "      <td>-0.403685</td>\n",
       "      <td>-0.073815</td>\n",
       "      <td>0.837571</td>\n",
       "      <td>-0.220982</td>\n",
       "      <td>-5.014138</td>\n",
       "      <td>0.451976</td>\n",
       "      <td>1.381517</td>\n",
       "      <td>2.327595</td>\n",
       "      <td>...</td>\n",
       "      <td>-2.500302</td>\n",
       "      <td>-2.513185</td>\n",
       "      <td>0.119819</td>\n",
       "      <td>-1.138245</td>\n",
       "      <td>-1.521283</td>\n",
       "      <td>-3.855268</td>\n",
       "      <td>-3.555737</td>\n",
       "      <td>-3.946141</td>\n",
       "      <td>2.373042</td>\n",
       "      <td>-0.525675</td>\n",
       "    </tr>\n",
       "    <tr>\n",
       "      <th>n'</th>\n",
       "      <td>-3.097368</td>\n",
       "      <td>-1.079689</td>\n",
       "      <td>0.067284</td>\n",
       "      <td>-3.135941</td>\n",
       "      <td>0.706760</td>\n",
       "      <td>1.007909</td>\n",
       "      <td>-5.346002</td>\n",
       "      <td>1.035985</td>\n",
       "      <td>-2.897622</td>\n",
       "      <td>1.616330</td>\n",
       "      <td>...</td>\n",
       "      <td>0.778125</td>\n",
       "      <td>-2.123144</td>\n",
       "      <td>-1.224010</td>\n",
       "      <td>-3.846741</td>\n",
       "      <td>-2.123554</td>\n",
       "      <td>-4.506597</td>\n",
       "      <td>-2.959948</td>\n",
       "      <td>-2.108817</td>\n",
       "      <td>-0.951543</td>\n",
       "      <td>1.712145</td>\n",
       "    </tr>\n",
       "    <tr>\n",
       "      <th>plus</th>\n",
       "      <td>-3.509048</td>\n",
       "      <td>-2.220096</td>\n",
       "      <td>1.762023</td>\n",
       "      <td>-0.791895</td>\n",
       "      <td>-2.215525</td>\n",
       "      <td>-1.303401</td>\n",
       "      <td>-1.088937</td>\n",
       "      <td>-0.509107</td>\n",
       "      <td>-2.603570</td>\n",
       "      <td>3.042406</td>\n",
       "      <td>...</td>\n",
       "      <td>1.016149</td>\n",
       "      <td>0.066032</td>\n",
       "      <td>-1.052608</td>\n",
       "      <td>-1.366760</td>\n",
       "      <td>-1.228347</td>\n",
       "      <td>-1.889529</td>\n",
       "      <td>-3.330955</td>\n",
       "      <td>-3.745218</td>\n",
       "      <td>-2.395585</td>\n",
       "      <td>2.763508</td>\n",
       "    </tr>\n",
       "    <tr>\n",
       "      <th>non</th>\n",
       "      <td>-0.901459</td>\n",
       "      <td>0.141983</td>\n",
       "      <td>0.007060</td>\n",
       "      <td>-0.111694</td>\n",
       "      <td>-3.179225</td>\n",
       "      <td>-2.742811</td>\n",
       "      <td>-2.064522</td>\n",
       "      <td>5.242306</td>\n",
       "      <td>1.317355</td>\n",
       "      <td>0.784740</td>\n",
       "      <td>...</td>\n",
       "      <td>-2.486995</td>\n",
       "      <td>5.093327</td>\n",
       "      <td>-0.548959</td>\n",
       "      <td>-5.884063</td>\n",
       "      <td>-1.185891</td>\n",
       "      <td>-2.279094</td>\n",
       "      <td>0.086449</td>\n",
       "      <td>-6.897130</td>\n",
       "      <td>-5.919256</td>\n",
       "      <td>-2.573891</td>\n",
       "    </tr>\n",
       "    <tr>\n",
       "      <th>oui</th>\n",
       "      <td>-0.190804</td>\n",
       "      <td>-2.808609</td>\n",
       "      <td>-4.134501</td>\n",
       "      <td>-3.949662</td>\n",
       "      <td>2.444155</td>\n",
       "      <td>-5.813464</td>\n",
       "      <td>-3.623935</td>\n",
       "      <td>3.731077</td>\n",
       "      <td>-4.294740</td>\n",
       "      <td>-2.152137</td>\n",
       "      <td>...</td>\n",
       "      <td>-2.282243</td>\n",
       "      <td>3.806279</td>\n",
       "      <td>-1.384501</td>\n",
       "      <td>-6.089664</td>\n",
       "      <td>2.575834</td>\n",
       "      <td>-4.809360</td>\n",
       "      <td>0.575666</td>\n",
       "      <td>-4.684238</td>\n",
       "      <td>-5.211657</td>\n",
       "      <td>-5.063492</td>\n",
       "    </tr>\n",
       "    <tr>\n",
       "      <th>...</th>\n",
       "      <td>...</td>\n",
       "      <td>...</td>\n",
       "      <td>...</td>\n",
       "      <td>...</td>\n",
       "      <td>...</td>\n",
       "      <td>...</td>\n",
       "      <td>...</td>\n",
       "      <td>...</td>\n",
       "      <td>...</td>\n",
       "      <td>...</td>\n",
       "      <td>...</td>\n",
       "      <td>...</td>\n",
       "      <td>...</td>\n",
       "      <td>...</td>\n",
       "      <td>...</td>\n",
       "      <td>...</td>\n",
       "      <td>...</td>\n",
       "      <td>...</td>\n",
       "      <td>...</td>\n",
       "      <td>...</td>\n",
       "      <td>...</td>\n",
       "    </tr>\n",
       "    <tr>\n",
       "      <th>indifféremment</th>\n",
       "      <td>3.698070</td>\n",
       "      <td>0.750454</td>\n",
       "      <td>4.030900</td>\n",
       "      <td>2.746018</td>\n",
       "      <td>2.450556</td>\n",
       "      <td>-2.135656</td>\n",
       "      <td>3.902123</td>\n",
       "      <td>-4.224880</td>\n",
       "      <td>0.672257</td>\n",
       "      <td>1.339097</td>\n",
       "      <td>...</td>\n",
       "      <td>-5.022931</td>\n",
       "      <td>2.152066</td>\n",
       "      <td>0.097017</td>\n",
       "      <td>1.411255</td>\n",
       "      <td>-2.504311</td>\n",
       "      <td>0.391117</td>\n",
       "      <td>-4.566370</td>\n",
       "      <td>-1.765620</td>\n",
       "      <td>-2.135185</td>\n",
       "      <td>0.503560</td>\n",
       "    </tr>\n",
       "    <tr>\n",
       "      <th>unanimement</th>\n",
       "      <td>6.566344</td>\n",
       "      <td>0.474527</td>\n",
       "      <td>1.193370</td>\n",
       "      <td>3.672653</td>\n",
       "      <td>-2.865468</td>\n",
       "      <td>3.709781</td>\n",
       "      <td>2.072994</td>\n",
       "      <td>1.386768</td>\n",
       "      <td>-2.158478</td>\n",
       "      <td>-5.487871</td>\n",
       "      <td>...</td>\n",
       "      <td>-0.330759</td>\n",
       "      <td>-3.893902</td>\n",
       "      <td>-1.668443</td>\n",
       "      <td>-2.047518</td>\n",
       "      <td>0.459205</td>\n",
       "      <td>-6.713665</td>\n",
       "      <td>-3.687281</td>\n",
       "      <td>-4.375744</td>\n",
       "      <td>-4.649663</td>\n",
       "      <td>-2.764599</td>\n",
       "    </tr>\n",
       "    <tr>\n",
       "      <th>uniformément</th>\n",
       "      <td>3.660331</td>\n",
       "      <td>-5.571579</td>\n",
       "      <td>6.717713</td>\n",
       "      <td>2.930643</td>\n",
       "      <td>3.971225</td>\n",
       "      <td>1.817775</td>\n",
       "      <td>-2.462814</td>\n",
       "      <td>4.685553</td>\n",
       "      <td>3.029170</td>\n",
       "      <td>1.528087</td>\n",
       "      <td>...</td>\n",
       "      <td>-8.120213</td>\n",
       "      <td>1.101425</td>\n",
       "      <td>-6.881276</td>\n",
       "      <td>0.581457</td>\n",
       "      <td>3.910207</td>\n",
       "      <td>-2.364698</td>\n",
       "      <td>-3.340010</td>\n",
       "      <td>-5.855249</td>\n",
       "      <td>-9.934072</td>\n",
       "      <td>6.571452</td>\n",
       "    </tr>\n",
       "    <tr>\n",
       "      <th>administrativement</th>\n",
       "      <td>6.863128</td>\n",
       "      <td>-1.973257</td>\n",
       "      <td>4.921699</td>\n",
       "      <td>3.398282</td>\n",
       "      <td>3.391831</td>\n",
       "      <td>0.740093</td>\n",
       "      <td>-5.003545</td>\n",
       "      <td>-1.229901</td>\n",
       "      <td>0.880966</td>\n",
       "      <td>-3.772704</td>\n",
       "      <td>...</td>\n",
       "      <td>0.321678</td>\n",
       "      <td>-1.970414</td>\n",
       "      <td>0.889980</td>\n",
       "      <td>3.716942</td>\n",
       "      <td>2.336884</td>\n",
       "      <td>-7.139643</td>\n",
       "      <td>0.275380</td>\n",
       "      <td>0.541034</td>\n",
       "      <td>-2.205746</td>\n",
       "      <td>-0.787146</td>\n",
       "    </tr>\n",
       "    <tr>\n",
       "      <th>autre</th>\n",
       "      <td>-2.980435</td>\n",
       "      <td>2.346827</td>\n",
       "      <td>-1.070245</td>\n",
       "      <td>-1.373583</td>\n",
       "      <td>1.837460</td>\n",
       "      <td>-0.325860</td>\n",
       "      <td>-1.117488</td>\n",
       "      <td>1.262247</td>\n",
       "      <td>3.004638</td>\n",
       "      <td>-2.936705</td>\n",
       "      <td>...</td>\n",
       "      <td>1.621191</td>\n",
       "      <td>3.918404</td>\n",
       "      <td>-1.391481</td>\n",
       "      <td>-4.136742</td>\n",
       "      <td>0.912677</td>\n",
       "      <td>1.873164</td>\n",
       "      <td>-2.682818</td>\n",
       "      <td>-0.274795</td>\n",
       "      <td>4.191350</td>\n",
       "      <td>0.533085</td>\n",
       "    </tr>\n",
       "  </tbody>\n",
       "</table>\n",
       "<p>532 rows × 512 columns</p>\n",
       "</div>"
      ],
      "text/plain": [
       "                         0         1         2         3         4    \\\n",
       "ne                 -2.281668 -1.370962 -0.403685 -0.073815  0.837571   \n",
       "n'                 -3.097368 -1.079689  0.067284 -3.135941  0.706760   \n",
       "plus               -3.509048 -2.220096  1.762023 -0.791895 -2.215525   \n",
       "non                -0.901459  0.141983  0.007060 -0.111694 -3.179225   \n",
       "oui                -0.190804 -2.808609 -4.134501 -3.949662  2.444155   \n",
       "...                      ...       ...       ...       ...       ...   \n",
       "indifféremment      3.698070  0.750454  4.030900  2.746018  2.450556   \n",
       "unanimement         6.566344  0.474527  1.193370  3.672653 -2.865468   \n",
       "uniformément        3.660331 -5.571579  6.717713  2.930643  3.971225   \n",
       "administrativement  6.863128 -1.973257  4.921699  3.398282  3.391831   \n",
       "autre              -2.980435  2.346827 -1.070245 -1.373583  1.837460   \n",
       "\n",
       "                         5         6         7         8         9    ...  \\\n",
       "ne                 -0.220982 -5.014138  0.451976  1.381517  2.327595  ...   \n",
       "n'                  1.007909 -5.346002  1.035985 -2.897622  1.616330  ...   \n",
       "plus               -1.303401 -1.088937 -0.509107 -2.603570  3.042406  ...   \n",
       "non                -2.742811 -2.064522  5.242306  1.317355  0.784740  ...   \n",
       "oui                -5.813464 -3.623935  3.731077 -4.294740 -2.152137  ...   \n",
       "...                      ...       ...       ...       ...       ...  ...   \n",
       "indifféremment     -2.135656  3.902123 -4.224880  0.672257  1.339097  ...   \n",
       "unanimement         3.709781  2.072994  1.386768 -2.158478 -5.487871  ...   \n",
       "uniformément        1.817775 -2.462814  4.685553  3.029170  1.528087  ...   \n",
       "administrativement  0.740093 -5.003545 -1.229901  0.880966 -3.772704  ...   \n",
       "autre              -0.325860 -1.117488  1.262247  3.004638 -2.936705  ...   \n",
       "\n",
       "                         502       503       504       505       506  \\\n",
       "ne                 -2.500302 -2.513185  0.119819 -1.138245 -1.521283   \n",
       "n'                  0.778125 -2.123144 -1.224010 -3.846741 -2.123554   \n",
       "plus                1.016149  0.066032 -1.052608 -1.366760 -1.228347   \n",
       "non                -2.486995  5.093327 -0.548959 -5.884063 -1.185891   \n",
       "oui                -2.282243  3.806279 -1.384501 -6.089664  2.575834   \n",
       "...                      ...       ...       ...       ...       ...   \n",
       "indifféremment     -5.022931  2.152066  0.097017  1.411255 -2.504311   \n",
       "unanimement        -0.330759 -3.893902 -1.668443 -2.047518  0.459205   \n",
       "uniformément       -8.120213  1.101425 -6.881276  0.581457  3.910207   \n",
       "administrativement  0.321678 -1.970414  0.889980  3.716942  2.336884   \n",
       "autre               1.621191  3.918404 -1.391481 -4.136742  0.912677   \n",
       "\n",
       "                         507       508       509       510       511  \n",
       "ne                 -3.855268 -3.555737 -3.946141  2.373042 -0.525675  \n",
       "n'                 -4.506597 -2.959948 -2.108817 -0.951543  1.712145  \n",
       "plus               -1.889529 -3.330955 -3.745218 -2.395585  2.763508  \n",
       "non                -2.279094  0.086449 -6.897130 -5.919256 -2.573891  \n",
       "oui                -4.809360  0.575666 -4.684238 -5.211657 -5.063492  \n",
       "...                      ...       ...       ...       ...       ...  \n",
       "indifféremment      0.391117 -4.566370 -1.765620 -2.135185  0.503560  \n",
       "unanimement        -6.713665 -3.687281 -4.375744 -4.649663 -2.764599  \n",
       "uniformément       -2.364698 -3.340010 -5.855249 -9.934072  6.571452  \n",
       "administrativement -7.139643  0.275380  0.541034 -2.205746 -0.787146  \n",
       "autre               1.873164 -2.682818 -0.274795  4.191350  0.533085  \n",
       "\n",
       "[532 rows x 512 columns]"
      ]
     },
     "execution_count": 111,
     "metadata": {},
     "output_type": "execute_result"
    }
   ],
   "source": [
    "adv_we = create_words_df(model, tokenizer, top_freq_adv[~top_freq_adv.index.isin(top_freq_n.index)].index)\n",
    "adv_we"
   ]
  },
  {
   "cell_type": "code",
   "execution_count": 112,
   "metadata": {},
   "outputs": [],
   "source": [
    "unique_freq_adv_we = adv_we.merge(top_freq_adv, left_index=True, right_index=True)\n",
    "unique_freq_adv_we.columns = list(map(lambda x: str(x), unique_freq_adv_we.columns))"
   ]
  },
  {
   "cell_type": "markdown",
   "metadata": {},
   "source": [
    "Now we can encode adverbs' PoS as `3`:"
   ]
  },
  {
   "cell_type": "code",
   "execution_count": 113,
   "metadata": {},
   "outputs": [],
   "source": [
    "unique_freq_adv_we['pos'] = 3"
   ]
  },
  {
   "cell_type": "markdown",
   "metadata": {},
   "source": [
    "Now we can combine all 4 PoS together in one DataFrame:"
   ]
  },
  {
   "cell_type": "code",
   "execution_count": 114,
   "metadata": {},
   "outputs": [],
   "source": [
    "unique_nvaa_we = pd.concat([unique_freq_adj_we, unique_freq_adv_we, unique_freq_n_we, unique_freq_v_we])"
   ]
  },
  {
   "cell_type": "code",
   "execution_count": 186,
   "metadata": {},
   "outputs": [
    {
     "data": {
      "text/html": [
       "<div>\n",
       "<style scoped>\n",
       "    .dataframe tbody tr th:only-of-type {\n",
       "        vertical-align: middle;\n",
       "    }\n",
       "\n",
       "    .dataframe tbody tr th {\n",
       "        vertical-align: top;\n",
       "    }\n",
       "\n",
       "    .dataframe thead th {\n",
       "        text-align: right;\n",
       "    }\n",
       "</style>\n",
       "<table border=\"1\" class=\"dataframe\">\n",
       "  <thead>\n",
       "    <tr style=\"text-align: right;\">\n",
       "      <th></th>\n",
       "      <th>corr_with_pos</th>\n",
       "      <th>sign</th>\n",
       "      <th>abs</th>\n",
       "    </tr>\n",
       "  </thead>\n",
       "  <tbody>\n",
       "    <tr>\n",
       "      <th>132</th>\n",
       "      <td>-0.326005</td>\n",
       "      <td>-1.0</td>\n",
       "      <td>0.326005</td>\n",
       "    </tr>\n",
       "    <tr>\n",
       "      <th>286</th>\n",
       "      <td>0.333161</td>\n",
       "      <td>1.0</td>\n",
       "      <td>0.333161</td>\n",
       "    </tr>\n",
       "    <tr>\n",
       "      <th>220</th>\n",
       "      <td>-0.345067</td>\n",
       "      <td>-1.0</td>\n",
       "      <td>0.345067</td>\n",
       "    </tr>\n",
       "    <tr>\n",
       "      <th>158</th>\n",
       "      <td>0.384712</td>\n",
       "      <td>1.0</td>\n",
       "      <td>0.384712</td>\n",
       "    </tr>\n",
       "    <tr>\n",
       "      <th>250</th>\n",
       "      <td>-0.400353</td>\n",
       "      <td>-1.0</td>\n",
       "      <td>0.400353</td>\n",
       "    </tr>\n",
       "  </tbody>\n",
       "</table>\n",
       "</div>"
      ],
      "text/plain": [
       "     corr_with_pos  sign       abs\n",
       "132      -0.326005  -1.0  0.326005\n",
       "286       0.333161   1.0  0.333161\n",
       "220      -0.345067  -1.0  0.345067\n",
       "158       0.384712   1.0  0.384712\n",
       "250      -0.400353  -1.0  0.400353"
      ]
     },
     "execution_count": 186,
     "metadata": {},
     "output_type": "execute_result"
    }
   ],
   "source": [
    "pos_corr_freq_df = pd.DataFrame(columns=['corr_with_pos'])\n",
    "pos_list = []\n",
    "\n",
    "# Go through dimensions from 0 to 511\n",
    "for i in range(512):\n",
    "    # Find the correlation of the current column with \"freqlemlivres\" and add to the list\n",
    "    pos_list.append(unique_nvaa_we.loc[:, [str(i), 'pos']].corr().iloc[0][-1])\n",
    "\n",
    "# Use the list values as \n",
    "pos_corr_freq_df['corr_with_pos'] = pos_list\n",
    "pos_corr_freq_df['sign'] = np.sign(pos_corr_freq_df['corr_with_pos'])\n",
    "pos_corr_freq_df['abs'] = abs(pos_corr_freq_df['corr_with_pos'])\n",
    "pos_corr_freq_df.sort_values('abs')[-5:]"
   ]
  },
  {
   "cell_type": "code",
   "execution_count": 147,
   "metadata": {},
   "outputs": [
    {
     "data": {
      "text/plain": [
       "<AxesSubplot:xlabel='250', ylabel='Count'>"
      ]
     },
     "execution_count": 147,
     "metadata": {},
     "output_type": "execute_result"
    },
    {
     "data": {
      "image/png": "[encoded data removed]",
      "text/plain": [
       "<Figure size 432x288 with 1 Axes>"
      ]
     },
     "metadata": {
      "needs_background": "light"
     },
     "output_type": "display_data"
    }
   ],
   "source": [
    "sns.histplot(data=unique_nvaa_we, x='250', hue='cgram')"
   ]
  },
  {
   "cell_type": "markdown",
   "metadata": {},
   "source": [
    "We can see that there is a quite big overlap in values of the dimension with the highest correlation to PoS, using 4 PoS all together. We can attempt at looking at different pairs and triples of PoS to see if there is a better distinguishing.\n",
    "****************"
   ]
  },
  {
   "cell_type": "markdown",
   "metadata": {},
   "source": [
    "First, we can compare nouns, adjectives and verbs:"
   ]
  },
  {
   "cell_type": "code",
   "execution_count": null,
   "metadata": {},
   "outputs": [],
   "source": [
    "sns.histplot(data=unique_nvadj_we, x='89', hue='cgram')"
   ]
  },
  {
   "cell_type": "code",
   "execution_count": 116,
   "metadata": {},
   "outputs": [],
   "source": [
    "unique_nvadj_we = pd.concat([unique_freq_adj_we, unique_freq_n_we, unique_freq_v_we])"
   ]
  },
  {
   "cell_type": "code",
   "execution_count": 185,
   "metadata": {},
   "outputs": [
    {
     "data": {
      "text/html": [
       "<div>\n",
       "<style scoped>\n",
       "    .dataframe tbody tr th:only-of-type {\n",
       "        vertical-align: middle;\n",
       "    }\n",
       "\n",
       "    .dataframe tbody tr th {\n",
       "        vertical-align: top;\n",
       "    }\n",
       "\n",
       "    .dataframe thead th {\n",
       "        text-align: right;\n",
       "    }\n",
       "</style>\n",
       "<table border=\"1\" class=\"dataframe\">\n",
       "  <thead>\n",
       "    <tr style=\"text-align: right;\">\n",
       "      <th></th>\n",
       "      <th>corr_with_pos</th>\n",
       "      <th>sign</th>\n",
       "      <th>abs</th>\n",
       "    </tr>\n",
       "  </thead>\n",
       "  <tbody>\n",
       "    <tr>\n",
       "      <th>192</th>\n",
       "      <td>0.364996</td>\n",
       "      <td>1.0</td>\n",
       "      <td>0.364996</td>\n",
       "    </tr>\n",
       "    <tr>\n",
       "      <th>282</th>\n",
       "      <td>0.367974</td>\n",
       "      <td>1.0</td>\n",
       "      <td>0.367974</td>\n",
       "    </tr>\n",
       "    <tr>\n",
       "      <th>158</th>\n",
       "      <td>0.402141</td>\n",
       "      <td>1.0</td>\n",
       "      <td>0.402141</td>\n",
       "    </tr>\n",
       "    <tr>\n",
       "      <th>480</th>\n",
       "      <td>0.421618</td>\n",
       "      <td>1.0</td>\n",
       "      <td>0.421618</td>\n",
       "    </tr>\n",
       "    <tr>\n",
       "      <th>89</th>\n",
       "      <td>-0.439045</td>\n",
       "      <td>-1.0</td>\n",
       "      <td>0.439045</td>\n",
       "    </tr>\n",
       "  </tbody>\n",
       "</table>\n",
       "</div>"
      ],
      "text/plain": [
       "     corr_with_pos  sign       abs\n",
       "192       0.364996   1.0  0.364996\n",
       "282       0.367974   1.0  0.367974\n",
       "158       0.402141   1.0  0.402141\n",
       "480       0.421618   1.0  0.421618\n",
       "89       -0.439045  -1.0  0.439045"
      ]
     },
     "execution_count": 185,
     "metadata": {},
     "output_type": "execute_result"
    }
   ],
   "source": [
    "pos_corr_freq_df = pd.DataFrame(columns=['corr_with_pos'])\n",
    "pos_list = []\n",
    "\n",
    "# Go through dimensions from 0 to 511\n",
    "for i in range(512):\n",
    "    # Find the correlation of the current column with \"freqlemlivres\" and add to the list\n",
    "    pos_list.append(unique_nvadj_we.loc[:, [str(i), 'pos']].corr().iloc[0][-1])\n",
    "\n",
    "# Use the list values as \n",
    "pos_corr_freq_df['corr_with_pos'] = pos_list\n",
    "pos_corr_freq_df['sign'] = np.sign(pos_corr_freq_df['corr_with_pos'])\n",
    "pos_corr_freq_df['abs'] = abs(pos_corr_freq_df['corr_with_pos'])\n",
    "pos_corr_freq_df.sort_values('abs')[-5:]"
   ]
  },
  {
   "cell_type": "markdown",
   "metadata": {},
   "source": [
    "Firs of all, previously seen dimension `480` appears again and a new dimension `89` emerges which can be hypothesized to encode more information about adjectives than other dimensions. However, for both of this dimensions the nouns and adjectives seem to be very overllaped and hard to distinguish:"
   ]
  },
  {
   "cell_type": "code",
   "execution_count": 145,
   "metadata": {},
   "outputs": [
    {
     "data": {
      "text/plain": [
       "<AxesSubplot:xlabel='89', ylabel='Count'>"
      ]
     },
     "execution_count": 145,
     "metadata": {},
     "output_type": "execute_result"
    },
    {
     "data": {
      "image/png": "[encoded data removed]",
      "text/plain": [
       "<Figure size 432x288 with 1 Axes>"
      ]
     },
     "metadata": {
      "needs_background": "light"
     },
     "output_type": "display_data"
    }
   ],
   "source": [
    "sns.histplot(data=unique_nvadj_we, x='89', hue='cgram')"
   ]
  },
  {
   "cell_type": "code",
   "execution_count": 146,
   "metadata": {},
   "outputs": [
    {
     "data": {
      "text/plain": [
       "<AxesSubplot:xlabel='480', ylabel='Count'>"
      ]
     },
     "execution_count": 146,
     "metadata": {},
     "output_type": "execute_result"
    },
    {
     "data": {
      "image/png": "[encoded data removed]",
      "text/plain": [
       "<Figure size 432x288 with 1 Axes>"
      ]
     },
     "metadata": {
      "needs_background": "light"
     },
     "output_type": "display_data"
    }
   ],
   "source": [
    "sns.histplot(data=unique_nvadj_we, x='480', hue='cgram')"
   ]
  },
  {
   "cell_type": "markdown",
   "metadata": {},
   "source": [
    "We can attempt to look for a dimension that distinguishes nouns from adjectives:"
   ]
  },
  {
   "cell_type": "code",
   "execution_count": 149,
   "metadata": {},
   "outputs": [],
   "source": [
    "unique_nadj_we = pd.concat([unique_freq_adj_we, unique_freq_n_we])"
   ]
  },
  {
   "cell_type": "code",
   "execution_count": 184,
   "metadata": {},
   "outputs": [
    {
     "data": {
      "text/html": [
       "<div>\n",
       "<style scoped>\n",
       "    .dataframe tbody tr th:only-of-type {\n",
       "        vertical-align: middle;\n",
       "    }\n",
       "\n",
       "    .dataframe tbody tr th {\n",
       "        vertical-align: top;\n",
       "    }\n",
       "\n",
       "    .dataframe thead th {\n",
       "        text-align: right;\n",
       "    }\n",
       "</style>\n",
       "<table border=\"1\" class=\"dataframe\">\n",
       "  <thead>\n",
       "    <tr style=\"text-align: right;\">\n",
       "      <th></th>\n",
       "      <th>corr_with_pos</th>\n",
       "      <th>sign</th>\n",
       "      <th>abs</th>\n",
       "    </tr>\n",
       "  </thead>\n",
       "  <tbody>\n",
       "    <tr>\n",
       "      <th>423</th>\n",
       "      <td>-0.343753</td>\n",
       "      <td>-1.0</td>\n",
       "      <td>0.343753</td>\n",
       "    </tr>\n",
       "    <tr>\n",
       "      <th>15</th>\n",
       "      <td>-0.366839</td>\n",
       "      <td>-1.0</td>\n",
       "      <td>0.366839</td>\n",
       "    </tr>\n",
       "    <tr>\n",
       "      <th>117</th>\n",
       "      <td>0.368429</td>\n",
       "      <td>1.0</td>\n",
       "      <td>0.368429</td>\n",
       "    </tr>\n",
       "    <tr>\n",
       "      <th>305</th>\n",
       "      <td>0.387449</td>\n",
       "      <td>1.0</td>\n",
       "      <td>0.387449</td>\n",
       "    </tr>\n",
       "    <tr>\n",
       "      <th>155</th>\n",
       "      <td>0.390461</td>\n",
       "      <td>1.0</td>\n",
       "      <td>0.390461</td>\n",
       "    </tr>\n",
       "  </tbody>\n",
       "</table>\n",
       "</div>"
      ],
      "text/plain": [
       "     corr_with_pos  sign       abs\n",
       "423      -0.343753  -1.0  0.343753\n",
       "15       -0.366839  -1.0  0.366839\n",
       "117       0.368429   1.0  0.368429\n",
       "305       0.387449   1.0  0.387449\n",
       "155       0.390461   1.0  0.390461"
      ]
     },
     "execution_count": 184,
     "metadata": {},
     "output_type": "execute_result"
    }
   ],
   "source": [
    "pos_corr_freq_df = pd.DataFrame(columns=['corr_with_pos'])\n",
    "pos_list = []\n",
    "\n",
    "# Go through dimensions from 0 to 511\n",
    "for i in range(512):\n",
    "    # Find the correlation of the current column with \"freqlemlivres\" and add to the list\n",
    "    pos_list.append(unique_nadj_we.loc[:, [str(i), 'pos']].corr().iloc[0][-1])\n",
    "\n",
    "# Use the list values as \n",
    "pos_corr_freq_df['corr_with_pos'] = pos_list\n",
    "pos_corr_freq_df['sign'] = np.sign(pos_corr_freq_df['corr_with_pos'])\n",
    "pos_corr_freq_df['abs'] = abs(pos_corr_freq_df['corr_with_pos'])\n",
    "pos_corr_freq_df.sort_values('abs')[-5:]"
   ]
  },
  {
   "cell_type": "markdown",
   "metadata": {},
   "source": [
    "We can see that the correlation is not very high. However, despite a big overlap we can still see differences in value distribution of dimension 155 for nouns and adjectives:"
   ]
  },
  {
   "cell_type": "code",
   "execution_count": 153,
   "metadata": {},
   "outputs": [
    {
     "data": {
      "text/plain": [
       "<AxesSubplot:xlabel='155', ylabel='Count'>"
      ]
     },
     "execution_count": 153,
     "metadata": {},
     "output_type": "execute_result"
    },
    {
     "data": {
      "image/png": "[encoded data removed]",
      "text/plain": [
       "<Figure size 432x288 with 1 Axes>"
      ]
     },
     "metadata": {
      "needs_background": "light"
     },
     "output_type": "display_data"
    }
   ],
   "source": [
    "sns.histplot(data=unique_nadj_we, x='155', hue='cgram')"
   ]
  },
  {
   "cell_type": "markdown",
   "metadata": {},
   "source": [
    "*******************"
   ]
  },
  {
   "cell_type": "markdown",
   "metadata": {},
   "source": [
    "If we can compare nouns, adverbs and verbs:"
   ]
  },
  {
   "cell_type": "code",
   "execution_count": 154,
   "metadata": {},
   "outputs": [],
   "source": [
    "unique_nvadv_we = pd.concat([unique_freq_adv_we, unique_freq_n_we, unique_freq_v_we])"
   ]
  },
  {
   "cell_type": "code",
   "execution_count": 183,
   "metadata": {},
   "outputs": [
    {
     "data": {
      "text/html": [
       "<div>\n",
       "<style scoped>\n",
       "    .dataframe tbody tr th:only-of-type {\n",
       "        vertical-align: middle;\n",
       "    }\n",
       "\n",
       "    .dataframe tbody tr th {\n",
       "        vertical-align: top;\n",
       "    }\n",
       "\n",
       "    .dataframe thead th {\n",
       "        text-align: right;\n",
       "    }\n",
       "</style>\n",
       "<table border=\"1\" class=\"dataframe\">\n",
       "  <thead>\n",
       "    <tr style=\"text-align: right;\">\n",
       "      <th></th>\n",
       "      <th>corr_with_pos</th>\n",
       "      <th>sign</th>\n",
       "      <th>abs</th>\n",
       "    </tr>\n",
       "  </thead>\n",
       "  <tbody>\n",
       "    <tr>\n",
       "      <th>341</th>\n",
       "      <td>-0.364500</td>\n",
       "      <td>-1.0</td>\n",
       "      <td>0.364500</td>\n",
       "    </tr>\n",
       "    <tr>\n",
       "      <th>395</th>\n",
       "      <td>0.375084</td>\n",
       "      <td>1.0</td>\n",
       "      <td>0.375084</td>\n",
       "    </tr>\n",
       "    <tr>\n",
       "      <th>158</th>\n",
       "      <td>0.376089</td>\n",
       "      <td>1.0</td>\n",
       "      <td>0.376089</td>\n",
       "    </tr>\n",
       "    <tr>\n",
       "      <th>132</th>\n",
       "      <td>-0.391540</td>\n",
       "      <td>-1.0</td>\n",
       "      <td>0.391540</td>\n",
       "    </tr>\n",
       "    <tr>\n",
       "      <th>250</th>\n",
       "      <td>-0.436034</td>\n",
       "      <td>-1.0</td>\n",
       "      <td>0.436034</td>\n",
       "    </tr>\n",
       "  </tbody>\n",
       "</table>\n",
       "</div>"
      ],
      "text/plain": [
       "     corr_with_pos  sign       abs\n",
       "341      -0.364500  -1.0  0.364500\n",
       "395       0.375084   1.0  0.375084\n",
       "158       0.376089   1.0  0.376089\n",
       "132      -0.391540  -1.0  0.391540\n",
       "250      -0.436034  -1.0  0.436034"
      ]
     },
     "execution_count": 183,
     "metadata": {},
     "output_type": "execute_result"
    }
   ],
   "source": [
    "pos_corr_freq_df = pd.DataFrame(columns=['corr_with_pos'])\n",
    "pos_list = []\n",
    "\n",
    "# Go through dimensions from 0 to 511\n",
    "for i in range(512):\n",
    "    # Find the correlation of the current column with \"freqlemlivres\" and add to the list\n",
    "    pos_list.append(unique_nvadv_we.loc[:, [str(i), 'pos']].corr().iloc[0][-1])\n",
    "\n",
    "# Use the list values as \n",
    "pos_corr_freq_df['corr_with_pos'] = pos_list\n",
    "pos_corr_freq_df['sign'] = np.sign(pos_corr_freq_df['corr_with_pos'])\n",
    "pos_corr_freq_df['abs'] = abs(pos_corr_freq_df['corr_with_pos'])\n",
    "pos_corr_freq_df.sort_values('abs')[-5:]"
   ]
  },
  {
   "cell_type": "markdown",
   "metadata": {},
   "source": [
    "The correlation here is stronger but still much lower (and none of the previously studied dimensions appear again), this can be explained that adverbness and noun-ness are encoded in different dimensions."
   ]
  },
  {
   "cell_type": "code",
   "execution_count": 156,
   "metadata": {},
   "outputs": [
    {
     "data": {
      "text/plain": [
       "<AxesSubplot:xlabel='250', ylabel='Count'>"
      ]
     },
     "execution_count": 156,
     "metadata": {},
     "output_type": "execute_result"
    },
    {
     "data": {
      "image/png": "[encoded data removed]",
      "text/plain": [
       "<Figure size 432x288 with 1 Axes>"
      ]
     },
     "metadata": {
      "needs_background": "light"
     },
     "output_type": "display_data"
    }
   ],
   "source": [
    "sns.histplot(data=unique_nvadv_we, x='250', hue='cgram')"
   ]
  },
  {
   "cell_type": "markdown",
   "metadata": {},
   "source": [
    "We can see that the values of this dimension seem to distinguish adverbs quite well from other PoS, however, verbs and nouns are not well distinguished."
   ]
  },
  {
   "cell_type": "markdown",
   "metadata": {},
   "source": [
    "We can have a look at verbs and adjectives separately:"
   ]
  },
  {
   "cell_type": "code",
   "execution_count": 158,
   "metadata": {},
   "outputs": [],
   "source": [
    "unique_va_we = pd.concat([unique_freq_adv_we, unique_freq_v_we])"
   ]
  },
  {
   "cell_type": "code",
   "execution_count": 182,
   "metadata": {},
   "outputs": [
    {
     "data": {
      "text/html": [
       "<div>\n",
       "<style scoped>\n",
       "    .dataframe tbody tr th:only-of-type {\n",
       "        vertical-align: middle;\n",
       "    }\n",
       "\n",
       "    .dataframe tbody tr th {\n",
       "        vertical-align: top;\n",
       "    }\n",
       "\n",
       "    .dataframe thead th {\n",
       "        text-align: right;\n",
       "    }\n",
       "</style>\n",
       "<table border=\"1\" class=\"dataframe\">\n",
       "  <thead>\n",
       "    <tr style=\"text-align: right;\">\n",
       "      <th></th>\n",
       "      <th>corr_with_pos</th>\n",
       "      <th>sign</th>\n",
       "      <th>abs</th>\n",
       "    </tr>\n",
       "  </thead>\n",
       "  <tbody>\n",
       "    <tr>\n",
       "      <th>158</th>\n",
       "      <td>0.465060</td>\n",
       "      <td>1.0</td>\n",
       "      <td>0.465060</td>\n",
       "    </tr>\n",
       "    <tr>\n",
       "      <th>341</th>\n",
       "      <td>-0.467467</td>\n",
       "      <td>-1.0</td>\n",
       "      <td>0.467467</td>\n",
       "    </tr>\n",
       "    <tr>\n",
       "      <th>182</th>\n",
       "      <td>-0.474490</td>\n",
       "      <td>-1.0</td>\n",
       "      <td>0.474490</td>\n",
       "    </tr>\n",
       "    <tr>\n",
       "      <th>132</th>\n",
       "      <td>-0.498909</td>\n",
       "      <td>-1.0</td>\n",
       "      <td>0.498909</td>\n",
       "    </tr>\n",
       "    <tr>\n",
       "      <th>250</th>\n",
       "      <td>-0.515610</td>\n",
       "      <td>-1.0</td>\n",
       "      <td>0.515610</td>\n",
       "    </tr>\n",
       "  </tbody>\n",
       "</table>\n",
       "</div>"
      ],
      "text/plain": [
       "     corr_with_pos  sign       abs\n",
       "158       0.465060   1.0  0.465060\n",
       "341      -0.467467  -1.0  0.467467\n",
       "182      -0.474490  -1.0  0.474490\n",
       "132      -0.498909  -1.0  0.498909\n",
       "250      -0.515610  -1.0  0.515610"
      ]
     },
     "execution_count": 182,
     "metadata": {},
     "output_type": "execute_result"
    }
   ],
   "source": [
    "pos_corr_freq_df = pd.DataFrame(columns=['corr_with_pos'])\n",
    "pos_list = []\n",
    "\n",
    "# Go through dimensions from 0 to 511\n",
    "for i in range(512):\n",
    "    # Find the correlation of the current column with \"freqlemlivres\" and add to the list\n",
    "    pos_list.append(unique_va_we.loc[:, [str(i), 'pos']].corr().iloc[0][-1])\n",
    "\n",
    "# Use the list values as \n",
    "pos_corr_freq_df['corr_with_pos'] = pos_list\n",
    "pos_corr_freq_df['sign'] = np.sign(pos_corr_freq_df['corr_with_pos'])\n",
    "pos_corr_freq_df['abs'] = abs(pos_corr_freq_df['corr_with_pos'])\n",
    "pos_corr_freq_df.sort_values('abs')[-5:]"
   ]
  },
  {
   "cell_type": "markdown",
   "metadata": {},
   "source": [
    "Dimension `250` appears again at the top correlated to PoS for verbs and adverbs and we can look at the value distributions that are much clearer than for the one including nouns:"
   ]
  },
  {
   "cell_type": "code",
   "execution_count": 160,
   "metadata": {},
   "outputs": [
    {
     "data": {
      "text/plain": [
       "<AxesSubplot:xlabel='250', ylabel='Count'>"
      ]
     },
     "execution_count": 160,
     "metadata": {},
     "output_type": "execute_result"
    },
    {
     "data": {
      "image/png": "[encoded data removed]",
      "text/plain": [
       "<Figure size 432x288 with 1 Axes>"
      ]
     },
     "metadata": {
      "needs_background": "light"
     },
     "output_type": "display_data"
    }
   ],
   "source": [
    "sns.histplot(data=unique_va_we, x='250', hue='cgram')"
   ]
  },
  {
   "cell_type": "markdown",
   "metadata": {},
   "source": [
    "***************************"
   ]
  },
  {
   "cell_type": "markdown",
   "metadata": {},
   "source": [
    "Now if we compare adverbs, adjectives and verbs:"
   ]
  },
  {
   "cell_type": "code",
   "execution_count": 161,
   "metadata": {},
   "outputs": [],
   "source": [
    "unique_vaa_we = pd.concat([unique_freq_adv_we, unique_freq_adj_we, unique_freq_v_we])"
   ]
  },
  {
   "cell_type": "code",
   "execution_count": 181,
   "metadata": {},
   "outputs": [
    {
     "data": {
      "text/html": [
       "<div>\n",
       "<style scoped>\n",
       "    .dataframe tbody tr th:only-of-type {\n",
       "        vertical-align: middle;\n",
       "    }\n",
       "\n",
       "    .dataframe tbody tr th {\n",
       "        vertical-align: top;\n",
       "    }\n",
       "\n",
       "    .dataframe thead th {\n",
       "        text-align: right;\n",
       "    }\n",
       "</style>\n",
       "<table border=\"1\" class=\"dataframe\">\n",
       "  <thead>\n",
       "    <tr style=\"text-align: right;\">\n",
       "      <th></th>\n",
       "      <th>corr_with_pos</th>\n",
       "      <th>sign</th>\n",
       "      <th>abs</th>\n",
       "    </tr>\n",
       "  </thead>\n",
       "  <tbody>\n",
       "    <tr>\n",
       "      <th>286</th>\n",
       "      <td>0.405822</td>\n",
       "      <td>1.0</td>\n",
       "      <td>0.405822</td>\n",
       "    </tr>\n",
       "    <tr>\n",
       "      <th>182</th>\n",
       "      <td>-0.424080</td>\n",
       "      <td>-1.0</td>\n",
       "      <td>0.424080</td>\n",
       "    </tr>\n",
       "    <tr>\n",
       "      <th>341</th>\n",
       "      <td>-0.431560</td>\n",
       "      <td>-1.0</td>\n",
       "      <td>0.431560</td>\n",
       "    </tr>\n",
       "    <tr>\n",
       "      <th>250</th>\n",
       "      <td>-0.440641</td>\n",
       "      <td>-1.0</td>\n",
       "      <td>0.440641</td>\n",
       "    </tr>\n",
       "    <tr>\n",
       "      <th>158</th>\n",
       "      <td>0.447084</td>\n",
       "      <td>1.0</td>\n",
       "      <td>0.447084</td>\n",
       "    </tr>\n",
       "  </tbody>\n",
       "</table>\n",
       "</div>"
      ],
      "text/plain": [
       "     corr_with_pos  sign       abs\n",
       "286       0.405822   1.0  0.405822\n",
       "182      -0.424080  -1.0  0.424080\n",
       "341      -0.431560  -1.0  0.431560\n",
       "250      -0.440641  -1.0  0.440641\n",
       "158       0.447084   1.0  0.447084"
      ]
     },
     "execution_count": 181,
     "metadata": {},
     "output_type": "execute_result"
    }
   ],
   "source": [
    "pos_corr_freq_df = pd.DataFrame(columns=['corr_with_pos'])\n",
    "pos_list = []\n",
    "\n",
    "# Go through dimensions from 0 to 511\n",
    "for i in range(512):\n",
    "    # Find the correlation of the current column with \"freqlemlivres\" and add to the list\n",
    "    pos_list.append(unique_vaa_we.loc[:, [str(i), 'pos']].corr().iloc[0][-1])\n",
    "\n",
    "# Use the list values as \n",
    "pos_corr_freq_df['corr_with_pos'] = pos_list\n",
    "pos_corr_freq_df['sign'] = np.sign(pos_corr_freq_df['corr_with_pos'])\n",
    "pos_corr_freq_df['abs'] = abs(pos_corr_freq_df['corr_with_pos'])\n",
    "pos_corr_freq_df.sort_values('abs')[-5:]"
   ]
  },
  {
   "cell_type": "markdown",
   "metadata": {},
   "source": [
    "The correlations become stronger in comparison to nouns, however, are still weaker than Nouns vs Verbs. We can compare in general correlation of adverbs with other PoS in pairs, starting with verbs and adverbs:"
   ]
  },
  {
   "cell_type": "code",
   "execution_count": 163,
   "metadata": {},
   "outputs": [
    {
     "data": {
      "text/plain": [
       "<AxesSubplot:xlabel='158', ylabel='Count'>"
      ]
     },
     "execution_count": 163,
     "metadata": {},
     "output_type": "execute_result"
    },
    {
     "data": {
      "image/png": "[encoded data removed]",
      "text/plain": [
       "<Figure size 432x288 with 1 Axes>"
      ]
     },
     "metadata": {
      "needs_background": "light"
     },
     "output_type": "display_data"
    }
   ],
   "source": [
    "sns.histplot(data=unique_vaa_we, x='158', hue='cgram')"
   ]
  },
  {
   "cell_type": "markdown",
   "metadata": {},
   "source": [
    "We can see that dimension `158` seems to distinguish verbs and adjectives pretty well, however, is bad at distinguishing adverbs. We can have a look at the dimensions which can distinguish verbs and adjectives (not including adverbs):"
   ]
  },
  {
   "cell_type": "code",
   "execution_count": 164,
   "metadata": {},
   "outputs": [],
   "source": [
    "unique_vadj_we = pd.concat([unique_freq_adj_we, unique_freq_v_we])"
   ]
  },
  {
   "cell_type": "code",
   "execution_count": 180,
   "metadata": {},
   "outputs": [
    {
     "data": {
      "text/html": [
       "<div>\n",
       "<style scoped>\n",
       "    .dataframe tbody tr th:only-of-type {\n",
       "        vertical-align: middle;\n",
       "    }\n",
       "\n",
       "    .dataframe tbody tr th {\n",
       "        vertical-align: top;\n",
       "    }\n",
       "\n",
       "    .dataframe thead th {\n",
       "        text-align: right;\n",
       "    }\n",
       "</style>\n",
       "<table border=\"1\" class=\"dataframe\">\n",
       "  <thead>\n",
       "    <tr style=\"text-align: right;\">\n",
       "      <th></th>\n",
       "      <th>corr_with_pos</th>\n",
       "      <th>sign</th>\n",
       "      <th>abs</th>\n",
       "    </tr>\n",
       "  </thead>\n",
       "  <tbody>\n",
       "    <tr>\n",
       "      <th>192</th>\n",
       "      <td>0.434050</td>\n",
       "      <td>1.0</td>\n",
       "      <td>0.434050</td>\n",
       "    </tr>\n",
       "    <tr>\n",
       "      <th>282</th>\n",
       "      <td>0.435644</td>\n",
       "      <td>1.0</td>\n",
       "      <td>0.435644</td>\n",
       "    </tr>\n",
       "    <tr>\n",
       "      <th>158</th>\n",
       "      <td>0.472471</td>\n",
       "      <td>1.0</td>\n",
       "      <td>0.472471</td>\n",
       "    </tr>\n",
       "    <tr>\n",
       "      <th>89</th>\n",
       "      <td>-0.523433</td>\n",
       "      <td>-1.0</td>\n",
       "      <td>0.523433</td>\n",
       "    </tr>\n",
       "    <tr>\n",
       "      <th>480</th>\n",
       "      <td>0.530684</td>\n",
       "      <td>1.0</td>\n",
       "      <td>0.530684</td>\n",
       "    </tr>\n",
       "  </tbody>\n",
       "</table>\n",
       "</div>"
      ],
      "text/plain": [
       "     corr_with_pos  sign       abs\n",
       "192       0.434050   1.0  0.434050\n",
       "282       0.435644   1.0  0.435644\n",
       "158       0.472471   1.0  0.472471\n",
       "89       -0.523433  -1.0  0.523433\n",
       "480       0.530684   1.0  0.530684"
      ]
     },
     "execution_count": 180,
     "metadata": {},
     "output_type": "execute_result"
    }
   ],
   "source": [
    "pos_corr_freq_df = pd.DataFrame(columns=['corr_with_pos'])\n",
    "pos_list = []\n",
    "\n",
    "# Go through dimensions from 0 to 511\n",
    "for i in range(512):\n",
    "    # Find the correlation of the current column with \"freqlemlivres\" and add to the list\n",
    "    pos_list.append(unique_vadj_we.loc[:, [str(i), 'pos']].corr().iloc[0][-1])\n",
    "\n",
    "# Use the list values as \n",
    "pos_corr_freq_df['corr_with_pos'] = pos_list\n",
    "pos_corr_freq_df['sign'] = np.sign(pos_corr_freq_df['corr_with_pos'])\n",
    "pos_corr_freq_df['abs'] = abs(pos_corr_freq_df['corr_with_pos'])\n",
    "pos_corr_freq_df.sort_values('abs')[-5:]"
   ]
  },
  {
   "cell_type": "markdown",
   "metadata": {},
   "source": [
    "We can see dimension `480` at the top, which as we have seen can be used to distinguish nouns and verbs.\n",
    "This can be a sign that dimension `480` doesn't distinguish nouns and adjectives at all. We can have a look at the top 3 dimensions to differentiate verbs and adjectives: "
   ]
  },
  {
   "cell_type": "code",
   "execution_count": 167,
   "metadata": {},
   "outputs": [
    {
     "data": {
      "text/plain": [
       "<AxesSubplot:xlabel='480', ylabel='Count'>"
      ]
     },
     "execution_count": 167,
     "metadata": {},
     "output_type": "execute_result"
    },
    {
     "data": {
      "image/png": "[encoded data removed]",
      "text/plain": [
       "<Figure size 432x288 with 1 Axes>"
      ]
     },
     "metadata": {
      "needs_background": "light"
     },
     "output_type": "display_data"
    }
   ],
   "source": [
    "sns.histplot(data=unique_vadj_we, x='480', hue='cgram')"
   ]
  },
  {
   "cell_type": "code",
   "execution_count": 168,
   "metadata": {},
   "outputs": [
    {
     "data": {
      "text/plain": [
       "<AxesSubplot:xlabel='89', ylabel='Count'>"
      ]
     },
     "execution_count": 168,
     "metadata": {},
     "output_type": "execute_result"
    },
    {
     "data": {
      "image/png": "[encoded data removed]",
      "text/plain": [
       "<Figure size 432x288 with 1 Axes>"
      ]
     },
     "metadata": {
      "needs_background": "light"
     },
     "output_type": "display_data"
    }
   ],
   "source": [
    "sns.histplot(data=unique_vadj_we, x='89', hue='cgram')"
   ]
  },
  {
   "cell_type": "code",
   "execution_count": 169,
   "metadata": {},
   "outputs": [
    {
     "data": {
      "text/plain": [
       "<AxesSubplot:xlabel='158', ylabel='Count'>"
      ]
     },
     "execution_count": 169,
     "metadata": {},
     "output_type": "execute_result"
    },
    {
     "data": {
      "image/png": "[encoded data removed]",
      "text/plain": [
       "<Figure size 432x288 with 1 Axes>"
      ]
     },
     "metadata": {
      "needs_background": "light"
     },
     "output_type": "display_data"
    }
   ],
   "source": [
    "sns.histplot(data=unique_vadj_we, x='158', hue='cgram')"
   ]
  },
  {
   "cell_type": "markdown",
   "metadata": {},
   "source": [
    "Now for adjectives and adverbs:"
   ]
  },
  {
   "cell_type": "code",
   "execution_count": 170,
   "metadata": {},
   "outputs": [],
   "source": [
    "unique_aa_we = pd.concat([unique_freq_adj_we, unique_freq_adv_we])"
   ]
  },
  {
   "cell_type": "code",
   "execution_count": 179,
   "metadata": {},
   "outputs": [
    {
     "data": {
      "text/html": [
       "<div>\n",
       "<style scoped>\n",
       "    .dataframe tbody tr th:only-of-type {\n",
       "        vertical-align: middle;\n",
       "    }\n",
       "\n",
       "    .dataframe tbody tr th {\n",
       "        vertical-align: top;\n",
       "    }\n",
       "\n",
       "    .dataframe thead th {\n",
       "        text-align: right;\n",
       "    }\n",
       "</style>\n",
       "<table border=\"1\" class=\"dataframe\">\n",
       "  <thead>\n",
       "    <tr style=\"text-align: right;\">\n",
       "      <th></th>\n",
       "      <th>corr_with_pos</th>\n",
       "      <th>sign</th>\n",
       "      <th>abs</th>\n",
       "    </tr>\n",
       "  </thead>\n",
       "  <tbody>\n",
       "    <tr>\n",
       "      <th>366</th>\n",
       "      <td>-0.393937</td>\n",
       "      <td>-1.0</td>\n",
       "      <td>0.393937</td>\n",
       "    </tr>\n",
       "    <tr>\n",
       "      <th>111</th>\n",
       "      <td>0.401915</td>\n",
       "      <td>1.0</td>\n",
       "      <td>0.401915</td>\n",
       "    </tr>\n",
       "    <tr>\n",
       "      <th>460</th>\n",
       "      <td>0.402434</td>\n",
       "      <td>1.0</td>\n",
       "      <td>0.402434</td>\n",
       "    </tr>\n",
       "    <tr>\n",
       "      <th>130</th>\n",
       "      <td>0.455375</td>\n",
       "      <td>1.0</td>\n",
       "      <td>0.455375</td>\n",
       "    </tr>\n",
       "    <tr>\n",
       "      <th>470</th>\n",
       "      <td>0.484788</td>\n",
       "      <td>1.0</td>\n",
       "      <td>0.484788</td>\n",
       "    </tr>\n",
       "  </tbody>\n",
       "</table>\n",
       "</div>"
      ],
      "text/plain": [
       "     corr_with_pos  sign       abs\n",
       "366      -0.393937  -1.0  0.393937\n",
       "111       0.401915   1.0  0.401915\n",
       "460       0.402434   1.0  0.402434\n",
       "130       0.455375   1.0  0.455375\n",
       "470       0.484788   1.0  0.484788"
      ]
     },
     "execution_count": 179,
     "metadata": {},
     "output_type": "execute_result"
    }
   ],
   "source": [
    "pos_corr_freq_df = pd.DataFrame(columns=['corr_with_pos'])\n",
    "pos_list = []\n",
    "\n",
    "# Go through dimensions from 0 to 511\n",
    "for i in range(512):\n",
    "    # Find the correlation of the current column with \"freqlemlivres\" and add to the list\n",
    "    pos_list.append(unique_aa_we.loc[:, [str(i), 'pos']].corr().iloc[0][-1])\n",
    "\n",
    "# Use the list values as \n",
    "pos_corr_freq_df['corr_with_pos'] = pos_list\n",
    "pos_corr_freq_df['sign'] = np.sign(pos_corr_freq_df['corr_with_pos'])\n",
    "pos_corr_freq_df['abs'] = abs(pos_corr_freq_df['corr_with_pos'])\n",
    "pos_corr_freq_df.sort_values('abs')[-5:]"
   ]
  },
  {
   "cell_type": "markdown",
   "metadata": {},
   "source": [
    "We have previously unseen dimensions `470` and `130` that are relatively strongly correlated to Adjectives vs Adverbs information."
   ]
  },
  {
   "cell_type": "code",
   "execution_count": 172,
   "metadata": {},
   "outputs": [
    {
     "data": {
      "text/plain": [
       "<AxesSubplot:xlabel='470', ylabel='Count'>"
      ]
     },
     "execution_count": 172,
     "metadata": {},
     "output_type": "execute_result"
    },
    {
     "data": {
      "image/png": "[encoded data removed]",
      "text/plain": [
       "<Figure size 432x288 with 1 Axes>"
      ]
     },
     "metadata": {
      "needs_background": "light"
     },
     "output_type": "display_data"
    }
   ],
   "source": [
    "sns.histplot(data=unique_aa_we, x='470', hue='cgram')"
   ]
  },
  {
   "cell_type": "code",
   "execution_count": 173,
   "metadata": {},
   "outputs": [
    {
     "data": {
      "text/plain": [
       "<AxesSubplot:xlabel='130', ylabel='Count'>"
      ]
     },
     "execution_count": 173,
     "metadata": {},
     "output_type": "execute_result"
    },
    {
     "data": {
      "image/png": "[encoded data removed]",
      "text/plain": [
       "<Figure size 432x288 with 1 Axes>"
      ]
     },
     "metadata": {
      "needs_background": "light"
     },
     "output_type": "display_data"
    }
   ],
   "source": [
    "sns.histplot(data=unique_aa_we, x='130', hue='cgram')"
   ]
  },
  {
   "cell_type": "markdown",
   "metadata": {},
   "source": [
    "*******************"
   ]
  },
  {
   "cell_type": "markdown",
   "metadata": {},
   "source": [
    "If we look into nouns and adjectives:"
   ]
  },
  {
   "cell_type": "code",
   "execution_count": 174,
   "metadata": {},
   "outputs": [],
   "source": [
    "unique_nadj_we = pd.concat([unique_freq_adj_we, unique_freq_n_we])"
   ]
  },
  {
   "cell_type": "code",
   "execution_count": 178,
   "metadata": {},
   "outputs": [
    {
     "data": {
      "text/html": [
       "<div>\n",
       "<style scoped>\n",
       "    .dataframe tbody tr th:only-of-type {\n",
       "        vertical-align: middle;\n",
       "    }\n",
       "\n",
       "    .dataframe tbody tr th {\n",
       "        vertical-align: top;\n",
       "    }\n",
       "\n",
       "    .dataframe thead th {\n",
       "        text-align: right;\n",
       "    }\n",
       "</style>\n",
       "<table border=\"1\" class=\"dataframe\">\n",
       "  <thead>\n",
       "    <tr style=\"text-align: right;\">\n",
       "      <th></th>\n",
       "      <th>corr_with_pos</th>\n",
       "      <th>sign</th>\n",
       "      <th>abs</th>\n",
       "    </tr>\n",
       "  </thead>\n",
       "  <tbody>\n",
       "    <tr>\n",
       "      <th>423</th>\n",
       "      <td>-0.343753</td>\n",
       "      <td>-1.0</td>\n",
       "      <td>0.343753</td>\n",
       "    </tr>\n",
       "    <tr>\n",
       "      <th>15</th>\n",
       "      <td>-0.366839</td>\n",
       "      <td>-1.0</td>\n",
       "      <td>0.366839</td>\n",
       "    </tr>\n",
       "    <tr>\n",
       "      <th>117</th>\n",
       "      <td>0.368429</td>\n",
       "      <td>1.0</td>\n",
       "      <td>0.368429</td>\n",
       "    </tr>\n",
       "    <tr>\n",
       "      <th>305</th>\n",
       "      <td>0.387449</td>\n",
       "      <td>1.0</td>\n",
       "      <td>0.387449</td>\n",
       "    </tr>\n",
       "    <tr>\n",
       "      <th>155</th>\n",
       "      <td>0.390461</td>\n",
       "      <td>1.0</td>\n",
       "      <td>0.390461</td>\n",
       "    </tr>\n",
       "  </tbody>\n",
       "</table>\n",
       "</div>"
      ],
      "text/plain": [
       "     corr_with_pos  sign       abs\n",
       "423      -0.343753  -1.0  0.343753\n",
       "15       -0.366839  -1.0  0.366839\n",
       "117       0.368429   1.0  0.368429\n",
       "305       0.387449   1.0  0.387449\n",
       "155       0.390461   1.0  0.390461"
      ]
     },
     "execution_count": 178,
     "metadata": {},
     "output_type": "execute_result"
    }
   ],
   "source": [
    "pos_corr_freq_df = pd.DataFrame(columns=['corr_with_pos'])\n",
    "pos_list = []\n",
    "\n",
    "# Go through dimensions from 0 to 511\n",
    "for i in range(512):\n",
    "    # Find the correlation of the current column with \"freqlemlivres\" and add to the list\n",
    "    pos_list.append(unique_nadj_we.loc[:, [str(i), 'pos']].corr().iloc[0][-1])\n",
    "\n",
    "# Use the list values as \n",
    "pos_corr_freq_df['corr_with_pos'] = pos_list\n",
    "pos_corr_freq_df['sign'] = np.sign(pos_corr_freq_df['corr_with_pos'])\n",
    "pos_corr_freq_df['abs'] = abs(pos_corr_freq_df['corr_with_pos'])\n",
    "pos_corr_freq_df.sort_values('abs')[-5:]"
   ]
  },
  {
   "cell_type": "code",
   "execution_count": 176,
   "metadata": {},
   "outputs": [
    {
     "data": {
      "text/plain": [
       "<AxesSubplot:xlabel='155', ylabel='Count'>"
      ]
     },
     "execution_count": 176,
     "metadata": {},
     "output_type": "execute_result"
    },
    {
     "data": {
      "image/png": "[encoded data removed]",
      "text/plain": [
       "<Figure size 432x288 with 1 Axes>"
      ]
     },
     "metadata": {
      "needs_background": "light"
     },
     "output_type": "display_data"
    }
   ],
   "source": [
    "sns.histplot(data=unique_nadj_we, x='155', hue='cgram')"
   ]
  },
  {
   "cell_type": "markdown",
   "metadata": {},
   "source": [
    "Dimension `155` seems to distinguish adjectives and nouns somewhat well."
   ]
  },
  {
   "cell_type": "markdown",
   "metadata": {},
   "source": [
    "*****************"
   ]
  },
  {
   "cell_type": "markdown",
   "metadata": {},
   "source": [
    "And if we look into nouns and adverbs:"
   ]
  },
  {
   "cell_type": "code",
   "execution_count": 177,
   "metadata": {},
   "outputs": [],
   "source": [
    "unique_nadv_we = pd.concat([unique_freq_adv_we, unique_freq_n_we])"
   ]
  },
  {
   "cell_type": "code",
   "execution_count": 187,
   "metadata": {},
   "outputs": [
    {
     "data": {
      "text/html": [
       "<div>\n",
       "<style scoped>\n",
       "    .dataframe tbody tr th:only-of-type {\n",
       "        vertical-align: middle;\n",
       "    }\n",
       "\n",
       "    .dataframe tbody tr th {\n",
       "        vertical-align: top;\n",
       "    }\n",
       "\n",
       "    .dataframe thead th {\n",
       "        text-align: right;\n",
       "    }\n",
       "</style>\n",
       "<table border=\"1\" class=\"dataframe\">\n",
       "  <thead>\n",
       "    <tr style=\"text-align: right;\">\n",
       "      <th></th>\n",
       "      <th>corr_with_pos</th>\n",
       "      <th>sign</th>\n",
       "      <th>abs</th>\n",
       "    </tr>\n",
       "  </thead>\n",
       "  <tbody>\n",
       "    <tr>\n",
       "      <th>137</th>\n",
       "      <td>-0.534023</td>\n",
       "      <td>-1.0</td>\n",
       "      <td>0.534023</td>\n",
       "    </tr>\n",
       "    <tr>\n",
       "      <th>470</th>\n",
       "      <td>0.536124</td>\n",
       "      <td>1.0</td>\n",
       "      <td>0.536124</td>\n",
       "    </tr>\n",
       "    <tr>\n",
       "      <th>29</th>\n",
       "      <td>0.561695</td>\n",
       "      <td>1.0</td>\n",
       "      <td>0.561695</td>\n",
       "    </tr>\n",
       "    <tr>\n",
       "      <th>128</th>\n",
       "      <td>0.570033</td>\n",
       "      <td>1.0</td>\n",
       "      <td>0.570033</td>\n",
       "    </tr>\n",
       "    <tr>\n",
       "      <th>362</th>\n",
       "      <td>0.599257</td>\n",
       "      <td>1.0</td>\n",
       "      <td>0.599257</td>\n",
       "    </tr>\n",
       "  </tbody>\n",
       "</table>\n",
       "</div>"
      ],
      "text/plain": [
       "     corr_with_pos  sign       abs\n",
       "137      -0.534023  -1.0  0.534023\n",
       "470       0.536124   1.0  0.536124\n",
       "29        0.561695   1.0  0.561695\n",
       "128       0.570033   1.0  0.570033\n",
       "362       0.599257   1.0  0.599257"
      ]
     },
     "execution_count": 187,
     "metadata": {},
     "output_type": "execute_result"
    }
   ],
   "source": [
    "pos_corr_freq_df = pd.DataFrame(columns=['corr_with_pos'])\n",
    "pos_list = []\n",
    "\n",
    "# Go through dimensions from 0 to 511\n",
    "for i in range(512):\n",
    "    # Find the correlation of the current column with \"freqlemlivres\" and add to the list\n",
    "    pos_list.append(unique_nadv_we.loc[:, [str(i), 'pos']].corr().iloc[0][-1])\n",
    "\n",
    "# Use the list values as \n",
    "pos_corr_freq_df['corr_with_pos'] = pos_list\n",
    "pos_corr_freq_df['sign'] = np.sign(pos_corr_freq_df['corr_with_pos'])\n",
    "pos_corr_freq_df['abs'] = abs(pos_corr_freq_df['corr_with_pos'])\n",
    "pos_corr_freq_df.sort_values('abs')[-5:]"
   ]
  },
  {
   "cell_type": "markdown",
   "metadata": {},
   "source": [
    "We can see dimension `362` with a relatively high correlation to PoS information for Nouns and Adjectives and we can have a look at the distribution of values in this dimension:"
   ]
  },
  {
   "cell_type": "code",
   "execution_count": 189,
   "metadata": {},
   "outputs": [
    {
     "data": {
      "text/plain": [
       "<AxesSubplot:xlabel='362', ylabel='Count'>"
      ]
     },
     "execution_count": 189,
     "metadata": {},
     "output_type": "execute_result"
    },
    {
     "data": {
      "image/png": "[encoded data removed]",
      "text/plain": [
       "<Figure size 432x288 with 1 Axes>"
      ]
     },
     "metadata": {
      "needs_background": "light"
     },
     "output_type": "display_data"
    }
   ],
   "source": [
    "sns.histplot(data=unique_nadv_we, x='362', hue='cgram')"
   ]
  },
  {
   "cell_type": "markdown",
   "metadata": {},
   "source": [
    "# Conclusion"
   ]
  },
  {
   "cell_type": "markdown",
   "metadata": {},
   "source": [
    "We have found a list of dimensions correlated to Verb-Noun PoS information:  \n",
    "\n",
    "We have found a group of dimension correlated with PoS information **for verbs and nouns**:'29', '159', '192', '198', '282', '310', '341', '401', '462', '480'. Dimension **462**, **480** and **159** seem to be the closest to represent Noun<->Verb PoS. However, none of the dimension seem to represent PoS information only: the outliers don't appear to be ambiguous words that can be attributed to multiple parts of speech but in general quite regular looking nouns/verbs.\n",
    "\n",
    "Several points for further inverstigation:\n",
    "- Since the PoS information doesn't seem to be directly corresponding to any of the dimension, we can assume that PoS is retrieved from co-occurence information: e.g. nouns co-occuring with articles, verbs co-occuring with pronouns like je/il/...\n",
    "- We have observed that for several of the dimensions with the highest correlation to PoS information, mean for values of the dimension for verbs is relatively close to 0: 159, 212, 51, 198 which can be potentially interesting to investigate: the closeness of dimension values to 0 on average.\n",
    "- Dimension `480` remained strongly correlated with PoS with adding **adjectives** into experiment, making it the prime candidat for encoding verb-ness, noun-ness and adjective-ness.\n",
    "- PoS information for nouns/adj and adverbs seems less correlated, meaning that there is less likely to be an axis embedding all PoS. In [this work](https://arxiv.org/pdf/1906.00114.pdf) it's shown that there is a PCA component representing the Verb/Noun axis and Noun/Adjective axis and this is confirmed by what we're seeing: the adverbs seem to be encoded in a way that is not direcly oppositional to nouns. "
   ]
  },
  {
   "cell_type": "code",
   "execution_count": null,
   "metadata": {},
   "outputs": [],
   "source": []
  }
 ],
 "metadata": {
  "kernelspec": {
   "display_name": "Python 3",
   "language": "python",
   "name": "python3"
  },
  "language_info": {
   "codemirror_mode": {
    "name": "ipython",
    "version": 3
   },
   "file_extension": ".py",
   "mimetype": "text/x-python",
   "name": "python",
   "nbconvert_exporter": "python",
   "pygments_lexer": "ipython3",
   "version": "3.8.5"
  }
 },
 "nbformat": 4,
 "nbformat_minor": 4
}
