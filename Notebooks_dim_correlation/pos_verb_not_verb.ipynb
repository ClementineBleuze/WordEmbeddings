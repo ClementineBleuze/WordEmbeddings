{
 "cells": [
  {
   "cell_type": "code",
   "execution_count": 1,
   "metadata": {},
   "outputs": [],
   "source": [
    "import pandas as pd\n",
    "import numpy as np"
   ]
  },
  {
   "cell_type": "markdown",
   "metadata": {},
   "source": [
    "Create a DataFrame with a column `verb` where `1` for verbs and `0` for nouns and adjectives.\n",
    "All data is used."
   ]
  },
  {
   "cell_type": "code",
   "execution_count": 6,
   "metadata": {},
   "outputs": [],
   "source": [
    "verbs = pd.read_csv('../Data/FlauBERT_WE/all_verb_we.csv', index_col=0)\n",
    "verbs['verb'] = 1"
   ]
  },
  {
   "cell_type": "code",
   "execution_count": 8,
   "metadata": {},
   "outputs": [],
   "source": [
    "nouns = pd.read_csv('../Data/FlauBERT_WE/all_nouns_we.csv', index_col=0).d"
   ]
  },
  {
   "cell_type": "code",
   "execution_count": 9,
   "metadata": {},
   "outputs": [],
   "source": [
    "adjs = pd.read_csv('../Data/FlauBERT_WE/all_adjectives_we.csv', index_col=0)"
   ]
  },
  {
   "cell_type": "code",
   "execution_count": 14,
   "metadata": {},
   "outputs": [],
   "source": [
    "nouns_adjs = pd.concat([nouns, adjs]).drop(columns=['number', 'gender'])\n",
    "nouns_adjs['verb'] = 0"
   ]
  },
  {
   "cell_type": "code",
   "execution_count": 15,
   "metadata": {},
   "outputs": [],
   "source": [
    "data = pd.concat([verbs, nouns_adjs])"
   ]
  },
  {
   "cell_type": "code",
   "execution_count": 18,
   "metadata": {},
   "outputs": [],
   "source": [
    "# Shuffle\n",
    "data = data.sample(frac=1)"
   ]
  },
  {
   "cell_type": "markdown",
   "metadata": {},
   "source": [
    "# Normalize data"
   ]
  },
  {
   "cell_type": "code",
   "execution_count": 24,
   "metadata": {},
   "outputs": [],
   "source": [
    "normalized_data = (data - data.min())/(data.max() - data.min())"
   ]
  },
  {
   "cell_type": "markdown",
   "metadata": {},
   "source": [
    "# Testing the correlation of verbness-ness"
   ]
  },
  {
   "cell_type": "markdown",
   "metadata": {},
   "source": [
    "Now for the top frequent nouns and verbs, we can go through all the dimensions and find the correlation of each  dimension with the PoS values: 0 for verbs and 1 for nouns."
   ]
  },
  {
   "cell_type": "code",
   "execution_count": 25,
   "metadata": {},
   "outputs": [
    {
     "data": {
      "text/html": [
       "<div>\n",
       "<style scoped>\n",
       "    .dataframe tbody tr th:only-of-type {\n",
       "        vertical-align: middle;\n",
       "    }\n",
       "\n",
       "    .dataframe tbody tr th {\n",
       "        vertical-align: top;\n",
       "    }\n",
       "\n",
       "    .dataframe thead th {\n",
       "        text-align: right;\n",
       "    }\n",
       "</style>\n",
       "<table border=\"1\" class=\"dataframe\">\n",
       "  <thead>\n",
       "    <tr style=\"text-align: right;\">\n",
       "      <th></th>\n",
       "      <th>corr_with_pos</th>\n",
       "      <th>sign</th>\n",
       "      <th>abs</th>\n",
       "    </tr>\n",
       "  </thead>\n",
       "  <tbody>\n",
       "    <tr>\n",
       "      <th>310</th>\n",
       "      <td>0.270261</td>\n",
       "      <td>1.0</td>\n",
       "      <td>0.270261</td>\n",
       "    </tr>\n",
       "    <tr>\n",
       "      <th>159</th>\n",
       "      <td>0.263237</td>\n",
       "      <td>1.0</td>\n",
       "      <td>0.263237</td>\n",
       "    </tr>\n",
       "    <tr>\n",
       "      <th>480</th>\n",
       "      <td>-0.250832</td>\n",
       "      <td>-1.0</td>\n",
       "      <td>0.250832</td>\n",
       "    </tr>\n",
       "    <tr>\n",
       "      <th>89</th>\n",
       "      <td>0.237181</td>\n",
       "      <td>1.0</td>\n",
       "      <td>0.237181</td>\n",
       "    </tr>\n",
       "    <tr>\n",
       "      <th>401</th>\n",
       "      <td>0.233374</td>\n",
       "      <td>1.0</td>\n",
       "      <td>0.233374</td>\n",
       "    </tr>\n",
       "    <tr>\n",
       "      <th>192</th>\n",
       "      <td>-0.226221</td>\n",
       "      <td>-1.0</td>\n",
       "      <td>0.226221</td>\n",
       "    </tr>\n",
       "    <tr>\n",
       "      <th>458</th>\n",
       "      <td>-0.220894</td>\n",
       "      <td>-1.0</td>\n",
       "      <td>0.220894</td>\n",
       "    </tr>\n",
       "    <tr>\n",
       "      <th>198</th>\n",
       "      <td>-0.209877</td>\n",
       "      <td>-1.0</td>\n",
       "      <td>0.209877</td>\n",
       "    </tr>\n",
       "    <tr>\n",
       "      <th>29</th>\n",
       "      <td>0.208826</td>\n",
       "      <td>1.0</td>\n",
       "      <td>0.208826</td>\n",
       "    </tr>\n",
       "    <tr>\n",
       "      <th>504</th>\n",
       "      <td>-0.208146</td>\n",
       "      <td>-1.0</td>\n",
       "      <td>0.208146</td>\n",
       "    </tr>\n",
       "  </tbody>\n",
       "</table>\n",
       "</div>"
      ],
      "text/plain": [
       "     corr_with_pos  sign       abs\n",
       "310       0.270261   1.0  0.270261\n",
       "159       0.263237   1.0  0.263237\n",
       "480      -0.250832  -1.0  0.250832\n",
       "89        0.237181   1.0  0.237181\n",
       "401       0.233374   1.0  0.233374\n",
       "192      -0.226221  -1.0  0.226221\n",
       "458      -0.220894  -1.0  0.220894\n",
       "198      -0.209877  -1.0  0.209877\n",
       "29        0.208826   1.0  0.208826\n",
       "504      -0.208146  -1.0  0.208146"
      ]
     },
     "execution_count": 25,
     "metadata": {},
     "output_type": "execute_result"
    }
   ],
   "source": [
    "pos_corr_freq_df = pd.DataFrame(columns=['corr_with_pos'])\n",
    "pos_list = []\n",
    "\n",
    "# Go through dimensions from 0 to 511\n",
    "for i in range(512):\n",
    "    # Find the correlation of the current column with \"freqlemlivres\" and add to the list\n",
    "    pos_list.append(normalized_data.loc[:, [str(i), 'verb']].corr().iloc[0][-1])\n",
    "\n",
    "# Use the list values as \n",
    "pos_corr_freq_df['corr_with_pos'] = pos_list\n",
    "pos_corr_freq_df['sign'] = np.sign(pos_corr_freq_df['corr_with_pos'])\n",
    "pos_corr_freq_df['abs'] = abs(pos_corr_freq_df['corr_with_pos'])\n",
    "pos_corr_freq_df.sort_values('abs', ascending=False)[:10]"
   ]
  },
  {
   "cell_type": "markdown",
   "metadata": {},
   "source": [
    "Test for unique words:"
   ]
  },
  {
   "cell_type": "code",
   "execution_count": 26,
   "metadata": {},
   "outputs": [],
   "source": [
    "word, count = np.unique(normalized_data.index, return_counts=True)\n",
    "unique_words = [x[0] for x in list(filter(lambda x: x[1] == 1, zip(word, count)))]"
   ]
  },
  {
   "cell_type": "code",
   "execution_count": 27,
   "metadata": {},
   "outputs": [],
   "source": [
    "unique_norm = normalized_data[normalized_data.index.isin(unique_words)]"
   ]
  },
  {
   "cell_type": "code",
   "execution_count": 28,
   "metadata": {},
   "outputs": [
    {
     "data": {
      "text/html": [
       "<div>\n",
       "<style scoped>\n",
       "    .dataframe tbody tr th:only-of-type {\n",
       "        vertical-align: middle;\n",
       "    }\n",
       "\n",
       "    .dataframe tbody tr th {\n",
       "        vertical-align: top;\n",
       "    }\n",
       "\n",
       "    .dataframe thead th {\n",
       "        text-align: right;\n",
       "    }\n",
       "</style>\n",
       "<table border=\"1\" class=\"dataframe\">\n",
       "  <thead>\n",
       "    <tr style=\"text-align: right;\">\n",
       "      <th></th>\n",
       "      <th>corr_with_pos</th>\n",
       "      <th>sign</th>\n",
       "      <th>abs</th>\n",
       "    </tr>\n",
       "  </thead>\n",
       "  <tbody>\n",
       "    <tr>\n",
       "      <th>310</th>\n",
       "      <td>0.508020</td>\n",
       "      <td>1.0</td>\n",
       "      <td>0.508020</td>\n",
       "    </tr>\n",
       "    <tr>\n",
       "      <th>159</th>\n",
       "      <td>0.507892</td>\n",
       "      <td>1.0</td>\n",
       "      <td>0.507892</td>\n",
       "    </tr>\n",
       "    <tr>\n",
       "      <th>480</th>\n",
       "      <td>-0.495969</td>\n",
       "      <td>-1.0</td>\n",
       "      <td>0.495969</td>\n",
       "    </tr>\n",
       "    <tr>\n",
       "      <th>401</th>\n",
       "      <td>0.489487</td>\n",
       "      <td>1.0</td>\n",
       "      <td>0.489487</td>\n",
       "    </tr>\n",
       "    <tr>\n",
       "      <th>192</th>\n",
       "      <td>-0.440382</td>\n",
       "      <td>-1.0</td>\n",
       "      <td>0.440382</td>\n",
       "    </tr>\n",
       "    <tr>\n",
       "      <th>89</th>\n",
       "      <td>0.433276</td>\n",
       "      <td>1.0</td>\n",
       "      <td>0.433276</td>\n",
       "    </tr>\n",
       "    <tr>\n",
       "      <th>29</th>\n",
       "      <td>0.424236</td>\n",
       "      <td>1.0</td>\n",
       "      <td>0.424236</td>\n",
       "    </tr>\n",
       "    <tr>\n",
       "      <th>458</th>\n",
       "      <td>-0.417727</td>\n",
       "      <td>-1.0</td>\n",
       "      <td>0.417727</td>\n",
       "    </tr>\n",
       "    <tr>\n",
       "      <th>198</th>\n",
       "      <td>-0.414689</td>\n",
       "      <td>-1.0</td>\n",
       "      <td>0.414689</td>\n",
       "    </tr>\n",
       "    <tr>\n",
       "      <th>504</th>\n",
       "      <td>-0.413814</td>\n",
       "      <td>-1.0</td>\n",
       "      <td>0.413814</td>\n",
       "    </tr>\n",
       "  </tbody>\n",
       "</table>\n",
       "</div>"
      ],
      "text/plain": [
       "     corr_with_pos  sign       abs\n",
       "310       0.508020   1.0  0.508020\n",
       "159       0.507892   1.0  0.507892\n",
       "480      -0.495969  -1.0  0.495969\n",
       "401       0.489487   1.0  0.489487\n",
       "192      -0.440382  -1.0  0.440382\n",
       "89        0.433276   1.0  0.433276\n",
       "29        0.424236   1.0  0.424236\n",
       "458      -0.417727  -1.0  0.417727\n",
       "198      -0.414689  -1.0  0.414689\n",
       "504      -0.413814  -1.0  0.413814"
      ]
     },
     "execution_count": 28,
     "metadata": {},
     "output_type": "execute_result"
    }
   ],
   "source": [
    "pos_corr_freq_df = pd.DataFrame(columns=['corr_with_pos'])\n",
    "pos_list = []\n",
    "\n",
    "# Go through dimensions from 0 to 511\n",
    "for i in range(512):\n",
    "    # Find the correlation of the current column with \"freqlemlivres\" and add to the list\n",
    "    pos_list.append(unique_norm.loc[:, [str(i), 'verb']].corr().iloc[0][-1])\n",
    "\n",
    "# Use the list values as \n",
    "pos_corr_freq_df['corr_with_pos'] = pos_list\n",
    "pos_corr_freq_df['sign'] = np.sign(pos_corr_freq_df['corr_with_pos'])\n",
    "pos_corr_freq_df['abs'] = abs(pos_corr_freq_df['corr_with_pos'])\n",
    "pos_corr_freq_df.sort_values('abs', ascending=False)[:10]"
   ]
  },
  {
   "cell_type": "code",
   "execution_count": null,
   "metadata": {},
   "outputs": [],
   "source": []
  }
 ],
 "metadata": {
  "kernelspec": {
   "display_name": "Python 3 (ipykernel)",
   "language": "python",
   "name": "python3"
  },
  "language_info": {
   "codemirror_mode": {
    "name": "ipython",
    "version": 3
   },
   "file_extension": ".py",
   "mimetype": "text/x-python",
   "name": "python",
   "nbconvert_exporter": "python",
   "pygments_lexer": "ipython3",
   "version": "3.10.9"
  }
 },
 "nbformat": 4,
 "nbformat_minor": 4
}
