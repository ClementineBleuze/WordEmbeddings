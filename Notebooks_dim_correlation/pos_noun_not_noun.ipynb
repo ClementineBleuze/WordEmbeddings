{
 "cells": [
  {
   "cell_type": "code",
   "execution_count": 2,
   "metadata": {},
   "outputs": [],
   "source": [
    "import pandas as pd\n",
    "import numpy as np"
   ]
  },
  {
   "cell_type": "markdown",
   "metadata": {},
   "source": [
    "Create a DataFrame with a column `noun` where `1` for nouns and `0` for verbs and adjectives.\n",
    "All data is used."
   ]
  },
  {
   "cell_type": "code",
   "execution_count": 3,
   "metadata": {},
   "outputs": [],
   "source": [
    "nouns = pd.read_csv('../Data/FlauBERT_WE/all_nouns_we.csv', index_col=0)\n",
    "nouns['noun'] = 1"
   ]
  },
  {
   "cell_type": "code",
   "execution_count": 20,
   "metadata": {},
   "outputs": [],
   "source": [
    "verbs = pd.read_csv('../Data/FlauBERT_WE/all_verb_we.csv', index_col=0)\n",
    "verbs['noun'] = 0"
   ]
  },
  {
   "cell_type": "code",
   "execution_count": 21,
   "metadata": {},
   "outputs": [],
   "source": [
    "adjs = pd.read_csv('../Data/FlauBERT_WE/all_adjectives_we.csv', index_col=0)\n",
    "adjs['noun'] = 0"
   ]
  },
  {
   "cell_type": "code",
   "execution_count": 27,
   "metadata": {},
   "outputs": [],
   "source": [
    "data = pd.concat([nouns, verbs, adjs]).drop(columns=['number', 'gender'])"
   ]
  },
  {
   "cell_type": "code",
   "execution_count": 28,
   "metadata": {},
   "outputs": [],
   "source": [
    "# Shuffle\n",
    "data = data.sample(frac=1)"
   ]
  },
  {
   "cell_type": "markdown",
   "metadata": {},
   "source": [
    "# Normalize data"
   ]
  },
  {
   "cell_type": "code",
   "execution_count": 29,
   "metadata": {},
   "outputs": [],
   "source": [
    "normalized_data = (data - data.min())/(data.max() - data.min())"
   ]
  },
  {
   "cell_type": "markdown",
   "metadata": {},
   "source": [
    "# Testing the correlation of verbness-ness"
   ]
  },
  {
   "cell_type": "markdown",
   "metadata": {},
   "source": [
    "Now for the top frequent nouns and verbs, we can go through all the dimensions and find the correlation of each  dimension with the PoS values: 0 for verbs and 1 for nouns."
   ]
  },
  {
   "cell_type": "code",
   "execution_count": 30,
   "metadata": {},
   "outputs": [
    {
     "data": {
      "text/html": [
       "<div>\n",
       "<style scoped>\n",
       "    .dataframe tbody tr th:only-of-type {\n",
       "        vertical-align: middle;\n",
       "    }\n",
       "\n",
       "    .dataframe tbody tr th {\n",
       "        vertical-align: top;\n",
       "    }\n",
       "\n",
       "    .dataframe thead th {\n",
       "        text-align: right;\n",
       "    }\n",
       "</style>\n",
       "<table border=\"1\" class=\"dataframe\">\n",
       "  <thead>\n",
       "    <tr style=\"text-align: right;\">\n",
       "      <th></th>\n",
       "      <th>corr_with_pos</th>\n",
       "      <th>sign</th>\n",
       "      <th>abs</th>\n",
       "    </tr>\n",
       "  </thead>\n",
       "  <tbody>\n",
       "    <tr>\n",
       "      <th>159</th>\n",
       "      <td>-0.306971</td>\n",
       "      <td>-1.0</td>\n",
       "      <td>0.306971</td>\n",
       "    </tr>\n",
       "    <tr>\n",
       "      <th>458</th>\n",
       "      <td>0.263464</td>\n",
       "      <td>1.0</td>\n",
       "      <td>0.263464</td>\n",
       "    </tr>\n",
       "    <tr>\n",
       "      <th>409</th>\n",
       "      <td>-0.262177</td>\n",
       "      <td>-1.0</td>\n",
       "      <td>0.262177</td>\n",
       "    </tr>\n",
       "    <tr>\n",
       "      <th>346</th>\n",
       "      <td>0.254995</td>\n",
       "      <td>1.0</td>\n",
       "      <td>0.254995</td>\n",
       "    </tr>\n",
       "    <tr>\n",
       "      <th>480</th>\n",
       "      <td>0.249971</td>\n",
       "      <td>1.0</td>\n",
       "      <td>0.249971</td>\n",
       "    </tr>\n",
       "    <tr>\n",
       "      <th>504</th>\n",
       "      <td>0.245553</td>\n",
       "      <td>1.0</td>\n",
       "      <td>0.245553</td>\n",
       "    </tr>\n",
       "    <tr>\n",
       "      <th>305</th>\n",
       "      <td>-0.242150</td>\n",
       "      <td>-1.0</td>\n",
       "      <td>0.242150</td>\n",
       "    </tr>\n",
       "    <tr>\n",
       "      <th>128</th>\n",
       "      <td>-0.228479</td>\n",
       "      <td>-1.0</td>\n",
       "      <td>0.228479</td>\n",
       "    </tr>\n",
       "    <tr>\n",
       "      <th>401</th>\n",
       "      <td>-0.226539</td>\n",
       "      <td>-1.0</td>\n",
       "      <td>0.226539</td>\n",
       "    </tr>\n",
       "    <tr>\n",
       "      <th>31</th>\n",
       "      <td>0.221343</td>\n",
       "      <td>1.0</td>\n",
       "      <td>0.221343</td>\n",
       "    </tr>\n",
       "  </tbody>\n",
       "</table>\n",
       "</div>"
      ],
      "text/plain": [
       "     corr_with_pos  sign       abs\n",
       "159      -0.306971  -1.0  0.306971\n",
       "458       0.263464   1.0  0.263464\n",
       "409      -0.262177  -1.0  0.262177\n",
       "346       0.254995   1.0  0.254995\n",
       "480       0.249971   1.0  0.249971\n",
       "504       0.245553   1.0  0.245553\n",
       "305      -0.242150  -1.0  0.242150\n",
       "128      -0.228479  -1.0  0.228479\n",
       "401      -0.226539  -1.0  0.226539\n",
       "31        0.221343   1.0  0.221343"
      ]
     },
     "execution_count": 30,
     "metadata": {},
     "output_type": "execute_result"
    }
   ],
   "source": [
    "pos_corr_freq_df = pd.DataFrame(columns=['corr_with_pos'])\n",
    "pos_list = []\n",
    "\n",
    "# Go through dimensions from 0 to 511\n",
    "for i in range(512):\n",
    "    # Find the correlation of the current column with \"freqlemlivres\" and add to the list\n",
    "    pos_list.append(normalized_data.loc[:, [str(i), 'noun']].corr().iloc[0][-1])\n",
    "\n",
    "# Use the list values as \n",
    "pos_corr_freq_df['corr_with_pos'] = pos_list\n",
    "pos_corr_freq_df['sign'] = np.sign(pos_corr_freq_df['corr_with_pos'])\n",
    "pos_corr_freq_df['abs'] = abs(pos_corr_freq_df['corr_with_pos'])\n",
    "pos_corr_freq_df.sort_values('abs', ascending=False)[:10]"
   ]
  },
  {
   "cell_type": "markdown",
   "metadata": {},
   "source": [
    "Test for unique words:"
   ]
  },
  {
   "cell_type": "code",
   "execution_count": 53,
   "metadata": {},
   "outputs": [],
   "source": [
    "word, count = np.unique(normalized_data.index, return_counts=True)\n",
    "unique_words = [x[0] for x in list(filter(lambda x: x[1] == 1, zip(word, count)))]"
   ]
  },
  {
   "cell_type": "code",
   "execution_count": 56,
   "metadata": {},
   "outputs": [],
   "source": [
    "unique_norm = normalized_data[normalized_data.index.isin(unique_words)]"
   ]
  },
  {
   "cell_type": "code",
   "execution_count": 57,
   "metadata": {
    "scrolled": true
   },
   "outputs": [
    {
     "data": {
      "text/html": [
       "<div>\n",
       "<style scoped>\n",
       "    .dataframe tbody tr th:only-of-type {\n",
       "        vertical-align: middle;\n",
       "    }\n",
       "\n",
       "    .dataframe tbody tr th {\n",
       "        vertical-align: top;\n",
       "    }\n",
       "\n",
       "    .dataframe thead th {\n",
       "        text-align: right;\n",
       "    }\n",
       "</style>\n",
       "<table border=\"1\" class=\"dataframe\">\n",
       "  <thead>\n",
       "    <tr style=\"text-align: right;\">\n",
       "      <th></th>\n",
       "      <th>corr_with_pos</th>\n",
       "      <th>sign</th>\n",
       "      <th>abs</th>\n",
       "    </tr>\n",
       "  </thead>\n",
       "  <tbody>\n",
       "    <tr>\n",
       "      <th>159</th>\n",
       "      <td>-0.496049</td>\n",
       "      <td>-1.0</td>\n",
       "      <td>0.496049</td>\n",
       "    </tr>\n",
       "    <tr>\n",
       "      <th>480</th>\n",
       "      <td>0.449509</td>\n",
       "      <td>1.0</td>\n",
       "      <td>0.449509</td>\n",
       "    </tr>\n",
       "    <tr>\n",
       "      <th>401</th>\n",
       "      <td>-0.439865</td>\n",
       "      <td>-1.0</td>\n",
       "      <td>0.439865</td>\n",
       "    </tr>\n",
       "    <tr>\n",
       "      <th>310</th>\n",
       "      <td>-0.419709</td>\n",
       "      <td>-1.0</td>\n",
       "      <td>0.419709</td>\n",
       "    </tr>\n",
       "    <tr>\n",
       "      <th>346</th>\n",
       "      <td>0.413777</td>\n",
       "      <td>1.0</td>\n",
       "      <td>0.413777</td>\n",
       "    </tr>\n",
       "    <tr>\n",
       "      <th>458</th>\n",
       "      <td>0.413362</td>\n",
       "      <td>1.0</td>\n",
       "      <td>0.413362</td>\n",
       "    </tr>\n",
       "    <tr>\n",
       "      <th>29</th>\n",
       "      <td>-0.404381</td>\n",
       "      <td>-1.0</td>\n",
       "      <td>0.404381</td>\n",
       "    </tr>\n",
       "    <tr>\n",
       "      <th>504</th>\n",
       "      <td>0.383200</td>\n",
       "      <td>1.0</td>\n",
       "      <td>0.383200</td>\n",
       "    </tr>\n",
       "    <tr>\n",
       "      <th>128</th>\n",
       "      <td>-0.374405</td>\n",
       "      <td>-1.0</td>\n",
       "      <td>0.374405</td>\n",
       "    </tr>\n",
       "    <tr>\n",
       "      <th>341</th>\n",
       "      <td>-0.372767</td>\n",
       "      <td>-1.0</td>\n",
       "      <td>0.372767</td>\n",
       "    </tr>\n",
       "  </tbody>\n",
       "</table>\n",
       "</div>"
      ],
      "text/plain": [
       "     corr_with_pos  sign       abs\n",
       "159      -0.496049  -1.0  0.496049\n",
       "480       0.449509   1.0  0.449509\n",
       "401      -0.439865  -1.0  0.439865\n",
       "310      -0.419709  -1.0  0.419709\n",
       "346       0.413777   1.0  0.413777\n",
       "458       0.413362   1.0  0.413362\n",
       "29       -0.404381  -1.0  0.404381\n",
       "504       0.383200   1.0  0.383200\n",
       "128      -0.374405  -1.0  0.374405\n",
       "341      -0.372767  -1.0  0.372767"
      ]
     },
     "execution_count": 57,
     "metadata": {},
     "output_type": "execute_result"
    }
   ],
   "source": [
    "pos_corr_freq_df = pd.DataFrame(columns=['corr_with_pos'])\n",
    "pos_list = []\n",
    "\n",
    "# Go through dimensions from 0 to 511\n",
    "for i in range(512):\n",
    "    # Find the correlation of the current column with \"freqlemlivres\" and add to the list\n",
    "    pos_list.append(unique_norm.loc[:, [str(i), 'noun']].corr().iloc[0][-1])\n",
    "\n",
    "# Use the list values as \n",
    "pos_corr_freq_df['corr_with_pos'] = pos_list\n",
    "pos_corr_freq_df['sign'] = np.sign(pos_corr_freq_df['corr_with_pos'])\n",
    "pos_corr_freq_df['abs'] = abs(pos_corr_freq_df['corr_with_pos'])\n",
    "pos_corr_freq_df.sort_values('abs', ascending=False)[:10]"
   ]
  }
 ],
 "metadata": {
  "kernelspec": {
   "display_name": "Python 3 (ipykernel)",
   "language": "python",
   "name": "python3"
  },
  "language_info": {
   "codemirror_mode": {
    "name": "ipython",
    "version": 3
   },
   "file_extension": ".py",
   "mimetype": "text/x-python",
   "name": "python",
   "nbconvert_exporter": "python",
   "pygments_lexer": "ipython3",
   "version": "3.10.9"
  }
 },
 "nbformat": 4,
 "nbformat_minor": 4
}
