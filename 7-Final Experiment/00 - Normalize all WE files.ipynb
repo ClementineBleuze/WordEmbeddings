{
 "cells": [
  {
   "cell_type": "code",
   "execution_count": 1,
   "id": "244ac278",
   "metadata": {},
   "outputs": [],
   "source": [
    "import pandas as pd"
   ]
  },
  {
   "cell_type": "code",
   "execution_count": 2,
   "id": "21c6acc5",
   "metadata": {},
   "outputs": [],
   "source": [
    "models = [\n",
    "    {\n",
    "        'name': 'flaubert/flaubert_small_cased',\n",
    "        'label': 'flau_small_c'\n",
    "    },\n",
    "    {\n",
    "    \n",
    "        'name': 'flaubert/flaubert_base_uncased', \n",
    "        'label': 'flau_base_u'\n",
    "\n",
    "    },\n",
    "    {\n",
    "        'name': 'flaubert/flaubert_base_cased',\n",
    "        'label': 'flau_base_c'\n",
    "    },\n",
    "    {\n",
    "        'name': 'flaubert/flaubert_large_cased',\n",
    "        'label': 'flau_large_c'\n",
    "    },\n",
    "    {\n",
    "        'name': 'camembert/camembert-base',\n",
    "        'label': 'cam_base'\n",
    "    },\n",
    "    {\n",
    "        'name': 'xlm-roberta-large',\n",
    "        'label': 'xlm_large'\n",
    "    },\n",
    "    {\n",
    "    \n",
    "        'name': 'xlm-roberta-base', \n",
    "        'label': 'xlm_base'\n",
    "\n",
    "    },\n",
    "    {\n",
    "        'name': 'bert-base-multilingual-uncased',\n",
    "        'label': 'bert_base_u'\n",
    "    },\n",
    "    {\n",
    "        'name': 'distilbert-base-multilingual-cased',\n",
    "        'label': 'distilbert_base'\n",
    "    },\n",
    "    {\n",
    "        'name': 'bert-base-multilingual-cased',\n",
    "        'label': 'bert_base_c'\n",
    "    }\n",
    "    \n",
    "]"
   ]
  },
  {
   "cell_type": "code",
   "execution_count": 3,
   "id": "4ce76c5b",
   "metadata": {},
   "outputs": [],
   "source": [
    "labels = [m['label'] for m in models]"
   ]
  },
  {
   "cell_type": "markdown",
   "id": "2f2b3ac7",
   "metadata": {},
   "source": [
    "# Adjs"
   ]
  },
  {
   "cell_type": "code",
   "execution_count": 4,
   "id": "97fb213e",
   "metadata": {},
   "outputs": [],
   "source": [
    "for label in labels:\n",
    "    df = pd.read_csv(f'../Data/{label}/all_adjs_we.csv', index_col=0)\n",
    "    df.iloc[:, :-3] = (df.iloc[:, :-3]-df.iloc[:, :-3].min())/(df.iloc[:, :-3].max()-df.iloc[:, :-3].min())\n",
    "    df.to_csv(f'../Data/{label}/all_adjs_we.csv')"
   ]
  },
  {
   "cell_type": "markdown",
   "id": "8750d3d4",
   "metadata": {},
   "source": [
    "# Nouns"
   ]
  },
  {
   "cell_type": "code",
   "execution_count": 7,
   "id": "8a5ee2d1",
   "metadata": {},
   "outputs": [],
   "source": [
    "for label in labels:\n",
    "    df = pd.read_csv(f'../Data/{label}/all_nouns_we.csv', index_col=0)\n",
    "    df.iloc[:, :-3] = (df.iloc[:, :-3]-df.iloc[:, :-3].min())/(df.iloc[:, :-3].max()-df.iloc[:, :-3].min())\n",
    "    df.to_csv(f'../Data/{label}/all_nouns_we.csv')"
   ]
  },
  {
   "cell_type": "markdown",
   "id": "1c29059e",
   "metadata": {},
   "source": [
    "# Verbs"
   ]
  },
  {
   "cell_type": "code",
   "execution_count": 10,
   "id": "399473e8",
   "metadata": {},
   "outputs": [],
   "source": [
    "for label in labels:\n",
    "    df = pd.read_csv(f'../Data/{label}/all_verbs_we.csv', index_col=0)\n",
    "    df.iloc[:, :-4] = (df.iloc[:, :-4]-df.iloc[:, :-4].min())/(df.iloc[:, :-4].max()-df.iloc[:, :-4].min())\n",
    "    df.to_csv(f'../Data/{label}/all_verbs_we.csv')"
   ]
  },
  {
   "cell_type": "markdown",
   "id": "8a85a9a2",
   "metadata": {},
   "source": [
    "# All PoS"
   ]
  },
  {
   "cell_type": "code",
   "execution_count": 13,
   "id": "bc8a4100",
   "metadata": {},
   "outputs": [
    {
     "name": "stderr",
     "output_type": "stream",
     "text": [
      "/var/folders/wp/dsfsd5r52yn9jjjsj3yn90gr0000gn/T/ipykernel_16740/3266511430.py:2: DtypeWarning: Columns (514,517,518) have mixed types. Specify dtype option on import or set low_memory=False.\n",
      "  df = pd.read_csv(f'../Data/{label}/all_unique_pos_we.csv', index_col=0)\n",
      "/var/folders/wp/dsfsd5r52yn9jjjsj3yn90gr0000gn/T/ipykernel_16740/3266511430.py:2: DtypeWarning: Columns (770,773,774) have mixed types. Specify dtype option on import or set low_memory=False.\n",
      "  df = pd.read_csv(f'../Data/{label}/all_unique_pos_we.csv', index_col=0)\n",
      "/var/folders/wp/dsfsd5r52yn9jjjsj3yn90gr0000gn/T/ipykernel_16740/3266511430.py:2: DtypeWarning: Columns (770,773,774) have mixed types. Specify dtype option on import or set low_memory=False.\n",
      "  df = pd.read_csv(f'../Data/{label}/all_unique_pos_we.csv', index_col=0)\n",
      "/var/folders/wp/dsfsd5r52yn9jjjsj3yn90gr0000gn/T/ipykernel_16740/3266511430.py:2: DtypeWarning: Columns (1026,1029,1030) have mixed types. Specify dtype option on import or set low_memory=False.\n",
      "  df = pd.read_csv(f'../Data/{label}/all_unique_pos_we.csv', index_col=0)\n",
      "/var/folders/wp/dsfsd5r52yn9jjjsj3yn90gr0000gn/T/ipykernel_16740/3266511430.py:2: DtypeWarning: Columns (770,773,774) have mixed types. Specify dtype option on import or set low_memory=False.\n",
      "  df = pd.read_csv(f'../Data/{label}/all_unique_pos_we.csv', index_col=0)\n",
      "/var/folders/wp/dsfsd5r52yn9jjjsj3yn90gr0000gn/T/ipykernel_16740/3266511430.py:2: DtypeWarning: Columns (1026,1029,1030) have mixed types. Specify dtype option on import or set low_memory=False.\n",
      "  df = pd.read_csv(f'../Data/{label}/all_unique_pos_we.csv', index_col=0)\n",
      "/var/folders/wp/dsfsd5r52yn9jjjsj3yn90gr0000gn/T/ipykernel_16740/3266511430.py:2: DtypeWarning: Columns (773,774) have mixed types. Specify dtype option on import or set low_memory=False.\n",
      "  df = pd.read_csv(f'../Data/{label}/all_unique_pos_we.csv', index_col=0)\n",
      "/var/folders/wp/dsfsd5r52yn9jjjsj3yn90gr0000gn/T/ipykernel_16740/3266511430.py:2: DtypeWarning: Columns (770,773,774) have mixed types. Specify dtype option on import or set low_memory=False.\n",
      "  df = pd.read_csv(f'../Data/{label}/all_unique_pos_we.csv', index_col=0)\n",
      "/var/folders/wp/dsfsd5r52yn9jjjsj3yn90gr0000gn/T/ipykernel_16740/3266511430.py:2: DtypeWarning: Columns (773,774) have mixed types. Specify dtype option on import or set low_memory=False.\n",
      "  df = pd.read_csv(f'../Data/{label}/all_unique_pos_we.csv', index_col=0)\n",
      "/var/folders/wp/dsfsd5r52yn9jjjsj3yn90gr0000gn/T/ipykernel_16740/3266511430.py:2: DtypeWarning: Columns (773,774) have mixed types. Specify dtype option on import or set low_memory=False.\n",
      "  df = pd.read_csv(f'../Data/{label}/all_unique_pos_we.csv', index_col=0)\n"
     ]
    }
   ],
   "source": [
    "for label in labels:\n",
    "    df = pd.read_csv(f'../Data/{label}/all_unique_pos_we.csv', index_col=0)\n",
    "    df.iloc[:, :-6] = (df.iloc[:, :-6]-df.iloc[:, :-6].min())/(df.iloc[:, :-6].max()-df.iloc[:, :-6].min())\n",
    "    df.to_csv(f'../Data/{label}/all_unique_pos_we.csv')"
   ]
  }
 ],
 "metadata": {
  "kernelspec": {
   "display_name": "Python 3 (ipykernel)",
   "language": "python",
   "name": "python3"
  },
  "language_info": {
   "codemirror_mode": {
    "name": "ipython",
    "version": 3
   },
   "file_extension": ".py",
   "mimetype": "text/x-python",
   "name": "python",
   "nbconvert_exporter": "python",
   "pygments_lexer": "ipython3",
   "version": "3.10.13"
  }
 },
 "nbformat": 4,
 "nbformat_minor": 5
}
