{
 "cells": [
  {
   "cell_type": "code",
   "execution_count": 1,
   "id": "8d03ffcf",
   "metadata": {},
   "outputs": [],
   "source": [
    "import sys\n",
    "sys.path.append('../Util')\n",
    "import pickle\n",
    "import os"
   ]
  },
  {
   "cell_type": "code",
   "execution_count": 2,
   "id": "ebc0d050",
   "metadata": {},
   "outputs": [],
   "source": [
    "from evaluation import correlation, lr, perceptron, get_anova_dims, get_mi_dims\n",
    "from preparation import prepare_dataset, read_datasets"
   ]
  },
  {
   "cell_type": "code",
   "execution_count": 3,
   "id": "c7eb701e",
   "metadata": {},
   "outputs": [],
   "source": [
    "from we import get_we, initiate_model"
   ]
  },
  {
   "cell_type": "code",
   "execution_count": 4,
   "id": "75ec8ca3",
   "metadata": {},
   "outputs": [],
   "source": [
    "import pandas as pd\n",
    "import numpy as np\n",
    "import seaborn as sns\n",
    "import matplotlib.pyplot as plt"
   ]
  },
  {
   "cell_type": "code",
   "execution_count": 5,
   "id": "4010b676",
   "metadata": {},
   "outputs": [],
   "source": [
    "from scipy.stats import f_oneway"
   ]
  },
  {
   "cell_type": "code",
   "execution_count": 6,
   "id": "1b3913b4",
   "metadata": {},
   "outputs": [],
   "source": [
    "from sklearn.metrics import mean_absolute_error, accuracy_score"
   ]
  },
  {
   "cell_type": "code",
   "execution_count": 7,
   "id": "4a00518b",
   "metadata": {},
   "outputs": [],
   "source": [
    "import warnings\n",
    "warnings.filterwarnings('ignore')"
   ]
  },
  {
   "cell_type": "code",
   "execution_count": 8,
   "id": "1e2fae77",
   "metadata": {},
   "outputs": [],
   "source": [
    "models = [\n",
    "    {\n",
    "        'name': 'flaubert/flaubert_small_cased',\n",
    "        'label': 'flau_small_c'\n",
    "    },\n",
    "    {\n",
    "    \n",
    "        'name': 'flaubert/flaubert_base_uncased', \n",
    "        'label': 'flau_base_u'\n",
    "\n",
    "    },\n",
    "    {\n",
    "        'name': 'flaubert/flaubert_base_cased',\n",
    "        'label': 'flau_base_c'\n",
    "    },\n",
    "    {\n",
    "        'name': 'flaubert/flaubert_large_cased',\n",
    "        'label': 'flau_large_c'\n",
    "    },\n",
    "    {\n",
    "        'name': 'camembert/camembert-base',\n",
    "        'label': 'cam_base'\n",
    "    },\n",
    "    {\n",
    "        'name': 'xlm-roberta-large',\n",
    "        'label': 'xlm_large'\n",
    "    },\n",
    "    {\n",
    "    \n",
    "        'name': 'xlm-roberta-base', \n",
    "        'label': 'xlm_base'\n",
    "\n",
    "    },\n",
    "    {\n",
    "        'name': 'bert-base-multilingual-uncased',\n",
    "        'label': 'bert_base_u'\n",
    "    },\n",
    "    {\n",
    "        'name': 'distilbert-base-multilingual-cased',\n",
    "        'label': 'distilbert_base'\n",
    "    },\n",
    "    {\n",
    "        'name': 'bert-base-multilingual-cased',\n",
    "        'label': 'bert_base_c'\n",
    "    }\n",
    "    \n",
    "]"
   ]
  },
  {
   "cell_type": "code",
   "execution_count": 9,
   "id": "7a923234",
   "metadata": {},
   "outputs": [],
   "source": [
    "labels = [m['label'] for m in models]"
   ]
  },
  {
   "cell_type": "code",
   "execution_count": 10,
   "id": "4ac1a97d",
   "metadata": {},
   "outputs": [],
   "source": [
    "we_with_features = read_datasets(\n",
    "                            path = '../Data',\n",
    "                            model_labels = labels,\n",
    "                            file_name = 'all_unique_pos_we.csv'\n",
    "                    )"
   ]
  },
  {
   "cell_type": "code",
   "execution_count": 11,
   "id": "ff77172b",
   "metadata": {},
   "outputs": [
    {
     "data": {
      "text/html": [
       "<div>\n",
       "<style scoped>\n",
       "    .dataframe tbody tr th:only-of-type {\n",
       "        vertical-align: middle;\n",
       "    }\n",
       "\n",
       "    .dataframe tbody tr th {\n",
       "        vertical-align: top;\n",
       "    }\n",
       "\n",
       "    .dataframe thead th {\n",
       "        text-align: right;\n",
       "    }\n",
       "</style>\n",
       "<table border=\"1\" class=\"dataframe\">\n",
       "  <thead>\n",
       "    <tr style=\"text-align: right;\">\n",
       "      <th></th>\n",
       "      <th>0</th>\n",
       "      <th>1</th>\n",
       "      <th>2</th>\n",
       "      <th>3</th>\n",
       "      <th>4</th>\n",
       "      <th>5</th>\n",
       "      <th>6</th>\n",
       "      <th>7</th>\n",
       "      <th>8</th>\n",
       "      <th>9</th>\n",
       "      <th>...</th>\n",
       "      <th>764</th>\n",
       "      <th>765</th>\n",
       "      <th>766</th>\n",
       "      <th>767</th>\n",
       "      <th>Number</th>\n",
       "      <th>Gender</th>\n",
       "      <th>Lemma</th>\n",
       "      <th>POS</th>\n",
       "      <th>Tense</th>\n",
       "      <th>Person</th>\n",
       "    </tr>\n",
       "    <tr>\n",
       "      <th>Word</th>\n",
       "      <th></th>\n",
       "      <th></th>\n",
       "      <th></th>\n",
       "      <th></th>\n",
       "      <th></th>\n",
       "      <th></th>\n",
       "      <th></th>\n",
       "      <th></th>\n",
       "      <th></th>\n",
       "      <th></th>\n",
       "      <th></th>\n",
       "      <th></th>\n",
       "      <th></th>\n",
       "      <th></th>\n",
       "      <th></th>\n",
       "      <th></th>\n",
       "      <th></th>\n",
       "      <th></th>\n",
       "      <th></th>\n",
       "      <th></th>\n",
       "      <th></th>\n",
       "    </tr>\n",
       "  </thead>\n",
       "  <tbody>\n",
       "    <tr>\n",
       "      <th>2D</th>\n",
       "      <td>0.909603</td>\n",
       "      <td>0.551025</td>\n",
       "      <td>0.436937</td>\n",
       "      <td>0.789782</td>\n",
       "      <td>0.311517</td>\n",
       "      <td>0.417476</td>\n",
       "      <td>0.629341</td>\n",
       "      <td>0.913722</td>\n",
       "      <td>0.349834</td>\n",
       "      <td>0.838988</td>\n",
       "      <td>...</td>\n",
       "      <td>0.285154</td>\n",
       "      <td>0.057887</td>\n",
       "      <td>0.030874</td>\n",
       "      <td>0.310204</td>\n",
       "      <td>invariable</td>\n",
       "      <td>feminine</td>\n",
       "      <td>2D</td>\n",
       "      <td>NOUN</td>\n",
       "      <td>NaN</td>\n",
       "      <td>NaN</td>\n",
       "    </tr>\n",
       "    <tr>\n",
       "      <th>3D</th>\n",
       "      <td>0.901779</td>\n",
       "      <td>0.549880</td>\n",
       "      <td>0.427826</td>\n",
       "      <td>0.797102</td>\n",
       "      <td>0.313900</td>\n",
       "      <td>0.419226</td>\n",
       "      <td>0.623478</td>\n",
       "      <td>0.916539</td>\n",
       "      <td>0.355807</td>\n",
       "      <td>0.844714</td>\n",
       "      <td>...</td>\n",
       "      <td>0.287610</td>\n",
       "      <td>0.054251</td>\n",
       "      <td>0.018604</td>\n",
       "      <td>0.305226</td>\n",
       "      <td>invariable</td>\n",
       "      <td>feminine</td>\n",
       "      <td>3D</td>\n",
       "      <td>NOUN</td>\n",
       "      <td>NaN</td>\n",
       "      <td>NaN</td>\n",
       "    </tr>\n",
       "    <tr>\n",
       "      <th>aa</th>\n",
       "      <td>0.899570</td>\n",
       "      <td>0.555891</td>\n",
       "      <td>0.418186</td>\n",
       "      <td>0.805754</td>\n",
       "      <td>0.319232</td>\n",
       "      <td>0.412976</td>\n",
       "      <td>0.618457</td>\n",
       "      <td>0.914183</td>\n",
       "      <td>0.367882</td>\n",
       "      <td>0.845985</td>\n",
       "      <td>...</td>\n",
       "      <td>0.287883</td>\n",
       "      <td>0.057476</td>\n",
       "      <td>0.013614</td>\n",
       "      <td>0.290463</td>\n",
       "      <td>invariable</td>\n",
       "      <td>masculine</td>\n",
       "      <td>aa</td>\n",
       "      <td>NOUN</td>\n",
       "      <td>NaN</td>\n",
       "      <td>NaN</td>\n",
       "    </tr>\n",
       "    <tr>\n",
       "      <th>abandon</th>\n",
       "      <td>0.898879</td>\n",
       "      <td>0.556306</td>\n",
       "      <td>0.417821</td>\n",
       "      <td>0.805256</td>\n",
       "      <td>0.318463</td>\n",
       "      <td>0.412505</td>\n",
       "      <td>0.618276</td>\n",
       "      <td>0.914983</td>\n",
       "      <td>0.367654</td>\n",
       "      <td>0.846577</td>\n",
       "      <td>...</td>\n",
       "      <td>0.288183</td>\n",
       "      <td>0.057827</td>\n",
       "      <td>0.014050</td>\n",
       "      <td>0.290994</td>\n",
       "      <td>singular</td>\n",
       "      <td>masculine</td>\n",
       "      <td>abandon</td>\n",
       "      <td>NOUN</td>\n",
       "      <td>NaN</td>\n",
       "      <td>NaN</td>\n",
       "    </tr>\n",
       "    <tr>\n",
       "      <th>abbaye</th>\n",
       "      <td>0.895888</td>\n",
       "      <td>0.554461</td>\n",
       "      <td>0.420659</td>\n",
       "      <td>0.799339</td>\n",
       "      <td>0.322441</td>\n",
       "      <td>0.418141</td>\n",
       "      <td>0.618820</td>\n",
       "      <td>0.921033</td>\n",
       "      <td>0.367005</td>\n",
       "      <td>0.845904</td>\n",
       "      <td>...</td>\n",
       "      <td>0.293985</td>\n",
       "      <td>0.057312</td>\n",
       "      <td>0.012175</td>\n",
       "      <td>0.298473</td>\n",
       "      <td>singular</td>\n",
       "      <td>feminine</td>\n",
       "      <td>abbaye</td>\n",
       "      <td>NOUN</td>\n",
       "      <td>NaN</td>\n",
       "      <td>NaN</td>\n",
       "    </tr>\n",
       "  </tbody>\n",
       "</table>\n",
       "<p>5 rows × 774 columns</p>\n",
       "</div>"
      ],
      "text/plain": [
       "                0         1         2         3         4         5         6  \\\n",
       "Word                                                                            \n",
       "2D       0.909603  0.551025  0.436937  0.789782  0.311517  0.417476  0.629341   \n",
       "3D       0.901779  0.549880  0.427826  0.797102  0.313900  0.419226  0.623478   \n",
       "aa       0.899570  0.555891  0.418186  0.805754  0.319232  0.412976  0.618457   \n",
       "abandon  0.898879  0.556306  0.417821  0.805256  0.318463  0.412505  0.618276   \n",
       "abbaye   0.895888  0.554461  0.420659  0.799339  0.322441  0.418141  0.618820   \n",
       "\n",
       "                7         8         9  ...       764       765       766  \\\n",
       "Word                                   ...                                 \n",
       "2D       0.913722  0.349834  0.838988  ...  0.285154  0.057887  0.030874   \n",
       "3D       0.916539  0.355807  0.844714  ...  0.287610  0.054251  0.018604   \n",
       "aa       0.914183  0.367882  0.845985  ...  0.287883  0.057476  0.013614   \n",
       "abandon  0.914983  0.367654  0.846577  ...  0.288183  0.057827  0.014050   \n",
       "abbaye   0.921033  0.367005  0.845904  ...  0.293985  0.057312  0.012175   \n",
       "\n",
       "              767      Number     Gender    Lemma   POS  Tense  Person  \n",
       "Word                                                                    \n",
       "2D       0.310204  invariable   feminine       2D  NOUN    NaN     NaN  \n",
       "3D       0.305226  invariable   feminine       3D  NOUN    NaN     NaN  \n",
       "aa       0.290463  invariable  masculine       aa  NOUN    NaN     NaN  \n",
       "abandon  0.290994    singular  masculine  abandon  NOUN    NaN     NaN  \n",
       "abbaye   0.298473    singular   feminine   abbaye  NOUN    NaN     NaN  \n",
       "\n",
       "[5 rows x 774 columns]"
      ]
     },
     "execution_count": 11,
     "metadata": {},
     "output_type": "execute_result"
    }
   ],
   "source": [
    "we_with_features[-1].head()"
   ]
  },
  {
   "cell_type": "code",
   "execution_count": 12,
   "id": "b8c5a366",
   "metadata": {},
   "outputs": [],
   "source": [
    "feature_col_count = 6\n",
    "\n",
    "# Feature to investigate in this notebook\n",
    "feature = 'POS'"
   ]
  },
  {
   "cell_type": "markdown",
   "id": "c9dbca55",
   "metadata": {},
   "source": [
    "# Adjectives"
   ]
  },
  {
   "cell_type": "code",
   "execution_count": 13,
   "id": "0d1f403f",
   "metadata": {},
   "outputs": [],
   "source": [
    "pos = ['ADJ']"
   ]
  },
  {
   "cell_type": "markdown",
   "id": "3d3bcd0f",
   "metadata": {},
   "source": [
    "Split each model into train and test:"
   ]
  },
  {
   "cell_type": "code",
   "execution_count": 14,
   "id": "b5ed271a",
   "metadata": {},
   "outputs": [],
   "source": [
    "X_adj_train = []\n",
    "y_adj_train = []\n",
    "\n",
    "X_adj_test = []\n",
    "y_adj_test = []"
   ]
  },
  {
   "cell_type": "code",
   "execution_count": 15,
   "id": "42ce6480",
   "metadata": {},
   "outputs": [],
   "source": [
    "for we in we_with_features:\n",
    "    xtr, xtst, ytr, ytst = prepare_dataset(dataset=we[(we.Gender != 'invariable') & (we.Number != 'invariable')],\n",
    "                                           feature_col_count=feature_col_count,\n",
    "                                           feature_name=feature,\n",
    "                                           normalize=False,\n",
    "                                           encode=True,\n",
    "                                           encode_as1='ADJ',\n",
    "                                           split=True,\n",
    "                                           balance=True)\n",
    "    X_adj_train.append(xtr)\n",
    "    X_adj_test.append(xtst)\n",
    "    \n",
    "    y_adj_train.append(ytr)\n",
    "    y_adj_test.append(ytst)"
   ]
  },
  {
   "cell_type": "code",
   "execution_count": 16,
   "id": "4593703a",
   "metadata": {},
   "outputs": [
    {
     "data": {
      "text/html": [
       "<div>\n",
       "<style scoped>\n",
       "    .dataframe tbody tr th:only-of-type {\n",
       "        vertical-align: middle;\n",
       "    }\n",
       "\n",
       "    .dataframe tbody tr th {\n",
       "        vertical-align: top;\n",
       "    }\n",
       "\n",
       "    .dataframe thead th {\n",
       "        text-align: right;\n",
       "    }\n",
       "</style>\n",
       "<table border=\"1\" class=\"dataframe\">\n",
       "  <thead>\n",
       "    <tr style=\"text-align: right;\">\n",
       "      <th></th>\n",
       "      <th>Train size</th>\n",
       "      <th>Test size</th>\n",
       "    </tr>\n",
       "  </thead>\n",
       "  <tbody>\n",
       "    <tr>\n",
       "      <th>flau_small_c</th>\n",
       "      <td>3011</td>\n",
       "      <td>753</td>\n",
       "    </tr>\n",
       "    <tr>\n",
       "      <th>flau_base_u</th>\n",
       "      <td>3585</td>\n",
       "      <td>897</td>\n",
       "    </tr>\n",
       "    <tr>\n",
       "      <th>flau_base_c</th>\n",
       "      <td>3011</td>\n",
       "      <td>753</td>\n",
       "    </tr>\n",
       "    <tr>\n",
       "      <th>flau_large_c</th>\n",
       "      <td>3011</td>\n",
       "      <td>753</td>\n",
       "    </tr>\n",
       "    <tr>\n",
       "      <th>cam_base</th>\n",
       "      <td>1668</td>\n",
       "      <td>418</td>\n",
       "    </tr>\n",
       "    <tr>\n",
       "      <th>xlm_large</th>\n",
       "      <td>324</td>\n",
       "      <td>82</td>\n",
       "    </tr>\n",
       "    <tr>\n",
       "      <th>xlm_base</th>\n",
       "      <td>324</td>\n",
       "      <td>82</td>\n",
       "    </tr>\n",
       "    <tr>\n",
       "      <th>bert_base_u</th>\n",
       "      <td>662</td>\n",
       "      <td>166</td>\n",
       "    </tr>\n",
       "    <tr>\n",
       "      <th>distilbert_base</th>\n",
       "      <td>420</td>\n",
       "      <td>106</td>\n",
       "    </tr>\n",
       "    <tr>\n",
       "      <th>bert_base_c</th>\n",
       "      <td>420</td>\n",
       "      <td>106</td>\n",
       "    </tr>\n",
       "  </tbody>\n",
       "</table>\n",
       "</div>"
      ],
      "text/plain": [
       "                 Train size  Test size\n",
       "flau_small_c           3011        753\n",
       "flau_base_u            3585        897\n",
       "flau_base_c            3011        753\n",
       "flau_large_c           3011        753\n",
       "cam_base               1668        418\n",
       "xlm_large               324         82\n",
       "xlm_base                324         82\n",
       "bert_base_u             662        166\n",
       "distilbert_base         420        106\n",
       "bert_base_c             420        106"
      ]
     },
     "execution_count": 16,
     "metadata": {},
     "output_type": "execute_result"
    }
   ],
   "source": [
    "dataset_sizes = pd.DataFrame(index=labels)\n",
    "dataset_sizes['Train size'] = [len(x) for x in X_adj_train]\n",
    "dataset_sizes['Test size'] = [len(x) for x in X_adj_test]\n",
    "dataset_sizes"
   ]
  },
  {
   "cell_type": "markdown",
   "id": "e8906983",
   "metadata": {},
   "source": [
    "## Non-independent dims"
   ]
  },
  {
   "cell_type": "markdown",
   "id": "fb6744ee",
   "metadata": {},
   "source": [
    "ANOVA test with p-value < 0.01:"
   ]
  },
  {
   "cell_type": "code",
   "execution_count": 17,
   "id": "41a4cebb",
   "metadata": {},
   "outputs": [],
   "source": [
    "anova_dims = [get_anova_dims(X_adj_train[i], y_adj_train[i]) for i in range(len(models))]"
   ]
  },
  {
   "cell_type": "code",
   "execution_count": null,
   "id": "d8812281",
   "metadata": {},
   "outputs": [],
   "source": [
    "mi_dims = [get_mi_dims(X_adj_train[i], y_adj_train[i]) for i in range(len(models))]"
   ]
  },
  {
   "cell_type": "code",
   "execution_count": null,
   "id": "40f7c1ae",
   "metadata": {},
   "outputs": [],
   "source": [
    "non_ind_dims = [list(set(anova_dims[i]).intersection(mi_dims[i])) for i in range(len(models))]"
   ]
  },
  {
   "cell_type": "markdown",
   "id": "de917ea7",
   "metadata": {},
   "source": [
    "Stats about the number of dimensions for each model:"
   ]
  },
  {
   "cell_type": "code",
   "execution_count": null,
   "id": "5acb0925",
   "metadata": {},
   "outputs": [],
   "source": [
    "non_ind_df = pd.DataFrame(index=labels, columns=['ANOVA', 'MI', 'Total non independent'])"
   ]
  },
  {
   "cell_type": "code",
   "execution_count": null,
   "id": "f1ceb136",
   "metadata": {},
   "outputs": [],
   "source": [
    "non_ind_df['ANOVA'] = [len(x) for x in anova_dims]\n",
    "non_ind_df['MI'] = [len(x) for x in mi_dims]\n",
    "non_ind_df['Total non independent'] = [len(x) for x in non_ind_dims]"
   ]
  },
  {
   "cell_type": "code",
   "execution_count": null,
   "id": "b092b91d",
   "metadata": {},
   "outputs": [],
   "source": [
    "non_ind_df"
   ]
  },
  {
   "cell_type": "code",
   "execution_count": null,
   "id": "f3810a53",
   "metadata": {},
   "outputs": [],
   "source": [
    "dims = {}"
   ]
  },
  {
   "cell_type": "code",
   "execution_count": null,
   "id": "fbb187d4",
   "metadata": {},
   "outputs": [],
   "source": [
    "for i in range(len(models)):\n",
    "    dims[labels[i]] = {}\n",
    "    dims[labels[i]]['All dims'] = X_adj_train[i].columns\n",
    "    dims[labels[i]]['ANOVA'] = anova_dims[i]\n",
    "    dims[labels[i]]['MI'] = mi_dims[i]\n",
    "    dims[labels[i]]['All non ind'] = non_ind_dims[i]"
   ]
  },
  {
   "cell_type": "markdown",
   "id": "4c003eed",
   "metadata": {},
   "source": [
    "## Important dims"
   ]
  },
  {
   "cell_type": "markdown",
   "id": "598a1730",
   "metadata": {},
   "source": [
    "We can test different $\\alpha$ values: 1%, 5%, 10%, 25%, 50%, 75%."
   ]
  },
  {
   "cell_type": "code",
   "execution_count": null,
   "id": "a6ad2c5b",
   "metadata": {},
   "outputs": [],
   "source": [
    "alphas = [1, 5, 10, 25, 50, 75]"
   ]
  },
  {
   "cell_type": "markdown",
   "id": "5158f05b",
   "metadata": {},
   "source": [
    "Train Logistic Regression on train set for each model:"
   ]
  },
  {
   "cell_type": "code",
   "execution_count": null,
   "id": "0e129d48",
   "metadata": {},
   "outputs": [],
   "source": [
    "lr_res = [lr(X_adj_train[i], y_adj_train[i]) for i in range(len(models))]"
   ]
  },
  {
   "cell_type": "markdown",
   "id": "f913390c",
   "metadata": {},
   "source": [
    "Train Perceptron 10 times and get average weights:"
   ]
  },
  {
   "cell_type": "code",
   "execution_count": null,
   "id": "b6cc8c3d",
   "metadata": {},
   "outputs": [],
   "source": [
    "perceptron_res = [perceptron(X_adj_train[i], y_adj_train[i]) for i in range(len(models))]"
   ]
  },
  {
   "cell_type": "markdown",
   "id": "ef01bfbb",
   "metadata": {},
   "source": [
    "Compute correlation to the gender vector:"
   ]
  },
  {
   "cell_type": "code",
   "execution_count": null,
   "id": "c3ac7616",
   "metadata": {},
   "outputs": [],
   "source": [
    "corr_res = [correlation(X_adj_train[i], y_adj_train[i]) for i in range(len(models))]"
   ]
  },
  {
   "cell_type": "code",
   "execution_count": null,
   "id": "e0a472fd",
   "metadata": {},
   "outputs": [],
   "source": [
    "for i in range(len(models)):\n",
    "    for alpha in alphas:\n",
    "        num_imp_dims = len(X_adj_test[i].columns)*alpha//100\n",
    "        lr_dims = [str(x[0]) for x in lr_res[i][:num_imp_dims]]\n",
    "        perc_dims = [str(x[0]) for x in perceptron_res[i][:num_imp_dims]]\n",
    "        corr_dims = [str(x[0]) for x in corr_res[i][:num_imp_dims]]\n",
    "        dims[labels[i]][f'LR{alpha}'] = lr_dims\n",
    "        dims[labels[i]][f'Perc{alpha}'] = perc_dims\n",
    "        dims[labels[i]][f'Corr{alpha}'] = corr_dims\n",
    "        dims[labels[i]][f'All imp dims{alpha}'] = list(set(lr_dims).intersection(perc_dims).intersection(corr_dims))"
   ]
  },
  {
   "cell_type": "markdown",
   "id": "fe9684dd",
   "metadata": {},
   "source": [
    "## Compute medians"
   ]
  },
  {
   "cell_type": "code",
   "execution_count": null,
   "id": "e3a6f982",
   "metadata": {},
   "outputs": [],
   "source": [
    "medians = {}"
   ]
  },
  {
   "cell_type": "code",
   "execution_count": null,
   "id": "0425348c",
   "metadata": {},
   "outputs": [],
   "source": [
    "for i in range(len(models)):\n",
    "    medians[labels[i]] = {}\n",
    "    for dim_group in dims[labels[i]].keys():\n",
    "        medians[labels[i]][dim_group] = {}\n",
    "        dim_list = dims[labels[i]][dim_group]\n",
    "        # Median of dimensions where feature vector is equal to 0\n",
    "        median_0 = X_adj_train[i][y_adj_train[i] == 0][dim_list].median()\n",
    "        # Median of dimensions where feature vector is equal to 1\n",
    "        median_1 = X_adj_train[i][y_adj_train[i] == 1][dim_list].median()\n",
    "        \n",
    "        medians[labels[i]][dim_group]['0'] = median_0\n",
    "        medians[labels[i]][dim_group]['1'] = median_1\n"
   ]
  },
  {
   "cell_type": "code",
   "execution_count": null,
   "id": "8875ab21",
   "metadata": {},
   "outputs": [],
   "source": [
    "dim_lens = {}\n",
    "\n",
    "for model in dims.keys():\n",
    "    dim_lens[model] = {}\n",
    "    for dim_group in dims[model].keys():\n",
    "        dim_lens[model][dim_group] = len(dims[model][dim_group])"
   ]
  },
  {
   "cell_type": "code",
   "execution_count": null,
   "id": "b5a5791a",
   "metadata": {},
   "outputs": [],
   "source": [
    "pd.DataFrame(dim_lens)"
   ]
  },
  {
   "cell_type": "markdown",
   "id": "874e69ad",
   "metadata": {},
   "source": [
    "## Compute predictions"
   ]
  },
  {
   "cell_type": "code",
   "execution_count": null,
   "id": "65aa14ae",
   "metadata": {},
   "outputs": [],
   "source": [
    "y_preds = {}"
   ]
  },
  {
   "cell_type": "code",
   "execution_count": null,
   "id": "0e2426b2",
   "metadata": {},
   "outputs": [],
   "source": [
    "for i in range(len(models)):\n",
    "    y_preds[labels[i]] = {}\n",
    "    for dim_group in dims[labels[i]].keys():\n",
    "        dim_list = dims[labels[i]][dim_group]\n",
    "        mae0 = X_adj_test[i][dim_list].apply(lambda x: mean_absolute_error(medians[labels[i]][dim_group]['0'], x), axis=1)\n",
    "        mae1 = X_adj_test[i][dim_list].apply(lambda x: mean_absolute_error(medians[labels[i]][dim_group]['1'], x), axis=1)\n",
    "        # If MSE for sample 0 is lower than for sample 1, the label should be 0. So we need to convert False to 0.\n",
    "        y_preds[labels[i]][dim_group] = (mae0 > mae1).apply(int)\n",
    "    "
   ]
  },
  {
   "cell_type": "markdown",
   "id": "fe460e37",
   "metadata": {},
   "source": [
    "## Compute accuracies"
   ]
  },
  {
   "cell_type": "code",
   "execution_count": null,
   "id": "ced4cadc",
   "metadata": {},
   "outputs": [],
   "source": [
    "accs = {}"
   ]
  },
  {
   "cell_type": "code",
   "execution_count": null,
   "id": "5c8c7976",
   "metadata": {},
   "outputs": [],
   "source": [
    "for i in range(len(models)):\n",
    "    accs[labels[i]] = {}\n",
    "    for dim_group in dims[labels[i]].keys():\n",
    "        y_true = y_adj_test[i]\n",
    "        y_pred = y_preds[labels[i]][dim_group]\n",
    "        if any(y_pred):\n",
    "            acc = accuracy_score(y_true, y_pred)\n",
    "        else:\n",
    "            acc = 0\n",
    "        accs[labels[i]][dim_group] = acc"
   ]
  },
  {
   "cell_type": "code",
   "execution_count": null,
   "id": "108f2eed",
   "metadata": {},
   "outputs": [],
   "source": [
    "accs_df = pd.DataFrame(accs)\n",
    "accs_df"
   ]
  },
  {
   "cell_type": "markdown",
   "id": "0ba001c6",
   "metadata": {},
   "source": [
    "We can show what is the accuracy gain for each dimension test comparison to using all dimensions:"
   ]
  },
  {
   "cell_type": "code",
   "execution_count": null,
   "id": "aa487cb8",
   "metadata": {},
   "outputs": [],
   "source": [
    "gains_df = (accs_df - accs_df.loc['All dims'])\n",
    "gains_df"
   ]
  },
  {
   "cell_type": "markdown",
   "id": "457b998e",
   "metadata": {},
   "source": [
    "Here are the dimension groups and the accuracy gain this dimension group provides over all dimensions:"
   ]
  },
  {
   "cell_type": "code",
   "execution_count": null,
   "id": "c923df66",
   "metadata": {},
   "outputs": [],
   "source": [
    "for i in range(len(models)):\n",
    "    print(labels[i], gains_df.idxmax()[i], gains_df.loc[gains_df.idxmax()[i], labels[i]])"
   ]
  },
  {
   "cell_type": "code",
   "execution_count": null,
   "id": "cde76344",
   "metadata": {},
   "outputs": [],
   "source": [
    "for i in range(len(models)):\n",
    "    print(labels[i], accs_df.idxmax()[i], accs_df.loc[accs_df.idxmax()[i], labels[i]])"
   ]
  },
  {
   "cell_type": "code",
   "execution_count": null,
   "id": "b60816b7",
   "metadata": {},
   "outputs": [],
   "source": [
    "if 'pos_adj.pickle' not in os.listdir('../Data/best_results/'):\n",
    "    best_res = {}\n",
    "    for label in labels:\n",
    "        best_res[label] = {}\n",
    "        best_res[label]['best_dim_set'] = []\n",
    "        best_res[label]['best_dims'] = []\n",
    "        best_res[label]['accs'] = []\n",
    "        best_res[label]['gains'] = []\n",
    "        best_res[label]['medians_0'] = []\n",
    "        best_res[label]['medians_1'] = []\n",
    "\n",
    "\n",
    "else:\n",
    "    with open('../Data/best_results/pos_adj.pickle', 'rb') as f:\n",
    "        best_res = pickle.load(f)"
   ]
  },
  {
   "cell_type": "code",
   "execution_count": null,
   "id": "26883d5d",
   "metadata": {},
   "outputs": [],
   "source": [
    "for i in range(len(models)):\n",
    "    best_res[labels[i]]['best_dim_set'].append(gains_df.idxmax()[i])\n",
    "    best_res[labels[i]]['best_dims'].append(dims[labels[i]][gains_df.idxmax()[i]])\n",
    "    best_res[labels[i]]['accs'].append(accs_df.loc[accs_df.idxmax()[i], labels[i]])\n",
    "    best_res[labels[i]]['gains'].append(gains_df.loc[gains_df.idxmax()[i], labels[i]])\n",
    "    best_res[labels[i]]['medians_0'].append(medians[labels[i]][accs_df.idxmax()[i]]['0'])\n",
    "    best_res[labels[i]]['medians_1'].append(medians[labels[i]][accs_df.idxmax()[i]]['1'])"
   ]
  },
  {
   "cell_type": "code",
   "execution_count": null,
   "id": "b6fbacbb",
   "metadata": {},
   "outputs": [],
   "source": [
    "with open('../Data/best_results/pos_adj.pickle', 'wb') as f:\n",
    "    pickle.dump(best_res, f)"
   ]
  },
  {
   "cell_type": "markdown",
   "id": "e55ba37b",
   "metadata": {},
   "source": [
    "# Conclusion"
   ]
  },
  {
   "cell_type": "code",
   "execution_count": null,
   "id": "154d5210",
   "metadata": {},
   "outputs": [],
   "source": []
  }
 ],
 "metadata": {
  "kernelspec": {
   "display_name": "Python 3 (ipykernel)",
   "language": "python",
   "name": "python3"
  },
  "language_info": {
   "codemirror_mode": {
    "name": "ipython",
    "version": 3
   },
   "file_extension": ".py",
   "mimetype": "text/x-python",
   "name": "python",
   "nbconvert_exporter": "python",
   "pygments_lexer": "ipython3",
   "version": "3.10.13"
  }
 },
 "nbformat": 4,
 "nbformat_minor": 5
}
