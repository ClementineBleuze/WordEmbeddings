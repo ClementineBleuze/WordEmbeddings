{
 "cells": [
  {
   "cell_type": "code",
   "execution_count": 2,
   "id": "ac006e29",
   "metadata": {},
   "outputs": [],
   "source": [
    "import sys\n",
    "sys.path.append('../Util')"
   ]
  },
  {
   "cell_type": "code",
   "execution_count": 3,
   "id": "b0f48d51",
   "metadata": {},
   "outputs": [],
   "source": [
    "from evaluation import aabcc, sig_props, correlation, lr, perceptron, kmeans_1dim, \\\n",
    "                     score_comparison, run_tests, report, dimensions_report, repeated_dimensions, \\\n",
    "                    kmeans_multi_dim\n",
    "from preparation import prepare_dataset, read_datasets"
   ]
  },
  {
   "cell_type": "code",
   "execution_count": 4,
   "id": "dbd6ace1",
   "metadata": {},
   "outputs": [],
   "source": [
    "from scipy.stats import f_oneway"
   ]
  },
  {
   "cell_type": "code",
   "execution_count": 5,
   "id": "2f0f0afb",
   "metadata": {},
   "outputs": [],
   "source": [
    "from sklearn.feature_selection import mutual_info_classif\n",
    "from sklearn.metrics import mean_absolute_error, accuracy_score"
   ]
  },
  {
   "cell_type": "code",
   "execution_count": 6,
   "id": "6e895408",
   "metadata": {},
   "outputs": [],
   "source": [
    "import pandas as pd\n",
    "import numpy as np\n",
    "from scipy.stats import shapiro\n",
    "import seaborn as sns\n",
    "import matplotlib.pyplot as plt"
   ]
  },
  {
   "cell_type": "code",
   "execution_count": 7,
   "id": "8b537ba6",
   "metadata": {},
   "outputs": [],
   "source": [
    "import warnings\n",
    "warnings.filterwarnings('ignore')"
   ]
  },
  {
   "cell_type": "markdown",
   "id": "72b74df3",
   "metadata": {},
   "source": [
    "Due to big size of WE files they are not uploaded to Github, but can instead be downloaded [here](https://drive.google.com/drive/folders/10Ea62GRlq4t7bq-nK9tPtYFu0kbCciey?usp=sharing).\n",
    "\n",
    "The code below expects a folder \"Data\" in the root folder containing all the information from the Google Drive."
   ]
  },
  {
   "cell_type": "code",
   "execution_count": 8,
   "id": "8faf03bd",
   "metadata": {},
   "outputs": [],
   "source": [
    "models = [\n",
    "    {\n",
    "        'name': 'flaubert/flaubert_small_cased',\n",
    "        'label': 'flau_small_c'\n",
    "    },\n",
    "    {\n",
    "    \n",
    "        'name': 'flaubert/flaubert_base_uncased', \n",
    "        'label': 'flau_base_u'\n",
    "\n",
    "    },\n",
    "    {\n",
    "        'name': 'flaubert/flaubert_base_cased',\n",
    "        'label': 'flau_base_c'\n",
    "    },\n",
    "    {\n",
    "        'name': 'flaubert/flaubert_large_cased',\n",
    "        'label': 'flau_large_c'\n",
    "    },\n",
    "    {\n",
    "        'name': 'camembert/camembert-base',\n",
    "        'label': 'cam_base'\n",
    "    },\n",
    "    {\n",
    "        'name': 'xlm-roberta-large',\n",
    "        'label': 'xlm_large'\n",
    "    },\n",
    "    {\n",
    "    \n",
    "        'name': 'xlm-roberta-base', \n",
    "        'label': 'xlm_base'\n",
    "\n",
    "    },\n",
    "    {\n",
    "        'name': 'bert-base-multilingual-uncased',\n",
    "        'label': 'bert_base_u'\n",
    "    },\n",
    "    {\n",
    "        'name': 'distilbert-base-multilingual-cased',\n",
    "        'label': 'distilbert_base'\n",
    "    },\n",
    "    {\n",
    "        'name': 'bert-base-multilingual-cased',\n",
    "        'label': 'bert_base_c'\n",
    "    }\n",
    "    \n",
    "]"
   ]
  },
  {
   "cell_type": "code",
   "execution_count": 9,
   "id": "a63e2e1e",
   "metadata": {},
   "outputs": [],
   "source": [
    "labels = [m['label'] for m in models]"
   ]
  },
  {
   "cell_type": "code",
   "execution_count": 10,
   "id": "ba233d98",
   "metadata": {},
   "outputs": [],
   "source": [
    "we_with_features = read_datasets(\n",
    "                            path = '../Data',\n",
    "                            model_labels = labels,\n",
    "                            file_name = 'all_unique_pos_we.csv'\n",
    "                    )"
   ]
  },
  {
   "cell_type": "code",
   "execution_count": 11,
   "id": "091c3a97",
   "metadata": {},
   "outputs": [
    {
     "data": {
      "text/html": [
       "<div>\n",
       "<style scoped>\n",
       "    .dataframe tbody tr th:only-of-type {\n",
       "        vertical-align: middle;\n",
       "    }\n",
       "\n",
       "    .dataframe tbody tr th {\n",
       "        vertical-align: top;\n",
       "    }\n",
       "\n",
       "    .dataframe thead th {\n",
       "        text-align: right;\n",
       "    }\n",
       "</style>\n",
       "<table border=\"1\" class=\"dataframe\">\n",
       "  <thead>\n",
       "    <tr style=\"text-align: right;\">\n",
       "      <th></th>\n",
       "      <th>0</th>\n",
       "      <th>1</th>\n",
       "      <th>2</th>\n",
       "      <th>3</th>\n",
       "      <th>4</th>\n",
       "      <th>5</th>\n",
       "      <th>6</th>\n",
       "      <th>7</th>\n",
       "      <th>8</th>\n",
       "      <th>9</th>\n",
       "      <th>...</th>\n",
       "      <th>764</th>\n",
       "      <th>765</th>\n",
       "      <th>766</th>\n",
       "      <th>767</th>\n",
       "      <th>Number</th>\n",
       "      <th>Gender</th>\n",
       "      <th>Lemma</th>\n",
       "      <th>POS</th>\n",
       "      <th>Tense</th>\n",
       "      <th>Person</th>\n",
       "    </tr>\n",
       "    <tr>\n",
       "      <th>Word</th>\n",
       "      <th></th>\n",
       "      <th></th>\n",
       "      <th></th>\n",
       "      <th></th>\n",
       "      <th></th>\n",
       "      <th></th>\n",
       "      <th></th>\n",
       "      <th></th>\n",
       "      <th></th>\n",
       "      <th></th>\n",
       "      <th></th>\n",
       "      <th></th>\n",
       "      <th></th>\n",
       "      <th></th>\n",
       "      <th></th>\n",
       "      <th></th>\n",
       "      <th></th>\n",
       "      <th></th>\n",
       "      <th></th>\n",
       "      <th></th>\n",
       "      <th></th>\n",
       "    </tr>\n",
       "  </thead>\n",
       "  <tbody>\n",
       "    <tr>\n",
       "      <th>2D</th>\n",
       "      <td>0.370462</td>\n",
       "      <td>-0.543173</td>\n",
       "      <td>0.313777</td>\n",
       "      <td>0.114062</td>\n",
       "      <td>0.105755</td>\n",
       "      <td>0.101263</td>\n",
       "      <td>0.047496</td>\n",
       "      <td>0.941036</td>\n",
       "      <td>-0.635094</td>\n",
       "      <td>0.351250</td>\n",
       "      <td>...</td>\n",
       "      <td>0.262812</td>\n",
       "      <td>-0.034462</td>\n",
       "      <td>0.003319</td>\n",
       "      <td>-0.339070</td>\n",
       "      <td>invariable</td>\n",
       "      <td>feminine</td>\n",
       "      <td>2D</td>\n",
       "      <td>NOUN</td>\n",
       "      <td>NaN</td>\n",
       "      <td>NaN</td>\n",
       "    </tr>\n",
       "    <tr>\n",
       "      <th>3D</th>\n",
       "      <td>0.354640</td>\n",
       "      <td>-0.545033</td>\n",
       "      <td>0.300138</td>\n",
       "      <td>0.125182</td>\n",
       "      <td>0.109215</td>\n",
       "      <td>0.103105</td>\n",
       "      <td>0.037388</td>\n",
       "      <td>0.945384</td>\n",
       "      <td>-0.627031</td>\n",
       "      <td>0.362873</td>\n",
       "      <td>...</td>\n",
       "      <td>0.266173</td>\n",
       "      <td>-0.040272</td>\n",
       "      <td>-0.011564</td>\n",
       "      <td>-0.345399</td>\n",
       "      <td>invariable</td>\n",
       "      <td>feminine</td>\n",
       "      <td>3D</td>\n",
       "      <td>NOUN</td>\n",
       "      <td>NaN</td>\n",
       "      <td>NaN</td>\n",
       "    </tr>\n",
       "    <tr>\n",
       "      <th>aa</th>\n",
       "      <td>0.350173</td>\n",
       "      <td>-0.535272</td>\n",
       "      <td>0.285707</td>\n",
       "      <td>0.138325</td>\n",
       "      <td>0.116959</td>\n",
       "      <td>0.096526</td>\n",
       "      <td>0.028733</td>\n",
       "      <td>0.941748</td>\n",
       "      <td>-0.610729</td>\n",
       "      <td>0.365452</td>\n",
       "      <td>...</td>\n",
       "      <td>0.266548</td>\n",
       "      <td>-0.035119</td>\n",
       "      <td>-0.017618</td>\n",
       "      <td>-0.364172</td>\n",
       "      <td>invariable</td>\n",
       "      <td>masculine</td>\n",
       "      <td>aa</td>\n",
       "      <td>NOUN</td>\n",
       "      <td>NaN</td>\n",
       "      <td>NaN</td>\n",
       "    </tr>\n",
       "    <tr>\n",
       "      <th>abandon</th>\n",
       "      <td>0.348776</td>\n",
       "      <td>-0.534598</td>\n",
       "      <td>0.285159</td>\n",
       "      <td>0.137568</td>\n",
       "      <td>0.115843</td>\n",
       "      <td>0.096030</td>\n",
       "      <td>0.028422</td>\n",
       "      <td>0.942982</td>\n",
       "      <td>-0.611038</td>\n",
       "      <td>0.366652</td>\n",
       "      <td>...</td>\n",
       "      <td>0.266958</td>\n",
       "      <td>-0.034558</td>\n",
       "      <td>-0.017089</td>\n",
       "      <td>-0.363497</td>\n",
       "      <td>singular</td>\n",
       "      <td>masculine</td>\n",
       "      <td>abandon</td>\n",
       "      <td>NOUN</td>\n",
       "      <td>NaN</td>\n",
       "      <td>NaN</td>\n",
       "    </tr>\n",
       "    <tr>\n",
       "      <th>abbaye</th>\n",
       "      <td>0.342727</td>\n",
       "      <td>-0.537595</td>\n",
       "      <td>0.289408</td>\n",
       "      <td>0.128580</td>\n",
       "      <td>0.121620</td>\n",
       "      <td>0.101963</td>\n",
       "      <td>0.029359</td>\n",
       "      <td>0.952322</td>\n",
       "      <td>-0.611914</td>\n",
       "      <td>0.365287</td>\n",
       "      <td>...</td>\n",
       "      <td>0.274898</td>\n",
       "      <td>-0.035381</td>\n",
       "      <td>-0.019363</td>\n",
       "      <td>-0.353987</td>\n",
       "      <td>singular</td>\n",
       "      <td>feminine</td>\n",
       "      <td>abbaye</td>\n",
       "      <td>NOUN</td>\n",
       "      <td>NaN</td>\n",
       "      <td>NaN</td>\n",
       "    </tr>\n",
       "  </tbody>\n",
       "</table>\n",
       "<p>5 rows × 774 columns</p>\n",
       "</div>"
      ],
      "text/plain": [
       "                0         1         2         3         4         5         6  \\\n",
       "Word                                                                            \n",
       "2D       0.370462 -0.543173  0.313777  0.114062  0.105755  0.101263  0.047496   \n",
       "3D       0.354640 -0.545033  0.300138  0.125182  0.109215  0.103105  0.037388   \n",
       "aa       0.350173 -0.535272  0.285707  0.138325  0.116959  0.096526  0.028733   \n",
       "abandon  0.348776 -0.534598  0.285159  0.137568  0.115843  0.096030  0.028422   \n",
       "abbaye   0.342727 -0.537595  0.289408  0.128580  0.121620  0.101963  0.029359   \n",
       "\n",
       "                7         8         9  ...       764       765       766  \\\n",
       "Word                                   ...                                 \n",
       "2D       0.941036 -0.635094  0.351250  ...  0.262812 -0.034462  0.003319   \n",
       "3D       0.945384 -0.627031  0.362873  ...  0.266173 -0.040272 -0.011564   \n",
       "aa       0.941748 -0.610729  0.365452  ...  0.266548 -0.035119 -0.017618   \n",
       "abandon  0.942982 -0.611038  0.366652  ...  0.266958 -0.034558 -0.017089   \n",
       "abbaye   0.952322 -0.611914  0.365287  ...  0.274898 -0.035381 -0.019363   \n",
       "\n",
       "              767      Number     Gender    Lemma   POS  Tense  Person  \n",
       "Word                                                                    \n",
       "2D      -0.339070  invariable   feminine       2D  NOUN    NaN     NaN  \n",
       "3D      -0.345399  invariable   feminine       3D  NOUN    NaN     NaN  \n",
       "aa      -0.364172  invariable  masculine       aa  NOUN    NaN     NaN  \n",
       "abandon -0.363497    singular  masculine  abandon  NOUN    NaN     NaN  \n",
       "abbaye  -0.353987    singular   feminine   abbaye  NOUN    NaN     NaN  \n",
       "\n",
       "[5 rows x 774 columns]"
      ]
     },
     "execution_count": 11,
     "metadata": {},
     "output_type": "execute_result"
    }
   ],
   "source": [
    "we_with_features[-1].head()"
   ]
  },
  {
   "cell_type": "code",
   "execution_count": 12,
   "id": "78b413ef",
   "metadata": {},
   "outputs": [],
   "source": [
    "# There are 6 extra feautres in addition to embedding dimensions in the file: number, gender, lemma, pos, tense,\n",
    "# person\n",
    "feature_col_count = 6\n",
    "\n",
    "# Feature to investigate in this notebook\n",
    "feature = 'Gender'"
   ]
  },
  {
   "cell_type": "markdown",
   "id": "5da06780",
   "metadata": {},
   "source": [
    "# Methodology"
   ]
  },
  {
   "cell_type": "markdown",
   "id": "aea6d134",
   "metadata": {},
   "source": [
    "1. Exclude datapoints with undefined feature values (e.g. Gender = `invariable`)\n",
    "2. Encode a grammatical feature as binary (e.g. Gender = 0 if masculine and 1 if feminine) (feature vector)\n",
    "3. Shuffle the data set\n",
    "4. Separate the dataset into 80% \"training\" and 20% test data\n",
    "5. For each dimension in the test dataset measure if the dimension values are dependent on the grammatic feature\n",
    "* Using [ANOVA](https://docs.scipy.org/doc/scipy/reference/generated/scipy.stats.f_oneway.html): The data is split into 2 samples, all dimension values when the grammatical feature is 0 and when it's equal to 1.\n",
    "* Using [Mutual Information](https://scikit-learn.org/stable/modules/generated/sklearn.feature_selection.mutual_info_classif.html)\n",
    "6. For each dimension highlighted during step #5 find medians for 2 subgroups: when the grammatical feature == 0 and when it == 1.\n",
    "7. For each word in the test dataset, find the predicted label using MAE using medians of the dimensions from #6.\n",
    "8. Compute accuracy on the training dataset."
   ]
  },
  {
   "cell_type": "markdown",
   "id": "e19bbb6b",
   "metadata": {},
   "source": [
    "We assume that achieved accuracies can be an efficient way of comparing the quality of grammatical information encoding in the word embeddings.\n",
    "\n",
    "The experiments for `Gender` and `Number` will be performed for \"nouns only\", \"adjectives only\" and \"nouns and adjectives\" combined."
   ]
  },
  {
   "cell_type": "markdown",
   "id": "4a83a760",
   "metadata": {},
   "source": [
    "# Nouns"
   ]
  },
  {
   "cell_type": "code",
   "execution_count": 13,
   "id": "99bc1ecc",
   "metadata": {},
   "outputs": [],
   "source": [
    "# We start the experiment with nouns only\n",
    "pos = ['NOUN']"
   ]
  },
  {
   "cell_type": "code",
   "execution_count": 14,
   "id": "b07b0bb4",
   "metadata": {},
   "outputs": [],
   "source": [
    "X_noun_train = []\n",
    "y_noun_train = []\n",
    "\n",
    "X_noun_test = []\n",
    "y_noun_test = []"
   ]
  },
  {
   "cell_type": "code",
   "execution_count": 15,
   "id": "70563c6b",
   "metadata": {},
   "outputs": [],
   "source": [
    "for we in we_with_features:\n",
    "    xtr, xtst, ytr, ytst = prepare_dataset(dataset=we[(we.Gender != 'invariable') & (we.Number != 'invariable') & (we.POS.isin(pos))],\n",
    "                                          feature_col_count=feature_col_count,\n",
    "                                          feature_name=feature,\n",
    "                                          encode=True,\n",
    "                                          split=True)\n",
    "    X_noun_train.append(xtr)\n",
    "    X_noun_test.append(xtst)\n",
    "    \n",
    "    y_noun_train.append(ytr)\n",
    "    y_noun_test.append(ytst)"
   ]
  },
  {
   "cell_type": "markdown",
   "id": "c91ddfb0",
   "metadata": {},
   "source": [
    "### Compute ANOVA"
   ]
  },
  {
   "cell_type": "markdown",
   "id": "e9eed918",
   "metadata": {},
   "source": [
    "We split each dimension into 2 samples: feminine nouns and masculine nouns. ANOVA test is used to assess if the population means are the same.\n",
    "\n",
    "If the population means are not the same, we can make an assumption that the gender information affects the distribution of values in the given dimension.\n",
    "\n",
    "If p-value < 0.001, reject the null hypothesis."
   ]
  },
  {
   "cell_type": "code",
   "execution_count": 16,
   "id": "3596e0b4",
   "metadata": {},
   "outputs": [],
   "source": [
    "pv_threshold = 0.01"
   ]
  },
  {
   "cell_type": "code",
   "execution_count": 17,
   "id": "73edb1e4",
   "metadata": {},
   "outputs": [],
   "source": [
    "anova_dims = []"
   ]
  },
  {
   "cell_type": "code",
   "execution_count": 18,
   "id": "c2cc630e",
   "metadata": {},
   "outputs": [],
   "source": [
    "for i in range(len(models)):\n",
    "    model_dims = []\n",
    "    for dim in X_noun_train[i].columns:\n",
    "        sample1 = [x[0] for x in zip(X_noun_train[i][dim], y_noun_train[i]) if x[1] == 0]\n",
    "        sample2 = [x[0] for x in zip(X_noun_train[i][dim], y_noun_train[i]) if x[1] == 1]\n",
    "        if f_oneway(sample1, sample2).pvalue < pv_threshold:\n",
    "            model_dims.append(dim)\n",
    "    anova_dims.append(model_dims)"
   ]
  },
  {
   "cell_type": "markdown",
   "id": "bcc5b5d3",
   "metadata": {},
   "source": [
    "We can see that a very large amount of dimensions appear to be highlighted by the test:"
   ]
  },
  {
   "cell_type": "code",
   "execution_count": 19,
   "id": "a1d86239",
   "metadata": {},
   "outputs": [
    {
     "name": "stdout",
     "output_type": "stream",
     "text": [
      "flau_small_c:\n",
      "Total dimensions 512\n",
      "ANOVA dimensions: 336\n",
      "\n",
      "flau_base_u:\n",
      "Total dimensions 768\n",
      "ANOVA dimensions: 236\n",
      "\n",
      "flau_base_c:\n",
      "Total dimensions 768\n",
      "ANOVA dimensions: 305\n",
      "\n",
      "flau_large_c:\n",
      "Total dimensions 1024\n",
      "ANOVA dimensions: 776\n",
      "\n",
      "cam_base:\n",
      "Total dimensions 768\n",
      "ANOVA dimensions: 149\n",
      "\n",
      "xlm_large:\n",
      "Total dimensions 1024\n",
      "ANOVA dimensions: 491\n",
      "\n",
      "xlm_base:\n",
      "Total dimensions 768\n",
      "ANOVA dimensions: 637\n",
      "\n",
      "bert_base_u:\n",
      "Total dimensions 768\n",
      "ANOVA dimensions: 15\n",
      "\n",
      "distilbert_base:\n",
      "Total dimensions 768\n",
      "ANOVA dimensions: 231\n",
      "\n",
      "bert_base_c:\n",
      "Total dimensions 768\n",
      "ANOVA dimensions: 1\n",
      "\n"
     ]
    }
   ],
   "source": [
    "for i in range(len(models)):\n",
    "    print(f'{models[i][\"label\"]}:\\nTotal dimensions {len(X_noun_train[i].columns)}\\nANOVA dimensions: {len(anova_dims[i])}\\n')"
   ]
  },
  {
   "cell_type": "markdown",
   "id": "d867da94",
   "metadata": {},
   "source": [
    "### Compute Mutual Information"
   ]
  },
  {
   "cell_type": "markdown",
   "id": "488513e3",
   "metadata": {},
   "source": [
    "If mutual information is 0, we can consider that a given dimension is independent from Gender information.\n",
    "\n",
    "If MI > 0, we can't consider the dimension completely independent and it could encode the Gender information."
   ]
  },
  {
   "cell_type": "code",
   "execution_count": 20,
   "id": "ad7be602",
   "metadata": {},
   "outputs": [],
   "source": [
    "mi_dims = []"
   ]
  },
  {
   "cell_type": "code",
   "execution_count": 21,
   "id": "455215aa",
   "metadata": {},
   "outputs": [],
   "source": [
    "for i in range(len(models)):\n",
    "    res = mutual_info_classif(X_noun_train[i], y_noun_train[i], discrete_features=[False]*len(X_noun_train[i].columns))\n",
    "    non_indep_dims = [str(x[0]) for x in np.argwhere(res > 0)]\n",
    "    mi_dims.append(non_indep_dims)"
   ]
  },
  {
   "cell_type": "markdown",
   "id": "9a327f1f",
   "metadata": {},
   "source": [
    "Overall, threshold of 0 finds much more dimensions. This could be potentially addressed with a different threshold."
   ]
  },
  {
   "cell_type": "code",
   "execution_count": 22,
   "id": "b05902a0",
   "metadata": {},
   "outputs": [
    {
     "name": "stdout",
     "output_type": "stream",
     "text": [
      "flau_small_c:\n",
      "    Total dimensions 512\n",
      "    ANOVA dimensions: 336\n",
      "    Mutual Information dimension: 318\n",
      "\n",
      "\n",
      "flau_base_u:\n",
      "    Total dimensions 768\n",
      "    ANOVA dimensions: 236\n",
      "    Mutual Information dimension: 431\n",
      "\n",
      "\n",
      "flau_base_c:\n",
      "    Total dimensions 768\n",
      "    ANOVA dimensions: 305\n",
      "    Mutual Information dimension: 434\n",
      "\n",
      "\n",
      "flau_large_c:\n",
      "    Total dimensions 1024\n",
      "    ANOVA dimensions: 776\n",
      "    Mutual Information dimension: 725\n",
      "\n",
      "\n",
      "cam_base:\n",
      "    Total dimensions 768\n",
      "    ANOVA dimensions: 149\n",
      "    Mutual Information dimension: 460\n",
      "\n",
      "\n",
      "xlm_large:\n",
      "    Total dimensions 1024\n",
      "    ANOVA dimensions: 491\n",
      "    Mutual Information dimension: 631\n",
      "\n",
      "\n",
      "xlm_base:\n",
      "    Total dimensions 768\n",
      "    ANOVA dimensions: 637\n",
      "    Mutual Information dimension: 425\n",
      "\n",
      "\n",
      "bert_base_u:\n",
      "    Total dimensions 768\n",
      "    ANOVA dimensions: 15\n",
      "    Mutual Information dimension: 595\n",
      "\n",
      "\n",
      "distilbert_base:\n",
      "    Total dimensions 768\n",
      "    ANOVA dimensions: 231\n",
      "    Mutual Information dimension: 416\n",
      "\n",
      "\n",
      "bert_base_c:\n",
      "    Total dimensions 768\n",
      "    ANOVA dimensions: 1\n",
      "    Mutual Information dimension: 469\n",
      "\n",
      "\n"
     ]
    }
   ],
   "source": [
    "for i in range(len(models)):\n",
    "    print(f\"\"\"{models[i]['label']}:\n",
    "    Total dimensions {len(X_noun_train[i].columns)}\n",
    "    ANOVA dimensions: {len(anova_dims[i])}\n",
    "    Mutual Information dimension: {len(mi_dims[i])}\\n\\n\"\"\")"
   ]
  },
  {
   "cell_type": "markdown",
   "id": "e7af43dc",
   "metadata": {},
   "source": [
    "For now, for each model we select only dimensions that are potentially dependent on the gender information and found by the both tests."
   ]
  },
  {
   "cell_type": "code",
   "execution_count": 23,
   "id": "4d64f72d",
   "metadata": {},
   "outputs": [],
   "source": [
    "mi_annova_dims = [set(anova_dims[i]).intersection(mi_dims[i]) for i in range(len(models))]"
   ]
  },
  {
   "cell_type": "markdown",
   "id": "afc2a713",
   "metadata": {},
   "source": [
    "Final number of dimensions that we can consider not independent from the gender information for each model:"
   ]
  },
  {
   "cell_type": "code",
   "execution_count": 24,
   "id": "dae8ad57",
   "metadata": {},
   "outputs": [
    {
     "name": "stdout",
     "output_type": "stream",
     "text": [
      "flau_small_c: 219\n",
      "flau_base_u: 146\n",
      "flau_base_c: 187\n",
      "flau_large_c: 601\n",
      "cam_base: 96\n",
      "xlm_large: 340\n",
      "xlm_base: 362\n",
      "bert_base_u: 12\n",
      "distilbert_base: 145\n",
      "bert_base_c: 1\n"
     ]
    }
   ],
   "source": [
    "for i in range(len(models)):\n",
    "    print(f'{models[i][\"label\"]}: {len(mi_annova_dims[i])}')"
   ]
  },
  {
   "cell_type": "markdown",
   "id": "666804dc",
   "metadata": {},
   "source": [
    "### Compute medians"
   ]
  },
  {
   "cell_type": "markdown",
   "id": "572430ac",
   "metadata": {},
   "source": [
    "We can try making predictions using the following dimensions:\n",
    "- All dimensions of WE (as the baseline)\n",
    "- Using the dimensions found in the ANOVA test\n",
    "- Using the dimensions found in the Mutual Information test\n",
    "- Using dimensions found in the both test\n",
    "\n",
    "To make such predictions we will:\n",
    "- Compute medians of class 1 and class 0 using only selected dimensions\n",
    "- For each word in the test set compute its label by finding MAE in comparison to the the median\n",
    "- Assign the label of the class with the smallest MAE"
   ]
  },
  {
   "cell_type": "code",
   "execution_count": 25,
   "id": "07503183",
   "metadata": {},
   "outputs": [],
   "source": [
    "medians_all = []"
   ]
  },
  {
   "cell_type": "code",
   "execution_count": 27,
   "id": "3cfc73f9",
   "metadata": {},
   "outputs": [],
   "source": [
    "for i in range(len(models)):\n",
    "    medians_df = pd.DataFrame(columns=['median_0', 'median_1'])\n",
    "    medians_df['median_0'] = X_noun_train[i][y_noun_train[i] == 0].median()\n",
    "    medians_df['median_1'] = X_noun_train[i][y_noun_train[i] == 1].median()\n",
    "    medians_all.append(medians_df)"
   ]
  },
  {
   "cell_type": "code",
   "execution_count": 28,
   "id": "fd07180e",
   "metadata": {},
   "outputs": [],
   "source": [
    "medians_anova = []"
   ]
  },
  {
   "cell_type": "code",
   "execution_count": 29,
   "id": "43c8826d",
   "metadata": {},
   "outputs": [],
   "source": [
    "for i in range(len(models)):\n",
    "    medians_df = pd.DataFrame(columns=['median_0', 'median_1'])\n",
    "    medians_df['median_0'] = X_noun_train[i][y_noun_train[i] == 0][list(anova_dims[i])].median()\n",
    "    medians_df['median_1'] = X_noun_train[i][y_noun_train[i] == 1][list(anova_dims[i])].median()\n",
    "    medians_anova.append(medians_df)"
   ]
  },
  {
   "cell_type": "code",
   "execution_count": 30,
   "id": "fb2682f5",
   "metadata": {},
   "outputs": [],
   "source": [
    "medians_mi = []"
   ]
  },
  {
   "cell_type": "code",
   "execution_count": 32,
   "id": "5ab5056e",
   "metadata": {},
   "outputs": [],
   "source": [
    "for i in range(len(models)):\n",
    "    medians_df = pd.DataFrame(columns=['median_0', 'median_1'])\n",
    "    medians_df['median_0'] = X_noun_train[i][y_noun_train[i] == 0][list(mi_dims[i])].median()\n",
    "    medians_df['median_1'] = X_noun_train[i][y_noun_train[i] == 1][list(mi_dims[i])].median()\n",
    "    medians_mi.append(medians_df)"
   ]
  },
  {
   "cell_type": "code",
   "execution_count": 33,
   "id": "22ec70af",
   "metadata": {},
   "outputs": [],
   "source": [
    "medians_combined = []"
   ]
  },
  {
   "cell_type": "code",
   "execution_count": 34,
   "id": "9ce21478",
   "metadata": {},
   "outputs": [],
   "source": [
    "for i in range(len(models)):\n",
    "    medians_df = pd.DataFrame(columns=['median_0', 'median_1'])\n",
    "    medians_df['median_0'] = X_noun_train[i][y_noun_train[i] == 0][list(mi_annova_dims[i])].median()\n",
    "    medians_df['median_1'] = X_noun_train[i][y_noun_train[i] == 1][list(mi_annova_dims[i])].median()\n",
    "    medians_combined.append(medians_df)"
   ]
  },
  {
   "cell_type": "code",
   "execution_count": 35,
   "id": "d276c5ce",
   "metadata": {},
   "outputs": [
    {
     "data": {
      "text/html": [
       "<div>\n",
       "<style scoped>\n",
       "    .dataframe tbody tr th:only-of-type {\n",
       "        vertical-align: middle;\n",
       "    }\n",
       "\n",
       "    .dataframe tbody tr th {\n",
       "        vertical-align: top;\n",
       "    }\n",
       "\n",
       "    .dataframe thead th {\n",
       "        text-align: right;\n",
       "    }\n",
       "</style>\n",
       "<table border=\"1\" class=\"dataframe\">\n",
       "  <thead>\n",
       "    <tr style=\"text-align: right;\">\n",
       "      <th></th>\n",
       "      <th>median_0</th>\n",
       "      <th>median_1</th>\n",
       "    </tr>\n",
       "  </thead>\n",
       "  <tbody>\n",
       "    <tr>\n",
       "      <th>233</th>\n",
       "      <td>0.491430</td>\n",
       "      <td>0.489383</td>\n",
       "    </tr>\n",
       "    <tr>\n",
       "      <th>249</th>\n",
       "      <td>0.452455</td>\n",
       "      <td>0.468181</td>\n",
       "    </tr>\n",
       "    <tr>\n",
       "      <th>594</th>\n",
       "      <td>0.531762</td>\n",
       "      <td>0.516457</td>\n",
       "    </tr>\n",
       "    <tr>\n",
       "      <th>45</th>\n",
       "      <td>0.477513</td>\n",
       "      <td>0.465895</td>\n",
       "    </tr>\n",
       "    <tr>\n",
       "      <th>166</th>\n",
       "      <td>0.487703</td>\n",
       "      <td>0.481313</td>\n",
       "    </tr>\n",
       "    <tr>\n",
       "      <th>...</th>\n",
       "      <td>...</td>\n",
       "      <td>...</td>\n",
       "    </tr>\n",
       "    <tr>\n",
       "      <th>755</th>\n",
       "      <td>0.490334</td>\n",
       "      <td>0.479075</td>\n",
       "    </tr>\n",
       "    <tr>\n",
       "      <th>427</th>\n",
       "      <td>0.557225</td>\n",
       "      <td>0.546022</td>\n",
       "    </tr>\n",
       "    <tr>\n",
       "      <th>583</th>\n",
       "      <td>0.484613</td>\n",
       "      <td>0.468212</td>\n",
       "    </tr>\n",
       "    <tr>\n",
       "      <th>231</th>\n",
       "      <td>0.475296</td>\n",
       "      <td>0.461325</td>\n",
       "    </tr>\n",
       "    <tr>\n",
       "      <th>98</th>\n",
       "      <td>0.504165</td>\n",
       "      <td>0.514469</td>\n",
       "    </tr>\n",
       "  </tbody>\n",
       "</table>\n",
       "<p>146 rows × 2 columns</p>\n",
       "</div>"
      ],
      "text/plain": [
       "     median_0  median_1\n",
       "233  0.491430  0.489383\n",
       "249  0.452455  0.468181\n",
       "594  0.531762  0.516457\n",
       "45   0.477513  0.465895\n",
       "166  0.487703  0.481313\n",
       "..        ...       ...\n",
       "755  0.490334  0.479075\n",
       "427  0.557225  0.546022\n",
       "583  0.484613  0.468212\n",
       "231  0.475296  0.461325\n",
       "98   0.504165  0.514469\n",
       "\n",
       "[146 rows x 2 columns]"
      ]
     },
     "execution_count": 35,
     "metadata": {},
     "output_type": "execute_result"
    }
   ],
   "source": [
    "medians_combined[1]"
   ]
  },
  {
   "cell_type": "markdown",
   "id": "8fbe5f06",
   "metadata": {},
   "source": [
    "### Predict label for test set using MAE"
   ]
  },
  {
   "cell_type": "code",
   "execution_count": 36,
   "id": "8ae32713",
   "metadata": {},
   "outputs": [],
   "source": [
    "y_preds_all = []"
   ]
  },
  {
   "cell_type": "code",
   "execution_count": 38,
   "id": "4749af16",
   "metadata": {},
   "outputs": [],
   "source": [
    "for i in range(len(models)):\n",
    "    mae0 = X_noun_test[i].apply(lambda x: mean_absolute_error(medians_all[i]['median_0'], x), axis=1)\n",
    "    mae1 = X_noun_test[i].apply(lambda x: mean_absolute_error(medians_all[i]['median_1'], x), axis=1)\n",
    "    # If MAE for sample 0 is lower than for sample 1, the label should be 0. So we need to convert False to 0.\n",
    "    y_pred = (mae0 > mae1).apply(int)\n",
    "    y_preds_all.append(y_pred)"
   ]
  },
  {
   "cell_type": "code",
   "execution_count": 41,
   "id": "e4906c1f",
   "metadata": {},
   "outputs": [],
   "source": [
    "y_preds_anova = []"
   ]
  },
  {
   "cell_type": "code",
   "execution_count": 42,
   "id": "3db4b0e1",
   "metadata": {},
   "outputs": [],
   "source": [
    "for i in range(len(models)):\n",
    "    mae0 = X_noun_test[i][list(anova_dims[i])].apply(lambda x: mean_absolute_error(medians_anova[i]['median_0'], x), axis=1)\n",
    "    mae1 = X_noun_test[i][list(anova_dims[i])].apply(lambda x: mean_absolute_error(medians_anova[i]['median_1'], x), axis=1)\n",
    "    # If MSE for sample 0 is lower than for sample 1, the label should be 0. So we need to convert False to 0.\n",
    "    y_pred = (mae0 > mae1).apply(int)\n",
    "    y_preds_anova.append(y_pred)"
   ]
  },
  {
   "cell_type": "code",
   "execution_count": 43,
   "id": "89d34d9a",
   "metadata": {},
   "outputs": [],
   "source": [
    "y_preds_mi = []"
   ]
  },
  {
   "cell_type": "code",
   "execution_count": 44,
   "id": "42c2e6d2",
   "metadata": {},
   "outputs": [],
   "source": [
    "for i in range(len(models)):\n",
    "    mae0 = X_noun_test[i][list(mi_dims[i])].apply(lambda x: mean_absolute_error(medians_mi[i]['median_0'], x), axis=1)\n",
    "    mae1 = X_noun_test[i][list(mi_dims[i])].apply(lambda x: mean_absolute_error(medians_mi[i]['median_1'], x), axis=1)\n",
    "    # If MSE for sample 0 is lower than for sample 1, the label should be 0. So we need to convert False to 0.\n",
    "    y_pred = (mae0 > mae1).apply(int)\n",
    "    y_preds_mi.append(y_pred)"
   ]
  },
  {
   "cell_type": "code",
   "execution_count": 45,
   "id": "d919a509",
   "metadata": {},
   "outputs": [],
   "source": [
    "y_preds_combined = []"
   ]
  },
  {
   "cell_type": "code",
   "execution_count": 46,
   "id": "f83649f1",
   "metadata": {},
   "outputs": [],
   "source": [
    "for i in range(len(models)):\n",
    "    mae0 = X_noun_test[i][list(mi_annova_dims[i])].apply(lambda x: mean_absolute_error(medians_combined[i]['median_0'], x), axis=1)\n",
    "    mae1 = X_noun_test[i][list(mi_annova_dims[i])].apply(lambda x: mean_absolute_error(medians_combined[i]['median_1'], x), axis=1)\n",
    "    # If MSE for sample 0 is lower than for sample 1, the label should be 0. So we need to convert False to 0.\n",
    "    y_pred = (mae0 > mae1).apply(int)\n",
    "    y_preds_combined.append(y_pred)"
   ]
  },
  {
   "cell_type": "markdown",
   "id": "3ab44bc8",
   "metadata": {},
   "source": [
    "### Compute accuracy"
   ]
  },
  {
   "cell_type": "code",
   "execution_count": 56,
   "id": "f7f12c52",
   "metadata": {},
   "outputs": [],
   "source": [
    "accs_noun_df = pd.DataFrame(columns=['All dims', 'ANOVA dims', 'MI dims', 'Combined dims'], index=[m['label'] for m in models])"
   ]
  },
  {
   "cell_type": "code",
   "execution_count": 57,
   "id": "21a0b006",
   "metadata": {},
   "outputs": [],
   "source": [
    "for i in range(len(models)):\n",
    "    accs_noun_df.loc[models[i]['label'], 'All dims'] = accuracy_score(y_noun_test[i], y_preds_all[i])\n",
    "    \n",
    "    if len(y_preds_anova[i]) >= 1:\n",
    "        accs_noun_df.loc[models[i]['label'], 'ANOVA dims'] = accuracy_score(y_noun_test[i], y_preds_anova[i])\n",
    "    else: \n",
    "        accs_noun_df.loc[models[i]['label'], 'ANOVA dims'] = 0\n",
    "    \n",
    "    if len(y_preds_mi[i]) >= 1:\n",
    "        accs_noun_df.loc[models[i]['label'], 'MI dims'] = accuracy_score(y_noun_test[i], y_preds_mi[i])\n",
    "    else:\n",
    "        accs_noun_df.loc[models[i]['label'], 'MI dims'] = 0\n",
    "    \n",
    "    if len(y_preds_combined[i]) >= 1:\n",
    "        accs_noun_df.loc[models[i]['label'], 'Combined dims'] = accuracy_score(y_noun_test[i], y_preds_combined[i])\n",
    "    else:\n",
    "        accs_noun_df.loc[models[i]['label'], 'Combined dims'] = 0"
   ]
  },
  {
   "cell_type": "code",
   "execution_count": 58,
   "id": "8a5128ae",
   "metadata": {},
   "outputs": [
    {
     "data": {
      "text/html": [
       "<div>\n",
       "<style scoped>\n",
       "    .dataframe tbody tr th:only-of-type {\n",
       "        vertical-align: middle;\n",
       "    }\n",
       "\n",
       "    .dataframe tbody tr th {\n",
       "        vertical-align: top;\n",
       "    }\n",
       "\n",
       "    .dataframe thead th {\n",
       "        text-align: right;\n",
       "    }\n",
       "</style>\n",
       "<table border=\"1\" class=\"dataframe\">\n",
       "  <thead>\n",
       "    <tr style=\"text-align: right;\">\n",
       "      <th></th>\n",
       "      <th>All dims</th>\n",
       "      <th>ANOVA dims</th>\n",
       "      <th>MI dims</th>\n",
       "      <th>Combined dims</th>\n",
       "    </tr>\n",
       "  </thead>\n",
       "  <tbody>\n",
       "    <tr>\n",
       "      <th>flau_small_c</th>\n",
       "      <td>0.729958</td>\n",
       "      <td>0.729958</td>\n",
       "      <td>0.726341</td>\n",
       "      <td>0.727547</td>\n",
       "    </tr>\n",
       "    <tr>\n",
       "      <th>flau_base_u</th>\n",
       "      <td>0.580426</td>\n",
       "      <td>0.581395</td>\n",
       "      <td>0.577519</td>\n",
       "      <td>0.58188</td>\n",
       "    </tr>\n",
       "    <tr>\n",
       "      <th>flau_base_c</th>\n",
       "      <td>0.600362</td>\n",
       "      <td>0.629898</td>\n",
       "      <td>0.605184</td>\n",
       "      <td>0.62387</td>\n",
       "    </tr>\n",
       "    <tr>\n",
       "      <th>flau_large_c</th>\n",
       "      <td>0.901145</td>\n",
       "      <td>0.901748</td>\n",
       "      <td>0.895118</td>\n",
       "      <td>0.895118</td>\n",
       "    </tr>\n",
       "    <tr>\n",
       "      <th>cam_base</th>\n",
       "      <td>0.51578</td>\n",
       "      <td>0.520289</td>\n",
       "      <td>0.51578</td>\n",
       "      <td>0.52119</td>\n",
       "    </tr>\n",
       "    <tr>\n",
       "      <th>xlm_large</th>\n",
       "      <td>0.523422</td>\n",
       "      <td>0.531568</td>\n",
       "      <td>0.529532</td>\n",
       "      <td>0.531568</td>\n",
       "    </tr>\n",
       "    <tr>\n",
       "      <th>xlm_base</th>\n",
       "      <td>0.498982</td>\n",
       "      <td>0.501018</td>\n",
       "      <td>0.498982</td>\n",
       "      <td>0.503055</td>\n",
       "    </tr>\n",
       "    <tr>\n",
       "      <th>bert_base_u</th>\n",
       "      <td>0.507429</td>\n",
       "      <td>0.501714</td>\n",
       "      <td>0.507429</td>\n",
       "      <td>0.507429</td>\n",
       "    </tr>\n",
       "    <tr>\n",
       "      <th>distilbert_base</th>\n",
       "      <td>0.556962</td>\n",
       "      <td>0.576854</td>\n",
       "      <td>0.564195</td>\n",
       "      <td>0.56962</td>\n",
       "    </tr>\n",
       "    <tr>\n",
       "      <th>bert_base_c</th>\n",
       "      <td>0.567812</td>\n",
       "      <td>0.555154</td>\n",
       "      <td>0.567812</td>\n",
       "      <td>0.555154</td>\n",
       "    </tr>\n",
       "  </tbody>\n",
       "</table>\n",
       "</div>"
      ],
      "text/plain": [
       "                 All dims ANOVA dims   MI dims Combined dims\n",
       "flau_small_c     0.729958   0.729958  0.726341      0.727547\n",
       "flau_base_u      0.580426   0.581395  0.577519       0.58188\n",
       "flau_base_c      0.600362   0.629898  0.605184       0.62387\n",
       "flau_large_c     0.901145   0.901748  0.895118      0.895118\n",
       "cam_base          0.51578   0.520289   0.51578       0.52119\n",
       "xlm_large        0.523422   0.531568  0.529532      0.531568\n",
       "xlm_base         0.498982   0.501018  0.498982      0.503055\n",
       "bert_base_u      0.507429   0.501714  0.507429      0.507429\n",
       "distilbert_base  0.556962   0.576854  0.564195       0.56962\n",
       "bert_base_c      0.567812   0.555154  0.567812      0.555154"
      ]
     },
     "execution_count": 58,
     "metadata": {},
     "output_type": "execute_result"
    }
   ],
   "source": [
    "accs_noun_df"
   ]
  },
  {
   "cell_type": "code",
   "execution_count": 60,
   "id": "d41a4ce1",
   "metadata": {},
   "outputs": [
    {
     "data": {
      "text/html": [
       "<div>\n",
       "<style scoped>\n",
       "    .dataframe tbody tr th:only-of-type {\n",
       "        vertical-align: middle;\n",
       "    }\n",
       "\n",
       "    .dataframe tbody tr th {\n",
       "        vertical-align: top;\n",
       "    }\n",
       "\n",
       "    .dataframe thead th {\n",
       "        text-align: right;\n",
       "    }\n",
       "</style>\n",
       "<table border=\"1\" class=\"dataframe\">\n",
       "  <thead>\n",
       "    <tr style=\"text-align: right;\">\n",
       "      <th></th>\n",
       "      <th>median_0</th>\n",
       "      <th>median_1</th>\n",
       "    </tr>\n",
       "  </thead>\n",
       "  <tbody>\n",
       "    <tr>\n",
       "      <th>0</th>\n",
       "      <td>0.429337</td>\n",
       "      <td>0.418281</td>\n",
       "    </tr>\n",
       "    <tr>\n",
       "      <th>1</th>\n",
       "      <td>0.564280</td>\n",
       "      <td>0.539976</td>\n",
       "    </tr>\n",
       "    <tr>\n",
       "      <th>2</th>\n",
       "      <td>0.481558</td>\n",
       "      <td>0.510774</td>\n",
       "    </tr>\n",
       "    <tr>\n",
       "      <th>3</th>\n",
       "      <td>0.445667</td>\n",
       "      <td>0.476402</td>\n",
       "    </tr>\n",
       "    <tr>\n",
       "      <th>4</th>\n",
       "      <td>0.535114</td>\n",
       "      <td>0.546352</td>\n",
       "    </tr>\n",
       "    <tr>\n",
       "      <th>...</th>\n",
       "      <td>...</td>\n",
       "      <td>...</td>\n",
       "    </tr>\n",
       "    <tr>\n",
       "      <th>1019</th>\n",
       "      <td>0.462996</td>\n",
       "      <td>0.460294</td>\n",
       "    </tr>\n",
       "    <tr>\n",
       "      <th>1020</th>\n",
       "      <td>0.487724</td>\n",
       "      <td>0.492311</td>\n",
       "    </tr>\n",
       "    <tr>\n",
       "      <th>1021</th>\n",
       "      <td>0.538437</td>\n",
       "      <td>0.520282</td>\n",
       "    </tr>\n",
       "    <tr>\n",
       "      <th>1022</th>\n",
       "      <td>0.537357</td>\n",
       "      <td>0.617977</td>\n",
       "    </tr>\n",
       "    <tr>\n",
       "      <th>1023</th>\n",
       "      <td>0.495350</td>\n",
       "      <td>0.538376</td>\n",
       "    </tr>\n",
       "  </tbody>\n",
       "</table>\n",
       "<p>1024 rows × 2 columns</p>\n",
       "</div>"
      ],
      "text/plain": [
       "      median_0  median_1\n",
       "0     0.429337  0.418281\n",
       "1     0.564280  0.539976\n",
       "2     0.481558  0.510774\n",
       "3     0.445667  0.476402\n",
       "4     0.535114  0.546352\n",
       "...        ...       ...\n",
       "1019  0.462996  0.460294\n",
       "1020  0.487724  0.492311\n",
       "1021  0.538437  0.520282\n",
       "1022  0.537357  0.617977\n",
       "1023  0.495350  0.538376\n",
       "\n",
       "[1024 rows x 2 columns]"
      ]
     },
     "execution_count": 60,
     "metadata": {},
     "output_type": "execute_result"
    }
   ],
   "source": [
    "medians_all[3]"
   ]
  },
  {
   "cell_type": "markdown",
   "id": "3304fd3f",
   "metadata": {},
   "source": [
    "# Adjectives"
   ]
  },
  {
   "cell_type": "markdown",
   "id": "ed1fd2f3",
   "metadata": {},
   "source": [
    "Repeat all steps but for adjectives only."
   ]
  },
  {
   "cell_type": "code",
   "execution_count": 61,
   "id": "1a9c05bb",
   "metadata": {},
   "outputs": [],
   "source": [
    "pos = ['ADJ']"
   ]
  },
  {
   "cell_type": "code",
   "execution_count": 62,
   "id": "d031f229",
   "metadata": {},
   "outputs": [],
   "source": [
    "X_adj_train = []\n",
    "y_adj_train = []\n",
    "\n",
    "X_adj_test = []\n",
    "y_adj_test = []"
   ]
  },
  {
   "cell_type": "code",
   "execution_count": 63,
   "id": "7f3d9ab5",
   "metadata": {},
   "outputs": [],
   "source": [
    "for we in we_with_features:\n",
    "    xtr, xtst, ytr, ytst = prepare_dataset(dataset=we[(we.Gender != 'invariable') & (we.Number != 'invariable') & (we.POS.isin(pos))],\n",
    "                                          feature_col_count=feature_col_count,\n",
    "                                          feature_name=feature,\n",
    "                                          encode=True,\n",
    "                                          split=True)\n",
    "    X_adj_train.append(xtr)\n",
    "    X_adj_test.append(xtst)\n",
    "    \n",
    "    y_adj_train.append(ytr)\n",
    "    y_adj_test.append(ytst)"
   ]
  },
  {
   "cell_type": "code",
   "execution_count": 64,
   "id": "00d5a3f7",
   "metadata": {},
   "outputs": [],
   "source": [
    "anova_dims_adj = []"
   ]
  },
  {
   "cell_type": "code",
   "execution_count": 65,
   "id": "2835afc0",
   "metadata": {},
   "outputs": [],
   "source": [
    "for i in range(len(models)):\n",
    "    model_dims = []\n",
    "    for dim in X_adj_train[i].columns:\n",
    "        sample1 = [x[0] for x in zip(X_adj_train[i][dim], y_adj_train[i]) if x[1] == 0]\n",
    "        sample2 = [x[0] for x in zip(X_adj_train[i][dim], y_adj_train[i]) if x[1] == 1]\n",
    "        if f_oneway(sample1, sample2).pvalue < pv_threshold:\n",
    "            model_dims.append(dim)\n",
    "    anova_dims_adj.append(model_dims)"
   ]
  },
  {
   "cell_type": "code",
   "execution_count": 66,
   "id": "6290e0e0",
   "metadata": {},
   "outputs": [],
   "source": [
    "mi_dims_adj = []"
   ]
  },
  {
   "cell_type": "code",
   "execution_count": 67,
   "id": "53b8ecfc",
   "metadata": {},
   "outputs": [],
   "source": [
    "for i in range(len(models)):\n",
    "    res = mutual_info_classif(X_adj_train[i], y_adj_train[i], discrete_features=[False]*len(X_adj_train[i].columns))\n",
    "    non_indep_dims = [str(x[0]) for x in np.argwhere(res > 0)]\n",
    "    mi_dims_adj.append(non_indep_dims)"
   ]
  },
  {
   "cell_type": "code",
   "execution_count": 68,
   "id": "d1c839f2",
   "metadata": {},
   "outputs": [],
   "source": [
    "mi_annova_dims_adj = [set(anova_dims_adj[i]).intersection(mi_dims_adj[i]) for i in range(len(models))]"
   ]
  },
  {
   "cell_type": "code",
   "execution_count": 69,
   "id": "bffdb5f0",
   "metadata": {},
   "outputs": [
    {
     "name": "stdout",
     "output_type": "stream",
     "text": [
      "flau_small_c: 222\n",
      "flau_base_u: 99\n",
      "flau_base_c: 98\n",
      "flau_large_c: 462\n",
      "cam_base: 285\n",
      "xlm_large: 6\n",
      "xlm_base: 0\n",
      "bert_base_u: 9\n",
      "distilbert_base: 62\n",
      "bert_base_c: 7\n"
     ]
    }
   ],
   "source": [
    "for i in range(len(models)):\n",
    "    print(f'{models[i][\"label\"]}: {len(mi_annova_dims_adj[i])}')"
   ]
  },
  {
   "cell_type": "markdown",
   "id": "597ddb5b",
   "metadata": {},
   "source": [
    "### Computing medians"
   ]
  },
  {
   "cell_type": "code",
   "execution_count": 70,
   "id": "8f3c0645",
   "metadata": {},
   "outputs": [],
   "source": [
    "medians_adj_all = []"
   ]
  },
  {
   "cell_type": "code",
   "execution_count": 71,
   "id": "82a93d1f",
   "metadata": {},
   "outputs": [],
   "source": [
    "for i in range(len(models)):\n",
    "    medians_df = pd.DataFrame(columns=['median_0', 'median_1'])\n",
    "    medians_df['median_0'] = X_adj_train[i][y_adj_train[i] == 0].median()\n",
    "    medians_df['median_1'] = X_adj_train[i][y_adj_train[i] == 1].median()\n",
    "    medians_adj_all.append(medians_df)"
   ]
  },
  {
   "cell_type": "code",
   "execution_count": 72,
   "id": "e3f06e62",
   "metadata": {},
   "outputs": [],
   "source": [
    "medians_adj_anova = []"
   ]
  },
  {
   "cell_type": "code",
   "execution_count": 73,
   "id": "55155a5f",
   "metadata": {},
   "outputs": [],
   "source": [
    "for i in range(len(models)):\n",
    "    medians_df = pd.DataFrame(columns=['median_0', 'median_1'])\n",
    "    medians_df['median_0'] = X_adj_train[i][y_adj_train[i] == 0][list(anova_dims_adj[i])].median()\n",
    "    medians_df['median_1'] = X_adj_train[i][y_adj_train[i] == 1][list(anova_dims_adj[i])].median()\n",
    "    medians_adj_anova.append(medians_df)"
   ]
  },
  {
   "cell_type": "code",
   "execution_count": 74,
   "id": "ab8ad421",
   "metadata": {},
   "outputs": [],
   "source": [
    "medians_adj_mi = []"
   ]
  },
  {
   "cell_type": "code",
   "execution_count": 75,
   "id": "47297368",
   "metadata": {},
   "outputs": [],
   "source": [
    "for i in range(len(models)):\n",
    "    medians_df = pd.DataFrame(columns=['median_0', 'median_1'])\n",
    "    medians_df['median_0'] = X_adj_train[i][y_adj_train[i] == 0][list(mi_dims_adj[i])].median()\n",
    "    medians_df['median_1'] = X_adj_train[i][y_adj_train[i] == 1][list(mi_dims_adj[i])].median()\n",
    "    medians_adj_mi.append(medians_df)"
   ]
  },
  {
   "cell_type": "code",
   "execution_count": 76,
   "id": "004ba05d",
   "metadata": {},
   "outputs": [],
   "source": [
    "medians_adj_combined = []"
   ]
  },
  {
   "cell_type": "code",
   "execution_count": 77,
   "id": "ecc2ad36",
   "metadata": {},
   "outputs": [],
   "source": [
    "for i in range(len(models)):\n",
    "    medians_df = pd.DataFrame(columns=['median_0', 'median_1'])\n",
    "    medians_df['median_0'] = X_adj_train[i][y_adj_train[i] == 0][list(mi_annova_dims_adj[i])].median()\n",
    "    medians_df['median_1'] = X_adj_train[i][y_adj_train[i] == 1][list(mi_annova_dims_adj[i])].median()\n",
    "    medians_adj_combined.append(medians_df)"
   ]
  },
  {
   "cell_type": "markdown",
   "id": "2c09dfa1",
   "metadata": {},
   "source": [
    "### Computing predictions"
   ]
  },
  {
   "cell_type": "code",
   "execution_count": 79,
   "id": "e7680e52",
   "metadata": {},
   "outputs": [],
   "source": [
    "y_preds_adj_all = []\n",
    "\n",
    "for i in range(len(models)):\n",
    "    mae0 = X_adj_test[i].apply(lambda x: mean_absolute_error(medians_adj_all[i]['median_0'], x), axis=1)\n",
    "    mae1 = X_adj_test[i].apply(lambda x: mean_absolute_error(medians_adj_all[i]['median_1'], x), axis=1)\n",
    "    # If MAE for sample 0 is lower than for sample 1, the label should be 0. So we need to convert False to 0.\n",
    "    y_pred = (mae0 > mae1).apply(int)\n",
    "    y_preds_adj_all.append(y_pred)\n",
    "\n",
    "y_preds_adj_anova = []\n",
    "\n",
    "for i in range(len(models)):\n",
    "    mae0 = X_adj_test[i][list(anova_dims_adj[i])].apply(lambda x: mean_absolute_error(medians_adj_anova[i]['median_0'], x), axis=1)\n",
    "    mae1 = X_adj_test[i][list(anova_dims_adj[i])].apply(lambda x: mean_absolute_error(medians_adj_anova[i]['median_1'], x), axis=1)\n",
    "    # If MSE for sample 0 is lower than for sample 1, the label should be 0. So we need to convert False to 0.\n",
    "    y_pred = (mae0 > mae1).apply(int)\n",
    "    y_preds_adj_anova.append(y_pred)\n",
    "\n",
    "y_preds_adj_mi = []\n",
    "\n",
    "for i in range(len(models)):\n",
    "    mae0 = X_adj_test[i][list(mi_dims_adj[i])].apply(lambda x: mean_absolute_error(medians_adj_mi[i]['median_0'], x), axis=1)\n",
    "    mae1 = X_adj_test[i][list(mi_dims_adj[i])].apply(lambda x: mean_absolute_error(medians_adj_mi[i]['median_1'], x), axis=1)\n",
    "    # If MSE for sample 0 is lower than for sample 1, the label should be 0. So we need to convert False to 0.\n",
    "    y_pred = (mae0 > mae1).apply(int)\n",
    "    y_preds_adj_mi.append(y_pred)\n",
    "\n",
    "y_preds_adj_combined = []\n",
    "\n",
    "for i in range(len(models)):\n",
    "    mae0 = X_adj_test[i][list(mi_annova_dims_adj[i])].apply(lambda x: mean_absolute_error(medians_adj_combined[i]['median_0'], x), axis=1)\n",
    "    mae1 = X_adj_test[i][list(mi_annova_dims_adj[i])].apply(lambda x: mean_absolute_error(medians_adj_combined[i]['median_1'], x), axis=1)\n",
    "    # If MSE for sample 0 is lower than for sample 1, the label should be 0. So we need to convert False to 0.\n",
    "    y_pred = (mae0 > mae1).apply(int)\n",
    "    y_preds_adj_combined.append(y_pred)"
   ]
  },
  {
   "cell_type": "code",
   "execution_count": 89,
   "id": "afcdb379",
   "metadata": {},
   "outputs": [],
   "source": [
    "accs_adj_df = pd.DataFrame(columns=['All dims', 'ANOVA dims', 'MI dims', 'Combined dims'], index=[m['label'] for m in models])"
   ]
  },
  {
   "cell_type": "code",
   "execution_count": 90,
   "id": "7d98a723",
   "metadata": {},
   "outputs": [],
   "source": [
    "for i in range(len(models)):\n",
    "    accs_adj_df.loc[models[i]['label'], 'All dims'] = accuracy_score(y_adj_test[i], y_preds_adj_all[i])\n",
    "    \n",
    "    if any(y_preds_adj_anova[i]):\n",
    "        accs_adj_df.loc[models[i]['label'], 'ANOVA dims'] = accuracy_score(y_adj_test[i], y_preds_adj_anova[i])\n",
    "    else: \n",
    "        accs_adj_df.loc[models[i]['label'], 'ANOVA dims'] = 0\n",
    "    \n",
    "    if any(y_preds_adj_mi[i]):\n",
    "        accs_adj_df.loc[models[i]['label'], 'MI dims'] = accuracy_score(y_adj_test[i], y_preds_adj_mi[i])\n",
    "    else:\n",
    "        accs_adj_df.loc[models[i]['label'], 'MI dims'] = 0\n",
    "    \n",
    "    if any(y_preds_adj_combined[i]):\n",
    "        accs_adj_df.loc[models[i]['label'], 'Combined dims'] = accuracy_score(y_adj_test[i], y_preds_adj_combined[i])\n",
    "    else:\n",
    "        accs_adj_df.loc[models[i]['label'], 'Combined dims'] = 0"
   ]
  },
  {
   "cell_type": "markdown",
   "id": "eb91257f",
   "metadata": {},
   "source": [
    "Here are the accuracies for adjectives only:"
   ]
  },
  {
   "cell_type": "code",
   "execution_count": 91,
   "id": "7dfeb9ee",
   "metadata": {},
   "outputs": [
    {
     "data": {
      "text/html": [
       "<div>\n",
       "<style scoped>\n",
       "    .dataframe tbody tr th:only-of-type {\n",
       "        vertical-align: middle;\n",
       "    }\n",
       "\n",
       "    .dataframe tbody tr th {\n",
       "        vertical-align: top;\n",
       "    }\n",
       "\n",
       "    .dataframe thead th {\n",
       "        text-align: right;\n",
       "    }\n",
       "</style>\n",
       "<table border=\"1\" class=\"dataframe\">\n",
       "  <thead>\n",
       "    <tr style=\"text-align: right;\">\n",
       "      <th></th>\n",
       "      <th>All dims</th>\n",
       "      <th>ANOVA dims</th>\n",
       "      <th>MI dims</th>\n",
       "      <th>Combined dims</th>\n",
       "    </tr>\n",
       "  </thead>\n",
       "  <tbody>\n",
       "    <tr>\n",
       "      <th>flau_small_c</th>\n",
       "      <td>0.830239</td>\n",
       "      <td>0.832891</td>\n",
       "      <td>0.835544</td>\n",
       "      <td>0.830239</td>\n",
       "    </tr>\n",
       "    <tr>\n",
       "      <th>flau_base_u</th>\n",
       "      <td>0.42539</td>\n",
       "      <td>0.461024</td>\n",
       "      <td>0.427617</td>\n",
       "      <td>0.469933</td>\n",
       "    </tr>\n",
       "    <tr>\n",
       "      <th>flau_base_c</th>\n",
       "      <td>0.607427</td>\n",
       "      <td>0.607427</td>\n",
       "      <td>0.618037</td>\n",
       "      <td>0.618037</td>\n",
       "    </tr>\n",
       "    <tr>\n",
       "      <th>flau_large_c</th>\n",
       "      <td>0.909814</td>\n",
       "      <td>0.907162</td>\n",
       "      <td>0.915119</td>\n",
       "      <td>0.907162</td>\n",
       "    </tr>\n",
       "    <tr>\n",
       "      <th>cam_base</th>\n",
       "      <td>0.569378</td>\n",
       "      <td>0.569378</td>\n",
       "      <td>0.569378</td>\n",
       "      <td>0.569378</td>\n",
       "    </tr>\n",
       "    <tr>\n",
       "      <th>xlm_large</th>\n",
       "      <td>0.487805</td>\n",
       "      <td>0.682927</td>\n",
       "      <td>0.487805</td>\n",
       "      <td>0.658537</td>\n",
       "    </tr>\n",
       "    <tr>\n",
       "      <th>xlm_base</th>\n",
       "      <td>0.536585</td>\n",
       "      <td>0.634146</td>\n",
       "      <td>0.536585</td>\n",
       "      <td>0</td>\n",
       "    </tr>\n",
       "    <tr>\n",
       "      <th>bert_base_u</th>\n",
       "      <td>0.53012</td>\n",
       "      <td>0.53012</td>\n",
       "      <td>0.53012</td>\n",
       "      <td>0.53012</td>\n",
       "    </tr>\n",
       "    <tr>\n",
       "      <th>distilbert_base</th>\n",
       "      <td>0.660377</td>\n",
       "      <td>0.716981</td>\n",
       "      <td>0.716981</td>\n",
       "      <td>0.754717</td>\n",
       "    </tr>\n",
       "    <tr>\n",
       "      <th>bert_base_c</th>\n",
       "      <td>0.509434</td>\n",
       "      <td>0.471698</td>\n",
       "      <td>0.509434</td>\n",
       "      <td>0.509434</td>\n",
       "    </tr>\n",
       "  </tbody>\n",
       "</table>\n",
       "</div>"
      ],
      "text/plain": [
       "                 All dims ANOVA dims   MI dims Combined dims\n",
       "flau_small_c     0.830239   0.832891  0.835544      0.830239\n",
       "flau_base_u       0.42539   0.461024  0.427617      0.469933\n",
       "flau_base_c      0.607427   0.607427  0.618037      0.618037\n",
       "flau_large_c     0.909814   0.907162  0.915119      0.907162\n",
       "cam_base         0.569378   0.569378  0.569378      0.569378\n",
       "xlm_large        0.487805   0.682927  0.487805      0.658537\n",
       "xlm_base         0.536585   0.634146  0.536585             0\n",
       "bert_base_u       0.53012    0.53012   0.53012       0.53012\n",
       "distilbert_base  0.660377   0.716981  0.716981      0.754717\n",
       "bert_base_c      0.509434   0.471698  0.509434      0.509434"
      ]
     },
     "execution_count": 91,
     "metadata": {},
     "output_type": "execute_result"
    }
   ],
   "source": [
    "accs_adj_df"
   ]
  },
  {
   "cell_type": "markdown",
   "id": "2cb8bff8",
   "metadata": {},
   "source": [
    "# Adjectives and nouns"
   ]
  },
  {
   "cell_type": "code",
   "execution_count": 92,
   "id": "6d932b2e",
   "metadata": {},
   "outputs": [
    {
     "name": "stdout",
     "output_type": "stream",
     "text": [
      "flau_small_c: 257\n",
      "flau_base_u: 210\n",
      "flau_base_c: 201\n",
      "flau_large_c: 611\n",
      "cam_base: 264\n",
      "xlm_large: 280\n",
      "xlm_base: 15\n",
      "bert_base_u: 6\n",
      "distilbert_base: 176\n",
      "bert_base_c: 1\n"
     ]
    },
    {
     "ename": "NameError",
     "evalue": "name 'y_preds_na_all' is not defined",
     "output_type": "error",
     "traceback": [
      "\u001b[0;31m---------------------------------------------------------------------------\u001b[0m",
      "\u001b[0;31mNameError\u001b[0m                                 Traceback (most recent call last)",
      "Input \u001b[0;32mIn [92]\u001b[0m, in \u001b[0;36m<cell line: 118>\u001b[0;34m()\u001b[0m\n\u001b[1;32m    116\u001b[0m accs_na_df \u001b[38;5;241m=\u001b[39m pd\u001b[38;5;241m.\u001b[39mDataFrame(columns\u001b[38;5;241m=\u001b[39m[\u001b[38;5;124m'\u001b[39m\u001b[38;5;124mAll dims\u001b[39m\u001b[38;5;124m'\u001b[39m, \u001b[38;5;124m'\u001b[39m\u001b[38;5;124mANOVA dims\u001b[39m\u001b[38;5;124m'\u001b[39m, \u001b[38;5;124m'\u001b[39m\u001b[38;5;124mMI dims\u001b[39m\u001b[38;5;124m'\u001b[39m, \u001b[38;5;124m'\u001b[39m\u001b[38;5;124mCombined dims\u001b[39m\u001b[38;5;124m'\u001b[39m], index\u001b[38;5;241m=\u001b[39m[m[\u001b[38;5;124m'\u001b[39m\u001b[38;5;124mlabel\u001b[39m\u001b[38;5;124m'\u001b[39m] \u001b[38;5;28;01mfor\u001b[39;00m m \u001b[38;5;129;01min\u001b[39;00m models])\n\u001b[1;32m    118\u001b[0m \u001b[38;5;28;01mfor\u001b[39;00m i \u001b[38;5;129;01min\u001b[39;00m \u001b[38;5;28mrange\u001b[39m(\u001b[38;5;28mlen\u001b[39m(models)):\n\u001b[0;32m--> 119\u001b[0m     accs_na_df\u001b[38;5;241m.\u001b[39mloc[models[i][\u001b[38;5;124m'\u001b[39m\u001b[38;5;124mlabel\u001b[39m\u001b[38;5;124m'\u001b[39m], \u001b[38;5;124m'\u001b[39m\u001b[38;5;124mAll dims\u001b[39m\u001b[38;5;124m'\u001b[39m] \u001b[38;5;241m=\u001b[39m accuracy_score(y_na_test[i], \u001b[43my_preds_na_all\u001b[49m[i])\n\u001b[1;32m    121\u001b[0m     \u001b[38;5;28;01mif\u001b[39;00m \u001b[38;5;28many\u001b[39m(y_preds_na_anova[i]):\n\u001b[1;32m    122\u001b[0m         accs_na_df\u001b[38;5;241m.\u001b[39mloc[models[i][\u001b[38;5;124m'\u001b[39m\u001b[38;5;124mlabel\u001b[39m\u001b[38;5;124m'\u001b[39m], \u001b[38;5;124m'\u001b[39m\u001b[38;5;124mANOVA dims\u001b[39m\u001b[38;5;124m'\u001b[39m] \u001b[38;5;241m=\u001b[39m accuracy_score(y_na_test[i], y_preds_na_anova[i])\n",
      "\u001b[0;31mNameError\u001b[0m: name 'y_preds_na_all' is not defined"
     ]
    }
   ],
   "source": [
    "pos = ['ADJ', 'NOUN']\n",
    "\n",
    "X_na_train = []\n",
    "y_na_train = []\n",
    "\n",
    "X_na_test = []\n",
    "y_na_test = []\n",
    "\n",
    "for we in we_with_features:\n",
    "    xtr, xtst, ytr, ytst = prepare_dataset(dataset=we[(we.Gender != 'invariable') & (we.Number != 'invariable') & (we.POS.isin(pos))],\n",
    "                                          feature_col_count=feature_col_count,\n",
    "                                          feature_name=feature,\n",
    "                                          encode=True,\n",
    "                                          split=True)\n",
    "    X_na_train.append(xtr)\n",
    "    X_na_test.append(xtst)\n",
    "    \n",
    "    y_na_train.append(ytr)\n",
    "    y_na_test.append(ytst)\n",
    "\n",
    "anova_dims_na = []\n",
    "\n",
    "for i in range(len(models)):\n",
    "    model_dims = []\n",
    "    for dim in X_adj_train[i].columns:\n",
    "        sample1 = [x[0] for x in zip(X_na_train[i][dim], y_na_train[i]) if x[1] == 0]\n",
    "        sample2 = [x[0] for x in zip(X_na_train[i][dim], y_na_train[i]) if x[1] == 1]\n",
    "        if f_oneway(sample1, sample2).pvalue < pv_threshold:\n",
    "            model_dims.append(dim)\n",
    "    anova_dims_na.append(model_dims)\n",
    "\n",
    "mi_dims_na = []\n",
    "\n",
    "for i in range(len(models)):\n",
    "    res = mutual_info_classif(X_na_train[i], y_na_train[i], discrete_features=[False]*len(X_na_train[i].columns))\n",
    "    non_indep_dims = [str(x[0]) for x in np.argwhere(res > 0)]\n",
    "    mi_dims_na.append(non_indep_dims)\n",
    "\n",
    "mi_annova_dims_na = [set(anova_dims_na[i]).intersection(mi_dims_na[i]) for i in range(len(models))]\n",
    "\n",
    "for i in range(len(models)):\n",
    "    print(f'{models[i][\"label\"]}: {len(mi_annova_dims_na[i])}')\n",
    "\n",
    "### Computing medians\n",
    "\n",
    "medians_na_all = []\n",
    "\n",
    "for i in range(len(models)):\n",
    "    medians_df = pd.DataFrame(columns=['median_0', 'median_1'])\n",
    "    medians_df['median_0'] = X_na_train[i][y_na_train[i] == 0].median()\n",
    "    medians_df['median_1'] = X_na_train[i][y_na_train[i] == 1].median()\n",
    "    medians_na_all.append(medians_df)\n",
    "\n",
    "medians_na_anova = []\n",
    "\n",
    "for i in range(len(models)):\n",
    "    medians_df = pd.DataFrame(columns=['median_0', 'median_1'])\n",
    "    medians_df['median_0'] = X_na_train[i][y_na_train[i] == 0][list(anova_dims_na[i])].median()\n",
    "    medians_df['median_1'] = X_na_train[i][y_na_train[i] == 1][list(anova_dims_na[i])].median()\n",
    "    medians_na_anova.append(medians_df)\n",
    "\n",
    "medians_na_mi = []\n",
    "\n",
    "for i in range(len(models)):\n",
    "    medians_df = pd.DataFrame(columns=['median_0', 'median_1'])\n",
    "    medians_df['median_0'] = X_na_train[i][y_na_train[i] == 0][list(mi_dims_na[i])].median()\n",
    "    medians_df['median_1'] = X_na_train[i][y_na_train[i] == 1][list(mi_dims_na[i])].median()\n",
    "    medians_na_mi.append(medians_df)\n",
    "\n",
    "medians_na_combined = []\n",
    "\n",
    "for i in range(len(models)):\n",
    "    medians_df = pd.DataFrame(columns=['median_0', 'median_1'])\n",
    "    medians_df['median_0'] = X_na_train[i][y_na_train[i] == 0][list(mi_annova_dims_na[i])].median()\n",
    "    medians_df['median_1'] = X_na_train[i][y_na_train[i] == 1][list(mi_annova_dims_na[i])].median()\n",
    "    medians_na_combined.append(medians_df)\n",
    "\n",
    "### Computing predictions\n",
    "\n",
    "y_preds_adj_all = []\n",
    "\n",
    "for i in range(len(models)):\n",
    "    mae0 = X_na_test[i].apply(lambda x: mean_absolute_error(medians_na_all[i]['median_0'], x), axis=1)\n",
    "    mae1 = X_na_test[i].apply(lambda x: mean_absolute_error(medians_na_all[i]['median_1'], x), axis=1)\n",
    "    # If MAE for sample 0 is lower than for sample 1, the label should be 0. So we need to convert False to 0.\n",
    "    y_pred = (mae0 > mae1).apply(int)\n",
    "    y_preds_adj_all.append(y_pred)\n",
    "\n",
    "y_preds_adj_anova = []\n",
    "\n",
    "for i in range(len(models)):\n",
    "    mae0 = X_na_test[i][list(anova_dims_na[i])].apply(lambda x: mean_absolute_error(medians_na_anova[i]['median_0'], x), axis=1)\n",
    "    mae1 = X_na_test[i][list(anova_dims_na[i])].apply(lambda x: mean_absolute_error(medians_na_anova[i]['median_1'], x), axis=1)\n",
    "    # If MSE for sample 0 is lower than for sample 1, the label should be 0. So we need to convert False to 0.\n",
    "    y_pred = (mae0 > mae1).apply(int)\n",
    "    y_preds_adj_anova.append(y_pred)\n",
    "\n",
    "y_preds_adj_mi = []\n",
    "\n",
    "for i in range(len(models)):\n",
    "    mae0 = X_na_test[i][list(mi_dims_na[i])].apply(lambda x: mean_absolute_error(medians_na_mi[i]['median_0'], x), axis=1)\n",
    "    mae1 = X_na_test[i][list(mi_dims_na[i])].apply(lambda x: mean_absolute_error(medians_na_mi[i]['median_1'], x), axis=1)\n",
    "    # If MSE for sample 0 is lower than for sample 1, the label should be 0. So we need to convert False to 0.\n",
    "    y_pred = (mae0 > mae1).apply(int)\n",
    "    y_preds_adj_mi.append(y_pred)\n",
    "\n",
    "y_preds_adj_combined = []\n",
    "\n",
    "for i in range(len(models)):\n",
    "    mae0 = X_na_test[i][list(mi_annova_dims_na[i])].apply(lambda x: mean_absolute_error(medians_na_combined[i]['median_0'], x), axis=1)\n",
    "    mae1 = X_na_test[i][list(mi_annova_dims_na[i])].apply(lambda x: mean_absolute_error(medians_na_combined[i]['median_1'], x), axis=1)\n",
    "    # If MSE for sample 0 is lower than for sample 1, the label should be 0. So we need to convert False to 0.\n",
    "    y_pred = (mae0 > mae1).apply(int)\n",
    "    y_preds_adj_combined.append(y_pred)\n"
   ]
  },
  {
   "cell_type": "code",
   "execution_count": 94,
   "id": "f526c1a9",
   "metadata": {},
   "outputs": [],
   "source": [
    "accs_na_df = pd.DataFrame(columns=['All dims', 'ANOVA dims', 'MI dims', 'Combined dims'], index=[m['label'] for m in models])\n",
    "\n",
    "for i in range(len(models)):\n",
    "    accs_na_df.loc[models[i]['label'], 'All dims'] = accuracy_score(y_na_test[i], y_preds_adj_all[i])\n",
    "    \n",
    "    if any(y_preds_adj_anova[i]):\n",
    "        accs_na_df.loc[models[i]['label'], 'ANOVA dims'] = accuracy_score(y_na_test[i], y_preds_adj_anova[i])\n",
    "    else: \n",
    "        accs_na_df.loc[models[i]['label'], 'ANOVA dims'] = 0\n",
    "    \n",
    "    if any(y_preds_adj_mi[i]):\n",
    "        accs_na_df.loc[models[i]['label'], 'MI dims'] = accuracy_score(y_na_test[i], y_preds_adj_mi[i])\n",
    "    else:\n",
    "        accs_na_df.loc[models[i]['label'], 'MI dims'] = 0\n",
    "    \n",
    "    if any(y_preds_adj_combined[i]):\n",
    "        accs_na_df.loc[models[i]['label'], 'Combined dims'] = accuracy_score(y_na_test[i], y_preds_adj_combined[i])\n",
    "    else:\n",
    "        accs_na_df.loc[models[i]['label'], 'Combined dims'] = 0"
   ]
  },
  {
   "cell_type": "code",
   "execution_count": 95,
   "id": "caa1de8a",
   "metadata": {},
   "outputs": [
    {
     "data": {
      "text/html": [
       "<div>\n",
       "<style scoped>\n",
       "    .dataframe tbody tr th:only-of-type {\n",
       "        vertical-align: middle;\n",
       "    }\n",
       "\n",
       "    .dataframe tbody tr th {\n",
       "        vertical-align: top;\n",
       "    }\n",
       "\n",
       "    .dataframe thead th {\n",
       "        text-align: right;\n",
       "    }\n",
       "</style>\n",
       "<table border=\"1\" class=\"dataframe\">\n",
       "  <thead>\n",
       "    <tr style=\"text-align: right;\">\n",
       "      <th></th>\n",
       "      <th>All dims</th>\n",
       "      <th>ANOVA dims</th>\n",
       "      <th>MI dims</th>\n",
       "      <th>Combined dims</th>\n",
       "    </tr>\n",
       "  </thead>\n",
       "  <tbody>\n",
       "    <tr>\n",
       "      <th>flau_small_c</th>\n",
       "      <td>0.725799</td>\n",
       "      <td>0.728256</td>\n",
       "      <td>0.718919</td>\n",
       "      <td>0.72285</td>\n",
       "    </tr>\n",
       "    <tr>\n",
       "      <th>flau_base_u</th>\n",
       "      <td>0.52885</td>\n",
       "      <td>0.541584</td>\n",
       "      <td>0.52885</td>\n",
       "      <td>0.547951</td>\n",
       "    </tr>\n",
       "    <tr>\n",
       "      <th>flau_base_c</th>\n",
       "      <td>0.571499</td>\n",
       "      <td>0.575921</td>\n",
       "      <td>0.590172</td>\n",
       "      <td>0.591646</td>\n",
       "    </tr>\n",
       "    <tr>\n",
       "      <th>flau_large_c</th>\n",
       "      <td>0.898771</td>\n",
       "      <td>0.896314</td>\n",
       "      <td>0.890418</td>\n",
       "      <td>0.890909</td>\n",
       "    </tr>\n",
       "    <tr>\n",
       "      <th>cam_base</th>\n",
       "      <td>0.509105</td>\n",
       "      <td>0.508346</td>\n",
       "      <td>0.509105</td>\n",
       "      <td>0.508346</td>\n",
       "    </tr>\n",
       "    <tr>\n",
       "      <th>xlm_large</th>\n",
       "      <td>0.537594</td>\n",
       "      <td>0.554511</td>\n",
       "      <td>0.548872</td>\n",
       "      <td>0.554511</td>\n",
       "    </tr>\n",
       "    <tr>\n",
       "      <th>xlm_base</th>\n",
       "      <td>0.571429</td>\n",
       "      <td>0.593985</td>\n",
       "      <td>0.571429</td>\n",
       "      <td>0.590226</td>\n",
       "    </tr>\n",
       "    <tr>\n",
       "      <th>bert_base_u</th>\n",
       "      <td>0.504702</td>\n",
       "      <td>0.520376</td>\n",
       "      <td>0.492163</td>\n",
       "      <td>0.547544</td>\n",
       "    </tr>\n",
       "    <tr>\n",
       "      <th>distilbert_base</th>\n",
       "      <td>0.556106</td>\n",
       "      <td>0.584158</td>\n",
       "      <td>0.564356</td>\n",
       "      <td>0.592409</td>\n",
       "    </tr>\n",
       "    <tr>\n",
       "      <th>bert_base_c</th>\n",
       "      <td>0.508251</td>\n",
       "      <td>0.491749</td>\n",
       "      <td>0.50495</td>\n",
       "      <td>0.491749</td>\n",
       "    </tr>\n",
       "  </tbody>\n",
       "</table>\n",
       "</div>"
      ],
      "text/plain": [
       "                 All dims ANOVA dims   MI dims Combined dims\n",
       "flau_small_c     0.725799   0.728256  0.718919       0.72285\n",
       "flau_base_u       0.52885   0.541584   0.52885      0.547951\n",
       "flau_base_c      0.571499   0.575921  0.590172      0.591646\n",
       "flau_large_c     0.898771   0.896314  0.890418      0.890909\n",
       "cam_base         0.509105   0.508346  0.509105      0.508346\n",
       "xlm_large        0.537594   0.554511  0.548872      0.554511\n",
       "xlm_base         0.571429   0.593985  0.571429      0.590226\n",
       "bert_base_u      0.504702   0.520376  0.492163      0.547544\n",
       "distilbert_base  0.556106   0.584158  0.564356      0.592409\n",
       "bert_base_c      0.508251   0.491749   0.50495      0.491749"
      ]
     },
     "execution_count": 95,
     "metadata": {},
     "output_type": "execute_result"
    }
   ],
   "source": [
    "accs_na_df"
   ]
  }
 ],
 "metadata": {
  "kernelspec": {
   "display_name": "Python 3 (ipykernel)",
   "language": "python",
   "name": "python3"
  },
  "language_info": {
   "codemirror_mode": {
    "name": "ipython",
    "version": 3
   },
   "file_extension": ".py",
   "mimetype": "text/x-python",
   "name": "python",
   "nbconvert_exporter": "python",
   "pygments_lexer": "ipython3",
   "version": "3.10.13"
  }
 },
 "nbformat": 4,
 "nbformat_minor": 5
}
