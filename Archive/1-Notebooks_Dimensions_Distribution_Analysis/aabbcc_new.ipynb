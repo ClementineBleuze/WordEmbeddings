{
 "cells": [
  {
   "cell_type": "markdown",
   "metadata": {},
   "source": [
    "# Retrieving meaningful dimensions using AABCC score"
   ]
  },
  {
   "cell_type": "markdown",
   "metadata": {},
   "source": [
    "We find that AABCC score and correlation rank overlap only for the top ~50 dimensions. The overall distributions of values are also similar."
   ]
  },
  {
   "cell_type": "code",
   "execution_count": 49,
   "metadata": {},
   "outputs": [],
   "source": [
    "import pandas as pd\n",
    "import numpy as np"
   ]
  },
  {
   "cell_type": "code",
   "execution_count": 50,
   "metadata": {},
   "outputs": [],
   "source": [
    "nouns = pd.read_csv(\"../Data/FlauBERT_WE/all_nouns_we.csv\", index_col=0)\n",
    "adjs = pd.read_csv(\"../Data/FlauBERT_WE/all_adjectives_we.csv\", index_col=0)\n",
    "verbs = pd.read_csv(\"../Data/FlauBERT_WE/all_verb_we.csv\", index_col=0)"
   ]
  },
  {
   "cell_type": "code",
   "execution_count": 51,
   "metadata": {},
   "outputs": [],
   "source": [
    "nouns['number'] = nouns.number.apply(lambda x: 0 if x=='singular' else 1)\n",
    "nouns['gender'] = nouns.gender.apply(lambda x: 0 if x=='masculine' else 1)\n",
    "\n",
    "adjs['number'] = adjs.number.apply(lambda x: 0 if x=='singular' else 1)\n",
    "adjs['gender'] = adjs.gender.apply(lambda x: 0 if x=='masculine' else 1)"
   ]
  },
  {
   "cell_type": "code",
   "execution_count": 52,
   "metadata": {},
   "outputs": [],
   "source": [
    "normalized_nouns = (nouns - nouns.min())/(nouns.max() - nouns.min())\n",
    "normalized_adjs = (adjs - adjs.min())/(adjs.max() - adjs.min())\n",
    "normalized_verbs = (verbs - verbs.min())/(verbs.max() - verbs.min())\n",
    "\n",
    "normalized_nouns['verb'] = 0\n",
    "normalized_nouns['adj'] = 0\n",
    "normalized_nouns['noun'] = 1\n",
    "\n",
    "normalized_adjs['verb'] = 0\n",
    "normalized_adjs['adj'] = 1\n",
    "normalized_adjs['noun'] = 0\n",
    "\n",
    "normalized_verbs['verb'] = 1\n",
    "normalized_verbs['adj'] = 0\n",
    "normalized_verbs['noun'] = 0"
   ]
  },
  {
   "cell_type": "code",
   "execution_count": 53,
   "metadata": {},
   "outputs": [],
   "source": [
    "def get_sequence(df:pd.DataFrame, dim:int, feature:str):\n",
    "    return list(df.sort_values(by=str(dim))[feature])\n",
    "\n",
    "def get_score_for_sequence(seq:list):\n",
    "    \n",
    "    # initialisation\n",
    "    score = 0\n",
    "    i = 0 # current index\n",
    "    val = seq[0] # current value\n",
    "\n",
    "    while i < len(seq):\n",
    "        j = 0 # consecutive values counter\n",
    "\n",
    "        while i < len(seq) and seq[i] == val:\n",
    "            j += 1\n",
    "            i += 1\n",
    "        \n",
    "        score += sum([i for i in range(j+1)])\n",
    "        \n",
    "        if i < len(seq):\n",
    "             val = seq[i]\n",
    "\n",
    "    return score\n",
    "\n",
    "\n",
    "def aabbcc(df, feature, top_dim_count, return_scores=False):\n",
    "    scores = []\n",
    "    for dim in range(512):\n",
    "        seq = get_sequence(df, dim, feature)\n",
    "        score = get_score_for_sequence(seq)\n",
    "        scores.append(score)\n",
    "        \n",
    "    top_scores = sorted(enumerate(scores), key=lambda x: x[1], reverse=True)[:top_dim_count]\n",
    "    \n",
    "    return top_scores if return_scores else [x[0] for x in top_scores]"
   ]
  },
  {
   "cell_type": "markdown",
   "metadata": {},
   "source": [
    "## 1. Gender  \n",
    "In this Notebook, we will implement and use a new metric to measure the meaningfulness of a WE dimension for a classification task."
   ]
  },
  {
   "cell_type": "markdown",
   "metadata": {},
   "source": [
    "### 1.1 Gender of nouns"
   ]
  },
  {
   "cell_type": "code",
   "execution_count": 55,
   "metadata": {},
   "outputs": [],
   "source": [
    "gn_n = aabbcc(normalized_nouns, 'gender', top_dim_count=10)"
   ]
  },
  {
   "cell_type": "code",
   "execution_count": 56,
   "metadata": {},
   "outputs": [],
   "source": [
    "w1 = list(pd.read_csv('../Data/Dimensions/GG/noun.csv', index_col=0).iloc[:, 0].values)\n",
    "\n",
    "w1.extend(gn_n)\n",
    "\n",
    "pd.DataFrame(w1).to_csv('../Data/Dimensions/GG/noun.csv')"
   ]
  },
  {
   "cell_type": "markdown",
   "metadata": {},
   "source": [
    "### 1.2 Gender of adjs"
   ]
  },
  {
   "cell_type": "code",
   "execution_count": 57,
   "metadata": {},
   "outputs": [],
   "source": [
    "gn_a = aabbcc(normalized_adjs, 'gender', top_dim_count=10)"
   ]
  },
  {
   "cell_type": "code",
   "execution_count": 58,
   "metadata": {},
   "outputs": [],
   "source": [
    "w1 = list(pd.read_csv('../Data/Dimensions/GG/adj.csv', index_col=0).iloc[:, 0].values)\n",
    "\n",
    "w1.extend(gn_a)\n",
    "\n",
    "pd.DataFrame(w1).to_csv('../Data/Dimensions/GG/adj.csv')"
   ]
  },
  {
   "cell_type": "markdown",
   "metadata": {},
   "source": [
    "### 1.3 Gender of nouns and adjs combined"
   ]
  },
  {
   "cell_type": "code",
   "execution_count": 59,
   "metadata": {},
   "outputs": [],
   "source": [
    "gn_na = aabbcc(pd.concat([normalized_nouns, normalized_adjs]), 'gender', top_dim_count=10)"
   ]
  },
  {
   "cell_type": "code",
   "execution_count": 60,
   "metadata": {},
   "outputs": [],
   "source": [
    "w1 = list(pd.read_csv('../Data/Dimensions/GG/both.csv', index_col=0).iloc[:, 0].values)\n",
    "\n",
    "w1.extend(gn_na)\n",
    "\n",
    "pd.DataFrame(w1).to_csv('../Data/Dimensions/GG/both.csv')"
   ]
  },
  {
   "cell_type": "markdown",
   "metadata": {},
   "source": [
    "## 2. Plurality "
   ]
  },
  {
   "cell_type": "markdown",
   "metadata": {},
   "source": [
    "### 2.1 Plurality of nouns "
   ]
  },
  {
   "cell_type": "code",
   "execution_count": 61,
   "metadata": {},
   "outputs": [],
   "source": [
    "pl_n = aabbcc(normalized_nouns, 'number', top_dim_count=10)"
   ]
  },
  {
   "cell_type": "code",
   "execution_count": 62,
   "metadata": {},
   "outputs": [],
   "source": [
    "w1 = list(pd.read_csv('../Data/Dimensions/GN/noun.csv', index_col=0).iloc[:, 0].values)\n",
    "\n",
    "w1.extend(pl_n)\n",
    "\n",
    "pd.DataFrame(w1).to_csv('../Data/Dimensions/GN/noun.csv')"
   ]
  },
  {
   "cell_type": "markdown",
   "metadata": {},
   "source": [
    "### 2.2 Plurality of adjs"
   ]
  },
  {
   "cell_type": "code",
   "execution_count": 63,
   "metadata": {},
   "outputs": [],
   "source": [
    "pl_a = aabbcc(normalized_adjs, 'number', top_dim_count=10)"
   ]
  },
  {
   "cell_type": "code",
   "execution_count": 64,
   "metadata": {},
   "outputs": [],
   "source": [
    "w1 = list(pd.read_csv('../Data/Dimensions/GN/adj.csv', index_col=0).iloc[:, 0].values)\n",
    "\n",
    "w1.extend(pl_a)\n",
    "\n",
    "pd.DataFrame(w1).to_csv('../Data/Dimensions/GN/adj.csv')"
   ]
  },
  {
   "cell_type": "markdown",
   "metadata": {},
   "source": [
    "### 2.3 Plurality of nouns and adjs"
   ]
  },
  {
   "cell_type": "code",
   "execution_count": 65,
   "metadata": {},
   "outputs": [],
   "source": [
    "pl_na = aabbcc(pd.concat([normalized_nouns, normalized_adjs]), 'number', top_dim_count=10)"
   ]
  },
  {
   "cell_type": "code",
   "execution_count": 66,
   "metadata": {},
   "outputs": [],
   "source": [
    "w1 = list(pd.read_csv('../Data/Dimensions/GN/both.csv', index_col=0).iloc[:, 0].values)\n",
    "\n",
    "w1.extend(pl_na)\n",
    "\n",
    "pd.DataFrame(w1).to_csv('../Data/Dimensions/GN/both.csv')"
   ]
  },
  {
   "cell_type": "markdown",
   "metadata": {},
   "source": [
    "## 3. PoS"
   ]
  },
  {
   "cell_type": "markdown",
   "metadata": {},
   "source": [
    "First, remove words with ambiguous part of speech:"
   ]
  },
  {
   "cell_type": "code",
   "execution_count": 67,
   "metadata": {},
   "outputs": [],
   "source": [
    "all_norm = pd.concat([normalized_nouns, normalized_adjs, normalized_verbs]).drop(columns=['number', 'gender'])\n",
    "\n",
    "\n",
    "\n",
    "word, count = np.unique(all_norm.index, return_counts=True)\n",
    "unique_words = [x[0] for x in list(filter(lambda x: x[1] == 1, zip(word, count)))]\n",
    "\n",
    "unique_norm = all_norm[all_norm.index.isin(unique_words)]"
   ]
  },
  {
   "cell_type": "markdown",
   "metadata": {},
   "source": [
    "### 3.1 NOUN vs not-NOUN"
   ]
  },
  {
   "cell_type": "code",
   "execution_count": 68,
   "metadata": {},
   "outputs": [],
   "source": [
    "pos_n = aabbcc(unique_norm, 'noun', top_dim_count=10)"
   ]
  },
  {
   "cell_type": "code",
   "execution_count": 69,
   "metadata": {},
   "outputs": [],
   "source": [
    "w1 = list(pd.read_csv('../Data/Dimensions/PoS/noun.csv', index_col=0).iloc[:, 0].values)\n",
    "\n",
    "w1.extend(pos_n)\n",
    "\n",
    "pd.DataFrame(w1).to_csv('../Data/Dimensions/PoS/noun.csv')"
   ]
  },
  {
   "cell_type": "markdown",
   "metadata": {},
   "source": [
    "### 3.2 VERB vs not-VERB"
   ]
  },
  {
   "cell_type": "code",
   "execution_count": 70,
   "metadata": {},
   "outputs": [],
   "source": [
    "pos_v = aabbcc(unique_norm, 'verb', top_dim_count=10)"
   ]
  },
  {
   "cell_type": "code",
   "execution_count": 71,
   "metadata": {},
   "outputs": [],
   "source": [
    "w1 = list(pd.read_csv('../Data/Dimensions/PoS/verb.csv', index_col=0).iloc[:, 0].values)\n",
    "\n",
    "w1.extend(pos_v)\n",
    "\n",
    "pd.DataFrame(w1).to_csv('../Data/Dimensions/PoS/verb.csv')"
   ]
  },
  {
   "cell_type": "markdown",
   "metadata": {},
   "source": [
    "### 3.3 ADJ vs not-ADJ"
   ]
  },
  {
   "cell_type": "code",
   "execution_count": 72,
   "metadata": {},
   "outputs": [],
   "source": [
    "pos_a = aabbcc(unique_norm, 'adj', top_dim_count=10)"
   ]
  },
  {
   "cell_type": "code",
   "execution_count": 73,
   "metadata": {},
   "outputs": [],
   "source": [
    "w1 = list(pd.read_csv('../Data/Dimensions/PoS/adj.csv', index_col=0).iloc[:, 0].values)\n",
    "\n",
    "w1.extend(pos_a)\n",
    "\n",
    "pd.DataFrame(w1).to_csv('../Data/Dimensions/PoS/adj.csv')"
   ]
  },
  {
   "cell_type": "code",
   "execution_count": null,
   "metadata": {},
   "outputs": [],
   "source": []
  }
 ],
 "metadata": {
  "kernelspec": {
   "display_name": "Python 3 (ipykernel)",
   "language": "python",
   "name": "python3"
  },
  "language_info": {
   "codemirror_mode": {
    "name": "ipython",
    "version": 3
   },
   "file_extension": ".py",
   "mimetype": "text/x-python",
   "name": "python",
   "nbconvert_exporter": "python",
   "pygments_lexer": "ipython3",
   "version": "3.10.9"
  },
  "vscode": {
   "interpreter": {
    "hash": "3de7a084b318d7b8bf96005cb5db4da14a27f60df0465391ef48a4c336f03bfe"
   }
  }
 },
 "nbformat": 4,
 "nbformat_minor": 2
}
