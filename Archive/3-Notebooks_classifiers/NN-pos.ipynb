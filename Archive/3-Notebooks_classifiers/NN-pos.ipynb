{
 "cells": [
  {
   "cell_type": "code",
   "execution_count": 1,
   "metadata": {},
   "outputs": [],
   "source": [
    "import torch.nn as nn\n",
    "import torch \n",
    "import pandas as pd\n",
    "import numpy as np\n",
    "from sklearn.model_selection import train_test_split\n",
    "import seaborn as sns\n",
    "from matplotlib import pyplot as plt"
   ]
  },
  {
   "cell_type": "markdown",
   "metadata": {},
   "source": [
    "# NN Classification (Perceptron) : Noun/ Not-Noun"
   ]
  },
  {
   "cell_type": "markdown",
   "metadata": {},
   "source": [
    "## Data preparation"
   ]
  },
  {
   "cell_type": "markdown",
   "metadata": {},
   "source": [
    "### Load data: NOUN, ADJ, and both"
   ]
  },
  {
   "cell_type": "code",
   "execution_count": 2,
   "metadata": {},
   "outputs": [],
   "source": [
    "nouns = pd.read_csv('../Data/FlauBERT_WE/all_nouns_we.csv', index_col=0).drop(columns=['gender', 'number'])\n",
    "nouns['noun'] = 1\n",
    "nouns['verb'] = 0\n",
    "nouns['adj'] = 0\n",
    "\n",
    "verbs = pd.read_csv('../Data/FlauBERT_WE/all_verb_we.csv', index_col=0)\n",
    "verbs['noun'] = 0\n",
    "verbs['verb'] = 1\n",
    "verbs['adj'] = 0\n",
    "\n",
    "adjs = pd.read_csv('../Data/FlauBERT_WE/all_adjectives_we.csv', index_col=0).drop(columns=['gender', 'number'])\n",
    "adjs['noun'] = 0\n",
    "adjs['verb'] = 0\n",
    "adjs['adj'] = 1\n",
    "\n",
    "\n",
    "data = pd.concat([nouns, adjs, verbs])\n",
    "data = data.sample(frac=1)\n",
    "\n",
    "normalized_data = (data - data.min())/(data.max() - data.min()) "
   ]
  },
  {
   "cell_type": "code",
   "execution_count": 74,
   "metadata": {},
   "outputs": [],
   "source": [
    "# target : gender\n",
    "Y_N = np.asarray(normalized_data.noun)\n",
    "Y_V = np.asarray(normalized_data.verb)\n",
    "Y_A = np.asarray(normalized_data.adj)\n",
    "\n",
    "# features : word embeddings dimensions\n",
    "X = np.asarray(normalized_data.iloc[:, :512])\n",
    "\n",
    "# split data into train and test sets\n",
    "X_N_train, X_N_test, Y_N_train, Y_N_test = train_test_split(X, Y_N, test_size=0.2, random_state=42)\n",
    "X_A_train, X_A_test, Y_A_train, Y_A_test = train_test_split(X, Y_A, test_size=0.2, random_state=42)\n",
    "X_V_train, X_V_test, Y_V_train, Y_V_test = train_test_split(X, Y_V, test_size=0.2, random_state=42)\n",
    "\n",
    "names = ['Noun vs Not Noun', 'Adj vs Not Adj', 'Verb vs not Verb']"
   ]
  },
  {
   "cell_type": "code",
   "execution_count": 75,
   "metadata": {},
   "outputs": [],
   "source": [
    "train_features = [X_N_train, X_A_train, X_V_train]\n",
    "test_features = [X_N_test, X_A_test, X_V_test]\n",
    "train_targets = [Y_N_train, Y_A_train, Y_V_train]\n",
    "test_targets = [Y_N_test, Y_A_test, Y_V_test]"
   ]
  },
  {
   "cell_type": "markdown",
   "metadata": {},
   "source": [
    "### Tensors"
   ]
  },
  {
   "cell_type": "code",
   "execution_count": 76,
   "metadata": {},
   "outputs": [],
   "source": [
    "# convert to tensors\n",
    "train_features = [torch.tensor(x).float() for x in train_features]\n",
    "test_features = [torch.tensor(x).float() for x in test_features]\n",
    "train_targets = [torch.tensor(x).long() for x in train_targets]\n",
    "test_targets = [torch.tensor(x).long() for x in test_targets]"
   ]
  },
  {
   "cell_type": "code",
   "execution_count": 77,
   "metadata": {},
   "outputs": [],
   "source": [
    "from torch.utils.data import TensorDataset, DataLoader\n",
    "# the TensorDataset is a ready to use class to represent your data as list of tensors. \n",
    "# Note that input_features and labels must match on the length of the first dimension\n",
    "train_sets = [TensorDataset(X_train, Y_train) for X_train, Y_train in zip(train_features, train_targets)]\n",
    "test_sets = [TensorDataset(X_valid, Y_valid) for X_valid, Y_valid in zip(test_features, test_targets)]\n",
    "\n",
    "# DataLoader shuffles and batches the data and load its in parallel using multiprocessing workers\n",
    "train_loaders = [DataLoader(train_set, batch_size=32, shuffle=True) for train_set in train_sets]\n",
    "test_loaders = [DataLoader(test_set, batch_size=32) for test_set in test_sets]"
   ]
  },
  {
   "cell_type": "markdown",
   "metadata": {},
   "source": [
    "## Classification"
   ]
  },
  {
   "cell_type": "markdown",
   "metadata": {},
   "source": [
    "### NN definition"
   ]
  },
  {
   "cell_type": "code",
   "execution_count": 78,
   "metadata": {},
   "outputs": [],
   "source": [
    "NNlist = []\n",
    "\n",
    "for i in range(3):\n",
    "    \n",
    "    # create a fully connected perceptron with 1 input layer (512 features) and 1 output layer (2 classes)\n",
    "    model = nn.Sequential(nn.Linear(512, 2), nn.Softmax(dim=1))\n",
    "    # define the loss function\n",
    "    loss_fn = nn.CrossEntropyLoss()\n",
    "    # define the optimizer\n",
    "    optimizer = torch.optim.Adam(model.parameters(), lr=0.001)\n",
    "    # add the model to the list\n",
    "    NNlist.append([model, loss_fn, optimizer])"
   ]
  },
  {
   "cell_type": "markdown",
   "metadata": {},
   "source": [
    "## Train the models"
   ]
  },
  {
   "cell_type": "code",
   "execution_count": 79,
   "metadata": {},
   "outputs": [],
   "source": [
    "nb_epochs = 100"
   ]
  },
  {
   "cell_type": "code",
   "execution_count": 80,
   "metadata": {},
   "outputs": [
    {
     "name": "stdout",
     "output_type": "stream",
     "text": [
      "* Training model  Noun vs Not Noun\n",
      "--Epoch  0  Loss :  0.6224977970123291\n",
      "--Epoch  10  Loss :  0.5836396217346191\n",
      "--Epoch  20  Loss :  0.42178863286972046\n",
      "--Epoch  30  Loss :  0.47646814584732056\n",
      "--Epoch  40  Loss :  0.6465696096420288\n",
      "--Epoch  50  Loss :  0.5974539518356323\n",
      "--Epoch  60  Loss :  0.7030676603317261\n",
      "--Epoch  70  Loss :  0.4193163812160492\n",
      "--Epoch  80  Loss :  0.6199532747268677\n",
      "--Epoch  90  Loss :  0.47942134737968445\n",
      "* Training model  Adj vs Not Adj\n",
      "--Epoch  0  Loss :  0.7506719827651978\n",
      "--Epoch  10  Loss :  0.500761866569519\n",
      "--Epoch  20  Loss :  0.37576165795326233\n",
      "--Epoch  30  Loss :  0.6257616877555847\n",
      "--Epoch  40  Loss :  0.5632616281509399\n",
      "--Epoch  50  Loss :  0.37576162815093994\n",
      "--Epoch  60  Loss :  0.37586602568626404\n",
      "--Epoch  70  Loss :  0.47269904613494873\n",
      "--Epoch  80  Loss :  0.522280216217041\n",
      "--Epoch  90  Loss :  0.5838065147399902\n",
      "* Training model  Verb vs not Verb\n",
      "--Epoch  0  Loss :  0.618535041809082\n",
      "--Epoch  10  Loss :  0.42603567242622375\n",
      "--Epoch  20  Loss :  0.5828744173049927\n",
      "--Epoch  30  Loss :  0.3461863398551941\n",
      "--Epoch  40  Loss :  0.6674472689628601\n",
      "--Epoch  50  Loss :  0.6312846541404724\n",
      "--Epoch  60  Loss :  0.49267709255218506\n",
      "--Epoch  70  Loss :  0.4433683753013611\n",
      "--Epoch  80  Loss :  0.46146175265312195\n",
      "--Epoch  90  Loss :  0.5008137226104736\n"
     ]
    }
   ],
   "source": [
    "# train the models \n",
    "for i in range(3):\n",
    "    print(\"* Training model \", names[i])\n",
    "    model, loss_fn, optimizer = NNlist[i]\n",
    "    # put the model in training mode\n",
    "    model.train()\n",
    "    for epoch in range(nb_epochs):\n",
    "        for X_train, Y_train in train_loaders[i]:\n",
    "            # compute the model output\n",
    "            Y_pred = model(X_train)\n",
    "            # calculate loss\n",
    "            loss = loss_fn(Y_pred, Y_train)\n",
    "            # reset the gradients\n",
    "            optimizer.zero_grad()\n",
    "            # backpropagation\n",
    "            loss.backward()\n",
    "            # update model weights\n",
    "            optimizer.step()\n",
    "\n",
    "        if epoch % 10 == 0:\n",
    "            print(\"--Epoch \", epoch, \" Loss : \", loss.item())"
   ]
  },
  {
   "cell_type": "code",
   "execution_count": 81,
   "metadata": {},
   "outputs": [
    {
     "name": "stdout",
     "output_type": "stream",
     "text": [
      "Model  Noun vs Not Noun \n",
      " Accuracy :  0.7773095077545515\n",
      " Precision :  0.7202159762382507\n",
      " Recall :  0.8126428127288818\n",
      " F1 score :  0.7636428475379944\n",
      "Confusion matrix : \n"
     ]
    },
    {
     "data": {
      "image/png": "[encoded data removed]",
      "text/plain": [
       "<Figure size 640x480 with 1 Axes>"
      ]
     },
     "metadata": {},
     "output_type": "display_data"
    },
    {
     "name": "stdout",
     "output_type": "stream",
     "text": [
      "Model  Adj vs Not Adj \n",
      " Accuracy :  0.7929871881321645\n",
      " Precision :  0.5193049907684326\n",
      " Recall :  0.21554486453533173\n",
      " F1 score :  0.3046432435512543\n",
      "Confusion matrix : \n"
     ]
    },
    {
     "data": {
      "image/png": "[encoded data removed]",
      "text/plain": [
       "<Figure size 640x480 with 1 Axes>"
      ]
     },
     "metadata": {},
     "output_type": "display_data"
    },
    {
     "name": "stdout",
     "output_type": "stream",
     "text": [
      "Model  Verb vs not Verb \n",
      " Accuracy :  0.7887727579231288\n",
      " Precision :  0.8744186162948608\n",
      " Recall :  0.4567541182041168\n",
      " F1 score :  0.6000638604164124\n",
      "Confusion matrix : \n"
     ]
    },
    {
     "data": {
      "image/png": "[encoded data removed]",
      "text/plain": [
       "<Figure size 640x480 with 1 Axes>"
      ]
     },
     "metadata": {},
     "output_type": "display_data"
    }
   ],
   "source": [
    "# display the confusion matrix\n",
    "for i in range(3):\n",
    "\n",
    "    # put the model in evaluation mode\n",
    "    NNlist[i][0].eval()\n",
    "    # initialize the number of correct predictions\n",
    "    nb_correct_pred = 0\n",
    "    # initialize the number of predictions\n",
    "    nb_pred = 0\n",
    "    # initialize the confusion matrix\n",
    "    confusion_matrix = torch.zeros(2, 2)\n",
    "    # iterate over batches\n",
    "    for X_test, Y_test in test_loaders[i]:\n",
    "        # compute the model output\n",
    "        with torch.no_grad():\n",
    "            Y_pred = NNlist[i][0](X_test)\n",
    "            # get the predicted class\n",
    "            Y_pred = torch.argmax(Y_pred, dim=1)\n",
    "            # compute the number of correct predictions\n",
    "            nb_correct_pred += (Y_pred == Y_test).sum().item()\n",
    "            # compute the number of predictions\n",
    "            nb_pred += Y_pred.shape[0]\n",
    "            # update the confusion matrix\n",
    "            for t, p in zip(Y_test.view(-1), Y_pred.view(-1)):\n",
    "                confusion_matrix[int(t), int(p)] += 1\n",
    "\n",
    "    # compute the accuracy\n",
    "    accuracy = nb_correct_pred / nb_pred\n",
    "    # compute the precision, recall and f1 score\n",
    "    precision = confusion_matrix[1, 1] / (confusion_matrix[1, 1] + confusion_matrix[0, 1])\n",
    "    recall = confusion_matrix[1, 1] / (confusion_matrix[1, 1] + confusion_matrix[1, 0])\n",
    "    f1_score = 2 * precision * recall / (precision + recall)\n",
    "    # print the results\n",
    "    print(\"Model \", names[i], \"\\n Accuracy : \", accuracy)\n",
    "    print(\" Precision : \", float(precision))\n",
    "    print(\" Recall : \", float(recall))\n",
    "    print(\" F1 score : \", float(f1_score))\n",
    "    print(\"Confusion matrix : \")\n",
    "    sns.heatmap(confusion_matrix, annot=True, fmt='g', cmap='Blues', cbar=False)\n",
    "    plt.show()"
   ]
  },
  {
   "cell_type": "code",
   "execution_count": 128,
   "metadata": {},
   "outputs": [],
   "source": [
    "# get the weights of the first layer of the model trained on the three datasets\n",
    "weights = [NNlist[i][0][0].weight.data.numpy()[0] for i in range(3)]"
   ]
  },
  {
   "cell_type": "code",
   "execution_count": 151,
   "metadata": {},
   "outputs": [
    {
     "name": "stdout",
     "output_type": "stream",
     "text": [
      "(512,)\n"
     ]
    }
   ],
   "source": [
    "print(weights[0].shape)"
   ]
  },
  {
   "cell_type": "code",
   "execution_count": 130,
   "metadata": {},
   "outputs": [
    {
     "data": {
      "text/html": [
       "<div>\n",
       "<style scoped>\n",
       "    .dataframe tbody tr th:only-of-type {\n",
       "        vertical-align: middle;\n",
       "    }\n",
       "\n",
       "    .dataframe tbody tr th {\n",
       "        vertical-align: top;\n",
       "    }\n",
       "\n",
       "    .dataframe thead th {\n",
       "        text-align: right;\n",
       "    }\n",
       "</style>\n",
       "<table border=\"1\" class=\"dataframe\">\n",
       "  <thead>\n",
       "    <tr style=\"text-align: right;\">\n",
       "      <th></th>\n",
       "      <th>0</th>\n",
       "      <th>1</th>\n",
       "      <th>2</th>\n",
       "      <th>3</th>\n",
       "      <th>4</th>\n",
       "      <th>5</th>\n",
       "      <th>6</th>\n",
       "      <th>7</th>\n",
       "      <th>8</th>\n",
       "      <th>9</th>\n",
       "      <th>...</th>\n",
       "      <th>502</th>\n",
       "      <th>503</th>\n",
       "      <th>504</th>\n",
       "      <th>505</th>\n",
       "      <th>506</th>\n",
       "      <th>507</th>\n",
       "      <th>508</th>\n",
       "      <th>509</th>\n",
       "      <th>510</th>\n",
       "      <th>511</th>\n",
       "    </tr>\n",
       "  </thead>\n",
       "  <tbody>\n",
       "    <tr>\n",
       "      <th>Noun</th>\n",
       "      <td>0.149936</td>\n",
       "      <td>0.598463</td>\n",
       "      <td>0.533892</td>\n",
       "      <td>-0.332718</td>\n",
       "      <td>0.496957</td>\n",
       "      <td>0.188776</td>\n",
       "      <td>0.343081</td>\n",
       "      <td>0.382977</td>\n",
       "      <td>-0.226677</td>\n",
       "      <td>-0.688473</td>\n",
       "      <td>...</td>\n",
       "      <td>-0.042238</td>\n",
       "      <td>-0.095188</td>\n",
       "      <td>0.012683</td>\n",
       "      <td>0.004088</td>\n",
       "      <td>-0.357492</td>\n",
       "      <td>-0.045676</td>\n",
       "      <td>-0.385591</td>\n",
       "      <td>-0.315521</td>\n",
       "      <td>-0.409010</td>\n",
       "      <td>0.123502</td>\n",
       "    </tr>\n",
       "    <tr>\n",
       "      <th>Adj</th>\n",
       "      <td>-0.140925</td>\n",
       "      <td>-0.043848</td>\n",
       "      <td>-0.173868</td>\n",
       "      <td>0.154612</td>\n",
       "      <td>-0.483496</td>\n",
       "      <td>0.048321</td>\n",
       "      <td>-0.016861</td>\n",
       "      <td>-0.192045</td>\n",
       "      <td>0.030146</td>\n",
       "      <td>0.355934</td>\n",
       "      <td>...</td>\n",
       "      <td>-0.288227</td>\n",
       "      <td>-0.056553</td>\n",
       "      <td>-0.089689</td>\n",
       "      <td>-0.163437</td>\n",
       "      <td>-0.057995</td>\n",
       "      <td>-0.081075</td>\n",
       "      <td>-0.103700</td>\n",
       "      <td>-0.296131</td>\n",
       "      <td>0.166126</td>\n",
       "      <td>-0.030992</td>\n",
       "    </tr>\n",
       "    <tr>\n",
       "      <th>Verb</th>\n",
       "      <td>0.239808</td>\n",
       "      <td>-0.407190</td>\n",
       "      <td>-0.422331</td>\n",
       "      <td>-0.293532</td>\n",
       "      <td>0.014198</td>\n",
       "      <td>0.236477</td>\n",
       "      <td>-0.136263</td>\n",
       "      <td>0.218399</td>\n",
       "      <td>-0.283480</td>\n",
       "      <td>-0.088395</td>\n",
       "      <td>...</td>\n",
       "      <td>0.103206</td>\n",
       "      <td>-0.047892</td>\n",
       "      <td>-0.525010</td>\n",
       "      <td>0.251328</td>\n",
       "      <td>0.369132</td>\n",
       "      <td>0.181145</td>\n",
       "      <td>0.986733</td>\n",
       "      <td>0.712210</td>\n",
       "      <td>-0.122580</td>\n",
       "      <td>-0.213110</td>\n",
       "    </tr>\n",
       "  </tbody>\n",
       "</table>\n",
       "<p>3 rows × 512 columns</p>\n",
       "</div>"
      ],
      "text/plain": [
       "           0         1         2         3         4         5         6    \\\n",
       "Noun  0.149936  0.598463  0.533892 -0.332718  0.496957  0.188776  0.343081   \n",
       "Adj  -0.140925 -0.043848 -0.173868  0.154612 -0.483496  0.048321 -0.016861   \n",
       "Verb  0.239808 -0.407190 -0.422331 -0.293532  0.014198  0.236477 -0.136263   \n",
       "\n",
       "           7         8         9    ...       502       503       504  \\\n",
       "Noun  0.382977 -0.226677 -0.688473  ... -0.042238 -0.095188  0.012683   \n",
       "Adj  -0.192045  0.030146  0.355934  ... -0.288227 -0.056553 -0.089689   \n",
       "Verb  0.218399 -0.283480 -0.088395  ...  0.103206 -0.047892 -0.525010   \n",
       "\n",
       "           505       506       507       508       509       510       511  \n",
       "Noun  0.004088 -0.357492 -0.045676 -0.385591 -0.315521 -0.409010  0.123502  \n",
       "Adj  -0.163437 -0.057995 -0.081075 -0.103700 -0.296131  0.166126 -0.030992  \n",
       "Verb  0.251328  0.369132  0.181145  0.986733  0.712210 -0.122580 -0.213110  \n",
       "\n",
       "[3 rows x 512 columns]"
      ]
     },
     "execution_count": 130,
     "metadata": {},
     "output_type": "execute_result"
    }
   ],
   "source": [
    "# store the weights in a pandas dataframe\n",
    "\n",
    "\n",
    "weights_dict = {\n",
    "    'Noun': weights[0],\n",
    "    'Adj': weights[1],\n",
    "    'Verb': weights[2]\n",
    "}\n",
    "weight_df = pd.DataFrame.from_dict(weights_dict, orient='index')\n",
    "\n",
    "weight_df"
   ]
  },
  {
   "cell_type": "markdown",
   "metadata": {},
   "source": [
    "Noun highest weights:"
   ]
  },
  {
   "cell_type": "code",
   "execution_count": 139,
   "metadata": {},
   "outputs": [
    {
     "data": {
      "text/html": [
       "<div>\n",
       "<style scoped>\n",
       "    .dataframe tbody tr th:only-of-type {\n",
       "        vertical-align: middle;\n",
       "    }\n",
       "\n",
       "    .dataframe tbody tr th {\n",
       "        vertical-align: top;\n",
       "    }\n",
       "\n",
       "    .dataframe thead th {\n",
       "        text-align: right;\n",
       "    }\n",
       "</style>\n",
       "<table border=\"1\" class=\"dataframe\">\n",
       "  <thead>\n",
       "    <tr style=\"text-align: right;\">\n",
       "      <th></th>\n",
       "      <th>0</th>\n",
       "    </tr>\n",
       "  </thead>\n",
       "  <tbody>\n",
       "    <tr>\n",
       "      <th>0</th>\n",
       "      <td>275</td>\n",
       "    </tr>\n",
       "    <tr>\n",
       "      <th>1</th>\n",
       "      <td>409</td>\n",
       "    </tr>\n",
       "    <tr>\n",
       "      <th>2</th>\n",
       "      <td>132</td>\n",
       "    </tr>\n",
       "    <tr>\n",
       "      <th>3</th>\n",
       "      <td>378</td>\n",
       "    </tr>\n",
       "    <tr>\n",
       "      <th>4</th>\n",
       "      <td>78</td>\n",
       "    </tr>\n",
       "    <tr>\n",
       "      <th>5</th>\n",
       "      <td>345</td>\n",
       "    </tr>\n",
       "    <tr>\n",
       "      <th>6</th>\n",
       "      <td>229</td>\n",
       "    </tr>\n",
       "    <tr>\n",
       "      <th>7</th>\n",
       "      <td>387</td>\n",
       "    </tr>\n",
       "    <tr>\n",
       "      <th>8</th>\n",
       "      <td>465</td>\n",
       "    </tr>\n",
       "    <tr>\n",
       "      <th>9</th>\n",
       "      <td>260</td>\n",
       "    </tr>\n",
       "  </tbody>\n",
       "</table>\n",
       "</div>"
      ],
      "text/plain": [
       "     0\n",
       "0  275\n",
       "1  409\n",
       "2  132\n",
       "3  378\n",
       "4   78\n",
       "5  345\n",
       "6  229\n",
       "7  387\n",
       "8  465\n",
       "9  260"
      ]
     },
     "execution_count": 139,
     "metadata": {},
     "output_type": "execute_result"
    }
   ],
   "source": [
    "pd.DataFrame(weight_df.loc['Noun'].apply(abs).sort_values(ascending=False)[:10].index)"
   ]
  },
  {
   "cell_type": "markdown",
   "metadata": {},
   "source": [
    "Adjective highest weights:"
   ]
  },
  {
   "cell_type": "code",
   "execution_count": 140,
   "metadata": {},
   "outputs": [
    {
     "data": {
      "text/html": [
       "<div>\n",
       "<style scoped>\n",
       "    .dataframe tbody tr th:only-of-type {\n",
       "        vertical-align: middle;\n",
       "    }\n",
       "\n",
       "    .dataframe tbody tr th {\n",
       "        vertical-align: top;\n",
       "    }\n",
       "\n",
       "    .dataframe thead th {\n",
       "        text-align: right;\n",
       "    }\n",
       "</style>\n",
       "<table border=\"1\" class=\"dataframe\">\n",
       "  <thead>\n",
       "    <tr style=\"text-align: right;\">\n",
       "      <th></th>\n",
       "      <th>0</th>\n",
       "    </tr>\n",
       "  </thead>\n",
       "  <tbody>\n",
       "    <tr>\n",
       "      <th>0</th>\n",
       "      <td>158</td>\n",
       "    </tr>\n",
       "    <tr>\n",
       "      <th>1</th>\n",
       "      <td>315</td>\n",
       "    </tr>\n",
       "    <tr>\n",
       "      <th>2</th>\n",
       "      <td>439</td>\n",
       "    </tr>\n",
       "    <tr>\n",
       "      <th>3</th>\n",
       "      <td>117</td>\n",
       "    </tr>\n",
       "    <tr>\n",
       "      <th>4</th>\n",
       "      <td>499</td>\n",
       "    </tr>\n",
       "    <tr>\n",
       "      <th>5</th>\n",
       "      <td>346</td>\n",
       "    </tr>\n",
       "    <tr>\n",
       "      <th>6</th>\n",
       "      <td>260</td>\n",
       "    </tr>\n",
       "    <tr>\n",
       "      <th>7</th>\n",
       "      <td>429</td>\n",
       "    </tr>\n",
       "    <tr>\n",
       "      <th>8</th>\n",
       "      <td>4</td>\n",
       "    </tr>\n",
       "    <tr>\n",
       "      <th>9</th>\n",
       "      <td>310</td>\n",
       "    </tr>\n",
       "  </tbody>\n",
       "</table>\n",
       "</div>"
      ],
      "text/plain": [
       "     0\n",
       "0  158\n",
       "1  315\n",
       "2  439\n",
       "3  117\n",
       "4  499\n",
       "5  346\n",
       "6  260\n",
       "7  429\n",
       "8    4\n",
       "9  310"
      ]
     },
     "execution_count": 140,
     "metadata": {},
     "output_type": "execute_result"
    }
   ],
   "source": [
    "pd.DataFrame(weight_df.loc['Adj'].apply(abs).sort_values(ascending=False)[:10].index)"
   ]
  },
  {
   "cell_type": "markdown",
   "metadata": {},
   "source": [
    "Verbs highest weights:"
   ]
  },
  {
   "cell_type": "code",
   "execution_count": 141,
   "metadata": {},
   "outputs": [
    {
     "data": {
      "text/html": [
       "<div>\n",
       "<style scoped>\n",
       "    .dataframe tbody tr th:only-of-type {\n",
       "        vertical-align: middle;\n",
       "    }\n",
       "\n",
       "    .dataframe tbody tr th {\n",
       "        vertical-align: top;\n",
       "    }\n",
       "\n",
       "    .dataframe thead th {\n",
       "        text-align: right;\n",
       "    }\n",
       "</style>\n",
       "<table border=\"1\" class=\"dataframe\">\n",
       "  <thead>\n",
       "    <tr style=\"text-align: right;\">\n",
       "      <th></th>\n",
       "      <th>0</th>\n",
       "    </tr>\n",
       "  </thead>\n",
       "  <tbody>\n",
       "    <tr>\n",
       "      <th>0</th>\n",
       "      <td>192</td>\n",
       "    </tr>\n",
       "    <tr>\n",
       "      <th>1</th>\n",
       "      <td>310</td>\n",
       "    </tr>\n",
       "    <tr>\n",
       "      <th>2</th>\n",
       "      <td>378</td>\n",
       "    </tr>\n",
       "    <tr>\n",
       "      <th>3</th>\n",
       "      <td>429</td>\n",
       "    </tr>\n",
       "    <tr>\n",
       "      <th>4</th>\n",
       "      <td>480</td>\n",
       "    </tr>\n",
       "    <tr>\n",
       "      <th>5</th>\n",
       "      <td>56</td>\n",
       "    </tr>\n",
       "    <tr>\n",
       "      <th>6</th>\n",
       "      <td>508</td>\n",
       "    </tr>\n",
       "    <tr>\n",
       "      <th>7</th>\n",
       "      <td>499</td>\n",
       "    </tr>\n",
       "    <tr>\n",
       "      <th>8</th>\n",
       "      <td>311</td>\n",
       "    </tr>\n",
       "    <tr>\n",
       "      <th>9</th>\n",
       "      <td>182</td>\n",
       "    </tr>\n",
       "  </tbody>\n",
       "</table>\n",
       "</div>"
      ],
      "text/plain": [
       "     0\n",
       "0  192\n",
       "1  310\n",
       "2  378\n",
       "3  429\n",
       "4  480\n",
       "5   56\n",
       "6  508\n",
       "7  499\n",
       "8  311\n",
       "9  182"
      ]
     },
     "execution_count": 141,
     "metadata": {},
     "output_type": "execute_result"
    }
   ],
   "source": [
    "pd.DataFrame(weight_df.loc['Verb'].apply(abs).sort_values(ascending=False)[:10].index)"
   ]
  },
  {
   "cell_type": "markdown",
   "metadata": {},
   "source": [
    "# Unique words only"
   ]
  },
  {
   "cell_type": "markdown",
   "metadata": {},
   "source": [
    "Filter out non-unique words:"
   ]
  },
  {
   "cell_type": "code",
   "execution_count": 167,
   "metadata": {},
   "outputs": [],
   "source": [
    "word, count = np.unique(normalized_data.index, return_counts=True)\n",
    "unique_words = [x[0] for x in list(filter(lambda x: x[1] == 1, zip(word, count)))]"
   ]
  },
  {
   "cell_type": "code",
   "execution_count": 168,
   "metadata": {},
   "outputs": [],
   "source": [
    "unique_norm = normalized_data[normalized_data.index.isin(unique_words)]"
   ]
  },
  {
   "cell_type": "code",
   "execution_count": 169,
   "metadata": {},
   "outputs": [],
   "source": [
    "unique_norm = unique_norm.sample(frac=1)"
   ]
  },
  {
   "cell_type": "code",
   "execution_count": 170,
   "metadata": {},
   "outputs": [],
   "source": [
    "# target\n",
    "Y_N_un = np.asarray(unique_norm.noun)\n",
    "Y_V_un = np.asarray(unique_norm.verb)\n",
    "Y_A_un = np.asarray(unique_norm.adj)\n",
    "\n",
    "# features : word embeddings dimensions\n",
    "X_un = np.asarray(unique_norm.iloc[:, :512])\n",
    "\n",
    "# split data into train and test sets\n",
    "X_N_train, X_N_test, Y_N_train, Y_N_test = train_test_split(X_un, Y_N_un, test_size=0.2, random_state=42)\n",
    "X_A_train, X_A_test, Y_A_train, Y_A_test = train_test_split(X_un, Y_A_un, test_size=0.2, random_state=42)\n",
    "X_V_train, X_V_test, Y_V_train, Y_V_test = train_test_split(X_un, Y_V_un, test_size=0.2, random_state=42)\n",
    "\n",
    "names_un = ['Noun vs Not Noun (unique words only)', 'Adj vs Not Adj (unique words only)', 'Verb vs not Verb (unique words only)']"
   ]
  },
  {
   "cell_type": "code",
   "execution_count": 171,
   "metadata": {},
   "outputs": [],
   "source": [
    "train_features = [X_N_train, X_A_train, X_V_train]\n",
    "test_features = [X_N_test, X_A_test, X_V_test]\n",
    "train_targets = [Y_N_train, Y_A_train, Y_V_train]\n",
    "test_targets = [Y_N_test, Y_A_test, Y_V_test]"
   ]
  },
  {
   "cell_type": "code",
   "execution_count": 172,
   "metadata": {},
   "outputs": [],
   "source": [
    "# convert to tensors\n",
    "train_features = [torch.tensor(x).float() for x in train_features]\n",
    "test_features = [torch.tensor(x).float() for x in test_features]\n",
    "train_targets = [torch.tensor(x).long() for x in train_targets]\n",
    "test_targets = [torch.tensor(x).long() for x in test_targets]"
   ]
  },
  {
   "cell_type": "code",
   "execution_count": 173,
   "metadata": {},
   "outputs": [],
   "source": [
    "from torch.utils.data import TensorDataset, DataLoader\n",
    "# the TensorDataset is a ready to use class to represent your data as list of tensors. \n",
    "# Note that input_features and labels must match on the length of the first dimension\n",
    "train_sets = [TensorDataset(X_train, Y_train) for X_train, Y_train in zip(train_features, train_targets)]\n",
    "test_sets = [TensorDataset(X_valid, Y_valid) for X_valid, Y_valid in zip(test_features, test_targets)]\n",
    "\n",
    "# DataLoader shuffles and batches the data and load its in parallel using multiprocessing workers\n",
    "train_loaders = [DataLoader(train_set, batch_size=32, shuffle=True) for train_set in train_sets]\n",
    "test_loaders = [DataLoader(test_set, batch_size=32) for test_set in test_sets]"
   ]
  },
  {
   "cell_type": "code",
   "execution_count": 182,
   "metadata": {},
   "outputs": [],
   "source": [
    "NNlist_un = []\n",
    "\n",
    "for i in range(3):\n",
    "    \n",
    "    # create a fully connected perceptron with 1 input layer (512 features) and 1 output layer (2 classes)\n",
    "    model = nn.Sequential(nn.Linear(512, 2), nn.Softmax(dim=1))\n",
    "    # define the loss function\n",
    "    loss_fn = nn.CrossEntropyLoss()\n",
    "    # define the optimizer\n",
    "    optimizer = torch.optim.Adam(model.parameters(), lr=0.001)\n",
    "    # add the model to the list\n",
    "    NNlist_un.append([model, loss_fn, optimizer])"
   ]
  },
  {
   "cell_type": "code",
   "execution_count": 183,
   "metadata": {},
   "outputs": [
    {
     "name": "stdout",
     "output_type": "stream",
     "text": [
      "* Training model  Noun vs Not Noun (unique words only)\n",
      "--Epoch  0  Loss :  0.5172184705734253\n",
      "--Epoch  10  Loss :  0.451754093170166\n",
      "--Epoch  20  Loss :  0.37441790103912354\n",
      "--Epoch  30  Loss :  0.31880781054496765\n",
      "--Epoch  40  Loss :  0.42292386293411255\n",
      "--Epoch  50  Loss :  0.32287299633026123\n",
      "--Epoch  60  Loss :  0.4744892120361328\n",
      "--Epoch  70  Loss :  0.4368833601474762\n",
      "--Epoch  80  Loss :  0.31645673513412476\n",
      "--Epoch  90  Loss :  0.5297096967697144\n",
      "* Training model  Adj vs Not Adj (unique words only)\n",
      "--Epoch  0  Loss :  0.5132862329483032\n",
      "--Epoch  10  Loss :  0.5132623910903931\n",
      "--Epoch  20  Loss :  0.3132619559764862\n",
      "--Epoch  30  Loss :  0.3132617473602295\n",
      "--Epoch  40  Loss :  0.41326165199279785\n",
      "--Epoch  50  Loss :  0.3132616877555847\n",
      "--Epoch  60  Loss :  0.4132617115974426\n",
      "--Epoch  70  Loss :  0.3132616877555847\n",
      "--Epoch  80  Loss :  0.41326165199279785\n",
      "--Epoch  90  Loss :  0.3132616877555847\n",
      "* Training model  Verb vs not Verb (unique words only)\n",
      "--Epoch  0  Loss :  0.4521445631980896\n",
      "--Epoch  10  Loss :  0.3767853379249573\n",
      "--Epoch  20  Loss :  0.32304877042770386\n",
      "--Epoch  30  Loss :  0.3185378611087799\n",
      "--Epoch  40  Loss :  0.3197159171104431\n",
      "--Epoch  50  Loss :  0.324262797832489\n",
      "--Epoch  60  Loss :  0.3290880620479584\n",
      "--Epoch  70  Loss :  0.432133287191391\n",
      "--Epoch  80  Loss :  0.4143027663230896\n",
      "--Epoch  90  Loss :  0.3151400685310364\n"
     ]
    }
   ],
   "source": [
    "# train the models \n",
    "for i in range(3):\n",
    "    print(\"* Training model \", names_un[i])\n",
    "    model, loss_fn, optimizer = NNlist_un[i]\n",
    "    # put the model in training mode\n",
    "    model.train()\n",
    "    for epoch in range(nb_epochs):\n",
    "        for X_train, Y_train in train_loaders[i]:\n",
    "            # compute the model output\n",
    "            Y_pred = model(X_train)\n",
    "            # calculate loss\n",
    "            loss = loss_fn(Y_pred, Y_train)\n",
    "            # reset the gradients\n",
    "            optimizer.zero_grad()\n",
    "            # backpropagation\n",
    "            loss.backward()\n",
    "            # update model weights\n",
    "            optimizer.step()\n",
    "\n",
    "        if epoch % 10 == 0:\n",
    "            print(\"--Epoch \", epoch, \" Loss : \", loss.item())"
   ]
  },
  {
   "cell_type": "code",
   "execution_count": 184,
   "metadata": {},
   "outputs": [
    {
     "name": "stdout",
     "output_type": "stream",
     "text": [
      "Model  Noun vs Not Noun (unique words only) \n",
      " Accuracy :  0.9388994307400379\n",
      " Precision :  0.9521963596343994\n",
      " Recall :  0.9442664980888367\n",
      " F1 score :  0.9482148289680481\n",
      "Confusion matrix : \n"
     ]
    },
    {
     "data": {
      "image/png": "[encoded data removed]",
      "text/plain": [
       "<Figure size 640x480 with 1 Axes>"
      ]
     },
     "metadata": {},
     "output_type": "display_data"
    },
    {
     "name": "stdout",
     "output_type": "stream",
     "text": [
      "Model  Adj vs Not Adj (unique words only) \n",
      " Accuracy :  0.9316888045540797\n",
      " Precision :  nan\n",
      " Recall :  0.0\n",
      " F1 score :  nan\n",
      "Confusion matrix : \n"
     ]
    },
    {
     "data": {
      "image/png": "[encoded data removed]",
      "text/plain": [
       "<Figure size 640x480 with 1 Axes>"
      ]
     },
     "metadata": {},
     "output_type": "display_data"
    },
    {
     "name": "stdout",
     "output_type": "stream",
     "text": [
      "Model  Verb vs not Verb (unique words only) \n",
      " Accuracy :  0.967741935483871\n",
      " Precision :  0.9798339009284973\n",
      " Recall :  0.9239373803138733\n",
      " F1 score :  0.9510650038719177\n",
      "Confusion matrix : \n"
     ]
    },
    {
     "data": {
      "image/png": "[encoded data removed]",
      "text/plain": [
       "<Figure size 640x480 with 1 Axes>"
      ]
     },
     "metadata": {},
     "output_type": "display_data"
    }
   ],
   "source": [
    "# display the confusion matrix\n",
    "for i in range(3):\n",
    "\n",
    "    # put the model in evaluation mode\n",
    "    NNlist_un[i][0].eval()\n",
    "    # initialize the number of correct predictions\n",
    "    nb_correct_pred = 0\n",
    "    # initialize the number of predictions\n",
    "    nb_pred = 0\n",
    "    # initialize the confusion matrix\n",
    "    confusion_matrix = torch.zeros(2, 2)\n",
    "    # iterate over batches\n",
    "    for X_test, Y_test in test_loaders[i]:\n",
    "        # compute the model output\n",
    "        with torch.no_grad():\n",
    "            Y_pred = NNlist_un[i][0](X_test)\n",
    "            # get the predicted class\n",
    "            Y_pred = torch.argmax(Y_pred, dim=1)\n",
    "            # compute the number of correct predictions\n",
    "            nb_correct_pred += (Y_pred == Y_test).sum().item()\n",
    "            # compute the number of predictions\n",
    "            nb_pred += Y_pred.shape[0]\n",
    "            # update the confusion matrix\n",
    "            for t, p in zip(Y_test.view(-1), Y_pred.view(-1)):\n",
    "                confusion_matrix[int(t), int(p)] += 1\n",
    "\n",
    "    # compute the accuracy\n",
    "    accuracy = nb_correct_pred / nb_pred\n",
    "    # compute the precision, recall and f1 score\n",
    "    precision = confusion_matrix[1, 1] / (confusion_matrix[1, 1] + confusion_matrix[0, 1])\n",
    "    recall = confusion_matrix[1, 1] / (confusion_matrix[1, 1] + confusion_matrix[1, 0])\n",
    "    f1_score = 2 * precision * recall / (precision + recall)\n",
    "    # print the results\n",
    "    print(\"Model \", names_un[i], \"\\n Accuracy : \", accuracy)\n",
    "    print(\" Precision : \", float(precision))\n",
    "    print(\" Recall : \", float(recall))\n",
    "    print(\" F1 score : \", float(f1_score))\n",
    "    print(\"Confusion matrix : \")\n",
    "    sns.heatmap(confusion_matrix, annot=True, fmt='g', cmap='Blues', cbar=False)\n",
    "    plt.show()"
   ]
  },
  {
   "cell_type": "markdown",
   "metadata": {},
   "source": [
    "Weights for unique words:"
   ]
  },
  {
   "cell_type": "code",
   "execution_count": 185,
   "metadata": {},
   "outputs": [],
   "source": [
    "# get the weights of the first layer of the model trained on the three datasets\n",
    "weights = [NNlist_un[i][0][0].weight.data.numpy()[0] for i in range(3)]"
   ]
  },
  {
   "cell_type": "code",
   "execution_count": 186,
   "metadata": {},
   "outputs": [
    {
     "data": {
      "text/html": [
       "<div>\n",
       "<style scoped>\n",
       "    .dataframe tbody tr th:only-of-type {\n",
       "        vertical-align: middle;\n",
       "    }\n",
       "\n",
       "    .dataframe tbody tr th {\n",
       "        vertical-align: top;\n",
       "    }\n",
       "\n",
       "    .dataframe thead th {\n",
       "        text-align: right;\n",
       "    }\n",
       "</style>\n",
       "<table border=\"1\" class=\"dataframe\">\n",
       "  <thead>\n",
       "    <tr style=\"text-align: right;\">\n",
       "      <th></th>\n",
       "      <th>0</th>\n",
       "      <th>1</th>\n",
       "      <th>2</th>\n",
       "      <th>3</th>\n",
       "      <th>4</th>\n",
       "      <th>5</th>\n",
       "      <th>6</th>\n",
       "      <th>7</th>\n",
       "      <th>8</th>\n",
       "      <th>9</th>\n",
       "      <th>...</th>\n",
       "      <th>502</th>\n",
       "      <th>503</th>\n",
       "      <th>504</th>\n",
       "      <th>505</th>\n",
       "      <th>506</th>\n",
       "      <th>507</th>\n",
       "      <th>508</th>\n",
       "      <th>509</th>\n",
       "      <th>510</th>\n",
       "      <th>511</th>\n",
       "    </tr>\n",
       "  </thead>\n",
       "  <tbody>\n",
       "    <tr>\n",
       "      <th>Noun</th>\n",
       "      <td>-0.180454</td>\n",
       "      <td>0.643335</td>\n",
       "      <td>0.396531</td>\n",
       "      <td>-0.295674</td>\n",
       "      <td>0.695562</td>\n",
       "      <td>-0.188022</td>\n",
       "      <td>0.219599</td>\n",
       "      <td>0.002521</td>\n",
       "      <td>0.062909</td>\n",
       "      <td>-0.588619</td>\n",
       "      <td>...</td>\n",
       "      <td>0.249292</td>\n",
       "      <td>0.161098</td>\n",
       "      <td>-0.029207</td>\n",
       "      <td>0.025964</td>\n",
       "      <td>-0.182683</td>\n",
       "      <td>0.188732</td>\n",
       "      <td>-0.778827</td>\n",
       "      <td>-0.348599</td>\n",
       "      <td>-0.640534</td>\n",
       "      <td>0.252175</td>\n",
       "    </tr>\n",
       "    <tr>\n",
       "      <th>Adj</th>\n",
       "      <td>0.047830</td>\n",
       "      <td>0.022359</td>\n",
       "      <td>0.020490</td>\n",
       "      <td>0.061702</td>\n",
       "      <td>0.037512</td>\n",
       "      <td>0.015431</td>\n",
       "      <td>0.065770</td>\n",
       "      <td>0.011578</td>\n",
       "      <td>0.036973</td>\n",
       "      <td>0.074561</td>\n",
       "      <td>...</td>\n",
       "      <td>0.013905</td>\n",
       "      <td>0.028858</td>\n",
       "      <td>0.015241</td>\n",
       "      <td>0.002146</td>\n",
       "      <td>0.065080</td>\n",
       "      <td>0.044383</td>\n",
       "      <td>0.020371</td>\n",
       "      <td>0.065825</td>\n",
       "      <td>0.033098</td>\n",
       "      <td>-0.009339</td>\n",
       "    </tr>\n",
       "    <tr>\n",
       "      <th>Verb</th>\n",
       "      <td>0.267867</td>\n",
       "      <td>-0.736796</td>\n",
       "      <td>-0.633860</td>\n",
       "      <td>-0.306305</td>\n",
       "      <td>0.407020</td>\n",
       "      <td>0.556875</td>\n",
       "      <td>-0.659056</td>\n",
       "      <td>-0.101476</td>\n",
       "      <td>-0.257852</td>\n",
       "      <td>0.071684</td>\n",
       "      <td>...</td>\n",
       "      <td>-0.085225</td>\n",
       "      <td>0.147153</td>\n",
       "      <td>0.258065</td>\n",
       "      <td>0.183200</td>\n",
       "      <td>-0.021882</td>\n",
       "      <td>-0.014650</td>\n",
       "      <td>1.003855</td>\n",
       "      <td>1.158595</td>\n",
       "      <td>0.168167</td>\n",
       "      <td>-0.402417</td>\n",
       "    </tr>\n",
       "  </tbody>\n",
       "</table>\n",
       "<p>3 rows × 512 columns</p>\n",
       "</div>"
      ],
      "text/plain": [
       "           0         1         2         3         4         5         6    \\\n",
       "Noun -0.180454  0.643335  0.396531 -0.295674  0.695562 -0.188022  0.219599   \n",
       "Adj   0.047830  0.022359  0.020490  0.061702  0.037512  0.015431  0.065770   \n",
       "Verb  0.267867 -0.736796 -0.633860 -0.306305  0.407020  0.556875 -0.659056   \n",
       "\n",
       "           7         8         9    ...       502       503       504  \\\n",
       "Noun  0.002521  0.062909 -0.588619  ...  0.249292  0.161098 -0.029207   \n",
       "Adj   0.011578  0.036973  0.074561  ...  0.013905  0.028858  0.015241   \n",
       "Verb -0.101476 -0.257852  0.071684  ... -0.085225  0.147153  0.258065   \n",
       "\n",
       "           505       506       507       508       509       510       511  \n",
       "Noun  0.025964 -0.182683  0.188732 -0.778827 -0.348599 -0.640534  0.252175  \n",
       "Adj   0.002146  0.065080  0.044383  0.020371  0.065825  0.033098 -0.009339  \n",
       "Verb  0.183200 -0.021882 -0.014650  1.003855  1.158595  0.168167 -0.402417  \n",
       "\n",
       "[3 rows x 512 columns]"
      ]
     },
     "execution_count": 186,
     "metadata": {},
     "output_type": "execute_result"
    }
   ],
   "source": [
    "# store the weights in a pandas dataframe\n",
    "\n",
    "\n",
    "weights_dict = {\n",
    "    'Noun': weights[0],\n",
    "    'Adj': weights[1],\n",
    "    'Verb': weights[2]\n",
    "}\n",
    "weight_df = pd.DataFrame.from_dict(weights_dict, orient='index')\n",
    "\n",
    "weight_df"
   ]
  },
  {
   "cell_type": "markdown",
   "metadata": {},
   "source": [
    "Noun's weights:"
   ]
  },
  {
   "cell_type": "code",
   "execution_count": 187,
   "metadata": {},
   "outputs": [
    {
     "data": {
      "text/html": [
       "<div>\n",
       "<style scoped>\n",
       "    .dataframe tbody tr th:only-of-type {\n",
       "        vertical-align: middle;\n",
       "    }\n",
       "\n",
       "    .dataframe tbody tr th {\n",
       "        vertical-align: top;\n",
       "    }\n",
       "\n",
       "    .dataframe thead th {\n",
       "        text-align: right;\n",
       "    }\n",
       "</style>\n",
       "<table border=\"1\" class=\"dataframe\">\n",
       "  <thead>\n",
       "    <tr style=\"text-align: right;\">\n",
       "      <th></th>\n",
       "      <th>0</th>\n",
       "    </tr>\n",
       "  </thead>\n",
       "  <tbody>\n",
       "    <tr>\n",
       "      <th>0</th>\n",
       "      <td>275</td>\n",
       "    </tr>\n",
       "    <tr>\n",
       "      <th>1</th>\n",
       "      <td>378</td>\n",
       "    </tr>\n",
       "    <tr>\n",
       "      <th>2</th>\n",
       "      <td>409</td>\n",
       "    </tr>\n",
       "    <tr>\n",
       "      <th>3</th>\n",
       "      <td>78</td>\n",
       "    </tr>\n",
       "    <tr>\n",
       "      <th>4</th>\n",
       "      <td>465</td>\n",
       "    </tr>\n",
       "    <tr>\n",
       "      <th>5</th>\n",
       "      <td>305</td>\n",
       "    </tr>\n",
       "    <tr>\n",
       "      <th>6</th>\n",
       "      <td>480</td>\n",
       "    </tr>\n",
       "    <tr>\n",
       "      <th>7</th>\n",
       "      <td>229</td>\n",
       "    </tr>\n",
       "    <tr>\n",
       "      <th>8</th>\n",
       "      <td>37</td>\n",
       "    </tr>\n",
       "    <tr>\n",
       "      <th>9</th>\n",
       "      <td>192</td>\n",
       "    </tr>\n",
       "  </tbody>\n",
       "</table>\n",
       "</div>"
      ],
      "text/plain": [
       "     0\n",
       "0  275\n",
       "1  378\n",
       "2  409\n",
       "3   78\n",
       "4  465\n",
       "5  305\n",
       "6  480\n",
       "7  229\n",
       "8   37\n",
       "9  192"
      ]
     },
     "execution_count": 187,
     "metadata": {},
     "output_type": "execute_result"
    }
   ],
   "source": [
    "pd.DataFrame(weight_df.loc['Noun'].apply(abs).sort_values(ascending=False)[:10].index)"
   ]
  },
  {
   "cell_type": "markdown",
   "metadata": {},
   "source": [
    "Adjective weights:"
   ]
  },
  {
   "cell_type": "code",
   "execution_count": 188,
   "metadata": {},
   "outputs": [
    {
     "data": {
      "text/html": [
       "<div>\n",
       "<style scoped>\n",
       "    .dataframe tbody tr th:only-of-type {\n",
       "        vertical-align: middle;\n",
       "    }\n",
       "\n",
       "    .dataframe tbody tr th {\n",
       "        vertical-align: top;\n",
       "    }\n",
       "\n",
       "    .dataframe thead th {\n",
       "        text-align: right;\n",
       "    }\n",
       "</style>\n",
       "<table border=\"1\" class=\"dataframe\">\n",
       "  <thead>\n",
       "    <tr style=\"text-align: right;\">\n",
       "      <th></th>\n",
       "      <th>0</th>\n",
       "    </tr>\n",
       "  </thead>\n",
       "  <tbody>\n",
       "    <tr>\n",
       "      <th>0</th>\n",
       "      <td>187</td>\n",
       "    </tr>\n",
       "    <tr>\n",
       "      <th>1</th>\n",
       "      <td>99</td>\n",
       "    </tr>\n",
       "    <tr>\n",
       "      <th>2</th>\n",
       "      <td>433</td>\n",
       "    </tr>\n",
       "    <tr>\n",
       "      <th>3</th>\n",
       "      <td>250</td>\n",
       "    </tr>\n",
       "    <tr>\n",
       "      <th>4</th>\n",
       "      <td>100</td>\n",
       "    </tr>\n",
       "    <tr>\n",
       "      <th>5</th>\n",
       "      <td>222</td>\n",
       "    </tr>\n",
       "    <tr>\n",
       "      <th>6</th>\n",
       "      <td>209</td>\n",
       "    </tr>\n",
       "    <tr>\n",
       "      <th>7</th>\n",
       "      <td>304</td>\n",
       "    </tr>\n",
       "    <tr>\n",
       "      <th>8</th>\n",
       "      <td>9</td>\n",
       "    </tr>\n",
       "    <tr>\n",
       "      <th>9</th>\n",
       "      <td>169</td>\n",
       "    </tr>\n",
       "  </tbody>\n",
       "</table>\n",
       "</div>"
      ],
      "text/plain": [
       "     0\n",
       "0  187\n",
       "1   99\n",
       "2  433\n",
       "3  250\n",
       "4  100\n",
       "5  222\n",
       "6  209\n",
       "7  304\n",
       "8    9\n",
       "9  169"
      ]
     },
     "execution_count": 188,
     "metadata": {},
     "output_type": "execute_result"
    }
   ],
   "source": [
    "pd.DataFrame(weight_df.loc['Adj'].apply(abs).sort_values(ascending=False)[:10].index)"
   ]
  },
  {
   "cell_type": "code",
   "execution_count": 189,
   "metadata": {},
   "outputs": [
    {
     "data": {
      "text/html": [
       "<div>\n",
       "<style scoped>\n",
       "    .dataframe tbody tr th:only-of-type {\n",
       "        vertical-align: middle;\n",
       "    }\n",
       "\n",
       "    .dataframe tbody tr th {\n",
       "        vertical-align: top;\n",
       "    }\n",
       "\n",
       "    .dataframe thead th {\n",
       "        text-align: right;\n",
       "    }\n",
       "</style>\n",
       "<table border=\"1\" class=\"dataframe\">\n",
       "  <thead>\n",
       "    <tr style=\"text-align: right;\">\n",
       "      <th></th>\n",
       "      <th>0</th>\n",
       "    </tr>\n",
       "  </thead>\n",
       "  <tbody>\n",
       "    <tr>\n",
       "      <th>0</th>\n",
       "      <td>192</td>\n",
       "    </tr>\n",
       "    <tr>\n",
       "      <th>1</th>\n",
       "      <td>378</td>\n",
       "    </tr>\n",
       "    <tr>\n",
       "      <th>2</th>\n",
       "      <td>282</td>\n",
       "    </tr>\n",
       "    <tr>\n",
       "      <th>3</th>\n",
       "      <td>310</td>\n",
       "    </tr>\n",
       "    <tr>\n",
       "      <th>4</th>\n",
       "      <td>393</td>\n",
       "    </tr>\n",
       "    <tr>\n",
       "      <th>5</th>\n",
       "      <td>480</td>\n",
       "    </tr>\n",
       "    <tr>\n",
       "      <th>6</th>\n",
       "      <td>89</td>\n",
       "    </tr>\n",
       "    <tr>\n",
       "      <th>7</th>\n",
       "      <td>305</td>\n",
       "    </tr>\n",
       "    <tr>\n",
       "      <th>8</th>\n",
       "      <td>429</td>\n",
       "    </tr>\n",
       "    <tr>\n",
       "      <th>9</th>\n",
       "      <td>154</td>\n",
       "    </tr>\n",
       "  </tbody>\n",
       "</table>\n",
       "</div>"
      ],
      "text/plain": [
       "     0\n",
       "0  192\n",
       "1  378\n",
       "2  282\n",
       "3  310\n",
       "4  393\n",
       "5  480\n",
       "6   89\n",
       "7  305\n",
       "8  429\n",
       "9  154"
      ]
     },
     "execution_count": 189,
     "metadata": {},
     "output_type": "execute_result"
    }
   ],
   "source": [
    "pd.DataFrame(weight_df.loc['Verb'].apply(abs).sort_values(ascending=False)[:10].index)"
   ]
  }
 ],
 "metadata": {
  "kernelspec": {
   "display_name": "Python 3 (ipykernel)",
   "language": "python",
   "name": "python3"
  },
  "language_info": {
   "codemirror_mode": {
    "name": "ipython",
    "version": 3
   },
   "file_extension": ".py",
   "mimetype": "text/x-python",
   "name": "python",
   "nbconvert_exporter": "python",
   "pygments_lexer": "ipython3",
   "version": "3.10.9"
  },
  "vscode": {
   "interpreter": {
    "hash": "3de7a084b318d7b8bf96005cb5db4da14a27f60df0465391ef48a4c336f03bfe"
   }
  }
 },
 "nbformat": 4,
 "nbformat_minor": 2
}
