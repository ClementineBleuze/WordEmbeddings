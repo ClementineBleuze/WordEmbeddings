{
 "cells": [
  {
   "cell_type": "code",
   "execution_count": 1,
   "metadata": {},
   "outputs": [],
   "source": [
    "import torch.nn as nn\n",
    "import torch \n",
    "import pandas as pd\n",
    "import numpy as np\n",
    "from sklearn.model_selection import train_test_split\n",
    "import seaborn as sns\n",
    "from matplotlib import pyplot as plt"
   ]
  },
  {
   "attachments": {},
   "cell_type": "markdown",
   "metadata": {},
   "source": [
    "# NN Classification (Perceptron) : gender"
   ]
  },
  {
   "attachments": {},
   "cell_type": "markdown",
   "metadata": {},
   "source": [
    "## Data preparation"
   ]
  },
  {
   "attachments": {},
   "cell_type": "markdown",
   "metadata": {},
   "source": [
    "### Load data: NOUN, ADJ, and both"
   ]
  },
  {
   "cell_type": "code",
   "execution_count": 2,
   "metadata": {},
   "outputs": [],
   "source": [
    "df_nouns_we = pd.read_csv('../Data/FlauBERT_WE/all_nouns_we.csv').drop(columns=[\"number\"])\n",
    "df_adj_we = pd.read_csv('../Data/FlauBERT_WE/all_adjectives_we.csv').drop(columns = \"number\")\n",
    "df_both_we = pd.concat([df_nouns_we, df_adj_we], ignore_index=True)\n",
    "\n",
    "# target : gender\n",
    "Y_gd_N = df_nouns_we[\"gender\"].apply(lambda x: 1 if x == \"masculine\" else 0)\n",
    "Y_gd_A = df_adj_we[\"gender\"].apply(lambda x: 1 if x == \"masculine\" else 0)\n",
    "Y_gd_both = df_both_we[\"gender\"].apply(lambda x: 1 if x == \"masculine\" else 0)\n",
    "\n",
    "# features : word embeddings dimensions\n",
    "X_gd_N = df_nouns_we.drop(columns=[\"Word\", \"gender\"])\n",
    "X_gd_A = df_adj_we.drop(columns=[\"Word\", \"gender\"])\n",
    "X_gd_both = df_both_we.drop(columns = [\"Word\", \"gender\"] )\n",
    "\n",
    "# normalize data to be between 0 and 1\n",
    "X_gd_N = (X_gd_N - X_gd_N.min()) / (X_gd_N.max() - X_gd_N.min())\n",
    "X_gd_A = (X_gd_A - X_gd_A.min()) / (X_gd_A.max() - X_gd_A.min())\n",
    "X_gd_both = (X_gd_both - X_gd_both.min()) / (X_gd_both.max() - X_gd_both.min())\n",
    "\n",
    "# split data into train and test sets\n",
    "X_gd_N_train, X_gd_N_test, Y_gd_N_train, Y_gd_N_test = train_test_split(X_gd_N, Y_gd_N, test_size=0.2, random_state=42)\n",
    "X_gd_A_train, X_gd_A_test, Y_gd_A_train, Y_gd_A_test = train_test_split(X_gd_A, Y_gd_A, test_size=0.2, random_state=42)\n",
    "X_gd_both_train, X_gd_both_test, Y_gd_both_train, Y_gd_both_test = train_test_split(X_gd_both, Y_gd_both, test_size=0.2, random_state=42)"
   ]
  },
  {
   "cell_type": "code",
   "execution_count": 3,
   "metadata": {},
   "outputs": [
    {
     "name": "stdout",
     "output_type": "stream",
     "text": [
      "X_gd_N_train shape :  (10590, 512)\n",
      "X_gd_N_test shape :  (2648, 512)\n",
      "Y_gd_N_train shape :  (10590,)\n",
      "Y_gd_N_test shape :  (2648,)\n",
      "X_gd_A_train shape :  (5067, 512)\n",
      "X_gd_A_test shape :  (1267, 512)\n",
      "Y_gd_A_train shape :  (5067,)\n",
      "Y_gd_A_test shape :  (1267,)\n",
      "X_gd_both_train shape :  (15657, 512)\n",
      "X_gd_both_test shape :  (3915, 512)\n"
     ]
    }
   ],
   "source": [
    "# print all the shapes\n",
    "print(\"X_gd_N_train shape : \", X_gd_N_train.shape)\n",
    "print(\"X_gd_N_test shape : \", X_gd_N_test.shape)\n",
    "print(\"Y_gd_N_train shape : \", Y_gd_N_train.shape)\n",
    "print(\"Y_gd_N_test shape : \", Y_gd_N_test.shape)\n",
    "print(\"X_gd_A_train shape : \", X_gd_A_train.shape)\n",
    "print(\"X_gd_A_test shape : \", X_gd_A_test.shape)\n",
    "print(\"Y_gd_A_train shape : \", Y_gd_A_train.shape)\n",
    "print(\"Y_gd_A_test shape : \", Y_gd_A_test.shape)\n",
    "print(\"X_gd_both_train shape : \", X_gd_both_train.shape)\n",
    "print(\"X_gd_both_test shape : \", X_gd_both_test.shape)"
   ]
  },
  {
   "cell_type": "code",
   "execution_count": 4,
   "metadata": {},
   "outputs": [],
   "source": [
    "train_features = [X_gd_N_train, X_gd_A_train, X_gd_both_train]\n",
    "test_features = [X_gd_N_test, X_gd_A_test, X_gd_both_test]\n",
    "train_targets = [Y_gd_N_train, Y_gd_A_train, Y_gd_both_train]\n",
    "test_targets = [Y_gd_N_test, Y_gd_A_test, Y_gd_both_test]"
   ]
  },
  {
   "attachments": {},
   "cell_type": "markdown",
   "metadata": {},
   "source": [
    "### Tensors"
   ]
  },
  {
   "cell_type": "code",
   "execution_count": 5,
   "metadata": {},
   "outputs": [],
   "source": [
    "# convert to tensors\n",
    "train_features = [torch.tensor(x.values).float() for x in train_features]\n",
    "test_features = [torch.tensor(x.values).float() for x in test_features]\n",
    "train_targets = [torch.tensor(x.values).long() for x in train_targets]\n",
    "test_targets = [torch.tensor(x.values).long() for x in test_targets]"
   ]
  },
  {
   "cell_type": "code",
   "execution_count": 6,
   "metadata": {},
   "outputs": [],
   "source": [
    "from torch.utils.data import TensorDataset, DataLoader\n",
    "# the TensorDataset is a ready to use class to represent your data as list of tensors. \n",
    "# Note that input_features and labels must match on the length of the first dimension\n",
    "train_sets = [TensorDataset(X_train, Y_train) for X_train, Y_train in zip(train_features, train_targets)]\n",
    "test_sets = [TensorDataset(X_valid, Y_valid) for X_valid, Y_valid in zip(test_features, test_targets)]\n",
    "\n",
    "# DataLoader shuffles and batches the data and load its in parallel using multiprocessing workers\n",
    "train_loaders = [DataLoader(train_set, batch_size=32, shuffle=True) for train_set in train_sets]\n",
    "test_loaders = [DataLoader(test_set, batch_size=32) for test_set in test_sets]"
   ]
  },
  {
   "attachments": {},
   "cell_type": "markdown",
   "metadata": {},
   "source": [
    "## Classification"
   ]
  },
  {
   "attachments": {},
   "cell_type": "markdown",
   "metadata": {},
   "source": [
    "### NN definition"
   ]
  },
  {
   "cell_type": "code",
   "execution_count": 46,
   "metadata": {},
   "outputs": [],
   "source": [
    "NNlist = []\n",
    "\n",
    "for i in range(3):\n",
    "    \n",
    "    # create a fully connected perceptron with 1 input layer (512 features) and 1 output layer \n",
    "    model = nn.Sequential(nn.Linear(512, 2), nn.Softmax(dim=1))\n",
    "    # define the loss function\n",
    "    loss_fn = nn.CrossEntropyLoss()\n",
    "    # define the optimizer\n",
    "    optimizer = torch.optim.Adam(model.parameters(), lr=0.001)\n",
    "    # add the model to the list\n",
    "    NNlist.append([model, loss_fn, optimizer])"
   ]
  },
  {
   "attachments": {},
   "cell_type": "markdown",
   "metadata": {},
   "source": [
    "## Train the models"
   ]
  },
  {
   "cell_type": "code",
   "execution_count": 47,
   "metadata": {},
   "outputs": [],
   "source": [
    "nb_epochs = 100"
   ]
  },
  {
   "cell_type": "code",
   "execution_count": 48,
   "metadata": {},
   "outputs": [
    {
     "name": "stdout",
     "output_type": "stream",
     "text": [
      "* Training model  0\n",
      "--Epoch  0  Loss :  0.6446561217308044\n",
      "--Epoch  10  Loss :  0.49609577655792236\n",
      "--Epoch  20  Loss :  0.41727888584136963\n",
      "--Epoch  30  Loss :  0.4228721559047699\n",
      "--Epoch  40  Loss :  0.365585595369339\n",
      "--Epoch  50  Loss :  0.40482768416404724\n",
      "--Epoch  60  Loss :  0.3909391760826111\n",
      "--Epoch  70  Loss :  0.3541414439678192\n",
      "--Epoch  80  Loss :  0.42284345626831055\n",
      "--Epoch  90  Loss :  0.34615904092788696\n",
      "* Training model  1\n",
      "--Epoch  0  Loss :  0.5496562719345093\n",
      "--Epoch  10  Loss :  0.41234076023101807\n",
      "--Epoch  20  Loss :  0.3527165651321411\n",
      "--Epoch  30  Loss :  0.3270902931690216\n",
      "--Epoch  40  Loss :  0.3339618444442749\n",
      "--Epoch  50  Loss :  0.38026201725006104\n",
      "--Epoch  60  Loss :  0.38230860233306885\n",
      "--Epoch  70  Loss :  0.34386029839515686\n",
      "--Epoch  80  Loss :  0.3253473937511444\n",
      "--Epoch  90  Loss :  0.4053548574447632\n",
      "* Training model  2\n",
      "--Epoch  0  Loss :  0.6017105579376221\n",
      "--Epoch  10  Loss :  0.39421340823173523\n",
      "--Epoch  20  Loss :  0.4415295720100403\n",
      "--Epoch  30  Loss :  0.33294540643692017\n",
      "--Epoch  40  Loss :  0.34710052609443665\n",
      "--Epoch  50  Loss :  0.32283174991607666\n",
      "--Epoch  60  Loss :  0.3276043236255646\n",
      "--Epoch  70  Loss :  0.4130267798900604\n",
      "--Epoch  80  Loss :  0.3217352628707886\n",
      "--Epoch  90  Loss :  0.40409111976623535\n"
     ]
    }
   ],
   "source": [
    "# train the models \n",
    "for i in range(3):\n",
    "    print(\"* Training model \", i)\n",
    "    model, loss_fn, optimizer = NNlist[i]\n",
    "    # put the model in training mode\n",
    "    model.train()\n",
    "\n",
    "    for epoch in range(nb_epochs):\n",
    "        for X_train, Y_train in train_loaders[i]:\n",
    "            # compute the model output\n",
    "            Y_pred = model(X_train)\n",
    "            # calculate loss\n",
    "            loss = loss_fn(Y_pred, Y_train)\n",
    "            # reset the gradients\n",
    "            optimizer.zero_grad()\n",
    "            # backpropagation\n",
    "            loss.backward()\n",
    "            # update model weights\n",
    "            optimizer.step()\n",
    "\n",
    "        if epoch % 10 == 0:\n",
    "            print(\"--Epoch \", epoch, \" Loss : \", loss.item())"
   ]
  },
  {
   "cell_type": "code",
   "execution_count": 49,
   "metadata": {},
   "outputs": [
    {
     "name": "stdout",
     "output_type": "stream",
     "text": [
      "Model  0 \n",
      " Accuracy :  0.9512839879154078\n",
      " Precision :  0.9417071342468262\n",
      " Recall :  0.9679030179977417\n",
      " F1 score :  0.9546254277229309\n",
      "Confusion matrix : \n"
     ]
    },
    {
     "data": {
      "image/png": "[encoded data removed]",
      "text/plain": [
       "<Figure size 640x480 with 1 Axes>"
      ]
     },
     "metadata": {},
     "output_type": "display_data"
    },
    {
     "name": "stdout",
     "output_type": "stream",
     "text": [
      "Model  1 \n",
      " Accuracy :  0.994475138121547\n",
      " Precision :  0.9949685335159302\n",
      " Recall :  0.996221661567688\n",
      " F1 score :  0.9955946803092957\n",
      "Confusion matrix : \n"
     ]
    },
    {
     "data": {
      "image/png": "[encoded data removed]",
      "text/plain": [
       "<Figure size 640x480 with 1 Axes>"
      ]
     },
     "metadata": {},
     "output_type": "display_data"
    },
    {
     "name": "stdout",
     "output_type": "stream",
     "text": [
      "Model  2 \n",
      " Accuracy :  0.9560664112388251\n",
      " Precision :  0.95493084192276\n",
      " Recall :  0.967887818813324\n",
      " F1 score :  0.9613656401634216\n",
      "Confusion matrix : \n"
     ]
    },
    {
     "data": {
      "image/png": "[encoded data removed]",
      "text/plain": [
       "<Figure size 640x480 with 1 Axes>"
      ]
     },
     "metadata": {},
     "output_type": "display_data"
    }
   ],
   "source": [
    "# display the confusion matrix\n",
    "for i in range(3):\n",
    "\n",
    "    # put the model in evaluation mode\n",
    "    NNlist[i][0].eval()\n",
    "    # initialize the number of correct predictions\n",
    "    nb_correct_pred = 0\n",
    "    # initialize the number of predictions\n",
    "    nb_pred = 0\n",
    "    # initialize the confusion matrix\n",
    "    confusion_matrix = torch.zeros(2, 2)\n",
    "    # iterate over batches\n",
    "    for X_test, Y_test in test_loaders[i]:\n",
    "        # compute the model output\n",
    "        with torch.no_grad():\n",
    "            Y_pred = NNlist[i][0](X_test)\n",
    "            # get the predicted class\n",
    "            Y_pred = torch.argmax(Y_pred, dim=1)\n",
    "            # compute the number of correct predictions\n",
    "            nb_correct_pred += (Y_pred == Y_test).sum().item()\n",
    "            # compute the number of predictions\n",
    "            nb_pred += Y_pred.shape[0]\n",
    "            # update the confusion matrix\n",
    "            for t, p in zip(Y_test.view(-1), Y_pred.view(-1)):\n",
    "                confusion_matrix[t.long(), p.long()] += 1\n",
    "\n",
    "    # compute the accuracy\n",
    "    accuracy = nb_correct_pred / nb_pred\n",
    "    # compute the precision, recall and f1 score\n",
    "    precision = confusion_matrix[1, 1] / (confusion_matrix[1, 1] + confusion_matrix[0, 1])\n",
    "    recall = confusion_matrix[1, 1] / (confusion_matrix[1, 1] + confusion_matrix[1, 0])\n",
    "    f1_score = 2 * precision * recall / (precision + recall)\n",
    "    # print the results\n",
    "    print(\"Model \", i, \"\\n Accuracy : \", accuracy)\n",
    "    print(\" Precision : \", float(precision))\n",
    "    print(\" Recall : \", float(recall))\n",
    "    print(\" F1 score : \", float(f1_score))\n",
    "    print(\"Confusion matrix : \")\n",
    "    sns.heatmap(confusion_matrix, annot=True, fmt='g', cmap='Blues', cbar=False)\n",
    "    plt.show()"
   ]
  },
  {
   "cell_type": "code",
   "execution_count": 50,
   "metadata": {},
   "outputs": [],
   "source": [
    "# get the weights of the first layer of the model trained on the three datasets\n",
    "weights = [NNlist[i][0][0].weight.data.numpy() for i in range(3)]"
   ]
  },
  {
   "cell_type": "code",
   "execution_count": 51,
   "metadata": {},
   "outputs": [
    {
     "name": "stdout",
     "output_type": "stream",
     "text": [
      "(2, 512)\n",
      "[[ 0.84603596  0.3009222  -0.2858471  ...  0.45418143  0.630329\n",
      "  -0.07349979]\n",
      " [-0.9011985  -0.30836713  0.26978102 ... -0.4486797  -0.65319985\n",
      "   0.08126774]]\n"
     ]
    }
   ],
   "source": [
    "print(weights[0].shape)\n",
    "print(weights[0])"
   ]
  },
  {
   "cell_type": "code",
   "execution_count": 52,
   "metadata": {},
   "outputs": [
    {
     "name": "stderr",
     "output_type": "stream",
     "text": [
      "C:\\Users\\bleuze3u\\AppData\\Local\\Temp\\ipykernel_3136\\2365961212.py:4: FutureWarning: The frame.append method is deprecated and will be removed from pandas in a future version. Use pandas.concat instead.\n",
      "  weights_df = weights_df.append(pd.DataFrame(weights[1], columns=X_gd_A_train.columns))\n",
      "C:\\Users\\bleuze3u\\AppData\\Local\\Temp\\ipykernel_3136\\2365961212.py:6: FutureWarning: The frame.append method is deprecated and will be removed from pandas in a future version. Use pandas.concat instead.\n",
      "  weights_df = weights_df.append(pd.DataFrame(weights[2], columns=X_gd_both_train.columns))\n"
     ]
    }
   ],
   "source": [
    "# store the weights in a pandas dataframe\n",
    "weights_df = pd.DataFrame(weights[0], columns=X_gd_N_train.columns)\n",
    "weights_df['dataset'] = 'N'\n",
    "weights_df = weights_df.append(pd.DataFrame(weights[1], columns=X_gd_A_train.columns))\n",
    "weights_df['dataset'] = weights_df['dataset'].fillna('A')\n",
    "weights_df = weights_df.append(pd.DataFrame(weights[2], columns=X_gd_both_train.columns))\n",
    "weights_df['dataset'] = weights_df['dataset'].fillna('both')\n",
    "\n",
    "# set the dataset as index\n",
    "weights_df = weights_df.set_index('dataset')"
   ]
  },
  {
   "cell_type": "code",
   "execution_count": 53,
   "metadata": {},
   "outputs": [
    {
     "data": {
      "text/html": [
       "<div>\n",
       "<style scoped>\n",
       "    .dataframe tbody tr th:only-of-type {\n",
       "        vertical-align: middle;\n",
       "    }\n",
       "\n",
       "    .dataframe tbody tr th {\n",
       "        vertical-align: top;\n",
       "    }\n",
       "\n",
       "    .dataframe thead th {\n",
       "        text-align: right;\n",
       "    }\n",
       "</style>\n",
       "<table border=\"1\" class=\"dataframe\">\n",
       "  <thead>\n",
       "    <tr style=\"text-align: right;\">\n",
       "      <th></th>\n",
       "      <th>0</th>\n",
       "      <th>1</th>\n",
       "      <th>2</th>\n",
       "      <th>3</th>\n",
       "      <th>4</th>\n",
       "      <th>5</th>\n",
       "      <th>6</th>\n",
       "      <th>7</th>\n",
       "      <th>8</th>\n",
       "      <th>9</th>\n",
       "      <th>...</th>\n",
       "      <th>502</th>\n",
       "      <th>503</th>\n",
       "      <th>504</th>\n",
       "      <th>505</th>\n",
       "      <th>506</th>\n",
       "      <th>507</th>\n",
       "      <th>508</th>\n",
       "      <th>509</th>\n",
       "      <th>510</th>\n",
       "      <th>511</th>\n",
       "    </tr>\n",
       "    <tr>\n",
       "      <th>dataset</th>\n",
       "      <th></th>\n",
       "      <th></th>\n",
       "      <th></th>\n",
       "      <th></th>\n",
       "      <th></th>\n",
       "      <th></th>\n",
       "      <th></th>\n",
       "      <th></th>\n",
       "      <th></th>\n",
       "      <th></th>\n",
       "      <th></th>\n",
       "      <th></th>\n",
       "      <th></th>\n",
       "      <th></th>\n",
       "      <th></th>\n",
       "      <th></th>\n",
       "      <th></th>\n",
       "      <th></th>\n",
       "      <th></th>\n",
       "      <th></th>\n",
       "      <th></th>\n",
       "    </tr>\n",
       "  </thead>\n",
       "  <tbody>\n",
       "    <tr>\n",
       "      <th>N</th>\n",
       "      <td>0.846036</td>\n",
       "      <td>0.300922</td>\n",
       "      <td>-0.285847</td>\n",
       "      <td>-0.086823</td>\n",
       "      <td>0.787666</td>\n",
       "      <td>-1.134273</td>\n",
       "      <td>-0.223839</td>\n",
       "      <td>-1.624826</td>\n",
       "      <td>0.911758</td>\n",
       "      <td>0.426340</td>\n",
       "      <td>...</td>\n",
       "      <td>-0.264814</td>\n",
       "      <td>0.912214</td>\n",
       "      <td>-0.162907</td>\n",
       "      <td>0.522866</td>\n",
       "      <td>0.056498</td>\n",
       "      <td>-1.539892</td>\n",
       "      <td>-0.469072</td>\n",
       "      <td>0.454181</td>\n",
       "      <td>0.630329</td>\n",
       "      <td>-0.073500</td>\n",
       "    </tr>\n",
       "    <tr>\n",
       "      <th>N</th>\n",
       "      <td>-0.901199</td>\n",
       "      <td>-0.308367</td>\n",
       "      <td>0.269781</td>\n",
       "      <td>0.143071</td>\n",
       "      <td>-0.817327</td>\n",
       "      <td>1.119438</td>\n",
       "      <td>0.247629</td>\n",
       "      <td>1.626636</td>\n",
       "      <td>-0.915359</td>\n",
       "      <td>-0.393137</td>\n",
       "      <td>...</td>\n",
       "      <td>0.217716</td>\n",
       "      <td>-0.848450</td>\n",
       "      <td>0.178816</td>\n",
       "      <td>-0.542615</td>\n",
       "      <td>-0.122473</td>\n",
       "      <td>1.505519</td>\n",
       "      <td>0.501749</td>\n",
       "      <td>-0.448680</td>\n",
       "      <td>-0.653200</td>\n",
       "      <td>0.081268</td>\n",
       "    </tr>\n",
       "    <tr>\n",
       "      <th>A</th>\n",
       "      <td>0.565860</td>\n",
       "      <td>0.218716</td>\n",
       "      <td>-0.432030</td>\n",
       "      <td>-0.165197</td>\n",
       "      <td>0.487706</td>\n",
       "      <td>-1.292943</td>\n",
       "      <td>-0.275893</td>\n",
       "      <td>-0.647258</td>\n",
       "      <td>0.332452</td>\n",
       "      <td>0.406746</td>\n",
       "      <td>...</td>\n",
       "      <td>0.121187</td>\n",
       "      <td>0.984599</td>\n",
       "      <td>0.131558</td>\n",
       "      <td>0.281587</td>\n",
       "      <td>-0.498260</td>\n",
       "      <td>-0.983694</td>\n",
       "      <td>0.071034</td>\n",
       "      <td>0.193015</td>\n",
       "      <td>0.140102</td>\n",
       "      <td>0.555712</td>\n",
       "    </tr>\n",
       "    <tr>\n",
       "      <th>A</th>\n",
       "      <td>-0.589038</td>\n",
       "      <td>-0.261797</td>\n",
       "      <td>0.477376</td>\n",
       "      <td>0.189192</td>\n",
       "      <td>-0.488106</td>\n",
       "      <td>1.307083</td>\n",
       "      <td>0.300015</td>\n",
       "      <td>0.659518</td>\n",
       "      <td>-0.327100</td>\n",
       "      <td>-0.344491</td>\n",
       "      <td>...</td>\n",
       "      <td>-0.095963</td>\n",
       "      <td>-1.056302</td>\n",
       "      <td>-0.178114</td>\n",
       "      <td>-0.272043</td>\n",
       "      <td>0.531221</td>\n",
       "      <td>0.999070</td>\n",
       "      <td>-0.086591</td>\n",
       "      <td>-0.217111</td>\n",
       "      <td>-0.152982</td>\n",
       "      <td>-0.534711</td>\n",
       "    </tr>\n",
       "    <tr>\n",
       "      <th>both</th>\n",
       "      <td>1.147924</td>\n",
       "      <td>0.243077</td>\n",
       "      <td>-0.766639</td>\n",
       "      <td>0.012383</td>\n",
       "      <td>1.014780</td>\n",
       "      <td>-1.529853</td>\n",
       "      <td>-0.360777</td>\n",
       "      <td>-1.821895</td>\n",
       "      <td>1.062723</td>\n",
       "      <td>0.444499</td>\n",
       "      <td>...</td>\n",
       "      <td>-0.172867</td>\n",
       "      <td>1.193558</td>\n",
       "      <td>-0.106780</td>\n",
       "      <td>0.879802</td>\n",
       "      <td>-0.087658</td>\n",
       "      <td>-1.761862</td>\n",
       "      <td>-0.440605</td>\n",
       "      <td>0.579808</td>\n",
       "      <td>0.617684</td>\n",
       "      <td>-0.106696</td>\n",
       "    </tr>\n",
       "    <tr>\n",
       "      <th>both</th>\n",
       "      <td>-1.199610</td>\n",
       "      <td>-0.247595</td>\n",
       "      <td>0.775210</td>\n",
       "      <td>-0.021403</td>\n",
       "      <td>-0.953299</td>\n",
       "      <td>1.540445</td>\n",
       "      <td>0.354431</td>\n",
       "      <td>1.830138</td>\n",
       "      <td>-1.042678</td>\n",
       "      <td>-0.468110</td>\n",
       "      <td>...</td>\n",
       "      <td>0.178778</td>\n",
       "      <td>-1.195875</td>\n",
       "      <td>0.150716</td>\n",
       "      <td>-0.907878</td>\n",
       "      <td>0.037804</td>\n",
       "      <td>1.709094</td>\n",
       "      <td>0.457310</td>\n",
       "      <td>-0.610930</td>\n",
       "      <td>-0.565947</td>\n",
       "      <td>0.051822</td>\n",
       "    </tr>\n",
       "  </tbody>\n",
       "</table>\n",
       "<p>6 rows × 512 columns</p>\n",
       "</div>"
      ],
      "text/plain": [
       "                0         1         2         3         4         5         6  \\\n",
       "dataset                                                                         \n",
       "N        0.846036  0.300922 -0.285847 -0.086823  0.787666 -1.134273 -0.223839   \n",
       "N       -0.901199 -0.308367  0.269781  0.143071 -0.817327  1.119438  0.247629   \n",
       "A        0.565860  0.218716 -0.432030 -0.165197  0.487706 -1.292943 -0.275893   \n",
       "A       -0.589038 -0.261797  0.477376  0.189192 -0.488106  1.307083  0.300015   \n",
       "both     1.147924  0.243077 -0.766639  0.012383  1.014780 -1.529853 -0.360777   \n",
       "both    -1.199610 -0.247595  0.775210 -0.021403 -0.953299  1.540445  0.354431   \n",
       "\n",
       "                7         8         9  ...       502       503       504  \\\n",
       "dataset                                ...                                 \n",
       "N       -1.624826  0.911758  0.426340  ... -0.264814  0.912214 -0.162907   \n",
       "N        1.626636 -0.915359 -0.393137  ...  0.217716 -0.848450  0.178816   \n",
       "A       -0.647258  0.332452  0.406746  ...  0.121187  0.984599  0.131558   \n",
       "A        0.659518 -0.327100 -0.344491  ... -0.095963 -1.056302 -0.178114   \n",
       "both    -1.821895  1.062723  0.444499  ... -0.172867  1.193558 -0.106780   \n",
       "both     1.830138 -1.042678 -0.468110  ...  0.178778 -1.195875  0.150716   \n",
       "\n",
       "              505       506       507       508       509       510       511  \n",
       "dataset                                                                        \n",
       "N        0.522866  0.056498 -1.539892 -0.469072  0.454181  0.630329 -0.073500  \n",
       "N       -0.542615 -0.122473  1.505519  0.501749 -0.448680 -0.653200  0.081268  \n",
       "A        0.281587 -0.498260 -0.983694  0.071034  0.193015  0.140102  0.555712  \n",
       "A       -0.272043  0.531221  0.999070 -0.086591 -0.217111 -0.152982 -0.534711  \n",
       "both     0.879802 -0.087658 -1.761862 -0.440605  0.579808  0.617684 -0.106696  \n",
       "both    -0.907878  0.037804  1.709094  0.457310 -0.610930 -0.565947  0.051822  \n",
       "\n",
       "[6 rows x 512 columns]"
      ]
     },
     "execution_count": 53,
     "metadata": {},
     "output_type": "execute_result"
    }
   ],
   "source": [
    "weights_df"
   ]
  },
  {
   "cell_type": "code",
   "execution_count": 54,
   "metadata": {},
   "outputs": [
    {
     "data": {
      "image/png": "[encoded data removed]",
      "text/plain": [
       "<Figure size 2000x1000 with 1 Axes>"
      ]
     },
     "metadata": {},
     "output_type": "display_data"
    }
   ],
   "source": [
    "weights_N_0 = weights_df.iloc[0, :]\n",
    "weights_N_0\n",
    "\n",
    "# plot weights_N_0\n",
    "plt.figure(figsize=(20, 10))\n",
    "plt.bar(range(512), weights_N_0.values)\n",
    "plt.title('Weights of the first layer of the model trained on the N dataset')\n",
    "plt.show()"
   ]
  },
  {
   "cell_type": "code",
   "execution_count": 55,
   "metadata": {},
   "outputs": [
    {
     "data": {
      "image/png": "[encoded data removed]",
      "text/plain": [
       "<Figure size 2000x1000 with 1 Axes>"
      ]
     },
     "metadata": {},
     "output_type": "display_data"
    },
    {
     "data": {
      "image/png": "[encoded data removed]",
      "text/plain": [
       "<Figure size 2000x1000 with 1 Axes>"
      ]
     },
     "metadata": {},
     "output_type": "display_data"
    }
   ],
   "source": [
    "# do the same for the other datasets\n",
    "weights_A_0 = weights_df.iloc[2, :]\n",
    "weights_both_0 = weights_df.iloc[4, :]\n",
    "\n",
    "plt.figure(figsize=(20, 10))\n",
    "plt.bar(range(512), weights_A_0.values)\n",
    "plt.title('Weights of the first layer of the model trained on the A dataset')\n",
    "plt.show()\n",
    "\n",
    "plt.figure(figsize=(20, 10))\n",
    "plt.bar(range(512), weights_both_0.values)\n",
    "plt.title('Weights of the first layer of the model trained on the both dataset')\n",
    "plt.show()"
   ]
  },
  {
   "cell_type": "code",
   "execution_count": 60,
   "metadata": {},
   "outputs": [],
   "source": [
    "sorted_features = []\n",
    "for i in range(3):\n",
    "    # get the list of weights ordered by decreasing absolute value\n",
    "    to_sort = weights[i][0]\n",
    "    to_sort = np.abs(to_sort)\n",
    "    sorted = np.argsort(to_sort)[::-1]\n",
    "    sorted_features.append(sorted)"
   ]
  },
  {
   "cell_type": "code",
   "execution_count": 57,
   "metadata": {},
   "outputs": [
    {
     "name": "stdout",
     "output_type": "stream",
     "text": [
      "Model  0  : \n",
      "\n",
      "100: 2.19944167137146    -2.2513294219970703\n",
      "162: -2.1300923824310303    2.123279333114624\n",
      "377: -1.9380122423171997    1.9243108034133911\n",
      "434: -1.801861047744751    1.7854807376861572\n",
      "468: 1.8014354705810547    -1.7458502054214478\n",
      "186: 1.7960628271102905    -1.8091410398483276\n",
      "250: -1.6841437816619873    1.6685526371002197\n",
      "198: -1.662035584449768    1.6590996980667114\n",
      "7: -1.6248260736465454    1.6266359090805054\n",
      "390: -1.5721120834350586    1.5593373775482178\n",
      "Model  1  : \n",
      "\n",
      "250: -1.4046638011932373    1.397172212600708\n",
      "432: -1.302107334136963    1.275029182434082\n",
      "5: -1.2929431200027466    1.307083249092102\n",
      "390: -1.2873727083206177    1.2675992250442505\n",
      "245: -1.2830076217651367    1.2694462537765503\n",
      "177: -1.2613581418991089    1.2622278928756714\n",
      "362: -1.2258436679840088    1.236374020576477\n",
      "466: -1.201432228088379    1.2068731784820557\n",
      "470: -1.1853488683700562    1.1636061668395996\n",
      "88: 1.168611764907837    -1.1637827157974243\n",
      "Model  2  : \n",
      "\n",
      "162: -2.5429389476776123    2.543278217315674\n",
      "100: 2.395036220550537    -2.4016506671905518\n",
      "377: -2.3515708446502686    2.368751287460327\n",
      "250: -2.121340036392212    2.089320659637451\n",
      "468: 2.083444595336914    -2.1200602054595947\n",
      "186: 2.03169322013855    -2.065304756164551\n",
      "390: -2.019312620162964    2.00663685798645\n",
      "434: -1.924233317375183    1.9939016103744507\n",
      "195: 1.8777233362197876    -1.8667545318603516\n",
      "7: -1.821894645690918    1.8301377296447754\n"
     ]
    }
   ],
   "source": [
    "for i in range(3):\n",
    "    print(\"Model \", i, \" : \\n\")\n",
    "    for feat in sorted_features[i][:10]:\n",
    "        print(f\"{int(feat)}: {weights[i][0][int(feat)]}    {weights[i][1][int(feat)]}\")"
   ]
  },
  {
   "attachments": {},
   "cell_type": "markdown",
   "metadata": {},
   "source": [
    "# NN Classification (Perceptron) : Number"
   ]
  },
  {
   "cell_type": "code",
   "execution_count": 2,
   "metadata": {},
   "outputs": [],
   "source": [
    "df_nouns_we = pd.read_csv('../Data/FlauBERT_WE/all_nouns_we.csv').drop(columns=[\"gender\"])\n",
    "df_adj_we = pd.read_csv('../Data/FlauBERT_WE/all_adjectives_we.csv').drop(columns = \"gender\")\n",
    "df_both_we = pd.concat([df_nouns_we, df_adj_we], ignore_index=True)\n",
    "# target : number\n",
    "Y_nb_N = df_nouns_we[\"number\"].apply(lambda x: 1 if x == \"singular\" else 0)\n",
    "Y_nb_A = df_adj_we[\"number\"].apply(lambda x: 1 if x == \"singular\" else 0)\n",
    "Y_nb_both = df_both_we[\"number\"].apply(lambda x: 1 if x == \"singular\" else 0)\n",
    "# features : word embeddings dimensions\n",
    "X_nb_N = df_nouns_we.drop(columns=[\"Word\", \"number\"])\n",
    "X_nb_A = df_adj_we.drop(columns=[\"Word\", \"number\"])\n",
    "X_nb_both = df_both_we.drop(columns = [\"Word\", \"number\"] )\n",
    "\n",
    "# normalize data to be between 0 and 1\n",
    "X_nb_N = (X_nb_N - X_nb_N.min()) / (X_nb_N.max() - X_nb_N.min())\n",
    "X_nb_A = (X_nb_A - X_nb_A.min()) / (X_nb_A.max() - X_nb_A.min())\n",
    "X_nb_both = (X_nb_both - X_nb_both.min()) / (X_nb_both.max() - X_nb_both.min())\n",
    "\n",
    "\n",
    "# split data into train and test sets\n",
    "X_nb_N_train, X_nb_N_test, Y_nb_N_train, Y_nb_N_test = train_test_split(X_nb_N, Y_nb_N, test_size=0.2, random_state=42)\n",
    "X_nb_A_train, X_nb_A_test, Y_nb_A_train, Y_nb_A_test = train_test_split(X_nb_A, Y_nb_A, test_size=0.2, random_state=42)\n",
    "X_nb_both_train, X_nb_both_test, Y_nb_both_train, Y_nb_both_test = train_test_split(X_nb_both, Y_nb_both, test_size=0.2, random_state=42)"
   ]
  },
  {
   "cell_type": "code",
   "execution_count": 3,
   "metadata": {},
   "outputs": [
    {
     "name": "stdout",
     "output_type": "stream",
     "text": [
      "X_nb_N_train shape :  (10590, 512)\n",
      "X_nb_N_test shape :  (2648, 512)\n",
      "Y_nb_N_train shape :  (10590,)\n",
      "Y_nb_N_test shape :  (2648,)\n",
      "X_nb_A_train shape :  (5067, 512)\n",
      "X_nb_A_test shape :  (1267, 512)\n",
      "Y_nb_A_train shape :  (5067,)\n",
      "Y_nb_A_test shape :  (1267,)\n",
      "X_nb_both_train shape :  (15657, 512)\n",
      "X_nb_both_test shape :  (3915, 512)\n"
     ]
    }
   ],
   "source": [
    "# print all the shapes\n",
    "print(\"X_nb_N_train shape : \", X_nb_N_train.shape)\n",
    "print(\"X_nb_N_test shape : \", X_nb_N_test.shape)\n",
    "print(\"Y_nb_N_train shape : \", Y_nb_N_train.shape)\n",
    "print(\"Y_nb_N_test shape : \", Y_nb_N_test.shape)\n",
    "print(\"X_nb_A_train shape : \", X_nb_A_train.shape)\n",
    "print(\"X_nb_A_test shape : \", X_nb_A_test.shape)\n",
    "print(\"Y_nb_A_train shape : \", Y_nb_A_train.shape)\n",
    "print(\"Y_nb_A_test shape : \", Y_nb_A_test.shape)\n",
    "print(\"X_nb_both_train shape : \", X_nb_both_train.shape)\n",
    "print(\"X_nb_both_test shape : \", X_nb_both_test.shape)"
   ]
  },
  {
   "cell_type": "code",
   "execution_count": 4,
   "metadata": {},
   "outputs": [],
   "source": [
    "train_feature = [X_nb_N_train, X_nb_A_train, X_nb_both_train]\n",
    "test_feature = [X_nb_N_test, X_nb_A_test, X_nb_both_test]\n",
    "train_target = [Y_nb_N_train, Y_nb_A_train, Y_nb_both_train]\n",
    "test_target = [Y_nb_N_test, Y_nb_A_test, Y_nb_both_test]"
   ]
  },
  {
   "attachments": {},
   "cell_type": "markdown",
   "metadata": {},
   "source": [
    "### Tensors"
   ]
  },
  {
   "cell_type": "code",
   "execution_count": 5,
   "metadata": {},
   "outputs": [],
   "source": [
    "# convert to tensors\n",
    "train_feature = [torch.tensor(x.values).float() for x in train_feature]\n",
    "test_feature = [torch.tensor(x.values).float() for x in test_feature]\n",
    "train_target = [torch.tensor(x.values).long() for x in train_target]\n",
    "test_target = [torch.tensor(x.values).long() for x in test_target]"
   ]
  },
  {
   "cell_type": "code",
   "execution_count": 6,
   "metadata": {},
   "outputs": [],
   "source": [
    "from torch.utils.data import TensorDataset, DataLoader\n",
    "# the TensorDataset is a ready to use class to represent your data as list of tensors. \n",
    "# Note that input_features and labels must match on the length of the first dimension\n",
    "train_sets = [TensorDataset(X_train, Y_train) for X_train, Y_train in zip(train_feature, train_target)]\n",
    "test_sets = [TensorDataset(X_valid, Y_valid) for X_valid, Y_valid in zip(test_feature, test_target)]\n",
    "\n",
    "# DataLoader shuffles and batches the data and load its in parallel using multiprocessing workers\n",
    "train_loaders = [DataLoader(train_set, batch_size=32, shuffle=True) for train_set in train_sets]\n",
    "test_loaders = [DataLoader(test_set, batch_size=32) for test_set in test_sets]"
   ]
  },
  {
   "attachments": {},
   "cell_type": "markdown",
   "metadata": {},
   "source": [
    "## Classification"
   ]
  },
  {
   "cell_type": "code",
   "execution_count": 9,
   "metadata": {},
   "outputs": [],
   "source": [
    "NNlist = []\n",
    "\n",
    "for i in range(3):\n",
    "    \n",
    "    # create a fully connected perceptron with 1 input layer (512 features) and 1 output layer (2 classes)\n",
    "    model = nn.Sequential(nn.Linear(512, 2), nn.Softmax(dim=1))\n",
    "    # define the loss function\n",
    "    loss_fn = nn.CrossEntropyLoss()\n",
    "    # define the optimizer\n",
    "    optimizer = torch.optim.Adam(model.parameters(), lr=0.001)\n",
    "    # add the model to the list\n",
    "    NNlist.append([model, loss_fn, optimizer])"
   ]
  },
  {
   "attachments": {},
   "cell_type": "markdown",
   "metadata": {},
   "source": [
    "## Train the models"
   ]
  },
  {
   "cell_type": "code",
   "execution_count": 10,
   "metadata": {},
   "outputs": [
    {
     "name": "stdout",
     "output_type": "stream",
     "text": [
      "* Training model  0\n",
      "--Epoch  0  Loss :  0.5440499186515808\n",
      "--Epoch  10  Loss :  0.3528536856174469\n",
      "--Epoch  20  Loss :  0.3297676742076874\n",
      "--Epoch  30  Loss :  0.33709916472435\n",
      "--Epoch  40  Loss :  0.3687392473220825\n",
      "--Epoch  50  Loss :  0.3336738049983978\n",
      "--Epoch  60  Loss :  0.31871163845062256\n",
      "--Epoch  70  Loss :  0.3264993131160736\n",
      "--Epoch  80  Loss :  0.32264789938926697\n",
      "--Epoch  90  Loss :  0.31724223494529724\n",
      "* Training model  1\n",
      "--Epoch  0  Loss :  0.598804235458374\n",
      "--Epoch  10  Loss :  0.3743787705898285\n",
      "--Epoch  20  Loss :  0.4013937711715698\n",
      "--Epoch  30  Loss :  0.3459959328174591\n",
      "--Epoch  40  Loss :  0.33310461044311523\n",
      "--Epoch  50  Loss :  0.3210395574569702\n",
      "--Epoch  60  Loss :  0.3290303349494934\n",
      "--Epoch  70  Loss :  0.3172324001789093\n",
      "--Epoch  80  Loss :  0.3195200562477112\n",
      "--Epoch  90  Loss :  0.32089078426361084\n",
      "* Training model  2\n",
      "--Epoch  0  Loss :  0.4789024591445923\n",
      "--Epoch  10  Loss :  0.3276904821395874\n",
      "--Epoch  20  Loss :  0.32392215728759766\n",
      "--Epoch  30  Loss :  0.33189627528190613\n",
      "--Epoch  40  Loss :  0.32869020104408264\n",
      "--Epoch  50  Loss :  0.4028612971305847\n",
      "--Epoch  60  Loss :  0.33951306343078613\n",
      "--Epoch  70  Loss :  0.3272330164909363\n",
      "--Epoch  80  Loss :  0.3141845762729645\n",
      "--Epoch  90  Loss :  0.3448585271835327\n"
     ]
    }
   ],
   "source": [
    "nb_epochs = 100\n",
    "# train the models \n",
    "for i in range(3):\n",
    "    print(\"* Training model \", i)\n",
    "    model, loss_fn, optimizer = NNlist[i]\n",
    "    # put the model in training mode\n",
    "    model.train()\n",
    "    for epoch in range(nb_epochs):\n",
    "        for X_train, Y_train in train_loaders[i]:\n",
    "            # compute the model output\n",
    "            Y_pred = model(X_train)\n",
    "            # calculate loss\n",
    "            loss = loss_fn(Y_pred, Y_train)\n",
    "            # reset the gradients\n",
    "            optimizer.zero_grad()\n",
    "            # backpropagation\n",
    "            loss.backward()\n",
    "            # update model weights\n",
    "            optimizer.step()\n",
    "\n",
    "        if epoch % 10 == 0:\n",
    "            print(\"--Epoch \", epoch, \" Loss : \", loss.item())"
   ]
  },
  {
   "cell_type": "code",
   "execution_count": 11,
   "metadata": {},
   "outputs": [
    {
     "name": "stdout",
     "output_type": "stream",
     "text": [
      "Model  0 \n",
      " Accuracy :  0.9928247734138973\n",
      " Precision :  0.9953703880310059\n",
      " Recall :  0.9936453104019165\n",
      " F1 score :  0.9945071339607239\n",
      "Confusion matrix : \n"
     ]
    },
    {
     "data": {
      "image/png": "[encoded data removed]",
      "text/plain": [
       "<Figure size 432x288 with 1 Axes>"
      ]
     },
     "metadata": {
      "needs_background": "light"
     },
     "output_type": "display_data"
    },
    {
     "name": "stdout",
     "output_type": "stream",
     "text": [
      "Model  1 \n",
      " Accuracy :  0.994475138121547\n",
      " Precision :  0.9962406158447266\n",
      " Recall :  0.9949937462806702\n",
      " F1 score :  0.9956168532371521\n",
      "Confusion matrix : \n"
     ]
    },
    {
     "data": {
      "image/png": "[encoded data removed]",
      "text/plain": [
       "<Figure size 432x288 with 1 Axes>"
      ]
     },
     "metadata": {
      "needs_background": "light"
     },
     "output_type": "display_data"
    },
    {
     "name": "stdout",
     "output_type": "stream",
     "text": [
      "Model  2 \n",
      " Accuracy :  0.9936143039591315\n",
      " Precision :  0.9936733841896057\n",
      " Recall :  0.9964314103126526\n",
      " F1 score :  0.9950504899024963\n",
      "Confusion matrix : \n"
     ]
    },
    {
     "data": {
      "image/png": "[encoded data removed]",
      "text/plain": [
       "<Figure size 432x288 with 1 Axes>"
      ]
     },
     "metadata": {
      "needs_background": "light"
     },
     "output_type": "display_data"
    }
   ],
   "source": [
    "# display the confusion matrix\n",
    "for i in range(3):\n",
    "\n",
    "    # put the model in evaluation mode\n",
    "    NNlist[i][0].eval()\n",
    "    # initialize the number of correct predictions\n",
    "    nb_correct_pred = 0\n",
    "    # initialize the number of predictions\n",
    "    nb_pred = 0\n",
    "    # initialize the confusion matrix\n",
    "    confusion_matrix = torch.zeros(2, 2)\n",
    "    # iterate over batches\n",
    "    for X_test, Y_test in test_loaders[i]:\n",
    "        # compute the model output\n",
    "        with torch.no_grad():\n",
    "            Y_pred = NNlist[i][0](X_test)\n",
    "            # get the predicted class\n",
    "            Y_pred = torch.argmax(Y_pred, dim=1)\n",
    "            # compute the number of correct predictions\n",
    "            nb_correct_pred += (Y_pred == Y_test).sum().item()\n",
    "            # compute the number of predictions\n",
    "            nb_pred += Y_pred.shape[0]\n",
    "            # update the confusion matrix\n",
    "            for t, p in zip(Y_test.view(-1), Y_pred.view(-1)):\n",
    "                confusion_matrix[t.long(), p.long()] += 1\n",
    "\n",
    "    # compute the accuracy\n",
    "    accuracy = nb_correct_pred / nb_pred\n",
    "    # compute the precision, recall and f1 score\n",
    "    precision = confusion_matrix[1, 1] / (confusion_matrix[1, 1] + confusion_matrix[0, 1])\n",
    "    recall = confusion_matrix[1, 1] / (confusion_matrix[1, 1] + confusion_matrix[1, 0])\n",
    "    f1_score = 2 * precision * recall / (precision + recall)\n",
    "    # print the results\n",
    "    print(\"Model \", i, \"\\n Accuracy : \", accuracy)\n",
    "    print(\" Precision : \", float(precision))\n",
    "    print(\" Recall : \", float(recall))\n",
    "    print(\" F1 score : \", float(f1_score))\n",
    "    print(\"Confusion matrix : \")\n",
    "    sns.heatmap(confusion_matrix, annot=True, fmt='g', cmap='Reds', cbar=False)\n",
    "    plt.show()"
   ]
  },
  {
   "cell_type": "code",
   "execution_count": 12,
   "metadata": {},
   "outputs": [
    {
     "name": "stdout",
     "output_type": "stream",
     "text": [
      "(2, 512)\n",
      "[[-0.05428017  0.8474955  -0.2600719  ... -0.07665038 -0.49273592\n",
      "   0.6974068 ]\n",
      " [ 0.09440201 -0.86792743  0.23487496 ...  0.13763265  0.4493265\n",
      "  -0.70801145]]\n"
     ]
    }
   ],
   "source": [
    "# get the weights of the first layer of the model trained on the three datasets\n",
    "weights = [NNlist[i][0][0].weight.data.numpy() for i in range(3)]\n",
    "print(weights[0].shape)\n",
    "print(weights[0])"
   ]
  },
  {
   "cell_type": "code",
   "execution_count": 13,
   "metadata": {},
   "outputs": [],
   "source": [
    "# store the weights in a pandas dataframe\n",
    "weight_df = pd.DataFrame(weights[0], columns=X_nb_N_train.columns)\n",
    "weight_df['dataset'] = 'N'\n",
    "weight_df = weight_df.append(pd.DataFrame(weights[1], columns=X_nb_A_train.columns))\n",
    "weight_df['dataset'] = weight_df['dataset'].fillna('A')\n",
    "weight_df = weight_df.append(pd.DataFrame(weights[2], columns=X_nb_both_train.columns))\n",
    "weight_df['dataset'] = weight_df['dataset'].fillna('both')\n",
    "\n",
    "# set the dataset as index\n",
    "weight_df = weight_df.set_index('dataset')"
   ]
  },
  {
   "cell_type": "code",
   "execution_count": 14,
   "metadata": {},
   "outputs": [
    {
     "data": {
      "image/png": "[encoded data removed]",
      "text/plain": [
       "<Figure size 1440x720 with 1 Axes>"
      ]
     },
     "metadata": {
      "needs_background": "light"
     },
     "output_type": "display_data"
    },
    {
     "data": {
      "image/png": "[encoded data removed]",
      "text/plain": [
       "<Figure size 1440x720 with 1 Axes>"
      ]
     },
     "metadata": {
      "needs_background": "light"
     },
     "output_type": "display_data"
    },
    {
     "data": {
      "image/png": "[encoded data removed]",
      "text/plain": [
       "<Figure size 1440x720 with 1 Axes>"
      ]
     },
     "metadata": {
      "needs_background": "light"
     },
     "output_type": "display_data"
    }
   ],
   "source": [
    "weight_N_0 = weight_df.iloc[0, :]\n",
    "weight_N_0\n",
    "\n",
    "# plot weights_N_0\n",
    "plt.figure(figsize=(20, 10))\n",
    "plt.bar(range(512), weight_N_0.values)\n",
    "plt.title('Weights of the first layer of the model trained on the N dataset')\n",
    "plt.show()\n",
    "\n",
    "# do the same for the other datasets\n",
    "weight_A_0 = weight_df.iloc[2, :]\n",
    "weight_both_0 = weight_df.iloc[4, :]\n",
    "\n",
    "plt.figure(figsize=(20, 10))\n",
    "plt.bar(range(512), weight_A_0.values)\n",
    "plt.title('Weights of the first layer of the model trained on the A dataset')\n",
    "plt.show()\n",
    "\n",
    "plt.figure(figsize=(20, 10))\n",
    "plt.bar(range(512), weight_both_0.values)\n",
    "plt.title('Weights of the first layer of the model trained on the both dataset')\n",
    "plt.show()"
   ]
  },
  {
   "cell_type": "code",
   "execution_count": 15,
   "metadata": {},
   "outputs": [
    {
     "name": "stdout",
     "output_type": "stream",
     "text": [
      "Model  0  : \n",
      "\n",
      "310: -2.792752742767334    2.752384901046753\n",
      "54: -2.3840601444244385    2.3914434909820557\n",
      "158: -2.075476884841919    2.098706007003784\n",
      "359: 1.9256991147994995    -1.951188564300537\n",
      "384: 1.7078708410263062    -1.7339001893997192\n",
      "182: -1.6865204572677612    1.6483664512634277\n",
      "285: -1.6589934825897217    1.6918779611587524\n",
      "208: 1.627899408340454    -1.6493594646453857\n",
      "172: -1.6249306201934814    1.5960391759872437\n",
      "175: -1.5643868446350098    1.5959937572479248\n",
      "Model  1  : \n",
      "\n",
      "310: -2.321359634399414    2.2920455932617188\n",
      "54: -1.647988200187683    1.6482157707214355\n",
      "285: -1.5242090225219727    1.4959254264831543\n",
      "359: 1.3792327642440796    -1.4213255643844604\n",
      "384: 1.338271141052246    -1.3034344911575317\n",
      "192: 1.252180814743042    -1.2543212175369263\n",
      "200: -1.239863634109497    1.1974321603775024\n",
      "360: 1.1877422332763672    -1.2232239246368408\n",
      "81: 1.1762264966964722    -1.2452976703643799\n",
      "445: -1.1541365385055542    1.0912978649139404\n",
      "Model  2  : \n",
      "\n",
      "310: -3.4401397705078125    3.4123761653900146\n",
      "54: -2.7477827072143555    2.6995582580566406\n",
      "359: 2.3573591709136963    -2.3376331329345703\n",
      "384: 2.214160442352295    -2.20959734916687\n",
      "158: -2.1943914890289307    2.2118289470672607\n",
      "208: 1.9360692501068115    -1.9589126110076904\n",
      "285: -1.9130876064300537    1.893965244293213\n",
      "175: -1.8680824041366577    1.8566423654556274\n",
      "200: -1.843340516090393    1.8528873920440674\n",
      "360: 1.801511287689209    -1.7804677486419678\n"
     ]
    }
   ],
   "source": [
    "sorted_feature = []\n",
    "for i in range(3):\n",
    "    # get the list of weights ordered by decreasing absolute value\n",
    "    to_sort = weights[i][0]\n",
    "    to_sort = np.abs(to_sort)\n",
    "    sorted = np.argsort(to_sort)[::-1]\n",
    "    sorted_feature.append(sorted)\n",
    "for i in range(3):\n",
    "    print(\"Model \", i, \" : \\n\")\n",
    "    for feat in sorted_feature[i][:10]:\n",
    "        print(f\"{int(feat)}: {weights[i][0][int(feat)]}    {weights[i][1][int(feat)]}\")"
   ]
  },
  {
   "cell_type": "code",
   "execution_count": null,
   "metadata": {},
   "outputs": [],
   "source": []
  }
 ],
 "metadata": {
  "kernelspec": {
   "display_name": "Python 3",
   "language": "python",
   "name": "python3"
  },
  "language_info": {
   "codemirror_mode": {
    "name": "ipython",
    "version": 3
   },
   "file_extension": ".py",
   "mimetype": "text/x-python",
   "name": "python",
   "nbconvert_exporter": "python",
   "pygments_lexer": "ipython3",
   "version": "3.10.10"
  },
  "orig_nbformat": 4,
  "vscode": {
   "interpreter": {
    "hash": "3de7a084b318d7b8bf96005cb5db4da14a27f60df0465391ef48a4c336f03bfe"
   }
  }
 },
 "nbformat": 4,
 "nbformat_minor": 2
}
