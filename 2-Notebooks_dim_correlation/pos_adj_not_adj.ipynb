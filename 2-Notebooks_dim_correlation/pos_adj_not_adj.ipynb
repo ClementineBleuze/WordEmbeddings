{
 "cells": [
  {
   "cell_type": "code",
   "execution_count": 2,
   "metadata": {},
   "outputs": [],
   "source": [
    "import pandas as pd\n",
    "import numpy as np"
   ]
  },
  {
   "cell_type": "markdown",
   "metadata": {},
   "source": [
    "Create a DataFrame with a column `adj` where `1` for adjectives and `0` for verbs and nouns.\n",
    "All data is used."
   ]
  },
  {
   "cell_type": "code",
   "execution_count": 3,
   "metadata": {},
   "outputs": [],
   "source": [
    "adjs = pd.read_csv('../Data/FlauBERT_WE/all_adjectives_we.csv', index_col=0)\n",
    "adjs['adj'] = 1"
   ]
  },
  {
   "cell_type": "code",
   "execution_count": 4,
   "metadata": {},
   "outputs": [],
   "source": [
    "nouns = pd.read_csv('../Data/FlauBERT_WE/all_nouns_we.csv', index_col=0)"
   ]
  },
  {
   "cell_type": "code",
   "execution_count": 5,
   "metadata": {},
   "outputs": [],
   "source": [
    "verbs = pd.read_csv('../Data/FlauBERT_WE/all_verb_we.csv', index_col=0)"
   ]
  },
  {
   "cell_type": "code",
   "execution_count": 6,
   "metadata": {},
   "outputs": [],
   "source": [
    "verbs_nouns = pd.concat([verbs, nouns])\n",
    "verbs_nouns['adj'] = 0"
   ]
  },
  {
   "cell_type": "code",
   "execution_count": 7,
   "metadata": {},
   "outputs": [],
   "source": [
    "data = pd.concat([adjs, verbs_nouns]).drop(columns=['number', 'gender'])"
   ]
  },
  {
   "cell_type": "code",
   "execution_count": 8,
   "metadata": {},
   "outputs": [],
   "source": [
    "# Shuffle\n",
    "data = data.sample(frac=1)"
   ]
  },
  {
   "cell_type": "markdown",
   "metadata": {},
   "source": [
    "# Normalize data"
   ]
  },
  {
   "cell_type": "code",
   "execution_count": 9,
   "metadata": {},
   "outputs": [],
   "source": [
    "normalized_data = (data - data.min())/(data.max() - data.min())"
   ]
  },
  {
   "cell_type": "markdown",
   "metadata": {},
   "source": [
    "# Testing the correlation of verbness-ness"
   ]
  },
  {
   "cell_type": "markdown",
   "metadata": {},
   "source": [
    "Now for the top frequent nouns and verbs, we can go through all the dimensions and find the correlation of each  dimension with the PoS values: 0 for verbs and 1 for nouns."
   ]
  },
  {
   "cell_type": "code",
   "execution_count": 11,
   "metadata": {},
   "outputs": [
    {
     "data": {
      "text/html": [
       "<div>\n",
       "<style scoped>\n",
       "    .dataframe tbody tr th:only-of-type {\n",
       "        vertical-align: middle;\n",
       "    }\n",
       "\n",
       "    .dataframe tbody tr th {\n",
       "        vertical-align: top;\n",
       "    }\n",
       "\n",
       "    .dataframe thead th {\n",
       "        text-align: right;\n",
       "    }\n",
       "</style>\n",
       "<table border=\"1\" class=\"dataframe\">\n",
       "  <thead>\n",
       "    <tr style=\"text-align: right;\">\n",
       "      <th></th>\n",
       "      <th>corr_with_pos</th>\n",
       "      <th>sign</th>\n",
       "      <th>abs</th>\n",
       "    </tr>\n",
       "  </thead>\n",
       "  <tbody>\n",
       "    <tr>\n",
       "      <th>276</th>\n",
       "      <td>-0.189093</td>\n",
       "      <td>-1.0</td>\n",
       "      <td>0.189093</td>\n",
       "    </tr>\n",
       "    <tr>\n",
       "      <th>478</th>\n",
       "      <td>-0.175148</td>\n",
       "      <td>-1.0</td>\n",
       "      <td>0.175148</td>\n",
       "    </tr>\n",
       "    <tr>\n",
       "      <th>2</th>\n",
       "      <td>0.158330</td>\n",
       "      <td>1.0</td>\n",
       "      <td>0.158330</td>\n",
       "    </tr>\n",
       "    <tr>\n",
       "      <th>370</th>\n",
       "      <td>-0.155414</td>\n",
       "      <td>-1.0</td>\n",
       "      <td>0.155414</td>\n",
       "    </tr>\n",
       "    <tr>\n",
       "      <th>158</th>\n",
       "      <td>0.139729</td>\n",
       "      <td>1.0</td>\n",
       "      <td>0.139729</td>\n",
       "    </tr>\n",
       "    <tr>\n",
       "      <th>220</th>\n",
       "      <td>-0.138496</td>\n",
       "      <td>-1.0</td>\n",
       "      <td>0.138496</td>\n",
       "    </tr>\n",
       "    <tr>\n",
       "      <th>24</th>\n",
       "      <td>0.134459</td>\n",
       "      <td>1.0</td>\n",
       "      <td>0.134459</td>\n",
       "    </tr>\n",
       "    <tr>\n",
       "      <th>299</th>\n",
       "      <td>-0.133828</td>\n",
       "      <td>-1.0</td>\n",
       "      <td>0.133828</td>\n",
       "    </tr>\n",
       "    <tr>\n",
       "      <th>50</th>\n",
       "      <td>0.133630</td>\n",
       "      <td>1.0</td>\n",
       "      <td>0.133630</td>\n",
       "    </tr>\n",
       "    <tr>\n",
       "      <th>301</th>\n",
       "      <td>-0.133417</td>\n",
       "      <td>-1.0</td>\n",
       "      <td>0.133417</td>\n",
       "    </tr>\n",
       "  </tbody>\n",
       "</table>\n",
       "</div>"
      ],
      "text/plain": [
       "     corr_with_pos  sign       abs\n",
       "276      -0.189093  -1.0  0.189093\n",
       "478      -0.175148  -1.0  0.175148\n",
       "2         0.158330   1.0  0.158330\n",
       "370      -0.155414  -1.0  0.155414\n",
       "158       0.139729   1.0  0.139729\n",
       "220      -0.138496  -1.0  0.138496\n",
       "24        0.134459   1.0  0.134459\n",
       "299      -0.133828  -1.0  0.133828\n",
       "50        0.133630   1.0  0.133630\n",
       "301      -0.133417  -1.0  0.133417"
      ]
     },
     "execution_count": 11,
     "metadata": {},
     "output_type": "execute_result"
    }
   ],
   "source": [
    "pos_corr_freq_df = pd.DataFrame(columns=['corr_with_pos'])\n",
    "pos_list = []\n",
    "\n",
    "# Go through dimensions from 0 to 511\n",
    "for i in range(512):\n",
    "    # Find the correlation of the current column with \"freqlemlivres\" and add to the list\n",
    "    pos_list.append(normalized_data.loc[:, [str(i), 'adj']].corr().iloc[0][-1])\n",
    "\n",
    "# Use the list values as \n",
    "pos_corr_freq_df['corr_with_pos'] = pos_list\n",
    "pos_corr_freq_df['sign'] = np.sign(pos_corr_freq_df['corr_with_pos'])\n",
    "pos_corr_freq_df['abs'] = abs(pos_corr_freq_df['corr_with_pos'])\n",
    "pos_corr_freq_df.sort_values('abs', ascending=False)[:10]"
   ]
  },
  {
   "cell_type": "markdown",
   "metadata": {},
   "source": [
    "Test for unique words:"
   ]
  },
  {
   "cell_type": "code",
   "execution_count": 10,
   "metadata": {},
   "outputs": [],
   "source": [
    "word, count = np.unique(normalized_data.index, return_counts=True)\n",
    "unique_words = [x[0] for x in list(filter(lambda x: x[1] == 1, zip(word, count)))]"
   ]
  },
  {
   "cell_type": "code",
   "execution_count": 11,
   "metadata": {},
   "outputs": [],
   "source": [
    "unique_norm = normalized_data[normalized_data.index.isin(unique_words)]"
   ]
  },
  {
   "cell_type": "code",
   "execution_count": 12,
   "metadata": {},
   "outputs": [
    {
     "data": {
      "text/html": [
       "<div>\n",
       "<style scoped>\n",
       "    .dataframe tbody tr th:only-of-type {\n",
       "        vertical-align: middle;\n",
       "    }\n",
       "\n",
       "    .dataframe tbody tr th {\n",
       "        vertical-align: top;\n",
       "    }\n",
       "\n",
       "    .dataframe thead th {\n",
       "        text-align: right;\n",
       "    }\n",
       "</style>\n",
       "<table border=\"1\" class=\"dataframe\">\n",
       "  <thead>\n",
       "    <tr style=\"text-align: right;\">\n",
       "      <th></th>\n",
       "      <th>corr_with_pos</th>\n",
       "      <th>sign</th>\n",
       "      <th>abs</th>\n",
       "    </tr>\n",
       "  </thead>\n",
       "  <tbody>\n",
       "    <tr>\n",
       "      <th>158</th>\n",
       "      <td>0.252340</td>\n",
       "      <td>1.0</td>\n",
       "      <td>0.252340</td>\n",
       "    </tr>\n",
       "    <tr>\n",
       "      <th>220</th>\n",
       "      <td>-0.211063</td>\n",
       "      <td>-1.0</td>\n",
       "      <td>0.211063</td>\n",
       "    </tr>\n",
       "    <tr>\n",
       "      <th>478</th>\n",
       "      <td>-0.194980</td>\n",
       "      <td>-1.0</td>\n",
       "      <td>0.194980</td>\n",
       "    </tr>\n",
       "    <tr>\n",
       "      <th>439</th>\n",
       "      <td>0.182952</td>\n",
       "      <td>1.0</td>\n",
       "      <td>0.182952</td>\n",
       "    </tr>\n",
       "    <tr>\n",
       "      <th>464</th>\n",
       "      <td>0.168112</td>\n",
       "      <td>1.0</td>\n",
       "      <td>0.168112</td>\n",
       "    </tr>\n",
       "    <tr>\n",
       "      <th>250</th>\n",
       "      <td>-0.165360</td>\n",
       "      <td>-1.0</td>\n",
       "      <td>0.165360</td>\n",
       "    </tr>\n",
       "    <tr>\n",
       "      <th>50</th>\n",
       "      <td>0.160972</td>\n",
       "      <td>1.0</td>\n",
       "      <td>0.160972</td>\n",
       "    </tr>\n",
       "    <tr>\n",
       "      <th>47</th>\n",
       "      <td>-0.160720</td>\n",
       "      <td>-1.0</td>\n",
       "      <td>0.160720</td>\n",
       "    </tr>\n",
       "    <tr>\n",
       "      <th>222</th>\n",
       "      <td>-0.160035</td>\n",
       "      <td>-1.0</td>\n",
       "      <td>0.160035</td>\n",
       "    </tr>\n",
       "    <tr>\n",
       "      <th>119</th>\n",
       "      <td>0.156363</td>\n",
       "      <td>1.0</td>\n",
       "      <td>0.156363</td>\n",
       "    </tr>\n",
       "  </tbody>\n",
       "</table>\n",
       "</div>"
      ],
      "text/plain": [
       "     corr_with_pos  sign       abs\n",
       "158       0.252340   1.0  0.252340\n",
       "220      -0.211063  -1.0  0.211063\n",
       "478      -0.194980  -1.0  0.194980\n",
       "439       0.182952   1.0  0.182952\n",
       "464       0.168112   1.0  0.168112\n",
       "250      -0.165360  -1.0  0.165360\n",
       "50        0.160972   1.0  0.160972\n",
       "47       -0.160720  -1.0  0.160720\n",
       "222      -0.160035  -1.0  0.160035\n",
       "119       0.156363   1.0  0.156363"
      ]
     },
     "execution_count": 12,
     "metadata": {},
     "output_type": "execute_result"
    }
   ],
   "source": [
    "pos_corr_freq_df = pd.DataFrame(columns=['corr_with_pos'])\n",
    "pos_list = []\n",
    "\n",
    "# Go through dimensions from 0 to 511\n",
    "for i in range(512):\n",
    "    # Find the correlation of the current column with \"freqlemlivres\" and add to the list\n",
    "    pos_list.append(unique_norm.loc[:, [str(i), 'adj']].corr().iloc[0][-1])\n",
    "\n",
    "# Use the list values as \n",
    "pos_corr_freq_df['corr_with_pos'] = pos_list\n",
    "pos_corr_freq_df['sign'] = np.sign(pos_corr_freq_df['corr_with_pos'])\n",
    "pos_corr_freq_df['abs'] = abs(pos_corr_freq_df['corr_with_pos'])\n",
    "pos_corr_freq_df.sort_values('abs', ascending=False)[:10]"
   ]
  },
  {
   "cell_type": "code",
   "execution_count": 15,
   "metadata": {},
   "outputs": [],
   "source": [
    "w1 = list(pd.read_csv('../Data/Dimensions/PoS/adj.csv', index_col=0).iloc[:, 0].values)\n",
    "\n",
    "w1.extend(pos_corr_freq_df.sort_values('abs', ascending=False)[:10].index)\n",
    "\n",
    "pd.DataFrame(w1).to_csv('../Data/Dimensions/PoS/adj.csv')"
   ]
  },
  {
   "cell_type": "code",
   "execution_count": null,
   "metadata": {},
   "outputs": [],
   "source": []
  }
 ],
 "metadata": {
  "kernelspec": {
   "display_name": "Python 3 (ipykernel)",
   "language": "python",
   "name": "python3"
  },
  "language_info": {
   "codemirror_mode": {
    "name": "ipython",
    "version": 3
   },
   "file_extension": ".py",
   "mimetype": "text/x-python",
   "name": "python",
   "nbconvert_exporter": "python",
   "pygments_lexer": "ipython3",
   "version": "3.10.9"
  }
 },
 "nbformat": 4,
 "nbformat_minor": 4
}
