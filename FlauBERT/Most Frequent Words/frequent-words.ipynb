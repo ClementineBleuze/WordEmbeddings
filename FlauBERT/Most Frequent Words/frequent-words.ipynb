{
 "cells": [
  {
   "cell_type": "markdown",
   "metadata": {},
   "source": [
    "# 1000 Frequent French words by POS"
   ]
  },
  {
   "cell_type": "markdown",
   "metadata": {},
   "source": [
    "## How were the words selected ?"
   ]
  },
  {
   "attachments": {},
   "cell_type": "markdown",
   "metadata": {},
   "source": [
    "* The words were selected using __[OpenLexicon](http://www.lexique.org/shiny/openlexicon/)__ : a tool allowing to navigate databases and query them with regards to POS, lemma, etc.  \n",
    "* For grammatical categories NOUN, VERB, ADJ and ADV, I selected all forms **ordered by frequency** in one of the source corpora of the lexicon (column **freqlemlivres**).  \n",
    "\n",
    "For more information, see :  \n",
    "Pallier, Christophe & New, Boris & Jessica Bourgin (2019) Openlexicon, GitHub repository, https://github.com/chrplr/openlexicon"
   ]
  },
  {
   "attachments": {},
   "cell_type": "markdown",
   "id": "49007e2e",
   "metadata": {},
   "source": [
    "### Post-treatment [TO FINISH]  \n",
    "In order to facilitate our studies, we decided not to keep in our list:  \n",
    "- Words that do not have an Embedding in FLAUBERT [done for Nouns]  \n",
    "- Words whose grammatical category is ambiguous just from their form (e.g \"lit\": can be a NOUN or a VERB)"
   ]
  },
  {
   "cell_type": "code",
   "execution_count": 35,
   "id": "8f79dd95",
   "metadata": {},
   "outputs": [
    {
     "name": "stdout",
     "output_type": "stream",
     "text": [
      "             Word      lemme cgram genre nombre  freqlemlivres\n",
      "0           homme      homme   NOM     m      s        1398.85\n",
      "1          hommes      homme   NOM     m      p        1398.85\n",
      "2            jour       jour   NOM     m      s        1341.76\n",
      "3           jours       jour   NOM     m      p        1341.76\n",
      "4           temps      temps   NOM     m      s        1289.39\n",
      "...           ...        ...   ...   ...    ...            ...\n",
      "48282   évitement  évitement   NOM     m      s           0.00\n",
      "48283   évènement  évènement   NOM     m      s           0.00\n",
      "48284  évènements  évènement   NOM     m      p           0.00\n",
      "48285     être-là    être-là   NOM     m    NaN           0.00\n",
      "48286     îlotier    îlotier   NOM     m      s           0.00\n",
      "\n",
      "[48287 rows x 6 columns]\n",
      "                 Word           lemme cgram genre nombre  freqlemlivres\n",
      "0               homme           homme   NOM     m      s        1398.85\n",
      "1              hommes           homme   NOM     m      p        1398.85\n",
      "2                jour            jour   NOM     m      s        1341.76\n",
      "3               jours            jour   NOM     m      p        1341.76\n",
      "5                oeil            oeil   NOM     m      s        1234.59\n",
      "...               ...             ...   ...   ...    ...            ...\n",
      "48267        éthylène        éthylène   NOM     m      s           0.00\n",
      "48269      étiquetage      étiquetage   NOM     m      s           0.00\n",
      "48274  évangélisation  évangélisation   NOM     f      s           0.00\n",
      "48283       évènement       évènement   NOM     m      s           0.00\n",
      "48284      évènements       évènement   NOM     m      p           0.00\n",
      "\n",
      "[11353 rows x 6 columns]\n"
     ]
    }
   ],
   "source": [
    "import pandas as pd\n",
    "\n",
    "forms = pd.read_csv(\"top_frequent_NOUN.csv\")\n",
    "print(forms)\n",
    "FlauBERT = set(pd.read_csv(\"../all_nouns_we.csv\")[\"Unnamed: 0\"])\n",
    "\n",
    "to_remove = [i for i in range(len(forms)) if forms.loc[i,\"Word\"] not in FlauBERT]\n",
    "forms = forms.drop(forms.index[to_remove])\n",
    "print(forms)\n",
    "\n",
    "forms.to_csv(\"top_frequent_NOUN_FlauBERT.csv\")\n",
    "    "
   ]
  },
  {
   "cell_type": "markdown",
   "metadata": {},
   "source": [
    "## How to access the words ?"
   ]
  },
  {
   "cell_type": "markdown",
   "metadata": {},
   "source": [
    "### Example: most frequent nouns"
   ]
  },
  {
   "cell_type": "code",
   "execution_count": 2,
   "metadata": {},
   "outputs": [
    {
     "name": "stdout",
     "output_type": "stream",
     "text": [
      "['homme', 'hommes', 'jour', 'jours', 'temps', 'oeil', 'oeils', 'yeux', 'main', 'mains', 'fois', 'chose', 'choses', 'peu', 'femme', 'femmes', 'heure', 'heures', 'tête', 'têtes', 'vie', 'vies', 'coup', 'coups', 'mère', 'mères', 'monde', 'mondes', 'nuit', 'nuits', 'enfant', 'enfants', 'père', 'pères', 'air', 'airs', 'moment', 'moments', 'an', 'ans', 'porte', 'portes', 'voix', 'fille', 'filles', 'maison', 'maisons', 'côté', 'côtés', 'visage', 'visages', 'rue', 'rues', 'soir', 'soirs', 'mot', 'mots', 'bras', 'pied', 'pieds', 'corps', 'place', 'places', 'eau', 'eaux', 'terre', 'terres', 'mort', 'morte', 'mortes', 'morts', 'regard', 'regards', 'chambre', 'chambres', 'gens', 'amour', 'amours', 'coeur', 'coeurs', 'peine', 'peines', 'bout', 'bouts', 'matin', 'matins', 'dieu', 'dieux', 'nom', 'noms', 'table', 'tables', 'fond', 'année', 'années', 'histoire', 'histoires', 'fait', 'faits', 'guerre', 'guerres', 'ami', 'amie', 'amies', 'amis', 'ville', 'villes', 'doute', 'doutes', 'force', 'forces', 'instant', 'instants', 'lit', 'lits', 'soleil', 'soleils', 'pas', 'idée', 'idées', 'question', 'questions', 'silence', 'silences', 'messieurs', 'monsieur', 'point', 'points', 'part', 'parts', 'mur', 'murs', 'fin', 'fins', 'peur', 'peurs', 'raison', 'raisons', 'tour', 'tours', 'sorte', 'sortes', 'ciel', 'ciels', 'mois', 'bois', 'nouveau', 'nouveaux', 'nouvelle', 'nouvelles', 'épaule', 'épaules', 'train', 'trains', 'route', 'routes', 'livre', 'livres', 'bouche', 'bouches', 'voiture', 'voitures', 'bruit', 'bruits', 'tout', 'touts', 'fenêtre', 'fenêtres', 'façon', 'façons', 'pièce', 'pièces', 'suite', 'suites', 'famille', 'familles', 'lumière', 'lumières', 'geste', 'gestes', 'face', 'faces', 'cheveu', 'cheveux', 'lieu', 'lieus', 'lieux', 'besoin', 'besoins', 'travail', 'travaux', 'garçon', 'garçons', 'envie', 'envies', 'mer', 'mers', 'doigt', 'doigts', 'milieu', 'milieux', 'lettre', 'lettres', 'affaire', 'affaires', 'fils', 'travers', 'pays', 'général', 'générale', 'générales', 'généraux', 'feu', 'feux', 'ordre', 'ordres', 'plaisir', 'plaisirs', 'ombre', 'ombres', 'chemin', 'chemins', 'verre', 'verres', 'bord', 'bords', 'lèvre', 'lèvres', 'jambe', 'jambes', 'vent', 'vents', 'état', 'états', 'sens', 'âge', 'âges', 'cas', 'frère', 'frères', 'esprit', 'esprits', 'salle', 'salles', 'sourire', 'sourires', 'dos', 'partie', 'parties', 'personne', 'personnes', 'arbre', 'arbres', 'compte', 'comptes', 'sang', 'sangs', 'chef', 'chefs', 'madame', 'mesdames', 'papier', 'papiers', 'minute', 'minutes', 'coin', 'coins', 'couleur', 'couleurs', 'journal', 'journaux', 'semaine', 'semaines', 'cause', 'causes', 'souvenir', 'souvenirs', 'odeur', 'odeurs', 'argent', 'argents', 'oreille', 'oreilles', 'mal', 'maux', 'effet', 'effets', 'pierre', 'pierres', 'image', 'images', 'peau', 'peaux', 'jardin', 'jardins', 'vieille', 'vieilles', 'vieux', 'chien', 'chienne', 'chiennes', 'chiens', 'type', 'types', 'mouvement', 'mouvements', 'journée', 'journées', 'cheval', 'chevaux', 'parole', 'paroles', 'nez', 'café', 'cafés', 'cours', 'forme', 'formes', 'sac', 'sacs', 'premier', 'premiers', 'première', 'premières', 'jeu', 'jeux', 'long', 'longs', 'petit', 'petite', 'petites', 'petits', 'reste', 'restes', 'français', 'française', 'françaises', 'fleur', 'fleurs', 'droit', 'droits', 'bonheur', 'bonheurs', 'ligne', 'lignes', 'signe', 'signes', 'soeur', 'soeurs', 'front', 'fronts', 'hôtel', 'hôtels', 'retour', 'retours', 'genre', 'genres', 'manière', 'manières', 'sentiment', 'sentiments', 'rire', 'rires', 'cri', 'cris', 'impression', 'impressions', 'habitude', 'habitudes', 'passage', 'passages', 'marche', 'marches', 'âme', 'âmes', 'pensée', 'pensées', 'maître', 'maîtres', 'dame', 'dames', 'sol', 'sols', 'joie', 'joies', 'cour', 'bureau', 'bureaux', 'lendemain', 'lendemains', 'escalier', 'escaliers', 'robe', 'robes', 'armée', 'armées', 'parent', 'parente', 'parentes', 'parents', 'ton', 'tons', 'poche', 'poches', 'église', 'églises', 'maman', 'mamans', 'vue', 'vues', 'village', 'villages', 'école', 'écoles', 'service', 'services', 'ventre', 'ventres', 'goût', 'goûts', 'espèce', 'espèces', 'début', 'débuts', 'présent', 'présents', 'vérité', 'vérités', 'phrase', 'phrases', 'voyage', 'voyages', 'époque', 'époques', 'feuille', 'feuilles', 'endroit', 'endroits', 'effort', 'efforts', 'chance', 'chances', 'accord', 'accords', 'intérieur', 'intérieurs', 'présence', 'présences', 'cuisine', 'cuisines', 'gauche', 'gauches', 'boîte', 'boîtes', 'larme', 'larmes', 'siècle', 'siècles', 'mesure', 'mesures', 'patron', 'patronne', 'patronnes', 'patrons', 'gouvernement', 'gouvernements', 'rapport', 'rapports', 'chat', 'chats', 'chatte', 'chattes', 'mètre', 'mètres', 'or', 'ors', 'soldat', 'soldate', 'soldats', 'rêve', 'rêves', 'genou', 'genoux', 'oncle', 'oncles', 'grand', 'grande', 'grandes', 'grands', 'exemple', 'exemples', 'langue', 'langues', 'contraire', 'contraires', 'dent', 'dents', 'été', 'étés', 'haut', 'hauts', 'attention', 'attentions', 'objet', 'objets', 'mari', 'maris', 'hasard', 'hasards', 'départ', 'départs', 'pluie', 'pluies', 'être', 'êtres', 'groupe', 'groupes', 'joue', 'joues', 'seconde', 'secondes', 'bas', 'entrée', 'entrées', 'herbe', 'herbes', 'tante', 'tantes', 'chaise', 'chaises', 'droite', 'droites', 'bête', 'bêtes', 'désir', 'désirs', 'noir', 'noire', 'noires', 'noirs', 'chaleur', 'chaleurs', 'page', 'pages', 'conversation', 'conversations', 'cou', 'cous', 'cigarette', 'cigarettes', 'scène', 'scènes', 'sommeil', 'sommeils', 'musique', 'musiques', 'fer', 'fers', 'fère', 'avenir', 'avenirs', 'passé', 'passés', 'forêt', 'forêts', 'oiseau', 'oiseaux', 'côte', 'côtes', 'foule', 'foules', 'quartier', 'quartiers', 'garde', 'gardes', 'ennemi', 'ennemie', 'ennemies', 'ennemis', 'arme', 'armes', 'carte', 'cartes', 'mémoire', 'mémoires', 'vin', 'vins', 'gueule', 'gueules', 'classe', 'classes', 'trou', 'trous', 'île', 'îles', 'direction', 'directions', 'pouvoir', 'pouvoirs', 'prix', 'peuple', 'peuples', 'campagne', 'campagnes', 'moyen', 'moyens', 'toile', 'toiles', 'champ', \"champ'\", 'champs', 'propos', 'occasion', 'occasions', 'sujet', 'sujets', 'pain', 'pains', 'troupe', 'troupes', 'situation', 'situations', 'couloir', 'couloirs', 'poitrine', 'poitrines', 'bouteille', 'bouteilles', 'enfance', 'enfances', 'paix', 'copain', 'copains', 'copine', 'copines', 'fauteuil', 'fauteuils', 'espoir', 'espoirs', 'chair', 'chairs', 'prince', 'princes', 'princesse', 'princesses', 'salon', 'salons', 'dimanche', 'dimanches', 'souffle', 'souffles', 'colère', 'colères', 'réponse', 'réponses', 'fil', 'fils', 'hiver', 'hivers', 'morceau', 'morceaux', 'visite', 'visites', 'appartement', 'appartements', 'camarade', 'camarades', 'roi', 'rois', 'liberté', 'libertés', 'existence', 'existences', 'honneur', 'honneurs', 'intérêt', 'intérêts', 'trait', 'traits', 'camp', 'camps', 'compagnie', 'compagnies', 'rôle', 'rôles', 'téléphone', 'téléphones', 'sable', 'sables', 'étage', 'étages', 'grand-père', 'grands-pères', 'secret', 'secrets', 'nature', 'natures', 'figure', 'figures', 'faute', 'fautes', 'arrière', 'arrières', 'problème', 'problèmes', 'balle', 'balles', 'grand-mère', 'grand-mères', 'grands-mères', 'photo', 'photos', 'fête', 'fêtes', 'lampe', 'lampes', 'beauté', 'beautés', 'malheur', 'malheurs', 'capitaine', 'capitaines', 'oeuvre', 'oeuvres', 'confiance', 'confiances', 'douleur', 'douleurs', 'toit', 'toits', 'condition', 'conditions', 'allemand', 'allemande', 'allemandes', 'allemands', 'art', 'arts', 'chemise', 'chemises', 'détail', 'détails', 'glace', 'glaces', 'pont', 'ponts', 'poste', 'postes', 'vêtement', 'vêtements', 'tableau', 'tableaux', 'cousin', 'cousine', 'cousines', 'cousins', 'paquet', 'paquets', 'poids', 'veille', 'veilles', 'plan', 'plans', 'espace', 'espaces', 'chapeau', 'chapeaux', 'truc', 'trucs', 'passion', 'passions', 'action', 'actions', 'docteur', 'docteurs', 'doctoresse', 'parti', 'partis', 'trottoir', 'trottoirs', 'personnage', 'personnages', 'plage', 'plages', 'gorge', 'gorges', 'dernier', 'derniers', 'dernière', 'dernières', 'branche', 'branches', 'jeunesse', 'jeunesses', 'patte', 'pattes', 'machine', 'machines', 'aventure', 'aventures', 'événement', 'événements', 'gare', 'gares', 'métier', 'métiers', 'rideau', 'rideaux', 'ridelle', 'ridelles', 'centre', 'centres', 'conseil', 'conseils', 'sein', 'seins', 'pointe', 'pointes', 'tas', 'police', 'polices', 'honte', 'hontes', 'bain', 'bains', 'franc', 'francs', 'réalité', 'réalités', 'éclat', 'éclats', 'animal', 'animaux', 'vacance', 'vacances', 'bateau', 'bateaux', 'pomme', 'pommes', 'avance', 'avances', 'montagne', 'montagnes', 'voisin', 'voisine', 'voisines', 'voisins', 'étoile', 'étoiles', 'rencontre', 'rencontres', 'client', 'cliente', 'clientes', 'clients', 'conscience', 'consciences', 'course', 'courses', 'ministre', 'ministres', 'neige', 'neiges', 'trace', 'traces', 'arrivée', 'arrivées', 'compagne', 'compagnes', 'compagnon', 'compagnonnes', 'compagnons', 'masse', 'masses', 'courant', 'courants', 'président', 'présidente', 'présidentes', 'présidents', 'anglais', 'anglaise', 'anglaises', 'somme', 'sommes', 'cuir', 'cuirs', 'moitié', 'moitiés', 'officier', 'officiers', 'officière', 'vide', 'vides', 'mariage', 'mariages', 'cinéma', 'cinémas', 'poussière', 'poussières', 'nombre', 'nombres', 'avion', 'avions', 'amitié', 'amitiés', 'bataille', 'batailles', 'hauteur', 'hauteurs', 'note', 'notes', 'quart', 'quarts', 'papa', 'surprise', 'surprises', 'autorité', 'autorités', 'expression', 'expressions', 'nuage', 'nuages', 'soirée', 'soirées', 'repas', 'foi', 'taille', 'tailles', 'port', 'ports', 'absence', 'absences', 'vitre', 'vitres', 'froid', 'froids', 'poing', 'poings', 'poil', 'poils', 'faim', 'faims', 'importance', 'importances', 'médecin', 'médecins', 'lunette', 'lunettes', 'sortie', 'sorties', 'seul', 'seule', 'seules', 'seuls', 'volonté', 'volontés', 'roman', 'romans', 'terrain', 'terrains', 'château', 'châteaux', 'drap', 'draps', 'film', 'films', 'terrasse', 'terrasses', 'quai', 'quais', 'spectacle', 'spectacles', 'vague', 'vagues', 'appel', 'appels', 'silhouette', 'silhouettes', 'combat', 'combats', 'flic', 'flics', 'prison', 'prisons', 'blanc', 'blancs', 'loi', 'lois', 'mec', 'mecs', 'nord', 'bande', 'bandes', 'cesse', 'cesses', 'flamme', 'flammes', 'pantalon', 'pantalons']\n"
     ]
    }
   ],
   "source": [
    "import pandas as pd\n",
    "NOUNS = []\n",
    "\n",
    "df = pd.read_csv(\"top_frequent_NOUN.csv\", encoding=\"utf-8\")\n",
    "NOUNS = list(df[\"Word\"])\n",
    "print(NOUNS[:1000])"
   ]
  }
 ],
 "metadata": {
  "kernelspec": {
   "display_name": "Python 3",
   "language": "python",
   "name": "python3"
  },
  "language_info": {
   "codemirror_mode": {
    "name": "ipython",
    "version": 3
   },
   "file_extension": ".py",
   "mimetype": "text/x-python",
   "name": "python",
   "nbconvert_exporter": "python",
   "pygments_lexer": "ipython3",
   "version": "3.10.10"
  },
  "vscode": {
   "interpreter": {
    "hash": "3de7a084b318d7b8bf96005cb5db4da14a27f60df0465391ef48a4c336f03bfe"
   }
  }
 },
 "nbformat": 4,
 "nbformat_minor": 5
}
