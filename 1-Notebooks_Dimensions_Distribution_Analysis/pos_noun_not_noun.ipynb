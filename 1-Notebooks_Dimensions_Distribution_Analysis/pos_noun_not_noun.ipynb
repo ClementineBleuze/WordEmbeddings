{
 "cells": [
  {
   "cell_type": "markdown",
   "metadata": {},
   "source": [
    "# Retrieving Gender Information in Nouns & Adjectives using Minimum Intra-class STD + Maximum extra-class average diff\n",
    "In this Notebook : attempts to isolate Word Embeddings dimension coding for **gender information** (masculine/feminine) in a sample of Word Embeddings for **NOUNS**, **ADJECTIVES** and **both**.  "
   ]
  },
  {
   "cell_type": "markdown",
   "metadata": {},
   "source": [
    "## 0. Data Loading"
   ]
  },
  {
   "cell_type": "code",
   "execution_count": 2,
   "metadata": {},
   "outputs": [],
   "source": [
    "import pandas as pd\n",
    "\n",
    "# WE loading\n",
    "nouns = pd.read_csv('../Data/FlauBERT_WE/all_nouns_we.csv', index_col=0).drop(columns=[\"number\", \"gender\"])\n",
    "nouns['noun'] = 1\n",
    "adjs = pd.read_csv('../Data/FlauBERT_WE/all_adjectives_we.csv', index_col=0).drop(columns = [\"number\", \"gender\"])\n",
    "adjs['noun'] = 0\n",
    "verbs = pd.read_csv('../Data/FlauBERT_WE/all_verb_we.csv', index_col=0)\n",
    "verbs['noun'] = 0\n",
    "all_we = pd.concat([nouns, adjs, verbs])\n",
    "\n",
    "# Normalization\n",
    "normalized_data = (all_we - all_we.min())/(all_we.max() - all_we.min())"
   ]
  },
  {
   "cell_type": "markdown",
   "metadata": {},
   "source": [
    "## 1. Lowest intra-class standard deviation"
   ]
  },
  {
   "cell_type": "markdown",
   "metadata": {},
   "source": [
    "Separate the data into two classes: noun and not noun."
   ]
  },
  {
   "cell_type": "code",
   "execution_count": 8,
   "metadata": {},
   "outputs": [],
   "source": [
    "noun_norm = normalized_data[normalized_data[\"noun\"] == 1]\n",
    "not_noun_norm = normalized_data[normalized_data[\"noun\"] == 0]"
   ]
  },
  {
   "cell_type": "markdown",
   "metadata": {},
   "source": [
    "Lowest std for class **noun**:"
   ]
  },
  {
   "cell_type": "code",
   "execution_count": 7,
   "metadata": {},
   "outputs": [
    {
     "data": {
      "text/plain": [
       "441    0.099424\n",
       "157    0.100420\n",
       "287    0.101737\n",
       "365    0.101786\n",
       "209    0.102275\n",
       "277    0.103280\n",
       "421    0.103544\n",
       "314    0.103922\n",
       "60     0.104299\n",
       "83     0.104794\n",
       "dtype: float64"
      ]
     },
     "execution_count": 7,
     "metadata": {},
     "output_type": "execute_result"
    }
   ],
   "source": [
    "noun_norm.loc[:,:'511'].std().sort_values()[:10]"
   ]
  },
  {
   "cell_type": "markdown",
   "metadata": {},
   "source": [
    "Lowest std for class **not_noun**:"
   ]
  },
  {
   "cell_type": "code",
   "execution_count": 9,
   "metadata": {},
   "outputs": [
    {
     "data": {
      "text/plain": [
       "69     0.098447\n",
       "157    0.098538\n",
       "277    0.099792\n",
       "422    0.099919\n",
       "441    0.100257\n",
       "314    0.100976\n",
       "243    0.101522\n",
       "287    0.101838\n",
       "25     0.102170\n",
       "293    0.102694\n",
       "dtype: float64"
      ]
     },
     "execution_count": 9,
     "metadata": {},
     "output_type": "execute_result"
    }
   ],
   "source": [
    "not_noun_norm.loc[:,:'511'].std().sort_values()[:10]"
   ]
  },
  {
   "cell_type": "markdown",
   "metadata": {},
   "source": [
    "## 2. Dimensions with greatest difference between avg_noun and avg_not_noun"
   ]
  },
  {
   "cell_type": "markdown",
   "metadata": {},
   "source": [
    "This seems encouraging, as few dimensions present the highest differences for each of the considered datasets. We also see higher differences in adjectives."
   ]
  },
  {
   "cell_type": "code",
   "execution_count": 20,
   "metadata": {},
   "outputs": [
    {
     "data": {
      "text/plain": [
       "159    0.080651\n",
       "409    0.070257\n",
       "458    0.064973\n",
       "504    0.064909\n",
       "346    0.064635\n",
       "480    0.064218\n",
       "401    0.061211\n",
       "212    0.059305\n",
       "128    0.057418\n",
       "305    0.057274\n",
       "dtype: float64"
      ]
     },
     "execution_count": 20,
     "metadata": {},
     "output_type": "execute_result"
    }
   ],
   "source": [
    "# top 10 dimensions with the highest difference\n",
    "abs(noun_norm.loc[:, :'511'].mean() - not_noun_norm.loc[:, :'511'].mean()).sort_values(ascending=False)[:10]"
   ]
  },
  {
   "cell_type": "code",
   "execution_count": null,
   "metadata": {},
   "outputs": [],
   "source": []
  }
 ],
 "metadata": {
  "kernelspec": {
   "display_name": "Python 3 (ipykernel)",
   "language": "python",
   "name": "python3"
  },
  "language_info": {
   "codemirror_mode": {
    "name": "ipython",
    "version": 3
   },
   "file_extension": ".py",
   "mimetype": "text/x-python",
   "name": "python",
   "nbconvert_exporter": "python",
   "pygments_lexer": "ipython3",
   "version": "3.10.9"
  },
  "vscode": {
   "interpreter": {
    "hash": "3de7a084b318d7b8bf96005cb5db4da14a27f60df0465391ef48a4c336f03bfe"
   }
  }
 },
 "nbformat": 4,
 "nbformat_minor": 2
}
