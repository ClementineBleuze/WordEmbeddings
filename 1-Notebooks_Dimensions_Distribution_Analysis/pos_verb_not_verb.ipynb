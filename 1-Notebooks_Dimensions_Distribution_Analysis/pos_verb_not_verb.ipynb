{
 "cells": [
  {
   "cell_type": "markdown",
   "metadata": {},
   "source": [
    "# Retrieving Gender Information in Nouns & Adjectives using Minimum Intra-class STD + Maximum extra-class average diff\n",
    "In this Notebook : attempts to isolate Word Embeddings dimension coding for **gender information** (masculine/feminine) in a sample of Word Embeddings for **NOUNS**, **ADJECTIVES** and **both**.  "
   ]
  },
  {
   "cell_type": "markdown",
   "metadata": {},
   "source": [
    "## 0. Data Loading"
   ]
  },
  {
   "cell_type": "code",
   "execution_count": 1,
   "metadata": {},
   "outputs": [],
   "source": [
    "import pandas as pd\n",
    "\n",
    "# WE loading\n",
    "nouns = pd.read_csv('../Data/FlauBERT_WE/all_nouns_we.csv', index_col=0).drop(columns=[\"number\", \"gender\"])\n",
    "nouns['verb'] = 0\n",
    "adjs = pd.read_csv('../Data/FlauBERT_WE/all_adjectives_we.csv', index_col=0).drop(columns = [\"number\", \"gender\"])\n",
    "adjs['verb'] = 0\n",
    "verbs = pd.read_csv('../Data/FlauBERT_WE/all_verb_we.csv', index_col=0)\n",
    "verbs['verb'] = 1\n",
    "all_we = pd.concat([nouns, adjs, verbs])\n",
    "\n",
    "# Normalization\n",
    "normalized_data = (all_we - all_we.min())/(all_we.max() - all_we.min())"
   ]
  },
  {
   "cell_type": "markdown",
   "metadata": {},
   "source": [
    "## 1. Lowest intra-class standard deviation"
   ]
  },
  {
   "cell_type": "markdown",
   "metadata": {},
   "source": [
    "Separate the data into two classes: noun and not noun."
   ]
  },
  {
   "cell_type": "code",
   "execution_count": 2,
   "metadata": {},
   "outputs": [],
   "source": [
    "verb_norm = normalized_data[normalized_data[\"verb\"] == 1]\n",
    "not_verb_norm = normalized_data[normalized_data[\"verb\"] == 0]"
   ]
  },
  {
   "cell_type": "markdown",
   "metadata": {},
   "source": [
    "Lowest std for class **noun**:"
   ]
  },
  {
   "cell_type": "code",
   "execution_count": 3,
   "metadata": {},
   "outputs": [
    {
     "data": {
      "text/plain": [
       "69     0.096868\n",
       "422    0.097616\n",
       "408    0.097954\n",
       "243    0.098164\n",
       "157    0.098201\n",
       "277    0.098976\n",
       "314    0.099588\n",
       "441    0.099668\n",
       "293    0.100247\n",
       "287    0.100441\n",
       "dtype: float64"
      ]
     },
     "execution_count": 3,
     "metadata": {},
     "output_type": "execute_result"
    }
   ],
   "source": [
    "verb_norm.loc[:,:'511'].std().sort_values()[:10]"
   ]
  },
  {
   "cell_type": "markdown",
   "metadata": {},
   "source": [
    "Lowest std for class **not_noun**:"
   ]
  },
  {
   "cell_type": "code",
   "execution_count": 4,
   "metadata": {},
   "outputs": [
    {
     "data": {
      "text/plain": [
       "157    0.099458\n",
       "441    0.100394\n",
       "287    0.102451\n",
       "209    0.102641\n",
       "277    0.102647\n",
       "365    0.103298\n",
       "69     0.103548\n",
       "421    0.104138\n",
       "60     0.104772\n",
       "25     0.105097\n",
       "dtype: float64"
      ]
     },
     "execution_count": 4,
     "metadata": {},
     "output_type": "execute_result"
    }
   ],
   "source": [
    "not_verb_norm.loc[:,:'511'].std().sort_values()[:10]"
   ]
  },
  {
   "cell_type": "markdown",
   "metadata": {},
   "source": [
    "## 2. Dimensions with greatest difference between avg_noun and avg_not_noun"
   ]
  },
  {
   "cell_type": "markdown",
   "metadata": {},
   "source": [
    "This seems encouraging, as few dimensions present the highest differences for each of the considered datasets. We also see higher differences in adjectives."
   ]
  },
  {
   "cell_type": "code",
   "execution_count": 5,
   "metadata": {},
   "outputs": [
    {
     "data": {
      "text/plain": [
       "310    0.073455\n",
       "159    0.072571\n",
       "480    0.067617\n",
       "401    0.066168\n",
       "89     0.061795\n",
       "158    0.059015\n",
       "282    0.058057\n",
       "192    0.057955\n",
       "504    0.057734\n",
       "458    0.057161\n",
       "dtype: float64"
      ]
     },
     "execution_count": 5,
     "metadata": {},
     "output_type": "execute_result"
    }
   ],
   "source": [
    "# top 10 dimensions with the highest difference\n",
    "abs(verb_norm.loc[:, :'511'].mean() - not_verb_norm.loc[:, :'511'].mean()).sort_values(ascending=False)[:10]"
   ]
  },
  {
   "cell_type": "code",
   "execution_count": 7,
   "metadata": {},
   "outputs": [
    {
     "data": {
      "text/plain": [
       "Index(['310', '159', '480', '401', '89', '158', '282', '192', '504', '458'], dtype='object')"
      ]
     },
     "execution_count": 7,
     "metadata": {},
     "output_type": "execute_result"
    }
   ],
   "source": [
    "abs(verb_norm.loc[:, :'511'].mean() - not_verb_norm.loc[:, :'511'].mean()).sort_values(ascending=False)[:10].index"
   ]
  }
 ],
 "metadata": {
  "kernelspec": {
   "display_name": "Python 3 (ipykernel)",
   "language": "python",
   "name": "python3"
  },
  "language_info": {
   "codemirror_mode": {
    "name": "ipython",
    "version": 3
   },
   "file_extension": ".py",
   "mimetype": "text/x-python",
   "name": "python",
   "nbconvert_exporter": "python",
   "pygments_lexer": "ipython3",
   "version": "3.10.9"
  },
  "vscode": {
   "interpreter": {
    "hash": "3de7a084b318d7b8bf96005cb5db4da14a27f60df0465391ef48a4c336f03bfe"
   }
  }
 },
 "nbformat": 4,
 "nbformat_minor": 2
}
