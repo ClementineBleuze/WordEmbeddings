{
 "cells": [
  {
   "attachments": {},
   "cell_type": "markdown",
   "metadata": {},
   "source": [
    "# KMeans to test multiple dimensions at a time (gender)"
   ]
  },
  {
   "attachments": {},
   "cell_type": "markdown",
   "metadata": {},
   "source": [
    "## 0. Data Loading : dataset of NOUN + ADJ"
   ]
  },
  {
   "cell_type": "code",
   "execution_count": 1,
   "metadata": {},
   "outputs": [],
   "source": [
    "import pandas as pd\n",
    "\n",
    "# WE loading\n",
    "all_n_we = pd.read_csv('../Data/FlauBERT_WE/all_nouns_we.csv', index_col=0).drop(columns=[\"number\"])\n",
    "all_a_we = pd.read_csv('../Data/FlauBERT_WE/all_adjectives_we.csv', index_col=0).drop(columns = [\"number\"])\n",
    "all_na_we = pd.concat([all_n_we, all_a_we])\n",
    "\n",
    "# Normalization: values fall within -1 and 1\n",
    "for i in range(512):\n",
    "\n",
    "    values, copy = list(all_na_we[str(i)]), list(all_na_we[str(i)])\n",
    "    copy.sort()\n",
    "    min_, max_ = copy[0], copy[len(copy)-1]\n",
    "    all_na_we[str(i)] = [val / (max_ - min_) for val in values]\n",
    "\n",
    "all_na_we[\"gender\"] = all_na_we[\"gender\"].apply(lambda x: 1 if x == \"masculine\" else 0)"
   ]
  },
  {
   "cell_type": "code",
   "execution_count": 2,
   "metadata": {},
   "outputs": [],
   "source": [
    "import sys\n",
    "from sklearn.cluster import KMeans\n",
    "from sklearn.metrics import adjusted_rand_score"
   ]
  },
  {
   "attachments": {},
   "cell_type": "markdown",
   "metadata": {},
   "source": [
    "## Testing 1 Dimension at a time  \n",
    "execution time ~21sec."
   ]
  },
  {
   "cell_type": "code",
   "execution_count": 3,
   "metadata": {},
   "outputs": [],
   "source": [
    "dim_list_1= [str(i) for i in range(512)] # all dimensions\n",
    "df_clustering_1 = pd.DataFrame(columns = [\"ARI\"])\n",
    "ari = []\n",
    "\n",
    "for dim in dim_list_1:\n",
    "\n",
    "    # Clustering using Kmeans\n",
    "    km = KMeans(n_clusters=2, random_state=42, n_init=10)\n",
    "    km.fit(all_na_we[dim].values.reshape(-1, 1))\n",
    "\n",
    "    # Compute the Adjusted Rand Index: the closer to 1, the better\n",
    "    ari.append(adjusted_rand_score(all_na_we[\"gender\"], km.labels_))\n",
    "\n",
    "df_clustering_1[\"ARI\"] = ari\n",
    "df_clustering_1.index = dim_list_1"
   ]
  },
  {
   "cell_type": "code",
   "execution_count": 4,
   "metadata": {},
   "outputs": [
    {
     "data": {
      "text/html": [
       "<div>\n",
       "<style scoped>\n",
       "    .dataframe tbody tr th:only-of-type {\n",
       "        vertical-align: middle;\n",
       "    }\n",
       "\n",
       "    .dataframe tbody tr th {\n",
       "        vertical-align: top;\n",
       "    }\n",
       "\n",
       "    .dataframe thead th {\n",
       "        text-align: right;\n",
       "    }\n",
       "</style>\n",
       "<table border=\"1\" class=\"dataframe\">\n",
       "  <thead>\n",
       "    <tr style=\"text-align: right;\">\n",
       "      <th></th>\n",
       "      <th>ARI</th>\n",
       "    </tr>\n",
       "  </thead>\n",
       "  <tbody>\n",
       "    <tr>\n",
       "      <th>245</th>\n",
       "      <td>0.027971</td>\n",
       "    </tr>\n",
       "    <tr>\n",
       "      <th>192</th>\n",
       "      <td>0.025293</td>\n",
       "    </tr>\n",
       "    <tr>\n",
       "      <th>121</th>\n",
       "      <td>0.023947</td>\n",
       "    </tr>\n",
       "    <tr>\n",
       "      <th>507</th>\n",
       "      <td>0.023088</td>\n",
       "    </tr>\n",
       "    <tr>\n",
       "      <th>5</th>\n",
       "      <td>0.020263</td>\n",
       "    </tr>\n",
       "    <tr>\n",
       "      <th>250</th>\n",
       "      <td>0.019493</td>\n",
       "    </tr>\n",
       "    <tr>\n",
       "      <th>470</th>\n",
       "      <td>0.019037</td>\n",
       "    </tr>\n",
       "    <tr>\n",
       "      <th>439</th>\n",
       "      <td>0.018981</td>\n",
       "    </tr>\n",
       "    <tr>\n",
       "      <th>276</th>\n",
       "      <td>0.018728</td>\n",
       "    </tr>\n",
       "    <tr>\n",
       "      <th>133</th>\n",
       "      <td>0.018617</td>\n",
       "    </tr>\n",
       "  </tbody>\n",
       "</table>\n",
       "</div>"
      ],
      "text/plain": [
       "          ARI\n",
       "245  0.027971\n",
       "192  0.025293\n",
       "121  0.023947\n",
       "507  0.023088\n",
       "5    0.020263\n",
       "250  0.019493\n",
       "470  0.019037\n",
       "439  0.018981\n",
       "276  0.018728\n",
       "133  0.018617"
      ]
     },
     "execution_count": 4,
     "metadata": {},
     "output_type": "execute_result"
    }
   ],
   "source": [
    "df_clustering_1.sort_values(by = \"ARI\", ascending = False).head(10)"
   ]
  },
  {
   "attachments": {},
   "cell_type": "markdown",
   "metadata": {},
   "source": [
    "## Testing 2 dimensions at a time"
   ]
  },
  {
   "cell_type": "code",
   "execution_count": 8,
   "metadata": {},
   "outputs": [
    {
     "name": "stdout",
     "output_type": "stream",
     "text": [
      "130816\n",
      ".\n",
      ".\n",
      ".\n"
     ]
    },
    {
     "ename": "KeyboardInterrupt",
     "evalue": "",
     "output_type": "error",
     "traceback": [
      "\u001b[1;31m---------------------------------------------------------------------------\u001b[0m",
      "\u001b[1;31mKeyboardInterrupt\u001b[0m                         Traceback (most recent call last)",
      "File \u001b[1;32m<__array_function__ internals>:177\u001b[0m, in \u001b[0;36mwhere\u001b[1;34m(*args, **kwargs)\u001b[0m\n",
      "\u001b[1;31mKeyboardInterrupt\u001b[0m: "
     ]
    },
    {
     "name": "stderr",
     "output_type": "stream",
     "text": [
      "Exception ignored in: 'sklearn.cluster._k_means_common._relocate_empty_clusters_dense'\n",
      "Traceback (most recent call last):\n",
      "  File \"<__array_function__ internals>\", line 177, in where\n",
      "KeyboardInterrupt: \n"
     ]
    }
   ],
   "source": [
    "dim_list_2 = [[str(i), str(j)] for i in range(512) for j in range(512) if i < j] # all pairs of dimensions\n",
    "print(\"Number of combinations tested: \", len(dim_list_2))\n",
    "\n",
    "df_clustering_2 = pd.DataFrame(columns = [\"ARI\"])\n",
    "ari = []\n",
    "\n",
    "\n",
    "for i, dim in enumerate(dim_list_2):\n",
    "\n",
    "    # Clustering using Kmeans\n",
    "    km = KMeans(n_clusters=2, random_state=42, n_init=10)\n",
    "    km.fit(all_na_we[dim])\n",
    "\n",
    "    # Compute the Adjusted Rand Index: the closer to 1, the better\n",
    "    ari.append(adjusted_rand_score(all_na_we[\"gender\"], km.labels_))\n",
    "\n",
    "df_clustering_2[\"ARI\"] = ari\n",
    "df_clustering_2.index = dim_list_2"
   ]
  }
 ],
 "metadata": {
  "kernelspec": {
   "display_name": "Python 3",
   "language": "python",
   "name": "python3"
  },
  "language_info": {
   "codemirror_mode": {
    "name": "ipython",
    "version": 3
   },
   "file_extension": ".py",
   "mimetype": "text/x-python",
   "name": "python",
   "nbconvert_exporter": "python",
   "pygments_lexer": "ipython3",
   "version": "3.10.10"
  },
  "orig_nbformat": 4,
  "vscode": {
   "interpreter": {
    "hash": "3de7a084b318d7b8bf96005cb5db4da14a27f60df0465391ef48a4c336f03bfe"
   }
  }
 },
 "nbformat": 4,
 "nbformat_minor": 2
}
