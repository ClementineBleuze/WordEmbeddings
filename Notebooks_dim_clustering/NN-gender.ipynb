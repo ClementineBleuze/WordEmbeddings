{
 "cells": [
  {
   "cell_type": "code",
   "execution_count": 41,
   "metadata": {},
   "outputs": [],
   "source": [
    "import torch.nn as nn\n",
    "import torch \n",
    "import pandas as pd\n",
    "import numpy as np\n",
    "from sklearn.model_selection import train_test_split\n",
    "import seaborn as sns\n",
    "from matplotlib import pyplot as plt"
   ]
  },
  {
   "attachments": {},
   "cell_type": "markdown",
   "metadata": {},
   "source": [
    "# NN Classification (Perceptron) : gender"
   ]
  },
  {
   "attachments": {},
   "cell_type": "markdown",
   "metadata": {},
   "source": [
    "## Data preparation"
   ]
  },
  {
   "attachments": {},
   "cell_type": "markdown",
   "metadata": {},
   "source": [
    "### Load data: NOUN, ADJ, and both"
   ]
  },
  {
   "cell_type": "code",
   "execution_count": 25,
   "metadata": {},
   "outputs": [],
   "source": [
    "df_nouns_we = pd.read_csv('../Data/FlauBERT_WE/all_nouns_we.csv').drop(columns=[\"number\"])\n",
    "df_adj_we = pd.read_csv('../Data/FlauBERT_WE/all_adjectives_we.csv').drop(columns = \"number\")\n",
    "df_both_we = pd.concat([df_nouns_we, df_adj_we], ignore_index=True)\n",
    "\n",
    "# target : gender\n",
    "Y_gd_N = df_nouns_we[\"gender\"].apply(lambda x: 1 if x == \"masculine\" else 0)\n",
    "Y_gd_A = df_adj_we[\"gender\"].apply(lambda x: 1 if x == \"masculine\" else 0)\n",
    "Y_gd_both = df_both_we[\"gender\"].apply(lambda x: 1 if x == \"masculine\" else 0)\n",
    "\n",
    "# features : word embeddings dimensions\n",
    "X_gd_N = df_nouns_we.drop(columns=[\"Word\", \"gender\"])\n",
    "X_gd_A = df_adj_we.drop(columns=[\"Word\", \"gender\"])\n",
    "X_gd_both = df_both_we.drop(columns = [\"Word\", \"gender\"] )\n",
    "\n",
    "# normalize data to be between 0 and 1\n",
    "X_gd_N = (X_gd_N - X_gd_N.min()) / (X_gd_N.max() - X_gd_N.min())\n",
    "X_gd_A = (X_gd_A - X_gd_A.min()) / (X_gd_A.max() - X_gd_A.min())\n",
    "X_gd_both = (X_gd_both - X_gd_both.min()) / (X_gd_both.max() - X_gd_both.min())\n",
    "\n",
    "# split data into train and test sets\n",
    "X_gd_N_train, X_gd_N_test, Y_gd_N_train, Y_gd_N_test = train_test_split(X_gd_N, Y_gd_N, test_size=0.2, random_state=42)\n",
    "X_gd_A_train, X_gd_A_test, Y_gd_A_train, Y_gd_A_test = train_test_split(X_gd_A, Y_gd_A, test_size=0.2, random_state=42)\n",
    "X_gd_both_train, X_gd_both_test, Y_gd_both_train, Y_gd_both_test = train_test_split(X_gd_both, Y_gd_both, test_size=0.2, random_state=42)"
   ]
  },
  {
   "cell_type": "code",
   "execution_count": 26,
   "metadata": {},
   "outputs": [
    {
     "name": "stdout",
     "output_type": "stream",
     "text": [
      "X_gd_N_train shape :  (10590, 512)\n",
      "X_gd_N_test shape :  (2648, 512)\n",
      "Y_gd_N_train shape :  (10590,)\n",
      "Y_gd_N_test shape :  (2648,)\n",
      "X_gd_A_train shape :  (5067, 512)\n",
      "X_gd_A_test shape :  (1267, 512)\n",
      "Y_gd_A_train shape :  (5067,)\n",
      "Y_gd_A_test shape :  (1267,)\n",
      "X_gd_both_train shape :  (15657, 512)\n",
      "X_gd_both_test shape :  (3915, 512)\n"
     ]
    }
   ],
   "source": [
    "# print all the shapes\n",
    "print(\"X_gd_N_train shape : \", X_gd_N_train.shape)\n",
    "print(\"X_gd_N_test shape : \", X_gd_N_test.shape)\n",
    "print(\"Y_gd_N_train shape : \", Y_gd_N_train.shape)\n",
    "print(\"Y_gd_N_test shape : \", Y_gd_N_test.shape)\n",
    "print(\"X_gd_A_train shape : \", X_gd_A_train.shape)\n",
    "print(\"X_gd_A_test shape : \", X_gd_A_test.shape)\n",
    "print(\"Y_gd_A_train shape : \", Y_gd_A_train.shape)\n",
    "print(\"Y_gd_A_test shape : \", Y_gd_A_test.shape)\n",
    "print(\"X_gd_both_train shape : \", X_gd_both_train.shape)\n",
    "print(\"X_gd_both_test shape : \", X_gd_both_test.shape)"
   ]
  },
  {
   "cell_type": "code",
   "execution_count": 27,
   "metadata": {},
   "outputs": [],
   "source": [
    "train_features = [X_gd_N_train, X_gd_A_train, X_gd_both_train]\n",
    "test_features = [X_gd_N_test, X_gd_A_test, X_gd_both_test]\n",
    "train_targets = [Y_gd_N_train, Y_gd_A_train, Y_gd_both_train]\n",
    "test_targets = [Y_gd_N_test, Y_gd_A_test, Y_gd_both_test]"
   ]
  },
  {
   "attachments": {},
   "cell_type": "markdown",
   "metadata": {},
   "source": [
    "### Tensors"
   ]
  },
  {
   "cell_type": "code",
   "execution_count": 28,
   "metadata": {},
   "outputs": [],
   "source": [
    "# convert to tensors\n",
    "train_features = [torch.tensor(x.values).float() for x in train_features]\n",
    "test_features = [torch.tensor(x.values).float() for x in test_features]\n",
    "train_targets = [torch.tensor(x.values).long() for x in train_targets]\n",
    "test_targets = [torch.tensor(x.values).long() for x in test_targets]"
   ]
  },
  {
   "cell_type": "code",
   "execution_count": 29,
   "metadata": {},
   "outputs": [],
   "source": [
    "from torch.utils.data import TensorDataset, DataLoader\n",
    "# the TensorDataset is a ready to use class to represent your data as list of tensors. \n",
    "# Note that input_features and labels must match on the length of the first dimension\n",
    "train_sets = [TensorDataset(X_train, Y_train) for X_train, Y_train in zip(train_features, train_targets)]\n",
    "test_sets = [TensorDataset(X_valid, Y_valid) for X_valid, Y_valid in zip(test_features, test_targets)]\n",
    "\n",
    "# DataLoader shuffles and batches the data and load its in parallel using multiprocessing workers\n",
    "train_loaders = [DataLoader(train_set, batch_size=32, shuffle=True) for train_set in train_sets]\n",
    "test_loaders = [DataLoader(test_set, batch_size=32) for test_set in test_sets]"
   ]
  },
  {
   "attachments": {},
   "cell_type": "markdown",
   "metadata": {},
   "source": [
    "## Classification"
   ]
  },
  {
   "attachments": {},
   "cell_type": "markdown",
   "metadata": {},
   "source": [
    "### NN definition"
   ]
  },
  {
   "cell_type": "code",
   "execution_count": 30,
   "metadata": {},
   "outputs": [],
   "source": [
    "NNlist = []\n",
    "\n",
    "for i in range(3):\n",
    "    \n",
    "    # create a fully connected perceptron with 1 input layer (512 features) and 1 output layer (2 classes)\n",
    "    model = nn.Sequential(nn.Linear(512, 2), nn.Softmax(dim=1))\n",
    "    # define the loss function\n",
    "    loss_fn = nn.CrossEntropyLoss()\n",
    "    # define the optimizer\n",
    "    optimizer = torch.optim.Adam(model.parameters(), lr=0.001)\n",
    "    # add the model to the list\n",
    "    NNlist.append([model, loss_fn, optimizer])"
   ]
  },
  {
   "attachments": {},
   "cell_type": "markdown",
   "metadata": {},
   "source": [
    "## Train the models"
   ]
  },
  {
   "cell_type": "code",
   "execution_count": 34,
   "metadata": {},
   "outputs": [],
   "source": [
    "nb_epochs = 100"
   ]
  },
  {
   "cell_type": "code",
   "execution_count": 35,
   "metadata": {},
   "outputs": [
    {
     "name": "stdout",
     "output_type": "stream",
     "text": [
      "* Training model  0\n",
      "--Epoch  0  Loss :  0.44928836822509766\n",
      "--Epoch  10  Loss :  0.40778687596321106\n",
      "--Epoch  20  Loss :  0.4188758134841919\n",
      "--Epoch  30  Loss :  0.35702964663505554\n",
      "--Epoch  40  Loss :  0.3994632661342621\n",
      "--Epoch  50  Loss :  0.3960329592227936\n",
      "--Epoch  60  Loss :  0.427769273519516\n",
      "--Epoch  70  Loss :  0.42031335830688477\n",
      "--Epoch  80  Loss :  0.36238235235214233\n",
      "--Epoch  90  Loss :  0.4037401080131531\n",
      "* Training model  1\n",
      "--Epoch  0  Loss :  0.3855551779270172\n",
      "--Epoch  10  Loss :  0.33439791202545166\n",
      "--Epoch  20  Loss :  0.34737130999565125\n",
      "--Epoch  30  Loss :  0.33789655566215515\n",
      "--Epoch  40  Loss :  0.3277669847011566\n",
      "--Epoch  50  Loss :  0.3215938210487366\n",
      "--Epoch  60  Loss :  0.31783828139305115\n",
      "--Epoch  70  Loss :  0.31669989228248596\n",
      "--Epoch  80  Loss :  0.3244626224040985\n",
      "--Epoch  90  Loss :  0.318724125623703\n",
      "* Training model  2\n",
      "--Epoch  0  Loss :  0.3971638083457947\n",
      "--Epoch  10  Loss :  0.43574216961860657\n",
      "--Epoch  20  Loss :  0.39378783106803894\n",
      "--Epoch  30  Loss :  0.3365899920463562\n",
      "--Epoch  40  Loss :  0.3361816704273224\n",
      "--Epoch  50  Loss :  0.5131164193153381\n",
      "--Epoch  60  Loss :  0.36993154883384705\n",
      "--Epoch  70  Loss :  0.3245759904384613\n",
      "--Epoch  80  Loss :  0.5079307556152344\n",
      "--Epoch  90  Loss :  0.3442944288253784\n"
     ]
    }
   ],
   "source": [
    "# train the models \n",
    "for i in range(3):\n",
    "    print(\"* Training model \", i)\n",
    "    model, loss_fn, optimizer = NNlist[i]\n",
    "    # put the model in training mode\n",
    "    model.train()\n",
    "    for epoch in range(nb_epochs):\n",
    "        for X_train, Y_train in train_loaders[i]:\n",
    "            # compute the model output\n",
    "            Y_pred = model(X_train)\n",
    "            # calculate loss\n",
    "            loss = loss_fn(Y_pred, Y_train)\n",
    "            # reset the gradients\n",
    "            optimizer.zero_grad()\n",
    "            # backpropagation\n",
    "            loss.backward()\n",
    "            # update model weights\n",
    "            optimizer.step()\n",
    "\n",
    "        if epoch % 10 == 0:\n",
    "            print(\"--Epoch \", epoch, \" Loss : \", loss.item())"
   ]
  },
  {
   "cell_type": "code",
   "execution_count": 46,
   "metadata": {},
   "outputs": [
    {
     "name": "stdout",
     "output_type": "stream",
     "text": [
      "Model  0 \n",
      " Accuracy :  0.952416918429003\n",
      " Precision :  0.953125\n",
      " Recall :  0.9572039842605591\n",
      " F1 score :  0.9551601409912109\n",
      "Confusion matrix : \n"
     ]
    },
    {
     "data": {
      "image/png": "[encoded data removed]",
      "text/plain": [
       "<Figure size 640x480 with 1 Axes>"
      ]
     },
     "metadata": {},
     "output_type": "display_data"
    },
    {
     "name": "stdout",
     "output_type": "stream",
     "text": [
      "Model  1 \n",
      " Accuracy :  0.9921073401736386\n",
      " Precision :  0.9912280440330505\n",
      " Recall :  0.996221661567688\n",
      " F1 score :  0.9937186241149902\n",
      "Confusion matrix : \n"
     ]
    },
    {
     "data": {
      "image/png": "[encoded data removed]",
      "text/plain": [
       "<Figure size 640x480 with 1 Axes>"
      ]
     },
     "metadata": {},
     "output_type": "display_data"
    },
    {
     "name": "stdout",
     "output_type": "stream",
     "text": [
      "Model  2 \n",
      " Accuracy :  0.9578544061302682\n",
      " Precision :  0.9583333134651184\n",
      " Recall :  0.9674355387687683\n",
      " F1 score :  0.9628629088401794\n",
      "Confusion matrix : \n"
     ]
    },
    {
     "data": {
      "image/png": "[encoded data removed]",
      "text/plain": [
       "<Figure size 640x480 with 1 Axes>"
      ]
     },
     "metadata": {},
     "output_type": "display_data"
    }
   ],
   "source": [
    "# display the confusion matrix\n",
    "for i in range(3):\n",
    "\n",
    "    # put the model in evaluation mode\n",
    "    NNlist[i][0].eval()\n",
    "    # initialize the number of correct predictions\n",
    "    nb_correct_pred = 0\n",
    "    # initialize the number of predictions\n",
    "    nb_pred = 0\n",
    "    # initialize the confusion matrix\n",
    "    confusion_matrix = torch.zeros(2, 2)\n",
    "    # iterate over batches\n",
    "    for X_test, Y_test in test_loaders[i]:\n",
    "        # compute the model output\n",
    "        with torch.no_grad():\n",
    "            Y_pred = NNlist[i][0](X_test)\n",
    "            # get the predicted class\n",
    "            Y_pred = torch.argmax(Y_pred, dim=1)\n",
    "            # compute the number of correct predictions\n",
    "            nb_correct_pred += (Y_pred == Y_test).sum().item()\n",
    "            # compute the number of predictions\n",
    "            nb_pred += Y_pred.shape[0]\n",
    "            # update the confusion matrix\n",
    "            for t, p in zip(Y_test.view(-1), Y_pred.view(-1)):\n",
    "                confusion_matrix[t.long(), p.long()] += 1\n",
    "\n",
    "    # compute the accuracy\n",
    "    accuracy = nb_correct_pred / nb_pred\n",
    "    # compute the precision, recall and f1 score\n",
    "    precision = confusion_matrix[1, 1] / (confusion_matrix[1, 1] + confusion_matrix[0, 1])\n",
    "    recall = confusion_matrix[1, 1] / (confusion_matrix[1, 1] + confusion_matrix[1, 0])\n",
    "    f1_score = 2 * precision * recall / (precision + recall)\n",
    "    # print the results\n",
    "    print(\"Model \", i, \"\\n Accuracy : \", accuracy)\n",
    "    print(\" Precision : \", float(precision))\n",
    "    print(\" Recall : \", float(recall))\n",
    "    print(\" F1 score : \", float(f1_score))\n",
    "    print(\"Confusion matrix : \")\n",
    "    sns.heatmap(confusion_matrix, annot=True, fmt='g', cmap='Blues', cbar=False)\n",
    "    plt.show()"
   ]
  },
  {
   "cell_type": "code",
   "execution_count": 60,
   "metadata": {},
   "outputs": [],
   "source": [
    "# get the weights of the first layer of the model trained on the three datasets\n",
    "weights = [NNlist[i][0][0].weight.data.numpy() for i in range(3)]"
   ]
  },
  {
   "cell_type": "code",
   "execution_count": 61,
   "metadata": {},
   "outputs": [
    {
     "name": "stdout",
     "output_type": "stream",
     "text": [
      "(2, 512)\n",
      "[[ 0.946667    0.3289947  -0.312579   ...  0.5172174   0.6399834\n",
      "  -0.06748576]\n",
      " [-0.977395   -0.31467578  0.2601018  ... -0.49514124 -0.6485724\n",
      "   0.10949831]]\n"
     ]
    }
   ],
   "source": [
    "print(weights[0].shape)\n",
    "print(weights[0])"
   ]
  },
  {
   "cell_type": "code",
   "execution_count": 77,
   "metadata": {},
   "outputs": [
    {
     "name": "stderr",
     "output_type": "stream",
     "text": [
      "C:\\Users\\bleuze3u\\AppData\\Local\\Temp\\ipykernel_7572\\2365961212.py:4: FutureWarning: The frame.append method is deprecated and will be removed from pandas in a future version. Use pandas.concat instead.\n",
      "  weights_df = weights_df.append(pd.DataFrame(weights[1], columns=X_gd_A_train.columns))\n",
      "C:\\Users\\bleuze3u\\AppData\\Local\\Temp\\ipykernel_7572\\2365961212.py:6: FutureWarning: The frame.append method is deprecated and will be removed from pandas in a future version. Use pandas.concat instead.\n",
      "  weights_df = weights_df.append(pd.DataFrame(weights[2], columns=X_gd_both_train.columns))\n"
     ]
    }
   ],
   "source": [
    "# store the weights in a pandas dataframe\n",
    "weights_df = pd.DataFrame(weights[0], columns=X_gd_N_train.columns)\n",
    "weights_df['dataset'] = 'N'\n",
    "weights_df = weights_df.append(pd.DataFrame(weights[1], columns=X_gd_A_train.columns))\n",
    "weights_df['dataset'] = weights_df['dataset'].fillna('A')\n",
    "weights_df = weights_df.append(pd.DataFrame(weights[2], columns=X_gd_both_train.columns))\n",
    "weights_df['dataset'] = weights_df['dataset'].fillna('both')\n",
    "\n",
    "# set the dataset as index\n",
    "weights_df = weights_df.set_index('dataset')"
   ]
  },
  {
   "cell_type": "code",
   "execution_count": 78,
   "metadata": {},
   "outputs": [
    {
     "data": {
      "text/html": [
       "<div>\n",
       "<style scoped>\n",
       "    .dataframe tbody tr th:only-of-type {\n",
       "        vertical-align: middle;\n",
       "    }\n",
       "\n",
       "    .dataframe tbody tr th {\n",
       "        vertical-align: top;\n",
       "    }\n",
       "\n",
       "    .dataframe thead th {\n",
       "        text-align: right;\n",
       "    }\n",
       "</style>\n",
       "<table border=\"1\" class=\"dataframe\">\n",
       "  <thead>\n",
       "    <tr style=\"text-align: right;\">\n",
       "      <th></th>\n",
       "      <th>0</th>\n",
       "      <th>1</th>\n",
       "      <th>2</th>\n",
       "      <th>3</th>\n",
       "      <th>4</th>\n",
       "      <th>5</th>\n",
       "      <th>6</th>\n",
       "      <th>7</th>\n",
       "      <th>8</th>\n",
       "      <th>9</th>\n",
       "      <th>...</th>\n",
       "      <th>502</th>\n",
       "      <th>503</th>\n",
       "      <th>504</th>\n",
       "      <th>505</th>\n",
       "      <th>506</th>\n",
       "      <th>507</th>\n",
       "      <th>508</th>\n",
       "      <th>509</th>\n",
       "      <th>510</th>\n",
       "      <th>511</th>\n",
       "    </tr>\n",
       "    <tr>\n",
       "      <th>dataset</th>\n",
       "      <th></th>\n",
       "      <th></th>\n",
       "      <th></th>\n",
       "      <th></th>\n",
       "      <th></th>\n",
       "      <th></th>\n",
       "      <th></th>\n",
       "      <th></th>\n",
       "      <th></th>\n",
       "      <th></th>\n",
       "      <th></th>\n",
       "      <th></th>\n",
       "      <th></th>\n",
       "      <th></th>\n",
       "      <th></th>\n",
       "      <th></th>\n",
       "      <th></th>\n",
       "      <th></th>\n",
       "      <th></th>\n",
       "      <th></th>\n",
       "      <th></th>\n",
       "    </tr>\n",
       "  </thead>\n",
       "  <tbody>\n",
       "    <tr>\n",
       "      <th>N</th>\n",
       "      <td>0.946667</td>\n",
       "      <td>0.328995</td>\n",
       "      <td>-0.312579</td>\n",
       "      <td>-0.090479</td>\n",
       "      <td>0.910950</td>\n",
       "      <td>-1.222433</td>\n",
       "      <td>-0.255966</td>\n",
       "      <td>-1.739187</td>\n",
       "      <td>0.981225</td>\n",
       "      <td>0.445455</td>\n",
       "      <td>...</td>\n",
       "      <td>-0.258886</td>\n",
       "      <td>0.953946</td>\n",
       "      <td>-0.247603</td>\n",
       "      <td>0.603725</td>\n",
       "      <td>0.152848</td>\n",
       "      <td>-1.563966</td>\n",
       "      <td>-0.507532</td>\n",
       "      <td>0.517217</td>\n",
       "      <td>0.639983</td>\n",
       "      <td>-0.067486</td>\n",
       "    </tr>\n",
       "    <tr>\n",
       "      <th>N</th>\n",
       "      <td>-0.977395</td>\n",
       "      <td>-0.314676</td>\n",
       "      <td>0.260102</td>\n",
       "      <td>0.113210</td>\n",
       "      <td>-0.866695</td>\n",
       "      <td>1.221905</td>\n",
       "      <td>0.270446</td>\n",
       "      <td>1.793385</td>\n",
       "      <td>-1.020690</td>\n",
       "      <td>-0.371290</td>\n",
       "      <td>...</td>\n",
       "      <td>0.286010</td>\n",
       "      <td>-0.971046</td>\n",
       "      <td>0.216638</td>\n",
       "      <td>-0.659413</td>\n",
       "      <td>-0.172539</td>\n",
       "      <td>1.549972</td>\n",
       "      <td>0.550567</td>\n",
       "      <td>-0.495141</td>\n",
       "      <td>-0.648572</td>\n",
       "      <td>0.109498</td>\n",
       "    </tr>\n",
       "    <tr>\n",
       "      <th>A</th>\n",
       "      <td>0.678695</td>\n",
       "      <td>0.226172</td>\n",
       "      <td>-0.539917</td>\n",
       "      <td>-0.184077</td>\n",
       "      <td>0.485116</td>\n",
       "      <td>-1.391242</td>\n",
       "      <td>-0.285240</td>\n",
       "      <td>-0.691932</td>\n",
       "      <td>0.336490</td>\n",
       "      <td>0.423272</td>\n",
       "      <td>...</td>\n",
       "      <td>0.092510</td>\n",
       "      <td>1.069508</td>\n",
       "      <td>0.126817</td>\n",
       "      <td>0.310596</td>\n",
       "      <td>-0.612990</td>\n",
       "      <td>-1.051207</td>\n",
       "      <td>0.056208</td>\n",
       "      <td>0.270424</td>\n",
       "      <td>0.104722</td>\n",
       "      <td>0.578843</td>\n",
       "    </tr>\n",
       "    <tr>\n",
       "      <th>A</th>\n",
       "      <td>-0.672854</td>\n",
       "      <td>-0.239842</td>\n",
       "      <td>0.536785</td>\n",
       "      <td>0.194373</td>\n",
       "      <td>-0.560142</td>\n",
       "      <td>1.412885</td>\n",
       "      <td>0.292001</td>\n",
       "      <td>0.719256</td>\n",
       "      <td>-0.328226</td>\n",
       "      <td>-0.449428</td>\n",
       "      <td>...</td>\n",
       "      <td>-0.136758</td>\n",
       "      <td>-1.060259</td>\n",
       "      <td>-0.202468</td>\n",
       "      <td>-0.299049</td>\n",
       "      <td>0.587296</td>\n",
       "      <td>1.056015</td>\n",
       "      <td>-0.096247</td>\n",
       "      <td>-0.250932</td>\n",
       "      <td>-0.134551</td>\n",
       "      <td>-0.506044</td>\n",
       "    </tr>\n",
       "    <tr>\n",
       "      <th>both</th>\n",
       "      <td>1.277770</td>\n",
       "      <td>0.243546</td>\n",
       "      <td>-0.871718</td>\n",
       "      <td>0.020121</td>\n",
       "      <td>1.048579</td>\n",
       "      <td>-1.666953</td>\n",
       "      <td>-0.349495</td>\n",
       "      <td>-1.990550</td>\n",
       "      <td>1.178329</td>\n",
       "      <td>0.443674</td>\n",
       "      <td>...</td>\n",
       "      <td>-0.247347</td>\n",
       "      <td>1.326856</td>\n",
       "      <td>-0.206623</td>\n",
       "      <td>1.011938</td>\n",
       "      <td>-0.001154</td>\n",
       "      <td>-1.844594</td>\n",
       "      <td>-0.531743</td>\n",
       "      <td>0.654512</td>\n",
       "      <td>0.639387</td>\n",
       "      <td>-0.116262</td>\n",
       "    </tr>\n",
       "    <tr>\n",
       "      <th>both</th>\n",
       "      <td>-1.210747</td>\n",
       "      <td>-0.248900</td>\n",
       "      <td>0.899029</td>\n",
       "      <td>0.034759</td>\n",
       "      <td>-1.069722</td>\n",
       "      <td>1.661734</td>\n",
       "      <td>0.364467</td>\n",
       "      <td>1.962601</td>\n",
       "      <td>-1.187109</td>\n",
       "      <td>-0.398417</td>\n",
       "      <td>...</td>\n",
       "      <td>0.254015</td>\n",
       "      <td>-1.332695</td>\n",
       "      <td>0.174075</td>\n",
       "      <td>-1.033593</td>\n",
       "      <td>0.034915</td>\n",
       "      <td>1.805110</td>\n",
       "      <td>0.521252</td>\n",
       "      <td>-0.663627</td>\n",
       "      <td>-0.650128</td>\n",
       "      <td>0.073868</td>\n",
       "    </tr>\n",
       "  </tbody>\n",
       "</table>\n",
       "<p>6 rows × 512 columns</p>\n",
       "</div>"
      ],
      "text/plain": [
       "                0         1         2         3         4         5         6  \\\n",
       "dataset                                                                         \n",
       "N        0.946667  0.328995 -0.312579 -0.090479  0.910950 -1.222433 -0.255966   \n",
       "N       -0.977395 -0.314676  0.260102  0.113210 -0.866695  1.221905  0.270446   \n",
       "A        0.678695  0.226172 -0.539917 -0.184077  0.485116 -1.391242 -0.285240   \n",
       "A       -0.672854 -0.239842  0.536785  0.194373 -0.560142  1.412885  0.292001   \n",
       "both     1.277770  0.243546 -0.871718  0.020121  1.048579 -1.666953 -0.349495   \n",
       "both    -1.210747 -0.248900  0.899029  0.034759 -1.069722  1.661734  0.364467   \n",
       "\n",
       "                7         8         9  ...       502       503       504  \\\n",
       "dataset                                ...                                 \n",
       "N       -1.739187  0.981225  0.445455  ... -0.258886  0.953946 -0.247603   \n",
       "N        1.793385 -1.020690 -0.371290  ...  0.286010 -0.971046  0.216638   \n",
       "A       -0.691932  0.336490  0.423272  ...  0.092510  1.069508  0.126817   \n",
       "A        0.719256 -0.328226 -0.449428  ... -0.136758 -1.060259 -0.202468   \n",
       "both    -1.990550  1.178329  0.443674  ... -0.247347  1.326856 -0.206623   \n",
       "both     1.962601 -1.187109 -0.398417  ...  0.254015 -1.332695  0.174075   \n",
       "\n",
       "              505       506       507       508       509       510       511  \n",
       "dataset                                                                        \n",
       "N        0.603725  0.152848 -1.563966 -0.507532  0.517217  0.639983 -0.067486  \n",
       "N       -0.659413 -0.172539  1.549972  0.550567 -0.495141 -0.648572  0.109498  \n",
       "A        0.310596 -0.612990 -1.051207  0.056208  0.270424  0.104722  0.578843  \n",
       "A       -0.299049  0.587296  1.056015 -0.096247 -0.250932 -0.134551 -0.506044  \n",
       "both     1.011938 -0.001154 -1.844594 -0.531743  0.654512  0.639387 -0.116262  \n",
       "both    -1.033593  0.034915  1.805110  0.521252 -0.663627 -0.650128  0.073868  \n",
       "\n",
       "[6 rows x 512 columns]"
      ]
     },
     "execution_count": 78,
     "metadata": {},
     "output_type": "execute_result"
    }
   ],
   "source": [
    "weights_df"
   ]
  },
  {
   "cell_type": "code",
   "execution_count": 86,
   "metadata": {},
   "outputs": [
    {
     "data": {
      "image/png": "[encoded data removed]",
      "text/plain": [
       "<Figure size 2000x1000 with 1 Axes>"
      ]
     },
     "metadata": {},
     "output_type": "display_data"
    }
   ],
   "source": [
    "weights_N_0 = weights_df.iloc[0, :]\n",
    "weights_N_0\n",
    "\n",
    "# plot weights_N_0\n",
    "plt.figure(figsize=(20, 10))\n",
    "plt.bar(range(512), weights_N_0.values)\n",
    "plt.title('Weights of the first layer of the model trained on the N dataset')\n",
    "plt.show()"
   ]
  },
  {
   "cell_type": "code",
   "execution_count": 89,
   "metadata": {},
   "outputs": [
    {
     "data": {
      "image/png": "[encoded data removed]",
      "text/plain": [
       "<Figure size 2000x1000 with 1 Axes>"
      ]
     },
     "metadata": {},
     "output_type": "display_data"
    },
    {
     "data": {
      "image/png": "[encoded data removed]",
      "text/plain": [
       "<Figure size 2000x1000 with 1 Axes>"
      ]
     },
     "metadata": {},
     "output_type": "display_data"
    }
   ],
   "source": [
    "# do the same for the other datasets\n",
    "weights_A_0 = weights_df.iloc[2, :]\n",
    "weights_both_0 = weights_df.iloc[4, :]\n",
    "\n",
    "plt.figure(figsize=(20, 10))\n",
    "plt.bar(range(512), weights_A_0.values)\n",
    "plt.title('Weights of the first layer of the model trained on the A dataset')\n",
    "plt.show()\n",
    "\n",
    "plt.figure(figsize=(20, 10))\n",
    "plt.bar(range(512), weights_both_0.values)\n",
    "plt.title('Weights of the first layer of the model trained on the both dataset')\n",
    "plt.show()"
   ]
  },
  {
   "cell_type": "code",
   "execution_count": 127,
   "metadata": {},
   "outputs": [],
   "source": [
    "sorted_features = []\n",
    "for i in range(3):\n",
    "    # get the list of weights ordered by decreasing absolute value\n",
    "    to_sort = weights[i][0]\n",
    "    to_sort = np.abs(to_sort)\n",
    "    sorted = np.argsort(to_sort)[::-1]\n",
    "    sorted_features.append(sorted)"
   ]
  },
  {
   "cell_type": "code",
   "execution_count": 128,
   "metadata": {},
   "outputs": [
    {
     "name": "stdout",
     "output_type": "stream",
     "text": [
      "Model  0  : \n",
      "\n",
      "100: 2.4049429893493652    -2.423597574234009\n",
      "162: -2.3213932514190674    2.285126209259033\n",
      "377: -2.098301649093628    2.1258461475372314\n",
      "468: 2.0137102603912354    -1.9711201190948486\n",
      "186: 1.9751569032669067    -1.9794459342956543\n",
      "434: -1.9402450323104858    1.9071717262268066\n",
      "198: -1.838673710823059    1.8410512208938599\n",
      "250: -1.8101658821105957    1.7936745882034302\n",
      "7: -1.7391866445541382    1.7933846712112427\n",
      "195: 1.6852684020996094    -1.712106466293335\n",
      "Model  1  : \n",
      "\n",
      "250: -1.5160810947418213    1.5462815761566162\n",
      "432: -1.4687833786010742    1.4409523010253906\n",
      "177: -1.4102857112884521    1.3560584783554077\n",
      "5: -1.3912416696548462    1.4128847122192383\n",
      "362: -1.3780279159545898    1.3448292016983032\n",
      "245: -1.3740754127502441    1.35970938205719\n",
      "390: -1.363929033279419    1.40240478515625\n",
      "470: -1.3200898170471191    1.255264401435852\n",
      "88: 1.2956918478012085    -1.241031289100647\n",
      "121: -1.272502064704895    1.291343092918396\n",
      "Model  2  : \n",
      "\n",
      "162: -2.727080821990967    2.745828866958618\n",
      "100: 2.637005567550659    -2.6028895378112793\n",
      "377: -2.52558970451355    2.584097385406494\n",
      "250: -2.3345372676849365    2.3069381713867188\n",
      "468: 2.2922115325927734    -2.3202319145202637\n",
      "186: 2.2183315753936768    -2.2236480712890625\n",
      "390: -2.174651861190796    2.193352699279785\n",
      "434: -2.0865471363067627    2.056654453277588\n",
      "195: 2.043632745742798    -2.016301393508911\n",
      "7: -1.990549921989441    1.9626010656356812\n"
     ]
    }
   ],
   "source": [
    "for i in range(3):\n",
    "    print(\"Model \", i, \" : \\n\")\n",
    "    for feat in sorted_features[i][:10]:\n",
    "        print(f\"{int(feat)}: {weights[i][0][int(feat)]}    {weights[i][1][int(feat)]}\")"
   ]
  }
 ],
 "metadata": {
  "kernelspec": {
   "display_name": "Python 3",
   "language": "python",
   "name": "python3"
  },
  "language_info": {
   "codemirror_mode": {
    "name": "ipython",
    "version": 3
   },
   "file_extension": ".py",
   "mimetype": "text/x-python",
   "name": "python",
   "nbconvert_exporter": "python",
   "pygments_lexer": "ipython3",
   "version": "3.10.10"
  },
  "orig_nbformat": 4,
  "vscode": {
   "interpreter": {
    "hash": "3de7a084b318d7b8bf96005cb5db4da14a27f60df0465391ef48a4c336f03bfe"
   }
  }
 },
 "nbformat": 4,
 "nbformat_minor": 2
}
