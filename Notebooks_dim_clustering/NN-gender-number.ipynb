{
 "cells": [
  {
   "cell_type": "code",
   "execution_count": 1,
   "metadata": {},
   "outputs": [],
   "source": [
    "import torch.nn as nn\n",
    "import torch \n",
    "import pandas as pd\n",
    "import numpy as np\n",
    "from sklearn.model_selection import train_test_split\n",
    "import seaborn as sns\n",
    "from matplotlib import pyplot as plt"
   ]
  },
  {
   "attachments": {},
   "cell_type": "markdown",
   "metadata": {},
   "source": [
    "# NN Classification (Perceptron) : gender"
   ]
  },
  {
   "attachments": {},
   "cell_type": "markdown",
   "metadata": {},
   "source": [
    "## Data preparation"
   ]
  },
  {
   "attachments": {},
   "cell_type": "markdown",
   "metadata": {},
   "source": [
    "### Load data: NOUN, ADJ, and both"
   ]
  },
  {
   "cell_type": "code",
   "execution_count": 2,
   "metadata": {},
   "outputs": [],
   "source": [
    "df_nouns_we = pd.read_csv('../Data/FlauBERT_WE/all_nouns_we.csv').drop(columns=[\"number\"])\n",
    "df_adj_we = pd.read_csv('../Data/FlauBERT_WE/all_adjectives_we.csv').drop(columns = \"number\")\n",
    "df_both_we = pd.concat([df_nouns_we, df_adj_we], ignore_index=True)\n",
    "\n",
    "# target : gender\n",
    "Y_gd_N = df_nouns_we[\"gender\"].apply(lambda x: 1 if x == \"masculine\" else 0)\n",
    "Y_gd_A = df_adj_we[\"gender\"].apply(lambda x: 1 if x == \"masculine\" else 0)\n",
    "Y_gd_both = df_both_we[\"gender\"].apply(lambda x: 1 if x == \"masculine\" else 0)\n",
    "\n",
    "# features : word embeddings dimensions\n",
    "X_gd_N = df_nouns_we.drop(columns=[\"Word\", \"gender\"])\n",
    "X_gd_A = df_adj_we.drop(columns=[\"Word\", \"gender\"])\n",
    "X_gd_both = df_both_we.drop(columns = [\"Word\", \"gender\"] )\n",
    "\n",
    "# normalize data to be between 0 and 1\n",
    "X_gd_N = (X_gd_N - X_gd_N.min()) / (X_gd_N.max() - X_gd_N.min())\n",
    "X_gd_A = (X_gd_A - X_gd_A.min()) / (X_gd_A.max() - X_gd_A.min())\n",
    "X_gd_both = (X_gd_both - X_gd_both.min()) / (X_gd_both.max() - X_gd_both.min())\n",
    "\n",
    "# split data into train and test sets\n",
    "X_gd_N_train, X_gd_N_test, Y_gd_N_train, Y_gd_N_test = train_test_split(X_gd_N, Y_gd_N, test_size=0.2, random_state=42)\n",
    "X_gd_A_train, X_gd_A_test, Y_gd_A_train, Y_gd_A_test = train_test_split(X_gd_A, Y_gd_A, test_size=0.2, random_state=42)\n",
    "X_gd_both_train, X_gd_both_test, Y_gd_both_train, Y_gd_both_test = train_test_split(X_gd_both, Y_gd_both, test_size=0.2, random_state=42)"
   ]
  },
  {
   "cell_type": "code",
   "execution_count": 3,
   "metadata": {},
   "outputs": [
    {
     "name": "stdout",
     "output_type": "stream",
     "text": [
      "X_gd_N_train shape :  (10590, 512)\n",
      "X_gd_N_test shape :  (2648, 512)\n",
      "Y_gd_N_train shape :  (10590,)\n",
      "Y_gd_N_test shape :  (2648,)\n",
      "X_gd_A_train shape :  (5067, 512)\n",
      "X_gd_A_test shape :  (1267, 512)\n",
      "Y_gd_A_train shape :  (5067,)\n",
      "Y_gd_A_test shape :  (1267,)\n",
      "X_gd_both_train shape :  (15657, 512)\n",
      "X_gd_both_test shape :  (3915, 512)\n"
     ]
    }
   ],
   "source": [
    "# print all the shapes\n",
    "print(\"X_gd_N_train shape : \", X_gd_N_train.shape)\n",
    "print(\"X_gd_N_test shape : \", X_gd_N_test.shape)\n",
    "print(\"Y_gd_N_train shape : \", Y_gd_N_train.shape)\n",
    "print(\"Y_gd_N_test shape : \", Y_gd_N_test.shape)\n",
    "print(\"X_gd_A_train shape : \", X_gd_A_train.shape)\n",
    "print(\"X_gd_A_test shape : \", X_gd_A_test.shape)\n",
    "print(\"Y_gd_A_train shape : \", Y_gd_A_train.shape)\n",
    "print(\"Y_gd_A_test shape : \", Y_gd_A_test.shape)\n",
    "print(\"X_gd_both_train shape : \", X_gd_both_train.shape)\n",
    "print(\"X_gd_both_test shape : \", X_gd_both_test.shape)"
   ]
  },
  {
   "cell_type": "code",
   "execution_count": 4,
   "metadata": {},
   "outputs": [],
   "source": [
    "train_features = [X_gd_N_train, X_gd_A_train, X_gd_both_train]\n",
    "test_features = [X_gd_N_test, X_gd_A_test, X_gd_both_test]\n",
    "train_targets = [Y_gd_N_train, Y_gd_A_train, Y_gd_both_train]\n",
    "test_targets = [Y_gd_N_test, Y_gd_A_test, Y_gd_both_test]"
   ]
  },
  {
   "attachments": {},
   "cell_type": "markdown",
   "metadata": {},
   "source": [
    "### Tensors"
   ]
  },
  {
   "cell_type": "code",
   "execution_count": 5,
   "metadata": {},
   "outputs": [],
   "source": [
    "# convert to tensors\n",
    "train_features = [torch.tensor(x.values).float() for x in train_features]\n",
    "test_features = [torch.tensor(x.values).float() for x in test_features]\n",
    "train_targets = [torch.tensor(x.values).long() for x in train_targets]\n",
    "test_targets = [torch.tensor(x.values).long() for x in test_targets]"
   ]
  },
  {
   "cell_type": "code",
   "execution_count": 6,
   "metadata": {},
   "outputs": [],
   "source": [
    "from torch.utils.data import TensorDataset, DataLoader\n",
    "# the TensorDataset is a ready to use class to represent your data as list of tensors. \n",
    "# Note that input_features and labels must match on the length of the first dimension\n",
    "train_sets = [TensorDataset(X_train, Y_train) for X_train, Y_train in zip(train_features, train_targets)]\n",
    "test_sets = [TensorDataset(X_valid, Y_valid) for X_valid, Y_valid in zip(test_features, test_targets)]\n",
    "\n",
    "# DataLoader shuffles and batches the data and load its in parallel using multiprocessing workers\n",
    "train_loaders = [DataLoader(train_set, batch_size=32, shuffle=True) for train_set in train_sets]\n",
    "test_loaders = [DataLoader(test_set, batch_size=32) for test_set in test_sets]"
   ]
  },
  {
   "attachments": {},
   "cell_type": "markdown",
   "metadata": {},
   "source": [
    "## Classification"
   ]
  },
  {
   "attachments": {},
   "cell_type": "markdown",
   "metadata": {},
   "source": [
    "### NN definition"
   ]
  },
  {
   "cell_type": "code",
   "execution_count": 7,
   "metadata": {},
   "outputs": [],
   "source": [
    "NNlist = []\n",
    "\n",
    "for i in range(3):\n",
    "    \n",
    "    # create a fully connected perceptron with 1 input layer (512 features) and 1 output layer \n",
    "    model = nn.Sequential(nn.Linear(512, 1), nn.Softmax(dim=1))\n",
    "    # define the loss function\n",
    "    loss_fn = nn.CrossEntropyLoss()\n",
    "    # define the optimizer\n",
    "    optimizer = torch.optim.Adam(model.parameters(), lr=0.001)\n",
    "    # add the model to the list\n",
    "    NNlist.append([model, loss_fn, optimizer])"
   ]
  },
  {
   "attachments": {},
   "cell_type": "markdown",
   "metadata": {},
   "source": [
    "## Train the models"
   ]
  },
  {
   "cell_type": "code",
   "execution_count": 8,
   "metadata": {},
   "outputs": [],
   "source": [
    "nb_epochs = 100"
   ]
  },
  {
   "cell_type": "code",
   "execution_count": 9,
   "metadata": {},
   "outputs": [
    {
     "name": "stdout",
     "output_type": "stream",
     "text": [
      "* Training model  0\n"
     ]
    },
    {
     "ename": "IndexError",
     "evalue": "Target 1 is out of bounds.",
     "output_type": "error",
     "traceback": [
      "\u001b[1;31m---------------------------------------------------------------------------\u001b[0m",
      "\u001b[1;31mIndexError\u001b[0m                                Traceback (most recent call last)",
      "Cell \u001b[1;32mIn[9], line 12\u001b[0m\n\u001b[0;32m     10\u001b[0m Y_pred \u001b[39m=\u001b[39m model(X_train)\n\u001b[0;32m     11\u001b[0m \u001b[39m# calculate loss\u001b[39;00m\n\u001b[1;32m---> 12\u001b[0m loss \u001b[39m=\u001b[39m loss_fn(Y_pred, Y_train)\n\u001b[0;32m     13\u001b[0m \u001b[39m# reset the gradients\u001b[39;00m\n\u001b[0;32m     14\u001b[0m optimizer\u001b[39m.\u001b[39mzero_grad()\n",
      "File \u001b[1;32mc:\\Users\\bleuze3u\\AppData\\Local\\Programs\\Python\\Python310\\lib\\site-packages\\torch\\nn\\modules\\module.py:1501\u001b[0m, in \u001b[0;36mModule._call_impl\u001b[1;34m(self, *args, **kwargs)\u001b[0m\n\u001b[0;32m   1496\u001b[0m \u001b[39m# If we don't have any hooks, we want to skip the rest of the logic in\u001b[39;00m\n\u001b[0;32m   1497\u001b[0m \u001b[39m# this function, and just call forward.\u001b[39;00m\n\u001b[0;32m   1498\u001b[0m \u001b[39mif\u001b[39;00m \u001b[39mnot\u001b[39;00m (\u001b[39mself\u001b[39m\u001b[39m.\u001b[39m_backward_hooks \u001b[39mor\u001b[39;00m \u001b[39mself\u001b[39m\u001b[39m.\u001b[39m_backward_pre_hooks \u001b[39mor\u001b[39;00m \u001b[39mself\u001b[39m\u001b[39m.\u001b[39m_forward_hooks \u001b[39mor\u001b[39;00m \u001b[39mself\u001b[39m\u001b[39m.\u001b[39m_forward_pre_hooks\n\u001b[0;32m   1499\u001b[0m         \u001b[39mor\u001b[39;00m _global_backward_pre_hooks \u001b[39mor\u001b[39;00m _global_backward_hooks\n\u001b[0;32m   1500\u001b[0m         \u001b[39mor\u001b[39;00m _global_forward_hooks \u001b[39mor\u001b[39;00m _global_forward_pre_hooks):\n\u001b[1;32m-> 1501\u001b[0m     \u001b[39mreturn\u001b[39;00m forward_call(\u001b[39m*\u001b[39margs, \u001b[39m*\u001b[39m\u001b[39m*\u001b[39mkwargs)\n\u001b[0;32m   1502\u001b[0m \u001b[39m# Do not call functions when jit is used\u001b[39;00m\n\u001b[0;32m   1503\u001b[0m full_backward_hooks, non_full_backward_hooks \u001b[39m=\u001b[39m [], []\n",
      "File \u001b[1;32mc:\\Users\\bleuze3u\\AppData\\Local\\Programs\\Python\\Python310\\lib\\site-packages\\torch\\nn\\modules\\loss.py:1174\u001b[0m, in \u001b[0;36mCrossEntropyLoss.forward\u001b[1;34m(self, input, target)\u001b[0m\n\u001b[0;32m   1173\u001b[0m \u001b[39mdef\u001b[39;00m \u001b[39mforward\u001b[39m(\u001b[39mself\u001b[39m, \u001b[39minput\u001b[39m: Tensor, target: Tensor) \u001b[39m-\u001b[39m\u001b[39m>\u001b[39m Tensor:\n\u001b[1;32m-> 1174\u001b[0m     \u001b[39mreturn\u001b[39;00m F\u001b[39m.\u001b[39;49mcross_entropy(\u001b[39minput\u001b[39;49m, target, weight\u001b[39m=\u001b[39;49m\u001b[39mself\u001b[39;49m\u001b[39m.\u001b[39;49mweight,\n\u001b[0;32m   1175\u001b[0m                            ignore_index\u001b[39m=\u001b[39;49m\u001b[39mself\u001b[39;49m\u001b[39m.\u001b[39;49mignore_index, reduction\u001b[39m=\u001b[39;49m\u001b[39mself\u001b[39;49m\u001b[39m.\u001b[39;49mreduction,\n\u001b[0;32m   1176\u001b[0m                            label_smoothing\u001b[39m=\u001b[39;49m\u001b[39mself\u001b[39;49m\u001b[39m.\u001b[39;49mlabel_smoothing)\n",
      "File \u001b[1;32mc:\\Users\\bleuze3u\\AppData\\Local\\Programs\\Python\\Python310\\lib\\site-packages\\torch\\nn\\functional.py:3029\u001b[0m, in \u001b[0;36mcross_entropy\u001b[1;34m(input, target, weight, size_average, ignore_index, reduce, reduction, label_smoothing)\u001b[0m\n\u001b[0;32m   3027\u001b[0m \u001b[39mif\u001b[39;00m size_average \u001b[39mis\u001b[39;00m \u001b[39mnot\u001b[39;00m \u001b[39mNone\u001b[39;00m \u001b[39mor\u001b[39;00m reduce \u001b[39mis\u001b[39;00m \u001b[39mnot\u001b[39;00m \u001b[39mNone\u001b[39;00m:\n\u001b[0;32m   3028\u001b[0m     reduction \u001b[39m=\u001b[39m _Reduction\u001b[39m.\u001b[39mlegacy_get_string(size_average, reduce)\n\u001b[1;32m-> 3029\u001b[0m \u001b[39mreturn\u001b[39;00m torch\u001b[39m.\u001b[39;49m_C\u001b[39m.\u001b[39;49m_nn\u001b[39m.\u001b[39;49mcross_entropy_loss(\u001b[39minput\u001b[39;49m, target, weight, _Reduction\u001b[39m.\u001b[39;49mget_enum(reduction), ignore_index, label_smoothing)\n",
      "\u001b[1;31mIndexError\u001b[0m: Target 1 is out of bounds."
     ]
    }
   ],
   "source": [
    "# train the models \n",
    "for i in range(3):\n",
    "    print(\"* Training model \", i)\n",
    "    model, loss_fn, optimizer = NNlist[i]\n",
    "    # put the model in training mode\n",
    "    model.train()\n",
    "    for epoch in range(nb_epochs):\n",
    "        for X_train, Y_train in train_loaders[i]:\n",
    "            # compute the model output\n",
    "            Y_pred = model(X_train)\n",
    "            # calculate loss\n",
    "            loss = loss_fn(Y_pred, Y_train)\n",
    "            # reset the gradients\n",
    "            optimizer.zero_grad()\n",
    "            # backpropagation\n",
    "            loss.backward()\n",
    "            # update model weights\n",
    "            optimizer.step()\n",
    "\n",
    "        if epoch % 10 == 0:\n",
    "            print(\"--Epoch \", epoch, \" Loss : \", loss.item())"
   ]
  },
  {
   "cell_type": "code",
   "execution_count": 21,
   "metadata": {},
   "outputs": [
    {
     "name": "stdout",
     "output_type": "stream",
     "text": [
      "Model  0 \n",
      " Accuracy :  0.9527945619335347\n",
      " Precision :  0.9474421739578247\n",
      " Recall :  0.964336633682251\n",
      " F1 score :  0.955814778804779\n",
      "Confusion matrix : \n"
     ]
    },
    {
     "data": {
      "image/png": "[encoded data removed]",
      "text/plain": [
       "<Figure size 432x288 with 1 Axes>"
      ]
     },
     "metadata": {
      "needs_background": "light"
     },
     "output_type": "display_data"
    },
    {
     "name": "stdout",
     "output_type": "stream",
     "text": [
      "Model  1 \n",
      " Accuracy :  0.9936858721389108\n",
      " Precision :  0.9962121248245239\n",
      " Recall :  0.99370276927948\n",
      " F1 score :  0.994955837726593\n",
      "Confusion matrix : \n"
     ]
    },
    {
     "data": {
      "image/png": "[encoded data removed]",
      "text/plain": [
       "<Figure size 432x288 with 1 Axes>"
      ]
     },
     "metadata": {
      "needs_background": "light"
     },
     "output_type": "display_data"
    },
    {
     "name": "stdout",
     "output_type": "stream",
     "text": [
      "Model  2 \n",
      " Accuracy :  0.9573435504469987\n",
      " Precision :  0.9599459767341614\n",
      " Recall :  0.9647218585014343\n",
      " F1 score :  0.9623280167579651\n",
      "Confusion matrix : \n"
     ]
    },
    {
     "data": {
      "image/png": "[encoded data removed]",
      "text/plain": [
       "<Figure size 432x288 with 1 Axes>"
      ]
     },
     "metadata": {
      "needs_background": "light"
     },
     "output_type": "display_data"
    }
   ],
   "source": [
    "# display the confusion matrix\n",
    "for i in range(3):\n",
    "\n",
    "    # put the model in evaluation mode\n",
    "    NNlist[i][0].eval()\n",
    "    # initialize the number of correct predictions\n",
    "    nb_correct_pred = 0\n",
    "    # initialize the number of predictions\n",
    "    nb_pred = 0\n",
    "    # initialize the confusion matrix\n",
    "    confusion_matrix = torch.zeros(2, 2)\n",
    "    # iterate over batches\n",
    "    for X_test, Y_test in test_loaders[i]:\n",
    "        # compute the model output\n",
    "        with torch.no_grad():\n",
    "            Y_pred = NNlist[i][0](X_test)\n",
    "            # get the predicted class\n",
    "            Y_pred = torch.argmax(Y_pred, dim=1)\n",
    "            # compute the number of correct predictions\n",
    "            nb_correct_pred += (Y_pred == Y_test).sum().item()\n",
    "            # compute the number of predictions\n",
    "            nb_pred += Y_pred.shape[0]\n",
    "            # update the confusion matrix\n",
    "            for t, p in zip(Y_test.view(-1), Y_pred.view(-1)):\n",
    "                confusion_matrix[t.long(), p.long()] += 1\n",
    "\n",
    "    # compute the accuracy\n",
    "    accuracy = nb_correct_pred / nb_pred\n",
    "    # compute the precision, recall and f1 score\n",
    "    precision = confusion_matrix[1, 1] / (confusion_matrix[1, 1] + confusion_matrix[0, 1])\n",
    "    recall = confusion_matrix[1, 1] / (confusion_matrix[1, 1] + confusion_matrix[1, 0])\n",
    "    f1_score = 2 * precision * recall / (precision + recall)\n",
    "    # print the results\n",
    "    print(\"Model \", i, \"\\n Accuracy : \", accuracy)\n",
    "    print(\" Precision : \", float(precision))\n",
    "    print(\" Recall : \", float(recall))\n",
    "    print(\" F1 score : \", float(f1_score))\n",
    "    print(\"Confusion matrix : \")\n",
    "    sns.heatmap(confusion_matrix, annot=True, fmt='g', cmap='Blues', cbar=False)\n",
    "    plt.show()"
   ]
  },
  {
   "cell_type": "code",
   "execution_count": 22,
   "metadata": {},
   "outputs": [],
   "source": [
    "# get the weights of the first layer of the model trained on the three datasets\n",
    "weights = [NNlist[i][0][0].weight.data.numpy() for i in range(3)]"
   ]
  },
  {
   "cell_type": "code",
   "execution_count": 23,
   "metadata": {},
   "outputs": [
    {
     "name": "stdout",
     "output_type": "stream",
     "text": [
      "(2, 512)\n",
      "[[ 0.8541221   0.26583007 -0.2700813  ...  0.4216159   0.58827406\n",
      "  -0.03928456]\n",
      " [-0.87368    -0.298936    0.23054606 ... -0.42329523 -0.6505777\n",
      "   0.03748782]]\n"
     ]
    }
   ],
   "source": [
    "print(weights[0].shape)\n",
    "print(weights[0])"
   ]
  },
  {
   "cell_type": "code",
   "execution_count": 24,
   "metadata": {},
   "outputs": [],
   "source": [
    "# store the weights in a pandas dataframe\n",
    "weights_df = pd.DataFrame(weights[0], columns=X_gd_N_train.columns)\n",
    "weights_df['dataset'] = 'N'\n",
    "weights_df = weights_df.append(pd.DataFrame(weights[1], columns=X_gd_A_train.columns))\n",
    "weights_df['dataset'] = weights_df['dataset'].fillna('A')\n",
    "weights_df = weights_df.append(pd.DataFrame(weights[2], columns=X_gd_both_train.columns))\n",
    "weights_df['dataset'] = weights_df['dataset'].fillna('both')\n",
    "\n",
    "# set the dataset as index\n",
    "weights_df = weights_df.set_index('dataset')"
   ]
  },
  {
   "cell_type": "code",
   "execution_count": 25,
   "metadata": {},
   "outputs": [
    {
     "data": {
      "text/html": [
       "<div>\n",
       "<style scoped>\n",
       "    .dataframe tbody tr th:only-of-type {\n",
       "        vertical-align: middle;\n",
       "    }\n",
       "\n",
       "    .dataframe tbody tr th {\n",
       "        vertical-align: top;\n",
       "    }\n",
       "\n",
       "    .dataframe thead th {\n",
       "        text-align: right;\n",
       "    }\n",
       "</style>\n",
       "<table border=\"1\" class=\"dataframe\">\n",
       "  <thead>\n",
       "    <tr style=\"text-align: right;\">\n",
       "      <th></th>\n",
       "      <th>0</th>\n",
       "      <th>1</th>\n",
       "      <th>2</th>\n",
       "      <th>3</th>\n",
       "      <th>4</th>\n",
       "      <th>5</th>\n",
       "      <th>6</th>\n",
       "      <th>7</th>\n",
       "      <th>8</th>\n",
       "      <th>9</th>\n",
       "      <th>...</th>\n",
       "      <th>502</th>\n",
       "      <th>503</th>\n",
       "      <th>504</th>\n",
       "      <th>505</th>\n",
       "      <th>506</th>\n",
       "      <th>507</th>\n",
       "      <th>508</th>\n",
       "      <th>509</th>\n",
       "      <th>510</th>\n",
       "      <th>511</th>\n",
       "    </tr>\n",
       "    <tr>\n",
       "      <th>dataset</th>\n",
       "      <th></th>\n",
       "      <th></th>\n",
       "      <th></th>\n",
       "      <th></th>\n",
       "      <th></th>\n",
       "      <th></th>\n",
       "      <th></th>\n",
       "      <th></th>\n",
       "      <th></th>\n",
       "      <th></th>\n",
       "      <th></th>\n",
       "      <th></th>\n",
       "      <th></th>\n",
       "      <th></th>\n",
       "      <th></th>\n",
       "      <th></th>\n",
       "      <th></th>\n",
       "      <th></th>\n",
       "      <th></th>\n",
       "      <th></th>\n",
       "      <th></th>\n",
       "    </tr>\n",
       "  </thead>\n",
       "  <tbody>\n",
       "    <tr>\n",
       "      <th>N</th>\n",
       "      <td>0.854122</td>\n",
       "      <td>0.265830</td>\n",
       "      <td>-0.270081</td>\n",
       "      <td>-0.124365</td>\n",
       "      <td>0.787919</td>\n",
       "      <td>-1.159059</td>\n",
       "      <td>-0.230776</td>\n",
       "      <td>-1.651336</td>\n",
       "      <td>0.876306</td>\n",
       "      <td>0.410869</td>\n",
       "      <td>...</td>\n",
       "      <td>-0.205661</td>\n",
       "      <td>0.884320</td>\n",
       "      <td>-0.110036</td>\n",
       "      <td>0.551669</td>\n",
       "      <td>0.120064</td>\n",
       "      <td>-1.499025</td>\n",
       "      <td>-0.475892</td>\n",
       "      <td>0.421616</td>\n",
       "      <td>0.588274</td>\n",
       "      <td>-0.039285</td>\n",
       "    </tr>\n",
       "    <tr>\n",
       "      <th>N</th>\n",
       "      <td>-0.873680</td>\n",
       "      <td>-0.298936</td>\n",
       "      <td>0.230546</td>\n",
       "      <td>0.149317</td>\n",
       "      <td>-0.823480</td>\n",
       "      <td>1.130722</td>\n",
       "      <td>0.243460</td>\n",
       "      <td>1.598969</td>\n",
       "      <td>-0.853738</td>\n",
       "      <td>-0.389886</td>\n",
       "      <td>...</td>\n",
       "      <td>0.233566</td>\n",
       "      <td>-0.868311</td>\n",
       "      <td>0.176815</td>\n",
       "      <td>-0.519234</td>\n",
       "      <td>-0.111272</td>\n",
       "      <td>1.493482</td>\n",
       "      <td>0.507256</td>\n",
       "      <td>-0.423295</td>\n",
       "      <td>-0.650578</td>\n",
       "      <td>0.037488</td>\n",
       "    </tr>\n",
       "    <tr>\n",
       "      <th>A</th>\n",
       "      <td>0.638243</td>\n",
       "      <td>0.203143</td>\n",
       "      <td>-0.467871</td>\n",
       "      <td>-0.177651</td>\n",
       "      <td>0.441557</td>\n",
       "      <td>-1.288819</td>\n",
       "      <td>-0.328329</td>\n",
       "      <td>-0.690078</td>\n",
       "      <td>0.338080</td>\n",
       "      <td>0.382600</td>\n",
       "      <td>...</td>\n",
       "      <td>0.101394</td>\n",
       "      <td>0.992284</td>\n",
       "      <td>0.131838</td>\n",
       "      <td>0.301286</td>\n",
       "      <td>-0.543865</td>\n",
       "      <td>-1.015250</td>\n",
       "      <td>0.089568</td>\n",
       "      <td>0.206914</td>\n",
       "      <td>0.126260</td>\n",
       "      <td>0.517275</td>\n",
       "    </tr>\n",
       "    <tr>\n",
       "      <th>A</th>\n",
       "      <td>-0.557148</td>\n",
       "      <td>-0.245492</td>\n",
       "      <td>0.453703</td>\n",
       "      <td>0.194837</td>\n",
       "      <td>-0.441894</td>\n",
       "      <td>1.283389</td>\n",
       "      <td>0.302763</td>\n",
       "      <td>0.688311</td>\n",
       "      <td>-0.329016</td>\n",
       "      <td>-0.355484</td>\n",
       "      <td>...</td>\n",
       "      <td>-0.102149</td>\n",
       "      <td>-1.049878</td>\n",
       "      <td>-0.144221</td>\n",
       "      <td>-0.285903</td>\n",
       "      <td>0.526951</td>\n",
       "      <td>0.999123</td>\n",
       "      <td>-0.091815</td>\n",
       "      <td>-0.204219</td>\n",
       "      <td>-0.187008</td>\n",
       "      <td>-0.571953</td>\n",
       "    </tr>\n",
       "    <tr>\n",
       "      <th>both</th>\n",
       "      <td>1.191835</td>\n",
       "      <td>0.250017</td>\n",
       "      <td>-0.756421</td>\n",
       "      <td>0.008322</td>\n",
       "      <td>0.965847</td>\n",
       "      <td>-1.514096</td>\n",
       "      <td>-0.296678</td>\n",
       "      <td>-1.829767</td>\n",
       "      <td>1.084059</td>\n",
       "      <td>0.481348</td>\n",
       "      <td>...</td>\n",
       "      <td>-0.231771</td>\n",
       "      <td>1.227640</td>\n",
       "      <td>-0.106458</td>\n",
       "      <td>0.864913</td>\n",
       "      <td>-0.052629</td>\n",
       "      <td>-1.716936</td>\n",
       "      <td>-0.432560</td>\n",
       "      <td>0.612500</td>\n",
       "      <td>0.616408</td>\n",
       "      <td>-0.033330</td>\n",
       "    </tr>\n",
       "    <tr>\n",
       "      <th>both</th>\n",
       "      <td>-1.147944</td>\n",
       "      <td>-0.214942</td>\n",
       "      <td>0.787760</td>\n",
       "      <td>-0.004984</td>\n",
       "      <td>-0.963785</td>\n",
       "      <td>1.563147</td>\n",
       "      <td>0.356138</td>\n",
       "      <td>1.812294</td>\n",
       "      <td>-1.082689</td>\n",
       "      <td>-0.435424</td>\n",
       "      <td>...</td>\n",
       "      <td>0.163569</td>\n",
       "      <td>-1.200040</td>\n",
       "      <td>0.140668</td>\n",
       "      <td>-0.839621</td>\n",
       "      <td>0.058741</td>\n",
       "      <td>1.706712</td>\n",
       "      <td>0.490109</td>\n",
       "      <td>-0.601387</td>\n",
       "      <td>-0.620640</td>\n",
       "      <td>0.072079</td>\n",
       "    </tr>\n",
       "  </tbody>\n",
       "</table>\n",
       "<p>6 rows × 512 columns</p>\n",
       "</div>"
      ],
      "text/plain": [
       "                0         1         2         3         4         5         6  \\\n",
       "dataset                                                                         \n",
       "N        0.854122  0.265830 -0.270081 -0.124365  0.787919 -1.159059 -0.230776   \n",
       "N       -0.873680 -0.298936  0.230546  0.149317 -0.823480  1.130722  0.243460   \n",
       "A        0.638243  0.203143 -0.467871 -0.177651  0.441557 -1.288819 -0.328329   \n",
       "A       -0.557148 -0.245492  0.453703  0.194837 -0.441894  1.283389  0.302763   \n",
       "both     1.191835  0.250017 -0.756421  0.008322  0.965847 -1.514096 -0.296678   \n",
       "both    -1.147944 -0.214942  0.787760 -0.004984 -0.963785  1.563147  0.356138   \n",
       "\n",
       "                7         8         9  ...       502       503       504  \\\n",
       "dataset                                ...                                 \n",
       "N       -1.651336  0.876306  0.410869  ... -0.205661  0.884320 -0.110036   \n",
       "N        1.598969 -0.853738 -0.389886  ...  0.233566 -0.868311  0.176815   \n",
       "A       -0.690078  0.338080  0.382600  ...  0.101394  0.992284  0.131838   \n",
       "A        0.688311 -0.329016 -0.355484  ... -0.102149 -1.049878 -0.144221   \n",
       "both    -1.829767  1.084059  0.481348  ... -0.231771  1.227640 -0.106458   \n",
       "both     1.812294 -1.082689 -0.435424  ...  0.163569 -1.200040  0.140668   \n",
       "\n",
       "              505       506       507       508       509       510       511  \n",
       "dataset                                                                        \n",
       "N        0.551669  0.120064 -1.499025 -0.475892  0.421616  0.588274 -0.039285  \n",
       "N       -0.519234 -0.111272  1.493482  0.507256 -0.423295 -0.650578  0.037488  \n",
       "A        0.301286 -0.543865 -1.015250  0.089568  0.206914  0.126260  0.517275  \n",
       "A       -0.285903  0.526951  0.999123 -0.091815 -0.204219 -0.187008 -0.571953  \n",
       "both     0.864913 -0.052629 -1.716936 -0.432560  0.612500  0.616408 -0.033330  \n",
       "both    -0.839621  0.058741  1.706712  0.490109 -0.601387 -0.620640  0.072079  \n",
       "\n",
       "[6 rows x 512 columns]"
      ]
     },
     "execution_count": 25,
     "metadata": {},
     "output_type": "execute_result"
    }
   ],
   "source": [
    "weights_df"
   ]
  },
  {
   "cell_type": "code",
   "execution_count": 26,
   "metadata": {},
   "outputs": [
    {
     "data": {
      "image/png": "[encoded data removed]",
      "text/plain": [
       "<Figure size 1440x720 with 1 Axes>"
      ]
     },
     "metadata": {
      "needs_background": "light"
     },
     "output_type": "display_data"
    }
   ],
   "source": [
    "weights_N_0 = weights_df.iloc[0, :]\n",
    "weights_N_0\n",
    "\n",
    "# plot weights_N_0\n",
    "plt.figure(figsize=(20, 10))\n",
    "plt.bar(range(512), weights_N_0.values)\n",
    "plt.title('Weights of the first layer of the model trained on the N dataset')\n",
    "plt.show()"
   ]
  },
  {
   "cell_type": "code",
   "execution_count": 27,
   "metadata": {},
   "outputs": [
    {
     "data": {
      "image/png": "[encoded data removed]",
      "text/plain": [
       "<Figure size 1440x720 with 1 Axes>"
      ]
     },
     "metadata": {
      "needs_background": "light"
     },
     "output_type": "display_data"
    },
    {
     "data": {
      "image/png": "[encoded data removed]",
      "text/plain": [
       "<Figure size 1440x720 with 1 Axes>"
      ]
     },
     "metadata": {
      "needs_background": "light"
     },
     "output_type": "display_data"
    }
   ],
   "source": [
    "# do the same for the other datasets\n",
    "weights_A_0 = weights_df.iloc[2, :]\n",
    "weights_both_0 = weights_df.iloc[4, :]\n",
    "\n",
    "plt.figure(figsize=(20, 10))\n",
    "plt.bar(range(512), weights_A_0.values)\n",
    "plt.title('Weights of the first layer of the model trained on the A dataset')\n",
    "plt.show()\n",
    "\n",
    "plt.figure(figsize=(20, 10))\n",
    "plt.bar(range(512), weights_both_0.values)\n",
    "plt.title('Weights of the first layer of the model trained on the both dataset')\n",
    "plt.show()"
   ]
  },
  {
   "cell_type": "code",
   "execution_count": 28,
   "metadata": {},
   "outputs": [],
   "source": [
    "sorted_features = []\n",
    "for i in range(3):\n",
    "    # get the list of weights ordered by decreasing absolute value\n",
    "    to_sort = weights[i][0]\n",
    "    to_sort = np.abs(to_sort)\n",
    "    sorted = np.argsort(to_sort)[::-1]\n",
    "    sorted_features.append(sorted)"
   ]
  },
  {
   "cell_type": "code",
   "execution_count": 29,
   "metadata": {},
   "outputs": [
    {
     "name": "stdout",
     "output_type": "stream",
     "text": [
      "Model  0  : \n",
      "\n",
      "100: 2.2245984077453613    -2.234943389892578\n",
      "162: -2.1165616512298584    2.085672616958618\n",
      "377: -1.9108648300170898    1.8961654901504517\n",
      "434: -1.8204941749572754    1.7863205671310425\n",
      "186: 1.762897253036499    -1.793614149093628\n",
      "468: 1.7402589321136475    -1.7979841232299805\n",
      "250: -1.6821120977401733    1.6262961626052856\n",
      "7: -1.6513360738754272    1.5989694595336914\n",
      "198: -1.6483559608459473    1.618848443031311\n",
      "316: -1.5771095752716064    1.5862444639205933\n",
      "Model  1  : \n",
      "\n",
      "250: -1.384472370147705    1.4185564517974854\n",
      "432: -1.3012604713439941    1.3056219816207886\n",
      "5: -1.288819432258606    1.2833894491195679\n",
      "245: -1.2772997617721558    1.277860164642334\n",
      "390: -1.2612090110778809    1.2627521753311157\n",
      "177: -1.238551139831543    1.2476054430007935\n",
      "362: -1.2271100282669067    1.2185349464416504\n",
      "470: -1.207877516746521    1.1948522329330444\n",
      "466: -1.1798899173736572    1.1622649431228638\n",
      "88: 1.1606709957122803    -1.156182885169983\n",
      "Model  2  : \n",
      "\n",
      "162: -2.488166570663452    2.5262136459350586\n",
      "100: 2.4022202491760254    -2.4096014499664307\n",
      "377: -2.332045555114746    2.391963005065918\n",
      "250: -2.0919759273529053    2.143862009048462\n",
      "468: 2.0475728511810303    -2.09686017036438\n",
      "186: 2.019037961959839    -2.061379909515381\n",
      "390: -1.9887090921401978    2.0642178058624268\n",
      "434: -1.9212236404418945    1.9342433214187622\n",
      "195: 1.8335812091827393    -1.8641856908798218\n",
      "7: -1.8297666311264038    1.812293529510498\n"
     ]
    }
   ],
   "source": [
    "for i in range(3):\n",
    "    print(\"Model \", i, \" : \\n\")\n",
    "    for feat in sorted_features[i][:10]:\n",
    "        print(f\"{int(feat)}: {weights[i][0][int(feat)]}    {weights[i][1][int(feat)]}\")"
   ]
  },
  {
   "attachments": {},
   "cell_type": "markdown",
   "metadata": {},
   "source": [
    "# NN Classification (Perceptron) : Number"
   ]
  },
  {
   "cell_type": "code",
   "execution_count": 2,
   "metadata": {},
   "outputs": [],
   "source": [
    "df_nouns_we = pd.read_csv('../Data/FlauBERT_WE/all_nouns_we.csv').drop(columns=[\"gender\"])\n",
    "df_adj_we = pd.read_csv('../Data/FlauBERT_WE/all_adjectives_we.csv').drop(columns = \"gender\")\n",
    "df_both_we = pd.concat([df_nouns_we, df_adj_we], ignore_index=True)\n",
    "# target : number\n",
    "Y_nb_N = df_nouns_we[\"number\"].apply(lambda x: 1 if x == \"singular\" else 0)\n",
    "Y_nb_A = df_adj_we[\"number\"].apply(lambda x: 1 if x == \"singular\" else 0)\n",
    "Y_nb_both = df_both_we[\"number\"].apply(lambda x: 1 if x == \"singular\" else 0)\n",
    "# features : word embeddings dimensions\n",
    "X_nb_N = df_nouns_we.drop(columns=[\"Word\", \"number\"])\n",
    "X_nb_A = df_adj_we.drop(columns=[\"Word\", \"number\"])\n",
    "X_nb_both = df_both_we.drop(columns = [\"Word\", \"number\"] )\n",
    "\n",
    "# normalize data to be between 0 and 1\n",
    "X_nb_N = (X_nb_N - X_nb_N.min()) / (X_nb_N.max() - X_nb_N.min())\n",
    "X_nb_A = (X_nb_A - X_nb_A.min()) / (X_nb_A.max() - X_nb_A.min())\n",
    "X_nb_both = (X_nb_both - X_nb_both.min()) / (X_nb_both.max() - X_nb_both.min())\n",
    "\n",
    "\n",
    "# split data into train and test sets\n",
    "X_nb_N_train, X_nb_N_test, Y_nb_N_train, Y_nb_N_test = train_test_split(X_nb_N, Y_nb_N, test_size=0.2, random_state=42)\n",
    "X_nb_A_train, X_nb_A_test, Y_nb_A_train, Y_nb_A_test = train_test_split(X_nb_A, Y_nb_A, test_size=0.2, random_state=42)\n",
    "X_nb_both_train, X_nb_both_test, Y_nb_both_train, Y_nb_both_test = train_test_split(X_nb_both, Y_nb_both, test_size=0.2, random_state=42)"
   ]
  },
  {
   "cell_type": "code",
   "execution_count": 3,
   "metadata": {},
   "outputs": [
    {
     "name": "stdout",
     "output_type": "stream",
     "text": [
      "X_nb_N_train shape :  (10590, 512)\n",
      "X_nb_N_test shape :  (2648, 512)\n",
      "Y_nb_N_train shape :  (10590,)\n",
      "Y_nb_N_test shape :  (2648,)\n",
      "X_nb_A_train shape :  (5067, 512)\n",
      "X_nb_A_test shape :  (1267, 512)\n",
      "Y_nb_A_train shape :  (5067,)\n",
      "Y_nb_A_test shape :  (1267,)\n",
      "X_nb_both_train shape :  (15657, 512)\n",
      "X_nb_both_test shape :  (3915, 512)\n"
     ]
    }
   ],
   "source": [
    "# print all the shapes\n",
    "print(\"X_nb_N_train shape : \", X_nb_N_train.shape)\n",
    "print(\"X_nb_N_test shape : \", X_nb_N_test.shape)\n",
    "print(\"Y_nb_N_train shape : \", Y_nb_N_train.shape)\n",
    "print(\"Y_nb_N_test shape : \", Y_nb_N_test.shape)\n",
    "print(\"X_nb_A_train shape : \", X_nb_A_train.shape)\n",
    "print(\"X_nb_A_test shape : \", X_nb_A_test.shape)\n",
    "print(\"Y_nb_A_train shape : \", Y_nb_A_train.shape)\n",
    "print(\"Y_nb_A_test shape : \", Y_nb_A_test.shape)\n",
    "print(\"X_nb_both_train shape : \", X_nb_both_train.shape)\n",
    "print(\"X_nb_both_test shape : \", X_nb_both_test.shape)"
   ]
  },
  {
   "cell_type": "code",
   "execution_count": 4,
   "metadata": {},
   "outputs": [],
   "source": [
    "train_feature = [X_nb_N_train, X_nb_A_train, X_nb_both_train]\n",
    "test_feature = [X_nb_N_test, X_nb_A_test, X_nb_both_test]\n",
    "train_target = [Y_nb_N_train, Y_nb_A_train, Y_nb_both_train]\n",
    "test_target = [Y_nb_N_test, Y_nb_A_test, Y_nb_both_test]"
   ]
  },
  {
   "attachments": {},
   "cell_type": "markdown",
   "metadata": {},
   "source": [
    "### Tensors"
   ]
  },
  {
   "cell_type": "code",
   "execution_count": 5,
   "metadata": {},
   "outputs": [],
   "source": [
    "# convert to tensors\n",
    "train_feature = [torch.tensor(x.values).float() for x in train_feature]\n",
    "test_feature = [torch.tensor(x.values).float() for x in test_feature]\n",
    "train_target = [torch.tensor(x.values).long() for x in train_target]\n",
    "test_target = [torch.tensor(x.values).long() for x in test_target]"
   ]
  },
  {
   "cell_type": "code",
   "execution_count": 6,
   "metadata": {},
   "outputs": [],
   "source": [
    "from torch.utils.data import TensorDataset, DataLoader\n",
    "# the TensorDataset is a ready to use class to represent your data as list of tensors. \n",
    "# Note that input_features and labels must match on the length of the first dimension\n",
    "train_sets = [TensorDataset(X_train, Y_train) for X_train, Y_train in zip(train_feature, train_target)]\n",
    "test_sets = [TensorDataset(X_valid, Y_valid) for X_valid, Y_valid in zip(test_feature, test_target)]\n",
    "\n",
    "# DataLoader shuffles and batches the data and load its in parallel using multiprocessing workers\n",
    "train_loaders = [DataLoader(train_set, batch_size=32, shuffle=True) for train_set in train_sets]\n",
    "test_loaders = [DataLoader(test_set, batch_size=32) for test_set in test_sets]"
   ]
  },
  {
   "attachments": {},
   "cell_type": "markdown",
   "metadata": {},
   "source": [
    "## Classification"
   ]
  },
  {
   "cell_type": "code",
   "execution_count": 9,
   "metadata": {},
   "outputs": [],
   "source": [
    "NNlist = []\n",
    "\n",
    "for i in range(3):\n",
    "    \n",
    "    # create a fully connected perceptron with 1 input layer (512 features) and 1 output layer (2 classes)\n",
    "    model = nn.Sequential(nn.Linear(512, 2), nn.Softmax(dim=1))\n",
    "    # define the loss function\n",
    "    loss_fn = nn.CrossEntropyLoss()\n",
    "    # define the optimizer\n",
    "    optimizer = torch.optim.Adam(model.parameters(), lr=0.001)\n",
    "    # add the model to the list\n",
    "    NNlist.append([model, loss_fn, optimizer])"
   ]
  },
  {
   "attachments": {},
   "cell_type": "markdown",
   "metadata": {},
   "source": [
    "## Train the models"
   ]
  },
  {
   "cell_type": "code",
   "execution_count": 10,
   "metadata": {},
   "outputs": [
    {
     "name": "stdout",
     "output_type": "stream",
     "text": [
      "* Training model  0\n",
      "--Epoch  0  Loss :  0.5440499186515808\n",
      "--Epoch  10  Loss :  0.3528536856174469\n",
      "--Epoch  20  Loss :  0.3297676742076874\n",
      "--Epoch  30  Loss :  0.33709916472435\n",
      "--Epoch  40  Loss :  0.3687392473220825\n",
      "--Epoch  50  Loss :  0.3336738049983978\n",
      "--Epoch  60  Loss :  0.31871163845062256\n",
      "--Epoch  70  Loss :  0.3264993131160736\n",
      "--Epoch  80  Loss :  0.32264789938926697\n",
      "--Epoch  90  Loss :  0.31724223494529724\n",
      "* Training model  1\n",
      "--Epoch  0  Loss :  0.598804235458374\n",
      "--Epoch  10  Loss :  0.3743787705898285\n",
      "--Epoch  20  Loss :  0.4013937711715698\n",
      "--Epoch  30  Loss :  0.3459959328174591\n",
      "--Epoch  40  Loss :  0.33310461044311523\n",
      "--Epoch  50  Loss :  0.3210395574569702\n",
      "--Epoch  60  Loss :  0.3290303349494934\n",
      "--Epoch  70  Loss :  0.3172324001789093\n",
      "--Epoch  80  Loss :  0.3195200562477112\n",
      "--Epoch  90  Loss :  0.32089078426361084\n",
      "* Training model  2\n",
      "--Epoch  0  Loss :  0.4789024591445923\n",
      "--Epoch  10  Loss :  0.3276904821395874\n",
      "--Epoch  20  Loss :  0.32392215728759766\n",
      "--Epoch  30  Loss :  0.33189627528190613\n",
      "--Epoch  40  Loss :  0.32869020104408264\n",
      "--Epoch  50  Loss :  0.4028612971305847\n",
      "--Epoch  60  Loss :  0.33951306343078613\n",
      "--Epoch  70  Loss :  0.3272330164909363\n",
      "--Epoch  80  Loss :  0.3141845762729645\n",
      "--Epoch  90  Loss :  0.3448585271835327\n"
     ]
    }
   ],
   "source": [
    "nb_epochs = 100\n",
    "# train the models \n",
    "for i in range(3):\n",
    "    print(\"* Training model \", i)\n",
    "    model, loss_fn, optimizer = NNlist[i]\n",
    "    # put the model in training mode\n",
    "    model.train()\n",
    "    for epoch in range(nb_epochs):\n",
    "        for X_train, Y_train in train_loaders[i]:\n",
    "            # compute the model output\n",
    "            Y_pred = model(X_train)\n",
    "            # calculate loss\n",
    "            loss = loss_fn(Y_pred, Y_train)\n",
    "            # reset the gradients\n",
    "            optimizer.zero_grad()\n",
    "            # backpropagation\n",
    "            loss.backward()\n",
    "            # update model weights\n",
    "            optimizer.step()\n",
    "\n",
    "        if epoch % 10 == 0:\n",
    "            print(\"--Epoch \", epoch, \" Loss : \", loss.item())"
   ]
  },
  {
   "cell_type": "code",
   "execution_count": 11,
   "metadata": {},
   "outputs": [
    {
     "name": "stdout",
     "output_type": "stream",
     "text": [
      "Model  0 \n",
      " Accuracy :  0.9928247734138973\n",
      " Precision :  0.9953703880310059\n",
      " Recall :  0.9936453104019165\n",
      " F1 score :  0.9945071339607239\n",
      "Confusion matrix : \n"
     ]
    },
    {
     "data": {
      "image/png": "[encoded data removed]",
      "text/plain": [
       "<Figure size 432x288 with 1 Axes>"
      ]
     },
     "metadata": {
      "needs_background": "light"
     },
     "output_type": "display_data"
    },
    {
     "name": "stdout",
     "output_type": "stream",
     "text": [
      "Model  1 \n",
      " Accuracy :  0.994475138121547\n",
      " Precision :  0.9962406158447266\n",
      " Recall :  0.9949937462806702\n",
      " F1 score :  0.9956168532371521\n",
      "Confusion matrix : \n"
     ]
    },
    {
     "data": {
      "image/png": "[encoded data removed]",
      "text/plain": [
       "<Figure size 432x288 with 1 Axes>"
      ]
     },
     "metadata": {
      "needs_background": "light"
     },
     "output_type": "display_data"
    },
    {
     "name": "stdout",
     "output_type": "stream",
     "text": [
      "Model  2 \n",
      " Accuracy :  0.9936143039591315\n",
      " Precision :  0.9936733841896057\n",
      " Recall :  0.9964314103126526\n",
      " F1 score :  0.9950504899024963\n",
      "Confusion matrix : \n"
     ]
    },
    {
     "data": {
      "image/png": "[encoded data removed]",
      "text/plain": [
       "<Figure size 432x288 with 1 Axes>"
      ]
     },
     "metadata": {
      "needs_background": "light"
     },
     "output_type": "display_data"
    }
   ],
   "source": [
    "# display the confusion matrix\n",
    "for i in range(3):\n",
    "\n",
    "    # put the model in evaluation mode\n",
    "    NNlist[i][0].eval()\n",
    "    # initialize the number of correct predictions\n",
    "    nb_correct_pred = 0\n",
    "    # initialize the number of predictions\n",
    "    nb_pred = 0\n",
    "    # initialize the confusion matrix\n",
    "    confusion_matrix = torch.zeros(2, 2)\n",
    "    # iterate over batches\n",
    "    for X_test, Y_test in test_loaders[i]:\n",
    "        # compute the model output\n",
    "        with torch.no_grad():\n",
    "            Y_pred = NNlist[i][0](X_test)\n",
    "            # get the predicted class\n",
    "            Y_pred = torch.argmax(Y_pred, dim=1)\n",
    "            # compute the number of correct predictions\n",
    "            nb_correct_pred += (Y_pred == Y_test).sum().item()\n",
    "            # compute the number of predictions\n",
    "            nb_pred += Y_pred.shape[0]\n",
    "            # update the confusion matrix\n",
    "            for t, p in zip(Y_test.view(-1), Y_pred.view(-1)):\n",
    "                confusion_matrix[t.long(), p.long()] += 1\n",
    "\n",
    "    # compute the accuracy\n",
    "    accuracy = nb_correct_pred / nb_pred\n",
    "    # compute the precision, recall and f1 score\n",
    "    precision = confusion_matrix[1, 1] / (confusion_matrix[1, 1] + confusion_matrix[0, 1])\n",
    "    recall = confusion_matrix[1, 1] / (confusion_matrix[1, 1] + confusion_matrix[1, 0])\n",
    "    f1_score = 2 * precision * recall / (precision + recall)\n",
    "    # print the results\n",
    "    print(\"Model \", i, \"\\n Accuracy : \", accuracy)\n",
    "    print(\" Precision : \", float(precision))\n",
    "    print(\" Recall : \", float(recall))\n",
    "    print(\" F1 score : \", float(f1_score))\n",
    "    print(\"Confusion matrix : \")\n",
    "    sns.heatmap(confusion_matrix, annot=True, fmt='g', cmap='Reds', cbar=False)\n",
    "    plt.show()"
   ]
  },
  {
   "cell_type": "code",
   "execution_count": 12,
   "metadata": {},
   "outputs": [
    {
     "name": "stdout",
     "output_type": "stream",
     "text": [
      "(2, 512)\n",
      "[[-0.05428017  0.8474955  -0.2600719  ... -0.07665038 -0.49273592\n",
      "   0.6974068 ]\n",
      " [ 0.09440201 -0.86792743  0.23487496 ...  0.13763265  0.4493265\n",
      "  -0.70801145]]\n"
     ]
    }
   ],
   "source": [
    "# get the weights of the first layer of the model trained on the three datasets\n",
    "weights = [NNlist[i][0][0].weight.data.numpy() for i in range(3)]\n",
    "print(weights[0].shape)\n",
    "print(weights[0])"
   ]
  },
  {
   "cell_type": "code",
   "execution_count": 13,
   "metadata": {},
   "outputs": [],
   "source": [
    "# store the weights in a pandas dataframe\n",
    "weight_df = pd.DataFrame(weights[0], columns=X_nb_N_train.columns)\n",
    "weight_df['dataset'] = 'N'\n",
    "weight_df = weight_df.append(pd.DataFrame(weights[1], columns=X_nb_A_train.columns))\n",
    "weight_df['dataset'] = weight_df['dataset'].fillna('A')\n",
    "weight_df = weight_df.append(pd.DataFrame(weights[2], columns=X_nb_both_train.columns))\n",
    "weight_df['dataset'] = weight_df['dataset'].fillna('both')\n",
    "\n",
    "# set the dataset as index\n",
    "weight_df = weight_df.set_index('dataset')"
   ]
  },
  {
   "cell_type": "code",
   "execution_count": 14,
   "metadata": {},
   "outputs": [
    {
     "data": {
      "image/png": "[encoded data removed]",
      "text/plain": [
       "<Figure size 1440x720 with 1 Axes>"
      ]
     },
     "metadata": {
      "needs_background": "light"
     },
     "output_type": "display_data"
    },
    {
     "data": {
      "image/png": "[encoded data removed]",
      "text/plain": [
       "<Figure size 1440x720 with 1 Axes>"
      ]
     },
     "metadata": {
      "needs_background": "light"
     },
     "output_type": "display_data"
    },
    {
     "data": {
      "image/png": "[encoded data removed]",
      "text/plain": [
       "<Figure size 1440x720 with 1 Axes>"
      ]
     },
     "metadata": {
      "needs_background": "light"
     },
     "output_type": "display_data"
    }
   ],
   "source": [
    "weight_N_0 = weight_df.iloc[0, :]\n",
    "weight_N_0\n",
    "\n",
    "# plot weights_N_0\n",
    "plt.figure(figsize=(20, 10))\n",
    "plt.bar(range(512), weight_N_0.values)\n",
    "plt.title('Weights of the first layer of the model trained on the N dataset')\n",
    "plt.show()\n",
    "\n",
    "# do the same for the other datasets\n",
    "weight_A_0 = weight_df.iloc[2, :]\n",
    "weight_both_0 = weight_df.iloc[4, :]\n",
    "\n",
    "plt.figure(figsize=(20, 10))\n",
    "plt.bar(range(512), weight_A_0.values)\n",
    "plt.title('Weights of the first layer of the model trained on the A dataset')\n",
    "plt.show()\n",
    "\n",
    "plt.figure(figsize=(20, 10))\n",
    "plt.bar(range(512), weight_both_0.values)\n",
    "plt.title('Weights of the first layer of the model trained on the both dataset')\n",
    "plt.show()"
   ]
  },
  {
   "cell_type": "code",
   "execution_count": 15,
   "metadata": {},
   "outputs": [
    {
     "name": "stdout",
     "output_type": "stream",
     "text": [
      "Model  0  : \n",
      "\n",
      "310: -2.792752742767334    2.752384901046753\n",
      "54: -2.3840601444244385    2.3914434909820557\n",
      "158: -2.075476884841919    2.098706007003784\n",
      "359: 1.9256991147994995    -1.951188564300537\n",
      "384: 1.7078708410263062    -1.7339001893997192\n",
      "182: -1.6865204572677612    1.6483664512634277\n",
      "285: -1.6589934825897217    1.6918779611587524\n",
      "208: 1.627899408340454    -1.6493594646453857\n",
      "172: -1.6249306201934814    1.5960391759872437\n",
      "175: -1.5643868446350098    1.5959937572479248\n",
      "Model  1  : \n",
      "\n",
      "310: -2.321359634399414    2.2920455932617188\n",
      "54: -1.647988200187683    1.6482157707214355\n",
      "285: -1.5242090225219727    1.4959254264831543\n",
      "359: 1.3792327642440796    -1.4213255643844604\n",
      "384: 1.338271141052246    -1.3034344911575317\n",
      "192: 1.252180814743042    -1.2543212175369263\n",
      "200: -1.239863634109497    1.1974321603775024\n",
      "360: 1.1877422332763672    -1.2232239246368408\n",
      "81: 1.1762264966964722    -1.2452976703643799\n",
      "445: -1.1541365385055542    1.0912978649139404\n",
      "Model  2  : \n",
      "\n",
      "310: -3.4401397705078125    3.4123761653900146\n",
      "54: -2.7477827072143555    2.6995582580566406\n",
      "359: 2.3573591709136963    -2.3376331329345703\n",
      "384: 2.214160442352295    -2.20959734916687\n",
      "158: -2.1943914890289307    2.2118289470672607\n",
      "208: 1.9360692501068115    -1.9589126110076904\n",
      "285: -1.9130876064300537    1.893965244293213\n",
      "175: -1.8680824041366577    1.8566423654556274\n",
      "200: -1.843340516090393    1.8528873920440674\n",
      "360: 1.801511287689209    -1.7804677486419678\n"
     ]
    }
   ],
   "source": [
    "sorted_feature = []\n",
    "for i in range(3):\n",
    "    # get the list of weights ordered by decreasing absolute value\n",
    "    to_sort = weights[i][0]\n",
    "    to_sort = np.abs(to_sort)\n",
    "    sorted = np.argsort(to_sort)[::-1]\n",
    "    sorted_feature.append(sorted)\n",
    "for i in range(3):\n",
    "    print(\"Model \", i, \" : \\n\")\n",
    "    for feat in sorted_feature[i][:10]:\n",
    "        print(f\"{int(feat)}: {weights[i][0][int(feat)]}    {weights[i][1][int(feat)]}\")"
   ]
  },
  {
   "cell_type": "code",
   "execution_count": null,
   "metadata": {},
   "outputs": [],
   "source": []
  }
 ],
 "metadata": {
  "kernelspec": {
   "display_name": "Python 3",
   "language": "python",
   "name": "python3"
  },
  "language_info": {
   "codemirror_mode": {
    "name": "ipython",
    "version": 3
   },
   "file_extension": ".py",
   "mimetype": "text/x-python",
   "name": "python",
   "nbconvert_exporter": "python",
   "pygments_lexer": "ipython3",
   "version": "3.10.10"
  },
  "orig_nbformat": 4,
  "vscode": {
   "interpreter": {
    "hash": "3de7a084b318d7b8bf96005cb5db4da14a27f60df0465391ef48a4c336f03bfe"
   }
  }
 },
 "nbformat": 4,
 "nbformat_minor": 2
}
